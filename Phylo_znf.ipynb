{
  "nbformat": 4,
  "nbformat_minor": 0,
  "metadata": {
    "colab": {
      "provenance": [],
      "authorship_tag": "ABX9TyPCQ+dmoIV8IZTn7xtz8YwK",
      "include_colab_link": true
    },
    "kernelspec": {
      "name": "python3",
      "display_name": "Python 3"
    },
    "language_info": {
      "name": "python"
    }
  },
  "cells": [
    {
      "cell_type": "markdown",
      "metadata": {
        "id": "view-in-github",
        "colab_type": "text"
      },
      "source": [
        "<a href=\"https://colab.research.google.com/github/bforsbe/SK2534/blob/main/Phylo_znf.ipynb\" target=\"_parent\"><img src=\"https://colab.research.google.com/assets/colab-badge.svg\" alt=\"Open In Colab\"/></a>"
      ]
    },
    {
      "cell_type": "markdown",
      "metadata": {
        "id": "7306ea7f"
      },
      "source": [
        "## Install necessary libraries and tools\n",
        "\n",
        "### Subtask:\n",
        "Install Biopython and a suitable MSA tool (e.g., Clustal Omega).\n"
      ]
    },
    {
      "cell_type": "markdown",
      "metadata": {
        "id": "afaff0c2"
      },
      "source": [
        "**Reasoning**:\n",
        "Install biopython and clustal omega using pip and apt-get respectively.\n",
        "\n"
      ]
    },
    {
      "cell_type": "code",
      "metadata": {
        "colab": {
          "base_uri": "https://localhost:8080/"
        },
        "id": "D1CkYv7wE8lB",
        "outputId": "aff8ea52-3277-4fa4-f578-6c7dd9f2cb94"
      },
      "source": [
        "%pip install biopython\n",
        "!apt-get update -y\n",
        "!apt-get install -y clustalw"
      ],
      "execution_count": 3,
      "outputs": [
        {
          "output_type": "stream",
          "name": "stdout",
          "text": [
            "Requirement already satisfied: biopython in /usr/local/lib/python3.12/dist-packages (1.85)\n",
            "Requirement already satisfied: numpy in /usr/local/lib/python3.12/dist-packages (from biopython) (2.0.2)\n",
            "Hit:1 http://security.ubuntu.com/ubuntu jammy-security InRelease\n",
            "Hit:2 https://cloud.r-project.org/bin/linux/ubuntu jammy-cran40/ InRelease\n",
            "Hit:3 https://developer.download.nvidia.com/compute/cuda/repos/ubuntu2204/x86_64  InRelease\n",
            "Hit:4 https://cli.github.com/packages stable InRelease\n",
            "Hit:5 http://archive.ubuntu.com/ubuntu jammy InRelease\n",
            "Hit:6 https://r2u.stat.illinois.edu/ubuntu jammy InRelease\n",
            "Hit:7 http://archive.ubuntu.com/ubuntu jammy-updates InRelease\n",
            "Hit:8 http://archive.ubuntu.com/ubuntu jammy-backports InRelease\n",
            "Hit:9 https://ppa.launchpadcontent.net/deadsnakes/ppa/ubuntu jammy InRelease\n",
            "Hit:10 https://ppa.launchpadcontent.net/graphics-drivers/ppa/ubuntu jammy InRelease\n",
            "Hit:11 https://ppa.launchpadcontent.net/ubuntugis/ppa/ubuntu jammy InRelease\n",
            "Reading package lists... Done\n",
            "W: Skipping acquire of configured file 'main/source/Sources' as repository 'https://r2u.stat.illinois.edu/ubuntu jammy InRelease' does not seem to provide it (sources.list entry misspelt?)\n",
            "Reading package lists... Done\n",
            "Building dependency tree... Done\n",
            "Reading state information... Done\n",
            "Suggested packages:\n",
            "  clustalx seaview\n",
            "The following NEW packages will be installed:\n",
            "  clustalw\n",
            "0 upgraded, 1 newly installed, 0 to remove and 41 not upgraded.\n",
            "Need to get 275 kB of archives.\n",
            "After this operation, 818 kB of additional disk space will be used.\n",
            "Get:1 http://archive.ubuntu.com/ubuntu jammy/universe amd64 clustalw amd64 2.1+lgpl-7 [275 kB]\n",
            "Fetched 275 kB in 1s (534 kB/s)\n",
            "Selecting previously unselected package clustalw.\n",
            "(Reading database ... 126435 files and directories currently installed.)\n",
            "Preparing to unpack .../clustalw_2.1+lgpl-7_amd64.deb ...\n",
            "Unpacking clustalw (2.1+lgpl-7) ...\n",
            "Setting up clustalw (2.1+lgpl-7) ...\n",
            "Processing triggers for man-db (2.10.2-1) ...\n"
          ]
        }
      ]
    },
    {
      "cell_type": "markdown",
      "metadata": {
        "id": "45e44cd2"
      },
      "source": [
        "## Load the fasta sequences\n",
        "\n",
        "### Subtask:\n",
        "Read the sequences from the generated FASTA file using Biopython.\n"
      ]
    },
    {
      "cell_type": "markdown",
      "metadata": {
        "id": "9f2a4863"
      },
      "source": [
        "**Reasoning**:\n",
        "Import the SeqIO module from Biopython and read the sequences from the \"output.fasta\" file using SeqIO.parse().\n",
        "\n"
      ]
    },
    {
      "cell_type": "code",
      "metadata": {
        "colab": {
          "base_uri": "https://localhost:8080/"
        },
        "id": "d9b74aa5",
        "outputId": "32190846-d28c-449f-9ad8-9b64d0f320ac"
      },
      "source": [
        "from Bio import SeqIO\n",
        "\n",
        "# Read the sequences from the FASTA file\n",
        "sequences = list(SeqIO.parse(\"output.fasta\", \"fasta\"))\n",
        "\n",
        "# Print the number of sequences read to verify\n",
        "print(f\"Number of sequences read: {len(sequences)}\")"
      ],
      "execution_count": null,
      "outputs": [
        {
          "output_type": "stream",
          "name": "stdout",
          "text": [
            "Number of sequences read: 3021\n"
          ]
        }
      ]
    },
    {
      "cell_type": "markdown",
      "metadata": {
        "id": "28392871"
      },
      "source": [
        "## Perform the multiple sequence alignment\n",
        "\n",
        "### Subtask:\n",
        "Use Biopython's interface to the chosen MSA tool to align the sequences.\n"
      ]
    },
    {
      "cell_type": "markdown",
      "metadata": {
        "id": "587b8842"
      },
      "source": [
        "**Reasoning**:\n",
        "Use Biopython's ClustalwCommandline to perform multiple sequence alignment on the extracted FASTA sequences and save the output to a new FASTA file.\n",
        "\n"
      ]
    },
    {
      "cell_type": "code",
      "metadata": {
        "colab": {
          "base_uri": "https://localhost:8080/"
        },
        "id": "utXu_T_aFOln",
        "outputId": "8ea5028f-efc9-4e05-f84a-fd669911187d"
      },
      "source": [
        "from Bio import SeqIO\n",
        "from Bio.Align.Applications import ClustalwCommandline\n",
        "\n",
        "# Read the sequences from the FASTA file\n",
        "sequences = list(SeqIO.parse(\"output.fasta\", \"fasta\"))\n",
        "\n",
        "# Modify sequence IDs to be unique\n",
        "for i, seq in enumerate(sequences):\n",
        "    seq.id = f\"{seq.id}_{i}\"\n",
        "    seq.description = \"\" # Clear description to avoid issues with some tools\n",
        "\n",
        "# Write the modified sequences to a temporary FASTA file\n",
        "temp_in_file = \"output_unique.fasta\"\n",
        "SeqIO.write(sequences, temp_in_file, \"fasta\")\n",
        "\n",
        "# Define input and output file names\n",
        "out_file = \"aligned.fasta\"\n",
        "\n",
        "# Create a ClustalwCommandline object with the temporary file\n",
        "clustalw_cline = ClustalwCommandline(\"clustalw\", infile=temp_in_file, outfile=out_file)\n",
        "\n",
        "# Run the command line tool\n",
        "stdout, stderr = clustalw_cline()\n",
        "\n",
        "# Print confirmation message\n",
        "print(f\"Multiple sequence alignment performed and saved to {out_file}\")"
      ],
      "execution_count": null,
      "outputs": [
        {
          "output_type": "stream",
          "name": "stdout",
          "text": [
            "Multiple sequence alignment performed and saved to aligned.fasta\n"
          ]
        }
      ]
    },
    {
      "cell_type": "markdown",
      "metadata": {
        "id": "faa96e6b"
      },
      "source": [
        "## Display or save the alignment\n",
        "\n",
        "### Subtask:\n",
        "Display or save the resulting MSA to a file in a common format (e.g., Stockholm, Clustal, or FASTA).\n"
      ]
    },
    {
      "cell_type": "code",
      "metadata": {
        "id": "quGEMldIFqll"
      },
      "source": [
        "# Read and print the content of the aligned FASTA file\n",
        "alignment_file = \"aligned.fasta\"\n",
        "try:\n",
        "    with open(alignment_file, \"r\") as f:\n",
        "        file_content = f.read()\n",
        "    print(\"Content of aligned.fasta:\")\n",
        "    print(file_content)\n",
        "except FileNotFoundError:\n",
        "    print(f\"Error: The file {alignment_file} was not found.\")\n",
        "except Exception as e:\n",
        "    print(f\"An error occurred while reading the file: {e}\")\n"
      ],
      "execution_count": null,
      "outputs": []
    },
    {
      "cell_type": "markdown",
      "metadata": {
        "id": "46f1a2ef"
      },
      "source": [
        "**Reasoning**:\n",
        "The output of ClustalW is in a modified FASTA format that includes a header and spacing. `AlignIO.read` with the standard \"fasta\" format is failing to parse it. I will try reading it with the \"clustal\" format, which is designed to handle Clustal output.\n",
        "\n"
      ]
    },
    {
      "cell_type": "code",
      "metadata": {
        "colab": {
          "base_uri": "https://localhost:8080/"
        },
        "id": "2f600bd3",
        "outputId": "0f230eb3-461b-4edd-b47d-344c2da1f939"
      },
      "source": [
        "from Bio import AlignIO\n",
        "\n",
        "# Read the aligned sequences from the FASTA file using the 'clustal' format\n",
        "alignment_file = \"aligned.fasta\"\n",
        "try:\n",
        "    alignment = AlignIO.read(alignment_file, \"clustal\")\n",
        "\n",
        "    # Print the alignment to the console\n",
        "    print(\"Multiple Sequence Alignment (Clustal format):\")\n",
        "    print(alignment)\n",
        "\n",
        "    # Optionally, write the alignment to a new file in FASTA format\n",
        "    output_fasta_file = \"aligned_output.fasta\"\n",
        "    AlignIO.write(alignment, output_fasta_file, \"fasta\")\n",
        "    print(f\"\\nAlignment also saved to {output_fasta_file} in FASTA format.\")\n",
        "\n",
        "except FileNotFoundError:\n",
        "    print(f\"Error: The file {alignment_file} was not found.\")\n",
        "except Exception as e:\n",
        "    print(f\"An error occurred while reading the file: {e}\")"
      ],
      "execution_count": null,
      "outputs": [
        {
          "output_type": "stream",
          "name": "stdout",
          "text": [
            "Multiple Sequence Alignment (Clustal format):\n",
            "Alignment with 3021 rows and 40 columns\n",
            "--YKCEI--CQKMFN---HKS--YLTVHAKIHQN------ A0A1B2RVU6_0\n",
            "--YKCDI--CSAVFT---TDS--ELKVHSKIHR------- AF-A0A0B7BJ65-F1-model_v4_1715\n",
            "--YKCDV--CDKSYK---VKS--SLNEHLIIH-------- AF-A0A7R9HB19-F1-model_v4_1317\n",
            "--YKCDV--CDNSFK---MKS--SLYTHLLIHTN------ AF-A0A7R8VXV2-F1-model_v4_1602\n",
            "--YKCDI--CQKSFV---NKS--NLNNHYLIHT------- AF-A0A4Y2NZM6-F1-model_v4_1736\n",
            "--YKCLI--CDKSFG---LKS--NLNYHMKIH-------- AF-A0A087U0Z0-F1-model_v4_1757\n",
            "--YHCSV--CEKCYK---TKG--GLKRHHTIVK------- AF-A0A397V9P1-F1-model_v4_2061\n",
            "--YKCEI--CKKEFK---TKH--GLKGH------------ MGYP003998274573_2901\n",
            "---KCLD--CYKKFK---TKH--RAEKHFLIHKT------ A0A1B2RVS9_55\n",
            "--YDCNV--CHKGFK---RKF--DLTKHYSIHNT------ A0A346G481_9\n",
            "--YGCGV--CGKKFK---MKH--HLVGHMKIHT------- 3.30.160.60_2711\n",
            "--YGCGV--CGKKFK---MKH--HLVGHMKIH-------- 2cshA01_2759\n",
            "--YKCDV--CDKAFK---HKH--HLTEHKRLHS------- AF-A0A077YWL4-F1-model_v4_310\n",
            "--YKCDI--CEKAFK---HKH--HLTEHKRLHS------- AF-G5EBU4-F1-model_v4_1030\n",
            "--FKCTE--CGKAFK---YKH--HLKEHLRIHS------- ProtVar_O60315_Q09028_A_2569\n",
            "--YGCNL--CGKAFY---RKS--HLGRHQKIHT------- AF-Q02525-F1-model_v4_201\n",
            "--YGCNL--CGKAFY---RKS--HLGRHQKIHT------- AF-Q02525-F1-model_v4_686\n",
            "--YKCNL--CPKEFS---RKS--SLSRHFRKHT------- AF-A0A137NPX9-F1-model_v4_1078\n",
            "...\n",
            "--YKCEF--CEYAAA---QKT--SLRYHLERH-------- 3uk3C02_2705\n",
            "\n",
            "Alignment also saved to aligned_output.fasta in FASTA format.\n"
          ]
        }
      ]
    },
    {
      "cell_type": "markdown",
      "metadata": {
        "id": "dc3d66fa"
      },
      "source": [
        "# Task\n",
        "Modify the notebook to load the FASTA file from \"https://github.com/bforsbe/SK2534/blob/main/aligned_output.fasta\", add a query sequence, perform multiple sequence alignment using ClustalW, and calculate the maximum sequence identity of the query sequence against all other sequences."
      ]
    },
    {
      "cell_type": "markdown",
      "metadata": {
        "id": "ba326cb9"
      },
      "source": [
        "## Load fasta from url\n",
        "\n",
        "### Subtask:\n",
        "Download the FASTA file from the provided URL and load the sequences into a list.\n"
      ]
    },
    {
      "cell_type": "markdown",
      "metadata": {
        "id": "c5457b0e"
      },
      "source": [
        "**Reasoning**:\n",
        "Download the FASTA file from the URL and load the sequences into a list using requests, io, and Biopython's SeqIO.\n",
        "\n"
      ]
    },
    {
      "cell_type": "code",
      "metadata": {
        "colab": {
          "base_uri": "https://localhost:8080/"
        },
        "id": "fe32dc38",
        "outputId": "3688dd1c-db1d-4e3b-c7fc-71af0d7aae47"
      },
      "source": [
        "#@title Load fasta from URL and save as template\n",
        "import requests\n",
        "import io\n",
        "from Bio import SeqIO\n",
        "\n",
        "# Define the URL of the FASTA file and the local filename\n",
        "url = \"https://raw.githubusercontent.com/bforsbe/SK2534/main/aligned_output.fasta\"\n",
        "local_fasta_file = \"template_aligned.fasta\"\n",
        "\n",
        "# Download the content of the file and save it locally if it doesn't exist\n",
        "try:\n",
        "    with open(local_fasta_file, \"r\") as f:\n",
        "        print(f\"Using existing template file: {local_fasta_file}\")\n",
        "except FileNotFoundError:\n",
        "    print(f\"Downloading template file from: {url}\")\n",
        "    response = requests.get(url)\n",
        "    response.raise_for_status() # Raise an exception for bad status codes\n",
        "    with open(local_fasta_file, \"w\") as f:\n",
        "        f.write(response.text)\n",
        "    print(f\"Template file downloaded and saved as: {local_fasta_file}\")\n",
        "\n",
        "# Read the sequences from the local FASTA file using SeqIO.parse\n",
        "sequences = list(SeqIO.parse(local_fasta_file, \"fasta\"))\n",
        "\n",
        "# Print the number of sequences loaded to verify\n",
        "print(f\"Number of sequences loaded from template: {len(sequences)}\")"
      ],
      "execution_count": 60,
      "outputs": [
        {
          "output_type": "stream",
          "name": "stdout",
          "text": [
            "Using existing template file: template_aligned.fasta\n",
            "Number of sequences loaded from template: 3021\n"
          ]
        }
      ]
    },
    {
      "cell_type": "markdown",
      "metadata": {
        "id": "1822ee8b"
      },
      "source": [
        "**Reasoning**:\n",
        "Biopython is already installed, but the previous code block failed to import it. I will retry the previous code block to download and load the FASTA file.\n",
        "\n"
      ]
    },
    {
      "cell_type": "code",
      "metadata": {
        "colab": {
          "base_uri": "https://localhost:8080/"
        },
        "id": "2307a5ed",
        "outputId": "bfd603e8-f29c-4f20-92f2-a51e8117dd4b"
      },
      "source": [
        "import requests\n",
        "import io\n",
        "from Bio import SeqIO\n",
        "\n",
        "# Define the URL of the FASTA file\n",
        "url = \"https://raw.githubusercontent.com/bforsbe/SK2534/main/aligned_output.fasta\"\n",
        "\n",
        "# Download the content of the file\n",
        "response = requests.get(url)\n",
        "response.raise_for_status() # Raise an exception for bad status codes\n",
        "\n",
        "# Use io.StringIO to wrap the downloaded content\n",
        "fasta_content = io.StringIO(response.text)\n",
        "\n",
        "# Read the sequences from the wrapped content using SeqIO.parse\n",
        "sequences = list(SeqIO.parse(fasta_content, \"fasta\"))\n",
        "\n",
        "# Print the number of sequences loaded to verify\n",
        "print(f\"Number of sequences loaded: {len(sequences)}\")"
      ],
      "execution_count": 5,
      "outputs": [
        {
          "output_type": "stream",
          "name": "stdout",
          "text": [
            "Number of sequences loaded: 3021\n"
          ]
        }
      ]
    },
    {
      "cell_type": "markdown",
      "metadata": {
        "id": "290a88af"
      },
      "source": [
        "## Add query sequence\n",
        "\n",
        "### Subtask:\n",
        "Define a query sequence and add it to the list of sequences.\n"
      ]
    },
    {
      "cell_type": "markdown",
      "metadata": {
        "id": "5ac498f6"
      },
      "source": [
        "**Reasoning**:\n",
        "Define the query sequence, create a SeqRecord for it, and add it to the existing list of sequences.\n",
        "\n"
      ]
    },
    {
      "cell_type": "code",
      "metadata": {
        "colab": {
          "base_uri": "https://localhost:8080/"
        },
        "id": "e1026ad4",
        "outputId": "a4d00046-a1c3-4bcd-f79f-42c0a06cab3d"
      },
      "source": [
        "#@title Add original and query sequence\n",
        "from Bio.Seq import Seq\n",
        "from Bio.SeqRecord import SeqRecord\n",
        "\n",
        "# Define the original and query sequence strings\n",
        "original_sequence_string = \"YKCTFGNSVFSTVKGLKRCLKVHSN\" #@param {type:\"string\"}\n",
        "query_sequence_string = \"YKCTFGNSVFSEKKGLKRALKVHSN\" #@param {type:\"string\"}\n",
        "\n",
        "# Create SeqRecord objects for the original and query sequences with fixed IDs\n",
        "original_sequence = SeqRecord(Seq(original_sequence_string), id=\"Original_Sequence\", description=\"\")\n",
        "query_sequence = SeqRecord(Seq(query_sequence_string), id=\"Query_Sequence\", description=\"\")\n",
        "\n",
        "# Create a new list of sequences including the original sequences from the template, the original, and the query\n",
        "sequences_with_original_and_query = sequences + [original_sequence, query_sequence]\n",
        "\n",
        "# Print the updated number of sequences to verify\n",
        "print(f\"Updated number of sequences (including original and query): {len(sequences_with_original_and_query)}\")"
      ],
      "execution_count": 61,
      "outputs": [
        {
          "output_type": "stream",
          "name": "stdout",
          "text": [
            "Updated number of sequences (including original and query): 3023\n"
          ]
        }
      ]
    },
    {
      "cell_type": "markdown",
      "metadata": {
        "id": "43e680b3"
      },
      "source": [
        "## Prepare sequences for alignment\n",
        "\n",
        "### Subtask:\n",
        "Modify sequence IDs to be unique and write all sequences (including the query) to a temporary FASTA file.\n"
      ]
    },
    {
      "cell_type": "markdown",
      "metadata": {
        "id": "7e1611e0"
      },
      "source": [
        "**Reasoning**:\n",
        "Modify the sequence IDs to be unique, clear descriptions, and write all sequences to a temporary FASTA file for alignment.\n",
        "\n"
      ]
    },
    {
      "cell_type": "code",
      "metadata": {
        "colab": {
          "base_uri": "https://localhost:8080/"
        },
        "cellView": "form",
        "id": "44bfd6b2",
        "outputId": "d7b751a5-e1a4-4e30-c678-78b333033180"
      },
      "source": [
        "#@title Prepare sequences for alignment\n",
        "# Modify sequence IDs to be unique and clear descriptions for the list including the query and original\n",
        "for i, seq in enumerate(sequences_with_original_and_query):\n",
        "    # Only modify IDs if they are not the original or query sequences\n",
        "    if seq.id != \"Original_Sequence\" and seq.id != \"Query_Sequence\":\n",
        "        seq.id = f\"{seq.id}_{i}\"\n",
        "    seq.description = \"\" # Clear description to avoid issues with some tools\n",
        "\n",
        "# Define a filename for the temporary FASTA file\n",
        "temp_in_file = \"temp_sequences_for_alignment.fasta\"\n",
        "\n",
        "# Write the modified sequences to the temporary FASTA file\n",
        "SeqIO.write(sequences_with_original_and_query, temp_in_file, \"fasta\")\n",
        "\n",
        "# Print confirmation message\n",
        "print(f\"Prepared sequences (including original and query) and saved to {temp_in_file}\")"
      ],
      "execution_count": 62,
      "outputs": [
        {
          "output_type": "stream",
          "name": "stdout",
          "text": [
            "Prepared sequences (including original and query) and saved to temp_sequences_for_alignment.fasta\n"
          ]
        }
      ]
    },
    {
      "cell_type": "markdown",
      "metadata": {
        "id": "52bfb8a7"
      },
      "source": [
        "## Perform multiple sequence alignment\n",
        "\n",
        "### Subtask:\n",
        "Use ClustalW to align the sequences from the temporary file and save the output to a new file.\n"
      ]
    },
    {
      "cell_type": "markdown",
      "metadata": {
        "id": "f8f24c5e"
      },
      "source": [
        "**Reasoning**:\n",
        "Use Biopython's ClustalwCommandline to perform multiple sequence alignment on the sequences in the temporary FASTA file and save the output to a new FASTA file.\n",
        "\n"
      ]
    },
    {
      "cell_type": "code",
      "metadata": {
        "colab": {
          "base_uri": "https://localhost:8080/"
        },
        "cellView": "form",
        "id": "ea50dc4e",
        "outputId": "ea8e5887-36ea-427b-96cb-383955623995"
      },
      "source": [
        "#@title Make MSA\n",
        "\n",
        "from Bio.Align.Applications import ClustalwCommandline\n",
        "\n",
        "# Define the name for the output alignment file\n",
        "out_file = \"aligned_with_query.fasta\"\n",
        "\n",
        "# Create a ClustalwCommandline object\n",
        "# Specify the path to the clustalw executable if it's not in your PATH\n",
        "clustalw_cline = ClustalwCommandline(\"clustalw\", infile=temp_in_file, outfile=out_file)\n",
        "\n",
        "# Run the command line tool\n",
        "stdout, stderr = clustalw_cline()\n",
        "\n",
        "# Print confirmation message\n",
        "print(f\"Multiple sequence alignment performed and saved to {out_file}\")"
      ],
      "execution_count": 56,
      "outputs": [
        {
          "output_type": "stream",
          "name": "stdout",
          "text": [
            "Multiple sequence alignment performed and saved to aligned_with_query.fasta\n"
          ]
        }
      ]
    },
    {
      "cell_type": "markdown",
      "metadata": {
        "id": "f087f25f"
      },
      "source": [
        "## Read the alignment\n",
        "\n",
        "### Subtask:\n",
        "Read the aligned sequences from the output file using `AlignIO.read`.\n"
      ]
    },
    {
      "cell_type": "markdown",
      "metadata": {
        "id": "a070e112"
      },
      "source": [
        "**Reasoning**:\n",
        "Read the aligned sequences from the output file using AlignIO.read with the 'fasta' format and print the alignment object.\n",
        "\n"
      ]
    },
    {
      "cell_type": "code",
      "metadata": {
        "colab": {
          "base_uri": "https://localhost:8080/"
        },
        "cellView": "form",
        "id": "0b805761",
        "outputId": "af71b5fe-4d5f-4c63-db5a-4f0ddd620e72"
      },
      "source": [
        "#@title Read alignment file\n",
        "from Bio import AlignIO\n",
        "\n",
        "# Define the name of the alignment file output by ClustalW\n",
        "alignment_file = \"aligned_with_query.fasta\"\n",
        "\n",
        "# Read the alignment file using AlignIO.read with 'clustal' format\n",
        "try:\n",
        "    alignment = AlignIO.read(alignment_file, \"clustal\")\n",
        "\n",
        "    # Print the alignment object to verify\n",
        "    print(\"Alignment object:\")\n",
        "    print(alignment)\n",
        "\n",
        "except FileNotFoundError:\n",
        "    print(f\"Error: The file {alignment_file} was not found.\")\n",
        "except Exception as e:\n",
        "    print(f\"An error occurred while reading the file: {e}\")"
      ],
      "execution_count": 57,
      "outputs": [
        {
          "output_type": "stream",
          "name": "stdout",
          "text": [
            "Alignment object:\n",
            "Alignment with 3023 rows and 49 columns\n",
            "----YGCNL---CGKAFY----RKS-----HLGRHQKIHT--------- AF-Q02525-F1-model_v4_201_15_1\n",
            "----YGCNL---CGKAFY----RKS-----HLGRHQKIHT--------- AF-Q02525-F1-model_v4_686_16_1\n",
            "----YECGK---CGKAFN----KRY-----SLVRHQKVH---------- AF-Q6P9A3-F1-model_v4_349_1652\n",
            "----YECGK---CGKAFN----KRY-----SLVRHQKVH---------- AF-Q6P9A3-F1-model_v4_839_1653\n",
            "----YECGE---CGRAFN----QHG-----HLIQHQKVHR--------- ProtVar_P15622_Q9ULJ7_B_2267_1\n",
            "----YECGE---CGRAFN----QHG-----HLIQHQKVHR--------- ProtVar_O95751_P15622-2_B_2317\n",
            "----YECGE---CGRAFN----QHG-----HLIQHQKVHR--------- ProtVar_P15622_Q9GZV8_B_2508_1\n",
            "----YECKE---CGKGFN-----RGA----HLIQHQKIHSN-------- ProtVar_O75290_P0C2W1_A_2538_1\n",
            "----YECSE---CGKAFN----QRP-----TLIRHQKIH---------- ProtVar_Q3KQV3_Q3KQV3_B_2603_1\n",
            "----YECKE---CGKAFA----SLS-----SLHRHKKTH---------- AF-Q9Y2A4-F1-model_v4_916_1659\n",
            "----YECAE---CGKAFV----RCS-----GLYRHQKTHS--------- ProtVar_Q3KQV3_Q96EG3_A_2376_1\n",
            "----YECKV---CRKAFR----QYS-----HLYQHQKTHN--------- AF-Q8NDQ6-F1-model_v4_953_1661\n",
            "----YECKV---CGKTFR---VQR------HISQHQKIHT--------- AF-Q86UE3-F1-model_v4_1044_166\n",
            "----YECKE---CGKTFR----QCS-----HLKRHQRIHT--------- AF-Q8TAF7-F1-model_v4_1026_166\n",
            "----YECKE---CGKTFC----QKS-----HLSRHQQTHIG-------- AF-Q9BY31-F1-model_v4_1060_166\n",
            "----YECNE---CGKKFH----HRS-----AFNSHQRIHK--------- AF-Q8BQC8-F1-model_v4_158_153_\n",
            "----YECNE---CGKKFH----HRS-----AFNSHQRIHK--------- AF-Q8BQC8-F1-model_v4_649_154_\n",
            "----YECTE---CGKKFY----HKS-----AFNSHQRIHR--------- ProtVar_P13994_P17014-2_B_2240\n",
            "...\n",
            "----YKCSK---CGKSFR----ESG-----ALTRHLKS----------- ProtVar_P82675_Q66K89_B_2456_9\n"
          ]
        }
      ]
    },
    {
      "cell_type": "markdown",
      "metadata": {
        "id": "04ed3f2c"
      },
      "source": [
        "## Analyze sequence identity\n",
        "\n",
        "### Subtask:\n",
        "Calculate the maximum sequence identity of the query sequence against all other sequences in the alignment.\n"
      ]
    },
    {
      "cell_type": "markdown",
      "metadata": {
        "id": "23b59b4c"
      },
      "source": [
        "**Reasoning**:\n",
        "Calculate the maximum sequence identity by iterating through the alignment, comparing the query sequence to every other sequence, and keeping track of the highest identity score found.\n",
        "\n"
      ]
    },
    {
      "cell_type": "code",
      "metadata": {
        "colab": {
          "base_uri": "https://localhost:8080/"
        },
        "cellView": "form",
        "id": "98c24d08",
        "outputId": "50d036c5-3f06-498f-d858-16696112ac19"
      },
      "source": [
        "#@title Analyze sequence identity and display best match alignment\n",
        "# Find the query and original sequences in the alignment using their fixed IDs\n",
        "query_sequence_id = \"Query_Sequence\"\n",
        "original_sequence_id = \"Original_Sequence\"\n",
        "query_seq = None\n",
        "original_seq = None\n",
        "\n",
        "for record in alignment:\n",
        "    if record.id == query_sequence_id:\n",
        "        query_seq = record\n",
        "    elif record.id == original_sequence_id:\n",
        "        original_seq = record\n",
        "\n",
        "if query_seq is None:\n",
        "    print(f\"Error: Query sequence with ID '{query_sequence_id}' not found in the alignment.\")\n",
        "else:\n",
        "    max_identity = 0.0\n",
        "    best_match_id = None\n",
        "    best_match_seq = None\n",
        "\n",
        "    # Iterate through each sequence in the alignment\n",
        "    for record in alignment:\n",
        "        # Skip the query and original sequences themselves when finding best match\n",
        "        if record.id == query_sequence_id or record.id == original_sequence_id:\n",
        "            continue\n",
        "\n",
        "        # Calculate sequence identity\n",
        "        identical_residues = 0\n",
        "        aligned_length = 0\n",
        "        for i in range(alignment.get_alignment_length()):\n",
        "            query_residue = query_seq[i]\n",
        "            current_residue = record[i]\n",
        "\n",
        "            # Only consider positions where neither sequence has a gap\n",
        "            if query_residue != '-' and current_residue != '-':\n",
        "                aligned_length += 1\n",
        "                if query_residue == current_residue:\n",
        "                    identical_residues += 1\n",
        "\n",
        "        # Avoid division by zero if there are no aligned positions\n",
        "        if aligned_length > 0:\n",
        "            identity = (identical_residues / aligned_length) * 100\n",
        "            if identity > max_identity:\n",
        "                max_identity = identity\n",
        "                best_match_id = record.id\n",
        "                best_match_seq = record\n",
        "        else:\n",
        "            identity = 0.0 # Or handle as appropriate if no comparable positions\n",
        "\n",
        "    print(f\"Maximum sequence identity of the query sequence against others (excluding original): {max_identity:.2f}%\")\n",
        "    if best_match_id:\n",
        "        print(f\"Sequence with the highest identity: {best_match_id}\")\n",
        "\n",
        "        # Display the alignment of the query, original, and the best match\n",
        "        print(\"\\nAlignment of Query Sequence, Original Sequence, and Best Match:\")\n",
        "        # Determine the maximum length of the sequence IDs for alignment\n",
        "        max_id_length = max(len(query_seq.id), len(original_seq.id) if original_seq else 0, len(best_match_id))\n",
        "\n",
        "        print(f\"{query_seq.seq} {query_seq.id.ljust(max_id_length)}\")\n",
        "        if original_seq:\n",
        "             print(f\"{original_seq.seq} {original_seq.id.ljust(max_id_length)}\")\n",
        "        print(f\"{best_match_seq.seq} {best_match_id.ljust(max_id_length)}\")"
      ],
      "execution_count": 63,
      "outputs": [
        {
          "output_type": "stream",
          "name": "stdout",
          "text": [
            "Maximum sequence identity of the query sequence against others (excluding original): 50.00%\n",
            "Sequence with the highest identity: AF-A0A6P7GX22-F1-model_v4_1625\n",
            "\n",
            "Alignment of Query Sequence, Original Sequence, and Best Match:\n",
            "----YKCTF---GNSVFS----EKK-----GLKRALKVHSN-------- Query_Sequence                \n",
            "----YKCGL---CERSFV----EKS-----ALSRHQRV-HKN------- Original_Sequence             \n",
            "----YKCEI---CFQKFS----EKG-----TLKKHLRVHT--------- AF-A0A6P7GX22-F1-model_v4_1625\n"
          ]
        }
      ]
    },
    {
      "cell_type": "markdown",
      "metadata": {
        "id": "dd5b85e6"
      },
      "source": [
        "## Analyze conservation\n",
        "\n",
        "### Subtask:\n",
        "Analyze the conservation of residues in the query sequence compared to the original sequence, and compare this to the overall conservation at those positions in the multiple sequence alignment."
      ]
    },
    {
      "cell_type": "markdown",
      "metadata": {
        "id": "df3954fd"
      },
      "source": [
        "**Reasoning**:\n",
        "Calculate the conservation score for each position in the overall alignment. Then, for each position in the query sequence, compare the residue to the corresponding residue in the original sequence and the conservation score at that position in the overall alignment. Print the results to show where the query mutation aligns with highly conserved or variable positions."
      ]
    },
    {
      "cell_type": "code",
      "metadata": {
        "colab": {
          "base_uri": "https://localhost:8080/"
        },
        "cellView": "form",
        "id": "2d49c979",
        "outputId": "4e36cfa7-e927-44a9-9f9a-cf1a28dfdc1d"
      },
      "source": [
        "#@title Analyze conservation of query sequence mutations\n",
        "# Function to calculate conservation at a given column in the alignment\n",
        "def calculate_conservation(column):\n",
        "    \"\"\"Calculates the conservation score for a column in a multiple sequence alignment.\"\"\"\n",
        "    # Count the occurrences of each residue (excluding gaps)\n",
        "    residue_counts = {}\n",
        "    total_residues = 0\n",
        "    for residue in column:\n",
        "        if residue != '-':\n",
        "            total_residues += 1\n",
        "            residue_counts[residue] = residue_counts.get(residue, 0) + 1\n",
        "\n",
        "    # Calculate the conservation score (simple frequency of the most common residue)\n",
        "    if total_residues == 0:\n",
        "        return 0.0\n",
        "    max_count = max(residue_counts.values()) if residue_counts else 0\n",
        "    conservation = (max_count / total_residues) * 100\n",
        "    return conservation\n",
        "\n",
        "# Find the query and original sequences in the alignment\n",
        "query_sequence_id = \"Query_Sequence\"\n",
        "original_sequence_id = \"Original_Sequence\"\n",
        "query_seq = None\n",
        "original_seq = None\n",
        "\n",
        "for record in alignment:\n",
        "    if record.id == query_sequence_id:\n",
        "        query_seq = record\n",
        "    elif record.id == original_sequence_id:\n",
        "        original_seq = record\n",
        "\n",
        "if query_seq is None or original_seq is None:\n",
        "    print(\"Error: Query or Original sequence not found in the alignment.\")\n",
        "else:\n",
        "    print(\"Conservation Analysis:\")\n",
        "    print(\"-\" * 60)\n",
        "    print(f\"{'Position':<10} {'Original':<10} {'Query':<10} {'Overall Conservation (%)':<25} {'Observation':<15}\")\n",
        "    print(\"-\" * 60)\n",
        "\n",
        "    # Iterate through the alignment positions\n",
        "    for i in range(alignment.get_alignment_length()):\n",
        "        original_residue = original_seq[i]\n",
        "        query_residue = query_seq[i]\n",
        "\n",
        "        # Skip if both original and query have gaps\n",
        "        if original_residue == '-' and query_residue == '-':\n",
        "            continue\n",
        "\n",
        "        # Calculate conservation at this position in the overall alignment\n",
        "        column = alignment[:, i]\n",
        "        overall_conservation = calculate_conservation(column)\n",
        "\n",
        "        observation = \"\"\n",
        "        if original_residue != '-' and query_residue != '-':\n",
        "            if original_residue != query_residue:\n",
        "                observation = \"Mutation\"\n",
        "                if overall_conservation > 70: # Example threshold for high conservation\n",
        "                    observation += \" (Highly Conserved)\"\n",
        "                elif overall_conservation < 30: # Example threshold for low conservation\n",
        "                    observation += \" (Variable)\"\n",
        "            else:\n",
        "                 observation = \"No Mutation\"\n",
        "\n",
        "\n",
        "        print(f\"{i:<10} {original_residue:<10} {query_residue:<10} {overall_conservation:<25.2f} {observation:<15}\")\n",
        "\n",
        "    print(\"-\" * 60)"
      ],
      "execution_count": 66,
      "outputs": [
        {
          "output_type": "stream",
          "name": "stdout",
          "text": [
            "Conservation Analysis:\n",
            "------------------------------------------------------------\n",
            "Position   Original   Query      Overall Conservation (%)  Observation    \n",
            "------------------------------------------------------------\n",
            "4          Y          Y          70.73                     No Mutation    \n",
            "5          K          K          35.14                     No Mutation    \n",
            "6          C          C          99.14                     No Mutation    \n",
            "7          G          T          13.63                     Mutation (Variable)\n",
            "8          L          F          37.13                     Mutation       \n",
            "12         C          G          99.83                     Mutation (Highly Conserved)\n",
            "13         E          N          52.56                     Mutation       \n",
            "14         R          S          69.63                     Mutation       \n",
            "15         S          V          31.96                     Mutation       \n",
            "16         F          F          91.46                     No Mutation    \n",
            "17         V          S          27.46                     Mutation (Variable)\n",
            "22         E          E          25.49                     No Mutation    \n",
            "23         K          K          29.09                     No Mutation    \n",
            "24         S          K          64.22                     Mutation       \n",
            "30         A          G          21.11                     Mutation (Variable)\n",
            "31         L          L          92.42                     No Mutation    \n",
            "32         S          K          18.60                     Mutation (Variable)\n",
            "33         R          R          36.02                     No Mutation    \n",
            "34         H          A          99.77                     Mutation (Highly Conserved)\n",
            "35         Q          L          44.81                     Mutation       \n",
            "36         R          K          70.41                     Mutation (Highly Conserved)\n",
            "37         V          V          40.44                     No Mutation    \n",
            "38         -          H          94.68                                    \n",
            "39         H          S          61.16                     Mutation       \n",
            "40         K          N          22.04                     Mutation (Variable)\n",
            "41         N          -          27.18                                    \n",
            "------------------------------------------------------------\n"
          ]
        }
      ]
    },
    {
      "cell_type": "markdown",
      "metadata": {
        "id": "1271d3f9"
      },
      "source": [
        "## Analyze Sequence Identity Distribution\n",
        "\n",
        "### Subtask:\n",
        "Calculate sequence identity against original and query sequences and visualize the distribution and relationship."
      ]
    },
    {
      "cell_type": "markdown",
      "metadata": {
        "id": "6e1fdef1"
      },
      "source": [
        "**Reasoning**:\n",
        "Calculate the sequence identity of each sequence in the alignment against the original and query sequences. Store these identities and then use matplotlib and seaborn to create a histogram of identities against the original and a scatterplot of identities against the original versus identities against the query."
      ]
    },
    {
      "cell_type": "code",
      "metadata": {
        "colab": {
          "base_uri": "https://localhost:8080/",
          "height": 550
        },
        "id": "e1745cea",
        "outputId": "57f05995-afa5-4d2c-baaa-451fecbf62e9"
      },
      "source": [
        "#@title Analyze and visualize sequence identity distribution\n",
        "import matplotlib.pyplot as plt\n",
        "import seaborn as sns\n",
        "import pandas as pd\n",
        "\n",
        "# Find the query and original sequences in the alignment\n",
        "query_sequence_id = \"Query_Sequence\"\n",
        "original_sequence_id = \"Original_Sequence\"\n",
        "query_seq = None\n",
        "original_seq = None\n",
        "\n",
        "for record in alignment:\n",
        "    if record.id == query_sequence_id:\n",
        "        query_seq = record\n",
        "    elif record.id == original_sequence_id:\n",
        "        original_seq = record\n",
        "\n",
        "if query_seq is None or original_seq is None:\n",
        "    print(\"Error: Query or Original sequence not found in the alignment.\")\n",
        "else:\n",
        "    identity_data = []\n",
        "    # Iterate through each sequence in the alignment\n",
        "    for record in alignment:\n",
        "        # Skip the query and original sequences themselves\n",
        "        if record.id == query_sequence_id or record.id == original_sequence_id:\n",
        "            continue\n",
        "\n",
        "        # Calculate sequence identity against original sequence\n",
        "        identical_residues_original = 0\n",
        "        aligned_length_original = 0\n",
        "        for i in range(alignment.get_alignment_length()):\n",
        "            original_residue = original_seq[i]\n",
        "            current_residue = record[i]\n",
        "\n",
        "            if original_residue != '-' and current_residue != '-':\n",
        "                aligned_length_original += 1\n",
        "                if original_residue == current_residue:\n",
        "                    identical_residues_original += 1\n",
        "\n",
        "        identity_original = (identical_residues_original / aligned_length_original) * 100 if aligned_length_original > 0 else 0.0\n",
        "\n",
        "        # Calculate sequence identity against query sequence\n",
        "        identical_residues_query = 0\n",
        "        aligned_length_query = 0\n",
        "        for i in range(alignment.get_alignment_length()):\n",
        "            query_residue = query_seq[i]\n",
        "            current_residue = record[i]\n",
        "\n",
        "            if query_residue != '-' and current_residue != '-':\n",
        "                aligned_length_query += 1\n",
        "                if query_residue == current_residue:\n",
        "                    identical_residues_query += 1\n",
        "\n",
        "        identity_query = (identical_residues_query / aligned_length_query) * 100 if aligned_length_query > 0 else 0.0\n",
        "\n",
        "        identity_data.append({'ID': record.id, 'Identity_vs_Original': identity_original, 'Identity_vs_Query': identity_query})\n",
        "\n",
        "    # Create a pandas DataFrame\n",
        "    identity_df = pd.DataFrame(identity_data)\n",
        "\n",
        "    # Plotting\n",
        "    plt.figure(figsize=(12, 6))\n",
        "\n",
        "    # Histogram of identity against original\n",
        "    plt.subplot(1, 2, 1)\n",
        "    sns.histplot(identity_df['Identity_vs_Original'], bins=20, kde=True)\n",
        "    plt.title('Distribution of Sequence Identity vs. Original Sequence')\n",
        "    plt.xlabel('Sequence Identity (%)')\n",
        "    plt.ylabel('Frequency')\n",
        "\n",
        "    # Scatterplot of identity vs original vs identity vs query\n",
        "    plt.subplot(1, 2, 2)\n",
        "    sns.scatterplot(data=identity_df, x='Identity_vs_Original', y='Identity_vs_Query')\n",
        "    plt.title('Sequence Identity vs. Original vs. Query')\n",
        "    plt.xlabel('Identity vs. Original (%)')\n",
        "    plt.ylabel('Identity vs. Query (%)')\n",
        "\n",
        "    plt.tight_layout()\n",
        "    plt.show()"
      ],
      "execution_count": 67,
      "outputs": [
        {
          "output_type": "display_data",
          "data": {
            "text/plain": [
              "<Figure size 1200x600 with 2 Axes>"
            ],
            "image/png": "[encoded data removed]"
          },
          "metadata": {}
        }
      ]
    },
    {
      "cell_type": "markdown",
      "metadata": {
        "id": "39d197d7"
      },
      "source": [
        "## Display results\n",
        "\n",
        "### Subtask:\n",
        "Print the maximum sequence identity.\n"
      ]
    },
    {
      "cell_type": "markdown",
      "metadata": {
        "id": "4d8f967c"
      },
      "source": [
        "**Reasoning**:\n",
        "Print the value of the `max_identity` variable with a descriptive message as requested.\n",
        "\n"
      ]
    },
    {
      "cell_type": "code",
      "metadata": {
        "colab": {
          "base_uri": "https://localhost:8080/"
        },
        "id": "16aad070",
        "outputId": "8d386dec-1449-42dd-85c6-66650d0c91c6"
      },
      "source": [
        "#@title Display maximum sequence identity\n",
        "print(f\"The maximum sequence identity of the query sequence against all other sequences is: {max_identity:.2f}%\")"
      ],
      "execution_count": 64,
      "outputs": [
        {
          "output_type": "stream",
          "name": "stdout",
          "text": [
            "The maximum sequence identity of the query sequence against all other sequences is: 50.00%\n"
          ]
        }
      ]
    }
  ]
}