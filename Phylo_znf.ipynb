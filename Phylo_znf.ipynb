{
  "nbformat": 4,
  "nbformat_minor": 0,
  "metadata": {
    "colab": {
      "provenance": [],
      "authorship_tag": "ABX9TyOW4xAWxeo5kSn8d7Q6q5nb",
      "include_colab_link": true
    },
    "kernelspec": {
      "name": "python3",
      "display_name": "Python 3"
    },
    "language_info": {
      "name": "python"
    }
  },
  "cells": [
    {
      "cell_type": "markdown",
      "metadata": {
        "id": "view-in-github",
        "colab_type": "text"
      },
      "source": [
        "<a href=\"https://colab.research.google.com/github/bforsbe/SK2534/blob/main/Phylo_znf.ipynb\" target=\"_parent\"><img src=\"https://colab.research.google.com/assets/colab-badge.svg\" alt=\"Open In Colab\"/></a>"
      ]
    },
    {
      "cell_type": "markdown",
      "metadata": {
        "id": "7306ea7f"
      },
      "source": [
        "## Install necessary libraries and tools\n",
        "\n",
        "### Subtask:\n",
        "Install Biopython and a suitable MSA tool (e.g., Clustal Omega).\n"
      ]
    },
    {
      "cell_type": "markdown",
      "metadata": {
        "id": "afaff0c2"
      },
      "source": [
        "**Reasoning**:\n",
        "Install biopython and clustal omega using pip and apt-get respectively.\n",
        "\n"
      ]
    },
    {
      "cell_type": "code",
      "metadata": {
        "colab": {
          "base_uri": "https://localhost:8080/"
        },
        "id": "D1CkYv7wE8lB",
        "outputId": "7b3c99b3-5c72-417d-f30d-57ca57fb583c"
      },
      "source": [
        "%pip install biopython\n",
        "!apt-get update -y\n",
        "!apt-get install -y clustalomega"
      ],
      "execution_count": 15,
      "outputs": [
        {
          "output_type": "stream",
          "name": "stdout",
          "text": [
            "\r0% [Working]\r            \rHit:1 http://archive.ubuntu.com/ubuntu jammy InRelease\n",
            "\r0% [Waiting for headers] [Waiting for headers] [Connected to cloud.r-project.or\r                                                                               \rGet:2 http://archive.ubuntu.com/ubuntu jammy-updates InRelease [128 kB]\n",
            "\r                                                                               \rGet:3 http://archive.ubuntu.com/ubuntu jammy-backports InRelease [127 kB]\n",
            "\r                                                                               \rGet:4 http://security.ubuntu.com/ubuntu jammy-security InRelease [129 kB]\n",
            "\r0% [3 InRelease 127 kB/127 kB 100%] [Connected to cloud.r-project.org (3.171.85\r0% [Connected to cloud.r-project.org (3.171.85.81)] [Connected to r2u.stat.illi\r                                                                               \rHit:5 https://cli.github.com/packages stable InRelease\n",
            "\r0% [Connected to cloud.r-project.org (3.171.85.81)] [Connected to r2u.stat.illi\r                                                                               \rGet:6 https://cloud.r-project.org/bin/linux/ubuntu jammy-cran40/ InRelease [3,632 B]\n",
            "Hit:7 https://developer.download.nvidia.com/compute/cuda/repos/ubuntu2204/x86_64  InRelease\n",
            "Get:8 https://r2u.stat.illinois.edu/ubuntu jammy InRelease [6,555 B]\n",
            "Hit:9 https://ppa.launchpadcontent.net/deadsnakes/ppa/ubuntu jammy InRelease\n",
            "Hit:10 https://ppa.launchpadcontent.net/graphics-drivers/ppa/ubuntu jammy InRelease\n",
            "Get:11 http://archive.ubuntu.com/ubuntu jammy-updates/main amd64 Packages [3,646 kB]\n",
            "Hit:12 https://ppa.launchpadcontent.net/ubuntugis/ppa/ubuntu jammy InRelease\n",
            "Get:13 http://archive.ubuntu.com/ubuntu jammy-updates/universe amd64 Packages [1,576 kB]\n",
            "Get:14 https://r2u.stat.illinois.edu/ubuntu jammy/main amd64 Packages [2,802 kB]\n",
            "Get:15 https://r2u.stat.illinois.edu/ubuntu jammy/main all Packages [9,287 kB]\n",
            "Fetched 17.7 MB in 2s (7,295 kB/s)\n",
            "Reading package lists... Done\n",
            "W: Skipping acquire of configured file 'main/source/Sources' as repository 'https://r2u.stat.illinois.edu/ubuntu jammy InRelease' does not seem to provide it (sources.list entry misspelt?)\n",
            "Reading package lists... Done\n",
            "Building dependency tree... Done\n",
            "Reading state information... Done\n",
            "E: Unable to locate package clustalomega\n"
          ]
        }
      ]
    },
    {
      "cell_type": "markdown",
      "metadata": {
        "id": "ed6babc7"
      },
      "source": [
        "**Reasoning**:\n",
        "Clustal Omega could not be located with the previous command. I will try installing it from a specific repository.\n",
        "\n"
      ]
    },
    {
      "cell_type": "code",
      "metadata": {
        "colab": {
          "base_uri": "https://localhost:8080/"
        },
        "id": "5301a653",
        "outputId": "0ebf9120-3598-4c3f-8170-4714b97cdd61"
      },
      "source": [
        "!apt-get update -y\n",
        "!apt-get install -y clustalw"
      ],
      "execution_count": 16,
      "outputs": [
        {
          "output_type": "stream",
          "name": "stdout",
          "text": [
            "\r0% [Working]\r            \rHit:1 https://cloud.r-project.org/bin/linux/ubuntu jammy-cran40/ InRelease\n",
            "\r0% [Connecting to archive.ubuntu.com] [Connecting to security.ubuntu.com (185.1\r                                                                               \rHit:2 https://developer.download.nvidia.com/compute/cuda/repos/ubuntu2204/x86_64  InRelease\n",
            "\r                                                                               \rHit:3 https://cli.github.com/packages stable InRelease\n",
            "\r0% [Connecting to archive.ubuntu.com] [Connecting to security.ubuntu.com (185.1\r                                                                               \rHit:4 http://archive.ubuntu.com/ubuntu jammy InRelease\n",
            "\r0% [Waiting for headers] [Waiting for headers] [Connected to ppa.launchpadconte\r                                                                               \rHit:5 http://archive.ubuntu.com/ubuntu jammy-updates InRelease\n",
            "\r0% [Waiting for headers] [Waiting for headers] [Waiting for headers] [Connected\r                                                                               \rHit:6 http://archive.ubuntu.com/ubuntu jammy-backports InRelease\n",
            "\r0% [Waiting for headers] [Waiting for headers] [Connected to ppa.launchpadconte\r                                                                               \rGet:7 http://security.ubuntu.com/ubuntu jammy-security InRelease [129 kB]\n",
            "Hit:8 https://r2u.stat.illinois.edu/ubuntu jammy InRelease\n",
            "Hit:9 https://ppa.launchpadcontent.net/deadsnakes/ppa/ubuntu jammy InRelease\n",
            "Hit:10 https://ppa.launchpadcontent.net/graphics-drivers/ppa/ubuntu jammy InRelease\n",
            "Hit:11 https://ppa.launchpadcontent.net/ubuntugis/ppa/ubuntu jammy InRelease\n",
            "Get:12 http://security.ubuntu.com/ubuntu jammy-security/main amd64 Packages [3,327 kB]\n",
            "Get:13 http://security.ubuntu.com/ubuntu jammy-security/universe amd64 Packages [1,274 kB]\n",
            "Fetched 4,729 kB in 2s (2,521 kB/s)\n",
            "Reading package lists... Done\n",
            "W: Skipping acquire of configured file 'main/source/Sources' as repository 'https://r2u.stat.illinois.edu/ubuntu jammy InRelease' does not seem to provide it (sources.list entry misspelt?)\n",
            "Reading package lists... Done\n",
            "Building dependency tree... Done\n",
            "Reading state information... Done\n",
            "Suggested packages:\n",
            "  clustalx seaview\n",
            "The following NEW packages will be installed:\n",
            "  clustalw\n",
            "0 upgraded, 1 newly installed, 0 to remove and 41 not upgraded.\n",
            "Need to get 275 kB of archives.\n",
            "After this operation, 818 kB of additional disk space will be used.\n",
            "Get:1 http://archive.ubuntu.com/ubuntu jammy/universe amd64 clustalw amd64 2.1+lgpl-7 [275 kB]\n",
            "Fetched 275 kB in 0s (2,876 kB/s)\n",
            "Selecting previously unselected package clustalw.\n",
            "(Reading database ... 126435 files and directories currently installed.)\n",
            "Preparing to unpack .../clustalw_2.1+lgpl-7_amd64.deb ...\n",
            "Unpacking clustalw (2.1+lgpl-7) ...\n",
            "Setting up clustalw (2.1+lgpl-7) ...\n",
            "Processing triggers for man-db (2.10.2-1) ...\n"
          ]
        }
      ]
    },
    {
      "cell_type": "markdown",
      "metadata": {
        "id": "45e44cd2"
      },
      "source": [
        "## Load the fasta sequences\n",
        "\n",
        "### Subtask:\n",
        "Read the sequences from the generated FASTA file using Biopython.\n"
      ]
    },
    {
      "cell_type": "markdown",
      "metadata": {
        "id": "9f2a4863"
      },
      "source": [
        "**Reasoning**:\n",
        "Import the SeqIO module from Biopython and read the sequences from the \"output.fasta\" file using SeqIO.parse().\n",
        "\n"
      ]
    },
    {
      "cell_type": "code",
      "metadata": {
        "colab": {
          "base_uri": "https://localhost:8080/"
        },
        "id": "d9b74aa5",
        "outputId": "32190846-d28c-449f-9ad8-9b64d0f320ac"
      },
      "source": [
        "from Bio import SeqIO\n",
        "\n",
        "# Read the sequences from the FASTA file\n",
        "sequences = list(SeqIO.parse(\"output.fasta\", \"fasta\"))\n",
        "\n",
        "# Print the number of sequences read to verify\n",
        "print(f\"Number of sequences read: {len(sequences)}\")"
      ],
      "execution_count": 17,
      "outputs": [
        {
          "output_type": "stream",
          "name": "stdout",
          "text": [
            "Number of sequences read: 3021\n"
          ]
        }
      ]
    },
    {
      "cell_type": "markdown",
      "metadata": {
        "id": "28392871"
      },
      "source": [
        "## Perform the multiple sequence alignment\n",
        "\n",
        "### Subtask:\n",
        "Use Biopython's interface to the chosen MSA tool to align the sequences.\n"
      ]
    },
    {
      "cell_type": "markdown",
      "metadata": {
        "id": "587b8842"
      },
      "source": [
        "**Reasoning**:\n",
        "Use Biopython's ClustalwCommandline to perform multiple sequence alignment on the extracted FASTA sequences and save the output to a new FASTA file.\n",
        "\n"
      ]
    },
    {
      "cell_type": "code",
      "metadata": {
        "colab": {
          "base_uri": "https://localhost:8080/"
        },
        "id": "utXu_T_aFOln",
        "outputId": "8ea5028f-efc9-4e05-f84a-fd669911187d"
      },
      "source": [
        "from Bio import SeqIO\n",
        "from Bio.Align.Applications import ClustalwCommandline\n",
        "\n",
        "# Read the sequences from the FASTA file\n",
        "sequences = list(SeqIO.parse(\"output.fasta\", \"fasta\"))\n",
        "\n",
        "# Modify sequence IDs to be unique\n",
        "for i, seq in enumerate(sequences):\n",
        "    seq.id = f\"{seq.id}_{i}\"\n",
        "    seq.description = \"\" # Clear description to avoid issues with some tools\n",
        "\n",
        "# Write the modified sequences to a temporary FASTA file\n",
        "temp_in_file = \"output_unique.fasta\"\n",
        "SeqIO.write(sequences, temp_in_file, \"fasta\")\n",
        "\n",
        "# Define input and output file names\n",
        "out_file = \"aligned.fasta\"\n",
        "\n",
        "# Create a ClustalwCommandline object with the temporary file\n",
        "clustalw_cline = ClustalwCommandline(\"clustalw\", infile=temp_in_file, outfile=out_file)\n",
        "\n",
        "# Run the command line tool\n",
        "stdout, stderr = clustalw_cline()\n",
        "\n",
        "# Print confirmation message\n",
        "print(f\"Multiple sequence alignment performed and saved to {out_file}\")"
      ],
      "execution_count": 19,
      "outputs": [
        {
          "output_type": "stream",
          "name": "stdout",
          "text": [
            "Multiple sequence alignment performed and saved to aligned.fasta\n"
          ]
        }
      ]
    },
    {
      "cell_type": "markdown",
      "metadata": {
        "id": "faa96e6b"
      },
      "source": [
        "## Display or save the alignment\n",
        "\n",
        "### Subtask:\n",
        "Display or save the resulting MSA to a file in a common format (e.g., Stockholm, Clustal, or FASTA).\n"
      ]
    },
    {
      "cell_type": "code",
      "metadata": {
        "id": "quGEMldIFqll"
      },
      "source": [
        "# Read and print the content of the aligned FASTA file\n",
        "alignment_file = \"aligned.fasta\"\n",
        "try:\n",
        "    with open(alignment_file, \"r\") as f:\n",
        "        file_content = f.read()\n",
        "    print(\"Content of aligned.fasta:\")\n",
        "    print(file_content)\n",
        "except FileNotFoundError:\n",
        "    print(f\"Error: The file {alignment_file} was not found.\")\n",
        "except Exception as e:\n",
        "    print(f\"An error occurred while reading the file: {e}\")\n"
      ],
      "execution_count": null,
      "outputs": []
    },
    {
      "cell_type": "markdown",
      "metadata": {
        "id": "46f1a2ef"
      },
      "source": [
        "**Reasoning**:\n",
        "The output of ClustalW is in a modified FASTA format that includes a header and spacing. `AlignIO.read` with the standard \"fasta\" format is failing to parse it. I will try reading it with the \"clustal\" format, which is designed to handle Clustal output.\n",
        "\n"
      ]
    },
    {
      "cell_type": "code",
      "metadata": {
        "colab": {
          "base_uri": "https://localhost:8080/"
        },
        "id": "2f600bd3",
        "outputId": "0f230eb3-461b-4edd-b47d-344c2da1f939"
      },
      "source": [
        "from Bio import AlignIO\n",
        "\n",
        "# Read the aligned sequences from the FASTA file using the 'clustal' format\n",
        "alignment_file = \"aligned.fasta\"\n",
        "try:\n",
        "    alignment = AlignIO.read(alignment_file, \"clustal\")\n",
        "\n",
        "    # Print the alignment to the console\n",
        "    print(\"Multiple Sequence Alignment (Clustal format):\")\n",
        "    print(alignment)\n",
        "\n",
        "    # Optionally, write the alignment to a new file in FASTA format\n",
        "    output_fasta_file = \"aligned_output.fasta\"\n",
        "    AlignIO.write(alignment, output_fasta_file, \"fasta\")\n",
        "    print(f\"\\nAlignment also saved to {output_fasta_file} in FASTA format.\")\n",
        "\n",
        "except FileNotFoundError:\n",
        "    print(f\"Error: The file {alignment_file} was not found.\")\n",
        "except Exception as e:\n",
        "    print(f\"An error occurred while reading the file: {e}\")"
      ],
      "execution_count": 22,
      "outputs": [
        {
          "output_type": "stream",
          "name": "stdout",
          "text": [
            "Multiple Sequence Alignment (Clustal format):\n",
            "Alignment with 3021 rows and 40 columns\n",
            "--YKCEI--CQKMFN---HKS--YLTVHAKIHQN------ A0A1B2RVU6_0\n",
            "--YKCDI--CSAVFT---TDS--ELKVHSKIHR------- AF-A0A0B7BJ65-F1-model_v4_1715\n",
            "--YKCDV--CDKSYK---VKS--SLNEHLIIH-------- AF-A0A7R9HB19-F1-model_v4_1317\n",
            "--YKCDV--CDNSFK---MKS--SLYTHLLIHTN------ AF-A0A7R8VXV2-F1-model_v4_1602\n",
            "--YKCDI--CQKSFV---NKS--NLNNHYLIHT------- AF-A0A4Y2NZM6-F1-model_v4_1736\n",
            "--YKCLI--CDKSFG---LKS--NLNYHMKIH-------- AF-A0A087U0Z0-F1-model_v4_1757\n",
            "--YHCSV--CEKCYK---TKG--GLKRHHTIVK------- AF-A0A397V9P1-F1-model_v4_2061\n",
            "--YKCEI--CKKEFK---TKH--GLKGH------------ MGYP003998274573_2901\n",
            "---KCLD--CYKKFK---TKH--RAEKHFLIHKT------ A0A1B2RVS9_55\n",
            "--YDCNV--CHKGFK---RKF--DLTKHYSIHNT------ A0A346G481_9\n",
            "--YGCGV--CGKKFK---MKH--HLVGHMKIHT------- 3.30.160.60_2711\n",
            "--YGCGV--CGKKFK---MKH--HLVGHMKIH-------- 2cshA01_2759\n",
            "--YKCDV--CDKAFK---HKH--HLTEHKRLHS------- AF-A0A077YWL4-F1-model_v4_310\n",
            "--YKCDI--CEKAFK---HKH--HLTEHKRLHS------- AF-G5EBU4-F1-model_v4_1030\n",
            "--FKCTE--CGKAFK---YKH--HLKEHLRIHS------- ProtVar_O60315_Q09028_A_2569\n",
            "--YGCNL--CGKAFY---RKS--HLGRHQKIHT------- AF-Q02525-F1-model_v4_201\n",
            "--YGCNL--CGKAFY---RKS--HLGRHQKIHT------- AF-Q02525-F1-model_v4_686\n",
            "--YKCNL--CPKEFS---RKS--SLSRHFRKHT------- AF-A0A137NPX9-F1-model_v4_1078\n",
            "...\n",
            "--YKCEF--CEYAAA---QKT--SLRYHLERH-------- 3uk3C02_2705\n",
            "\n",
            "Alignment also saved to aligned_output.fasta in FASTA format.\n"
          ]
        }
      ]
    }
  ]
}