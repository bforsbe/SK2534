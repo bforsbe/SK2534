{
  "nbformat": 4,
  "nbformat_minor": 0,
  "metadata": {
    "colab": {
      "provenance": [],
      "authorship_tag": "ABX9TyOga5Atxw/IzVdELnuhTMYC",
      "include_colab_link": true
    },
    "kernelspec": {
      "name": "python3",
      "display_name": "Python 3"
    },
    "language_info": {
      "name": "python"
    }
  },
  "cells": [
    {
      "cell_type": "markdown",
      "metadata": {
        "id": "view-in-github",
        "colab_type": "text"
      },
      "source": [
        "<a href=\"https://colab.research.google.com/github/bforsbe/SK2534/blob/main/Phylo_znf.ipynb\" target=\"_parent\"><img src=\"https://colab.research.google.com/assets/colab-badge.svg\" alt=\"Open In Colab\"/></a>"
      ]
    },
    {
      "cell_type": "markdown",
      "metadata": {
        "id": "7306ea7f"
      },
      "source": [
        "## Install necessary libraries and tools\n",
        "\n",
        "### Subtask:\n",
        "Install Biopython and a suitable MSA tool (e.g., Clustal Omega).\n"
      ]
    },
    {
      "cell_type": "markdown",
      "metadata": {
        "id": "afaff0c2"
      },
      "source": [
        "**Reasoning**:\n",
        "Install biopython and clustal omega using pip and apt-get respectively.\n",
        "\n"
      ]
    },
    {
      "cell_type": "code",
      "metadata": {
        "colab": {
          "base_uri": "https://localhost:8080/"
        },
        "id": "D1CkYv7wE8lB",
        "outputId": "b87ea5e1-e087-4f89-fc1d-f10d73bc340f",
        "collapsed": true
      },
      "source": [
        "%pip install biopython\n",
        "!apt-get update -y\n",
        "!apt-get install -y clustalw"
      ],
      "execution_count": 1,
      "outputs": [
        {
          "output_type": "stream",
          "name": "stdout",
          "text": [
            "Collecting biopython\n",
            "  Downloading biopython-1.85-cp312-cp312-manylinux_2_17_x86_64.manylinux2014_x86_64.whl.metadata (13 kB)\n",
            "Requirement already satisfied: numpy in /usr/local/lib/python3.12/dist-packages (from biopython) (2.0.2)\n",
            "Downloading biopython-1.85-cp312-cp312-manylinux_2_17_x86_64.manylinux2014_x86_64.whl (3.3 MB)\n",
            "\u001b[2K   \u001b[90m━━━━━━━━━━━━━━━━━━━━━━━━━━━━━━━━━━━━━━━━\u001b[0m \u001b[32m3.3/3.3 MB\u001b[0m \u001b[31m19.7 MB/s\u001b[0m eta \u001b[36m0:00:00\u001b[0m\n",
            "\u001b[?25hInstalling collected packages: biopython\n",
            "Successfully installed biopython-1.85\n",
            "Get:1 https://cloud.r-project.org/bin/linux/ubuntu jammy-cran40/ InRelease [3,632 B]\n",
            "Hit:2 https://cli.github.com/packages stable InRelease\n",
            "Hit:3 https://developer.download.nvidia.com/compute/cuda/repos/ubuntu2204/x86_64  InRelease\n",
            "Hit:4 http://archive.ubuntu.com/ubuntu jammy InRelease\n",
            "Get:5 http://security.ubuntu.com/ubuntu jammy-security InRelease [129 kB]\n",
            "Get:6 https://r2u.stat.illinois.edu/ubuntu jammy InRelease [6,555 B]\n",
            "Get:7 http://archive.ubuntu.com/ubuntu jammy-updates InRelease [128 kB]\n",
            "Get:8 https://r2u.stat.illinois.edu/ubuntu jammy/main amd64 Packages [2,807 kB]\n",
            "Get:9 http://archive.ubuntu.com/ubuntu jammy-backports InRelease [127 kB]\n",
            "Hit:10 https://ppa.launchpadcontent.net/deadsnakes/ppa/ubuntu jammy InRelease\n",
            "Get:11 http://archive.ubuntu.com/ubuntu jammy-updates/main amd64 Packages [3,655 kB]\n",
            "Hit:12 https://ppa.launchpadcontent.net/graphics-drivers/ppa/ubuntu jammy InRelease\n",
            "Get:13 http://security.ubuntu.com/ubuntu jammy-security/universe amd64 Packages [1,274 kB]\n",
            "Hit:14 https://ppa.launchpadcontent.net/ubuntugis/ppa/ubuntu jammy InRelease\n",
            "Get:15 https://r2u.stat.illinois.edu/ubuntu jammy/main all Packages [9,299 kB]\n",
            "Get:16 http://archive.ubuntu.com/ubuntu jammy-updates/restricted amd64 Packages [5,720 kB]\n",
            "Get:17 http://archive.ubuntu.com/ubuntu jammy-updates/universe amd64 Packages [1,576 kB]\n",
            "Get:18 http://security.ubuntu.com/ubuntu jammy-security/main amd64 Packages [3,327 kB]\n",
            "Fetched 28.1 MB in 2s (11.8 MB/s)\n",
            "Reading package lists... Done\n",
            "W: Skipping acquire of configured file 'main/source/Sources' as repository 'https://r2u.stat.illinois.edu/ubuntu jammy InRelease' does not seem to provide it (sources.list entry misspelt?)\n",
            "Reading package lists... Done\n",
            "Building dependency tree... Done\n",
            "Reading state information... Done\n",
            "Suggested packages:\n",
            "  clustalx seaview\n",
            "The following NEW packages will be installed:\n",
            "  clustalw\n",
            "0 upgraded, 1 newly installed, 0 to remove and 41 not upgraded.\n",
            "Need to get 275 kB of archives.\n",
            "After this operation, 818 kB of additional disk space will be used.\n",
            "Get:1 http://archive.ubuntu.com/ubuntu jammy/universe amd64 clustalw amd64 2.1+lgpl-7 [275 kB]\n",
            "Fetched 275 kB in 0s (578 kB/s)\n",
            "Selecting previously unselected package clustalw.\n",
            "(Reading database ... 126435 files and directories currently installed.)\n",
            "Preparing to unpack .../clustalw_2.1+lgpl-7_amd64.deb ...\n",
            "Unpacking clustalw (2.1+lgpl-7) ...\n",
            "Setting up clustalw (2.1+lgpl-7) ...\n",
            "Processing triggers for man-db (2.10.2-1) ...\n"
          ]
        }
      ]
    },
    {
      "cell_type": "markdown",
      "metadata": {
        "id": "ba326cb9"
      },
      "source": [
        "## Load .fasta from url\n",
        "Download the FASTA file from the provided URL and load the sequences into a list.\n"
      ]
    },
    {
      "cell_type": "code",
      "metadata": {
        "colab": {
          "base_uri": "https://localhost:8080/"
        },
        "id": "fe32dc38",
        "outputId": "5e6f2a03-98f5-49f2-925d-18ca762781a9",
        "cellView": "form"
      },
      "source": [
        "#@title Load fasta from URL and save as template\n",
        "import requests\n",
        "import io\n",
        "from Bio import SeqIO\n",
        "\n",
        "# Define the URL of the FASTA file and the local filename\n",
        "url = \"https://raw.githubusercontent.com/bforsbe/SK2534/main/aligned_output.fasta\"\n",
        "local_fasta_file = \"template_aligned.fasta\"\n",
        "\n",
        "# Download the content of the file and save it locally if it doesn't exist\n",
        "try:\n",
        "    with open(local_fasta_file, \"r\") as f:\n",
        "        print(f\"Using existing template file: {local_fasta_file}\")\n",
        "except FileNotFoundError:\n",
        "    print(f\"Downloading template file from: {url}\")\n",
        "    response = requests.get(url)\n",
        "    response.raise_for_status() # Raise an exception for bad status codes\n",
        "    with open(local_fasta_file, \"w\") as f:\n",
        "        f.write(response.text)\n",
        "    print(f\"Template file downloaded and saved as: {local_fasta_file}\")\n",
        "\n",
        "# Read the sequences from the local FASTA file using SeqIO.parse\n",
        "sequences = list(SeqIO.parse(local_fasta_file, \"fasta\"))\n",
        "\n",
        "# Print the number of sequences loaded to verify\n",
        "print(f\"Number of sequences loaded from template: {len(sequences)}\")"
      ],
      "execution_count": 2,
      "outputs": [
        {
          "output_type": "stream",
          "name": "stdout",
          "text": [
            "Downloading template file from: https://raw.githubusercontent.com/bforsbe/SK2534/main/aligned_output.fasta\n",
            "Template file downloaded and saved as: template_aligned.fasta\n",
            "Number of sequences loaded from template: 3021\n"
          ]
        }
      ]
    },
    {
      "cell_type": "markdown",
      "metadata": {
        "id": "290a88af"
      },
      "source": [
        "## Add query sequence\n",
        "Define a query sequence and its original sequence, and them to the list of sequences.\n",
        "\n",
        "The query here is a mutated version of the original, so that we may compare the mutations to those that occur naturally.\n"
      ]
    },
    {
      "cell_type": "code",
      "metadata": {
        "colab": {
          "base_uri": "https://localhost:8080/"
        },
        "id": "e1026ad4",
        "outputId": "2733ec6b-6068-4dbc-d238-71496192bdb8",
        "cellView": "form"
      },
      "source": [
        "#@title Add original and query sequence\n",
        "from Bio.Seq import Seq\n",
        "from Bio.SeqRecord import SeqRecord\n",
        "\n",
        "# Define the original and query sequence strings\n",
        "original_sequence_string = \"YKCGLCERSFVEKSALSRHQRVHKN\" #@param {type:\"string\"}\n",
        "query_sequence_string = \"VRCSECLELFRCPIQVKQHSKRHDN\" #@param {type:\"string\"}\n",
        "\n",
        "# Create SeqRecord objects for the original and query sequences with fixed IDs\n",
        "original_sequence = SeqRecord(Seq(original_sequence_string), id=\"Original_Sequence\", description=\"\")\n",
        "query_sequence = SeqRecord(Seq(query_sequence_string), id=\"Query_Sequence\", description=\"\")\n",
        "\n",
        "# Create a new list of sequences including the original sequences from the template, the original, and the query\n",
        "sequences_with_original_and_query = sequences + [original_sequence, query_sequence]\n",
        "\n",
        "# Print the updated number of sequences to verify\n",
        "print(f\"Updated number of sequences (including original and query): {len(sequences_with_original_and_query)}\")"
      ],
      "execution_count": 3,
      "outputs": [
        {
          "output_type": "stream",
          "name": "stdout",
          "text": [
            "Updated number of sequences (including original and query): 3023\n"
          ]
        }
      ]
    },
    {
      "cell_type": "markdown",
      "metadata": {
        "id": "43e680b3"
      },
      "source": [
        "## Prepare sequences for alignment\n",
        "\n",
        "Modify sequence IDs to be unique and write all sequences (including the query) to a temporary FASTA file.\n"
      ]
    },
    {
      "cell_type": "code",
      "metadata": {
        "colab": {
          "base_uri": "https://localhost:8080/"
        },
        "cellView": "form",
        "id": "44bfd6b2",
        "outputId": "a9d4ccbd-4f5a-4c2c-d4f1-f806ba5cb287"
      },
      "source": [
        "#@title Prepare sequences for alignment\n",
        "# Modify sequence IDs to be unique and clear descriptions for the list including the query and original\n",
        "for i, seq in enumerate(sequences_with_original_and_query):\n",
        "    # Only modify IDs if they are not the original or query sequences\n",
        "    if seq.id != \"Original_Sequence\" and seq.id != \"Query_Sequence\":\n",
        "        seq.id = f\"{seq.id}_{i}\"\n",
        "    seq.description = \"\" # Clear description to avoid issues with some tools\n",
        "\n",
        "# Define a filename for the temporary FASTA file\n",
        "temp_in_file = \"temp_sequences_for_alignment.fasta\"\n",
        "\n",
        "# Write the modified sequences to the temporary FASTA file\n",
        "SeqIO.write(sequences_with_original_and_query, temp_in_file, \"fasta\")\n",
        "\n",
        "# Print confirmation message\n",
        "print(f\"Prepared sequences (including original and query) and saved to {temp_in_file}\")"
      ],
      "execution_count": 4,
      "outputs": [
        {
          "output_type": "stream",
          "name": "stdout",
          "text": [
            "Prepared sequences (including original and query) and saved to temp_sequences_for_alignment.fasta\n"
          ]
        }
      ]
    },
    {
      "cell_type": "markdown",
      "metadata": {
        "id": "52bfb8a7"
      },
      "source": [
        "## Perform multiple sequence alignment\n",
        "\n",
        "### Subtask:\n",
        "Use ClustalW to align the sequences from the temporary file and save the output to a new file.\n",
        "\n",
        "Use Biopython's ClustalwCommandline to perform multiple sequence alignment on the sequences in the temporary FASTA file and save the output to a new FASTA file.\n"
      ]
    },
    {
      "cell_type": "code",
      "metadata": {
        "colab": {
          "base_uri": "https://localhost:8080/"
        },
        "id": "ea50dc4e",
        "outputId": "7edb0d8b-ba5d-4fd3-cccf-2cae8b71c034"
      },
      "source": [
        "#@title Make MSA\n",
        "\n",
        "from Bio.Align.Applications import ClustalwCommandline\n",
        "\n",
        "# Define the name for the output alignment file\n",
        "out_file = \"aligned_with_query.aln\"\n",
        "\n",
        "# Create a ClustalwCommandline object\n",
        "# Specify the path to the clustalw executable if it's not in your PATH\n",
        "clustalw_cline = ClustalwCommandline(\"clustalw\", infile=temp_in_file, outfile=out_file)\n",
        "\n",
        "# Run the command line tool\n",
        "stdout, stderr = clustalw_cline()\n",
        "\n",
        "# Print confirmation message\n",
        "print(f\"Multiple sequence alignment performed and saved to {out_file}\")"
      ],
      "execution_count": 32,
      "outputs": [
        {
          "output_type": "stream",
          "name": "stdout",
          "text": [
            "Multiple sequence alignment performed and saved to aligned_with_query.aln\n"
          ]
        }
      ]
    },
    {
      "cell_type": "markdown",
      "metadata": {
        "id": "f087f25f"
      },
      "source": [
        "## Read the alignment\n",
        "Read the aligned sequences from the output file using `AlignIO.read` (using AlignIO.read with the 'fasta' format and print the alignment object.)\n"
      ]
    },
    {
      "cell_type": "code",
      "metadata": {
        "colab": {
          "base_uri": "https://localhost:8080/"
        },
        "cellView": "form",
        "id": "0b805761",
        "outputId": "a38ed9c6-ec78-4ee5-e16e-b69d1b6ab9b7"
      },
      "source": [
        "#@title Read alignment file\n",
        "from Bio import AlignIO\n",
        "\n",
        "# Define the name of the alignment file output by ClustalW\n",
        "alignment_file = \"aligned_with_query.fasta\"\n",
        "\n",
        "# Read the alignment file using AlignIO.read with 'clustal' format\n",
        "try:\n",
        "    alignment = AlignIO.read(alignment_file, \"clustal\")\n",
        "\n",
        "    # Print the alignment object to verify\n",
        "    print(\"Alignment object:\")\n",
        "    print(alignment)\n",
        "\n",
        "except FileNotFoundError:\n",
        "    print(f\"Error: The file {alignment_file} was not found.\")\n",
        "except Exception as e:\n",
        "    print(f\"An error occurred while reading the file: {e}\")"
      ],
      "execution_count": 6,
      "outputs": [
        {
          "output_type": "stream",
          "name": "stdout",
          "text": [
            "Alignment object:\n",
            "Alignment with 3023 rows and 50 columns\n",
            "----KTCPV--CQRKFV----NKQ------ALKQHM--DSAH-------- A0A1L3KEJ9_10_1844\n",
            "----KTCPV--CQRKFV----NKQ------ALKQHM--DSAH-------- A0A1L3KEQ6_50_1845\n",
            "----KTCPI--CQAVLP----TKA------ALATHM--LTHH-------- A0A2Z4QKW3_33_1846\n",
            "----RTCDV--CQKTFG----DKN------ALRKHR--RHVHKI------ MGYP000745198836_2903_1848\n",
            "----FKCDN--CGKKFK----TKI------ELEQHR--RNEHKI------ AF-A0A6G1YNT3-F1-model_v4_2052\n",
            "----FICDS--CGAKFK----TKQ------NLLVHK--RTVHR------- 3.30.160.60_2737_1867\n",
            "----FKCKN--CGKKFP----VKQ------ALQRH---FEQHQ------- ProtVar_Q9BR77_Q9NQX1-2_B_2298\n",
            "----FSCGM--CSAKFT----RNY------SLKKHL--REKHN------- AF-A0A077Z300-F1-model_v4_547_\n",
            "----FQCEM--CQKYFT----KKY------SLKRHL--FEVHEV------ AF-A0A7R9RM99-F1-model_v4_2020\n",
            "----FQCES--CSKCFT----QRV------ALINHM--RTQHM------- AF-A0A1A8D7N5-F1-model_v4_1955\n",
            "----FMCRC--CNWAFP----DKT------SLHIH---MQS--------- 3.30.160.60_2782_1849\n",
            "----KVCPM--CSEQFPPD-YDQQ------VFERH---VQTH-------- 4z4k-assembly1_B_3019_1899\n",
            "----FFCNE--CDCRFS----EEA------SLKRHT--LQTHSD------ 2yrmA01_2770_2986\n",
            "----FFCNE--CDCRFS----EEA------SLKRHT--LQTHSD------ 2yrm-assembly1_A_2987_2987\n",
            "----YFCNE--CDSKFA----EEE------ALKRHT--LQVHSD------ AF-F1R5N6-F1-model_v4_500_2988\n",
            "----FQCNT--CQSSFA----EQQ------TLERH--------------- MGYP002059561411_2890_1898\n",
            "----SACST--VKSAWP----SER------SLSRHT--RLTHT------- AF-W1NYL6-F1-model_v4_2071_298\n",
            "----MKCKH--CSKVFY----SQK------RYTDHI--EKR--------- A0A886NIT5_34_1853\n",
            "...\n",
            "----VRCSE--CLELFR----CPI------QVKQHS--KRHDN------- Query_Sequence\n"
          ]
        }
      ]
    },
    {
      "cell_type": "markdown",
      "metadata": {
        "id": "04ed3f2c"
      },
      "source": [
        "## Analyze sequence identity\n",
        "\n",
        "### Subtask:\n",
        "Calculate the maximum sequence identity of the query sequence against all other sequences in the alignment.\n"
      ]
    },
    {
      "cell_type": "markdown",
      "metadata": {
        "id": "23b59b4c"
      },
      "source": [
        "**Reasoning**:\n",
        "Calculate the maximum sequence identity by iterating through the alignment, comparing the query sequence to every other sequence, and keeping track of the highest identity score found.\n",
        "\n"
      ]
    },
    {
      "cell_type": "code",
      "metadata": {
        "colab": {
          "base_uri": "https://localhost:8080/"
        },
        "cellView": "form",
        "id": "98c24d08",
        "outputId": "af6a1fa4-1f4b-4e8a-8ffb-7d78b25e8134"
      },
      "source": [
        "#@title Analyze sequence identity and display best match alignment\n",
        "# Find the query and original sequences in the alignment using their fixed IDs\n",
        "query_sequence_id = \"Query_Sequence\"\n",
        "original_sequence_id = \"Original_Sequence\"\n",
        "query_seq = None\n",
        "original_seq = None\n",
        "\n",
        "for record in alignment:\n",
        "    if record.id == query_sequence_id:\n",
        "        query_seq = record\n",
        "    elif record.id == original_sequence_id:\n",
        "        original_seq = record\n",
        "\n",
        "if query_seq is None:\n",
        "    print(f\"Error: Query sequence with ID '{query_sequence_id}' not found in the alignment.\")\n",
        "else:\n",
        "    max_identity = 0.0\n",
        "    best_match_id = None\n",
        "    best_match_seq = None\n",
        "\n",
        "    # Iterate through each sequence in the alignment\n",
        "    for record in alignment:\n",
        "        # Skip the query and original sequences themselves when finding best match\n",
        "        if record.id == query_sequence_id or record.id == original_sequence_id:\n",
        "            continue\n",
        "\n",
        "        # Calculate sequence identity\n",
        "        identical_residues = 0\n",
        "        aligned_length = 0\n",
        "        for i in range(alignment.get_alignment_length()):\n",
        "            query_residue = query_seq[i]\n",
        "            current_residue = record[i]\n",
        "\n",
        "            # Only consider positions where neither sequence has a gap\n",
        "            if query_residue != '-' and current_residue != '-':\n",
        "                aligned_length += 1\n",
        "                if query_residue == current_residue:\n",
        "                    identical_residues += 1\n",
        "\n",
        "        # Avoid division by zero if there are no aligned positions\n",
        "        if aligned_length > 0:\n",
        "            identity = (identical_residues / aligned_length) * 100\n",
        "            if identity > max_identity:\n",
        "                max_identity = identity\n",
        "                best_match_id = record.id\n",
        "                best_match_seq = record\n",
        "        else:\n",
        "            identity = 0.0 # Or handle as appropriate if no comparable positions\n",
        "\n",
        "    print(f\"Maximum sequence identity of the query sequence against others (excluding original): {max_identity:.2f}%\")\n",
        "    if best_match_id:\n",
        "        print(f\"Sequence with the highest identity: {best_match_id}\")\n",
        "\n",
        "        # Display the alignment of the query, original, and the best match\n",
        "        print(\"\\nAlignment of Query Sequence, Original Sequence, and Best Match:\")\n",
        "        # Determine the maximum length of the sequence IDs for alignment\n",
        "        max_id_length = max(len(query_seq.id), len(original_seq.id) if original_seq else 0, len(best_match_id))\n",
        "        if original_seq:\n",
        "             print(f\"{original_seq.seq} {original_seq.id.ljust(max_id_length)}\")\n",
        "        print(f\"{query_seq.seq} {query_seq.id.ljust(max_id_length)}\")\n",
        "        print(f\"{best_match_seq.seq} {best_match_id.ljust(max_id_length)}\")"
      ],
      "execution_count": 7,
      "outputs": [
        {
          "output_type": "stream",
          "name": "stdout",
          "text": [
            "Maximum sequence identity of the query sequence against others (excluding original): 44.00%\n",
            "Sequence with the highest identity: A0A873WFU8_12_1869\n",
            "\n",
            "Alignment of Query Sequence, Original Sequence, and Best Match:\n",
            "----YKCGL--CERSFV----EKS------ALSRHQ--RVHKN------- Original_Sequence \n",
            "----VRCSE--CLELFR----CPI------QVKQHS--KRHDN------- Query_Sequence    \n",
            "----FNCDR--CNESFL----SPE------ALKQHQ--DEHDN------- A0A873WFU8_12_1869\n"
          ]
        }
      ]
    },
    {
      "cell_type": "markdown",
      "metadata": {
        "id": "dd5b85e6"
      },
      "source": [
        "## Analyze conservation\n",
        "\n",
        "### Subtask:\n",
        "Analyze the conservation of residues in the query sequence compared to the original sequence, and compare this to the overall conservation at those positions in the multiple sequence alignment."
      ]
    },
    {
      "cell_type": "markdown",
      "metadata": {
        "id": "df3954fd"
      },
      "source": [
        "**Reasoning**:\n",
        "Calculate the conservation score for each position in the overall alignment. Then, for each position in the query sequence, compare the residue to the corresponding residue in the original sequence and the conservation score at that position in the overall alignment. Print the results to show where the query mutation aligns with highly conserved or variable positions."
      ]
    },
    {
      "cell_type": "code",
      "metadata": {
        "colab": {
          "base_uri": "https://localhost:8080/"
        },
        "cellView": "form",
        "id": "2d49c979",
        "outputId": "f873a6b3-1274-4e84-8ab8-6ead1f6ccbe8"
      },
      "source": [
        "#@title Analyze conservation of query sequence mutations\n",
        "# Function to calculate conservation at a given column in the alignment\n",
        "def calculate_conservation(column):\n",
        "    \"\"\"Calculates the conservation score for a column in a multiple sequence alignment.\"\"\"\n",
        "    # Count the occurrences of each residue (excluding gaps)\n",
        "    residue_counts = {}\n",
        "    total_residues = 0\n",
        "    for residue in column:\n",
        "        if residue != '-':\n",
        "            total_residues += 1\n",
        "            residue_counts[residue] = residue_counts.get(residue, 0) + 1\n",
        "\n",
        "    # Calculate the conservation score (simple frequency of the most common residue)\n",
        "    if total_residues == 0:\n",
        "        return 0.0\n",
        "    max_count = max(residue_counts.values()) if residue_counts else 0\n",
        "    conservation = (max_count / total_residues) * 100\n",
        "    return conservation\n",
        "\n",
        "# Find the query and original sequences in the alignment\n",
        "query_sequence_id = \"Query_Sequence\"\n",
        "original_sequence_id = \"Original_Sequence\"\n",
        "query_seq = None\n",
        "original_seq = None\n",
        "\n",
        "for record in alignment:\n",
        "    if record.id == query_sequence_id:\n",
        "        query_seq = record\n",
        "    elif record.id == original_sequence_id:\n",
        "        original_seq = record\n",
        "\n",
        "if query_seq is None or original_seq is None:\n",
        "    print(\"Error: Query or Original sequence not found in the alignment.\")\n",
        "else:\n",
        "    print(\"Conservation Analysis:\")\n",
        "    print(\"-\" * 60)\n",
        "    print(f\"{'Position':<10} {'Original':<10} {'Query':<10} {'Overall Conservation (%)':<25} {'Observation':<15}\")\n",
        "    print(\"-\" * 60)\n",
        "\n",
        "    # Iterate through the alignment positions\n",
        "    for i in range(alignment.get_alignment_length()):\n",
        "        original_residue = original_seq[i]\n",
        "        query_residue = query_seq[i]\n",
        "\n",
        "        # Skip if both original and query have gaps\n",
        "        if original_residue == '-' and query_residue == '-':\n",
        "            continue\n",
        "\n",
        "        # Calculate conservation at this position in the overall alignment\n",
        "        column = alignment[:, i]\n",
        "        overall_conservation = calculate_conservation(column)\n",
        "\n",
        "        observation = \"\"\n",
        "        if original_residue != '-' and query_residue != '-':\n",
        "            if original_residue != query_residue:\n",
        "                observation = \"Mutation\"\n",
        "                if overall_conservation > 70: # Example threshold for high conservation\n",
        "                    observation += \" (Highly Conserved)\"\n",
        "                elif overall_conservation < 30: # Example threshold for low conservation\n",
        "                    observation += \" (Variable)\"\n",
        "            else:\n",
        "                 observation = \"No Mutation\"\n",
        "\n",
        "\n",
        "        print(f\"{i:<10} {original_residue:<10} {query_residue:<10} {overall_conservation:<25.2f} {observation:<15}\")\n",
        "\n",
        "    print(\"-\" * 60)"
      ],
      "execution_count": 8,
      "outputs": [
        {
          "output_type": "stream",
          "name": "stdout",
          "text": [
            "Conservation Analysis:\n",
            "------------------------------------------------------------\n",
            "Position   Original   Query      Overall Conservation (%)  Observation    \n",
            "------------------------------------------------------------\n",
            "4          Y          V          70.67                     Mutation (Highly Conserved)\n",
            "5          K          R          35.08                     Mutation       \n",
            "6          C          C          99.11                     No Mutation    \n",
            "7          G          S          13.68                     Mutation (Variable)\n",
            "8          L          E          37.19                     Mutation       \n",
            "11         C          C          99.87                     No Mutation    \n",
            "12         E          L          52.56                     Mutation       \n",
            "13         R          E          69.63                     Mutation       \n",
            "14         S          L          31.96                     Mutation       \n",
            "15         F          F          91.46                     No Mutation    \n",
            "16         V          R          27.42                     Mutation (Variable)\n",
            "21         E          C          25.57                     Mutation (Variable)\n",
            "22         K          P          28.81                     Mutation (Variable)\n",
            "23         S          I          64.01                     Mutation       \n",
            "30         A          Q          21.11                     Mutation (Variable)\n",
            "31         L          V          92.39                     Mutation (Highly Conserved)\n",
            "32         S          K          18.60                     Mutation (Variable)\n",
            "33         R          Q          35.99                     Mutation       \n",
            "34         H          H          99.80                     No Mutation    \n",
            "35         Q          S          44.84                     Mutation       \n",
            "38         R          K          69.97                     Mutation       \n",
            "39         V          R          39.98                     Mutation       \n",
            "40         H          H          95.71                     No Mutation    \n",
            "41         K          D          60.39                     Mutation       \n",
            "42         N          N          22.89                     No Mutation    \n",
            "------------------------------------------------------------\n"
          ]
        }
      ]
    },
    {
      "cell_type": "markdown",
      "metadata": {
        "id": "1271d3f9"
      },
      "source": [
        "## Analyze Sequence Identity Distribution\n",
        "\n",
        "### Subtask:\n",
        "Calculate sequence identity against original and query sequences and visualize the distribution and relationship."
      ]
    },
    {
      "cell_type": "markdown",
      "metadata": {
        "id": "6e1fdef1"
      },
      "source": [
        "**Reasoning**:\n",
        "Calculate the sequence identity of each sequence in the alignment against the original and query sequences. Store these identities and then use matplotlib and seaborn to create a histogram of identities against the original and a scatterplot of identities against the original versus identities against the query."
      ]
    },
    {
      "cell_type": "code",
      "metadata": {
        "colab": {
          "base_uri": "https://localhost:8080/",
          "height": 469
        },
        "id": "e1745cea",
        "outputId": "751156ff-cd8a-4870-f104-bc43e8f27ef1"
      },
      "source": [
        "#@title Analyze and visualize sequence identity distribution\n",
        "import matplotlib.pyplot as plt\n",
        "import seaborn as sns\n",
        "import pandas as pd\n",
        "\n",
        "# Find the query and original sequences in the alignment\n",
        "query_sequence_id = \"Query_Sequence\"\n",
        "original_sequence_id = \"Original_Sequence\"\n",
        "query_seq = None\n",
        "original_seq = None\n",
        "\n",
        "for record in alignment:\n",
        "    if record.id == query_sequence_id:\n",
        "        query_seq = record\n",
        "    elif record.id == original_sequence_id:\n",
        "        original_seq = record\n",
        "\n",
        "if query_seq is None or original_seq is None:\n",
        "    print(\"Error: Query or Original sequence not found in the alignment.\")\n",
        "else:\n",
        "    identity_data = []\n",
        "    # Iterate through each sequence in the alignment\n",
        "    for record in alignment:\n",
        "        # Skip the query and original sequences themselves\n",
        "        if record.id == query_sequence_id or record.id == original_sequence_id:\n",
        "            continue\n",
        "\n",
        "        # Calculate sequence identity against original sequence\n",
        "        identical_residues_original = 0\n",
        "        aligned_length_original = 0\n",
        "        for i in range(alignment.get_alignment_length()):\n",
        "            original_residue = original_seq[i]\n",
        "            current_residue = record[i]\n",
        "\n",
        "            if original_residue != '-' and current_residue != '-':\n",
        "                aligned_length_original += 1\n",
        "                if original_residue == current_residue:\n",
        "                    identical_residues_original += 1\n",
        "\n",
        "        identity_original = (identical_residues_original / aligned_length_original) * 100 if aligned_length_original > 0 else 0.0\n",
        "\n",
        "        # Calculate sequence identity against query sequence\n",
        "        identical_residues_query = 0\n",
        "        aligned_length_query = 0\n",
        "        for i in range(alignment.get_alignment_length()):\n",
        "            query_residue = query_seq[i]\n",
        "            current_residue = record[i]\n",
        "\n",
        "            if query_residue != '-' and current_residue != '-':\n",
        "                aligned_length_query += 1\n",
        "                if query_residue == current_residue:\n",
        "                    identical_residues_query += 1\n",
        "\n",
        "        identity_query = (identical_residues_query / aligned_length_query) * 100 if aligned_length_query > 0 else 0.0\n",
        "\n",
        "        identity_data.append({'ID': record.id, 'Identity_vs_Original': identity_original, 'Identity_vs_Query': identity_query})\n",
        "\n",
        "    # Create a pandas DataFrame\n",
        "    identity_df = pd.DataFrame(identity_data)\n",
        "\n",
        "    # Plotting\n",
        "    plt.figure(figsize=(12, 6))\n",
        "\n",
        "    # Histogram of identity against original\n",
        "    plt.subplot(1, 2, 1)\n",
        "    sns.histplot(identity_df['Identity_vs_Original'], bins=20, kde=True)\n",
        "    plt.title('Distribution of Sequence Identity vs. Original Sequence')\n",
        "    plt.xlabel('Sequence Identity (%)')\n",
        "    plt.ylabel('Frequency')\n",
        "\n",
        "    # Scatterplot of identity vs original vs identity vs query\n",
        "    plt.subplot(1, 2, 2)\n",
        "    sns.scatterplot(data=identity_df, x='Identity_vs_Original', y='Identity_vs_Query')\n",
        "    plt.title('Sequence Identity vs. Original vs. Query')\n",
        "    plt.xlabel('Identity vs. Original (%)')\n",
        "    plt.ylabel('Identity vs. Query (%)')\n",
        "\n",
        "    plt.tight_layout()\n",
        "    plt.show()"
      ],
      "execution_count": 9,
      "outputs": [
        {
          "output_type": "display_data",
          "data": {
            "text/plain": [
              "<Figure size 1200x600 with 2 Axes>"
            ],
            "image/png": "[encoded data removed]"
          },
          "metadata": {}
        }
      ]
    },
    {
      "cell_type": "code",
      "metadata": {
        "colab": {
          "base_uri": "https://localhost:8080/",
          "height": 564
        },
        "id": "b4496f5d",
        "outputId": "33df85f5-35e5-4cfe-bded-57e691e5fef4"
      },
      "source": [
        "# Create a histogram of the pairwise_identities list\n",
        "plt.figure(figsize=(10, 6))\n",
        "sns.histplot(pairwise_identities, bins=30, kde=True)\n",
        "\n",
        "# Add title and labels\n",
        "plt.title('Distribution of Pairwise Sequence Identities')\n",
        "plt.xlabel('Sequence Identity (%)')\n",
        "plt.ylabel('Frequency')\n",
        "\n",
        "# Display the plot\n",
        "plt.show()"
      ],
      "execution_count": 21,
      "outputs": [
        {
          "output_type": "display_data",
          "data": {
            "text/plain": [
              "<Figure size 1000x600 with 1 Axes>"
            ],
            "image/png": "[encoded data removed]"
          },
          "metadata": {}
        }
      ]
    },
    {
      "cell_type": "markdown",
      "metadata": {
        "id": "372b6f84"
      },
      "source": [
        "# Task\n",
        "Calculate all pairwise sequence identities for the sequences in the file \"natural_sequences_with_same_fold.fasta\", exclude self-identity, and plot the distribution of the sequence identities."
      ]
    },
    {
      "cell_type": "markdown",
      "metadata": {
        "id": "b6695582"
      },
      "source": [
        "## Calculate pairwise sequence identities\n",
        "\n",
        "### Subtask:\n",
        "Iterate through all pairs of sequences in the loaded FASTA data and calculate the sequence identity for each pair.\n"
      ]
    },
    {
      "cell_type": "markdown",
      "metadata": {
        "id": "ea34d38a"
      },
      "source": [
        "## Calculate pairwise sequence identities\n",
        "\n",
        "### Subtask:\n",
        "Retry: Iterate through all pairs of sequences in the loaded FASTA data and calculate the sequence identity for each pair, ensuring the input file exists.\n"
      ]
    },
    {
      "cell_type": "code",
      "metadata": {
        "colab": {
          "base_uri": "https://localhost:8080/"
        },
        "id": "fbb8da24",
        "outputId": "865140f5-7e18-4768-fe75-bc60c5a89831"
      },
      "source": [
        "import matplotlib.pyplot as plt\n",
        "import seaborn as sns\n",
        "from Bio import SeqIO\n",
        "\n",
        "# Define the name of the FASTA file\n",
        "aln_file = \"aligned_with_query.aln\"\n",
        "fasta_file = \"aligned_with_query.fasta\"\n",
        "\n",
        "# Read the Clustal alignment\n",
        "alignment = AlignIO.read(aln_file, \"clustal\")\n",
        "\n",
        "# Write to FASTA\n",
        "AlignIO.write(alignment, fasta_file, \"fasta\")\n",
        "\n",
        "# Read the sequences from the FASTA file\n",
        "try:\n",
        "    sequences = list(SeqIO.parse(fasta_file, \"fasta\"))\n",
        "    print(f\"Number of sequences loaded: {len(sequences)}\")\n",
        "except FileNotFoundError:\n",
        "    print(f\"Error: The file {fasta_file} was not found.\")\n",
        "    sequences = [] # Initialize as empty to avoid errors later\n",
        "\n",
        "# Initialize a list to store pairwise identities\n",
        "pairwise_identities = []\n",
        "\n",
        "# Iterate through all unique pairs of sequences\n",
        "for i in range(len(sequences)):\n",
        "    for j in range(i + 1, len(sequences)): # Start from i+1 to avoid self-comparison and duplicate pairs\n",
        "        seq1 = sequences[i]\n",
        "        seq2 = sequences[j]\n",
        "\n",
        "        identical_residues = 0\n",
        "        aligned_length = 0\n",
        "\n",
        "        # Iterate through the residues at each position\n",
        "        # Assuming sequences are already aligned\n",
        "        min_len = min(len(seq1.seq), len(seq2.seq)) # Use min length in case of slight variations (though aligned should be same)\n",
        "        for k in range(min_len):\n",
        "            res1 = seq1.seq[k]\n",
        "            res2 = seq2.seq[k]\n",
        "\n",
        "            # Consider positions where neither sequence has a gap\n",
        "            if res1 != '-' and res2 != '-':\n",
        "                aligned_length += 1\n",
        "                if res1 == res2:\n",
        "                    identical_residues += 1\n",
        "\n",
        "        # Calculate sequence identity\n",
        "        identity = (identical_residues / aligned_length) * 100 if aligned_length > 0 else 0.0\n",
        "\n",
        "        # Append the identity to the list\n",
        "        pairwise_identities.append(identity)\n",
        "\n",
        "print(f\"Calculated {len(pairwise_identities)} pairwise identities.\")\n",
        "\n",
        "# Create a histogram of the pairwise_identities list\n",
        "plt.figure(figsize=(10, 6))\n",
        "sns.histplot(pairwise_identities, bins=30, kde=True)\n",
        "\n",
        "# Add title and labels\n",
        "plt.title('Distribution of Pairwise Sequence Identities')\n",
        "plt.xlabel('Sequence Identity (%)')\n",
        "plt.ylabel('Frequency')\n",
        "\n",
        "# Display the plot\n",
        "plt.show()"
      ],
      "execution_count": null,
      "outputs": [
        {
          "output_type": "stream",
          "name": "stdout",
          "text": [
            "Number of sequences loaded: 3023\n"
          ]
        }
      ]
    }
  ]
}