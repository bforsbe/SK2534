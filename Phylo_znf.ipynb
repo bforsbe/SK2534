{
  "nbformat": 4,
  "nbformat_minor": 0,
  "metadata": {
    "colab": {
      "provenance": [],
      "authorship_tag": "ABX9TyMsJHMaqpqlzrwCh941GxWA",
      "include_colab_link": true
    },
    "kernelspec": {
      "name": "python3",
      "display_name": "Python 3"
    },
    "language_info": {
      "name": "python"
    }
  },
  "cells": [
    {
      "cell_type": "markdown",
      "metadata": {
        "id": "view-in-github",
        "colab_type": "text"
      },
      "source": [
        "<a href=\"https://colab.research.google.com/github/bforsbe/SK2534/blob/main/Phylo_znf.ipynb\" target=\"_parent\"><img src=\"https://colab.research.google.com/assets/colab-badge.svg\" alt=\"Open In Colab\"/></a>"
      ]
    },
    {
      "cell_type": "markdown",
      "metadata": {
        "id": "7306ea7f"
      },
      "source": [
        "## Install necessary libraries and tools\n",
        "\n",
        "### Subtask:\n",
        "Install Biopython and a suitable MSA tool (e.g., Clustal Omega).\n"
      ]
    },
    {
      "cell_type": "markdown",
      "metadata": {
        "id": "afaff0c2"
      },
      "source": [
        "**Reasoning**:\n",
        "Install biopython and clustal omega using pip and apt-get respectively.\n",
        "\n"
      ]
    },
    {
      "cell_type": "code",
      "metadata": {
        "colab": {
          "base_uri": "https://localhost:8080/"
        },
        "id": "D1CkYv7wE8lB",
        "outputId": "aff8ea52-3277-4fa4-f578-6c7dd9f2cb94"
      },
      "source": [
        "%pip install biopython\n",
        "!apt-get update -y\n",
        "!apt-get install -y clustalw"
      ],
      "execution_count": 3,
      "outputs": [
        {
          "output_type": "stream",
          "name": "stdout",
          "text": [
            "Requirement already satisfied: biopython in /usr/local/lib/python3.12/dist-packages (1.85)\n",
            "Requirement already satisfied: numpy in /usr/local/lib/python3.12/dist-packages (from biopython) (2.0.2)\n",
            "Hit:1 http://security.ubuntu.com/ubuntu jammy-security InRelease\n",
            "Hit:2 https://cloud.r-project.org/bin/linux/ubuntu jammy-cran40/ InRelease\n",
            "Hit:3 https://developer.download.nvidia.com/compute/cuda/repos/ubuntu2204/x86_64  InRelease\n",
            "Hit:4 https://cli.github.com/packages stable InRelease\n",
            "Hit:5 http://archive.ubuntu.com/ubuntu jammy InRelease\n",
            "Hit:6 https://r2u.stat.illinois.edu/ubuntu jammy InRelease\n",
            "Hit:7 http://archive.ubuntu.com/ubuntu jammy-updates InRelease\n",
            "Hit:8 http://archive.ubuntu.com/ubuntu jammy-backports InRelease\n",
            "Hit:9 https://ppa.launchpadcontent.net/deadsnakes/ppa/ubuntu jammy InRelease\n",
            "Hit:10 https://ppa.launchpadcontent.net/graphics-drivers/ppa/ubuntu jammy InRelease\n",
            "Hit:11 https://ppa.launchpadcontent.net/ubuntugis/ppa/ubuntu jammy InRelease\n",
            "Reading package lists... Done\n",
            "W: Skipping acquire of configured file 'main/source/Sources' as repository 'https://r2u.stat.illinois.edu/ubuntu jammy InRelease' does not seem to provide it (sources.list entry misspelt?)\n",
            "Reading package lists... Done\n",
            "Building dependency tree... Done\n",
            "Reading state information... Done\n",
            "Suggested packages:\n",
            "  clustalx seaview\n",
            "The following NEW packages will be installed:\n",
            "  clustalw\n",
            "0 upgraded, 1 newly installed, 0 to remove and 41 not upgraded.\n",
            "Need to get 275 kB of archives.\n",
            "After this operation, 818 kB of additional disk space will be used.\n",
            "Get:1 http://archive.ubuntu.com/ubuntu jammy/universe amd64 clustalw amd64 2.1+lgpl-7 [275 kB]\n",
            "Fetched 275 kB in 1s (534 kB/s)\n",
            "Selecting previously unselected package clustalw.\n",
            "(Reading database ... 126435 files and directories currently installed.)\n",
            "Preparing to unpack .../clustalw_2.1+lgpl-7_amd64.deb ...\n",
            "Unpacking clustalw (2.1+lgpl-7) ...\n",
            "Setting up clustalw (2.1+lgpl-7) ...\n",
            "Processing triggers for man-db (2.10.2-1) ...\n"
          ]
        }
      ]
    },
    {
      "cell_type": "markdown",
      "metadata": {
        "id": "45e44cd2"
      },
      "source": [
        "## Load the fasta sequences\n",
        "\n",
        "### Subtask:\n",
        "Read the sequences from the generated FASTA file using Biopython.\n"
      ]
    },
    {
      "cell_type": "markdown",
      "metadata": {
        "id": "9f2a4863"
      },
      "source": [
        "**Reasoning**:\n",
        "Import the SeqIO module from Biopython and read the sequences from the \"output.fasta\" file using SeqIO.parse().\n",
        "\n"
      ]
    },
    {
      "cell_type": "code",
      "metadata": {
        "colab": {
          "base_uri": "https://localhost:8080/"
        },
        "id": "d9b74aa5",
        "outputId": "32190846-d28c-449f-9ad8-9b64d0f320ac"
      },
      "source": [
        "from Bio import SeqIO\n",
        "\n",
        "# Read the sequences from the FASTA file\n",
        "sequences = list(SeqIO.parse(\"output.fasta\", \"fasta\"))\n",
        "\n",
        "# Print the number of sequences read to verify\n",
        "print(f\"Number of sequences read: {len(sequences)}\")"
      ],
      "execution_count": null,
      "outputs": [
        {
          "output_type": "stream",
          "name": "stdout",
          "text": [
            "Number of sequences read: 3021\n"
          ]
        }
      ]
    },
    {
      "cell_type": "markdown",
      "metadata": {
        "id": "28392871"
      },
      "source": [
        "## Perform the multiple sequence alignment\n",
        "\n",
        "### Subtask:\n",
        "Use Biopython's interface to the chosen MSA tool to align the sequences.\n"
      ]
    },
    {
      "cell_type": "markdown",
      "metadata": {
        "id": "587b8842"
      },
      "source": [
        "**Reasoning**:\n",
        "Use Biopython's ClustalwCommandline to perform multiple sequence alignment on the extracted FASTA sequences and save the output to a new FASTA file.\n",
        "\n"
      ]
    },
    {
      "cell_type": "code",
      "metadata": {
        "colab": {
          "base_uri": "https://localhost:8080/"
        },
        "id": "utXu_T_aFOln",
        "outputId": "8ea5028f-efc9-4e05-f84a-fd669911187d"
      },
      "source": [
        "from Bio import SeqIO\n",
        "from Bio.Align.Applications import ClustalwCommandline\n",
        "\n",
        "# Read the sequences from the FASTA file\n",
        "sequences = list(SeqIO.parse(\"output.fasta\", \"fasta\"))\n",
        "\n",
        "# Modify sequence IDs to be unique\n",
        "for i, seq in enumerate(sequences):\n",
        "    seq.id = f\"{seq.id}_{i}\"\n",
        "    seq.description = \"\" # Clear description to avoid issues with some tools\n",
        "\n",
        "# Write the modified sequences to a temporary FASTA file\n",
        "temp_in_file = \"output_unique.fasta\"\n",
        "SeqIO.write(sequences, temp_in_file, \"fasta\")\n",
        "\n",
        "# Define input and output file names\n",
        "out_file = \"aligned.fasta\"\n",
        "\n",
        "# Create a ClustalwCommandline object with the temporary file\n",
        "clustalw_cline = ClustalwCommandline(\"clustalw\", infile=temp_in_file, outfile=out_file)\n",
        "\n",
        "# Run the command line tool\n",
        "stdout, stderr = clustalw_cline()\n",
        "\n",
        "# Print confirmation message\n",
        "print(f\"Multiple sequence alignment performed and saved to {out_file}\")"
      ],
      "execution_count": null,
      "outputs": [
        {
          "output_type": "stream",
          "name": "stdout",
          "text": [
            "Multiple sequence alignment performed and saved to aligned.fasta\n"
          ]
        }
      ]
    },
    {
      "cell_type": "markdown",
      "metadata": {
        "id": "faa96e6b"
      },
      "source": [
        "## Display or save the alignment\n",
        "\n",
        "### Subtask:\n",
        "Display or save the resulting MSA to a file in a common format (e.g., Stockholm, Clustal, or FASTA).\n"
      ]
    },
    {
      "cell_type": "code",
      "metadata": {
        "id": "quGEMldIFqll"
      },
      "source": [
        "# Read and print the content of the aligned FASTA file\n",
        "alignment_file = \"aligned.fasta\"\n",
        "try:\n",
        "    with open(alignment_file, \"r\") as f:\n",
        "        file_content = f.read()\n",
        "    print(\"Content of aligned.fasta:\")\n",
        "    print(file_content)\n",
        "except FileNotFoundError:\n",
        "    print(f\"Error: The file {alignment_file} was not found.\")\n",
        "except Exception as e:\n",
        "    print(f\"An error occurred while reading the file: {e}\")\n"
      ],
      "execution_count": null,
      "outputs": []
    },
    {
      "cell_type": "markdown",
      "metadata": {
        "id": "46f1a2ef"
      },
      "source": [
        "**Reasoning**:\n",
        "The output of ClustalW is in a modified FASTA format that includes a header and spacing. `AlignIO.read` with the standard \"fasta\" format is failing to parse it. I will try reading it with the \"clustal\" format, which is designed to handle Clustal output.\n",
        "\n"
      ]
    },
    {
      "cell_type": "code",
      "metadata": {
        "colab": {
          "base_uri": "https://localhost:8080/"
        },
        "id": "2f600bd3",
        "outputId": "0f230eb3-461b-4edd-b47d-344c2da1f939"
      },
      "source": [
        "from Bio import AlignIO\n",
        "\n",
        "# Read the aligned sequences from the FASTA file using the 'clustal' format\n",
        "alignment_file = \"aligned.fasta\"\n",
        "try:\n",
        "    alignment = AlignIO.read(alignment_file, \"clustal\")\n",
        "\n",
        "    # Print the alignment to the console\n",
        "    print(\"Multiple Sequence Alignment (Clustal format):\")\n",
        "    print(alignment)\n",
        "\n",
        "    # Optionally, write the alignment to a new file in FASTA format\n",
        "    output_fasta_file = \"aligned_output.fasta\"\n",
        "    AlignIO.write(alignment, output_fasta_file, \"fasta\")\n",
        "    print(f\"\\nAlignment also saved to {output_fasta_file} in FASTA format.\")\n",
        "\n",
        "except FileNotFoundError:\n",
        "    print(f\"Error: The file {alignment_file} was not found.\")\n",
        "except Exception as e:\n",
        "    print(f\"An error occurred while reading the file: {e}\")"
      ],
      "execution_count": null,
      "outputs": [
        {
          "output_type": "stream",
          "name": "stdout",
          "text": [
            "Multiple Sequence Alignment (Clustal format):\n",
            "Alignment with 3021 rows and 40 columns\n",
            "--YKCEI--CQKMFN---HKS--YLTVHAKIHQN------ A0A1B2RVU6_0\n",
            "--YKCDI--CSAVFT---TDS--ELKVHSKIHR------- AF-A0A0B7BJ65-F1-model_v4_1715\n",
            "--YKCDV--CDKSYK---VKS--SLNEHLIIH-------- AF-A0A7R9HB19-F1-model_v4_1317\n",
            "--YKCDV--CDNSFK---MKS--SLYTHLLIHTN------ AF-A0A7R8VXV2-F1-model_v4_1602\n",
            "--YKCDI--CQKSFV---NKS--NLNNHYLIHT------- AF-A0A4Y2NZM6-F1-model_v4_1736\n",
            "--YKCLI--CDKSFG---LKS--NLNYHMKIH-------- AF-A0A087U0Z0-F1-model_v4_1757\n",
            "--YHCSV--CEKCYK---TKG--GLKRHHTIVK------- AF-A0A397V9P1-F1-model_v4_2061\n",
            "--YKCEI--CKKEFK---TKH--GLKGH------------ MGYP003998274573_2901\n",
            "---KCLD--CYKKFK---TKH--RAEKHFLIHKT------ A0A1B2RVS9_55\n",
            "--YDCNV--CHKGFK---RKF--DLTKHYSIHNT------ A0A346G481_9\n",
            "--YGCGV--CGKKFK---MKH--HLVGHMKIHT------- 3.30.160.60_2711\n",
            "--YGCGV--CGKKFK---MKH--HLVGHMKIH-------- 2cshA01_2759\n",
            "--YKCDV--CDKAFK---HKH--HLTEHKRLHS------- AF-A0A077YWL4-F1-model_v4_310\n",
            "--YKCDI--CEKAFK---HKH--HLTEHKRLHS------- AF-G5EBU4-F1-model_v4_1030\n",
            "--FKCTE--CGKAFK---YKH--HLKEHLRIHS------- ProtVar_O60315_Q09028_A_2569\n",
            "--YGCNL--CGKAFY---RKS--HLGRHQKIHT------- AF-Q02525-F1-model_v4_201\n",
            "--YGCNL--CGKAFY---RKS--HLGRHQKIHT------- AF-Q02525-F1-model_v4_686\n",
            "--YKCNL--CPKEFS---RKS--SLSRHFRKHT------- AF-A0A137NPX9-F1-model_v4_1078\n",
            "...\n",
            "--YKCEF--CEYAAA---QKT--SLRYHLERH-------- 3uk3C02_2705\n",
            "\n",
            "Alignment also saved to aligned_output.fasta in FASTA format.\n"
          ]
        }
      ]
    },
    {
      "cell_type": "markdown",
      "metadata": {
        "id": "dc3d66fa"
      },
      "source": [
        "# Task\n",
        "Modify the notebook to load the FASTA file from \"https://github.com/bforsbe/SK2534/blob/main/aligned_output.fasta\", add a query sequence, perform multiple sequence alignment using ClustalW, and calculate the maximum sequence identity of the query sequence against all other sequences."
      ]
    },
    {
      "cell_type": "markdown",
      "metadata": {
        "id": "ba326cb9"
      },
      "source": [
        "## Load fasta from url\n",
        "\n",
        "### Subtask:\n",
        "Download the FASTA file from the provided URL and load the sequences into a list.\n"
      ]
    },
    {
      "cell_type": "markdown",
      "metadata": {
        "id": "c5457b0e"
      },
      "source": [
        "**Reasoning**:\n",
        "Download the FASTA file from the URL and load the sequences into a list using requests, io, and Biopython's SeqIO.\n",
        "\n"
      ]
    },
    {
      "cell_type": "code",
      "metadata": {
        "colab": {
          "base_uri": "https://localhost:8080/"
        },
        "id": "fe32dc38",
        "outputId": "4d0af7f0-0259-4e52-b5e3-283bf3e038a9"
      },
      "source": [
        "import requests\n",
        "import io\n",
        "from Bio import SeqIO\n",
        "\n",
        "# Define the URL of the FASTA file and the local filename\n",
        "url = \"https://raw.githubusercontent.com/bforsbe/SK2534/main/aligned_output.fasta\"\n",
        "local_fasta_file = \"template_aligned.fasta\"\n",
        "\n",
        "# Download the content of the file and save it locally if it doesn't exist\n",
        "try:\n",
        "    with open(local_fasta_file, \"r\") as f:\n",
        "        print(f\"Using existing template file: {local_fasta_file}\")\n",
        "except FileNotFoundError:\n",
        "    print(f\"Downloading template file from: {url}\")\n",
        "    response = requests.get(url)\n",
        "    response.raise_for_status() # Raise an exception for bad status codes\n",
        "    with open(local_fasta_file, \"w\") as f:\n",
        "        f.write(response.text)\n",
        "    print(f\"Template file downloaded and saved as: {local_fasta_file}\")\n",
        "\n",
        "# Read the sequences from the local FASTA file using SeqIO.parse\n",
        "sequences = list(SeqIO.parse(local_fasta_file, \"fasta\"))\n",
        "\n",
        "# Print the number of sequences loaded to verify\n",
        "print(f\"Number of sequences loaded from template: {len(sequences)}\")"
      ],
      "execution_count": 23,
      "outputs": [
        {
          "output_type": "stream",
          "name": "stdout",
          "text": [
            "Downloading template file from: https://raw.githubusercontent.com/bforsbe/SK2534/main/aligned_output.fasta\n",
            "Template file downloaded and saved as: template_aligned.fasta\n",
            "Number of sequences loaded from template: 3021\n"
          ]
        }
      ]
    },
    {
      "cell_type": "markdown",
      "metadata": {
        "id": "1822ee8b"
      },
      "source": [
        "**Reasoning**:\n",
        "Biopython is already installed, but the previous code block failed to import it. I will retry the previous code block to download and load the FASTA file.\n",
        "\n"
      ]
    },
    {
      "cell_type": "code",
      "metadata": {
        "colab": {
          "base_uri": "https://localhost:8080/"
        },
        "id": "2307a5ed",
        "outputId": "bfd603e8-f29c-4f20-92f2-a51e8117dd4b"
      },
      "source": [
        "import requests\n",
        "import io\n",
        "from Bio import SeqIO\n",
        "\n",
        "# Define the URL of the FASTA file\n",
        "url = \"https://raw.githubusercontent.com/bforsbe/SK2534/main/aligned_output.fasta\"\n",
        "\n",
        "# Download the content of the file\n",
        "response = requests.get(url)\n",
        "response.raise_for_status() # Raise an exception for bad status codes\n",
        "\n",
        "# Use io.StringIO to wrap the downloaded content\n",
        "fasta_content = io.StringIO(response.text)\n",
        "\n",
        "# Read the sequences from the wrapped content using SeqIO.parse\n",
        "sequences = list(SeqIO.parse(fasta_content, \"fasta\"))\n",
        "\n",
        "# Print the number of sequences loaded to verify\n",
        "print(f\"Number of sequences loaded: {len(sequences)}\")"
      ],
      "execution_count": 5,
      "outputs": [
        {
          "output_type": "stream",
          "name": "stdout",
          "text": [
            "Number of sequences loaded: 3021\n"
          ]
        }
      ]
    },
    {
      "cell_type": "markdown",
      "metadata": {
        "id": "290a88af"
      },
      "source": [
        "## Add query sequence\n",
        "\n",
        "### Subtask:\n",
        "Define a query sequence and add it to the list of sequences.\n"
      ]
    },
    {
      "cell_type": "markdown",
      "metadata": {
        "id": "5ac498f6"
      },
      "source": [
        "**Reasoning**:\n",
        "Define the query sequence, create a SeqRecord for it, and add it to the existing list of sequences.\n",
        "\n"
      ]
    },
    {
      "cell_type": "code",
      "metadata": {
        "colab": {
          "base_uri": "https://localhost:8080/"
        },
        "cellView": "form",
        "id": "e1026ad4",
        "outputId": "e9f4f6d7-0ce6-4747-84e8-48c7c1c47c5d"
      },
      "source": [
        "#@title Set query sequence\n",
        "\n",
        "from Bio.Seq import Seq\n",
        "from Bio.SeqRecord import SeqRecord\n",
        "\n",
        "# Define the query sequence string\n",
        "query_sequence_string = \"YKCTFGNSVFSTVKGLKRCLKVHSN \" #@param{type:\"string\"}\n",
        "\n",
        "# Create a SeqRecord object for the query sequence with a fixed ID\n",
        "query_sequence = SeqRecord(Seq(query_sequence_string), id=\"Query_Sequence\", description=\"\")\n",
        "\n",
        "# Create a new list of sequences including the original sequences from the template and the query\n",
        "sequences_with_query = sequences + [query_sequence]\n",
        "\n",
        "# Print the updated number of sequences to verify\n",
        "print(f\"Updated number of sequences (including query): {len(sequences_with_query)}\")"
      ],
      "execution_count": 43,
      "outputs": [
        {
          "output_type": "stream",
          "name": "stdout",
          "text": [
            "Updated number of sequences (including query): 3022\n"
          ]
        }
      ]
    },
    {
      "cell_type": "markdown",
      "metadata": {
        "id": "43e680b3"
      },
      "source": [
        "## Prepare sequences for alignment\n",
        "\n",
        "### Subtask:\n",
        "Modify sequence IDs to be unique and write all sequences (including the query) to a temporary FASTA file.\n"
      ]
    },
    {
      "cell_type": "markdown",
      "metadata": {
        "id": "7e1611e0"
      },
      "source": [
        "**Reasoning**:\n",
        "Modify the sequence IDs to be unique, clear descriptions, and write all sequences to a temporary FASTA file for alignment.\n",
        "\n"
      ]
    },
    {
      "cell_type": "code",
      "metadata": {
        "colab": {
          "base_uri": "https://localhost:8080/"
        },
        "cellView": "form",
        "id": "44bfd6b2",
        "outputId": "5a9e63f7-5cd4-4233-e8af-a97cdb18367b"
      },
      "source": [
        "#@title Modify seqIDs\n",
        "\n",
        "# Modify sequence IDs to be unique and clear descriptions for the list including the query\n",
        "for i, seq in enumerate(sequences_with_query):\n",
        "    # Only modify IDs if they are not the query sequence\n",
        "    if seq.id != \"Query_Sequence\":\n",
        "        seq.id = f\"{seq.id}_{i}\"\n",
        "    seq.description = \"\" # Clear description to avoid issues with some tools\n",
        "\n",
        "# Define a filename for the temporary FASTA file\n",
        "temp_in_file = \"temp_sequences_for_alignment.fasta\"\n",
        "\n",
        "# Write the modified sequences to the temporary FASTA file\n",
        "SeqIO.write(sequences_with_query, temp_in_file, \"fasta\")\n",
        "\n",
        "# Print confirmation message\n",
        "print(f\"Prepared sequences (including query) and saved to {temp_in_file}\")"
      ],
      "execution_count": 44,
      "outputs": [
        {
          "output_type": "stream",
          "name": "stdout",
          "text": [
            "Prepared sequences (including query) and saved to temp_sequences_for_alignment.fasta\n"
          ]
        }
      ]
    },
    {
      "cell_type": "markdown",
      "metadata": {
        "id": "52bfb8a7"
      },
      "source": [
        "## Perform multiple sequence alignment\n",
        "\n",
        "### Subtask:\n",
        "Use ClustalW to align the sequences from the temporary file and save the output to a new file.\n"
      ]
    },
    {
      "cell_type": "markdown",
      "metadata": {
        "id": "f8f24c5e"
      },
      "source": [
        "**Reasoning**:\n",
        "Use Biopython's ClustalwCommandline to perform multiple sequence alignment on the sequences in the temporary FASTA file and save the output to a new FASTA file.\n",
        "\n"
      ]
    },
    {
      "cell_type": "code",
      "metadata": {
        "colab": {
          "base_uri": "https://localhost:8080/"
        },
        "cellView": "form",
        "id": "ea50dc4e",
        "outputId": "1f512929-fab2-4086-cb4f-e7b10e68c57a"
      },
      "source": [
        "#@title Make MSA\n",
        "\n",
        "from Bio.Align.Applications import ClustalwCommandline\n",
        "\n",
        "# Define the name for the output alignment file\n",
        "out_file = \"aligned_with_query.fasta\"\n",
        "\n",
        "# Create a ClustalwCommandline object\n",
        "# Specify the path to the clustalw executable if it's not in your PATH\n",
        "clustalw_cline = ClustalwCommandline(\"clustalw\", infile=temp_in_file, outfile=out_file)\n",
        "\n",
        "# Run the command line tool\n",
        "stdout, stderr = clustalw_cline()\n",
        "\n",
        "# Print confirmation message\n",
        "print(f\"Multiple sequence alignment performed and saved to {out_file}\")"
      ],
      "execution_count": 45,
      "outputs": [
        {
          "output_type": "stream",
          "name": "stdout",
          "text": [
            "Multiple sequence alignment performed and saved to aligned_with_query.fasta\n"
          ]
        }
      ]
    },
    {
      "cell_type": "markdown",
      "metadata": {
        "id": "f087f25f"
      },
      "source": [
        "## Read the alignment\n",
        "\n",
        "### Subtask:\n",
        "Read the aligned sequences from the output file using `AlignIO.read`.\n"
      ]
    },
    {
      "cell_type": "markdown",
      "metadata": {
        "id": "a070e112"
      },
      "source": [
        "**Reasoning**:\n",
        "Read the aligned sequences from the output file using AlignIO.read with the 'fasta' format and print the alignment object.\n",
        "\n"
      ]
    },
    {
      "cell_type": "code",
      "metadata": {
        "colab": {
          "base_uri": "https://localhost:8080/"
        },
        "cellView": "form",
        "id": "0b805761",
        "outputId": "ed6d767a-bc0e-43b5-af0c-ed6af35e425e"
      },
      "source": [
        "#@title Read alignment file\n",
        "from Bio import AlignIO\n",
        "\n",
        "# Define the name of the alignment file output by ClustalW\n",
        "alignment_file = \"aligned_with_query.fasta\"\n",
        "\n",
        "# Read the alignment file using AlignIO.read with 'clustal' format\n",
        "try:\n",
        "    alignment = AlignIO.read(alignment_file, \"clustal\")\n",
        "\n",
        "    # Print the alignment object to verify\n",
        "    print(\"Alignment object:\")\n",
        "    print(alignment)\n",
        "\n",
        "except FileNotFoundError:\n",
        "    print(f\"Error: The file {alignment_file} was not found.\")\n",
        "except Exception as e:\n",
        "    print(f\"An error occurred while reading the file: {e}\")"
      ],
      "execution_count": 46,
      "outputs": [
        {
          "output_type": "stream",
          "name": "stdout",
          "text": [
            "Alignment object:\n",
            "Alignment with 3022 rows and 51 columns\n",
            "----FKCNE---CEKAFS----YSS------QLARHQKV-H---...--- AF-B4DUB8-F1-model_v4_1910_38_\n",
            "----FKCNE---CEKAFS----YSS------QLARHQKV-HIT-...--- ProtVar_P13682_Q9NSC5_A_2089_3\n",
            "----FKCNE---CEKAFS----YSS------QLARHQKV-H---...--- ProtVar_P13682_Q12933-2_A_2097\n",
            "----FKCNE---CEKAFS----YSS------QLARHQKV-H---...--- ProtVar_P13682_Q9NYL2-2_A_2149\n",
            "----FKCNE---CEKAFS----YSS------QLARHQKV-H---...--- ProtVar_P13682_Q12933_A_2188_4\n",
            "----FKCNE---CEKAFS----YSS------QLARHQKV-H---...--- ProtVar_P13682_P23508_A_2213_4\n",
            "----FKCNE---CEKAFS----YSS------QLARHQKV-H---...--- ProtVar_P13682_P57678_A_2241_4\n",
            "----FKCGE---CEKAFS----YSS------QLARHQKV-H---...--- AF-Q5M881-F1-model_v4_83_45_45\n",
            "----YKCKQ---CEKCFV----QKS------QLVRHQKV-HR--...--- AF-A0A6J0SK80-F1-model_v4_1330\n",
            "----YKCPE---CGKSFS----VSS------YLIRHQKI-HT--...--- AF-A0A7K5Y3Q2-F1-model_v4_1248\n",
            "----YKCPE---CGKSFS----VSS------YLIRHQKI-HT--...--- AF-A0A7K7FT70-F1-model_v4_1378\n",
            "----YKCPE---CGKSFS----VSS------YLIRHQKI-HT--...--- AF-A0A7L2Z320-F1-model_v4_1379\n",
            "----YKCPE---CGKSFS----VSS------YLIRHQKI-HT--...--- AF-A0A7K6NNG4-F1-model_v4_1381\n",
            "----YKCPE---CGKTFS----VSS------YLIRHQKI-HT--...--- AF-A0A7L3CVH5-F1-model_v4_1462\n",
            "----YKCPE---CGKSFG----VSS------YLIRHQKV-HT--...--- AF-A0A7K4Z127-F1-model_v4_1297\n",
            "----YKCPE---CGKSFS----VSS------YLIRHQKV-HT--...--- AF-A0A7K9D6R3-F1-model_v4_1299\n",
            "----FKCPE---CKQSFG----LSS------ELLLHQKV-HAG-...--- ProtVar_O15479_Q9UEG4_B_2543_1\n",
            "----YKCPE---CDQNFS----DHS------YLVLHQKI-HS--...--- ProtVar_P28330_Q96LX8_B_2652_1\n",
            "...\n",
            "----YKCGM---CNKEFK----NKT------NLREHERT-HN--...--- AF-A0A151II80-F1-model_v4_2035\n"
          ]
        }
      ]
    },
    {
      "cell_type": "markdown",
      "metadata": {
        "id": "04ed3f2c"
      },
      "source": [
        "## Analyze sequence identity\n",
        "\n",
        "### Subtask:\n",
        "Calculate the maximum sequence identity of the query sequence against all other sequences in the alignment.\n"
      ]
    },
    {
      "cell_type": "markdown",
      "metadata": {
        "id": "23b59b4c"
      },
      "source": [
        "**Reasoning**:\n",
        "Calculate the maximum sequence identity by iterating through the alignment, comparing the query sequence to every other sequence, and keeping track of the highest identity score found.\n",
        "\n"
      ]
    },
    {
      "cell_type": "code",
      "metadata": {
        "colab": {
          "base_uri": "https://localhost:8080/"
        },
        "cellView": "form",
        "id": "98c24d08",
        "outputId": "e94c0dc1-f6f5-4d4b-83f0-6bbf5ea2a008"
      },
      "source": [
        "#@title Analyze maximum SeqID\n",
        "\n",
        "# Find the query sequence in the alignment using its fixed ID\n",
        "query_sequence_id = \"Query_Sequence\"\n",
        "query_seq = None\n",
        "for record in alignment:\n",
        "    if record.id == query_sequence_id:\n",
        "        query_seq = record\n",
        "        break\n",
        "\n",
        "if query_seq is None:\n",
        "    print(f\"Error: Query sequence with ID '{query_sequence_id}' not found in the alignment.\")\n",
        "else:\n",
        "    max_identity = 0.0\n",
        "\n",
        "    # Iterate through each sequence in the alignment\n",
        "    for record in alignment:\n",
        "        # Skip the query sequence itself\n",
        "        if record.id == query_sequence_id:\n",
        "            continue\n",
        "\n",
        "        # Calculate sequence identity\n",
        "        identical_residues = 0\n",
        "        aligned_length = 0\n",
        "        for i in range(alignment.get_alignment_length()):\n",
        "            query_residue = query_seq[i]\n",
        "            current_residue = record[i]\n",
        "\n",
        "            # Only consider positions where neither sequence has a gap\n",
        "            if query_residue != '-' and current_residue != '-':\n",
        "                aligned_length += 1\n",
        "                if query_residue == current_residue:\n",
        "                    identical_residues += 1\n",
        "\n",
        "        # Avoid division by zero if there are no aligned positions\n",
        "        if aligned_length > 0:\n",
        "            identity = (identical_residues / aligned_length) * 100\n",
        "            max_identity = max(max_identity, identity)\n",
        "        else:\n",
        "            identity = 0.0 # Or handle as appropriate if no comparable positions\n",
        "\n",
        "    print(f\"Maximum sequence identity of the query sequence against others: {max_identity:.2f}%\")"
      ],
      "execution_count": 47,
      "outputs": [
        {
          "output_type": "stream",
          "name": "stdout",
          "text": [
            "Maximum sequence identity of the query sequence against others: 50.00%\n"
          ]
        }
      ]
    },
    {
      "cell_type": "markdown",
      "metadata": {
        "id": "39d197d7"
      },
      "source": [
        "## Display results\n",
        "\n",
        "### Subtask:\n",
        "Print the maximum sequence identity.\n"
      ]
    },
    {
      "cell_type": "markdown",
      "metadata": {
        "id": "4d8f967c"
      },
      "source": [
        "**Reasoning**:\n",
        "Print the value of the `max_identity` variable with a descriptive message as requested.\n",
        "\n"
      ]
    },
    {
      "cell_type": "code",
      "metadata": {
        "colab": {
          "base_uri": "https://localhost:8080/"
        },
        "id": "16aad070",
        "outputId": "fbd9a7a0-95a1-4ef5-cc94-d659276cb723"
      },
      "source": [
        "print(f\"The maximum sequence identity of the query sequence against all other sequences is: {max_identity:.2f}%\")"
      ],
      "execution_count": 48,
      "outputs": [
        {
          "output_type": "stream",
          "name": "stdout",
          "text": [
            "The maximum sequence identity of the query sequence against all other sequences is: 50.00%\n"
          ]
        }
      ]
    }
  ]
}