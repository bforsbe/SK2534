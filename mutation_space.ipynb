{
  "nbformat": 4,
  "nbformat_minor": 0,
  "metadata": {
    "colab": {
      "provenance": [],
      "include_colab_link": true
    },
    "kernelspec": {
      "name": "python3",
      "display_name": "Python 3"
    },
    "language_info": {
      "name": "python"
    },
    "accelerator": "GPU",
    "gpuClass": "standard"
  },
  "cells": [
    {
      "cell_type": "markdown",
      "metadata": {
        "id": "view-in-github",
        "colab_type": "text"
      },
      "source": [
        "<a href=\"https://colab.research.google.com/github/bforsbe/SK2534/blob/main/mutation_space.ipynb\" target=\"_parent\"><img src=\"https://colab.research.google.com/assets/colab-badge.svg\" alt=\"Open In Colab\"/></a>"
      ]
    },
    {
      "cell_type": "markdown",
      "source": [
        "#**Mutate DNA sequence but preserve protein fold**\n",
        "this exercise is meant to affirm the basics of how DNA is *translated* into proteins, and how this determines the *fold* of the protein.\n",
        "\n",
        "### **Instructions**\n",
        "The following is a set of code blocks that will set up and execute steps to help you re-design the DNA sequence of a small protein. **The aim is to attain a high mutation score**, which you will achieve by mutating DNA bases. Each mutation increases your score. If the mutation results in a mutated amino acid as well, your score will increase even more. **However, if the mutations destroy the fold of the protein, your total score will suffer**. Your total score is calculated by copying the mutated protein sequence into the ESMfold code block and predicting its structure. The following block can then calculate a similarity score in the form of RMSD, which is combined with your mutation score.\n",
        "\n",
        "#### **What to do**\n",
        "- read the instructions for each block.\n",
        "- click the little ▶ play icon to the left of each block below.\n"
      ],
      "metadata": {
        "id": "c_5UUJEFL4Rm"
      }
    },
    {
      "cell_type": "markdown",
      "source": [
        "First, we will install biopython, which is needed to translate DNA sequences, align structures, and more. this should be fairly quick."
      ],
      "metadata": {
        "id": "BZK7FrSZOepE"
      }
    },
    {
      "cell_type": "code",
      "source": [
        "!pip install biopython"
      ],
      "metadata": {
        "id": "Nw43ayv5lk3i",
        "colab": {
          "base_uri": "https://localhost:8080/"
        },
        "outputId": "f79d0418-030b-4775-9b3e-7c9436d64dfe"
      },
      "execution_count": 1,
      "outputs": [
        {
          "output_type": "stream",
          "name": "stdout",
          "text": [
            "Collecting biopython\n",
            "  Downloading biopython-1.85-cp312-cp312-manylinux_2_17_x86_64.manylinux2014_x86_64.whl.metadata (13 kB)\n",
            "Requirement already satisfied: numpy in /usr/local/lib/python3.12/dist-packages (from biopython) (2.0.2)\n",
            "Downloading biopython-1.85-cp312-cp312-manylinux_2_17_x86_64.manylinux2014_x86_64.whl (3.3 MB)\n",
            "\u001b[?25l   \u001b[90m━━━━━━━━━━━━━━━━━━━━━━━━━━━━━━━━━━━━━━━━\u001b[0m \u001b[32m0.0/3.3 MB\u001b[0m \u001b[31m?\u001b[0m eta \u001b[36m-:--:--\u001b[0m\r\u001b[2K   \u001b[91m━━━━━━━━━━━━━━━━━━━\u001b[0m\u001b[90m╺\u001b[0m\u001b[90m━━━━━━━━━━━━━━━━━━━━\u001b[0m \u001b[32m1.6/3.3 MB\u001b[0m \u001b[31m46.7 MB/s\u001b[0m eta \u001b[36m0:00:01\u001b[0m\r\u001b[2K   \u001b[90m━━━━━━━━━━━━━━━━━━━━━━━━━━━━━━━━━━━━━━━━\u001b[0m \u001b[32m3.3/3.3 MB\u001b[0m \u001b[31m49.4 MB/s\u001b[0m eta \u001b[36m0:00:00\u001b[0m\n",
            "\u001b[?25hInstalling collected packages: biopython\n",
            "Successfully installed biopython-1.85\n"
          ]
        }
      ]
    },
    {
      "cell_type": "markdown",
      "source": [
        "Ok, now we can provide an original and mutated sequence, check what is different, and get a mutation score. In case you need it, the unmutated DNA sequence we are using in this exercise is\n",
        "\n",
        "```\n",
        "ATG AAA GTG ATT TTT CTG AAA AAA GGC GAA ATT AAA AAC GTG GCG GAT GGC TAT GCG AAC AAC TTT CTG TTT AAA CAG GGC CTG GCG ATT GAA GCG\n",
        "```\n",
        "\n",
        "Try altering one of the bases, and run this block to see what happened, and what score you get.\n"
      ],
      "metadata": {
        "id": "lOvLS33RO7ys"
      }
    },
    {
      "cell_type": "code",
      "source": [
        "#@title Mutate DNA and inspect translation\n",
        "from IPython.display import display, HTML\n",
        "from textwrap import wrap\n",
        "import Bio\n",
        "from Bio.Seq import Seq\n",
        "\n",
        "# === Inputs ===\n",
        "original_seq = \"ATG AAA GTG ATT TTT CTG AAA AAA GGC GAA ATT AAA AAC GTG GCG GAT GGC TAT GCG AAC AAC TTT CTG TTT AAA CAG GGC CTG GCG ATT GAA GCG\" #@param {type:\"string\"}\n",
        "mutated_seq  = \"ATGCGTGTGTTATTTATTCGTAAAGGTGAATTACGTAACATTGCGGAAGCTTTTGCGCAACAATATCTGTTTCGTAATGGCTTAGCGATTGAAGCG\" #@param {type:\"string\"}\n",
        "\n",
        "# Clean input\n",
        "original_seq = original_seq.replace(\" \", \"\").upper()\n",
        "mutated_seq  = mutated_seq.replace(\" \", \"\").upper()\n",
        "\n",
        "# === Checks ===\n",
        "if len(original_seq) != len(mutated_seq):\n",
        "    raise ValueError(f\"Sequences must have the same length (got {len(original_seq)} vs {len(mutated_seq)}).\")\n",
        "if len(original_seq) % 3 != 0:\n",
        "    raise ValueError(f\"Sequence length must be a multiple of 3 (got {len(original_seq)}).\")\n",
        "\n",
        "# === Genetic code (DNA codons) ===\n",
        "codon_table = {\n",
        "    \"TTT\":\"F\",\"TTC\":\"F\",\"TTA\":\"L\",\"TTG\":\"L\",\n",
        "    \"CTT\":\"L\",\"CTC\":\"L\",\"CTA\":\"L\",\"CTG\":\"L\",\n",
        "    \"ATT\":\"I\",\"ATC\":\"I\",\"ATA\":\"I\",\"ATG\":\"M\",\n",
        "    \"GTT\":\"V\",\"GTC\":\"V\",\"GTA\":\"V\",\"GTG\":\"V\",\n",
        "    \"TCT\":\"S\",\"TCC\":\"S\",\"TCA\":\"S\",\"TCG\":\"S\",\n",
        "    \"CCT\":\"P\",\"CCC\":\"P\",\"CCA\":\"P\",\"CCG\":\"P\",\n",
        "    \"ACT\":\"T\",\"ACC\":\"T\",\"ACA\":\"T\",\"ACG\":\"T\",\n",
        "    \"GCT\":\"A\",\"GCC\":\"A\",\"GCA\":\"A\",\"GCG\":\"A\",\n",
        "    \"TAT\":\"Y\",\"TAC\":\"Y\",\"TAA\":\"*\",\"TAG\":\"*\",\n",
        "    \"CAT\":\"H\",\"CAC\":\"H\",\"CAA\":\"Q\",\"CAG\":\"Q\",\n",
        "    \"AAT\":\"N\",\"AAC\":\"N\",\"AAA\":\"K\",\"AAG\":\"K\",\n",
        "    \"GAT\":\"D\",\"GAC\":\"D\",\"GAA\":\"E\",\"GAG\":\"E\",\n",
        "    \"TGT\":\"C\",\"TGC\":\"C\",\"TGA\":\"*\",\"TGG\":\"W\",\n",
        "    \"CGT\":\"R\",\"CGC\":\"R\",\"CGA\":\"R\",\"CGG\":\"R\",\n",
        "    \"AGT\":\"S\",\"AGC\":\"S\",\"AGA\":\"R\",\"AGG\":\"R\",\n",
        "    \"GGT\":\"G\",\"GGC\":\"G\",\"GGA\":\"G\",\"GGG\":\"G\"\n",
        "}\n",
        "\n",
        "def translate_dna(seq):\n",
        "    codons = wrap(seq, 3)\n",
        "    aa = [codon_table.get(c,\"?\") for c in codons]\n",
        "    return codons, aa\n",
        "\n",
        "from IPython.display import display, HTML\n",
        "\n",
        "def compare_sequences(seq1, seq2, space_every=10, spacer=\" \", no_number=False):\n",
        "    \"\"\"\n",
        "    Display two sequences in monospace, highlight differences in bold red,\n",
        "    insert spaces every n characters, and add numbering above each block.\n",
        "    \"\"\"\n",
        "    if len(seq1) != len(seq2):\n",
        "        raise ValueError(\"Sequences must be the same length\")\n",
        "\n",
        "    def highlight_block(s1, s2):\n",
        "        \"\"\"Highlight differences in one block of equal length\"\"\"\n",
        "        out1, out2 = [], []\n",
        "        for a, b in zip(s1, s2):\n",
        "            out1.append(a)\n",
        "            if a == b:\n",
        "                out2.append(b)\n",
        "            else:\n",
        "                out2.append(f\"<span style='color:red;font-weight:bold'>{b}</span>\")\n",
        "        return \"\".join(out1), \"\".join(out2)\n",
        "\n",
        "    # Split into blocks of size space_every\n",
        "    blocks1 = [seq1[i:i+space_every] for i in range(0, len(seq1), space_every)]\n",
        "    blocks2 = [seq2[i:i+space_every] for i in range(0, len(seq2), space_every)]\n",
        "\n",
        "    seq1_blocks, seq2_blocks, num_blocks = [], [], []\n",
        "    pos = 0\n",
        "    for b1, b2 in zip(blocks1, blocks2):\n",
        "        o1, o2 = highlight_block(b1, b2)\n",
        "        seq1_blocks.append(o1)\n",
        "        seq2_blocks.append(o2)\n",
        "        pos += len(b1)\n",
        "        num_blocks.append(str(pos).rjust(len(b1)))\n",
        "\n",
        "\n",
        "    number_line = spacer.join(num_blocks)\n",
        "    seq1_line   = spacer.join(seq1_blocks)\n",
        "    seq2_line   = spacer.join(seq2_blocks)\n",
        "\n",
        "    html = []\n",
        "    if no_number:\n",
        "        html = seq1_line + \"<br>\" + seq2_line\n",
        "    else:\n",
        "        html = number_line + \"<br>\" + seq1_line + \"<br>\" + seq2_line\n",
        "    display(HTML(f\"<pre style='font-family:monospace'>{html}</pre>\"))\n",
        "\n",
        "def dna_identity(seq1: str, seq2: str) -> float:\n",
        "    \"\"\"Return % identity at DNA level\"\"\"\n",
        "    if len(seq1) != len(seq2):\n",
        "        raise ValueError(\"Sequences must have the same length\")\n",
        "    matches = sum(a == b for a, b in zip(seq1.upper(), seq2.upper()))\n",
        "    return 100 * matches / len(seq1)\n",
        "\n",
        "def protein_identity(seq1: str, seq2: str) -> float:\n",
        "    \"\"\"Translate DNA → protein and return % identity\"\"\"\n",
        "    if len(seq1) % 3 != 0 or len(seq2) % 3 != 0:\n",
        "        raise ValueError(\"DNA sequences must be divisible by 3\")\n",
        "    prot1 = str(Seq(seq1).translate(to_stop=False))\n",
        "    prot2 = str(Seq(seq2).translate(to_stop=False))\n",
        "    if len(prot1) != len(prot2):\n",
        "        raise ValueError(\"Translated proteins have different lengths\")\n",
        "    matches = sum(a == b for a, b in zip(prot1, prot2))\n",
        "    return 100 * matches / len(prot1)\n",
        "\n",
        "def mutation_score(seq1: str, seq2: str) -> float:\n",
        "    \"\"\"Return mutation score\"\"\"\n",
        "    if len(seq1) != len(seq2):\n",
        "        raise ValueError(\"Sequences must have the same length\")\n",
        "\n",
        "    protein_id = protein_identity(seq1, seq2)\n",
        "    dna_id = dna_identity(seq1, seq2)\n",
        "\n",
        "    return ((100.-protein_id)+(100.-dna_id))/2\n",
        "\n",
        "# === Translation ===\n",
        "# ATGCGTGTGTTATTTATTCGTCGTGGTGAATTACGTAACATTGGTGAAGCTTTTGCGCAACAATATCTGTTTCGTAATGGCTTAGCGATTGAAGCG\n",
        "codons_o, aa_o = translate_dna(original_seq)\n",
        "codons_m, aa_m = translate_dna(mutated_seq)\n",
        "\n",
        "# === HTML display ===\n",
        "\n",
        "compare_sequences(original_seq,mutated_seq,space_every=3)\n",
        "compare_sequences(aa_o,aa_m,space_every=1, no_number=True, spacer=\"   \")\n",
        "\n",
        "#display(HTML(f\"<pre style='font-family:monospace'>{\"   \".join(aa_o)}</pre>\"))\n",
        "#compare_sequences(\"\".join(codons_o),\"\".join(codons_m),space_every=30)\n",
        "\n",
        "print(\"\\n\\nMutaded sequence without spaces:\")\n",
        "display(HTML(f\"<pre style='font-family:monospace'>{\"\".join(aa_m)}</pre>\"))\n",
        "\n",
        "dna_id = dna_identity(original_seq, mutated_seq)\n",
        "#print(f\"\\nDNA % identity: {dna_id:.1f}%\")\n",
        "protein_id = protein_identity(original_seq, mutated_seq)\n",
        "#print(f\"Protein % identity: {protein_id:.1f}%\")\n",
        "print(\"\\n\")\n",
        "mut_score = mutation_score(original_seq,mutated_seq)\n",
        "print(f\"Mutation score is {mut_score:.2f}\")\n"
      ],
      "metadata": {
        "id": "KNGB65P92gII",
        "colab": {
          "base_uri": "https://localhost:8080/",
          "height": 229
        },
        "outputId": "9ef11fea-b615-48c4-f8e4-baa5830c0c08"
      },
      "execution_count": 2,
      "outputs": [
        {
          "output_type": "display_data",
          "data": {
            "text/plain": [
              "<IPython.core.display.HTML object>"
            ],
            "text/html": [
              "<pre style='font-family:monospace'>  3   6   9  12  15  18  21  24  27  30  33  36  39  42  45  48  51  54  57  60  63  66  69  72  75  78  81  84  87  90  93  96<br>ATG AAA GTG ATT TTT CTG AAA AAA GGC GAA ATT AAA AAC GTG GCG GAT GGC TAT GCG AAC AAC TTT CTG TTT AAA CAG GGC CTG GCG ATT GAA GCG<br>ATG <span style='color:red;font-weight:bold'>C</span><span style='color:red;font-weight:bold'>G</span><span style='color:red;font-weight:bold'>T</span> GTG <span style='color:red;font-weight:bold'>T</span>T<span style='color:red;font-weight:bold'>A</span> TTT <span style='color:red;font-weight:bold'>A</span>T<span style='color:red;font-weight:bold'>T</span> <span style='color:red;font-weight:bold'>C</span><span style='color:red;font-weight:bold'>G</span><span style='color:red;font-weight:bold'>T</span> AAA GG<span style='color:red;font-weight:bold'>T</span> GAA <span style='color:red;font-weight:bold'>T</span>T<span style='color:red;font-weight:bold'>A</span> <span style='color:red;font-weight:bold'>C</span><span style='color:red;font-weight:bold'>G</span><span style='color:red;font-weight:bold'>T</span> AAC <span style='color:red;font-weight:bold'>A</span>T<span style='color:red;font-weight:bold'>T</span> GCG GA<span style='color:red;font-weight:bold'>A</span> G<span style='color:red;font-weight:bold'>C</span><span style='color:red;font-weight:bold'>T</span> T<span style='color:red;font-weight:bold'>T</span>T GCG <span style='color:red;font-weight:bold'>C</span>A<span style='color:red;font-weight:bold'>A</span> <span style='color:red;font-weight:bold'>C</span>A<span style='color:red;font-weight:bold'>A</span> T<span style='color:red;font-weight:bold'>A</span>T CTG TTT <span style='color:red;font-weight:bold'>C</span><span style='color:red;font-weight:bold'>G</span><span style='color:red;font-weight:bold'>T</span> <span style='color:red;font-weight:bold'>A</span>A<span style='color:red;font-weight:bold'>T</span> GGC <span style='color:red;font-weight:bold'>T</span>T<span style='color:red;font-weight:bold'>A</span> GCG ATT GAA GCG</pre>"
            ]
          },
          "metadata": {}
        },
        {
          "output_type": "display_data",
          "data": {
            "text/plain": [
              "<IPython.core.display.HTML object>"
            ],
            "text/html": [
              "<pre style='font-family:monospace'>M   K   V   I   F   L   K   K   G   E   I   K   N   V   A   D   G   Y   A   N   N   F   L   F   K   Q   G   L   A   I   E   A<br>M   <span style='color:red;font-weight:bold'>R</span>   V   <span style='color:red;font-weight:bold'>L</span>   F   <span style='color:red;font-weight:bold'>I</span>   <span style='color:red;font-weight:bold'>R</span>   K   G   E   <span style='color:red;font-weight:bold'>L</span>   <span style='color:red;font-weight:bold'>R</span>   N   <span style='color:red;font-weight:bold'>I</span>   A   <span style='color:red;font-weight:bold'>E</span>   <span style='color:red;font-weight:bold'>A</span>   <span style='color:red;font-weight:bold'>F</span>   A   <span style='color:red;font-weight:bold'>Q</span>   <span style='color:red;font-weight:bold'>Q</span>   <span style='color:red;font-weight:bold'>Y</span>   L   F   <span style='color:red;font-weight:bold'>R</span>   <span style='color:red;font-weight:bold'>N</span>   G   L   A   I   E   A</pre>"
            ]
          },
          "metadata": {}
        },
        {
          "output_type": "stream",
          "name": "stdout",
          "text": [
            "\n",
            "\n",
            "Mutaded sequence without spaces:\n"
          ]
        },
        {
          "output_type": "display_data",
          "data": {
            "text/plain": [
              "<IPython.core.display.HTML object>"
            ],
            "text/html": [
              "<pre style='font-family:monospace'>MRVLFIRKGELRNIAEAFAQQYLFRNGLAIEA</pre>"
            ]
          },
          "metadata": {}
        },
        {
          "output_type": "stream",
          "name": "stdout",
          "text": [
            "\n",
            "\n",
            "Mutation score is 41.15\n"
          ]
        }
      ]
    },
    {
      "cell_type": "markdown",
      "source": [
        "#**ESMFold**\n",
        "Once we have a mutated *protein* sequence, we can fold it to make sure we didn't destroy the fold. **NOTE** if your mutation did not change the protein sequence, then your total score is the same as your mutation score (so you could try to maximize this without mutating protein at all). To fold the protein, we will be using ESMfold, a protein language model made by meta.\n",
        "\n",
        "For more details on ESMfold see: [Github](https://github.com/facebookresearch/esm/tree/main/esm), [Preprint](https://www.biorxiv.org/content/10.1101/2022.07.20.500902v1)\n",
        "\n",
        "#### **Instructions**\n",
        "- Run the block to install ESMfold. This should only take a couple of minutes.\n",
        "- Copy the \"Mutaded sequence without spaces\" from the preceding block above, into the \"sequence\" filed below.\n",
        "- Run the prediction\n",
        "\n",
        "**NOTE**: The prediction might take a minute the first time and be quicker when you run it subsequently. The speed might also depend on the resources you have in the session, which you can check in the upper corener of the colab notebook header."
      ],
      "metadata": {
        "id": "POQBeXf2Xoxo"
      }
    },
    {
      "cell_type": "code",
      "execution_count": null,
      "metadata": {
        "cellView": "form",
        "id": "boFQEwsNQ4Qt",
        "colab": {
          "base_uri": "https://localhost:8080/"
        },
        "outputId": "f07d0195-e030-4211-96d5-65d53984fa41"
      },
      "outputs": [
        {
          "output_type": "stream",
          "name": "stdout",
          "text": [
            "installing libs...\n"
          ]
        }
      ],
      "source": [
        "%%time\n",
        "#@title install\n",
        "#@markdown install ESMFold, OpenFold and download Params (~2min 30s)\n",
        "version = \"1\"\n",
        "model_name = \"esmfold_v0.model\" if version == \"0\" else \"esmfold.model\"\n",
        "import os, time\n",
        "if not os.path.isfile(model_name):\n",
        "  # download esmfold params\n",
        "  os.system(\"apt-get install aria2 -qq\")\n",
        "  os.system(f\"aria2c -q -x 16 https://colabfold.steineggerlab.workers.dev/esm/{model_name} &\")\n",
        "\n",
        "  if not os.path.isfile(\"finished_install\"):\n",
        "    # install libs\n",
        "    print(\"installing libs...\")\n",
        "    os.system(\"pip install -q omegaconf pytorch_lightning biopython ml_collections einops py3Dmol modelcif\")\n",
        "    os.system(\"pip install -q git+https://github.com/NVIDIA/dllogger.git\")\n",
        "\n",
        "    print(\"installing openfold...\")\n",
        "    # install openfold\n",
        "    os.system(f\"pip install -q git+https://github.com/sokrypton/openfold.git\")\n",
        "\n",
        "    print(\"installing esmfold...\")\n",
        "    # install esmfold\n",
        "    os.system(f\"pip install -q git+https://github.com/sokrypton/esm.git\")\n",
        "    os.system(\"touch finished_install\")\n",
        "\n",
        "  # wait for Params to finish downloading...\n",
        "  while not os.path.isfile(model_name):\n",
        "    time.sleep(5)\n",
        "  if os.path.isfile(f\"{model_name}.aria2\"):\n",
        "    print(\"downloading params...\")\n",
        "  while os.path.isfile(f\"{model_name}.aria2\"):\n",
        "    time.sleep(5)"
      ]
    },
    {
      "cell_type": "code",
      "source": [
        "#@title ##run **ESMFold**\n",
        "%%time\n",
        "from string import ascii_uppercase, ascii_lowercase\n",
        "import hashlib, re, os\n",
        "import numpy as np\n",
        "import torch\n",
        "from jax.tree_util import tree_map\n",
        "import matplotlib.pyplot as plt\n",
        "from scipy.special import softmax\n",
        "import gc\n",
        "\n",
        "def parse_output(output):\n",
        "  pae = (output[\"aligned_confidence_probs\"][0] * np.arange(64)).mean(-1) * 31\n",
        "  plddt = output[\"plddt\"][0,:,1]\n",
        "\n",
        "  bins = np.append(0,np.linspace(2.3125,21.6875,63))\n",
        "  sm_contacts = softmax(output[\"distogram_logits\"],-1)[0]\n",
        "  sm_contacts = sm_contacts[...,bins<8].sum(-1)\n",
        "  xyz = output[\"positions\"][-1,0,:,1]\n",
        "  mask = output[\"atom37_atom_exists\"][0,:,1] == 1\n",
        "  o = {\"pae\":pae[mask,:][:,mask],\n",
        "       \"plddt\":plddt[mask],\n",
        "       \"sm_contacts\":sm_contacts[mask,:][:,mask],\n",
        "       \"xyz\":xyz[mask]}\n",
        "  return o\n",
        "\n",
        "def get_hash(x): return hashlib.sha1(x.encode()).hexdigest()\n",
        "alphabet_list = list(ascii_uppercase+ascii_lowercase)\n",
        "\n",
        "jobname = \"mutation_1\" #@param {type:\"string\"}\n",
        "jobname = re.sub(r'\\W+', '', jobname)[:50]\n",
        "\n",
        "sequence = \"MRVLFIRKGELRNIAEAFAQQYLFRNGLAIEA\" #@param {type:\"string\"}\n",
        "sequence = re.sub(\"[^A-Z:]\", \"\", sequence.replace(\"/\",\":\").upper())\n",
        "sequence = re.sub(\":+\",\":\",sequence)\n",
        "sequence = re.sub(\"^[:]+\",\"\",sequence)\n",
        "sequence = re.sub(\"[:]+$\",\"\",sequence)\n",
        "copies = 1\n",
        "if copies == \"\" or copies <= 0: copies = 1\n",
        "sequence = \":\".join([sequence] * copies)\n",
        "num_recycles = 3\n",
        "chain_linker = 25\n",
        "\n",
        "ID = jobname+\"_\"+get_hash(sequence)[:5]\n",
        "print(ID)\n",
        "seqs = sequence.split(\":\")\n",
        "lengths = [len(s) for s in seqs]\n",
        "length = sum(lengths)\n",
        "print(\"length\",length)\n",
        "\n",
        "u_seqs = list(set(seqs))\n",
        "if len(seqs) == 1: mode = \"mono\"\n",
        "elif len(u_seqs) == 1: mode = \"homo\"\n",
        "else: mode = \"hetero\"\n",
        "\n",
        "if \"model\" not in dir() or model_name != model_name_:\n",
        "  if \"model\" in dir():\n",
        "    # delete old model from memory\n",
        "    del model\n",
        "    gc.collect()\n",
        "    if torch.cuda.is_available():\n",
        "      torch.cuda.empty_cache()\n",
        "\n",
        "  model = torch.load(model_name, weights_only=False)\n",
        "  model.eval().cuda().requires_grad_(False)\n",
        "  model_name_ = model_name\n",
        "\n",
        "# optimized for Tesla T4\n",
        "if length > 700:\n",
        "  model.set_chunk_size(64)\n",
        "else:\n",
        "  model.set_chunk_size(128)\n",
        "\n",
        "torch.cuda.empty_cache()\n",
        "output = model.infer(sequence,\n",
        "                     num_recycles=num_recycles,\n",
        "                     chain_linker=\"X\"*chain_linker,\n",
        "                     residue_index_offset=512)\n",
        "\n",
        "pdb_str = model.output_to_pdb(output)[0]\n",
        "output = tree_map(lambda x: x.cpu().numpy(), output)\n",
        "ptm = output[\"ptm\"][0]\n",
        "plddt = output[\"plddt\"][0,...,1].mean()\n",
        "O = parse_output(output)\n",
        "print(f'ptm: {ptm:.3f} plddt: {plddt:.3f}')\n",
        "os.system(f\"mkdir -p {ID}\")\n",
        "prefix = f\"{ID}/ptm{ptm:.3f}_r{num_recycles}_default\"\n",
        "np.savetxt(f\"{prefix}.pae.txt\",O[\"pae\"],\"%.3f\")\n",
        "o_pdb_file=f\"{prefix}.pdb\"\n",
        "with open(o_pdb_file,\"w\") as out:\n",
        "  out.write(pdb_str)"
      ],
      "metadata": {
        "cellView": "form",
        "id": "CcyNpAvhTX6q"
      },
      "execution_count": null,
      "outputs": []
    },
    {
      "cell_type": "markdown",
      "source": [
        "Now that we have predicted the fold of the mutated protein sequence, we will align it to a reference, and calculate their differences in atom positions, or root mean squared difference (RMSD). This will then be used to penalize proteins with a high RMSD to the reference structure, which will affect your total score. That is, if you destroyed the fold, your score will be lowered.\n",
        "\n",
        "**NOTE**: This will be based on the last calculated mutation score and predicted model, i.e. assuming that you have run all blocks in order (you dont have to run the install blocks again though, unless you have restarted the whole session).\n"
      ],
      "metadata": {
        "id": "vyDfdy2TRyo2"
      }
    },
    {
      "cell_type": "code",
      "source": [
        "#@title Calculate RMSD-based final score\n",
        "import os, re, requests\n",
        "import torch\n",
        "from jax.tree_util import tree_map\n",
        "from Bio.Seq import Seq\n",
        "from Bio.PDB import PDBParser, Superimposer, PDBIO\n",
        "import numpy as np\n",
        "import tempfile\n",
        "\n",
        "# --- Superpose prediction onto reference ---\n",
        "def align_pred_to_ref(pred_pdb_str, ref_pdb_file, out_file=\"pred_aligned.pdb\"):\n",
        "    parser = PDBParser(QUIET=True)\n",
        "\n",
        "    # Save predicted PDB string to temp file\n",
        "    with tempfile.NamedTemporaryFile(delete=False, suffix=\".pdb\") as tmp_pred:\n",
        "        tmp_pred.write(pred_pdb_str.encode())\n",
        "        pred_file = tmp_pred.name\n",
        "\n",
        "    pred = parser.get_structure(\"pred\", pred_file)\n",
        "    ref  = parser.get_structure(\"ref\", ref_pdb_file)\n",
        "\n",
        "    # Use CA atoms for alignment\n",
        "    pred_atoms = [a for a in pred.get_atoms() if a.get_id() == \"CA\"]\n",
        "    ref_atoms  = [a for a in ref.get_atoms()  if a.get_id() == \"CA\"]\n",
        "\n",
        "    n = min(len(pred_atoms), len(ref_atoms))\n",
        "    si = Superimposer()\n",
        "    si.set_atoms(ref_atoms[:n], pred_atoms[:n])  # align prediction to reference\n",
        "    si.apply(pred.get_atoms())                   # apply transform to prediction\n",
        "\n",
        "    # Write aligned prediction\n",
        "    io = PDBIO()\n",
        "    io.set_structure(pred)\n",
        "    io.save(out_file)\n",
        "\n",
        "    return out_file, si.rms\n",
        "\n",
        "def rmsd_to_similarity(rmsd, sigma=2.0):\n",
        "    \"\"\"\n",
        "    Convert RMSD (Å) to a similarity score in [0,1].\n",
        "    Smaller RMSD -> score close to 1, larger RMSD -> score close to 0.\n",
        "\n",
        "    Parameters\n",
        "    ----------\n",
        "    rmsd : float or np.array\n",
        "        Root-mean-square deviation in angstroms.\n",
        "    sigma : float\n",
        "        Scaling factor controlling decay. Typical RMSDs of 1-2 Å → high similarity.\n",
        "\n",
        "    Returns\n",
        "    -------\n",
        "    similarity : float or np.array\n",
        "        Score in [0,1].\n",
        "    \"\"\"\n",
        "    return np.exp(-rmsd / sigma)\n",
        "\n",
        "# --- Download reference PDB ---\n",
        "ref_file=\"reference.pdb\"\n",
        "if not os.path.isfile(ref_file):\n",
        "  !wget -q -O reference.pdb https://raw.githubusercontent.com/bforsbe/SK2534/main/ref_for_mutation.pdb\n",
        "\n",
        "aligned_file, rmsd_val = align_pred_to_ref(pdb_str, ref_file)\n",
        "\n",
        "#for rmsd in [0.5, 1.0, 2.0, 5.0]:\n",
        "#    print(rmsd, rmsd_to_similarity(rmsd))\n",
        "pred_sim_score = rmsd_to_similarity(rmsd_val)\n",
        "mut_score=mutation_score(original_seq,mutated_seq)\n",
        "\n",
        "# --- Compare ---\n",
        "print(f\"Input file is {o_pdb_file}\")\n",
        "#print(f\"Protein sequence: {protein_seq}\")\n",
        "print(f\"mutation score: \\t{mut_score:.2f})\")\n",
        "print(f\"RMSD vs reference: \\t{rmsd_val:.3f} Å (score: {pred_sim_score:.2f})\")\n",
        "print(\"\\n\\n\")\n",
        "print(f\"Total score: \\t{mut_score*pred_sim_score:.3f}\")\n"
      ],
      "metadata": {
        "id": "jm92UpWp5JbI",
        "cellView": "form"
      },
      "execution_count": null,
      "outputs": []
    },
    {
      "cell_type": "markdown",
      "source": [
        "##Submit\n",
        "For fun and in the spirit of friendly competition, you can submit your score [here](https://forms.gle/TNsyQ57fn9YcAMmQA). You can submit as many as you want, and under whatever name or nickname you want. The results will be presented at the end of the exercise."
      ],
      "metadata": {
        "id": "IrezjOqUzDMl"
      }
    },
    {
      "cell_type": "markdown",
      "source": [
        "To understand what the RMSD value means, you can choose to look at the reference and prediction aligned in 3D. For RMSD values below 2, they might superpose very closely, whereas you might see two completely different folds for higher values."
      ],
      "metadata": {
        "id": "mYOfnbbRTHM_"
      }
    },
    {
      "cell_type": "code",
      "source": [
        "#@title Display predicted (superposed) + reference {run: \"auto\"}\n",
        "import py3Dmol\n",
        "from Bio.PDB import PDBParser, Superimposer, PDBIO\n",
        "import tempfile, os\n",
        "\n",
        "# --- Visualize both ---\n",
        "def show_pred_and_ref_aligned(pred_pdb_str, ref_pdb_file,\n",
        "                              color=\"pLDDT\", show_sidechains=False, show_mainchains=False,\n",
        "                              chains=None, vmin=50, vmax=90, size=(800,480), Ls=None, hide_pred=False):\n",
        "\n",
        "    aligned_file, rmsd = align_pred_to_ref(pred_pdb_str, ref_pdb_file)\n",
        "\n",
        "    view = py3Dmol.view(js='https://3dmol.org/build/3Dmol.js',\n",
        "                        width=size[0], height=size[1])\n",
        "\n",
        "    # Reference (fixed, green)\n",
        "    with open(ref_pdb_file) as f:\n",
        "        ref_pdb_str = f.read()\n",
        "    view.addModel(ref_pdb_str,'pdb')\n",
        "    view.setStyle({'model':0},{'cartoon':{'color':'green','opacity':0.7}})\n",
        "\n",
        "    # Prediction (aligned, colored)\n",
        "    with open(aligned_file) as f:\n",
        "        pred_aligned_str = f.read()\n",
        "    if not hide_pred:\n",
        "        view.addModel(pred_aligned_str,'pdb')\n",
        "    if color == \"pLDDT\":\n",
        "        view.setStyle({'model':1,'cartoon': {'colorscheme': {'prop':'b','gradient': 'roygb','min':vmin,'max':vmax}}})\n",
        "    elif color == \"rainbow\":\n",
        "        view.setStyle({'model':1,'cartoon': {'color':'spectrum'}})\n",
        "    elif color == \"chain\":\n",
        "        from string import ascii_uppercase\n",
        "        alphabet_list = list(ascii_uppercase)\n",
        "        for n,chain,c in zip(range(chains),alphabet_list,pymol_color_list):\n",
        "            view.setStyle({'model':1,'chain':chain},{'cartoon': {'color':c}})\n",
        "\n",
        "    if show_sidechains:\n",
        "        view.addStyle({'model':1,'stick':{}})\n",
        "\n",
        "    view.zoomTo()\n",
        "    print(f\"Structural alignment RMSD: {rmsd:.3f} Å\")\n",
        "    return view\n",
        "\n",
        "\n",
        "# --- Params ---\n",
        "color = \"confidence\" #@param [\"confidence\", \"rainbow\", \"chain\"]\n",
        "if color == \"confidence\": color = \"pLDDT\"\n",
        "show_sidechains = False #@param {type:\"boolean\"}\n",
        "show_mainchains = True #@param {type:\"boolean\"}\n",
        "hide_predicted = False #@param {type:\"boolean\"}\n",
        "\n",
        "# --- Run ---\n",
        "\n",
        "show_pred_and_ref_aligned(pdb_str, \"reference.pdb\",\n",
        "                          color=color,\n",
        "                          show_sidechains=show_sidechains,\n",
        "                          show_mainchains=show_mainchains,\n",
        "                          Ls=lengths,\n",
        "                          hide_pred=hide_predicted).show()"
      ],
      "metadata": {
        "cellView": "form",
        "id": "JM5ciSmeTZKO"
      },
      "execution_count": null,
      "outputs": []
    },
    {
      "cell_type": "markdown",
      "source": [
        "The following is only useful if you want to assess the prediction, which is not the topic here, but something you can do and discuss with the instructor if you want."
      ],
      "metadata": {
        "id": "HytMeBIdTkZ1"
      }
    },
    {
      "cell_type": "markdown",
      "source": [],
      "metadata": {
        "id": "hJo-o8X_TkFz"
      }
    },
    {
      "cell_type": "code",
      "metadata": {
        "id": "8a181995"
      },
      "source": [
        "conservative_substitutions = {\n",
        "    'A': ['G', 'S', 'T'], # Alanine (small, nonpolar)\n",
        "    'R': ['K', 'H'],     # Arginine (basic, positive)\n",
        "    'N': ['Q', 'S', 'T'], # Asparagine (polar, uncharged)\n",
        "    'D': ['E'],          # Aspartic Acid (acidic, negative)\n",
        "    'C': ['S'],          # Cysteine (sulfur-containing)\n",
        "    'Q': ['N', 'H', 'K', 'R', 'E', 'D'], # Glutamine (polar, uncharged) - larger group due to flexibility\n",
        "    'E': ['D', 'Q', 'N', 'K', 'R', 'H'], # Glutamic Acid (acidic, negative) - larger group due to flexibility\n",
        "    'G': ['A', 'S'],     # Glycine (small, nonpolar)\n",
        "    'H': ['R', 'K', 'N', 'Q'], # Histidine (basic, positive, aromatic)\n",
        "    'I': ['L', 'V', 'M'], # Isoleucine (hydrophobic)\n",
        "    'L': ['I', 'V', 'M'], # Leucine (hydrophobic)\n",
        "    'K': ['R', 'H', 'Q', 'N'], # Lysine (basic, positive)\n",
        "    'M': ['L', 'I', 'V'], # Methionine (hydrophobic, sulfur-containing)\n",
        "    'F': ['Y', 'W'],     # Phenylalanine (aromatic, hydrophobic)\n",
        "    'P': [],             # Proline (cyclic, often disrupts structure - few conservative substitutions)\n",
        "    'S': ['T', 'N', 'Q', 'A', 'G', 'C'], # Serine (polar, uncharged, hydroxyl)\n",
        "    'T': ['S', 'N', 'Q', 'A', 'G'], # Threonine (polar, uncharged, hydroxyl)\n",
        "    'W': ['Y', 'F'],     # Tryptophan (aromatic, hydrophobic, large)\n",
        "    'Y': ['F', 'W'],     # Tyrosine (aromatic, hydrophobic, hydroxyl)\n",
        "    'V': ['I', 'L', 'M']  # Valine (hydrophobic)\n",
        "}"
      ],
      "execution_count": null,
      "outputs": []
    },
    {
      "cell_type": "code",
      "metadata": {
        "id": "19e02606"
      },
      "source": [
        "def generate_conservative_mutations(dna_sequence, codon_position):\n",
        "    \"\"\"\n",
        "    Generates a list of mutated DNA sequences with conservative amino acid\n",
        "    substitutions at a given codon position.\n",
        "\n",
        "    Args:\n",
        "        dna_sequence: The original DNA sequence string.\n",
        "        codon_position: The 0-indexed position of the codon to mutate.\n",
        "\n",
        "    Returns:\n",
        "        A list of mutated DNA sequences.\n",
        "    \"\"\"\n",
        "    start_index = codon_position * 3\n",
        "    end_index = start_index + 3\n",
        "    original_codon = dna_sequence[start_index:end_index]\n",
        "\n",
        "    if original_codon not in codon_table:\n",
        "        print(f\"Warning: Original codon '{original_codon}' not found in codon table.\")\n",
        "        return []\n",
        "\n",
        "    original_amino_acid = codon_table[original_codon]\n",
        "\n",
        "    if original_amino_acid not in conservative_substitutions:\n",
        "        # Handle stop codons or amino acids with no defined conservative substitutions\n",
        "        return []\n",
        "\n",
        "    conservative_aas = conservative_substitutions[original_amino_acid]\n",
        "\n",
        "    mutated_sequences = []\n",
        "    for sub_aa in conservative_aas:\n",
        "        for codon, aa in codon_table.items():\n",
        "            if aa == sub_aa:\n",
        "                mutated_seq = list(dna_sequence)\n",
        "                mutated_seq[start_index:end_index] = list(codon)\n",
        "                mutated_sequences.append(\"\".join(mutated_seq))\n",
        "\n",
        "    return mutated_sequences\n",
        "\n",
        "# Example usage (assuming original_seq is defined from previous cells)\n",
        "# For testing, let's use the first codon (position 0)\n",
        "# mutated_dna_list = generate_conservative_mutations(original_seq, 0)\n",
        "# print(f\"Original DNA: {original_seq}\")\n",
        "# print(f\"Mutated DNA sequences (conservative substitutions at position 0):\")\n",
        "# for mut_seq in mutated_dna_list:\n",
        "#     print(mut_seq)\n"
      ],
      "execution_count": null,
      "outputs": []
    },
    {
      "cell_type": "markdown",
      "metadata": {
        "id": "18a06ff8"
      },
      "source": [
        "# Task\n",
        "Implement a genetic algorithm-like approach to optimize a protein sequence based on predicted structure and mutation scores. Start with an input DNA sequence, and iteratively propose conservative amino acid substitutions by mutating the DNA. For each proposed mutation, predict the protein structure using ESMFold, calculate a total score based on mutation score and RMSD, and accept the mutation if the total score improves. Store all tried protein sequences and report the best performing mutated DNA and protein sequences found."
      ]
    },
    {
      "cell_type": "markdown",
      "metadata": {
        "id": "4e4b01cd"
      },
      "source": [
        "## Initialize\n",
        "\n",
        "### Subtask:\n",
        "Start with the original DNA sequence as the current best sequence and calculate its initial total score. Initialize a list to store all tried protein sequences.\n"
      ]
    },
    {
      "cell_type": "markdown",
      "metadata": {
        "id": "c0a767b3"
      },
      "source": [
        "**Reasoning**:\n",
        "Initialize the best sequence and scores, and calculate the initial total score for the original sequence. Also, initialize a list to store all tried protein sequences and add the original protein sequence to it.\n",
        "\n"
      ]
    },
    {
      "cell_type": "code",
      "metadata": {
        "id": "e065b958"
      },
      "source": [
        "best_dna_sequence = original_seq\n",
        "best_protein_sequence = str(Bio.Seq.Seq(best_dna_sequence).translate(to_stop=False))\n",
        "\n",
        "best_mutation_score = mutation_score(original_seq, best_dna_sequence)\n",
        "\n",
        "# Predict structure using ESMFold\n",
        "best_output = model.infer(best_protein_sequence,\n",
        "                          num_recycles=num_recycles,\n",
        "                          chain_linker=\"X\"*chain_linker,\n",
        "                          residue_index_offset=512)\n",
        "\n",
        "# Extract PDB string\n",
        "best_pdb_str = model.output_to_pdb(best_output)[0]\n",
        "\n",
        "# Align to reference and calculate RMSD\n",
        "aligned_file, best_rmsd_val = align_pred_to_ref(best_pdb_str, \"reference.pdb\")\n",
        "\n",
        "# Convert RMSD to similarity score\n",
        "best_pred_sim_score = rmsd_to_similarity(best_rmsd_val)\n",
        "\n",
        "# Calculate initial total score\n",
        "best_total_score = best_mutation_score * best_pred_sim_score\n",
        "\n",
        "all_tried_protein_sequences = []\n",
        "all_tried_protein_sequences.append(best_protein_sequence)\n",
        "\n",
        "print(f\"Initial Best DNA Sequence: {best_dna_sequence}\")\n",
        "print(f\"Initial Best Protein Sequence: {best_protein_sequence}\")\n",
        "print(f\"Initial Mutation Score: {best_mutation_score:.2f}\")\n",
        "print(f\"Initial RMSD: {best_rmsd_val:.3f}\")\n",
        "print(f\"Initial Prediction Similarity Score: {best_pred_sim_score:.2f}\")\n",
        "print(f\"Initial Total Score: {best_total_score:.3f}\")"
      ],
      "execution_count": null,
      "outputs": []
    },
    {
      "cell_type": "markdown",
      "metadata": {
        "id": "c646a67b"
      },
      "source": [
        "# Task\n",
        "Iteratively mutate an input DNA sequence using conservative amino acid substitutions, translate the mutated DNA to protein, and score the protein based on a similarity score and a mutation score. Accept mutations if the total score (sum of similarity and mutation scores) increases or if the similarity score is greater than 0.9. Store and print the trial sequence and its total score for each iteration. After the optimization loop, present the best total score found and plot the mutation score, similarity score, and total score as a function of iteration for all tried sequences and separately for accepted sequences."
      ]
    },
    {
      "cell_type": "code",
      "metadata": {
        "id": "786cffe5"
      },
      "source": [
        "# @title auto_seq\n",
        "\n",
        "num_iterations = 100 #@param\n",
        "\n",
        "best_dna_sequence = original_seq\n",
        "#best_dna_sequence = \"ATGCGTGTGTTATTTATTCGTCGTGGTGAATTACGTAACATTGGTGAAGCTTTTGCGCAACAATATCTGTTTCGTAATGGCTTAGCGATTGAAGCG\"\n",
        "best_protein_sequence = str(Bio.Seq.Seq(best_dna_sequence).translate(to_stop=False))\n",
        "best_total_score = -1\n",
        "\n",
        "accepted_mutation_scores = []\n",
        "accepted_sim_scores = []\n",
        "accepted_total_scores = []\n",
        "accepted_iterations = []\n",
        "all_mutation_scores = []\n",
        "all_sim_scores = []\n",
        "all_total_scores = []\n",
        "all_iterations = []\n",
        "\n",
        "all_tried_protein_sequences = []\n",
        "all_tried_protein_sequences.append(best_protein_sequence)\n",
        "\n",
        "completed_iters = 0\n",
        "\n",
        "while completed_iters < num_iterations:\n",
        "    # Choose a random codon position to mutate\n",
        "    random_codon_pos = random.randint(0, num_codons - 1)\n",
        "\n",
        "    # Generate conservative mutations for this position\n",
        "    if completed_iters = 0:\n",
        "        mutated_dna_list_single = best_dna_sequence\n",
        "    else:\n",
        "        mutated_dna_list_single = generate_conservative_mutations(best_dna_sequence, random_codon_pos)\n",
        "\n",
        "    if not mutated_dna_list_single:\n",
        "        continue # Skip to the next iteration if no mutations are possible\n",
        "\n",
        "    # Select the first generated mutation\n",
        "    single_mutated_dna_seq = mutated_dna_list_single[0]\n",
        "    single_mutated_protein_seq = str(Bio.Seq.Seq(single_mutated_dna_seq).translate(to_stop=False))\n",
        "\n",
        "    # Check if protein sequence has been tried before\n",
        "    if single_mutated_protein_seq in all_tried_protein_sequences:\n",
        "        continue\n",
        "\n",
        "    all_tried_protein_sequences.append(single_mutated_protein_seq)\n",
        "\n",
        "    # Predict structure using ESMFold\n",
        "    try:\n",
        "        single_mutated_output = model.infer(single_mutated_protein_seq,\n",
        "                                     num_recycles=num_recycles,\n",
        "                                     chain_linker=\"X\"*chain_linker,\n",
        "                                     residue_index_offset=512)\n",
        "\n",
        "        # Extract PDB string\n",
        "        single_mutated_pdb_str = model.output_to_pdb(single_mutated_output)[0]\n",
        "\n",
        "        # Align to reference and calculate RMSD\n",
        "        aligned_file_single, single_mutated_rmsd_val = align_pred_to_ref(single_mutated_pdb_str, \"reference.pdb\")\n",
        "\n",
        "        # Convert RMSD to similarity score\n",
        "        single_mutated_pred_sim_score = rmsd_to_similarity(single_mutated_rmsd_val)\n",
        "\n",
        "        # Calculate mutation score\n",
        "        single_current_mutation_score = mutation_score(original_seq, single_mutated_dna_seq)\n",
        "\n",
        "        # Calculate total score\n",
        "        single_current_total_score = single_current_mutation_score * single_mutated_pred_sim_score\n",
        "\n",
        "        # Store scores for ALL tried sequences\n",
        "        all_iterations.append(iteration + 1)\n",
        "        all_mutation_scores.append(single_current_mutation_score)\n",
        "        all_sim_scores.append(single_mutated_pred_sim_score)\n",
        "        all_total_scores.append(single_current_total_score)\n",
        "\n",
        "        # Print trial sequence and total score\n",
        "        print(f\"Iteration {iteration + 1}: Trial Sequence: {single_mutated_protein_seq}, Total Score: {single_current_total_score:.3f}\")\n",
        "\n",
        "        # Acceptance criteria: accept if total score improves\n",
        "        if single_current_total_score > best_total_score or single_mutated_pred_sim_score > 0.9:\n",
        "            best_total_score = single_current_total_score\n",
        "            best_dna_sequence = single_mutated_dna_seq\n",
        "            best_protein_sequence = single_mutated_protein_seq\n",
        "\n",
        "            # Store scores for ACCEPTED sequences\n",
        "            accepted_iterations.append(iteration + 1)\n",
        "            accepted_mutation_scores.append(single_current_mutation_score)\n",
        "            accepted_sim_scores.append(single_mutated_pred_sim_score)\n",
        "            accepted_total_scores.append(single_current_total_score)\n",
        "\n",
        "            #print(f\"  Accepted mutation. New best total score: {best_total_score:.3f}\")\n",
        "\n",
        "        completed_iters += 1\n",
        "\n",
        "    except Exception as e:\n",
        "        print(f\"Iteration {iteration + 1}: Error processing mutation: {e}. Skipping.\")\n",
        "        continue # Continue to the next iteration if an error occurs\n",
        "\n",
        "print(\"\\nIterative mutation process complete.\")\n",
        "print(f\"Best Mutated DNA Sequence: {best_dna_sequence}\")\n",
        "print(f\"Best Mutated Protein Sequence: {best_protein_sequence}\")\n",
        "# Recalculate final scores for the best sequence\n",
        "best_mutation_score = mutation_score(original_seq, best_dna_sequence)\n",
        "# To get the final RMSD and prediction similarity score for the best sequence,\n",
        "# you would need to re-run the prediction and alignment for best_protein_sequence\n",
        "# or store these values when the best sequence is updated.\n",
        "# For simplicity, we'll just report the best total score found.\n",
        "print(f\"Best Total Score Found: {best_total_score:.3f}\")\n",
        "print(f\"Total number of tried protein sequences: {len(all_tried_protein_sequences)}\")\n",
        "print(f\"Total number of accepted mutations: {len(accepted_total_scores)}\")"
      ],
      "execution_count": null,
      "outputs": []
    },
    {
      "cell_type": "markdown",
      "metadata": {
        "id": "e31bad88"
      },
      "source": [
        "## Generate plots for all tried sequences\n",
        "\n",
        "### Subtask:\n",
        "After the loop, create a plot showing the mutation score, similarity score, and total score for all tried sequences as a function of iteration number.\n"
      ]
    },
    {
      "cell_type": "markdown",
      "metadata": {
        "id": "137732cf"
      },
      "source": [
        "**Reasoning**:\n",
        "Create a plot showing the mutation score, similarity score, and total score for all tried sequences as a function of iteration number.\n",
        "\n"
      ]
    },
    {
      "cell_type": "code",
      "metadata": {
        "id": "c6603f7f"
      },
      "source": [
        "import matplotlib.pyplot as plt\n",
        "import numpy as np # Import numpy\n",
        "\n",
        "# Create a new figure and axes\n",
        "plt.figure(figsize=(12, 6))\n",
        "\n",
        "# Function to normalize data\n",
        "def normalize(data):\n",
        "    data = np.array(data)\n",
        "    return (data - np.min(data)) / (np.max(data) - np.min(data))\n",
        "\n",
        "# Plot the normalized scores for all tried sequences\n",
        "plt.plot(all_iterations, normalize(all_mutation_scores), label='Normalized Mutation Score')\n",
        "plt.plot(all_iterations, np.array(all_sim_scores), label='Normalized Similarity Score') # Convert to numpy array before multiplying and normalize\n",
        "plt.plot(all_iterations, normalize(np.array(all_total_scores)), label='Normalized Total Score')   # Convert to numpy array before multiplying and normalize\n",
        "\n",
        "\n",
        "# Add title and labels\n",
        "plt.title('Normalized Scores for All Tried Sequences Over Iterations')\n",
        "plt.xlabel('Iteration')\n",
        "plt.ylabel('Normalized Score')\n",
        "\n",
        "# Add a legend\n",
        "plt.legend()\n",
        "\n",
        "# Set y-axis limits to 0 and 1 for normalized data\n",
        "plt.ylim(0, 1)\n",
        "\n",
        "# Display the plot\n",
        "plt.show()"
      ],
      "execution_count": null,
      "outputs": []
    },
    {
      "cell_type": "markdown",
      "metadata": {
        "id": "130a159b"
      },
      "source": [
        "**Reasoning**:\n",
        "Create a plot showing the mutation score, similarity score, and total score for accepted sequences as a function of iteration number.\n",
        "\n"
      ]
    },
    {
      "cell_type": "code",
      "metadata": {
        "id": "9a344366"
      },
      "source": [
        "import matplotlib.pyplot as plt\n",
        "import numpy as np # Import numpy\n",
        "\n",
        "# Create a new figure and axes for the accepted sequences plot\n",
        "plt.figure(figsize=(12, 6))\n",
        "\n",
        "# Function to normalize data (re-defined for clarity in this cell)\n",
        "def normalize(data):\n",
        "    data = np.array(data)\n",
        "    return (data - np.min(data)) / (np.max(data) - np.min(data))\n",
        "\n",
        "# Plot the normalized scores for accepted sequences\n",
        "plt.plot(accepted_iterations, normalize(accepted_mutation_scores), label='Accepted Normalized Mutation Score')\n",
        "plt.plot(accepted_iterations, np.array(accepted_sim_scores), label='Accepted Normalized Similarity Score') # Convert to numpy array before multiplying and normalize\n",
        "plt.plot(accepted_iterations, normalize(np.array(accepted_total_scores)), label='Accepted Normalized Total Score')   # Convert to numpy array before multiplying and normalize\n",
        "\n",
        "# Add title and labels\n",
        "plt.title('Normalized Scores for Accepted Sequences Over Iterations')\n",
        "plt.xlabel('Iteration')\n",
        "plt.ylabel('Normalized Score')\n",
        "\n",
        "# Add a legend\n",
        "plt.legend()\n",
        "\n",
        "# Set y-axis limits to 0 and 1 for normalized data\n",
        "plt.ylim(0, 1)\n",
        "\n",
        "# Display the plot\n",
        "plt.show()"
      ],
      "execution_count": null,
      "outputs": []
    },
    {
      "cell_type": "markdown",
      "metadata": {
        "id": "26cad405"
      },
      "source": [
        "## Summary:\n",
        "\n",
        "### Data Analysis Key Findings\n",
        "\n",
        "*   The optimization process successfully stored the mutation score, similarity score, and total score for every tried sequence, along with the corresponding iteration number.\n",
        "*   Scores were also specifically stored for sequences that met the acceptance criteria, along with their iteration numbers.\n",
        "*   The plots visualize the score progression over iterations for both all attempted mutations and only the accepted mutations.\n",
        "\n",
        "### Insights or Next Steps\n",
        "\n",
        "*   Analyzing the plots can provide insights into the search landscape, showing how frequently improvements are found and the typical range of scores for tried vs. accepted sequences.\n",
        "*   Further analysis could involve examining the characteristics of accepted mutations (e.g., position, type of substitution) to understand what contributes to improved scores.\n"
      ]
    }
  ]
}