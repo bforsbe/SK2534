{
  "nbformat": 4,
  "nbformat_minor": 0,
  "metadata": {
    "colab": {
      "name": "omegafold.ipynb",
      "provenance": [],
      "include_colab_link": true
    },
    "kernelspec": {
      "name": "python3",
      "display_name": "Python 3"
    },
    "language_info": {
      "name": "python"
    },
    "accelerator": "GPU",
    "gpuClass": "standard"
  },
  "cells": [
    {
      "cell_type": "markdown",
      "metadata": {
        "id": "view-in-github",
        "colab_type": "text"
      },
      "source": [
        "<a href=\"https://colab.research.google.com/github/bforsbe/SK2534/blob/main/omegafold_znf.ipynb\" target=\"_parent\"><img src=\"https://colab.research.google.com/assets/colab-badge.svg\" alt=\"Open In Colab\"/></a>"
      ]
    },
    {
      "cell_type": "markdown",
      "source": [
        "#**OmegaFold**\n",
        "for more details see: [Github](https://github.com/HeliXonProtein/OmegaFold), [Preprint](https://www.biorxiv.org/content/10.1101/2022.07.21.500999v1)\n",
        "\n",
        "## Today\n",
        "\n",
        "Many sessions ago you mutated a DNA sequence to get a high mutation score, and tried to keep the fold intact. Today, we let the computers do this over and over again, and keep the mutations that score high without changing the fold.\n",
        "\n",
        "**Why?** Becasue it is a model of evolution, in the sense that there is a \"force\" keeping DNA and protein sequences functional. Today, that force is similarity to the original structure, whereas in nature it is probably keeping function. This is not quite the same, but since fold and function are so closely connected, it is a useful enough proxy.\n",
        "\n",
        "You will recognize many steps from before. Actually running a longer evolution is unfortunately too slow, so you will load and analyse some precomputed results when you've managed to get it running.\n"
      ],
      "metadata": {
        "id": "qEgffIPOyEgk"
      }
    },
    {
      "cell_type": "markdown",
      "source": [
        "There are currently issues with ESMfold, so we will use OmegaFold, another protein languge model. It runs a bit slower, but is at least faster to install."
      ],
      "metadata": {
        "id": "jbRgM8wuQoVJ"
      }
    },
    {
      "cell_type": "code",
      "execution_count": 1,
      "metadata": {
        "cellView": "form",
        "id": "oVkGfduwiAkw"
      },
      "outputs": [],
      "source": [
        "#@markdown ##Install OmegaFold\n",
        "import os,sys,re\n",
        "from IPython.utils import io\n",
        "if \"SETUP_DONE\" not in dir():\n",
        "  import torch\n",
        "  device = \"cuda\" if torch.cuda.is_available() else \"cpu\"\n",
        "  with io.capture_output() as captured:\n",
        "    if not os.path.isdir(\"OmegaFold\"):\n",
        "      %shell git clone --branch beta --quiet https://github.com/sokrypton/OmegaFold.git\n",
        "      # %shell cd OmegaFold; pip -q install -r requirements.txt\n",
        "      %shell pip -q install py3Dmol biopython==1.81\n",
        "      %shell apt-get install aria2 -qq > /dev/null\n",
        "      %shell aria2c -q -x 16 https://helixon.s3.amazonaws.com/release1.pt\n",
        "      %shell mkdir -p ~/.cache/omegafold_ckpt\n",
        "      %shell mv release1.pt ~/.cache/omegafold_ckpt/model.pt\n",
        "  SETUP_DONE = True"
      ]
    },
    {
      "cell_type": "code",
      "source": [
        "#@markdown ##Run **OmegaFold**\n",
        "from string import ascii_uppercase, ascii_lowercase\n",
        "import hashlib\n",
        "import torch\n",
        "from IPython.utils import io\n",
        "\n",
        "# Define device here to ensure it's available\n",
        "device = \"cuda\" if torch.cuda.is_available() else \"cpu\"\n",
        "\n",
        "def get_hash(x): return hashlib.sha1(x.encode()).hexdigest()\n",
        "alphabet_list = list(ascii_uppercase+ascii_lowercase)\n",
        "\n",
        "jobname = \"1ZNF\" #@param {type:\"string\"}\n",
        "jobname = re.sub(r'\\W+', '', jobname)[:50]\n",
        "\n",
        "sequence = \"YKCGLCERSFVEKSALSRHQRVHKN\" #@param {type:\"string\"}\n",
        "sequence = re.sub(\"[^A-Z:]\", \"\", sequence.replace(\"/\",\":\").upper())\n",
        "sequence = re.sub(\":+\",\":\",sequence)\n",
        "sequence = re.sub(\"^[:]+\",\"\",sequence)\n",
        "sequence = re.sub(\"[:]+$\",\"\",sequence)\n",
        "\n",
        "copies = 1 #@param {type:\"integer\"}\n",
        "sequence = \":\".join([sequence] * copies)\n",
        "#@markdown **Advanced Options**\n",
        "num_cycle = 2 #@param [\"1\", \"2\", \"4\", \"8\", \"16\", \"32\"] {type:\"raw\"}\n",
        "offset_rope = False #@param {type:\"boolean\"}\n",
        "\n",
        "ID = jobname+\"_\"+get_hash(sequence)[:5]\n",
        "seqs = sequence.split(\":\")\n",
        "lengths = [len(s) for s in seqs]\n",
        "\n",
        "subbatch_size = 1000 #@param\n",
        "def get_subbatch_size(L):\n",
        "  if L <  500: return 500\n",
        "  if L < 1000: return 200\n",
        "  return 150\n",
        "if subbatch_size < 0:\n",
        "    subbatch_size = get_subbatch_size(sum(lengths))\n",
        "\n",
        "u_seqs = list(set(seqs))\n",
        "\n",
        "if len(seqs) == 1: mode = \"mono\"\n",
        "elif len(u_seqs) == 1: mode = \"homo\"\n",
        "else: mode = \"hetero\"\n",
        "\n",
        "with open(f\"{ID}.fasta\",\"w\") as out:\n",
        "  out.write(f\">{ID}\\n{sequence}\\n\")\n",
        "\n",
        "# Construct the shell command, handling the boolean offset_rope\n",
        "shell_command = f\"python OmegaFold/main.py --device={device} --subbatch_size={subbatch_size} --num_cycle={num_cycle} {ID}.fasta .\"\n",
        "if offset_rope:\n",
        "    shell_command = f\"python OmegaFold/main.py --offset_rope --device={device} --subbatch_size={subbatch_size} --num_cycle={num_cycle} {ID}.fasta .\"\n",
        "\n",
        "%shell {shell_command}\n",
        "\n",
        "def renum_pdb_str(pdb_str, Ls=None, renum=True, offset=1):\n",
        "  if Ls is not None:\n",
        "    L_init = 0\n",
        "    new_chain = {}\n",
        "    for L,c in zip(Ls, alphabet_list):\n",
        "      new_chain.update({i:c for i in range(L_init,L_init+L)})\n",
        "      L_init += L\n",
        "\n",
        "  n,num,pdb_out = 0,offset,[]\n",
        "  resnum_ = None\n",
        "  chain_ = None\n",
        "  new_chain_ = new_chain[0]\n",
        "  for line in pdb_str.split(\"\\n\"):\n",
        "    if line[:4] == \"ATOM\":\n",
        "      chain = line[21:22]\n",
        "      resnum = int(line[22:22+5])\n",
        "      if resnum_ is None: resnum_ = resnum\n",
        "      if chain_ is None: chain_ = chain\n",
        "      if resnum != resnum_ or chain != chain_:\n",
        "        num += (resnum - resnum_)\n",
        "        n += 1\n",
        "        resnum_,chain_ = resnum,chain\n",
        "      if Ls is not None:\n",
        "        if new_chain[n] != new_chain_:\n",
        "          num = offset\n",
        "          new_chain_ = new_chain[n]\n",
        "      N = num if renum else resnum\n",
        "      if Ls is None: pdb_out.append(\"%s%4i%s\" % (line[:22],N,line[26:]))\n",
        "      else: pdb_out.append(\"%s%s%4i%s\" % (line[:21],new_chain[n],N,line[26:]))\n",
        "  return \"\\n\".join(pdb_out)\n",
        "\n",
        "pdb_str = renum_pdb_str(open(f\"{ID}.pdb\",'r').read(), Ls=lengths)\n",
        "o_pdb_file=f\"{ID}.pdb\"\n",
        "with open(o_pdb_file,\"w\") as out:\n",
        "  out.write(pdb_str)"
      ],
      "metadata": {
        "id": "CFCwEAa2oZEN",
        "colab": {
          "base_uri": "https://localhost:8080/"
        },
        "outputId": "688c3ffc-a4d2-4542-89e2-67d65d024913",
        "cellView": "form"
      },
      "execution_count": 2,
      "outputs": [
        {
          "output_type": "stream",
          "name": "stdout",
          "text": [
            "/usr/local/lib/python3.12/dist-packages/Bio/Data/SCOPData.py:18: BiopythonDeprecationWarning: The 'Bio.Data.SCOPData' module will be deprecated in a future release of Biopython in favor of 'Bio.Data.PDBData.\n",
            "  warnings.warn(\n",
            "/content/OmegaFold/omegafold/utils/protein_utils/residue_constants.py:483: UserWarning: Using torch.cross without specifying the dim arg is deprecated.\n",
            "Please either pass the dim explicitly or simply use torch.linalg.cross.\n",
            "The default value of dim will change to agree with that of linalg.cross in a future release. (Triggered internally at /pytorch/aten/src/ATen/native/Cross.cpp:63.)\n",
            "  eznorm = torch.cross(ex_normalized, ey_normalized)\n",
            "INFO:root:Loading weights from /root/.cache/omegafold_ckpt/model.pt\n",
            "INFO:root:Constructing OmegaFold\n",
            "INFO:root:Reading 1ZNF_5efbf.fasta\n",
            "INFO:root:Predicting 1th chain in 1ZNF_5efbf.fasta\n",
            "INFO:root:25 residues in this chain.\n",
            "INFO:root:Finished prediction in 2.85 seconds.\n",
            "INFO:root:Saving prediction to ./1ZNF_5efbf.pdb\n",
            "INFO:root:Saved\n",
            "INFO:root:Done!\n"
          ]
        }
      ]
    },
    {
      "cell_type": "code",
      "source": [
        "#@markdown ##Display\n",
        "import py3Dmol\n",
        "\n",
        "\n",
        "pymol_color_list = [\"#33ff33\",\"#00ffff\",\"#ff33cc\",\"#ffff00\",\"#ff9999\",\"#e5e5e5\",\"#7f7fff\",\"#ff7f00\",\n",
        "                    \"#7fff7f\",\"#199999\",\"#ff007f\",\"#ffdd5e\",\"#8c3f99\",\"#b2b2b2\",\"#007fff\",\"#c4b200\",\n",
        "                    \"#8cb266\",\"#00bfbf\",\"#b27f7f\",\"#fcd1a5\",\"#ff7f7f\",\"#ffbfdd\",\"#7fffff\",\"#ffff7f\",\n",
        "                    \"#00ff7f\",\"#337fcc\",\"#d8337f\",\"#bfff3f\",\"#ff7fff\",\"#d8d8ff\",\"#3fffbf\",\"#b78c4c\",\n",
        "                    \"#339933\",\"#66b2b2\",\"#ba8c84\",\"#84bf00\",\"#b24c66\",\"#7f7f7f\",\"#3f3fa5\",\"#a5512b\"]\n",
        "\n",
        "def show_pdb(pdb_str, show_sidechains=False, show_mainchains=False,\n",
        "             color=\"pLDDT\", chains=None, vmin=50, vmax=90,\n",
        "             size=(800,480), hbondCutoff=4.0,\n",
        "             Ls=None,\n",
        "             animate=False):\n",
        "\n",
        "  if chains is None:\n",
        "    chains = 1 if Ls is None else len(Ls)\n",
        "  view = py3Dmol.view(js='https://3dmol.org/build/3Dmol.js', width=size[0], height=size[1])\n",
        "  if animate:\n",
        "    view.addModelsAsFrames(pdb_str,'pdb',{'hbondCutoff':hbondCutoff})\n",
        "  else:\n",
        "    view.addModel(pdb_str,'pdb',{'hbondCutoff':hbondCutoff})\n",
        "  if color == \"pLDDT\":\n",
        "    view.setStyle({'cartoon': {'colorscheme': {'prop':'b','gradient': 'roygb','min':vmin,'max':vmax}}})\n",
        "  elif color == \"rainbow\":\n",
        "    view.setStyle({'cartoon': {'color':'spectrum'}})\n",
        "  elif color == \"chain\":\n",
        "    for n,chain,color in zip(range(chains),alphabet_list,pymol_color_list):\n",
        "       view.setStyle({'chain':chain},{'cartoon': {'color':color}})\n",
        "  if show_sidechains:\n",
        "    BB = ['C','O','N']\n",
        "    HP = [\"ALA\",\"GLY\",\"VAL\",\"ILE\",\"LEU\",\"PHE\",\"MET\",\"PRO\",\"TRP\",\"CYS\",\"TYR\"]\n",
        "    view.addStyle({'and':[{'resn':[\"GLY\",\"PRO\"],'invert':True},{'atom':BB,'invert':True}]},\n",
        "                  {'stick':{'colorscheme':f\"WhiteCarbon\",'radius':0.3}})\n",
        "    view.addStyle({'and':[{'resn':\"GLY\"},{'atom':'CA'}]},\n",
        "                  {'sphere':{'colorscheme':f\"WhiteCarbon\",'radius':0.3}})\n",
        "    view.addStyle({'and':[{'resn':\"PRO\"},{'atom':['C','O'],'invert':True}]},\n",
        "                  {'stick':{'colorscheme':f\"WhiteCarbon\",'radius':0.3}})\n",
        "  if show_mainchains:\n",
        "    BB = ['C','O','N','CA']\n",
        "    view.addStyle({'atom':BB},{'stick':{'colorscheme':f\"WhiteCarbon\",'radius':0.3}})\n",
        "  view.zoomTo()\n",
        "  if animate: view.animate()\n",
        "  return view\n",
        "\n",
        "color = \"confidence\" #@param [\"confidence\", \"rainbow\", \"chain\"]\n",
        "if color == \"confidence\": color = \"pLDDT\"\n",
        "show_sidechains = True #@param {type:\"boolean\"}\n",
        "show_mainchains = False #@param {type:\"boolean\"}\n",
        "show_pdb(pdb_str, color=color, show_sidechains=show_sidechains, show_mainchains=show_mainchains,\n",
        "         Ls=lengths).show()"
      ],
      "metadata": {
        "cellView": "form",
        "id": "dHl9aS-HHFNQ",
        "colab": {
          "base_uri": "https://localhost:8080/",
          "height": 497
        },
        "outputId": "cc7ad23e-c276-408e-b23d-119371de34c9",
        "collapsed": true
      },
      "execution_count": 3,
      "outputs": [
        {
          "output_type": "display_data",
          "data": {
            "application/3dmoljs_load.v0": "<div id=\"3dmolviewer_1758702580622808\"  style=\"position: relative; width: 800px; height: 480px;\">\n        <p id=\"3dmolwarning_1758702580622808\" style=\"background-color:#ffcccc;color:black\">3Dmol.js failed to load for some reason.  Please check your browser console for error messages.<br></p>\n        </div>\n<script>\n\nvar loadScriptAsync = function(uri){\n  return new Promise((resolve, reject) => {\n    //this is to ignore the existence of requirejs amd\n    var savedexports, savedmodule;\n    if (typeof exports !== 'undefined') savedexports = exports;\n    else exports = {}\n    if (typeof module !== 'undefined') savedmodule = module;\n    else module = {}\n\n    var tag = document.createElement('script');\n    tag.src = uri;\n    tag.async = true;\n    tag.onload = () => {\n        exports = savedexports;\n        module = savedmodule;\n        resolve();\n    };\n  var firstScriptTag = document.getElementsByTagName('script')[0];\n  firstScriptTag.parentNode.insertBefore(tag, firstScriptTag);\n});\n};\n\nif(typeof $3Dmolpromise === 'undefined') {\n$3Dmolpromise = null;\n  $3Dmolpromise = loadScriptAsync('https://3dmol.org/build/3Dmol.js');\n}\n\nvar viewer_1758702580622808 = null;\nvar warn = document.getElementById(\"3dmolwarning_1758702580622808\");\nif(warn) {\n    warn.parentNode.removeChild(warn);\n}\n$3Dmolpromise.then(function() {\nviewer_1758702580622808 = $3Dmol.createViewer(document.getElementById(\"3dmolviewer_1758702580622808\"),{backgroundColor:\"white\"});\nviewer_1758702580622808.zoomTo();\n\tviewer_1758702580622808.addModel(\"ATOM      1  N   LEU A   1      -8.470   6.972   2.804  1.00 81.60           N  \\nATOM      2  CA  LEU A   1      -7.027   6.788   2.908  1.00 81.60           C  \\nATOM      3  C   LEU A   1      -6.393   6.667   1.527  1.00 81.60           C  \\nATOM      4  O   LEU A   1      -6.874   5.908   0.682  1.00 81.60           O  \\nATOM      5  CB  LEU A   1      -6.704   5.544   3.741  1.00 81.60           C  \\nATOM      6  CG  LEU A   1      -7.289   5.503   5.154  1.00 81.60           C  \\nATOM      7  CD1 LEU A   1      -7.309   4.071   5.678  1.00 81.60           C  \\nATOM      8  CD2 LEU A   1      -6.493   6.409   6.088  1.00 81.60           C  \\nATOM      9  N   ALA A   2      -5.770   7.716   1.132  1.00 77.62           N  \\nATOM     10  CA  ALA A   2      -5.212   7.704  -0.218  1.00 77.62           C  \\nATOM     11  C   ALA A   2      -3.718   7.396  -0.191  1.00 77.62           C  \\nATOM     12  O   ALA A   2      -3.032   7.704   0.786  1.00 77.62           O  \\nATOM     13  CB  ALA A   2      -5.464   9.042  -0.909  1.00 77.62           C  \\nATOM     14  N   CYS A   3      -3.237   6.622  -1.132  1.00 73.93           N  \\nATOM     15  CA  CYS A   3      -1.815   6.342  -1.298  1.00 73.93           C  \\nATOM     16  C   CYS A   3      -1.097   7.525  -1.936  1.00 73.93           C  \\nATOM     17  O   CYS A   3      -1.547   8.054  -2.954  1.00 73.93           O  \\nATOM     18  CB  CYS A   3      -1.611   5.090  -2.151  1.00 73.93           C  \\nATOM     19  SG  CYS A   3       0.097   4.503  -2.186  1.00 73.93           S  \\nATOM     20  N   PRO A   4      -0.248   8.074  -1.248  1.00 72.04           N  \\nATOM     21  CA  PRO A   4       0.430   9.260  -1.776  1.00 72.04           C  \\nATOM     22  C   PRO A   4       1.050   9.022  -3.151  1.00 72.04           C  \\nATOM     23  O   PRO A   4       1.166   9.955  -3.950  1.00 72.04           O  \\nATOM     24  CB  PRO A   4       1.512   9.543  -0.730  1.00 72.04           C  \\nATOM     25  CG  PRO A   4       1.256   8.553   0.361  1.00 72.04           C  \\nATOM     26  CD  PRO A   4       0.158   7.629  -0.081  1.00 72.04           C  \\nATOM     27  N   LYS A   5       1.517   7.775  -3.313  1.00 72.42           N  \\nATOM     28  CA  LYS A   5       2.163   7.595  -4.610  1.00 72.42           C  \\nATOM     29  C   LYS A   5       1.154   7.165  -5.671  1.00 72.42           C  \\nATOM     30  O   LYS A   5       1.458   7.179  -6.866  1.00 72.42           O  \\nATOM     31  CB  LYS A   5       3.290   6.566  -4.510  1.00 72.42           C  \\nATOM     32  CG  LYS A   5       4.511   7.058  -3.748  1.00 72.42           C  \\nATOM     33  CD  LYS A   5       5.684   6.096  -3.890  1.00 72.42           C  \\nATOM     34  CE  LYS A   5       6.908   6.589  -3.131  1.00 72.42           C  \\nATOM     35  NZ  LYS A   5       8.039   5.616  -3.210  1.00 72.42           N  \\nATOM     36  N   MET A   6      -0.009   6.728  -5.228  1.00 67.96           N  \\nATOM     37  CA  MET A   6      -1.044   6.316  -6.172  1.00 67.96           C  \\nATOM     38  C   MET A   6      -2.365   7.015  -5.869  1.00 67.96           C  \\nATOM     39  O   MET A   6      -2.589   7.469  -4.746  1.00 67.96           O  \\nATOM     40  CB  MET A   6      -1.234   4.799  -6.135  1.00 67.96           C  \\nATOM     41  CG  MET A   6      -0.141   4.026  -6.855  1.00 67.96           C  \\nATOM     42  SD  MET A   6      -0.694   2.360  -7.390  1.00 67.96           S  \\nATOM     43  CE  MET A   6       0.618   1.953  -8.575  1.00 67.96           C  \\nATOM     44  N   CYS A   7      -2.991   7.556  -6.817  1.00 70.51           N  \\nATOM     45  CA  CYS A   7      -4.230   8.307  -6.647  1.00 70.51           C  \\nATOM     46  C   CYS A   7      -5.418   7.368  -6.478  1.00 70.51           C  \\nATOM     47  O   CYS A   7      -6.513   7.653  -6.967  1.00 70.51           O  \\nATOM     48  CB  CYS A   7      -4.464   9.233  -7.840  1.00 70.51           C  \\nATOM     49  SG  CYS A   7      -3.562  10.794  -7.738  1.00 70.51           S  \\nATOM     50  N   HIS A   8      -5.214   6.364  -5.662  1.00 75.77           N  \\nATOM     51  CA  HIS A   8      -6.344   5.471  -5.432  1.00 75.77           C  \\nATOM     52  C   HIS A   8      -6.876   5.611  -4.010  1.00 75.77           C  \\nATOM     53  O   HIS A   8      -6.103   5.811  -3.070  1.00 75.77           O  \\nATOM     54  CB  HIS A   8      -5.943   4.020  -5.702  1.00 75.77           C  \\nATOM     55  CG  HIS A   8      -6.219   3.572  -7.102  1.00 75.77           C  \\nATOM     56  ND1 HIS A   8      -5.241   3.055  -7.924  1.00 75.77           N  \\nATOM     57  CD2 HIS A   8      -7.365   3.561  -7.822  1.00 75.77           C  \\nATOM     58  CE1 HIS A   8      -5.775   2.746  -9.094  1.00 75.77           C  \\nATOM     59  NE2 HIS A   8      -7.063   3.043  -9.058  1.00 75.77           N  \\nATOM     60  N   THR A   9      -8.113   5.749  -3.852  1.00 82.01           N  \\nATOM     61  CA  THR A   9      -8.750   5.805  -2.541  1.00 82.01           C  \\nATOM     62  C   THR A   9      -9.100   4.403  -2.049  1.00 82.01           C  \\nATOM     63  O   THR A   9      -9.568   3.566  -2.825  1.00 82.01           O  \\nATOM     64  CB  THR A   9     -10.022   6.672  -2.574  1.00 82.01           C  \\nATOM     65  OG1 THR A   9      -9.855   7.718  -3.539  1.00 82.01           O  \\nATOM     66  CG2 THR A   9     -10.298   7.295  -1.209  1.00 82.01           C  \\nATOM     67  N   PHE A  10      -8.689   4.214  -0.849  1.00 84.31           N  \\nATOM     68  CA  PHE A  10      -8.963   2.903  -0.273  1.00 84.31           C  \\nATOM     69  C   PHE A  10      -9.939   3.017   0.892  1.00 84.31           C  \\nATOM     70  O   PHE A  10     -10.043   4.072   1.521  1.00 84.31           O  \\nATOM     71  CB  PHE A  10      -7.665   2.236   0.194  1.00 84.31           C  \\nATOM     72  CG  PHE A  10      -6.667   2.013  -0.910  1.00 84.31           C  \\nATOM     73  CD1 PHE A  10      -6.739   0.881  -1.713  1.00 84.31           C  \\nATOM     74  CD2 PHE A  10      -5.656   2.936  -1.145  1.00 84.31           C  \\nATOM     75  CE1 PHE A  10      -5.816   0.671  -2.735  1.00 84.31           C  \\nATOM     76  CE2 PHE A  10      -4.731   2.734  -2.165  1.00 84.31           C  \\nATOM     77  CZ  PHE A  10      -4.812   1.600  -2.958  1.00 84.31           C  \\nATOM     78  N   GLU A  11     -10.626   1.957   1.103  1.00 87.33           N  \\nATOM     79  CA  GLU A  11     -11.712   1.990   2.079  1.00 87.33           C  \\nATOM     80  C   GLU A  11     -11.200   1.686   3.484  1.00 87.33           C  \\nATOM     81  O   GLU A  11     -11.758   2.170   4.471  1.00 87.33           O  \\nATOM     82  CB  GLU A  11     -12.812   0.998   1.693  1.00 87.33           C  \\nATOM     83  CG  GLU A  11     -13.593   1.398   0.450  1.00 87.33           C  \\nATOM     84  CD  GLU A  11     -14.697   0.415   0.092  1.00 87.33           C  \\nATOM     85  OE1 GLU A  11     -15.462   0.683  -0.861  1.00 87.33           O  \\nATOM     86  OE2 GLU A  11     -14.797  -0.630   0.772  1.00 87.33           O  \\nATOM     87  N   THR A  12     -10.203   0.932   3.557  1.00 92.13           N  \\nATOM     88  CA  THR A  12      -9.671   0.553   4.861  1.00 92.13           C  \\nATOM     89  C   THR A  12      -8.160   0.762   4.910  1.00 92.13           C  \\nATOM     90  O   THR A  12      -7.503   0.830   3.869  1.00 92.13           O  \\nATOM     91  CB  THR A  12      -9.999  -0.914   5.194  1.00 92.13           C  \\nATOM     92  OG1 THR A  12      -9.332  -1.771   4.259  1.00 92.13           O  \\nATOM     93  CG2 THR A  12     -11.501  -1.172   5.120  1.00 92.13           C  \\nATOM     94  N   GLN A  13      -7.543   0.789   6.115  1.00 89.50           N  \\nATOM     95  CA  GLN A  13      -6.103   0.902   6.317  1.00 89.50           C  \\nATOM     96  C   GLN A  13      -5.374  -0.326   5.778  1.00 89.50           C  \\nATOM     97  O   GLN A  13      -4.242  -0.223   5.301  1.00 89.50           O  \\nATOM     98  CB  GLN A  13      -5.781   1.094   7.800  1.00 89.50           C  \\nATOM     99  CG  GLN A  13      -4.321   1.425   8.075  1.00 89.50           C  \\nATOM    100  CD  GLN A  13      -3.948   2.834   7.652  1.00 89.50           C  \\nATOM    101  OE1 GLN A  13      -4.743   3.769   7.793  1.00 89.50           O  \\nATOM    102  NE2 GLN A  13      -2.737   2.996   7.130  1.00 89.50           N  \\nATOM    103  N   ALA A  14      -6.055  -1.434   5.928  1.00 90.56           N  \\nATOM    104  CA  ALA A  14      -5.457  -2.678   5.451  1.00 90.56           C  \\nATOM    105  C   ALA A  14      -5.213  -2.627   3.946  1.00 90.56           C  \\nATOM    106  O   ALA A  14      -4.151  -3.034   3.469  1.00 90.56           O  \\nATOM    107  CB  ALA A  14      -6.349  -3.866   5.802  1.00 90.56           C  \\nATOM    108  N   GLU A  15      -6.280  -2.090   3.263  1.00 88.00           N  \\nATOM    109  CA  GLU A  15      -6.113  -1.971   1.817  1.00 88.00           C  \\nATOM    110  C   GLU A  15      -5.002  -0.985   1.469  1.00 88.00           C  \\nATOM    111  O   GLU A  15      -4.203  -1.236   0.564  1.00 88.00           O  \\nATOM    112  CB  GLU A  15      -7.425  -1.539   1.158  1.00 88.00           C  \\nATOM    113  CG  GLU A  15      -8.496  -2.620   1.153  1.00 88.00           C  \\nATOM    114  CD  GLU A  15      -9.840  -2.130   0.638  1.00 88.00           C  \\nATOM    115  OE1 GLU A  15     -10.706  -2.972   0.306  1.00 88.00           O  \\nATOM    116  OE2 GLU A  15     -10.029  -0.896   0.563  1.00 88.00           O  \\nATOM    117  N   LEU A  16      -4.926   0.112   2.281  1.00 85.50           N  \\nATOM    118  CA  LEU A  16      -3.883   1.107   2.061  1.00 85.50           C  \\nATOM    119  C   LEU A  16      -2.500   0.500   2.272  1.00 85.50           C  \\nATOM    120  O   LEU A  16      -1.594   0.710   1.461  1.00 85.50           O  \\nATOM    121  CB  LEU A  16      -4.076   2.302   2.997  1.00 85.50           C  \\nATOM    122  CG  LEU A  16      -3.017   3.403   2.919  1.00 85.50           C  \\nATOM    123  CD1 LEU A  16      -2.990   4.015   1.523  1.00 85.50           C  \\nATOM    124  CD2 LEU A  16      -3.279   4.473   3.973  1.00 85.50           C  \\nATOM    125  N   ASN A  17      -2.414  -0.308   3.278  1.00 84.53           N  \\nATOM    126  CA  ASN A  17      -1.138  -0.944   3.588  1.00 84.53           C  \\nATOM    127  C   ASN A  17      -0.694  -1.885   2.472  1.00 84.53           C  \\nATOM    128  O   ASN A  17       0.485  -1.919   2.115  1.00 84.53           O  \\nATOM    129  CB  ASN A  17      -1.222  -1.698   4.917  1.00 84.53           C  \\nATOM    130  CG  ASN A  17      -1.261  -0.769   6.114  1.00 84.53           C  \\nATOM    131  OD1 ASN A  17      -0.868   0.396   6.024  1.00 84.53           O  \\nATOM    132  ND2 ASN A  17      -1.738  -1.279   7.244  1.00 84.53           N  \\nATOM    133  N   HIS A  18      -1.672  -2.631   1.963  1.00 83.91           N  \\nATOM    134  CA  HIS A  18      -1.387  -3.553   0.870  1.00 83.91           C  \\nATOM    135  C   HIS A  18      -0.886  -2.809  -0.363  1.00 83.91           C  \\nATOM    136  O   HIS A  18       0.064  -3.248  -1.015  1.00 83.91           O  \\nATOM    137  CB  HIS A  18      -2.632  -4.371   0.521  1.00 83.91           C  \\nATOM    138  CG  HIS A  18      -2.386  -5.428  -0.508  1.00 83.91           C  \\nATOM    139  ND1 HIS A  18      -1.738  -6.610  -0.219  1.00 83.91           N  \\nATOM    140  CD2 HIS A  18      -2.705  -5.482  -1.822  1.00 83.91           C  \\nATOM    141  CE1 HIS A  18      -1.668  -7.346  -1.316  1.00 83.91           C  \\nATOM    142  NE2 HIS A  18      -2.248  -6.684  -2.303  1.00 83.91           N  \\nATOM    143  N   CYS A  19      -1.436  -1.721  -0.583  1.00 82.61           N  \\nATOM    144  CA  CYS A  19      -1.045  -0.926  -1.742  1.00 82.61           C  \\nATOM    145  C   CYS A  19       0.352  -0.346  -1.559  1.00 82.61           C  \\nATOM    146  O   CYS A  19       1.155  -0.343  -2.494  1.00 82.61           O  \\nATOM    147  CB  CYS A  19      -2.048   0.203  -1.980  1.00 82.61           C  \\nATOM    148  SG  CYS A  19      -1.655   1.237  -3.408  1.00 82.61           S  \\nATOM    149  N   MET A  20       0.629   0.142  -0.370  1.00 80.22           N  \\nATOM    150  CA  MET A  20       1.925   0.767  -0.121  1.00 80.22           C  \\nATOM    151  C   MET A  20       3.052  -0.256  -0.225  1.00 80.22           C  \\nATOM    152  O   MET A  20       4.191   0.098  -0.533  1.00 80.22           O  \\nATOM    153  CB  MET A  20       1.948   1.431   1.256  1.00 80.22           C  \\nATOM    154  CG  MET A  20       1.032   2.639   1.370  1.00 80.22           C  \\nATOM    155  SD  MET A  20       1.918   4.222   1.092  1.00 80.22           S  \\nATOM    156  CE  MET A  20       3.001   4.241   2.548  1.00 80.22           C  \\nATOM    157  N   ARG A  21       2.781  -1.518   0.038  1.00 82.22           N  \\nATOM    158  CA  ARG A  21       3.809  -2.554   0.007  1.00 82.22           C  \\nATOM    159  C   ARG A  21       4.282  -2.815  -1.419  1.00 82.22           C  \\nATOM    160  O   ARG A  21       5.461  -3.093  -1.647  1.00 82.22           O  \\nATOM    161  CB  ARG A  21       3.286  -3.850   0.631  1.00 82.22           C  \\nATOM    162  CG  ARG A  21       3.248  -3.830   2.151  1.00 82.22           C  \\nATOM    163  CD  ARG A  21       3.002  -5.217   2.727  1.00 82.22           C  \\nATOM    164  NE  ARG A  21       1.685  -5.316   3.351  1.00 82.22           N  \\nATOM    165  CZ  ARG A  21       1.247  -6.371   4.033  1.00 82.22           C  \\nATOM    166  NH1 ARG A  21       2.016  -7.442   4.193  1.00 82.22           N  \\nATOM    167  NH2 ARG A  21       0.031  -6.355   4.559  1.00 82.22           N  \\nATOM    168  N   ARG A  22       3.378  -2.624  -2.368  1.00 73.82           N  \\nATOM    169  CA  ARG A  22       3.738  -2.903  -3.754  1.00 73.82           C  \\nATOM    170  C   ARG A  22       4.635  -1.806  -4.318  1.00 73.82           C  \\nATOM    171  O   ARG A  22       5.536  -2.081  -5.113  1.00 73.82           O  \\nATOM    172  CB  ARG A  22       2.483  -3.049  -4.617  1.00 73.82           C  \\nATOM    173  CG  ARG A  22       1.707  -4.332  -4.364  1.00 73.82           C  \\nATOM    174  CD  ARG A  22       0.574  -4.513  -5.365  1.00 73.82           C  \\nATOM    175  NE  ARG A  22       0.470  -5.898  -5.815  1.00 73.82           N  \\nATOM    176  CZ  ARG A  22      -0.631  -6.450  -6.317  1.00 73.82           C  \\nATOM    177  NH1 ARG A  22      -1.749  -5.743  -6.442  1.00 73.82           N  \\nATOM    178  NH2 ARG A  22      -0.616  -7.720  -6.697  1.00 73.82           N  \\nATOM    179  N   VAL A  23       4.375  -0.568  -3.752  1.00 67.86           N  \\nATOM    180  CA  VAL A  23       5.121   0.570  -4.279  1.00 67.86           C  \\nATOM    181  C   VAL A  23       6.554   0.538  -3.751  1.00 67.86           C  \\nATOM    182  O   VAL A  23       7.492   0.913  -4.459  1.00 67.86           O  \\nATOM    183  CB  VAL A  23       4.447   1.910  -3.911  1.00 67.86           C  \\nATOM    184  CG1 VAL A  23       5.268   3.089  -4.430  1.00 67.86           C  \\nATOM    185  CG2 VAL A  23       3.024   1.961  -4.464  1.00 67.86           C  \\nATOM    186  N   ASP A  24       6.702  -0.159  -2.586  1.00 64.77           N  \\nATOM    187  CA  ASP A  24       8.065  -0.223  -2.068  1.00 64.77           C  \\nATOM    188  C   ASP A  24       8.821  -1.412  -2.656  1.00 64.77           C  \\nATOM    189  O   ASP A  24      10.042  -1.360  -2.817  1.00 64.77           O  \\nATOM    190  CB  ASP A  24       8.055  -0.309  -0.541  1.00 64.77           C  \\nATOM    191  CG  ASP A  24       9.087   0.595   0.111  1.00 64.77           C  \\nATOM    192  OD1 ASP A  24       9.891   1.222  -0.611  1.00 64.77           O  \\nATOM    193  OD2 ASP A  24       9.097   0.678   1.359  1.00 64.77           O  \\nATOM    194  N   ASN A  25       8.086  -2.354  -3.274  1.00 51.66           N  \\nATOM    195  CA  ASN A  25       8.806  -3.456  -3.903  1.00 51.66           C  \\nATOM    196  C   ASN A  25       9.114  -3.160  -5.368  1.00 51.66           C  \\nATOM    197  O   ASN A  25      10.161  -3.561  -5.880  1.00 51.66           O  \\nATOM    198  CB  ASN A  25       8.011  -4.757  -3.780  1.00 51.66           C  \\nATOM    199  CG  ASN A  25       8.014  -5.312  -2.369  1.00 51.66           C  \\nATOM    200  OD1 ASN A  25       8.911  -5.017  -1.575  1.00 51.66           O  \\nATOM    201  ND2 ASN A  25       7.011  -6.120  -2.047  1.00 51.66           N  \",\"pdb\",{\"hbondCutoff\": 4.0});\n\tviewer_1758702580622808.setStyle({\"cartoon\": {\"colorscheme\": {\"prop\": \"b\", \"gradient\": \"roygb\", \"min\": 50, \"max\": 90}}});\n\tviewer_1758702580622808.addStyle({\"and\": [{\"resn\": [\"GLY\", \"PRO\"], \"invert\": true}, {\"atom\": [\"C\", \"O\", \"N\"], \"invert\": true}]},{\"stick\": {\"colorscheme\": \"WhiteCarbon\", \"radius\": 0.3}});\n\tviewer_1758702580622808.addStyle({\"and\": [{\"resn\": \"GLY\"}, {\"atom\": \"CA\"}]},{\"sphere\": {\"colorscheme\": \"WhiteCarbon\", \"radius\": 0.3}});\n\tviewer_1758702580622808.addStyle({\"and\": [{\"resn\": \"PRO\"}, {\"atom\": [\"C\", \"O\"], \"invert\": true}]},{\"stick\": {\"colorscheme\": \"WhiteCarbon\", \"radius\": 0.3}});\n\tviewer_1758702580622808.zoomTo();\nviewer_1758702580622808.render();\n});\n</script>",
            "text/html": [
              "<div id=\"3dmolviewer_1758702580622808\"  style=\"position: relative; width: 800px; height: 480px;\">\n",
              "        <p id=\"3dmolwarning_1758702580622808\" style=\"background-color:#ffcccc;color:black\">3Dmol.js failed to load for some reason.  Please check your browser console for error messages.<br></p>\n",
              "        </div>\n",
              "<script>\n",
              "\n",
              "var loadScriptAsync = function(uri){\n",
              "  return new Promise((resolve, reject) => {\n",
              "    //this is to ignore the existence of requirejs amd\n",
              "    var savedexports, savedmodule;\n",
              "    if (typeof exports !== 'undefined') savedexports = exports;\n",
              "    else exports = {}\n",
              "    if (typeof module !== 'undefined') savedmodule = module;\n",
              "    else module = {}\n",
              "\n",
              "    var tag = document.createElement('script');\n",
              "    tag.src = uri;\n",
              "    tag.async = true;\n",
              "    tag.onload = () => {\n",
              "        exports = savedexports;\n",
              "        module = savedmodule;\n",
              "        resolve();\n",
              "    };\n",
              "  var firstScriptTag = document.getElementsByTagName('script')[0];\n",
              "  firstScriptTag.parentNode.insertBefore(tag, firstScriptTag);\n",
              "});\n",
              "};\n",
              "\n",
              "if(typeof $3Dmolpromise === 'undefined') {\n",
              "$3Dmolpromise = null;\n",
              "  $3Dmolpromise = loadScriptAsync('https://3dmol.org/build/3Dmol.js');\n",
              "}\n",
              "\n",
              "var viewer_1758702580622808 = null;\n",
              "var warn = document.getElementById(\"3dmolwarning_1758702580622808\");\n",
              "if(warn) {\n",
              "    warn.parentNode.removeChild(warn);\n",
              "}\n",
              "$3Dmolpromise.then(function() {\n",
              "viewer_1758702580622808 = $3Dmol.createViewer(document.getElementById(\"3dmolviewer_1758702580622808\"),{backgroundColor:\"white\"});\n",
              "viewer_1758702580622808.zoomTo();\n",
              "\tviewer_1758702580622808.addModel(\"ATOM      1  N   LEU A   1      -8.470   6.972   2.804  1.00 81.60           N  \\nATOM      2  CA  LEU A   1      -7.027   6.788   2.908  1.00 81.60           C  \\nATOM      3  C   LEU A   1      -6.393   6.667   1.527  1.00 81.60           C  \\nATOM      4  O   LEU A   1      -6.874   5.908   0.682  1.00 81.60           O  \\nATOM      5  CB  LEU A   1      -6.704   5.544   3.741  1.00 81.60           C  \\nATOM      6  CG  LEU A   1      -7.289   5.503   5.154  1.00 81.60           C  \\nATOM      7  CD1 LEU A   1      -7.309   4.071   5.678  1.00 81.60           C  \\nATOM      8  CD2 LEU A   1      -6.493   6.409   6.088  1.00 81.60           C  \\nATOM      9  N   ALA A   2      -5.770   7.716   1.132  1.00 77.62           N  \\nATOM     10  CA  ALA A   2      -5.212   7.704  -0.218  1.00 77.62           C  \\nATOM     11  C   ALA A   2      -3.718   7.396  -0.191  1.00 77.62           C  \\nATOM     12  O   ALA A   2      -3.032   7.704   0.786  1.00 77.62           O  \\nATOM     13  CB  ALA A   2      -5.464   9.042  -0.909  1.00 77.62           C  \\nATOM     14  N   CYS A   3      -3.237   6.622  -1.132  1.00 73.93           N  \\nATOM     15  CA  CYS A   3      -1.815   6.342  -1.298  1.00 73.93           C  \\nATOM     16  C   CYS A   3      -1.097   7.525  -1.936  1.00 73.93           C  \\nATOM     17  O   CYS A   3      -1.547   8.054  -2.954  1.00 73.93           O  \\nATOM     18  CB  CYS A   3      -1.611   5.090  -2.151  1.00 73.93           C  \\nATOM     19  SG  CYS A   3       0.097   4.503  -2.186  1.00 73.93           S  \\nATOM     20  N   PRO A   4      -0.248   8.074  -1.248  1.00 72.04           N  \\nATOM     21  CA  PRO A   4       0.430   9.260  -1.776  1.00 72.04           C  \\nATOM     22  C   PRO A   4       1.050   9.022  -3.151  1.00 72.04           C  \\nATOM     23  O   PRO A   4       1.166   9.955  -3.950  1.00 72.04           O  \\nATOM     24  CB  PRO A   4       1.512   9.543  -0.730  1.00 72.04           C  \\nATOM     25  CG  PRO A   4       1.256   8.553   0.361  1.00 72.04           C  \\nATOM     26  CD  PRO A   4       0.158   7.629  -0.081  1.00 72.04           C  \\nATOM     27  N   LYS A   5       1.517   7.775  -3.313  1.00 72.42           N  \\nATOM     28  CA  LYS A   5       2.163   7.595  -4.610  1.00 72.42           C  \\nATOM     29  C   LYS A   5       1.154   7.165  -5.671  1.00 72.42           C  \\nATOM     30  O   LYS A   5       1.458   7.179  -6.866  1.00 72.42           O  \\nATOM     31  CB  LYS A   5       3.290   6.566  -4.510  1.00 72.42           C  \\nATOM     32  CG  LYS A   5       4.511   7.058  -3.748  1.00 72.42           C  \\nATOM     33  CD  LYS A   5       5.684   6.096  -3.890  1.00 72.42           C  \\nATOM     34  CE  LYS A   5       6.908   6.589  -3.131  1.00 72.42           C  \\nATOM     35  NZ  LYS A   5       8.039   5.616  -3.210  1.00 72.42           N  \\nATOM     36  N   MET A   6      -0.009   6.728  -5.228  1.00 67.96           N  \\nATOM     37  CA  MET A   6      -1.044   6.316  -6.172  1.00 67.96           C  \\nATOM     38  C   MET A   6      -2.365   7.015  -5.869  1.00 67.96           C  \\nATOM     39  O   MET A   6      -2.589   7.469  -4.746  1.00 67.96           O  \\nATOM     40  CB  MET A   6      -1.234   4.799  -6.135  1.00 67.96           C  \\nATOM     41  CG  MET A   6      -0.141   4.026  -6.855  1.00 67.96           C  \\nATOM     42  SD  MET A   6      -0.694   2.360  -7.390  1.00 67.96           S  \\nATOM     43  CE  MET A   6       0.618   1.953  -8.575  1.00 67.96           C  \\nATOM     44  N   CYS A   7      -2.991   7.556  -6.817  1.00 70.51           N  \\nATOM     45  CA  CYS A   7      -4.230   8.307  -6.647  1.00 70.51           C  \\nATOM     46  C   CYS A   7      -5.418   7.368  -6.478  1.00 70.51           C  \\nATOM     47  O   CYS A   7      -6.513   7.653  -6.967  1.00 70.51           O  \\nATOM     48  CB  CYS A   7      -4.464   9.233  -7.840  1.00 70.51           C  \\nATOM     49  SG  CYS A   7      -3.562  10.794  -7.738  1.00 70.51           S  \\nATOM     50  N   HIS A   8      -5.214   6.364  -5.662  1.00 75.77           N  \\nATOM     51  CA  HIS A   8      -6.344   5.471  -5.432  1.00 75.77           C  \\nATOM     52  C   HIS A   8      -6.876   5.611  -4.010  1.00 75.77           C  \\nATOM     53  O   HIS A   8      -6.103   5.811  -3.070  1.00 75.77           O  \\nATOM     54  CB  HIS A   8      -5.943   4.020  -5.702  1.00 75.77           C  \\nATOM     55  CG  HIS A   8      -6.219   3.572  -7.102  1.00 75.77           C  \\nATOM     56  ND1 HIS A   8      -5.241   3.055  -7.924  1.00 75.77           N  \\nATOM     57  CD2 HIS A   8      -7.365   3.561  -7.822  1.00 75.77           C  \\nATOM     58  CE1 HIS A   8      -5.775   2.746  -9.094  1.00 75.77           C  \\nATOM     59  NE2 HIS A   8      -7.063   3.043  -9.058  1.00 75.77           N  \\nATOM     60  N   THR A   9      -8.113   5.749  -3.852  1.00 82.01           N  \\nATOM     61  CA  THR A   9      -8.750   5.805  -2.541  1.00 82.01           C  \\nATOM     62  C   THR A   9      -9.100   4.403  -2.049  1.00 82.01           C  \\nATOM     63  O   THR A   9      -9.568   3.566  -2.825  1.00 82.01           O  \\nATOM     64  CB  THR A   9     -10.022   6.672  -2.574  1.00 82.01           C  \\nATOM     65  OG1 THR A   9      -9.855   7.718  -3.539  1.00 82.01           O  \\nATOM     66  CG2 THR A   9     -10.298   7.295  -1.209  1.00 82.01           C  \\nATOM     67  N   PHE A  10      -8.689   4.214  -0.849  1.00 84.31           N  \\nATOM     68  CA  PHE A  10      -8.963   2.903  -0.273  1.00 84.31           C  \\nATOM     69  C   PHE A  10      -9.939   3.017   0.892  1.00 84.31           C  \\nATOM     70  O   PHE A  10     -10.043   4.072   1.521  1.00 84.31           O  \\nATOM     71  CB  PHE A  10      -7.665   2.236   0.194  1.00 84.31           C  \\nATOM     72  CG  PHE A  10      -6.667   2.013  -0.910  1.00 84.31           C  \\nATOM     73  CD1 PHE A  10      -6.739   0.881  -1.713  1.00 84.31           C  \\nATOM     74  CD2 PHE A  10      -5.656   2.936  -1.145  1.00 84.31           C  \\nATOM     75  CE1 PHE A  10      -5.816   0.671  -2.735  1.00 84.31           C  \\nATOM     76  CE2 PHE A  10      -4.731   2.734  -2.165  1.00 84.31           C  \\nATOM     77  CZ  PHE A  10      -4.812   1.600  -2.958  1.00 84.31           C  \\nATOM     78  N   GLU A  11     -10.626   1.957   1.103  1.00 87.33           N  \\nATOM     79  CA  GLU A  11     -11.712   1.990   2.079  1.00 87.33           C  \\nATOM     80  C   GLU A  11     -11.200   1.686   3.484  1.00 87.33           C  \\nATOM     81  O   GLU A  11     -11.758   2.170   4.471  1.00 87.33           O  \\nATOM     82  CB  GLU A  11     -12.812   0.998   1.693  1.00 87.33           C  \\nATOM     83  CG  GLU A  11     -13.593   1.398   0.450  1.00 87.33           C  \\nATOM     84  CD  GLU A  11     -14.697   0.415   0.092  1.00 87.33           C  \\nATOM     85  OE1 GLU A  11     -15.462   0.683  -0.861  1.00 87.33           O  \\nATOM     86  OE2 GLU A  11     -14.797  -0.630   0.772  1.00 87.33           O  \\nATOM     87  N   THR A  12     -10.203   0.932   3.557  1.00 92.13           N  \\nATOM     88  CA  THR A  12      -9.671   0.553   4.861  1.00 92.13           C  \\nATOM     89  C   THR A  12      -8.160   0.762   4.910  1.00 92.13           C  \\nATOM     90  O   THR A  12      -7.503   0.830   3.869  1.00 92.13           O  \\nATOM     91  CB  THR A  12      -9.999  -0.914   5.194  1.00 92.13           C  \\nATOM     92  OG1 THR A  12      -9.332  -1.771   4.259  1.00 92.13           O  \\nATOM     93  CG2 THR A  12     -11.501  -1.172   5.120  1.00 92.13           C  \\nATOM     94  N   GLN A  13      -7.543   0.789   6.115  1.00 89.50           N  \\nATOM     95  CA  GLN A  13      -6.103   0.902   6.317  1.00 89.50           C  \\nATOM     96  C   GLN A  13      -5.374  -0.326   5.778  1.00 89.50           C  \\nATOM     97  O   GLN A  13      -4.242  -0.223   5.301  1.00 89.50           O  \\nATOM     98  CB  GLN A  13      -5.781   1.094   7.800  1.00 89.50           C  \\nATOM     99  CG  GLN A  13      -4.321   1.425   8.075  1.00 89.50           C  \\nATOM    100  CD  GLN A  13      -3.948   2.834   7.652  1.00 89.50           C  \\nATOM    101  OE1 GLN A  13      -4.743   3.769   7.793  1.00 89.50           O  \\nATOM    102  NE2 GLN A  13      -2.737   2.996   7.130  1.00 89.50           N  \\nATOM    103  N   ALA A  14      -6.055  -1.434   5.928  1.00 90.56           N  \\nATOM    104  CA  ALA A  14      -5.457  -2.678   5.451  1.00 90.56           C  \\nATOM    105  C   ALA A  14      -5.213  -2.627   3.946  1.00 90.56           C  \\nATOM    106  O   ALA A  14      -4.151  -3.034   3.469  1.00 90.56           O  \\nATOM    107  CB  ALA A  14      -6.349  -3.866   5.802  1.00 90.56           C  \\nATOM    108  N   GLU A  15      -6.280  -2.090   3.263  1.00 88.00           N  \\nATOM    109  CA  GLU A  15      -6.113  -1.971   1.817  1.00 88.00           C  \\nATOM    110  C   GLU A  15      -5.002  -0.985   1.469  1.00 88.00           C  \\nATOM    111  O   GLU A  15      -4.203  -1.236   0.564  1.00 88.00           O  \\nATOM    112  CB  GLU A  15      -7.425  -1.539   1.158  1.00 88.00           C  \\nATOM    113  CG  GLU A  15      -8.496  -2.620   1.153  1.00 88.00           C  \\nATOM    114  CD  GLU A  15      -9.840  -2.130   0.638  1.00 88.00           C  \\nATOM    115  OE1 GLU A  15     -10.706  -2.972   0.306  1.00 88.00           O  \\nATOM    116  OE2 GLU A  15     -10.029  -0.896   0.563  1.00 88.00           O  \\nATOM    117  N   LEU A  16      -4.926   0.112   2.281  1.00 85.50           N  \\nATOM    118  CA  LEU A  16      -3.883   1.107   2.061  1.00 85.50           C  \\nATOM    119  C   LEU A  16      -2.500   0.500   2.272  1.00 85.50           C  \\nATOM    120  O   LEU A  16      -1.594   0.710   1.461  1.00 85.50           O  \\nATOM    121  CB  LEU A  16      -4.076   2.302   2.997  1.00 85.50           C  \\nATOM    122  CG  LEU A  16      -3.017   3.403   2.919  1.00 85.50           C  \\nATOM    123  CD1 LEU A  16      -2.990   4.015   1.523  1.00 85.50           C  \\nATOM    124  CD2 LEU A  16      -3.279   4.473   3.973  1.00 85.50           C  \\nATOM    125  N   ASN A  17      -2.414  -0.308   3.278  1.00 84.53           N  \\nATOM    126  CA  ASN A  17      -1.138  -0.944   3.588  1.00 84.53           C  \\nATOM    127  C   ASN A  17      -0.694  -1.885   2.472  1.00 84.53           C  \\nATOM    128  O   ASN A  17       0.485  -1.919   2.115  1.00 84.53           O  \\nATOM    129  CB  ASN A  17      -1.222  -1.698   4.917  1.00 84.53           C  \\nATOM    130  CG  ASN A  17      -1.261  -0.769   6.114  1.00 84.53           C  \\nATOM    131  OD1 ASN A  17      -0.868   0.396   6.024  1.00 84.53           O  \\nATOM    132  ND2 ASN A  17      -1.738  -1.279   7.244  1.00 84.53           N  \\nATOM    133  N   HIS A  18      -1.672  -2.631   1.963  1.00 83.91           N  \\nATOM    134  CA  HIS A  18      -1.387  -3.553   0.870  1.00 83.91           C  \\nATOM    135  C   HIS A  18      -0.886  -2.809  -0.363  1.00 83.91           C  \\nATOM    136  O   HIS A  18       0.064  -3.248  -1.015  1.00 83.91           O  \\nATOM    137  CB  HIS A  18      -2.632  -4.371   0.521  1.00 83.91           C  \\nATOM    138  CG  HIS A  18      -2.386  -5.428  -0.508  1.00 83.91           C  \\nATOM    139  ND1 HIS A  18      -1.738  -6.610  -0.219  1.00 83.91           N  \\nATOM    140  CD2 HIS A  18      -2.705  -5.482  -1.822  1.00 83.91           C  \\nATOM    141  CE1 HIS A  18      -1.668  -7.346  -1.316  1.00 83.91           C  \\nATOM    142  NE2 HIS A  18      -2.248  -6.684  -2.303  1.00 83.91           N  \\nATOM    143  N   CYS A  19      -1.436  -1.721  -0.583  1.00 82.61           N  \\nATOM    144  CA  CYS A  19      -1.045  -0.926  -1.742  1.00 82.61           C  \\nATOM    145  C   CYS A  19       0.352  -0.346  -1.559  1.00 82.61           C  \\nATOM    146  O   CYS A  19       1.155  -0.343  -2.494  1.00 82.61           O  \\nATOM    147  CB  CYS A  19      -2.048   0.203  -1.980  1.00 82.61           C  \\nATOM    148  SG  CYS A  19      -1.655   1.237  -3.408  1.00 82.61           S  \\nATOM    149  N   MET A  20       0.629   0.142  -0.370  1.00 80.22           N  \\nATOM    150  CA  MET A  20       1.925   0.767  -0.121  1.00 80.22           C  \\nATOM    151  C   MET A  20       3.052  -0.256  -0.225  1.00 80.22           C  \\nATOM    152  O   MET A  20       4.191   0.098  -0.533  1.00 80.22           O  \\nATOM    153  CB  MET A  20       1.948   1.431   1.256  1.00 80.22           C  \\nATOM    154  CG  MET A  20       1.032   2.639   1.370  1.00 80.22           C  \\nATOM    155  SD  MET A  20       1.918   4.222   1.092  1.00 80.22           S  \\nATOM    156  CE  MET A  20       3.001   4.241   2.548  1.00 80.22           C  \\nATOM    157  N   ARG A  21       2.781  -1.518   0.038  1.00 82.22           N  \\nATOM    158  CA  ARG A  21       3.809  -2.554   0.007  1.00 82.22           C  \\nATOM    159  C   ARG A  21       4.282  -2.815  -1.419  1.00 82.22           C  \\nATOM    160  O   ARG A  21       5.461  -3.093  -1.647  1.00 82.22           O  \\nATOM    161  CB  ARG A  21       3.286  -3.850   0.631  1.00 82.22           C  \\nATOM    162  CG  ARG A  21       3.248  -3.830   2.151  1.00 82.22           C  \\nATOM    163  CD  ARG A  21       3.002  -5.217   2.727  1.00 82.22           C  \\nATOM    164  NE  ARG A  21       1.685  -5.316   3.351  1.00 82.22           N  \\nATOM    165  CZ  ARG A  21       1.247  -6.371   4.033  1.00 82.22           C  \\nATOM    166  NH1 ARG A  21       2.016  -7.442   4.193  1.00 82.22           N  \\nATOM    167  NH2 ARG A  21       0.031  -6.355   4.559  1.00 82.22           N  \\nATOM    168  N   ARG A  22       3.378  -2.624  -2.368  1.00 73.82           N  \\nATOM    169  CA  ARG A  22       3.738  -2.903  -3.754  1.00 73.82           C  \\nATOM    170  C   ARG A  22       4.635  -1.806  -4.318  1.00 73.82           C  \\nATOM    171  O   ARG A  22       5.536  -2.081  -5.113  1.00 73.82           O  \\nATOM    172  CB  ARG A  22       2.483  -3.049  -4.617  1.00 73.82           C  \\nATOM    173  CG  ARG A  22       1.707  -4.332  -4.364  1.00 73.82           C  \\nATOM    174  CD  ARG A  22       0.574  -4.513  -5.365  1.00 73.82           C  \\nATOM    175  NE  ARG A  22       0.470  -5.898  -5.815  1.00 73.82           N  \\nATOM    176  CZ  ARG A  22      -0.631  -6.450  -6.317  1.00 73.82           C  \\nATOM    177  NH1 ARG A  22      -1.749  -5.743  -6.442  1.00 73.82           N  \\nATOM    178  NH2 ARG A  22      -0.616  -7.720  -6.697  1.00 73.82           N  \\nATOM    179  N   VAL A  23       4.375  -0.568  -3.752  1.00 67.86           N  \\nATOM    180  CA  VAL A  23       5.121   0.570  -4.279  1.00 67.86           C  \\nATOM    181  C   VAL A  23       6.554   0.538  -3.751  1.00 67.86           C  \\nATOM    182  O   VAL A  23       7.492   0.913  -4.459  1.00 67.86           O  \\nATOM    183  CB  VAL A  23       4.447   1.910  -3.911  1.00 67.86           C  \\nATOM    184  CG1 VAL A  23       5.268   3.089  -4.430  1.00 67.86           C  \\nATOM    185  CG2 VAL A  23       3.024   1.961  -4.464  1.00 67.86           C  \\nATOM    186  N   ASP A  24       6.702  -0.159  -2.586  1.00 64.77           N  \\nATOM    187  CA  ASP A  24       8.065  -0.223  -2.068  1.00 64.77           C  \\nATOM    188  C   ASP A  24       8.821  -1.412  -2.656  1.00 64.77           C  \\nATOM    189  O   ASP A  24      10.042  -1.360  -2.817  1.00 64.77           O  \\nATOM    190  CB  ASP A  24       8.055  -0.309  -0.541  1.00 64.77           C  \\nATOM    191  CG  ASP A  24       9.087   0.595   0.111  1.00 64.77           C  \\nATOM    192  OD1 ASP A  24       9.891   1.222  -0.611  1.00 64.77           O  \\nATOM    193  OD2 ASP A  24       9.097   0.678   1.359  1.00 64.77           O  \\nATOM    194  N   ASN A  25       8.086  -2.354  -3.274  1.00 51.66           N  \\nATOM    195  CA  ASN A  25       8.806  -3.456  -3.903  1.00 51.66           C  \\nATOM    196  C   ASN A  25       9.114  -3.160  -5.368  1.00 51.66           C  \\nATOM    197  O   ASN A  25      10.161  -3.561  -5.880  1.00 51.66           O  \\nATOM    198  CB  ASN A  25       8.011  -4.757  -3.780  1.00 51.66           C  \\nATOM    199  CG  ASN A  25       8.014  -5.312  -2.369  1.00 51.66           C  \\nATOM    200  OD1 ASN A  25       8.911  -5.017  -1.575  1.00 51.66           O  \\nATOM    201  ND2 ASN A  25       7.011  -6.120  -2.047  1.00 51.66           N  \",\"pdb\",{\"hbondCutoff\": 4.0});\n",
              "\tviewer_1758702580622808.setStyle({\"cartoon\": {\"colorscheme\": {\"prop\": \"b\", \"gradient\": \"roygb\", \"min\": 50, \"max\": 90}}});\n",
              "\tviewer_1758702580622808.addStyle({\"and\": [{\"resn\": [\"GLY\", \"PRO\"], \"invert\": true}, {\"atom\": [\"C\", \"O\", \"N\"], \"invert\": true}]},{\"stick\": {\"colorscheme\": \"WhiteCarbon\", \"radius\": 0.3}});\n",
              "\tviewer_1758702580622808.addStyle({\"and\": [{\"resn\": \"GLY\"}, {\"atom\": \"CA\"}]},{\"sphere\": {\"colorscheme\": \"WhiteCarbon\", \"radius\": 0.3}});\n",
              "\tviewer_1758702580622808.addStyle({\"and\": [{\"resn\": \"PRO\"}, {\"atom\": [\"C\", \"O\"], \"invert\": true}]},{\"stick\": {\"colorscheme\": \"WhiteCarbon\", \"radius\": 0.3}});\n",
              "\tviewer_1758702580622808.zoomTo();\n",
              "viewer_1758702580622808.render();\n",
              "});\n",
              "</script>"
            ]
          },
          "metadata": {}
        }
      ]
    },
    {
      "cell_type": "code",
      "source": [
        "#@title Mutate DNA and inspect translation\n",
        "from IPython.display import display, HTML\n",
        "from textwrap import wrap\n",
        "import Bio\n",
        "from Bio.Seq import Seq\n",
        "\n",
        "# === Inputs ===\n",
        "original_seq = \"tacaaatgcgggttgtgcgagaggagctttgtggaaaagtctgccctttccagacaccagagggttcacaaaaat\" #@param {type:\"string\"}\n",
        "mutated_seq  = \"tacaaacgcgggttgtgcgagaggagctttgtggaaaagtctgccctttccagacaccagagggttcacaaaaat\" #@param {type:\"string\"}\n",
        "\n",
        "# Clean input\n",
        "original_seq = original_seq.replace(\" \", \"\").upper()\n",
        "mutated_seq  = mutated_seq.replace(\" \", \"\").upper()\n",
        "\n",
        "# === Checks ===\n",
        "if len(original_seq) != len(mutated_seq):\n",
        "    raise ValueError(f\"Sequences must have the same length (got {len(original_seq)} vs {len(mutated_seq)}).\")\n",
        "if len(original_seq) % 3 != 0:\n",
        "    raise ValueError(f\"Sequence length must be a multiple of 3 (got {len(original_seq)}).\")\n",
        "\n",
        "# === Genetic code (DNA codons) ===\n",
        "codon_table = {\n",
        "    \"TTT\":\"F\",\"TTC\":\"F\",\"TTA\":\"L\",\"TTG\":\"L\",\n",
        "    \"CTT\":\"L\",\"CTC\":\"L\",\"CTA\":\"L\",\"CTG\":\"L\",\n",
        "    \"ATT\":\"I\",\"ATC\":\"I\",\"ATA\":\"I\",\"ATG\":\"M\",\n",
        "    \"GTT\":\"V\",\"GTC\":\"V\",\"GTA\":\"V\",\"GTG\":\"V\",\n",
        "    \"TCT\":\"S\",\"TCC\":\"S\",\"TCA\":\"S\",\"TCG\":\"S\",\n",
        "    \"CCT\":\"P\",\"CCC\":\"P\",\"CCA\":\"P\",\"CCG\":\"P\",\n",
        "    \"ACT\":\"T\",\"ACC\":\"T\",\"ACA\":\"T\",\"ACG\":\"T\",\n",
        "    \"GCT\":\"A\",\"GCC\":\"A\",\"GCA\":\"A\",\"GCG\":\"A\",\n",
        "    \"TAT\":\"Y\",\"TAC\":\"Y\",\"TAA\":\"*\",\"TAG\":\"*\",\n",
        "    \"CAT\":\"H\",\"CAC\":\"H\",\"CAA\":\"Q\",\"CAG\":\"Q\",\n",
        "    \"AAT\":\"N\",\"AAC\":\"N\",\"AAA\":\"K\",\"AAG\":\"K\",\n",
        "    \"GAT\":\"D\",\"GAC\":\"D\",\"GAA\":\"E\",\"GAG\":\"E\",\n",
        "    \"TGT\":\"C\",\"TGC\":\"C\",\"TGA\":\"*\",\"TGG\":\"W\",\n",
        "    \"CGT\":\"R\",\"CGC\":\"R\",\"CGA\":\"R\",\"CGG\":\"R\",\n",
        "    \"AGT\":\"S\",\"AGC\":\"S\",\"AGA\":\"R\",\"AGG\":\"R\",\n",
        "    \"GGT\":\"G\",\"GGC\":\"G\",\"GGA\":\"G\",\"GGG\":\"G\"\n",
        "}\n",
        "\n",
        "def translate_dna(seq):\n",
        "    codons = wrap(seq, 3)\n",
        "    aa = [codon_table.get(c,\"?\") for c in codons]\n",
        "    return codons, aa\n",
        "\n",
        "from IPython.display import display, HTML\n",
        "\n",
        "def compare_sequences(seq1, seq2, space_every=10, spacer=\" \", no_number=False):\n",
        "    \"\"\"\n",
        "    Display two sequences in monospace, highlight differences in bold red,\n",
        "    insert spaces every n characters, and add numbering above each block.\n",
        "    \"\"\"\n",
        "    if len(seq1) != len(seq2):\n",
        "        raise ValueError(\"Sequences must be the same length\")\n",
        "\n",
        "    def highlight_block(s1, s2):\n",
        "        \"\"\"Highlight differences in one block of equal length\"\"\"\n",
        "        out1, out2 = [], []\n",
        "        for a, b in zip(s1, s2):\n",
        "            out1.append(a)\n",
        "            if a == b:\n",
        "                out2.append(b)\n",
        "            else:\n",
        "                out2.append(f\"<span style='color:red;font-weight:bold'>{b}</span>\")\n",
        "        return \"\".join(out1), \"\".join(out2)\n",
        "\n",
        "    # Split into blocks of size space_every\n",
        "    blocks1 = [seq1[i:i+space_every] for i in range(0, len(seq1), space_every)]\n",
        "    blocks2 = [seq2[i:i+space_every] for i in range(0, len(seq2), space_every)]\n",
        "\n",
        "    seq1_blocks, seq2_blocks, num_blocks = [], [], []\n",
        "    pos = 0\n",
        "    for b1, b2 in zip(blocks1, blocks2):\n",
        "        o1, o2 = highlight_block(b1, b2)\n",
        "        seq1_blocks.append(o1)\n",
        "        seq2_blocks.append(o2)\n",
        "        pos += len(b1)\n",
        "        num_blocks.append(str(pos).rjust(len(b1)))\n",
        "\n",
        "\n",
        "    number_line = spacer.join(num_blocks)\n",
        "    seq1_line   = spacer.join(seq1_blocks)\n",
        "    seq2_line   = spacer.join(seq2_blocks)\n",
        "\n",
        "    html = []\n",
        "    if no_number:\n",
        "        html = seq1_line + \"<br>\" + seq2_line\n",
        "    else:\n",
        "        html = number_line + \"<br>\" + seq1_line + \"<br>\" + seq2_line\n",
        "    display(HTML(f\"<pre style='font-family:monospace'>{html}</pre>\"))\n",
        "\n",
        "def dna_identity(seq1: str, seq2: str) -> float:\n",
        "    \"\"\"Return % identity at DNA level\"\"\"\n",
        "    if len(seq1) != len(seq2):\n",
        "        raise ValueError(\"Sequences must have the same length\")\n",
        "    matches = sum(a == b for a, b in zip(seq1.upper(), seq2.upper()))\n",
        "    return 100 * matches / len(seq1)\n",
        "\n",
        "def protein_identity(seq1: str, seq2: str) -> float:\n",
        "    \"\"\"Translate DNA → protein and return % identity\"\"\"\n",
        "    if len(seq1) % 3 != 0 or len(seq2) % 3 != 0:\n",
        "        raise ValueError(\"DNA sequences must be divisible by 3\")\n",
        "    prot1 = str(Seq(seq1).translate(to_stop=False))\n",
        "    prot2 = str(Seq(seq2).translate(to_stop=False))\n",
        "    if len(prot1) != len(prot2):\n",
        "        raise ValueError(\"Translated proteins have different lengths\")\n",
        "    matches = sum(a == b for a, b in zip(prot1, prot2))\n",
        "    return 100 * matches / len(prot1)\n",
        "\n",
        "def mutation_score(seq1: str, seq2: str) -> float:\n",
        "    \"\"\"Return mutation score\"\"\"\n",
        "    if len(seq1) != len(seq2):\n",
        "        raise ValueError(\"Sequences must have the same length\")\n",
        "\n",
        "    protein_id = protein_identity(seq1, seq2)\n",
        "    dna_id = dna_identity(seq1, seq2)\n",
        "\n",
        "    return ((100.-protein_id)+(100.-dna_id))/2\n",
        "\n",
        "# === Translation ===\n",
        "codons_o, aa_o = translate_dna(original_seq)\n",
        "codons_m, aa_m = translate_dna(mutated_seq)\n",
        "\n",
        "# === HTML display ===\n",
        "\n",
        "compare_sequences(original_seq,mutated_seq,space_every=3)\n",
        "compare_sequences(aa_o,aa_m,space_every=1, no_number=True, spacer=\"   \")\n",
        "\n",
        "#display(HTML(f\"<pre style='font-family:monospace'>{\"   \".join(aa_o)}</pre>\"))\n",
        "#compare_sequences(\"\".join(codons_o),\"\".join(codons_m),space_every=30)\n",
        "\n",
        "print(\"\\n\\nMutaded sequence without spaces:\")\n",
        "display(HTML(f\"<pre style='font-family:monospace'>{\"\".join(aa_m)}</pre>\"))\n",
        "\n",
        "dna_id = dna_identity(original_seq, mutated_seq)\n",
        "#print(f\"\\nDNA % identity: {dna_id:.1f}%\")\n",
        "protein_id = protein_identity(original_seq, mutated_seq)\n",
        "#print(f\"Protein % identity: {protein_id:.1f}%\")\n",
        "print(\"\\n\")\n",
        "mut_score = mutation_score(original_seq,mutated_seq)\n",
        "print(f\"Mutation score is {mut_score:.2f}\")\n"
      ],
      "metadata": {
        "id": "z3HeD2V8epVW",
        "colab": {
          "base_uri": "https://localhost:8080/",
          "height": 229
        },
        "outputId": "0f233d00-1ba6-42e6-ef2b-2b07733b1dba",
        "cellView": "form"
      },
      "execution_count": 4,
      "outputs": [
        {
          "output_type": "display_data",
          "data": {
            "text/plain": [
              "<IPython.core.display.HTML object>"
            ],
            "text/html": [
              "<pre style='font-family:monospace'>  3   6   9  12  15  18  21  24  27  30  33  36  39  42  45  48  51  54  57  60  63  66  69  72  75<br>TAC AAA TGC GGG TTG TGC GAG AGG AGC TTT GTG GAA AAG TCT GCC CTT TCC AGA CAC CAG AGG GTT CAC AAA AAT<br>TAC AAA TGC GGG TTG TGC GAG AGG AGC TTT GTG GAA AAG TCT GCC CTT TCC AGA CAC CAG AGG GTT CAC AAA AAT</pre>"
            ]
          },
          "metadata": {}
        },
        {
          "output_type": "display_data",
          "data": {
            "text/plain": [
              "<IPython.core.display.HTML object>"
            ],
            "text/html": [
              "<pre style='font-family:monospace'>Y   K   C   G   L   C   E   R   S   F   V   E   K   S   A   L   S   R   H   Q   R   V   H   K   N<br>Y   K   C   G   L   C   E   R   S   F   V   E   K   S   A   L   S   R   H   Q   R   V   H   K   N</pre>"
            ]
          },
          "metadata": {}
        },
        {
          "output_type": "stream",
          "name": "stdout",
          "text": [
            "\n",
            "\n",
            "Mutaded sequence without spaces:\n"
          ]
        },
        {
          "output_type": "display_data",
          "data": {
            "text/plain": [
              "<IPython.core.display.HTML object>"
            ],
            "text/html": [
              "<pre style='font-family:monospace'>YKCGLCERSFVEKSALSRHQRVHKN</pre>"
            ]
          },
          "metadata": {}
        },
        {
          "output_type": "stream",
          "name": "stdout",
          "text": [
            "\n",
            "\n",
            "Mutation score is 0.00\n"
          ]
        }
      ]
    },
    {
      "cell_type": "code",
      "source": [
        "#@title Calculate RMSD-based final score\n",
        "import os, re, requests\n",
        "import torch\n",
        "from jax.tree_util import tree_map\n",
        "from Bio.Seq import Seq\n",
        "from Bio.PDB import PDBParser, Superimposer, PDBIO\n",
        "import numpy as np\n",
        "import tempfile\n",
        "\n",
        "# --- Superpose prediction onto reference ---\n",
        "def align_pred_to_ref(pred_pdb_str, ref_pdb_file, out_file=\"pred_aligned.pdb\"):\n",
        "    parser = PDBParser(QUIET=True)\n",
        "\n",
        "    # Save predicted PDB string to temp file\n",
        "    with tempfile.NamedTemporaryFile(delete=False, suffix=\".pdb\") as tmp_pred:\n",
        "        tmp_pred.write(pred_pdb_str.encode())\n",
        "        pred_file = tmp_pred.name\n",
        "\n",
        "    pred = parser.get_structure(\"pred\", pred_file)\n",
        "    ref  = parser.get_structure(\"ref\", ref_pdb_file)\n",
        "\n",
        "    # Use CA atoms for alignment\n",
        "    pred_atoms = [a for a in pred.get_atoms() if a.get_id() == \"CA\"]\n",
        "    ref_atoms  = [a for a in ref.get_atoms()  if a.get_id() == \"CA\"]\n",
        "\n",
        "    n = min(len(pred_atoms), len(ref_atoms))\n",
        "    si = Superimposer()\n",
        "    si.set_atoms(ref_atoms[:n], pred_atoms[:n])  # align prediction to reference\n",
        "    si.apply(pred.get_atoms())                   # apply transform to prediction\n",
        "\n",
        "    # Write aligned prediction\n",
        "    io = PDBIO()\n",
        "    io.set_structure(pred)\n",
        "    io.save(out_file)\n",
        "\n",
        "    return out_file, si.rms\n",
        "\n",
        "def rmsd_to_similarity(rmsd, sigma=2.0):\n",
        "    \"\"\"\n",
        "    Convert RMSD (Å) to a similarity score in [0,1].\n",
        "    Smaller RMSD -> score close to 1, larger RMSD -> score close to 0.\n",
        "\n",
        "    Parameters\n",
        "    ----------\n",
        "    rmsd : float or np.array\n",
        "        Root-mean-square deviation in angstroms.\n",
        "    sigma : float\n",
        "        Scaling factor controlling decay. Typical RMSDs of 1-2 Å → high similarity.\n",
        "\n",
        "    Returns\n",
        "    -------\n",
        "    similarity : float or np.array\n",
        "        Score in [0,1].\n",
        "    \"\"\"\n",
        "    return np.exp(-rmsd / sigma)\n",
        "\n",
        "# --- Download reference PDB ---\n",
        "ref_file=\"reference.pdb\"\n",
        "if not os.path.isfile(ref_file):\n",
        "  !wget -q -O reference.pdb https://raw.githubusercontent.com/bforsbe/SK2534/main/reference_omega_znf.pdb\n",
        "\n",
        "aligned_file, rmsd_val = align_pred_to_ref(pdb_str, ref_file)\n",
        "\n",
        "#for rmsd in [0.5, 1.0, 2.0, 5.0]:\n",
        "#    print(rmsd, rmsd_to_similarity(rmsd))\n",
        "pred_sim_score = rmsd_to_similarity(rmsd_val)\n",
        "mut_score=mutation_score(original_seq,mutated_seq)\n",
        "\n",
        "# --- Compare ---\n",
        "print(f\"Input file is {o_pdb_file}\")\n",
        "#print(f\"Protein sequence: {protein_seq}\")\n",
        "print(f\"mutation score: \\t{mut_score:.2f})\")\n",
        "print(f\"RMSD vs reference: \\t{rmsd_val:.3f} Å (score: {pred_sim_score:.2f})\")\n",
        "print(\"\\n\\n\")\n",
        "print(f\"Total score: \\t{mut_score*pred_sim_score:.3f}\")\n"
      ],
      "metadata": {
        "cellView": "form",
        "id": "c51BDdsXe68l",
        "colab": {
          "base_uri": "https://localhost:8080/"
        },
        "outputId": "f5427818-e3d0-4033-cea8-2031f88f0034"
      },
      "execution_count": 5,
      "outputs": [
        {
          "output_type": "stream",
          "name": "stdout",
          "text": [
            "Input file is 1ZNF_5efbf.pdb\n",
            "mutation score: \t0.00)\n",
            "RMSD vs reference: \t0.651 Å (score: 0.72)\n",
            "\n",
            "\n",
            "\n",
            "Total score: \t0.000\n"
          ]
        }
      ]
    },
    {
      "cell_type": "code",
      "source": [
        "#@title Display predicted (superposed) + reference {run: \"auto\"}\n",
        "import py3Dmol\n",
        "from Bio.PDB import PDBParser, Superimposer, PDBIO\n",
        "import tempfile, os\n",
        "from google.colab import files\n",
        "\n",
        "# --- Visualize both ---\n",
        "def show_pred_and_ref_aligned(pred_pdb_str, ref_pdb_file,\n",
        "                              color=\"pLDDT\", show_sidechains=False, show_mainchains=False,\n",
        "                              chains=None, vmin=50, vmax=90, size=(800,480), Ls=None, hide_pred=False,\n",
        "                              download_aligned_pdbs=False): # Added boolean option\n",
        "\n",
        "    aligned_file, rmsd = align_pred_to_ref(pred_pdb_str, ref_pdb_file)\n",
        "\n",
        "    view = py3Dmol.view(js='https://3dmol.org/build/3Dmol.js',\n",
        "                        width=size[0], height=size[1])\n",
        "\n",
        "    # Reference (fixed, green)\n",
        "    with open(ref_pdb_file) as f:\n",
        "        ref_pdb_str = f.read()\n",
        "    view.addModel(ref_pdb_str,'pdb')\n",
        "    view.setStyle({'model':0},{'cartoon':{'color':'green','opacity':0.7}})\n",
        "\n",
        "    # Prediction (aligned, colored)\n",
        "    with open(aligned_file) as f:\n",
        "        pred_aligned_str = f.read()\n",
        "    if not hide_pred:\n",
        "        view.addModel(pred_aligned_str,'pdb')\n",
        "    if color == \"pLDDT\":\n",
        "        view.setStyle({'model':1,'cartoon': {'colorscheme': {'prop':'b','gradient': 'roygb','min':vmin,'max':vmax}}})\n",
        "    elif color == \"rainbow\":\n",
        "        view.setStyle({'model':1,'cartoon': {'color':'spectrum'}})\n",
        "    elif color == \"chain\":\n",
        "        from string import ascii_uppercase\n",
        "        alphabet_list = list(ascii_uppercase)\n",
        "        for n,chain,c in zip(range(chains),alphabet_list,pymol_color_list):\n",
        "            view.setStyle({'model':1,'chain':chain},{'cartoon': {'color':c}})\n",
        "\n",
        "    if show_sidechains:\n",
        "        view.addStyle({'model':1,'stick':{}})\n",
        "\n",
        "    view.zoomTo()\n",
        "    print(f\"Structural alignment RMSD: {rmsd:.3f} Å\")\n",
        "\n",
        "    # Download aligned PDB files if the option is True\n",
        "    if download_aligned_pdbs:\n",
        "        # Download the aligned predicted PDB\n",
        "        files.download(aligned_file)\n",
        "        print(f\"Downloaded aligned predicted PDB: {aligned_file}\")\n",
        "\n",
        "        # Optionally, download the reference PDB as well for completeness\n",
        "        # files.download(ref_pdb_file)\n",
        "        # print(f\"Downloaded reference PDB: {ref_pdb_file}\")\n",
        "\n",
        "\n",
        "    return view\n",
        "\n",
        "\n",
        "# --- Params ---\n",
        "color = \"confidence\" #@param [\"confidence\", \"rainbow\", \"chain\"]\n",
        "if color == \"confidence\": color = \"pLDDT\"\n",
        "show_sidechains = True #@param {type:\"boolean\"}\n",
        "show_mainchains = False #@param {type:\"boolean\"}\n",
        "hide_predicted = False #@param {type:\"boolean\"}\n",
        "download_aligned_pdbs = False #@param {type:\"boolean\"}\n",
        "\n",
        "# --- Run ---\n",
        "\n",
        "show_pred_and_ref_aligned(pdb_str, \"reference.pdb\",\n",
        "                          color=color,\n",
        "                          show_sidechains=show_sidechains,\n",
        "                          show_mainchains=show_mainchains,\n",
        "                          Ls=lengths,\n",
        "                          hide_pred=hide_predicted,\n",
        "                          download_aligned_pdbs=download_aligned_pdbs).show() # Pass the new parameter"
      ],
      "metadata": {
        "cellView": "form",
        "id": "ssk3BxdUgdyS",
        "colab": {
          "base_uri": "https://localhost:8080/",
          "height": 515
        },
        "outputId": "12968a15-b7a6-4a64-8727-ed1a523c864a"
      },
      "execution_count": 6,
      "outputs": [
        {
          "output_type": "stream",
          "name": "stdout",
          "text": [
            "Structural alignment RMSD: 0.651 Å\n"
          ]
        },
        {
          "output_type": "display_data",
          "data": {
            "application/3dmoljs_load.v0": "<div id=\"3dmolviewer_17587025821382267\"  style=\"position: relative; width: 800px; height: 480px;\">\n        <p id=\"3dmolwarning_17587025821382267\" style=\"background-color:#ffcccc;color:black\">3Dmol.js failed to load for some reason.  Please check your browser console for error messages.<br></p>\n        </div>\n<script>\n\nvar loadScriptAsync = function(uri){\n  return new Promise((resolve, reject) => {\n    //this is to ignore the existence of requirejs amd\n    var savedexports, savedmodule;\n    if (typeof exports !== 'undefined') savedexports = exports;\n    else exports = {}\n    if (typeof module !== 'undefined') savedmodule = module;\n    else module = {}\n\n    var tag = document.createElement('script');\n    tag.src = uri;\n    tag.async = true;\n    tag.onload = () => {\n        exports = savedexports;\n        module = savedmodule;\n        resolve();\n    };\n  var firstScriptTag = document.getElementsByTagName('script')[0];\n  firstScriptTag.parentNode.insertBefore(tag, firstScriptTag);\n});\n};\n\nif(typeof $3Dmolpromise === 'undefined') {\n$3Dmolpromise = null;\n  $3Dmolpromise = loadScriptAsync('https://3dmol.org/build/3Dmol.js');\n}\n\nvar viewer_17587025821382267 = null;\nvar warn = document.getElementById(\"3dmolwarning_17587025821382267\");\nif(warn) {\n    warn.parentNode.removeChild(warn);\n}\n$3Dmolpromise.then(function() {\nviewer_17587025821382267 = $3Dmol.createViewer(document.getElementById(\"3dmolviewer_17587025821382267\"),{backgroundColor:\"white\"});\nviewer_17587025821382267.zoomTo();\n\tviewer_17587025821382267.addModel(\"ATOM      1  N   TYR A   1      -2.819   2.638  -9.125  1.00 93.50           N  \\nATOM      2  CA  TYR A   1      -3.799   1.578  -8.915  1.00 93.50           C  \\nATOM      3  C   TYR A   1      -4.170   1.463  -7.441  1.00 93.50           C  \\nATOM      4  O   TYR A   1      -3.365   1.008  -6.625  1.00 93.50           O  \\nATOM      5  CB  TYR A   1      -3.260   0.238  -9.423  1.00 93.50           C  \\nATOM      6  CG  TYR A   1      -3.104   0.176 -10.923  1.00 93.50           C  \\nATOM      7  CD1 TYR A   1      -4.123  -0.327 -11.729  1.00 93.50           C  \\nATOM      8  CD2 TYR A   1      -1.937   0.619 -11.538  1.00 93.50           C  \\nATOM      9  CE1 TYR A   1      -3.983  -0.387 -13.112  1.00 93.50           C  \\nATOM     10  CE2 TYR A   1      -1.786   0.564 -12.919  1.00 93.50           C  \\nATOM     11  CZ  TYR A   1      -2.813   0.060 -13.697  1.00 93.50           C  \\nATOM     12  OH  TYR A   1      -2.669   0.002 -15.065  1.00 93.50           O  \\nATOM     13  N   LYS A   2      -5.312   2.060  -7.345  1.00 92.13           N  \\nATOM     14  CA  LYS A   2      -5.723   2.266  -5.959  1.00 92.13           C  \\nATOM     15  C   LYS A   2      -6.358   1.004  -5.381  1.00 92.13           C  \\nATOM     16  O   LYS A   2      -7.158   0.344  -6.047  1.00 92.13           O  \\nATOM     17  CB  LYS A   2      -6.701   3.438  -5.857  1.00 92.13           C  \\nATOM     18  CG  LYS A   2      -6.893   3.961  -4.441  1.00 92.13           C  \\nATOM     19  CD  LYS A   2      -7.847   5.149  -4.409  1.00 92.13           C  \\nATOM     20  CE  LYS A   2      -8.266   5.492  -2.986  1.00 92.13           C  \\nATOM     21  NZ  LYS A   2      -7.839   6.871  -2.600  1.00 92.13           N  \\nATOM     22  N   CYS A   3      -5.904   0.756  -4.159  1.00 92.93           N  \\nATOM     23  CA  CYS A   3      -6.489  -0.372  -3.443  1.00 92.93           C  \\nATOM     24  C   CYS A   3      -7.821   0.014  -2.812  1.00 92.93           C  \\nATOM     25  O   CYS A   3      -7.924   1.051  -2.155  1.00 92.93           O  \\nATOM     26  CB  CYS A   3      -5.531  -0.877  -2.365  1.00 92.93           C  \\nATOM     27  SG  CYS A   3      -6.149  -2.310  -1.455  1.00 92.93           S  \\nATOM     28  N   GLY A   4      -8.770  -0.750  -3.008  1.00 91.93           N  \\nATOM     29  CA  GLY A   4     -10.116  -0.543  -2.497  1.00 91.93           C  \\nATOM     30  C   GLY A   4     -10.268  -0.934  -1.039  1.00 91.93           C  \\nATOM     31  O   GLY A   4     -11.260  -0.583  -0.397  1.00 91.93           O  \\nATOM     32  N   LEU A   5      -9.305  -1.673  -0.661  1.00 91.39           N  \\nATOM     33  CA  LEU A   5      -9.388  -2.171   0.707  1.00 91.39           C  \\nATOM     34  C   LEU A   5      -8.579  -1.292   1.655  1.00 91.39           C  \\nATOM     35  O   LEU A   5      -8.885  -1.212   2.847  1.00 91.39           O  \\nATOM     36  CB  LEU A   5      -8.889  -3.617   0.783  1.00 91.39           C  \\nATOM     37  CG  LEU A   5      -9.694  -4.654  -0.002  1.00 91.39           C  \\nATOM     38  CD1 LEU A   5      -8.950  -5.984  -0.041  1.00 91.39           C  \\nATOM     39  CD2 LEU A   5     -11.081  -4.828   0.609  1.00 91.39           C  \\nATOM     40  N   CYS A   6      -7.572  -0.674   0.939  1.00 91.84           N  \\nATOM     41  CA  CYS A   6      -6.739   0.235   1.718  1.00 91.84           C  \\nATOM     42  C   CYS A   6      -6.459   1.517   0.942  1.00 91.84           C  \\nATOM     43  O   CYS A   6      -6.979   1.708  -0.159  1.00 91.84           O  \\nATOM     44  CB  CYS A   6      -5.421  -0.438   2.099  1.00 91.84           C  \\nATOM     45  SG  CYS A   6      -4.365  -0.825   0.685  1.00 91.84           S  \\nATOM     46  N   GLU A   7      -5.996   2.528   1.515  1.00 90.23           N  \\nATOM     47  CA  GLU A   7      -5.788   3.824   0.876  1.00 90.23           C  \\nATOM     48  C   GLU A   7      -4.407   3.907   0.234  1.00 90.23           C  \\nATOM     49  O   GLU A   7      -3.835   4.993   0.116  1.00 90.23           O  \\nATOM     50  CB  GLU A   7      -5.966   4.958   1.890  1.00 90.23           C  \\nATOM     51  CG  GLU A   7      -7.378   5.068   2.447  1.00 90.23           C  \\nATOM     52  CD  GLU A   7      -7.568   6.263   3.368  1.00 90.23           C  \\nATOM     53  OE1 GLU A   7      -8.626   6.928   3.289  1.00 90.23           O  \\nATOM     54  OE2 GLU A   7      -6.651   6.537   4.174  1.00 90.23           O  \\nATOM     55  N   ARG A   8      -3.899   2.695  -0.189  1.00 92.76           N  \\nATOM     56  CA  ARG A   8      -2.596   2.669  -0.847  1.00 92.76           C  \\nATOM     57  C   ARG A   8      -2.747   2.764  -2.362  1.00 92.76           C  \\nATOM     58  O   ARG A   8      -3.731   2.280  -2.925  1.00 92.76           O  \\nATOM     59  CB  ARG A   8      -1.830   1.398  -0.475  1.00 92.76           C  \\nATOM     60  CG  ARG A   8      -1.259   1.413   0.934  1.00 92.76           C  \\nATOM     61  CD  ARG A   8      -0.450   0.158   1.228  1.00 92.76           C  \\nATOM     62  NE  ARG A   8       0.014   0.127   2.612  1.00 92.76           N  \\nATOM     63  CZ  ARG A   8       1.285   0.246   2.988  1.00 92.76           C  \\nATOM     64  NH1 ARG A   8       2.247   0.406   2.087  1.00 92.76           N  \\nATOM     65  NH2 ARG A   8       1.596   0.204   4.275  1.00 92.76           N  \\nATOM     66  N   SER A   9      -1.975   3.481  -3.005  1.00 95.65           N  \\nATOM     67  CA  SER A   9      -1.979   3.601  -4.459  1.00 95.65           C  \\nATOM     68  C   SER A   9      -0.651   3.148  -5.056  1.00 95.65           C  \\nATOM     69  O   SER A   9       0.409   3.376  -4.469  1.00 95.65           O  \\nATOM     70  CB  SER A   9      -2.269   5.043  -4.877  1.00 95.65           C  \\nATOM     71  OG  SER A   9      -3.492   5.492  -4.320  1.00 95.65           O  \\nATOM     72  N   PHE A  10      -0.693   2.430  -6.102  1.00 95.85           N  \\nATOM     73  CA  PHE A  10       0.496   1.860  -6.724  1.00 95.85           C  \\nATOM     74  C   PHE A  10       0.643   2.348  -8.160  1.00 95.85           C  \\nATOM     75  O   PHE A  10      -0.347   2.696  -8.807  1.00 95.85           O  \\nATOM     76  CB  PHE A  10       0.439   0.329  -6.693  1.00 95.85           C  \\nATOM     77  CG  PHE A  10       0.325  -0.246  -5.307  1.00 95.85           C  \\nATOM     78  CD1 PHE A  10       1.463  -0.579  -4.582  1.00 95.85           C  \\nATOM     79  CD2 PHE A  10      -0.921  -0.455  -4.729  1.00 95.85           C  \\nATOM     80  CE1 PHE A  10       1.360  -1.111  -3.299  1.00 95.85           C  \\nATOM     81  CE2 PHE A  10      -1.031  -0.987  -3.447  1.00 95.85           C  \\nATOM     82  CZ  PHE A  10       0.111  -1.315  -2.734  1.00 95.85           C  \\nATOM     83  N   VAL A  11       1.785   2.439  -8.593  1.00 96.75           N  \\nATOM     84  CA  VAL A  11       2.069   2.951  -9.929  1.00 96.75           C  \\nATOM     85  C   VAL A  11       1.812   1.860 -10.966  1.00 96.75           C  \\nATOM     86  O   VAL A  11       1.285   2.134 -12.047  1.00 96.75           O  \\nATOM     87  CB  VAL A  11       3.522   3.464 -10.044  1.00 96.75           C  \\nATOM     88  CG1 VAL A  11       3.804   3.975 -11.456  1.00 96.75           C  \\nATOM     89  CG2 VAL A  11       3.783   4.560  -9.013  1.00 96.75           C  \\nATOM     90  N   GLU A  12       2.132   0.621 -10.529  1.00 96.38           N  \\nATOM     91  CA  GLU A  12       2.016  -0.492 -11.467  1.00 96.38           C  \\nATOM     92  C   GLU A  12       0.865  -1.418 -11.085  1.00 96.38           C  \\nATOM     93  O   GLU A  12       0.579  -1.605  -9.900  1.00 96.38           O  \\nATOM     94  CB  GLU A  12       3.327  -1.280 -11.531  1.00 96.38           C  \\nATOM     95  CG  GLU A  12       4.505  -0.472 -12.054  1.00 96.38           C  \\nATOM     96  CD  GLU A  12       5.791  -1.278 -12.147  1.00 96.38           C  \\nATOM     97  OE1 GLU A  12       6.151  -1.721 -13.261  1.00 96.38           O  \\nATOM     98  OE2 GLU A  12       6.444  -1.469 -11.097  1.00 96.38           O  \\nATOM     99  N   LYS A  13       0.222  -2.022 -12.078  1.00 94.86           N  \\nATOM    100  CA  LYS A  13      -0.896  -2.934 -11.853  1.00 94.86           C  \\nATOM    101  C   LYS A  13      -0.428  -4.223 -11.182  1.00 94.86           C  \\nATOM    102  O   LYS A  13      -1.110  -4.756 -10.305  1.00 94.86           O  \\nATOM    103  CB  LYS A  13      -1.601  -3.255 -13.171  1.00 94.86           C  \\nATOM    104  CG  LYS A  13      -2.873  -4.075 -13.009  1.00 94.86           C  \\nATOM    105  CD  LYS A  13      -3.599  -4.248 -14.337  1.00 94.86           C  \\nATOM    106  CE  LYS A  13      -4.967  -4.890 -14.147  1.00 94.86           C  \\nATOM    107  NZ  LYS A  13      -5.545  -5.356 -15.443  1.00 94.86           N  \\nATOM    108  N   SER A  14       0.780  -4.685 -11.571  1.00 95.96           N  \\nATOM    109  CA  SER A  14       1.276  -5.918 -10.970  1.00 95.96           C  \\nATOM    110  C   SER A  14       1.528  -5.743  -9.476  1.00 95.96           C  \\nATOM    111  O   SER A  14       1.294  -6.663  -8.690  1.00 95.96           O  \\nATOM    112  CB  SER A  14       2.562  -6.372 -11.662  1.00 95.96           C  \\nATOM    113  OG  SER A  14       3.531  -5.338 -11.651  1.00 95.96           O  \\nATOM    114  N   ALA A  15       2.036  -4.487  -9.173  1.00 95.73           N  \\nATOM    115  CA  ALA A  15       2.237  -4.201  -7.755  1.00 95.73           C  \\nATOM    116  C   ALA A  15       0.918  -4.269  -6.989  1.00 95.73           C  \\nATOM    117  O   ALA A  15       0.860  -4.821  -5.888  1.00 95.73           O  \\nATOM    118  CB  ALA A  15       2.883  -2.829  -7.575  1.00 95.73           C  \\nATOM    119  N   LEU A  16      -0.159  -3.817  -7.590  1.00 95.22           N  \\nATOM    120  CA  LEU A  16      -1.480  -3.863  -6.974  1.00 95.22           C  \\nATOM    121  C   LEU A  16      -1.956  -5.303  -6.814  1.00 95.22           C  \\nATOM    122  O   LEU A  16      -2.484  -5.673  -5.763  1.00 95.22           O  \\nATOM    123  CB  LEU A  16      -2.489  -3.070  -7.809  1.00 95.22           C  \\nATOM    124  CG  LEU A  16      -3.950  -3.151  -7.364  1.00 95.22           C  \\nATOM    125  CD1 LEU A  16      -4.122  -2.510  -5.991  1.00 95.22           C  \\nATOM    126  CD2 LEU A  16      -4.859  -2.482  -8.389  1.00 95.22           C  \\nATOM    127  N   SER A  17      -1.756  -6.174  -7.765  1.00 93.31           N  \\nATOM    128  CA  SER A  17      -2.174  -7.571  -7.707  1.00 93.31           C  \\nATOM    129  C   SER A  17      -1.476  -8.309  -6.569  1.00 93.31           C  \\nATOM    130  O   SER A  17      -2.108  -9.077  -5.841  1.00 93.31           O  \\nATOM    131  CB  SER A  17      -1.884  -8.273  -9.034  1.00 93.31           C  \\nATOM    132  OG  SER A  17      -2.674  -7.726 -10.076  1.00 93.31           O  \\nATOM    133  N   ARG A  18      -0.182  -8.026  -6.428  1.00 94.85           N  \\nATOM    134  CA  ARG A  18       0.593  -8.649  -5.360  1.00 94.85           C  \\nATOM    135  C   ARG A  18       0.140  -8.150  -3.992  1.00 94.85           C  \\nATOM    136  O   ARG A  18       0.047  -8.928  -3.040  1.00 94.85           O  \\nATOM    137  CB  ARG A  18       2.087  -8.377  -5.549  1.00 94.85           C  \\nATOM    138  CG  ARG A  18       2.982  -9.170  -4.610  1.00 94.85           C  \\nATOM    139  CD  ARG A  18       4.455  -8.988  -4.947  1.00 94.85           C  \\nATOM    140  NE  ARG A  18       4.879  -7.601  -4.779  1.00 94.85           N  \\nATOM    141  CZ  ARG A  18       6.054  -7.115  -5.171  1.00 94.85           C  \\nATOM    142  NH1 ARG A  18       6.948  -7.897  -5.763  1.00 94.85           N  \\nATOM    143  NH2 ARG A  18       6.337  -5.836  -4.968  1.00 94.85           N  \\nATOM    144  N   HIS A  19      -0.150  -6.982  -4.015  1.00 94.96           N  \\nATOM    145  CA  HIS A  19      -0.565  -6.378  -2.753  1.00 94.96           C  \\nATOM    146  C   HIS A  19      -1.919  -6.918  -2.303  1.00 94.96           C  \\nATOM    147  O   HIS A  19      -2.150  -7.106  -1.107  1.00 94.96           O  \\nATOM    148  CB  HIS A  19      -0.624  -4.855  -2.882  1.00 94.96           C  \\nATOM    149  CG  HIS A  19      -1.353  -4.186  -1.760  1.00 94.96           C  \\nATOM    150  ND1 HIS A  19      -0.800  -4.019  -0.509  1.00 94.96           N  \\nATOM    151  CD2 HIS A  19      -2.590  -3.640  -1.705  1.00 94.96           C  \\nATOM    152  CE1 HIS A  19      -1.670  -3.397   0.270  1.00 94.96           C  \\nATOM    153  NE2 HIS A  19      -2.764  -3.156  -0.432  1.00 94.96           N  \\nATOM    154  N   GLN A  20      -2.886  -7.194  -3.125  1.00 92.00           N  \\nATOM    155  CA  GLN A  20      -4.208  -7.695  -2.766  1.00 92.00           C  \\nATOM    156  C   GLN A  20      -4.109  -9.011  -2.001  1.00 92.00           C  \\nATOM    157  O   GLN A  20      -5.015  -9.366  -1.244  1.00 92.00           O  \\nATOM    158  CB  GLN A  20      -5.072  -7.877  -4.015  1.00 92.00           C  \\nATOM    159  CG  GLN A  20      -5.417  -6.572  -4.720  1.00 92.00           C  \\nATOM    160  CD  GLN A  20      -6.254  -5.644  -3.859  1.00 92.00           C  \\nATOM    161  OE1 GLN A  20      -7.174  -6.084  -3.162  1.00 92.00           O  \\nATOM    162  NE2 GLN A  20      -5.943  -4.353  -3.902  1.00 92.00           N  \\nATOM    163  N   ARG A  21      -2.880  -9.716  -2.156  1.00 92.80           N  \\nATOM    164  CA  ARG A  21      -2.683 -10.970  -1.436  1.00 92.80           C  \\nATOM    165  C   ARG A  21      -2.526 -10.724   0.060  1.00 92.80           C  \\nATOM    166  O   ARG A  21      -2.767 -11.621   0.871  1.00 92.80           O  \\nATOM    167  CB  ARG A  21      -1.459 -11.713  -1.976  1.00 92.80           C  \\nATOM    168  CG  ARG A  21      -1.614 -12.196  -3.410  1.00 92.80           C  \\nATOM    169  CD  ARG A  21      -0.391 -12.972  -3.879  1.00 92.80           C  \\nATOM    170  NE  ARG A  21       0.648 -12.084  -4.392  1.00 92.80           N  \\nATOM    171  CZ  ARG A  21       1.582 -12.438  -5.270  1.00 92.80           C  \\nATOM    172  NH1 ARG A  21       1.626 -13.675  -5.751  1.00 92.80           N  \\nATOM    173  NH2 ARG A  21       2.480 -11.549  -5.670  1.00 92.80           N  \\nATOM    174  N   VAL A  22      -2.218  -9.576   0.478  1.00 92.21           N  \\nATOM    175  CA  VAL A  22      -2.043  -9.230   1.885  1.00 92.21           C  \\nATOM    176  C   VAL A  22      -3.404  -9.166   2.574  1.00 92.21           C  \\nATOM    177  O   VAL A  22      -3.511  -9.422   3.775  1.00 92.21           O  \\nATOM    178  CB  VAL A  22      -1.298  -7.887   2.051  1.00 92.21           C  \\nATOM    179  CG1 VAL A  22      -1.326  -7.430   3.508  1.00 92.21           C  \\nATOM    180  CG2 VAL A  22       0.141  -8.010   1.553  1.00 92.21           C  \\nATOM    181  N   HIS A  23      -4.372  -8.956   1.716  1.00 91.83           N  \\nATOM    182  CA  HIS A  23      -5.712  -8.802   2.269  1.00 91.83           C  \\nATOM    183  C   HIS A  23      -6.491 -10.111   2.199  1.00 91.83           C  \\nATOM    184  O   HIS A  23      -7.601 -10.207   2.729  1.00 91.83           O  \\nATOM    185  CB  HIS A  23      -6.473  -7.698   1.532  1.00 91.83           C  \\nATOM    186  CG  HIS A  23      -5.864  -6.341   1.691  1.00 91.83           C  \\nATOM    187  ND1 HIS A  23      -5.829  -5.678   2.899  1.00 91.83           N  \\nATOM    188  CD2 HIS A  23      -5.264  -5.525   0.793  1.00 91.83           C  \\nATOM    189  CE1 HIS A  23      -5.233  -4.509   2.735  1.00 91.83           C  \\nATOM    190  NE2 HIS A  23      -4.880  -4.392   1.466  1.00 91.83           N  \\nATOM    191  N   LYS A  24      -5.948 -10.942   1.299  1.00 85.54           N  \\nATOM    192  CA  LYS A  24      -6.581 -12.258   1.321  1.00 85.54           C  \\nATOM    193  C   LYS A  24      -6.289 -12.986   2.630  1.00 85.54           C  \\nATOM    194  O   LYS A  24      -6.890 -14.024   2.916  1.00 85.54           O  \\nATOM    195  CB  LYS A  24      -6.110 -13.101   0.135  1.00 85.54           C  \\nATOM    196  CG  LYS A  24      -6.748 -12.715  -1.191  1.00 85.54           C  \\nATOM    197  CD  LYS A  24      -6.352 -13.678  -2.303  1.00 85.54           C  \\nATOM    198  CE  LYS A  24      -7.023 -13.317  -3.622  1.00 85.54           C  \\nATOM    199  NZ  LYS A  24      -6.666 -14.279  -4.706  1.00 85.54           N  \\nATOM    200  N   ASN A  25      -5.224 -12.403   3.340  1.00 69.20           N  \\nATOM    201  CA  ASN A  25      -5.193 -13.020   4.662  1.00 69.20           C  \\nATOM    202  C   ASN A  25      -6.481 -12.753   5.436  1.00 69.20           C  \\nATOM    203  O   ASN A  25      -6.974 -13.629   6.149  1.00 69.20           O  \\nATOM    204  CB  ASN A  25      -3.983 -12.524   5.457  1.00 69.20           C  \\nATOM    205  CG  ASN A  25      -3.705 -13.370   6.684  1.00 69.20           C  \\nATOM    206  OD1 ASN A  25      -4.055 -14.552   6.731  1.00 69.20           O  \\nATOM    207  ND2 ASN A  25      -3.072 -12.771   7.686  1.00 69.20           N  \",\"pdb\");\n\tviewer_17587025821382267.setStyle({\"model\": 0},{\"cartoon\": {\"color\": \"green\", \"opacity\": 0.7}});\n\tviewer_17587025821382267.addModel(\"ATOM      1  N   LEU A   1      -3.728   2.928  -9.664  1.00 81.60           N  \\nATOM      2  CA  LEU A   1      -4.454   1.739  -9.232  1.00 81.60           C  \\nATOM      3  C   LEU A   1      -4.500   1.652  -7.711  1.00 81.60           C  \\nATOM      4  O   LEU A   1      -3.474   1.809  -7.044  1.00 81.60           O  \\nATOM      5  CB  LEU A   1      -3.804   0.477  -9.807  1.00 81.60           C  \\nATOM      6  CG  LEU A   1      -3.664   0.419 -11.329  1.00 81.60           C  \\nATOM      7  CD1 LEU A   1      -2.611  -0.610 -11.726  1.00 81.60           C  \\nATOM      8  CD2 LEU A   1      -5.007   0.095 -11.977  1.00 81.60           C  \\nATOM      9  N   ALA A   2      -5.629   1.970  -7.192  1.00 77.62           N  \\nATOM     10  CA  ALA A   2      -5.721   1.995  -5.735  1.00 77.62           C  \\nATOM     11  C   ALA A   2      -6.366   0.718  -5.204  1.00 77.62           C  \\nATOM     12  O   ALA A   2      -7.179   0.095  -5.890  1.00 77.62           O  \\nATOM     13  CB  ALA A   2      -6.511   3.217  -5.273  1.00 77.62           C  \\nATOM     14  N   CYS A   3      -5.881   0.201  -4.103  1.00 73.93           N  \\nATOM     15  CA  CYS A   3      -6.472  -0.945  -3.420  1.00 73.93           C  \\nATOM     16  C   CYS A   3      -7.722  -0.535  -2.651  1.00 73.93           C  \\nATOM     17  O   CYS A   3      -7.702   0.442  -1.900  1.00 73.93           O  \\nATOM     18  CB  CYS A   3      -5.461  -1.582  -2.467  1.00 73.93           C  \\nATOM     19  SG  CYS A   3      -6.002  -3.164  -1.783  1.00 73.93           S  \\nATOM     20  N   PRO A   4      -8.773  -1.036  -3.025  1.00 72.04           N  \\nATOM     21  CA  PRO A   4     -10.020  -0.632  -2.373  1.00 72.04           C  \\nATOM     22  C   PRO A   4      -9.967  -0.781  -0.854  1.00 72.04           C  \\nATOM     23  O   PRO A   4     -10.637  -0.038  -0.133  1.00 72.04           O  \\nATOM     24  CB  PRO A   4     -11.059  -1.579  -2.979  1.00 72.04           C  \\nATOM     25  CG  PRO A   4     -10.311  -2.350  -4.019  1.00 72.04           C  \\nATOM     26  CD  PRO A   4      -8.859  -1.978  -3.937  1.00 72.04           C  \\nATOM     27  N   LYS A   5      -9.232  -1.828  -0.451  1.00 72.42           N  \\nATOM     28  CA  LYS A   5      -9.253  -1.987   1.001  1.00 72.42           C  \\nATOM     29  C   LYS A   5      -8.138  -1.178   1.658  1.00 72.42           C  \\nATOM     30  O   LYS A   5      -8.127  -1.003   2.878  1.00 72.42           O  \\nATOM     31  CB  LYS A   5      -9.124  -3.463   1.381  1.00 72.42           C  \\nATOM     32  CG  LYS A   5     -10.362  -4.291   1.075  1.00 72.42           C  \\nATOM     33  CD  LYS A   5     -10.273  -5.681   1.693  1.00 72.42           C  \\nATOM     34  CE  LYS A   5     -11.513  -6.510   1.390  1.00 72.42           C  \\nATOM     35  NZ  LYS A   5     -11.401  -7.896   1.934  1.00 72.42           N  \\nATOM     36  N   MET A   6      -7.181  -0.746   0.859  1.00 67.96           N  \\nATOM     37  CA  MET A   6      -6.085   0.055   1.397  1.00 67.96           C  \\nATOM     38  C   MET A   6      -5.907   1.339   0.594  1.00 67.96           C  \\nATOM     39  O   MET A   6      -6.322   1.416  -0.563  1.00 67.96           O  \\nATOM     40  CB  MET A   6      -4.782  -0.746   1.398  1.00 67.96           C  \\nATOM     41  CG  MET A   6      -4.697  -1.776   2.513  1.00 67.96           C  \\nATOM     42  SD  MET A   6      -2.966  -2.221   2.928  1.00 67.96           S  \\nATOM     43  CE  MET A   6      -3.220  -3.036   4.529  1.00 67.96           C  \\nATOM     44  N   CYS A   7      -5.804   2.428   1.216  1.00 70.51           N  \\nATOM     45  CA  CYS A   7      -5.693   3.728   0.563  1.00 70.51           C  \\nATOM     46  C   CYS A   7      -4.278   3.959   0.045  1.00 70.51           C  \\nATOM     47  O   CYS A   7      -3.774   5.083   0.089  1.00 70.51           O  \\nATOM     48  CB  CYS A   7      -6.084   4.848   1.526  1.00 70.51           C  \\nATOM     49  SG  CYS A   7      -7.865   5.116   1.647  1.00 70.51           S  \\nATOM     50  N   HIS A   8      -3.745   2.935  -0.573  1.00 75.77           N  \\nATOM     51  CA  HIS A   8      -2.411   3.132  -1.130  1.00 75.77           C  \\nATOM     52  C   HIS A   8      -2.447   3.144  -2.654  1.00 75.77           C  \\nATOM     53  O   HIS A   8      -3.220   2.403  -3.267  1.00 75.77           O  \\nATOM     54  CB  HIS A   8      -1.458   2.043  -0.635  1.00 75.77           C  \\nATOM     55  CG  HIS A   8      -0.705   2.421   0.600  1.00 75.77           C  \\nATOM     56  ND1 HIS A   8      -0.737   1.663   1.751  1.00 75.77           N  \\nATOM     57  CD2 HIS A   8       0.102   3.475   0.862  1.00 75.77           C  \\nATOM     58  CE1 HIS A   8       0.020   2.238   2.671  1.00 75.77           C  \\nATOM     59  NE2 HIS A   8       0.541   3.340   2.157  1.00 75.77           N  \\nATOM     60  N   THR A   9      -1.852   4.071  -3.253  1.00 82.01           N  \\nATOM     61  CA  THR A   9      -1.741   4.143  -4.706  1.00 82.01           C  \\nATOM     62  C   THR A   9      -0.511   3.381  -5.193  1.00 82.01           C  \\nATOM     63  O   THR A   9       0.557   3.459  -4.580  1.00 82.01           O  \\nATOM     64  CB  THR A   9      -1.667   5.603  -5.190  1.00 82.01           C  \\nATOM     65  OG1 THR A   9      -2.428   6.432  -4.303  1.00 82.01           O  \\nATOM     66  CG2 THR A   9      -2.226   5.742  -6.603  1.00 82.01           C  \\nATOM     67  N   PHE A  10      -0.807   2.581  -6.151  1.00 84.31           N  \\nATOM     68  CA  PHE A  10       0.292   1.793  -6.695  1.00 84.31           C  \\nATOM     69  C   PHE A  10       0.582   2.192  -8.137  1.00 84.31           C  \\nATOM     70  O   PHE A  10      -0.295   2.709  -8.832  1.00 84.31           O  \\nATOM     71  CB  PHE A  10      -0.028   0.296  -6.620  1.00 84.31           C  \\nATOM     72  CG  PHE A  10      -0.255  -0.205  -5.219  1.00 84.31           C  \\nATOM     73  CD1 PHE A  10       0.816  -0.586  -4.420  1.00 84.31           C  \\nATOM     74  CD2 PHE A  10      -1.541  -0.297  -4.702  1.00 84.31           C  \\nATOM     75  CE1 PHE A  10       0.608  -1.051  -3.123  1.00 84.31           C  \\nATOM     76  CE2 PHE A  10      -1.757  -0.760  -3.408  1.00 84.31           C  \\nATOM     77  CZ  PHE A  10      -0.680  -1.138  -2.620  1.00 84.31           C  \\nATOM     78  N   GLU A  11       1.789   1.973  -8.506  1.00 87.33           N  \\nATOM     79  CA  GLU A  11       2.240   2.464  -9.806  1.00 87.33           C  \\nATOM     80  C   GLU A  11       1.940   1.454 -10.910  1.00 87.33           C  \\nATOM     81  O   GLU A  11       1.721   1.835 -12.062  1.00 87.33           O  \\nATOM     82  CB  GLU A  11       3.738   2.778  -9.772  1.00 87.33           C  \\nATOM     83  CG  GLU A  11       4.093   3.988  -8.921  1.00 87.33           C  \\nATOM     84  CD  GLU A  11       5.582   4.301  -8.915  1.00 87.33           C  \\nATOM     85  OE1 GLU A  11       5.983   5.326  -8.319  1.00 87.33           O  \\nATOM     86  OE2 GLU A  11       6.350   3.516  -9.512  1.00 87.33           O  \\nATOM     87  N   THR A  12       1.933   0.249 -10.570  1.00 92.13           N  \\nATOM     88  CA  THR A  12       1.698  -0.787 -11.568  1.00 92.13           C  \\nATOM     89  C   THR A  12       0.632  -1.768 -11.088  1.00 92.13           C  \\nATOM     90  O   THR A  12       0.365  -1.866  -9.888  1.00 92.13           O  \\nATOM     91  CB  THR A  12       2.993  -1.554 -11.895  1.00 92.13           C  \\nATOM     92  OG1 THR A  12       3.432  -2.258 -10.727  1.00 92.13           O  \\nATOM     93  CG2 THR A  12       4.096  -0.601 -12.345  1.00 92.13           C  \\nATOM     94  N   GLN A  13       0.042  -2.587 -11.991  1.00 89.50           N  \\nATOM     95  CA  GLN A  13      -0.932  -3.624 -11.672  1.00 89.50           C  \\nATOM     96  C   GLN A  13      -0.303  -4.727 -10.825  1.00 89.50           C  \\nATOM     97  O   GLN A  13      -0.973  -5.329  -9.983  1.00 89.50           O  \\nATOM     98  CB  GLN A  13      -1.524  -4.218 -12.951  1.00 89.50           C  \\nATOM     99  CG  GLN A  13      -2.694  -5.161 -12.708  1.00 89.50           C  \\nATOM    100  CD  GLN A  13      -3.955  -4.433 -12.277  1.00 89.50           C  \\nATOM    101  OE1 GLN A  13      -4.246  -3.333 -12.757  1.00 89.50           O  \\nATOM    102  NE2 GLN A  13      -4.710  -5.042 -11.369  1.00 89.50           N  \\nATOM    103  N   ALA A  14       0.948  -4.960 -11.132  1.00 90.56           N  \\nATOM    104  CA  ALA A  14       1.657  -5.998 -10.389  1.00 90.56           C  \\nATOM    105  C   ALA A  14       1.726  -5.658  -8.903  1.00 90.56           C  \\nATOM    106  O   ALA A  14       1.500  -6.520  -8.051  1.00 90.56           O  \\nATOM    107  CB  ALA A  14       3.062  -6.192 -10.953  1.00 90.56           C  \\nATOM    108  N   GLU A  15       2.048  -4.338  -8.686  1.00 88.00           N  \\nATOM    109  CA  GLU A  15       2.100  -3.919  -7.287  1.00 88.00           C  \\nATOM    110  C   GLU A  15       0.724  -4.008  -6.634  1.00 88.00           C  \\nATOM    111  O   GLU A  15       0.603  -4.447  -5.488  1.00 88.00           O  \\nATOM    112  CB  GLU A  15       2.645  -2.494  -7.172  1.00 88.00           C  \\nATOM    113  CG  GLU A  15       4.132  -2.378  -7.477  1.00 88.00           C  \\nATOM    114  CD  GLU A  15       4.627  -0.941  -7.511  1.00 88.00           C  \\nATOM    115  OE1 GLU A  15       5.859  -0.722  -7.454  1.00 88.00           O  \\nATOM    116  OE2 GLU A  15       3.778  -0.027  -7.594  1.00 88.00           O  \\nATOM    117  N   LEU A  16      -0.323  -3.655  -7.438  1.00 85.50           N  \\nATOM    118  CA  LEU A  16      -1.687  -3.731  -6.928  1.00 85.50           C  \\nATOM    119  C   LEU A  16      -2.062  -5.169  -6.589  1.00 85.50           C  \\nATOM    120  O   LEU A  16      -2.626  -5.435  -5.524  1.00 85.50           O  \\nATOM    121  CB  LEU A  16      -2.674  -3.163  -7.951  1.00 85.50           C  \\nATOM    122  CG  LEU A  16      -4.155  -3.231  -7.576  1.00 85.50           C  \\nATOM    123  CD1 LEU A  16      -4.418  -2.427  -6.308  1.00 85.50           C  \\nATOM    124  CD2 LEU A  16      -5.022  -2.729  -8.724  1.00 85.50           C  \\nATOM    125  N   ASN A  17      -1.645  -6.050  -7.439  1.00 84.53           N  \\nATOM    126  CA  ASN A  17      -1.949  -7.461  -7.228  1.00 84.53           C  \\nATOM    127  C   ASN A  17      -1.281  -7.997  -5.965  1.00 84.53           C  \\nATOM    128  O   ASN A  17      -1.891  -8.755  -5.209  1.00 84.53           O  \\nATOM    129  CB  ASN A  17      -1.529  -8.290  -8.444  1.00 84.53           C  \\nATOM    130  CG  ASN A  17      -2.441  -8.080  -9.637  1.00 84.53           C  \\nATOM    131  OD1 ASN A  17      -3.577  -7.624  -9.492  1.00 84.53           O  \\nATOM    132  ND2 ASN A  17      -1.947  -8.412 -10.824  1.00 84.53           N  \\nATOM    133  N   HIS A  18      -0.029  -7.581  -5.790  1.00 83.91           N  \\nATOM    134  CA  HIS A  18       0.714  -7.997  -4.606  1.00 83.91           C  \\nATOM    135  C   HIS A  18       0.040  -7.507  -3.330  1.00 83.91           C  \\nATOM    136  O   HIS A  18      -0.066  -8.252  -2.353  1.00 83.91           O  \\nATOM    137  CB  HIS A  18       2.154  -7.484  -4.670  1.00 83.91           C  \\nATOM    138  CG  HIS A  18       3.016  -7.975  -3.551  1.00 83.91           C  \\nATOM    139  ND1 HIS A  18       3.517  -9.259  -3.508  1.00 83.91           N  \\nATOM    140  CD2 HIS A  18       3.469  -7.353  -2.438  1.00 83.91           C  \\nATOM    141  CE1 HIS A  18       4.241  -9.405  -2.410  1.00 83.91           C  \\nATOM    142  NE2 HIS A  18       4.229  -8.263  -1.744  1.00 83.91           N  \\nATOM    143  N   CYS A  19      -0.457  -6.374  -3.397  1.00 82.61           N  \\nATOM    144  CA  CYS A  19      -1.119  -5.797  -2.232  1.00 82.61           C  \\nATOM    145  C   CYS A  19      -2.433  -6.512  -1.943  1.00 82.61           C  \\nATOM    146  O   CYS A  19      -2.752  -6.789  -0.785  1.00 82.61           O  \\nATOM    147  CB  CYS A  19      -1.377  -4.305  -2.447  1.00 82.61           C  \\nATOM    148  SG  CYS A  19      -2.184  -3.497  -1.047  1.00 82.61           S  \\nATOM    149  N   MET A  20      -3.182  -6.798  -2.984  1.00 80.22           N  \\nATOM    150  CA  MET A  20      -4.483  -7.434  -2.796  1.00 80.22           C  \\nATOM    151  C   MET A  20      -4.325  -8.840  -2.226  1.00 80.22           C  \\nATOM    152  O   MET A  20      -5.225  -9.348  -1.556  1.00 80.22           O  \\nATOM    153  CB  MET A  20      -5.253  -7.489  -4.116  1.00 80.22           C  \\nATOM    154  CG  MET A  20      -5.684  -6.126  -4.632  1.00 80.22           C  \\nATOM    155  SD  MET A  20      -7.409  -5.710  -4.165  1.00 80.22           S  \\nATOM    156  CE  MET A  20      -8.310  -6.951  -5.135  1.00 80.22           C  \\nATOM    157  N   ARG A  21      -3.214  -9.500  -2.481  1.00 82.22           N  \\nATOM    158  CA  ARG A  21      -2.999 -10.866  -2.013  1.00 82.22           C  \\nATOM    159  C   ARG A  21      -2.832 -10.907  -0.498  1.00 82.22           C  \\nATOM    160  O   ARG A  21      -3.271 -11.856   0.155  1.00 82.22           O  \\nATOM    161  CB  ARG A  21      -1.773 -11.480  -2.692  1.00 82.22           C  \\nATOM    162  CG  ARG A  21      -2.022 -11.931  -4.123  1.00 82.22           C  \\nATOM    163  CD  ARG A  21      -0.880 -12.786  -4.652  1.00 82.22           C  \\nATOM    164  NE  ARG A  21      -0.129 -12.096  -5.697  1.00 82.22           N  \\nATOM    165  CZ  ARG A  21       0.847 -12.644  -6.417  1.00 82.22           C  \\nATOM    166  NH1 ARG A  21       1.210 -13.905  -6.217  1.00 82.22           N  \\nATOM    167  NH2 ARG A  21       1.464 -11.924  -7.342  1.00 82.22           N  \\nATOM    168  N   ARG A  22      -2.288  -9.830   0.050  1.00 73.82           N  \\nATOM    169  CA  ARG A  22      -2.047  -9.814   1.488  1.00 73.82           C  \\nATOM    170  C   ARG A  22      -3.347  -9.610   2.259  1.00 73.82           C  \\nATOM    171  O   ARG A  22      -3.529 -10.173   3.341  1.00 73.82           O  \\nATOM    172  CB  ARG A  22      -1.044  -8.717   1.853  1.00 73.82           C  \\nATOM    173  CG  ARG A  22       0.384  -9.021   1.428  1.00 73.82           C  \\nATOM    174  CD  ARG A  22       1.365  -7.989   1.968  1.00 73.82           C  \\nATOM    175  NE  ARG A  22       2.595  -8.615   2.445  1.00 73.82           N  \\nATOM    176  CZ  ARG A  22       3.766  -7.994   2.557  1.00 73.82           C  \\nATOM    177  NH1 ARG A  22       3.890  -6.713   2.225  1.00 73.82           N  \\nATOM    178  NH2 ARG A  22       4.823  -8.658   3.003  1.00 73.82           N  \\nATOM    179  N   VAL A  23      -4.266  -8.849   1.554  1.00 67.86           N  \\nATOM    180  CA  VAL A  23      -5.515  -8.523   2.233  1.00 67.86           C  \\nATOM    181  C   VAL A  23      -6.426  -9.749   2.256  1.00 67.86           C  \\nATOM    182  O   VAL A  23      -7.157  -9.970   3.225  1.00 67.86           O  \\nATOM    183  CB  VAL A  23      -6.236  -7.336   1.557  1.00 67.86           C  \\nATOM    184  CG1 VAL A  23      -7.564  -7.042   2.253  1.00 67.86           C  \\nATOM    185  CG2 VAL A  23      -5.342  -6.098   1.560  1.00 67.86           C  \\nATOM    186  N   ASP A  24      -6.160 -10.658   1.272  1.00 64.77           N  \\nATOM    187  CA  ASP A  24      -7.003 -11.850   1.281  1.00 64.77           C  \\nATOM    188  C   ASP A  24      -6.412 -12.933   2.181  1.00 64.77           C  \\nATOM    189  O   ASP A  24      -7.148 -13.732   2.764  1.00 64.77           O  \\nATOM    190  CB  ASP A  24      -7.187 -12.388  -0.138  1.00 64.77           C  \\nATOM    191  CG  ASP A  24      -8.620 -12.792  -0.439  1.00 64.77           C  \\nATOM    192  OD1 ASP A  24      -9.467 -12.758   0.478  1.00 64.77           O  \\nATOM    193  OD2 ASP A  24      -8.901 -13.152  -1.603  1.00 64.77           O  \\nATOM    194  N   ASN A  25      -5.130 -12.777   2.559  1.00 51.66           N  \\nATOM    195  CA  ASN A  25      -4.581 -13.768   3.478  1.00 51.66           C  \\nATOM    196  C   ASN A  25      -4.749 -13.337   4.932  1.00 51.66           C  \\nATOM    197  O   ASN A  25      -4.965 -14.174   5.811  1.00 51.66           O  \\nATOM    198  CB  ASN A  25      -3.105 -14.027   3.168  1.00 51.66           C  \\nATOM    199  CG  ASN A  25      -2.907 -14.824   1.893  1.00 51.66           C  \\nATOM    200  OD1 ASN A  25      -3.804 -15.548   1.454  1.00 51.66           O  \\nATOM    201  ND2 ASN A  25      -1.731 -14.696   1.290  1.00 51.66           N  \\nTER     202      ASN A  25                                                       \\nEND   \\n\",\"pdb\");\n\tviewer_17587025821382267.setStyle({\"model\": 1, \"cartoon\": {\"colorscheme\": {\"prop\": \"b\", \"gradient\": \"roygb\", \"min\": 50, \"max\": 90}}});\n\tviewer_17587025821382267.addStyle({\"model\": 1, \"stick\": {}});\n\tviewer_17587025821382267.zoomTo();\nviewer_17587025821382267.render();\n});\n</script>",
            "text/html": [
              "<div id=\"3dmolviewer_17587025821382267\"  style=\"position: relative; width: 800px; height: 480px;\">\n",
              "        <p id=\"3dmolwarning_17587025821382267\" style=\"background-color:#ffcccc;color:black\">3Dmol.js failed to load for some reason.  Please check your browser console for error messages.<br></p>\n",
              "        </div>\n",
              "<script>\n",
              "\n",
              "var loadScriptAsync = function(uri){\n",
              "  return new Promise((resolve, reject) => {\n",
              "    //this is to ignore the existence of requirejs amd\n",
              "    var savedexports, savedmodule;\n",
              "    if (typeof exports !== 'undefined') savedexports = exports;\n",
              "    else exports = {}\n",
              "    if (typeof module !== 'undefined') savedmodule = module;\n",
              "    else module = {}\n",
              "\n",
              "    var tag = document.createElement('script');\n",
              "    tag.src = uri;\n",
              "    tag.async = true;\n",
              "    tag.onload = () => {\n",
              "        exports = savedexports;\n",
              "        module = savedmodule;\n",
              "        resolve();\n",
              "    };\n",
              "  var firstScriptTag = document.getElementsByTagName('script')[0];\n",
              "  firstScriptTag.parentNode.insertBefore(tag, firstScriptTag);\n",
              "});\n",
              "};\n",
              "\n",
              "if(typeof $3Dmolpromise === 'undefined') {\n",
              "$3Dmolpromise = null;\n",
              "  $3Dmolpromise = loadScriptAsync('https://3dmol.org/build/3Dmol.js');\n",
              "}\n",
              "\n",
              "var viewer_17587025821382267 = null;\n",
              "var warn = document.getElementById(\"3dmolwarning_17587025821382267\");\n",
              "if(warn) {\n",
              "    warn.parentNode.removeChild(warn);\n",
              "}\n",
              "$3Dmolpromise.then(function() {\n",
              "viewer_17587025821382267 = $3Dmol.createViewer(document.getElementById(\"3dmolviewer_17587025821382267\"),{backgroundColor:\"white\"});\n",
              "viewer_17587025821382267.zoomTo();\n",
              "\tviewer_17587025821382267.addModel(\"ATOM      1  N   TYR A   1      -2.819   2.638  -9.125  1.00 93.50           N  \\nATOM      2  CA  TYR A   1      -3.799   1.578  -8.915  1.00 93.50           C  \\nATOM      3  C   TYR A   1      -4.170   1.463  -7.441  1.00 93.50           C  \\nATOM      4  O   TYR A   1      -3.365   1.008  -6.625  1.00 93.50           O  \\nATOM      5  CB  TYR A   1      -3.260   0.238  -9.423  1.00 93.50           C  \\nATOM      6  CG  TYR A   1      -3.104   0.176 -10.923  1.00 93.50           C  \\nATOM      7  CD1 TYR A   1      -4.123  -0.327 -11.729  1.00 93.50           C  \\nATOM      8  CD2 TYR A   1      -1.937   0.619 -11.538  1.00 93.50           C  \\nATOM      9  CE1 TYR A   1      -3.983  -0.387 -13.112  1.00 93.50           C  \\nATOM     10  CE2 TYR A   1      -1.786   0.564 -12.919  1.00 93.50           C  \\nATOM     11  CZ  TYR A   1      -2.813   0.060 -13.697  1.00 93.50           C  \\nATOM     12  OH  TYR A   1      -2.669   0.002 -15.065  1.00 93.50           O  \\nATOM     13  N   LYS A   2      -5.312   2.060  -7.345  1.00 92.13           N  \\nATOM     14  CA  LYS A   2      -5.723   2.266  -5.959  1.00 92.13           C  \\nATOM     15  C   LYS A   2      -6.358   1.004  -5.381  1.00 92.13           C  \\nATOM     16  O   LYS A   2      -7.158   0.344  -6.047  1.00 92.13           O  \\nATOM     17  CB  LYS A   2      -6.701   3.438  -5.857  1.00 92.13           C  \\nATOM     18  CG  LYS A   2      -6.893   3.961  -4.441  1.00 92.13           C  \\nATOM     19  CD  LYS A   2      -7.847   5.149  -4.409  1.00 92.13           C  \\nATOM     20  CE  LYS A   2      -8.266   5.492  -2.986  1.00 92.13           C  \\nATOM     21  NZ  LYS A   2      -7.839   6.871  -2.600  1.00 92.13           N  \\nATOM     22  N   CYS A   3      -5.904   0.756  -4.159  1.00 92.93           N  \\nATOM     23  CA  CYS A   3      -6.489  -0.372  -3.443  1.00 92.93           C  \\nATOM     24  C   CYS A   3      -7.821   0.014  -2.812  1.00 92.93           C  \\nATOM     25  O   CYS A   3      -7.924   1.051  -2.155  1.00 92.93           O  \\nATOM     26  CB  CYS A   3      -5.531  -0.877  -2.365  1.00 92.93           C  \\nATOM     27  SG  CYS A   3      -6.149  -2.310  -1.455  1.00 92.93           S  \\nATOM     28  N   GLY A   4      -8.770  -0.750  -3.008  1.00 91.93           N  \\nATOM     29  CA  GLY A   4     -10.116  -0.543  -2.497  1.00 91.93           C  \\nATOM     30  C   GLY A   4     -10.268  -0.934  -1.039  1.00 91.93           C  \\nATOM     31  O   GLY A   4     -11.260  -0.583  -0.397  1.00 91.93           O  \\nATOM     32  N   LEU A   5      -9.305  -1.673  -0.661  1.00 91.39           N  \\nATOM     33  CA  LEU A   5      -9.388  -2.171   0.707  1.00 91.39           C  \\nATOM     34  C   LEU A   5      -8.579  -1.292   1.655  1.00 91.39           C  \\nATOM     35  O   LEU A   5      -8.885  -1.212   2.847  1.00 91.39           O  \\nATOM     36  CB  LEU A   5      -8.889  -3.617   0.783  1.00 91.39           C  \\nATOM     37  CG  LEU A   5      -9.694  -4.654  -0.002  1.00 91.39           C  \\nATOM     38  CD1 LEU A   5      -8.950  -5.984  -0.041  1.00 91.39           C  \\nATOM     39  CD2 LEU A   5     -11.081  -4.828   0.609  1.00 91.39           C  \\nATOM     40  N   CYS A   6      -7.572  -0.674   0.939  1.00 91.84           N  \\nATOM     41  CA  CYS A   6      -6.739   0.235   1.718  1.00 91.84           C  \\nATOM     42  C   CYS A   6      -6.459   1.517   0.942  1.00 91.84           C  \\nATOM     43  O   CYS A   6      -6.979   1.708  -0.159  1.00 91.84           O  \\nATOM     44  CB  CYS A   6      -5.421  -0.438   2.099  1.00 91.84           C  \\nATOM     45  SG  CYS A   6      -4.365  -0.825   0.685  1.00 91.84           S  \\nATOM     46  N   GLU A   7      -5.996   2.528   1.515  1.00 90.23           N  \\nATOM     47  CA  GLU A   7      -5.788   3.824   0.876  1.00 90.23           C  \\nATOM     48  C   GLU A   7      -4.407   3.907   0.234  1.00 90.23           C  \\nATOM     49  O   GLU A   7      -3.835   4.993   0.116  1.00 90.23           O  \\nATOM     50  CB  GLU A   7      -5.966   4.958   1.890  1.00 90.23           C  \\nATOM     51  CG  GLU A   7      -7.378   5.068   2.447  1.00 90.23           C  \\nATOM     52  CD  GLU A   7      -7.568   6.263   3.368  1.00 90.23           C  \\nATOM     53  OE1 GLU A   7      -8.626   6.928   3.289  1.00 90.23           O  \\nATOM     54  OE2 GLU A   7      -6.651   6.537   4.174  1.00 90.23           O  \\nATOM     55  N   ARG A   8      -3.899   2.695  -0.189  1.00 92.76           N  \\nATOM     56  CA  ARG A   8      -2.596   2.669  -0.847  1.00 92.76           C  \\nATOM     57  C   ARG A   8      -2.747   2.764  -2.362  1.00 92.76           C  \\nATOM     58  O   ARG A   8      -3.731   2.280  -2.925  1.00 92.76           O  \\nATOM     59  CB  ARG A   8      -1.830   1.398  -0.475  1.00 92.76           C  \\nATOM     60  CG  ARG A   8      -1.259   1.413   0.934  1.00 92.76           C  \\nATOM     61  CD  ARG A   8      -0.450   0.158   1.228  1.00 92.76           C  \\nATOM     62  NE  ARG A   8       0.014   0.127   2.612  1.00 92.76           N  \\nATOM     63  CZ  ARG A   8       1.285   0.246   2.988  1.00 92.76           C  \\nATOM     64  NH1 ARG A   8       2.247   0.406   2.087  1.00 92.76           N  \\nATOM     65  NH2 ARG A   8       1.596   0.204   4.275  1.00 92.76           N  \\nATOM     66  N   SER A   9      -1.975   3.481  -3.005  1.00 95.65           N  \\nATOM     67  CA  SER A   9      -1.979   3.601  -4.459  1.00 95.65           C  \\nATOM     68  C   SER A   9      -0.651   3.148  -5.056  1.00 95.65           C  \\nATOM     69  O   SER A   9       0.409   3.376  -4.469  1.00 95.65           O  \\nATOM     70  CB  SER A   9      -2.269   5.043  -4.877  1.00 95.65           C  \\nATOM     71  OG  SER A   9      -3.492   5.492  -4.320  1.00 95.65           O  \\nATOM     72  N   PHE A  10      -0.693   2.430  -6.102  1.00 95.85           N  \\nATOM     73  CA  PHE A  10       0.496   1.860  -6.724  1.00 95.85           C  \\nATOM     74  C   PHE A  10       0.643   2.348  -8.160  1.00 95.85           C  \\nATOM     75  O   PHE A  10      -0.347   2.696  -8.807  1.00 95.85           O  \\nATOM     76  CB  PHE A  10       0.439   0.329  -6.693  1.00 95.85           C  \\nATOM     77  CG  PHE A  10       0.325  -0.246  -5.307  1.00 95.85           C  \\nATOM     78  CD1 PHE A  10       1.463  -0.579  -4.582  1.00 95.85           C  \\nATOM     79  CD2 PHE A  10      -0.921  -0.455  -4.729  1.00 95.85           C  \\nATOM     80  CE1 PHE A  10       1.360  -1.111  -3.299  1.00 95.85           C  \\nATOM     81  CE2 PHE A  10      -1.031  -0.987  -3.447  1.00 95.85           C  \\nATOM     82  CZ  PHE A  10       0.111  -1.315  -2.734  1.00 95.85           C  \\nATOM     83  N   VAL A  11       1.785   2.439  -8.593  1.00 96.75           N  \\nATOM     84  CA  VAL A  11       2.069   2.951  -9.929  1.00 96.75           C  \\nATOM     85  C   VAL A  11       1.812   1.860 -10.966  1.00 96.75           C  \\nATOM     86  O   VAL A  11       1.285   2.134 -12.047  1.00 96.75           O  \\nATOM     87  CB  VAL A  11       3.522   3.464 -10.044  1.00 96.75           C  \\nATOM     88  CG1 VAL A  11       3.804   3.975 -11.456  1.00 96.75           C  \\nATOM     89  CG2 VAL A  11       3.783   4.560  -9.013  1.00 96.75           C  \\nATOM     90  N   GLU A  12       2.132   0.621 -10.529  1.00 96.38           N  \\nATOM     91  CA  GLU A  12       2.016  -0.492 -11.467  1.00 96.38           C  \\nATOM     92  C   GLU A  12       0.865  -1.418 -11.085  1.00 96.38           C  \\nATOM     93  O   GLU A  12       0.579  -1.605  -9.900  1.00 96.38           O  \\nATOM     94  CB  GLU A  12       3.327  -1.280 -11.531  1.00 96.38           C  \\nATOM     95  CG  GLU A  12       4.505  -0.472 -12.054  1.00 96.38           C  \\nATOM     96  CD  GLU A  12       5.791  -1.278 -12.147  1.00 96.38           C  \\nATOM     97  OE1 GLU A  12       6.151  -1.721 -13.261  1.00 96.38           O  \\nATOM     98  OE2 GLU A  12       6.444  -1.469 -11.097  1.00 96.38           O  \\nATOM     99  N   LYS A  13       0.222  -2.022 -12.078  1.00 94.86           N  \\nATOM    100  CA  LYS A  13      -0.896  -2.934 -11.853  1.00 94.86           C  \\nATOM    101  C   LYS A  13      -0.428  -4.223 -11.182  1.00 94.86           C  \\nATOM    102  O   LYS A  13      -1.110  -4.756 -10.305  1.00 94.86           O  \\nATOM    103  CB  LYS A  13      -1.601  -3.255 -13.171  1.00 94.86           C  \\nATOM    104  CG  LYS A  13      -2.873  -4.075 -13.009  1.00 94.86           C  \\nATOM    105  CD  LYS A  13      -3.599  -4.248 -14.337  1.00 94.86           C  \\nATOM    106  CE  LYS A  13      -4.967  -4.890 -14.147  1.00 94.86           C  \\nATOM    107  NZ  LYS A  13      -5.545  -5.356 -15.443  1.00 94.86           N  \\nATOM    108  N   SER A  14       0.780  -4.685 -11.571  1.00 95.96           N  \\nATOM    109  CA  SER A  14       1.276  -5.918 -10.970  1.00 95.96           C  \\nATOM    110  C   SER A  14       1.528  -5.743  -9.476  1.00 95.96           C  \\nATOM    111  O   SER A  14       1.294  -6.663  -8.690  1.00 95.96           O  \\nATOM    112  CB  SER A  14       2.562  -6.372 -11.662  1.00 95.96           C  \\nATOM    113  OG  SER A  14       3.531  -5.338 -11.651  1.00 95.96           O  \\nATOM    114  N   ALA A  15       2.036  -4.487  -9.173  1.00 95.73           N  \\nATOM    115  CA  ALA A  15       2.237  -4.201  -7.755  1.00 95.73           C  \\nATOM    116  C   ALA A  15       0.918  -4.269  -6.989  1.00 95.73           C  \\nATOM    117  O   ALA A  15       0.860  -4.821  -5.888  1.00 95.73           O  \\nATOM    118  CB  ALA A  15       2.883  -2.829  -7.575  1.00 95.73           C  \\nATOM    119  N   LEU A  16      -0.159  -3.817  -7.590  1.00 95.22           N  \\nATOM    120  CA  LEU A  16      -1.480  -3.863  -6.974  1.00 95.22           C  \\nATOM    121  C   LEU A  16      -1.956  -5.303  -6.814  1.00 95.22           C  \\nATOM    122  O   LEU A  16      -2.484  -5.673  -5.763  1.00 95.22           O  \\nATOM    123  CB  LEU A  16      -2.489  -3.070  -7.809  1.00 95.22           C  \\nATOM    124  CG  LEU A  16      -3.950  -3.151  -7.364  1.00 95.22           C  \\nATOM    125  CD1 LEU A  16      -4.122  -2.510  -5.991  1.00 95.22           C  \\nATOM    126  CD2 LEU A  16      -4.859  -2.482  -8.389  1.00 95.22           C  \\nATOM    127  N   SER A  17      -1.756  -6.174  -7.765  1.00 93.31           N  \\nATOM    128  CA  SER A  17      -2.174  -7.571  -7.707  1.00 93.31           C  \\nATOM    129  C   SER A  17      -1.476  -8.309  -6.569  1.00 93.31           C  \\nATOM    130  O   SER A  17      -2.108  -9.077  -5.841  1.00 93.31           O  \\nATOM    131  CB  SER A  17      -1.884  -8.273  -9.034  1.00 93.31           C  \\nATOM    132  OG  SER A  17      -2.674  -7.726 -10.076  1.00 93.31           O  \\nATOM    133  N   ARG A  18      -0.182  -8.026  -6.428  1.00 94.85           N  \\nATOM    134  CA  ARG A  18       0.593  -8.649  -5.360  1.00 94.85           C  \\nATOM    135  C   ARG A  18       0.140  -8.150  -3.992  1.00 94.85           C  \\nATOM    136  O   ARG A  18       0.047  -8.928  -3.040  1.00 94.85           O  \\nATOM    137  CB  ARG A  18       2.087  -8.377  -5.549  1.00 94.85           C  \\nATOM    138  CG  ARG A  18       2.982  -9.170  -4.610  1.00 94.85           C  \\nATOM    139  CD  ARG A  18       4.455  -8.988  -4.947  1.00 94.85           C  \\nATOM    140  NE  ARG A  18       4.879  -7.601  -4.779  1.00 94.85           N  \\nATOM    141  CZ  ARG A  18       6.054  -7.115  -5.171  1.00 94.85           C  \\nATOM    142  NH1 ARG A  18       6.948  -7.897  -5.763  1.00 94.85           N  \\nATOM    143  NH2 ARG A  18       6.337  -5.836  -4.968  1.00 94.85           N  \\nATOM    144  N   HIS A  19      -0.150  -6.982  -4.015  1.00 94.96           N  \\nATOM    145  CA  HIS A  19      -0.565  -6.378  -2.753  1.00 94.96           C  \\nATOM    146  C   HIS A  19      -1.919  -6.918  -2.303  1.00 94.96           C  \\nATOM    147  O   HIS A  19      -2.150  -7.106  -1.107  1.00 94.96           O  \\nATOM    148  CB  HIS A  19      -0.624  -4.855  -2.882  1.00 94.96           C  \\nATOM    149  CG  HIS A  19      -1.353  -4.186  -1.760  1.00 94.96           C  \\nATOM    150  ND1 HIS A  19      -0.800  -4.019  -0.509  1.00 94.96           N  \\nATOM    151  CD2 HIS A  19      -2.590  -3.640  -1.705  1.00 94.96           C  \\nATOM    152  CE1 HIS A  19      -1.670  -3.397   0.270  1.00 94.96           C  \\nATOM    153  NE2 HIS A  19      -2.764  -3.156  -0.432  1.00 94.96           N  \\nATOM    154  N   GLN A  20      -2.886  -7.194  -3.125  1.00 92.00           N  \\nATOM    155  CA  GLN A  20      -4.208  -7.695  -2.766  1.00 92.00           C  \\nATOM    156  C   GLN A  20      -4.109  -9.011  -2.001  1.00 92.00           C  \\nATOM    157  O   GLN A  20      -5.015  -9.366  -1.244  1.00 92.00           O  \\nATOM    158  CB  GLN A  20      -5.072  -7.877  -4.015  1.00 92.00           C  \\nATOM    159  CG  GLN A  20      -5.417  -6.572  -4.720  1.00 92.00           C  \\nATOM    160  CD  GLN A  20      -6.254  -5.644  -3.859  1.00 92.00           C  \\nATOM    161  OE1 GLN A  20      -7.174  -6.084  -3.162  1.00 92.00           O  \\nATOM    162  NE2 GLN A  20      -5.943  -4.353  -3.902  1.00 92.00           N  \\nATOM    163  N   ARG A  21      -2.880  -9.716  -2.156  1.00 92.80           N  \\nATOM    164  CA  ARG A  21      -2.683 -10.970  -1.436  1.00 92.80           C  \\nATOM    165  C   ARG A  21      -2.526 -10.724   0.060  1.00 92.80           C  \\nATOM    166  O   ARG A  21      -2.767 -11.621   0.871  1.00 92.80           O  \\nATOM    167  CB  ARG A  21      -1.459 -11.713  -1.976  1.00 92.80           C  \\nATOM    168  CG  ARG A  21      -1.614 -12.196  -3.410  1.00 92.80           C  \\nATOM    169  CD  ARG A  21      -0.391 -12.972  -3.879  1.00 92.80           C  \\nATOM    170  NE  ARG A  21       0.648 -12.084  -4.392  1.00 92.80           N  \\nATOM    171  CZ  ARG A  21       1.582 -12.438  -5.270  1.00 92.80           C  \\nATOM    172  NH1 ARG A  21       1.626 -13.675  -5.751  1.00 92.80           N  \\nATOM    173  NH2 ARG A  21       2.480 -11.549  -5.670  1.00 92.80           N  \\nATOM    174  N   VAL A  22      -2.218  -9.576   0.478  1.00 92.21           N  \\nATOM    175  CA  VAL A  22      -2.043  -9.230   1.885  1.00 92.21           C  \\nATOM    176  C   VAL A  22      -3.404  -9.166   2.574  1.00 92.21           C  \\nATOM    177  O   VAL A  22      -3.511  -9.422   3.775  1.00 92.21           O  \\nATOM    178  CB  VAL A  22      -1.298  -7.887   2.051  1.00 92.21           C  \\nATOM    179  CG1 VAL A  22      -1.326  -7.430   3.508  1.00 92.21           C  \\nATOM    180  CG2 VAL A  22       0.141  -8.010   1.553  1.00 92.21           C  \\nATOM    181  N   HIS A  23      -4.372  -8.956   1.716  1.00 91.83           N  \\nATOM    182  CA  HIS A  23      -5.712  -8.802   2.269  1.00 91.83           C  \\nATOM    183  C   HIS A  23      -6.491 -10.111   2.199  1.00 91.83           C  \\nATOM    184  O   HIS A  23      -7.601 -10.207   2.729  1.00 91.83           O  \\nATOM    185  CB  HIS A  23      -6.473  -7.698   1.532  1.00 91.83           C  \\nATOM    186  CG  HIS A  23      -5.864  -6.341   1.691  1.00 91.83           C  \\nATOM    187  ND1 HIS A  23      -5.829  -5.678   2.899  1.00 91.83           N  \\nATOM    188  CD2 HIS A  23      -5.264  -5.525   0.793  1.00 91.83           C  \\nATOM    189  CE1 HIS A  23      -5.233  -4.509   2.735  1.00 91.83           C  \\nATOM    190  NE2 HIS A  23      -4.880  -4.392   1.466  1.00 91.83           N  \\nATOM    191  N   LYS A  24      -5.948 -10.942   1.299  1.00 85.54           N  \\nATOM    192  CA  LYS A  24      -6.581 -12.258   1.321  1.00 85.54           C  \\nATOM    193  C   LYS A  24      -6.289 -12.986   2.630  1.00 85.54           C  \\nATOM    194  O   LYS A  24      -6.890 -14.024   2.916  1.00 85.54           O  \\nATOM    195  CB  LYS A  24      -6.110 -13.101   0.135  1.00 85.54           C  \\nATOM    196  CG  LYS A  24      -6.748 -12.715  -1.191  1.00 85.54           C  \\nATOM    197  CD  LYS A  24      -6.352 -13.678  -2.303  1.00 85.54           C  \\nATOM    198  CE  LYS A  24      -7.023 -13.317  -3.622  1.00 85.54           C  \\nATOM    199  NZ  LYS A  24      -6.666 -14.279  -4.706  1.00 85.54           N  \\nATOM    200  N   ASN A  25      -5.224 -12.403   3.340  1.00 69.20           N  \\nATOM    201  CA  ASN A  25      -5.193 -13.020   4.662  1.00 69.20           C  \\nATOM    202  C   ASN A  25      -6.481 -12.753   5.436  1.00 69.20           C  \\nATOM    203  O   ASN A  25      -6.974 -13.629   6.149  1.00 69.20           O  \\nATOM    204  CB  ASN A  25      -3.983 -12.524   5.457  1.00 69.20           C  \\nATOM    205  CG  ASN A  25      -3.705 -13.370   6.684  1.00 69.20           C  \\nATOM    206  OD1 ASN A  25      -4.055 -14.552   6.731  1.00 69.20           O  \\nATOM    207  ND2 ASN A  25      -3.072 -12.771   7.686  1.00 69.20           N  \",\"pdb\");\n",
              "\tviewer_17587025821382267.setStyle({\"model\": 0},{\"cartoon\": {\"color\": \"green\", \"opacity\": 0.7}});\n",
              "\tviewer_17587025821382267.addModel(\"ATOM      1  N   LEU A   1      -3.728   2.928  -9.664  1.00 81.60           N  \\nATOM      2  CA  LEU A   1      -4.454   1.739  -9.232  1.00 81.60           C  \\nATOM      3  C   LEU A   1      -4.500   1.652  -7.711  1.00 81.60           C  \\nATOM      4  O   LEU A   1      -3.474   1.809  -7.044  1.00 81.60           O  \\nATOM      5  CB  LEU A   1      -3.804   0.477  -9.807  1.00 81.60           C  \\nATOM      6  CG  LEU A   1      -3.664   0.419 -11.329  1.00 81.60           C  \\nATOM      7  CD1 LEU A   1      -2.611  -0.610 -11.726  1.00 81.60           C  \\nATOM      8  CD2 LEU A   1      -5.007   0.095 -11.977  1.00 81.60           C  \\nATOM      9  N   ALA A   2      -5.629   1.970  -7.192  1.00 77.62           N  \\nATOM     10  CA  ALA A   2      -5.721   1.995  -5.735  1.00 77.62           C  \\nATOM     11  C   ALA A   2      -6.366   0.718  -5.204  1.00 77.62           C  \\nATOM     12  O   ALA A   2      -7.179   0.095  -5.890  1.00 77.62           O  \\nATOM     13  CB  ALA A   2      -6.511   3.217  -5.273  1.00 77.62           C  \\nATOM     14  N   CYS A   3      -5.881   0.201  -4.103  1.00 73.93           N  \\nATOM     15  CA  CYS A   3      -6.472  -0.945  -3.420  1.00 73.93           C  \\nATOM     16  C   CYS A   3      -7.722  -0.535  -2.651  1.00 73.93           C  \\nATOM     17  O   CYS A   3      -7.702   0.442  -1.900  1.00 73.93           O  \\nATOM     18  CB  CYS A   3      -5.461  -1.582  -2.467  1.00 73.93           C  \\nATOM     19  SG  CYS A   3      -6.002  -3.164  -1.783  1.00 73.93           S  \\nATOM     20  N   PRO A   4      -8.773  -1.036  -3.025  1.00 72.04           N  \\nATOM     21  CA  PRO A   4     -10.020  -0.632  -2.373  1.00 72.04           C  \\nATOM     22  C   PRO A   4      -9.967  -0.781  -0.854  1.00 72.04           C  \\nATOM     23  O   PRO A   4     -10.637  -0.038  -0.133  1.00 72.04           O  \\nATOM     24  CB  PRO A   4     -11.059  -1.579  -2.979  1.00 72.04           C  \\nATOM     25  CG  PRO A   4     -10.311  -2.350  -4.019  1.00 72.04           C  \\nATOM     26  CD  PRO A   4      -8.859  -1.978  -3.937  1.00 72.04           C  \\nATOM     27  N   LYS A   5      -9.232  -1.828  -0.451  1.00 72.42           N  \\nATOM     28  CA  LYS A   5      -9.253  -1.987   1.001  1.00 72.42           C  \\nATOM     29  C   LYS A   5      -8.138  -1.178   1.658  1.00 72.42           C  \\nATOM     30  O   LYS A   5      -8.127  -1.003   2.878  1.00 72.42           O  \\nATOM     31  CB  LYS A   5      -9.124  -3.463   1.381  1.00 72.42           C  \\nATOM     32  CG  LYS A   5     -10.362  -4.291   1.075  1.00 72.42           C  \\nATOM     33  CD  LYS A   5     -10.273  -5.681   1.693  1.00 72.42           C  \\nATOM     34  CE  LYS A   5     -11.513  -6.510   1.390  1.00 72.42           C  \\nATOM     35  NZ  LYS A   5     -11.401  -7.896   1.934  1.00 72.42           N  \\nATOM     36  N   MET A   6      -7.181  -0.746   0.859  1.00 67.96           N  \\nATOM     37  CA  MET A   6      -6.085   0.055   1.397  1.00 67.96           C  \\nATOM     38  C   MET A   6      -5.907   1.339   0.594  1.00 67.96           C  \\nATOM     39  O   MET A   6      -6.322   1.416  -0.563  1.00 67.96           O  \\nATOM     40  CB  MET A   6      -4.782  -0.746   1.398  1.00 67.96           C  \\nATOM     41  CG  MET A   6      -4.697  -1.776   2.513  1.00 67.96           C  \\nATOM     42  SD  MET A   6      -2.966  -2.221   2.928  1.00 67.96           S  \\nATOM     43  CE  MET A   6      -3.220  -3.036   4.529  1.00 67.96           C  \\nATOM     44  N   CYS A   7      -5.804   2.428   1.216  1.00 70.51           N  \\nATOM     45  CA  CYS A   7      -5.693   3.728   0.563  1.00 70.51           C  \\nATOM     46  C   CYS A   7      -4.278   3.959   0.045  1.00 70.51           C  \\nATOM     47  O   CYS A   7      -3.774   5.083   0.089  1.00 70.51           O  \\nATOM     48  CB  CYS A   7      -6.084   4.848   1.526  1.00 70.51           C  \\nATOM     49  SG  CYS A   7      -7.865   5.116   1.647  1.00 70.51           S  \\nATOM     50  N   HIS A   8      -3.745   2.935  -0.573  1.00 75.77           N  \\nATOM     51  CA  HIS A   8      -2.411   3.132  -1.130  1.00 75.77           C  \\nATOM     52  C   HIS A   8      -2.447   3.144  -2.654  1.00 75.77           C  \\nATOM     53  O   HIS A   8      -3.220   2.403  -3.267  1.00 75.77           O  \\nATOM     54  CB  HIS A   8      -1.458   2.043  -0.635  1.00 75.77           C  \\nATOM     55  CG  HIS A   8      -0.705   2.421   0.600  1.00 75.77           C  \\nATOM     56  ND1 HIS A   8      -0.737   1.663   1.751  1.00 75.77           N  \\nATOM     57  CD2 HIS A   8       0.102   3.475   0.862  1.00 75.77           C  \\nATOM     58  CE1 HIS A   8       0.020   2.238   2.671  1.00 75.77           C  \\nATOM     59  NE2 HIS A   8       0.541   3.340   2.157  1.00 75.77           N  \\nATOM     60  N   THR A   9      -1.852   4.071  -3.253  1.00 82.01           N  \\nATOM     61  CA  THR A   9      -1.741   4.143  -4.706  1.00 82.01           C  \\nATOM     62  C   THR A   9      -0.511   3.381  -5.193  1.00 82.01           C  \\nATOM     63  O   THR A   9       0.557   3.459  -4.580  1.00 82.01           O  \\nATOM     64  CB  THR A   9      -1.667   5.603  -5.190  1.00 82.01           C  \\nATOM     65  OG1 THR A   9      -2.428   6.432  -4.303  1.00 82.01           O  \\nATOM     66  CG2 THR A   9      -2.226   5.742  -6.603  1.00 82.01           C  \\nATOM     67  N   PHE A  10      -0.807   2.581  -6.151  1.00 84.31           N  \\nATOM     68  CA  PHE A  10       0.292   1.793  -6.695  1.00 84.31           C  \\nATOM     69  C   PHE A  10       0.582   2.192  -8.137  1.00 84.31           C  \\nATOM     70  O   PHE A  10      -0.295   2.709  -8.832  1.00 84.31           O  \\nATOM     71  CB  PHE A  10      -0.028   0.296  -6.620  1.00 84.31           C  \\nATOM     72  CG  PHE A  10      -0.255  -0.205  -5.219  1.00 84.31           C  \\nATOM     73  CD1 PHE A  10       0.816  -0.586  -4.420  1.00 84.31           C  \\nATOM     74  CD2 PHE A  10      -1.541  -0.297  -4.702  1.00 84.31           C  \\nATOM     75  CE1 PHE A  10       0.608  -1.051  -3.123  1.00 84.31           C  \\nATOM     76  CE2 PHE A  10      -1.757  -0.760  -3.408  1.00 84.31           C  \\nATOM     77  CZ  PHE A  10      -0.680  -1.138  -2.620  1.00 84.31           C  \\nATOM     78  N   GLU A  11       1.789   1.973  -8.506  1.00 87.33           N  \\nATOM     79  CA  GLU A  11       2.240   2.464  -9.806  1.00 87.33           C  \\nATOM     80  C   GLU A  11       1.940   1.454 -10.910  1.00 87.33           C  \\nATOM     81  O   GLU A  11       1.721   1.835 -12.062  1.00 87.33           O  \\nATOM     82  CB  GLU A  11       3.738   2.778  -9.772  1.00 87.33           C  \\nATOM     83  CG  GLU A  11       4.093   3.988  -8.921  1.00 87.33           C  \\nATOM     84  CD  GLU A  11       5.582   4.301  -8.915  1.00 87.33           C  \\nATOM     85  OE1 GLU A  11       5.983   5.326  -8.319  1.00 87.33           O  \\nATOM     86  OE2 GLU A  11       6.350   3.516  -9.512  1.00 87.33           O  \\nATOM     87  N   THR A  12       1.933   0.249 -10.570  1.00 92.13           N  \\nATOM     88  CA  THR A  12       1.698  -0.787 -11.568  1.00 92.13           C  \\nATOM     89  C   THR A  12       0.632  -1.768 -11.088  1.00 92.13           C  \\nATOM     90  O   THR A  12       0.365  -1.866  -9.888  1.00 92.13           O  \\nATOM     91  CB  THR A  12       2.993  -1.554 -11.895  1.00 92.13           C  \\nATOM     92  OG1 THR A  12       3.432  -2.258 -10.727  1.00 92.13           O  \\nATOM     93  CG2 THR A  12       4.096  -0.601 -12.345  1.00 92.13           C  \\nATOM     94  N   GLN A  13       0.042  -2.587 -11.991  1.00 89.50           N  \\nATOM     95  CA  GLN A  13      -0.932  -3.624 -11.672  1.00 89.50           C  \\nATOM     96  C   GLN A  13      -0.303  -4.727 -10.825  1.00 89.50           C  \\nATOM     97  O   GLN A  13      -0.973  -5.329  -9.983  1.00 89.50           O  \\nATOM     98  CB  GLN A  13      -1.524  -4.218 -12.951  1.00 89.50           C  \\nATOM     99  CG  GLN A  13      -2.694  -5.161 -12.708  1.00 89.50           C  \\nATOM    100  CD  GLN A  13      -3.955  -4.433 -12.277  1.00 89.50           C  \\nATOM    101  OE1 GLN A  13      -4.246  -3.333 -12.757  1.00 89.50           O  \\nATOM    102  NE2 GLN A  13      -4.710  -5.042 -11.369  1.00 89.50           N  \\nATOM    103  N   ALA A  14       0.948  -4.960 -11.132  1.00 90.56           N  \\nATOM    104  CA  ALA A  14       1.657  -5.998 -10.389  1.00 90.56           C  \\nATOM    105  C   ALA A  14       1.726  -5.658  -8.903  1.00 90.56           C  \\nATOM    106  O   ALA A  14       1.500  -6.520  -8.051  1.00 90.56           O  \\nATOM    107  CB  ALA A  14       3.062  -6.192 -10.953  1.00 90.56           C  \\nATOM    108  N   GLU A  15       2.048  -4.338  -8.686  1.00 88.00           N  \\nATOM    109  CA  GLU A  15       2.100  -3.919  -7.287  1.00 88.00           C  \\nATOM    110  C   GLU A  15       0.724  -4.008  -6.634  1.00 88.00           C  \\nATOM    111  O   GLU A  15       0.603  -4.447  -5.488  1.00 88.00           O  \\nATOM    112  CB  GLU A  15       2.645  -2.494  -7.172  1.00 88.00           C  \\nATOM    113  CG  GLU A  15       4.132  -2.378  -7.477  1.00 88.00           C  \\nATOM    114  CD  GLU A  15       4.627  -0.941  -7.511  1.00 88.00           C  \\nATOM    115  OE1 GLU A  15       5.859  -0.722  -7.454  1.00 88.00           O  \\nATOM    116  OE2 GLU A  15       3.778  -0.027  -7.594  1.00 88.00           O  \\nATOM    117  N   LEU A  16      -0.323  -3.655  -7.438  1.00 85.50           N  \\nATOM    118  CA  LEU A  16      -1.687  -3.731  -6.928  1.00 85.50           C  \\nATOM    119  C   LEU A  16      -2.062  -5.169  -6.589  1.00 85.50           C  \\nATOM    120  O   LEU A  16      -2.626  -5.435  -5.524  1.00 85.50           O  \\nATOM    121  CB  LEU A  16      -2.674  -3.163  -7.951  1.00 85.50           C  \\nATOM    122  CG  LEU A  16      -4.155  -3.231  -7.576  1.00 85.50           C  \\nATOM    123  CD1 LEU A  16      -4.418  -2.427  -6.308  1.00 85.50           C  \\nATOM    124  CD2 LEU A  16      -5.022  -2.729  -8.724  1.00 85.50           C  \\nATOM    125  N   ASN A  17      -1.645  -6.050  -7.439  1.00 84.53           N  \\nATOM    126  CA  ASN A  17      -1.949  -7.461  -7.228  1.00 84.53           C  \\nATOM    127  C   ASN A  17      -1.281  -7.997  -5.965  1.00 84.53           C  \\nATOM    128  O   ASN A  17      -1.891  -8.755  -5.209  1.00 84.53           O  \\nATOM    129  CB  ASN A  17      -1.529  -8.290  -8.444  1.00 84.53           C  \\nATOM    130  CG  ASN A  17      -2.441  -8.080  -9.637  1.00 84.53           C  \\nATOM    131  OD1 ASN A  17      -3.577  -7.624  -9.492  1.00 84.53           O  \\nATOM    132  ND2 ASN A  17      -1.947  -8.412 -10.824  1.00 84.53           N  \\nATOM    133  N   HIS A  18      -0.029  -7.581  -5.790  1.00 83.91           N  \\nATOM    134  CA  HIS A  18       0.714  -7.997  -4.606  1.00 83.91           C  \\nATOM    135  C   HIS A  18       0.040  -7.507  -3.330  1.00 83.91           C  \\nATOM    136  O   HIS A  18      -0.066  -8.252  -2.353  1.00 83.91           O  \\nATOM    137  CB  HIS A  18       2.154  -7.484  -4.670  1.00 83.91           C  \\nATOM    138  CG  HIS A  18       3.016  -7.975  -3.551  1.00 83.91           C  \\nATOM    139  ND1 HIS A  18       3.517  -9.259  -3.508  1.00 83.91           N  \\nATOM    140  CD2 HIS A  18       3.469  -7.353  -2.438  1.00 83.91           C  \\nATOM    141  CE1 HIS A  18       4.241  -9.405  -2.410  1.00 83.91           C  \\nATOM    142  NE2 HIS A  18       4.229  -8.263  -1.744  1.00 83.91           N  \\nATOM    143  N   CYS A  19      -0.457  -6.374  -3.397  1.00 82.61           N  \\nATOM    144  CA  CYS A  19      -1.119  -5.797  -2.232  1.00 82.61           C  \\nATOM    145  C   CYS A  19      -2.433  -6.512  -1.943  1.00 82.61           C  \\nATOM    146  O   CYS A  19      -2.752  -6.789  -0.785  1.00 82.61           O  \\nATOM    147  CB  CYS A  19      -1.377  -4.305  -2.447  1.00 82.61           C  \\nATOM    148  SG  CYS A  19      -2.184  -3.497  -1.047  1.00 82.61           S  \\nATOM    149  N   MET A  20      -3.182  -6.798  -2.984  1.00 80.22           N  \\nATOM    150  CA  MET A  20      -4.483  -7.434  -2.796  1.00 80.22           C  \\nATOM    151  C   MET A  20      -4.325  -8.840  -2.226  1.00 80.22           C  \\nATOM    152  O   MET A  20      -5.225  -9.348  -1.556  1.00 80.22           O  \\nATOM    153  CB  MET A  20      -5.253  -7.489  -4.116  1.00 80.22           C  \\nATOM    154  CG  MET A  20      -5.684  -6.126  -4.632  1.00 80.22           C  \\nATOM    155  SD  MET A  20      -7.409  -5.710  -4.165  1.00 80.22           S  \\nATOM    156  CE  MET A  20      -8.310  -6.951  -5.135  1.00 80.22           C  \\nATOM    157  N   ARG A  21      -3.214  -9.500  -2.481  1.00 82.22           N  \\nATOM    158  CA  ARG A  21      -2.999 -10.866  -2.013  1.00 82.22           C  \\nATOM    159  C   ARG A  21      -2.832 -10.907  -0.498  1.00 82.22           C  \\nATOM    160  O   ARG A  21      -3.271 -11.856   0.155  1.00 82.22           O  \\nATOM    161  CB  ARG A  21      -1.773 -11.480  -2.692  1.00 82.22           C  \\nATOM    162  CG  ARG A  21      -2.022 -11.931  -4.123  1.00 82.22           C  \\nATOM    163  CD  ARG A  21      -0.880 -12.786  -4.652  1.00 82.22           C  \\nATOM    164  NE  ARG A  21      -0.129 -12.096  -5.697  1.00 82.22           N  \\nATOM    165  CZ  ARG A  21       0.847 -12.644  -6.417  1.00 82.22           C  \\nATOM    166  NH1 ARG A  21       1.210 -13.905  -6.217  1.00 82.22           N  \\nATOM    167  NH2 ARG A  21       1.464 -11.924  -7.342  1.00 82.22           N  \\nATOM    168  N   ARG A  22      -2.288  -9.830   0.050  1.00 73.82           N  \\nATOM    169  CA  ARG A  22      -2.047  -9.814   1.488  1.00 73.82           C  \\nATOM    170  C   ARG A  22      -3.347  -9.610   2.259  1.00 73.82           C  \\nATOM    171  O   ARG A  22      -3.529 -10.173   3.341  1.00 73.82           O  \\nATOM    172  CB  ARG A  22      -1.044  -8.717   1.853  1.00 73.82           C  \\nATOM    173  CG  ARG A  22       0.384  -9.021   1.428  1.00 73.82           C  \\nATOM    174  CD  ARG A  22       1.365  -7.989   1.968  1.00 73.82           C  \\nATOM    175  NE  ARG A  22       2.595  -8.615   2.445  1.00 73.82           N  \\nATOM    176  CZ  ARG A  22       3.766  -7.994   2.557  1.00 73.82           C  \\nATOM    177  NH1 ARG A  22       3.890  -6.713   2.225  1.00 73.82           N  \\nATOM    178  NH2 ARG A  22       4.823  -8.658   3.003  1.00 73.82           N  \\nATOM    179  N   VAL A  23      -4.266  -8.849   1.554  1.00 67.86           N  \\nATOM    180  CA  VAL A  23      -5.515  -8.523   2.233  1.00 67.86           C  \\nATOM    181  C   VAL A  23      -6.426  -9.749   2.256  1.00 67.86           C  \\nATOM    182  O   VAL A  23      -7.157  -9.970   3.225  1.00 67.86           O  \\nATOM    183  CB  VAL A  23      -6.236  -7.336   1.557  1.00 67.86           C  \\nATOM    184  CG1 VAL A  23      -7.564  -7.042   2.253  1.00 67.86           C  \\nATOM    185  CG2 VAL A  23      -5.342  -6.098   1.560  1.00 67.86           C  \\nATOM    186  N   ASP A  24      -6.160 -10.658   1.272  1.00 64.77           N  \\nATOM    187  CA  ASP A  24      -7.003 -11.850   1.281  1.00 64.77           C  \\nATOM    188  C   ASP A  24      -6.412 -12.933   2.181  1.00 64.77           C  \\nATOM    189  O   ASP A  24      -7.148 -13.732   2.764  1.00 64.77           O  \\nATOM    190  CB  ASP A  24      -7.187 -12.388  -0.138  1.00 64.77           C  \\nATOM    191  CG  ASP A  24      -8.620 -12.792  -0.439  1.00 64.77           C  \\nATOM    192  OD1 ASP A  24      -9.467 -12.758   0.478  1.00 64.77           O  \\nATOM    193  OD2 ASP A  24      -8.901 -13.152  -1.603  1.00 64.77           O  \\nATOM    194  N   ASN A  25      -5.130 -12.777   2.559  1.00 51.66           N  \\nATOM    195  CA  ASN A  25      -4.581 -13.768   3.478  1.00 51.66           C  \\nATOM    196  C   ASN A  25      -4.749 -13.337   4.932  1.00 51.66           C  \\nATOM    197  O   ASN A  25      -4.965 -14.174   5.811  1.00 51.66           O  \\nATOM    198  CB  ASN A  25      -3.105 -14.027   3.168  1.00 51.66           C  \\nATOM    199  CG  ASN A  25      -2.907 -14.824   1.893  1.00 51.66           C  \\nATOM    200  OD1 ASN A  25      -3.804 -15.548   1.454  1.00 51.66           O  \\nATOM    201  ND2 ASN A  25      -1.731 -14.696   1.290  1.00 51.66           N  \\nTER     202      ASN A  25                                                       \\nEND   \\n\",\"pdb\");\n",
              "\tviewer_17587025821382267.setStyle({\"model\": 1, \"cartoon\": {\"colorscheme\": {\"prop\": \"b\", \"gradient\": \"roygb\", \"min\": 50, \"max\": 90}}});\n",
              "\tviewer_17587025821382267.addStyle({\"model\": 1, \"stick\": {}});\n",
              "\tviewer_17587025821382267.zoomTo();\n",
              "viewer_17587025821382267.render();\n",
              "});\n",
              "</script>"
            ]
          },
          "metadata": {}
        }
      ]
    },
    {
      "cell_type": "code",
      "source": [
        "#@title Define mutation limits\n",
        "\n",
        "conservative_substitutions = {\n",
        "    'A': ['G', 'S', 'T'], # Alanine (small, nonpolar)\n",
        "    'R': ['K', 'H'],     # Arginine (basic, positive)\n",
        "    'N': ['Q', 'S', 'T'], # Asparagine (polar, uncharged)\n",
        "    'D': ['E'],          # Aspartic Acid (acidic, negative)\n",
        "    'C': ['S'],          # Cysteine (sulfur-containing)\n",
        "    'Q': ['N', 'H', 'K', 'R', 'E', 'D'], # Glutamine (polar, uncharged) - larger group due to flexibility\n",
        "    'E': ['D', 'Q', 'N', 'K', 'R', 'H'], # Glutamic Acid (acidic, negative) - larger group due to flexibility\n",
        "    'G': ['A', 'S'],     # Glycine (small, nonpolar)\n",
        "    'H': ['R', 'K', 'N', 'Q'], # Histidine (basic, positive, aromatic)\n",
        "    'I': ['L', 'V', 'M'], # Isoleucine (hydrophobic)\n",
        "    'L': ['I', 'V', 'M'], # Leucine (hydrophobic)\n",
        "    'K': ['R', 'H', 'Q', 'N'], # Lysine (basic, positive)\n",
        "    'M': ['L', 'I', 'V'], # Methionine (hydrophobic, sulfur-containing)\n",
        "    'F': ['Y', 'W'],     # Phenylalanine (aromatic, hydrophobic)\n",
        "    'P': [],             # Proline (cyclic, often disrupts structure - few conservative substitutions)\n",
        "    'S': ['T', 'N', 'Q', 'A', 'G', 'C'], # Serine (polar, uncharged, hydroxyl)\n",
        "    'T': ['S', 'N', 'Q', 'A', 'G'], # Threonine (polar, uncharged, hydroxyl)\n",
        "    'W': ['Y', 'F'],     # Tryptophan (aromatic, hydrophobic, large)\n",
        "    'Y': ['F', 'W'],     # Tyrosine (aromatic, hydrophobic, hydroxyl)\n",
        "    'V': ['I', 'L', 'M']  # Valine (hydrophobic)\n",
        "}\n",
        "\n",
        "all_amino_acids = list(\"ACDEFGHIKLMNPQRSTVWY\")\n",
        "\n",
        "def generate_mutations(dna_sequence, codon_position, conservative_only=True):\n",
        "    \"\"\"\n",
        "    Generates a list of mutated DNA sequences with either conservative or any\n",
        "    amino acid substitutions at a given codon position.\n",
        "\n",
        "    Args:\n",
        "        dna_sequence: The original DNA sequence string.\n",
        "        codon_position: The 0-indexed position of the codon to mutate.\n",
        "        conservative_only: If True, only generates conservative substitutions.\n",
        "                           If False, generates all possible amino acid substitutions.\n",
        "\n",
        "    Returns:\n",
        "        A list of mutated DNA sequences.\n",
        "    \"\"\"\n",
        "    start_index = codon_position * 3\n",
        "    end_index = start_index + 3\n",
        "    original_codon = dna_sequence[start_index:end_index]\n",
        "\n",
        "    if original_codon not in codon_table:\n",
        "        print(f\"Warning: Original codon '{original_codon}' not found in codon table.\")\n",
        "        return []\n",
        "\n",
        "    original_amino_acid = codon_table[original_codon]\n",
        "\n",
        "    possible_sub_aas = []\n",
        "    if conservative_only:\n",
        "        if original_amino_acid in conservative_substitutions:\n",
        "            possible_sub_aas = conservative_substitutions[original_amino_acid]\n",
        "        # Note: If conservative_only is True and no conservative substitutions exist, possible_sub_aas remains empty.\n",
        "    else:\n",
        "        possible_sub_aas = [aa for aa in all_amino_acids if aa != original_amino_acid] # All other amino acids\n",
        "\n",
        "    mutated_sequences = []\n",
        "    for sub_aa in possible_sub_aas:\n",
        "        for codon, aa in codon_table.items():\n",
        "            if aa == sub_aa:\n",
        "                mutated_seq = list(dna_sequence)\n",
        "                mutated_seq[start_index:end_index] = list(codon)\n",
        "                mutated_sequences.append(\"\".join(mutated_seq))\n",
        "\n",
        "    return mutated_sequences\n",
        "\n",
        "# Example usage (assuming original_seq is defined from previous cells)\n",
        "# For testing, let's use the first codon (position 0)\n",
        "# mutated_dna_list = generate_mutations(original_seq, 0, conservative_only=True)\n",
        "# print(f\"Original DNA: {original_seq}\")\n",
        "# print(f\"Mutated DNA sequences (conservative substitutions at position 0):\")\n",
        "# for mut_seq in mutated_dna_list:\n",
        "#     print(mut_seq)\n",
        "\n",
        "# mutated_dna_list_any = generate_mutations(original_seq, 0, conservative_only=False)\n",
        "# print(f\"\\nMutated DNA sequences (any substitutions at position 0):\")\n",
        "# for mut_seq in mutated_dna_list_any:\n",
        "#     print(mut_seq)"
      ],
      "metadata": {
        "cellView": "form",
        "id": "pQjQhtNNhN3l"
      },
      "execution_count": 7,
      "outputs": []
    },
    {
      "cell_type": "code",
      "source": [
        "# @title Iterative mutation evolution\n",
        "\n",
        "import numpy as np\n",
        "import numpy.random as random\n",
        "import os, re, requests # Import necessary modules for OmegaFold and file handling\n",
        "from string import ascii_uppercase, ascii_lowercase # Import for chain naming\n",
        "import hashlib # Import for hashing sequence\n",
        "import pickle # Import for saving/loading\n",
        "\n",
        "num_iterations = 200 # @param {type:\"integer\"}\n",
        "save_history = True # @param {type:\"boolean\"}\n",
        "history_filename = \"mutation_history_5.pkl\" # @param {type:\"string\"}\n",
        "load_history = False # @param {type:\"boolean\"}\n",
        "conservative_mutations = False # @param {type:\"boolean\"}\n",
        "\n",
        "# Function to get hash for jobname\n",
        "def get_hash(x): return hashlib.sha1(x.encode()).hexdigest()\n",
        "alphabet_list = list(ascii_uppercase+ascii_lowercase)\n",
        "\n",
        "# Load history if requested\n",
        "if load_history and os.path.exists(history_filename):\n",
        "    print(f\"Loading history from {history_filename}\")\n",
        "    with open(history_filename, 'rb') as f:\n",
        "        history = pickle.load(f)\n",
        "    best_dna_sequence = history['best_dna_sequence']\n",
        "    best_protein_sequence = history['best_protein_sequence']\n",
        "    best_total_score = history['best_total_score']\n",
        "    accepted_mutation_scores = history['accepted_mutation_scores']\n",
        "    accepted_sim_scores = history['accepted_sim_scores']\n",
        "    accepted_total_scores = history['accepted_total_scores']\n",
        "    accepted_iterations = history['accepted_iterations']\n",
        "    all_mutation_scores = history['all_mutation_scores']\n",
        "    all_sim_scores = history['all_sim_scores']\n",
        "    all_total_scores = history['all_total_scores']\n",
        "    all_iterations = history['all_iterations']\n",
        "    all_tried_protein_sequences = history['all_tried_protein_sequences']\n",
        "    completed_iters = history['completed_iters']\n",
        "else:\n",
        "    best_dna_sequence = original_seq\n",
        "    best_protein_sequence = str(Bio.Seq.Seq(best_dna_sequence).translate(to_stop=False))\n",
        "    best_total_score = -1\n",
        "\n",
        "    accepted_mutation_scores = []\n",
        "    accepted_sim_scores = []\n",
        "    accepted_total_scores = []\n",
        "    accepted_iterations = []\n",
        "    all_mutation_scores = []\n",
        "    all_sim_scores = []\n",
        "    all_total_scores = []\n",
        "    all_iterations = []\n",
        "\n",
        "    all_tried_protein_sequences = []\n",
        "    all_tried_protein_sequences.append(best_protein_sequence)\n",
        "\n",
        "    completed_iters = 0\n",
        "\n",
        "num_codons = len(original_seq) // 3\n",
        "\n",
        "\n",
        "while completed_iters < num_iterations:\n",
        "    # Choose a random codon position to mutate\n",
        "    random_codon_pos = random.randint(0, num_codons - 1)\n",
        "\n",
        "    # Generate conservative mutations for this position\n",
        "    # This part seems a bit off, it should generate a list and then pick one\n",
        "    mutated_dna_list_single = generate_mutations(best_dna_sequence, random_codon_pos, conservative_only=conservative_mutations)\n",
        "\n",
        "\n",
        "    if not mutated_dna_list_single:\n",
        "        continue # Skip to the next iteration if no mutations are possible\n",
        "\n",
        "    # Select the first generated mutation (or choose randomly)\n",
        "    single_mutated_dna_seq = random.choice(mutated_dna_list_single) # Use random.choice to pick one mutation\n",
        "    single_mutated_protein_seq = str(Bio.Seq.Seq(single_mutated_dna_seq).translate(to_stop=False))\n",
        "\n",
        "    # Check if protein sequence has been tried before\n",
        "    if single_mutated_protein_seq in all_tried_protein_sequences:\n",
        "        continue\n",
        "\n",
        "    all_tried_protein_sequences.append(single_mutated_protein_seq)\n",
        "\n",
        "    # Predict structure using OmegaFold\n",
        "    # Adapt the OmegaFold execution code from cell CFCwEAa2oZEN\n",
        "    try:\n",
        "        # Generate a unique jobname based on iteration and a hash of the sequence\n",
        "        jobname = f\"iter_{completed_iters}_{get_hash(single_mutated_protein_seq)[:5]}\"\n",
        "        ID = jobname\n",
        "        seqs = single_mutated_protein_seq.split(\":\")\n",
        "        lengths = [len(s) for s in seqs]\n",
        "\n",
        "        # Write fasta file\n",
        "        with open(f\"{ID}.fasta\",\"w\") as out:\n",
        "            out.write(f\">{ID}\\n{single_mutated_protein_seq}\\n\")\n",
        "\n",
        "        # Run OmegaFold command\n",
        "        # Use appropriate parameters, likely inherited from the successful OmegaFold cell\n",
        "        subbatch_size = 1000 # Assuming single chain, length < 500 from previous cell\n",
        "        num_cycle = 2 # Assuming from previous cell\n",
        "        offset_rope = False # Assuming from previous cell\n",
        "        device = \"cuda\" if torch.cuda.is_available() else \"cpu\" # Get device from setup cell\n",
        "\n",
        "        # Execute OmegaFold prediction\n",
        "        # Capture output to keep the notebook clean\n",
        "        with io.capture_output() as captured:\n",
        "            %shell python OmegaFold/main.py --offset_rope={offset_rope} --device={device} --subbatch_size={subbatch_size} --num_cycle={num_cycle} {ID}.fasta .\n",
        "\n",
        "        # Define the predicted PDB file name\n",
        "        single_mutated_pdb_file = f\"{ID}.pdb\"\n",
        "\n",
        "        # Read the predicted PDB file\n",
        "        with open(single_mutated_pdb_file, 'r') as f:\n",
        "            single_mutated_pdb_str = f.read()\n",
        "\n",
        "        # Renumber PDB if necessary (using the function from CFCwEAa2oZEN)\n",
        "        single_mutated_pdb_str = renum_pdb_str(single_mutated_pdb_str, Ls=lengths)\n",
        "        # Save the renumbered PDB string to a file for alignment\n",
        "        with open(single_mutated_pdb_file, \"w\") as out:\n",
        "             out.write(single_mutated_pdb_str)\n",
        "\n",
        "\n",
        "        # Align to reference and calculate RMSD (using the function from c51BDdsXe68l)\n",
        "        aligned_file_single, single_mutated_rmsd_val = align_pred_to_ref(single_mutated_pdb_str, \"reference.pdb\", out_file=f\"{ID}_aligned.pdb\")\n",
        "\n",
        "\n",
        "        # Convert RMSD to similarity score (using the function from c51BDdsXe68l)\n",
        "        single_mutated_pred_sim_score = rmsd_to_similarity(single_mutated_rmsd_val)\n",
        "\n",
        "        # Calculate mutation score (using the function from z3HeD2V8epVW)\n",
        "        single_current_mutation_score = mutation_score(original_seq, single_mutated_dna_seq)\n",
        "\n",
        "        # Calculate total score\n",
        "        single_current_total_score = single_current_mutation_score * single_mutated_pred_sim_score\n",
        "\n",
        "        # Store scores for ALL tried sequences\n",
        "        all_iterations.append(completed_iters + 1)\n",
        "        all_mutation_scores.append(single_current_mutation_score)\n",
        "        all_sim_scores.append(single_mutated_pred_sim_score)\n",
        "        all_total_scores.append(single_current_total_score)\n",
        "\n",
        "        # Print trial sequence and total score\n",
        "        print(f\"Iteration {completed_iters + 1}: Trial Sequence: {single_mutated_protein_seq}, Total Score: {single_current_total_score:.3f}\")\n",
        "\n",
        "        # Acceptance criteria: accept if total score improves or prediction is very similar\n",
        "        if single_current_total_score > best_total_score or single_mutated_pred_sim_score > 0.9:\n",
        "            best_total_score = single_current_total_score\n",
        "            best_dna_sequence = single_mutated_dna_seq\n",
        "            best_protein_sequence = single_mutated_protein_seq\n",
        "\n",
        "            # Store scores for ACCEPTED sequences\n",
        "            accepted_iterations.append(completed_iters + 1)\n",
        "            accepted_mutation_scores.append(single_current_mutation_score)\n",
        "            accepted_sim_scores.append(single_mutated_pred_sim_score)\n",
        "            accepted_total_scores.append(single_current_total_score)\n",
        "\n",
        "            #print(f\"  Accepted mutation. New best total score: {best_total_score:.3f}\")\n",
        "\n",
        "        completed_iters += 1\n",
        "\n",
        "        # Save history\n",
        "        if save_history:\n",
        "            history = {\n",
        "                'best_dna_sequence': best_dna_sequence,\n",
        "                'best_protein_sequence': best_protein_sequence,\n",
        "                'best_total_score': best_total_score,\n",
        "                'accepted_mutation_scores': accepted_mutation_scores,\n",
        "                'accepted_sim_scores': accepted_sim_scores,\n",
        "                'accepted_total_scores': accepted_total_scores,\n",
        "                'accepted_iterations': accepted_iterations,\n",
        "                'all_mutation_scores': all_mutation_scores,\n",
        "                'all_sim_scores': all_sim_scores,\n",
        "                'all_total_scores': all_total_scores,\n",
        "                'all_iterations': all_iterations,\n",
        "                'all_tried_protein_sequences': all_tried_protein_sequences,\n",
        "                'completed_iters': completed_iters\n",
        "            }\n",
        "            with open(history_filename, 'wb') as f:\n",
        "                pickle.dump(history, f)\n",
        "            # Also save as .npy for easier access (optional)\n",
        "            np.save(history_filename.replace('.pkl', '.npy'), history)\n",
        "\n",
        "\n",
        "    except Exception as e:\n",
        "        print(f\"Iteration {completed_iters + 1}: Error processing mutation: {e}. Skipping.\")\n",
        "        completed_iters += 1 # Increment even if error occurs to avoid infinite loops if errors persist\n",
        "        continue # Continue to the next iteration if an error occurs\n",
        "\n",
        "print(\"\\nIterative mutation process complete.\")\n",
        "print(f\"Best Mutated DNA Sequence: {best_dna_sequence}\")\n",
        "print(f\"Best Mutated Protein Sequence: {best_protein_sequence}\")\n",
        "# Recalculate final scores for the best sequence\n",
        "best_mutation_score = mutation_score(original_seq, best_dna_sequence)\n",
        "# To get the final RMSD and prediction similarity score for the best sequence,\n",
        "# you would need to re-run the prediction and alignment for best_protein_sequence\n",
        "# or store these values when the best sequence is updated.\n",
        "# For simplicity, we'll just report the best total score found.\n",
        "print(f\"Best Total Score Found: {best_total_score:.3f}\")\n",
        "print(f\"Total number of tried protein sequences: {len(all_tried_protein_sequences)}\")\n",
        "print(f\"Total number of accepted mutations: {len(accepted_total_scores)}\")"
      ],
      "metadata": {
        "cellView": "form",
        "id": "kHO4EmWdi9CC",
        "colab": {
          "base_uri": "https://localhost:8080/"
        },
        "outputId": "858558e2-5eb1-4961-a034-736d49a53523",
        "collapsed": true
      },
      "execution_count": 22,
      "outputs": [
        {
          "output_type": "stream",
          "name": "stdout",
          "text": [
            "Iteration 1: Trial Sequence: YKCGLCERSFVEKFALSRHQRVHKN, Total Score: 3.198\n",
            "Iteration 2: Trial Sequence: YKCTLCERSFVEKFALSRHQRVHKN, Total Score: 7.017\n",
            "Iteration 3: Trial Sequence: YKCTLCEDSFVEKFALSRHQRVHKN, Total Score: 10.406\n",
            "Iteration 4: Trial Sequence: YKCTLCEDSFVEKFALSRHYRVHKN, Total Score: 13.078\n",
            "Iteration 5: Trial Sequence: YKCTLCADSFVEKFALSRHYRVHKN, Total Score: 15.580\n",
            "Iteration 6: Trial Sequence: YICTLCADSFVEKFALSRHYRVHKN, Total Score: 16.836\n",
            "Iteration 7: Trial Sequence: YICTLCADSFVEKFALYRHYRVHKN, Total Score: 18.832\n",
            "Iteration 8: Trial Sequence: YACTLCADSFVEKFALYRHYRVHKN, Total Score: 20.931\n",
            "Iteration 9: Trial Sequence: YACTLCAASFVEKFALYRHYRVHKN, Total Score: 19.816\n",
            "Iteration 10: Trial Sequence: YACTLCADSFVEKFALYRHVRVHKN, Total Score: 20.615\n",
            "Iteration 11: Trial Sequence: YACTLCADSFVEKFALYRHYRVRKN, Total Score: 18.047\n",
            "Iteration 12: Trial Sequence: YALTLCADSFVEKFALYRHYRVHKN, Total Score: 0.424\n",
            "Iteration 13: Trial Sequence: YACTLCADSFVEKFALYNHYRVHKN, Total Score: 23.219\n",
            "Iteration 14: Trial Sequence: YACTLCADSFVEKFALYNHYRVHPN, Total Score: 16.654\n",
            "Iteration 15: Trial Sequence: YACTLCADSHVEKFALYNHYRVHKN, Total Score: 25.617\n",
            "Iteration 16: Trial Sequence: YACTLCADSHVEKFALKNHYRVHKN, Total Score: 14.810\n",
            "Iteration 17: Trial Sequence: YACTLCATSHVEKFALYNHYRVHKN, Total Score: 25.556\n",
            "Iteration 18: Trial Sequence: YACHLCADSHVEKFALYNHYRVHKN, Total Score: 25.639\n",
            "Iteration 19: Trial Sequence: YACHLCADSHVKKFALYNHYRVHKN, Total Score: 28.861\n",
            "Iteration 20: Trial Sequence: YACHLCADSHVKKFALYNHYRVAKN, Total Score: 2.884\n",
            "Iteration 21: Trial Sequence: YACHLCALSHVKKFALYNHYRVHKN, Total Score: 30.142\n",
            "Iteration 22: Trial Sequence: YACHLCALSHVKKFALYNHLRVHKN, Total Score: 30.174\n",
            "Iteration 23: Trial Sequence: YACHLCALSHVKKFALKNHLRVHKN, Total Score: 31.375\n",
            "Iteration 24: Trial Sequence: YACHLCALSHVKKFALKNHPRVHKN, Total Score: 14.650\n",
            "Iteration 25: Trial Sequence: YACHLCALSHVKKFALTNHLRVHKN, Total Score: 30.608\n",
            "Iteration 26: Trial Sequence: YACHLSALSHVKKFALKNHLRVHKN, Total Score: 0.593\n",
            "Iteration 27: Trial Sequence: YACHLCALSAVKKFALKNHLRVHKN, Total Score: 30.152\n",
            "Iteration 28: Trial Sequence: YACHLCALSHVRKFALKNHLRVHKN, Total Score: 31.332\n",
            "Iteration 29: Trial Sequence: YACHLCALSHSKKFALKNHLRVHKN, Total Score: 34.417\n",
            "Iteration 30: Trial Sequence: YACHLCALSHSKKFALKNHLRNHKN, Total Score: 33.887\n",
            "Iteration 31: Trial Sequence: AACHLCALSHSKKFALKNHLRVHKN, Total Score: 0.985\n",
            "Iteration 32: Trial Sequence: YACHTCALSHSKKFALKNHLRVHKN, Total Score: 34.059\n",
            "Iteration 33: Trial Sequence: YACHLCALSHSKKFALKNHLLVHKN, Total Score: 38.549\n",
            "Iteration 34: Trial Sequence: YALHLCALSHSKKFALKNHLLVHKN, Total Score: 0.867\n",
            "Iteration 35: Trial Sequence: YACHLCALSNSKKFALKNHLLVHKN, Total Score: 35.431\n",
            "Iteration 36: Trial Sequence: YACHLCALSHVKKFALKNHLLVHKN, Total Score: 35.455\n",
            "Iteration 37: Trial Sequence: YACHLCAVSHSKKFALKNHLLVHKN, Total Score: 37.873\n",
            "Iteration 38: Trial Sequence: YACHLCALSHSKKFALPNHLLVHKN, Total Score: 29.910\n",
            "Iteration 39: Trial Sequence: YACHLCALSHSKKFGLKNHLLVHKN, Total Score: 40.714\n",
            "Iteration 40: Trial Sequence: YACHLCALSHSKKFGLKNHLQVHKN, Total Score: 41.268\n",
            "Iteration 41: Trial Sequence: YACHLCALCHSKKFGLKNHLQVHKN, Total Score: 42.093\n",
            "Iteration 42: Trial Sequence: YACHLCALCHSKFFGLKNHLQVHKN, Total Score: 41.103\n",
            "Iteration 43: Trial Sequence: YACHLCALCHEKKFGLKNHLQVHKN, Total Score: 42.332\n",
            "Iteration 44: Trial Sequence: YACHLCALCHEKKIGLKNHLQVHKN, Total Score: 42.742\n",
            "Iteration 45: Trial Sequence: YACHLCAVCHEKKIGLKNHLQVHKN, Total Score: 42.617\n",
            "Iteration 46: Trial Sequence: YACHLCALCHEKKIGLVNHLQVHKN, Total Score: 41.676\n",
            "Iteration 47: Trial Sequence: YACHRCALCHEKKIGLKNHLQVHKN, Total Score: 8.148\n",
            "Iteration 48: Trial Sequence: YACHLCALCHEKGIGLKNHLQVHKN, Total Score: 4.608\n",
            "Iteration 49: Trial Sequence: YACHLCALCHEKKIGLKNHLQPHKN, Total Score: 4.316\n",
            "Iteration 50: Trial Sequence: YACHLCALCHEKKIGLDNHLQVHKN, Total Score: 40.475\n",
            "Iteration 51: Trial Sequence: YACHLCALCHEKKIGLKNRLQVHKN, Total Score: 1.478\n",
            "Iteration 52: Trial Sequence: YACLLCALCHEKKIGLKNHLQVHKN, Total Score: 41.257\n",
            "Iteration 53: Trial Sequence: YACHLCALCHEKKIGLKVHLQVHKN, Total Score: 43.658\n",
            "Iteration 54: Trial Sequence: YACHLCALCHEKKTGLKVHLQVHKN, Total Score: 43.831\n",
            "Iteration 55: Trial Sequence: YACHHCALCHEKKTGLKVHLQVHKN, Total Score: 46.388\n",
            "Iteration 56: Trial Sequence: YACHHTALCHEKKTGLKVHLQVHKN, Total Score: 3.024\n",
            "Iteration 57: Trial Sequence: YACHHCALCHEKKGGLKVHLQVHKN, Total Score: 45.803\n",
            "Iteration 58: Trial Sequence: YAVHHCALCHEKKTGLKVHLQVHKN, Total Score: 4.831\n",
            "Iteration 59: Trial Sequence: YACHHCALCHEKKTGLKVHLQVEKN, Total Score: 29.209\n",
            "Iteration 60: Trial Sequence: YHCHHCALCHEKKTGLKVHLQVHKN, Total Score: 45.878\n",
            "Iteration 61: Trial Sequence: YACHHCALCHEKKTGLKVHLQVHIN, Total Score: 44.438\n",
            "Iteration 62: Trial Sequence: YACHECALCHEKKTGLKVHLQVHKN, Total Score: 43.468\n",
            "Iteration 63: Trial Sequence: YACHHCKLCHEKKTGLKVHLQVHKN, Total Score: 41.771\n",
            "Iteration 64: Trial Sequence: YACHHCAQCHEKKTGLKVHLQVHKN, Total Score: 46.783\n",
            "Iteration 65: Trial Sequence: YVCHHCAQCHEKKTGLKVHLQVHKN, Total Score: 43.105\n",
            "Iteration 66: Trial Sequence: YACHHCAQCHEKPTGLKVHLQVHKN, Total Score: 7.226\n",
            "Iteration 67: Trial Sequence: EACHHCAQCHEKKTGLKVHLQVHKN, Total Score: 9.338\n",
            "Iteration 68: Trial Sequence: YACHHCAQCHEKKTGLKVHSQVHKN, Total Score: 9.615\n",
            "Iteration 69: Trial Sequence: YACHHCAQCHLKKTGLKVHLQVHKN, Total Score: 19.972\n",
            "Iteration 70: Trial Sequence: YACHGCAQCHEKKTGLKVHLQVHKN, Total Score: 4.817\n",
            "Iteration 71: Trial Sequence: YACHHCAQCHKKKTGLKVHLQVHKN, Total Score: 46.043\n",
            "Iteration 72: Trial Sequence: YACHHCAQCHEKKTGLKVHLLVHKN, Total Score: 46.466\n",
            "Iteration 73: Trial Sequence: VACHHCAQCHEKKTGLKVHLQVHKN, Total Score: 8.161\n",
            "Iteration 74: Trial Sequence: YACHHCAQCHEKKGGLKVHLQVHKN, Total Score: 44.916\n",
            "Iteration 75: Trial Sequence: YACHHCAQCHEKKTGLKVHLQAHKN, Total Score: 43.824\n",
            "Iteration 76: Trial Sequence: YACHHCPQCHEKKTGLKVHLQVHKN, Total Score: 46.963\n",
            "Iteration 77: Trial Sequence: YACHHCPQCHEKKTGLKVELQVHKN, Total Score: 4.813\n",
            "Iteration 78: Trial Sequence: YTCHHCPQCHEKKTGLKVHLQVHKN, Total Score: 47.529\n",
            "Iteration 79: Trial Sequence: YTCHHCPQCHEVKTGLKVHLQVHKN, Total Score: 35.764\n",
            "Iteration 80: Trial Sequence: YTCHHCPQCHEKKTGLKVHLQWHKN, Total Score: 45.972\n",
            "Iteration 81: Trial Sequence: YTCHHCPQCHEKKLGLKVHLQVHKN, Total Score: 48.476\n",
            "Iteration 82: Trial Sequence: YTCHHCPQCHIKKLGLKVHLQVHKN, Total Score: 25.060\n",
            "Iteration 83: Trial Sequence: YTCHHNPQCHEKKLGLKVHLQVHKN, Total Score: 3.628\n",
            "Iteration 84: Trial Sequence: YTCEHCPQCHEKKLGLKVHLQVHKN, Total Score: 47.330\n",
            "Iteration 85: Trial Sequence: YTCHHCPQCREKKLGLKVHLQVHKN, Total Score: 15.965\n",
            "Iteration 86: Trial Sequence: YTCHECPQCHEKKLGLKVHLQVHKN, Total Score: 47.518\n",
            "Iteration 87: Trial Sequence: YTCHHCPQCHEKKLGLKVHLQVCKN, Total Score: 16.171\n",
            "Iteration 88: Trial Sequence: YTCHHCPQCHEKKLGLKVHSQVHKN, Total Score: 47.741\n",
            "Iteration 89: Trial Sequence: YTCHVCPQCHEKKLGLKVHLQVHKN, Total Score: 48.102\n",
            "Iteration 90: Trial Sequence: YTCHHCPQCHEKKLGLKVHLAVHKN, Total Score: 46.334\n",
            "Iteration 91: Trial Sequence: YTCHHCPTCHEKKLGLKVHLQVHKN, Total Score: 46.214\n",
            "Iteration 92: Trial Sequence: YTCHHCPQCHEKKLGLKVHGQVHKN, Total Score: 14.622\n",
            "Iteration 93: Trial Sequence: YTCHHCPQCLEKKLGLKVHLQVHKN, Total Score: 22.436\n",
            "Iteration 94: Trial Sequence: YTCHHCPQCHEKKLGLKVHLQVTKN, Total Score: 8.784\n",
            "Iteration 95: Trial Sequence: YTCHHCPQCHEKKLGLKKHLQVHKN, Total Score: 46.995\n",
            "Iteration 96: Trial Sequence: YTCHHCPQCHEKKLGLKEHLQVHKN, Total Score: 19.796\n",
            "Iteration 97: Trial Sequence: YTCHHCPWCHEKKLGLKVHLQVHKN, Total Score: 45.766\n",
            "Iteration 98: Trial Sequence: YTCHHCPQCHEKKRGLKVHLQVHKN, Total Score: 48.336\n",
            "Iteration 99: Trial Sequence: YTCHHCPQCHEKKLGLKVHLQRHKN, Total Score: 48.467\n",
            "Iteration 100: Trial Sequence: YTCHHCPQCHEKKEGLKVHLQVHKN, Total Score: 48.497\n",
            "Iteration 101: Trial Sequence: YTCHHCPQCHEKKEGLKVHLQVHPN, Total Score: 13.924\n",
            "Iteration 102: Trial Sequence: YTCHHCPQNHEKKEGLKVHLQVHKN, Total Score: 48.277\n",
            "Iteration 103: Trial Sequence: YTCHCCPQCHEKKEGLKVHLQVHKN, Total Score: 47.750\n",
            "Iteration 104: Trial Sequence: YTCHHCPQCHEKKEGLKVHLQVHDN, Total Score: 50.666\n",
            "Iteration 105: Trial Sequence: YTCHHCPQCHEKKEGLKVSLQVHDN, Total Score: 6.655\n",
            "Iteration 106: Trial Sequence: YTCHHCPQCHEKKEGLSVHLQVHDN, Total Score: 44.196\n",
            "Iteration 107: Trial Sequence: YTCHHCPQCHEKKEGLKVHLQCHDN, Total Score: 49.377\n",
            "Iteration 108: Trial Sequence: YTCHHCPQCHEKKEGLQVHLQVHDN, Total Score: 48.318\n",
            "Iteration 109: Trial Sequence: YTCHHCPQCHEKSEGLKVHLQVHDN, Total Score: 42.596\n",
            "Iteration 110: Trial Sequence: YYCHHCPQCHEKKEGLKVHLQVHDN, Total Score: 49.996\n",
            "Iteration 111: Trial Sequence: YTCHHCPQCHEKKEGLKVTLQVHDN, Total Score: 0.764\n",
            "Iteration 112: Trial Sequence: YTCHHDPQCHEKKEGLKVHLQVHDN, Total Score: 1.344\n",
            "Iteration 113: Trial Sequence: YTCHHCPQCHEKKEGLKVHLQWHDN, Total Score: 48.084\n",
            "Iteration 114: Trial Sequence: YTCHHCPQCWEKKEGLKVHLQVHDN, Total Score: 47.940\n",
            "Iteration 115: Trial Sequence: YTCHHCPQCHEKKEGLKVHLQVYDN, Total Score: 15.670\n",
            "Iteration 116: Trial Sequence: YTCHHCPQCHEKKEGLKVHLRVHDN, Total Score: 48.839\n",
            "Iteration 117: Trial Sequence: YTCHHCPQCHEKKEGLKVHSQVHDN, Total Score: 51.600\n",
            "Iteration 118: Trial Sequence: YTCHHCPQCHVKKEGLKVHSQVHDN, Total Score: 24.852\n",
            "Iteration 119: Trial Sequence: YTCSHCPQCHEKKEGLKVHSQVHDN, Total Score: 51.147\n",
            "Iteration 120: Trial Sequence: YTCHHCPQCHEKYEGLKVHSQVHDN, Total Score: 27.064\n",
            "Iteration 121: Trial Sequence: YTCHHCLQCHEKKEGLKVHSQVHDN, Total Score: 46.898\n",
            "Iteration 122: Trial Sequence: YTCHHCPQCHEKKEGLKLHSQVHDN, Total Score: 51.621\n",
            "Iteration 123: Trial Sequence: ETCHHCPQCHEKKEGLKLHSQVHDN, Total Score: 11.223\n",
            "Iteration 124: Trial Sequence: YTCHHCPLCHEKKEGLKLHSQVHDN, Total Score: 49.516\n",
            "Iteration 125: Trial Sequence: YTCHHCPQCHEKKPGLKLHSQVHDN, Total Score: 13.254\n",
            "Iteration 126: Trial Sequence: YTCHHCPQCHEKKEGLKLHSQSHDN, Total Score: 51.139\n",
            "Iteration 127: Trial Sequence: YTCHHHPQCHEKKEGLKLHSQVHDN, Total Score: 10.314\n",
            "Iteration 128: Trial Sequence: YTCHHCPHCHEKKEGLKLHSQVHDN, Total Score: 50.946\n",
            "Iteration 129: Trial Sequence: YTCHHWPQCHEKKEGLKLHSQVHDN, Total Score: 5.488\n",
            "Iteration 130: Trial Sequence: YTCHHCPQCHEKKSGLKLHSQVHDN, Total Score: 49.019\n",
            "Iteration 131: Trial Sequence: YTCHHCPQCHEKKEGLWLHSQVHDN, Total Score: 49.108\n",
            "Iteration 132: Trial Sequence: YTCHHCKQCHEKKEGLKLHSQVHDN, Total Score: 46.500\n",
            "Iteration 133: Trial Sequence: YTCAHCPQCHEKKEGLKLHSQVHDN, Total Score: 50.620\n",
            "Iteration 134: Trial Sequence: YTCHHCPQAHEKKEGLKLHSQVHDN, Total Score: 52.401\n",
            "Iteration 135: Trial Sequence: YTCHHCPQAHEKKEGLKLHSQVPDN, Total Score: 1.961\n",
            "Iteration 136: Trial Sequence: YTCHHCPQAHESKEGLKLHSQVHDN, Total Score: 52.045\n",
            "Iteration 137: Trial Sequence: GTCHHCPQAHEKKEGLKLHSQVHDN, Total Score: 15.148\n",
            "Iteration 138: Trial Sequence: YTCHHCPQAREKKEGLKLHSQVHDN, Total Score: 42.483\n",
            "Iteration 139: Trial Sequence: YTCHHCPQAHEKKEGLKLHSQPHDN, Total Score: 12.394\n",
            "Iteration 140: Trial Sequence: YTCHHCPLAHEKKEGLKLHSQVHDN, Total Score: 50.100\n",
            "Iteration 141: Trial Sequence: YTCHHCPQAHEKKEGLKLHSQIHDN, Total Score: 54.450\n",
            "Iteration 142: Trial Sequence: ATCHHCPQAHEKKEGLKLHSQIHDN, Total Score: 21.033\n",
            "Iteration 143: Trial Sequence: YTCHHCPQAHEKKEGLKLHSQEHDN, Total Score: 51.149\n",
            "Iteration 144: Trial Sequence: YTCHGCPQAHEKKEGLKLHSQIHDN, Total Score: 40.737\n",
            "Iteration 145: Trial Sequence: YTCHHCPQAHEKKEGSKLHSQIHDN, Total Score: 17.080\n",
            "Iteration 146: Trial Sequence: YTCHHCPQAHEKKIGLKLHSQIHDN, Total Score: 53.975\n",
            "Iteration 147: Trial Sequence: YTCHHCPQAHEKKEGLKLLSQIHDN, Total Score: 1.374\n",
            "Iteration 148: Trial Sequence: YTCHHCPQAHEKKEGLKLHGQIHDN, Total Score: 54.873\n",
            "Iteration 149: Trial Sequence: YTCHHCLQAHEKKEGLKLHGQIHDN, Total Score: 48.785\n",
            "Iteration 150: Trial Sequence: YTCHHCPQAHEKKEVLKLHGQIHDN, Total Score: 54.857\n",
            "Iteration 151: Trial Sequence: CTCHHCPQAHEKKEGLKLHGQIHDN, Total Score: 6.149\n",
            "Iteration 152: Trial Sequence: YTCHHCPQAHEKKEGLKLVGQIHDN, Total Score: 2.237\n",
            "Iteration 153: Trial Sequence: YTCHHCPFAHEKKEGLKLHGQIHDN, Total Score: 51.980\n",
            "Iteration 154: Trial Sequence: YTCHHCPQASEKKEGLKLHGQIHDN, Total Score: 27.822\n",
            "Iteration 155: Trial Sequence: YTCHHCPQAHEKKRGLKLHGQIHDN, Total Score: 56.132\n",
            "Iteration 156: Trial Sequence: YTCHHCPQAHEKKRGLKLGGQIHDN, Total Score: 0.656\n",
            "Iteration 157: Trial Sequence: YTCHHCPQALEKKRGLKLHGQIHDN, Total Score: 47.407\n",
            "Iteration 158: Trial Sequence: YTCHHCPQAFEKKRGLKLHGQIHDN, Total Score: 53.347\n",
            "Iteration 159: Trial Sequence: YTCHHCPQAFEKKRGLKLHGPIHDN, Total Score: 47.229\n",
            "Iteration 160: Trial Sequence: YTCHHCPQSFEKKRGLKLHGQIHDN, Total Score: 51.341\n",
            "Iteration 161: Trial Sequence: YTCHHCPQSFEKKRGLKLHGQILDN, Total Score: 44.503\n",
            "Iteration 162: Trial Sequence: YMCHHCPQSFEKKRGLKLHGQIHDN, Total Score: 51.229\n",
            "Iteration 163: Trial Sequence: YMCHHCPQSFEKKRGLKLHYQIHDN, Total Score: 50.316\n",
            "Iteration 164: Trial Sequence: YMCHHCPQTFEKKRGLKLHGQIHDN, Total Score: 52.500\n",
            "Iteration 165: Trial Sequence: YMCHHCPQTFEKKRGLDLHGQIHDN, Total Score: 51.881\n",
            "Iteration 166: Trial Sequence: YMCHHCPQTFEKKRGLKLHGQIHEN, Total Score: 51.336\n",
            "Iteration 167: Trial Sequence: YMCHHCPQTFENKRGLKLHGQIHDN, Total Score: 52.436\n",
            "Iteration 168: Trial Sequence: YMCHHCPQTFESKRGLKLHGQIHDN, Total Score: 53.255\n",
            "Iteration 169: Trial Sequence: SMCHHCPQTFESKRGLKLHGQIHDN, Total Score: 53.622\n",
            "Iteration 170: Trial Sequence: SMCHHCPQTFESKRGLNLHGQIHDN, Total Score: 51.866\n",
            "Iteration 171: Trial Sequence: SMCVHCPQTFESKRGLKLHGQIHDN, Total Score: 52.695\n",
            "Iteration 172: Trial Sequence: SMCFHCPQTFESKRGLKLHGQIHDN, Total Score: 53.223\n",
            "Iteration 173: Trial Sequence: SMPHHCPQTFESKRGLKLHGQIHDN, Total Score: 4.226\n",
            "Iteration 174: Trial Sequence: SMCHHCPQTFESKRGLKLHGLIHDN, Total Score: 53.329\n",
            "Iteration 175: Trial Sequence: SMCHHCPQTKESKRGLKLHGQIHDN, Total Score: 18.884\n",
            "Iteration 176: Trial Sequence: CMCHHCPQTFESKRGLKLHGQIHDN, Total Score: 54.550\n",
            "Iteration 177: Trial Sequence: CMCSHCPQTFESKRGLKLHGQIHDN, Total Score: 53.303\n",
            "Iteration 178: Trial Sequence: CMCHHCPQTFESKRGLALHGQIHDN, Total Score: 51.630\n",
            "Iteration 179: Trial Sequence: CMCHHCPQTFESKRGLKLHGGIHDN, Total Score: 52.402\n",
            "Iteration 180: Trial Sequence: CMCHHCPQTFESKRGLKLHGQVHDN, Total Score: 52.049\n",
            "Iteration 181: Trial Sequence: CMCHHCPQTFESKRGLKLHGQIIDN, Total Score: 45.248\n",
            "Iteration 182: Trial Sequence: CMCHHCPPTFESKRGLKLHGQIHDN, Total Score: 20.380\n",
            "Iteration 183: Trial Sequence: DMCHHCPQTFESKRGLKLHGQIHDN, Total Score: 52.382\n",
            "Iteration 184: Trial Sequence: CMCHHCPQTFESKRGLKIHGQIHDN, Total Score: 54.822\n",
            "Iteration 185: Trial Sequence: CMCHHCAQTFESKRGLKIHGQIHDN, Total Score: 49.286\n",
            "Iteration 186: Trial Sequence: CMCHHCPQTFESKRGLKIHGQIHMN, Total Score: 54.912\n",
            "Iteration 187: Trial Sequence: CMCHHCPQTFESKRGTKIHGQIHMN, Total Score: 29.093\n",
            "Iteration 188: Trial Sequence: LMCHHCPQTFESKRGLKIHGQIHMN, Total Score: 55.051\n",
            "Iteration 189: Trial Sequence: LMCHHCPQEFESKRGLKIHGQIHMN, Total Score: 55.408\n",
            "Iteration 190: Trial Sequence: LMCHHCPQEFESKRGLKIHGQIPMN, Total Score: 30.177\n",
            "Iteration 191: Trial Sequence: LMCHHCHQEFESKRGLKIHGQIHMN, Total Score: 49.531\n",
            "Iteration 192: Trial Sequence: LMCHHCPQEFESKRRLKIHGQIHMN, Total Score: 56.195\n",
            "Iteration 193: Trial Sequence: LMCHHCPQEFESKRRLKIHGQICMN, Total Score: 31.986\n",
            "Iteration 194: Trial Sequence: LMCHHCPQEFESKRRLKIHGQINMN, Total Score: 0.671\n",
            "Iteration 195: Trial Sequence: LMCHHCPQEFESKRRLKIHGQWHMN, Total Score: 49.889\n",
            "Iteration 196: Trial Sequence: LMCHHCPQEFESERRLKIHGQIHMN, Total Score: 58.703\n",
            "Iteration 197: Trial Sequence: LMCHHCPQEIESERRLKIHGQIHMN, Total Score: 53.042\n",
            "Iteration 198: Trial Sequence: LMCHVCPQEFESERRLKIHGQIHMN, Total Score: 58.407\n",
            "Iteration 199: Trial Sequence: LMCHHCPQEFESERRLKIHVQIHMN, Total Score: 52.508\n",
            "Iteration 200: Trial Sequence: LMCHHCPQEFESERRLKIHGIIHMN, Total Score: 57.919\n",
            "\n",
            "Iterative mutation process complete.\n",
            "Best Mutated DNA Sequence: CTCATGTGCCACCATTGCCCGCAAGAATTTGAATCGGAAAGGCGACTTAAGATCCACGGACAAATACACATGAAT\n",
            "Best Mutated Protein Sequence: LMCHHCPQEFESERRLKIHGQIHMN\n",
            "Best Total Score Found: 58.703\n",
            "Total number of tried protein sequences: 201\n",
            "Total number of accepted mutations: 51\n"
          ]
        }
      ]
    },
    {
      "cell_type": "code",
      "metadata": {
        "colab": {
          "base_uri": "https://localhost:8080/",
          "height": 1000
        },
        "collapsed": true,
        "id": "1749ea61",
        "outputId": "b79d1068-ed91-48d3-9ce2-27e0bed16b21",
        "cellView": "form"
      },
      "source": [
        "#@title Print full mutation history\n",
        "\n",
        "from IPython.display import display, HTML\n",
        "import numpy as np\n",
        "\n",
        "# Assuming the history dictionary is loaded from the previous cell\n",
        "# history = np.load(history_filename.replace('.pkl', '.npy'), allow_pickle=True).item()\n",
        "\n",
        "all_iterations = history['all_iterations']\n",
        "all_total_scores = history['all_total_scores']\n",
        "all_tried_protein_sequences = history['all_tried_protein_sequences'] # These are already protein sequences\n",
        "\n",
        "accepted_iterations = history['accepted_iterations']\n",
        "accepted_total_scores = history['accepted_total_scores']\n",
        "\n",
        "\n",
        "# Function to format text with color and bold\n",
        "def colored_text(text, color):\n",
        "    return f\"<span style='color:{color};font-weight:bold'>{text}</span>\"\n",
        "\n",
        "def highlight_mutation(original_seq, mutated_seq, color):\n",
        "    \"\"\"Highlights the first different character in mutated_seq with the specified color and bold.\"\"\"\n",
        "    highlighted_seq = []\n",
        "    found_mutation = False\n",
        "    for i in range(len(original_seq)):\n",
        "        # Ensure we don't go out of bounds if sequences have different lengths\n",
        "        if i < len(mutated_seq):\n",
        "            # Check if the characters are different AND we haven't found the first mutation yet\n",
        "            if original_seq[i] != mutated_seq[i] and not found_mutation:\n",
        "                highlighted_seq.append(colored_text(mutated_seq[i], color))\n",
        "                found_mutation = True\n",
        "            else:\n",
        "                highlighted_seq.append(mutated_seq[i])\n",
        "        # If mutated_seq is shorter, just append the rest of the original (shouldn't happen with current logic)\n",
        "        # else:\n",
        "        #    highlighted_seq.append(original_seq[i])\n",
        "\n",
        "\n",
        "    return \"\".join(highlighted_seq)\n",
        "\n",
        "\n",
        "print(\"Mutation History:\")\n",
        "\n",
        "# Initialize best score from history or -1 if history is empty\n",
        "best_score_so_far = history['best_total_score'] if 'best_total_score' in history else -1\n",
        "\n",
        "# Keep track of the last accepted protein sequence\n",
        "last_accepted_protein_sequence = history['all_tried_protein_sequences'][0] # Start with the original sequence\n",
        "\n",
        "\n",
        "# Iterate through all tried sequences starting from the second one (index 1)\n",
        "for i in range(len(all_iterations)): # Iterate through all iterations (which correspond to trials after the first)\n",
        "    iteration = all_iterations[i]\n",
        "    current_protein_sequence = all_tried_protein_sequences[i+1] # Trial sequences are at index i+1\n",
        "\n",
        "    # The total score for the current sequence is in all_total_scores at index i\n",
        "    total_score = all_total_scores[i]\n",
        "\n",
        "\n",
        "    # Determine the color for highlighting the mutated amino acid\n",
        "    highlight_color = 'red'  # Default color for rejected\n",
        "    is_accepted = all_iterations[i] in accepted_iterations\n",
        "    if is_accepted:\n",
        "        highlight_color = 'blue'\n",
        "        # Note: The comparison for highlighting is still against the *last accepted* sequence\n",
        "        # even if the current one is now the new *last accepted*. This shows the change\n",
        "        # from the previous accepted state.\n",
        "\n",
        "\n",
        "    # Highlight the mutated amino acid by comparing to the LAST ACCEPTED sequence\n",
        "    highlighted_sequence = highlight_mutation(last_accepted_protein_sequence, current_protein_sequence, highlight_color)\n",
        "\n",
        "    # Update the last accepted sequence *after* highlighting if the current one was accepted\n",
        "    if is_accepted:\n",
        "         last_accepted_protein_sequence = current_protein_sequence\n",
        "\n",
        "\n",
        "    score_text = f\"Total Score: {total_score:.3f}\"\n",
        "    # Color the score text blue if accepted, green if a new best score, otherwise uncolored.\n",
        "    if is_accepted:\n",
        "        score_text = colored_text(score_text, 'blue')\n",
        "    # Check against the overall best score found so far, not just the last accepted score\n",
        "    if total_score > best_score_so_far:\n",
        "        score_text = colored_text(score_text, 'blue') # New best score takes precedence for coloring\n",
        "        best_score_so_far = total_score # Update best score for comparison\n",
        "\n",
        "\n",
        "    output_line = f\"Iteration {iteration}: Trial Sequence: {highlighted_sequence}, {score_text}\"\n",
        "\n",
        "    # Display the line without coloring the entire line\n",
        "    display(HTML(f\"<pre style='font-family:monospace'>{output_line}</pre>\"))\n",
        "\n",
        "\n",
        "print(\"\\nHistory printing complete.\")\n",
        "\n",
        "print(\"\\nComparison: Original Sequence vs Best Found Sequence\")\n",
        "# Assuming original_seq (DNA) and best_protein_sequence (Protein) are available\n",
        "# Need to translate original_seq to protein for comparison\n",
        "original_protein_seq = str(Bio.Seq.Seq(original_seq).translate(to_stop=False))\n",
        "best_protein_sequence = history['best_protein_sequence']\n",
        "\n",
        "# Use the compare_sequences function from cell z3HeD2V8epVW\n",
        "# Need to ensure compare_sequences is defined in the environment or copied here\n",
        "# Assuming it's defined globally or in a preceding cell that has been run\n",
        "\n",
        "# To use compare_sequences with protein sequences, we need to adapt it slightly\n",
        "# or call it with appropriate parameters. The original compare_sequences is designed\n",
        "# for DNA with spaces every 10 or codons every 3. For protein, we might just want\n",
        "# to show the sequences and highlight differences.\n",
        "# Let's create a simple comparison display for protein sequences\n",
        "def codon_distance(codon1, codon2):\n",
        "    \"\"\"\n",
        "    Calculate the Hamming distance between two codons.\n",
        "    \"\"\"\n",
        "    return sum(c1 != c2 for c1, c2 in zip(codon1, codon2))\n",
        "\n",
        "def codon_optimize(ori_dna_seq, dna_seq):\n",
        "    num_codons = len(dna_seq) // 3\n",
        "    opti_mutated_dna_seq_list = list(dna_seq)\n",
        "    for pos in range(num_codons):\n",
        "            # Look for synonymous codons that score higher\n",
        "            mutated_codon = \"\".join(opti_mutated_dna_seq_list[pos*3:pos*3+3]) # Get codon from list\n",
        "            original_codon = ori_dna_seq[pos*3:pos*3+3] # Original codon (string)\n",
        "\n",
        "            # Handle potential issues if codon not in table (though unlikely with A,T,C,G input)\n",
        "            if mutated_codon not in codon_table:\n",
        "                continue\n",
        "\n",
        "            mutated_aa = codon_table[mutated_codon]\n",
        "            d = 0\n",
        "            best_codon = mutated_codon\n",
        "            for codon, aa in codon_table.items():\n",
        "                if aa == mutated_aa:\n",
        "                    d_c = codon_distance(codon, mutated_codon)\n",
        "                    if d_c > d:\n",
        "                        d = d_c\n",
        "                        best_codon = codon\n",
        "\n",
        "            # Apply the best codon (if a better one exists) to the optimized list\n",
        "            if best_codon != mutated_codon:\n",
        "                opti_mutated_dna_seq_list[pos*3:pos*3+3] = list(best_codon)\n",
        "\n",
        "    return \"\".join(opti_mutated_dna_seq_list) # Return string\n",
        "\n",
        "def compare_protein_sequences_display(seq1, seq2):\n",
        "    \"\"\"\n",
        "    Display two protein sequences, highlight differences in bold red.\n",
        "    \"\"\"\n",
        "    if len(seq1) != len(seq2):\n",
        "        print(\"Warning: Sequences have different lengths and cannot be compared directly.\")\n",
        "        print(f\"Original: {seq1}\")\n",
        "        print(f\"Best:     {seq2}\")\n",
        "        return\n",
        "\n",
        "    highlighted_seq1 = []\n",
        "    highlighted_seq2 = []\n",
        "    for i in range(len(seq1)):\n",
        "        if seq1[i] != seq2[i]:\n",
        "            highlighted_seq1.append(seq1[i])\n",
        "            highlighted_seq2.append(colored_text(seq2[i], 'red'))\n",
        "        else:\n",
        "            highlighted_seq1.append(seq1[i])\n",
        "            highlighted_seq2.append(seq2[i])\n",
        "\n",
        "    display(HTML(f\"<pre style='font-family:monospace'>Original Protein: {\"\".join(highlighted_seq1)}</pre>\"))\n",
        "    display(HTML(f\"<pre style='font-family:monospace'>Best Protein:     {\"\".join(highlighted_seq2)}</pre>\"))\n",
        "\n",
        "# Add a function to compare DNA sequences with codon highlighting\n",
        "def compare_dna_sequences_display(seq1, seq2, codon_table):\n",
        "    \"\"\"\n",
        "    Display two DNA sequences, highlight different codons in bold red.\n",
        "    Assumes sequences are divisible by 3.\n",
        "    \"\"\"\n",
        "    if len(seq1) != len(seq2) or len(seq1) % 3 != 0:\n",
        "        print(\"Warning: DNA sequences must be the same length and divisible by 3.\")\n",
        "        return\n",
        "\n",
        "    highlighted_seq1 = []\n",
        "    highlighted_seq2 = []\n",
        "    for i in range(0, len(seq1), 3):\n",
        "        codon1 = seq1[i:i+3]\n",
        "        codon2 = seq2[i:i+3]\n",
        "        if codon1 != codon2:\n",
        "            highlighted_seq1.append(codon1)\n",
        "            highlighted_seq2.append(colored_text(codon2, 'red'))\n",
        "        else:\n",
        "            highlighted_seq1.append(codon1)\n",
        "            highlighted_seq2.append(codon2)\n",
        "        if i + 3 < len(seq1):\n",
        "            highlighted_seq1.append(\" \")\n",
        "            highlighted_seq2.append(\" \")\n",
        "\n",
        "    display(HTML(f\"<pre style='font-family:monospace'>Original DNA: {\"\".join(highlighted_seq1)}</pre>\"))\n",
        "    display(HTML(f\"<pre style='font-family:monospace'>Best DNA:     {\"\".join(highlighted_seq2)}</pre>\"))\n",
        "\n",
        "\n",
        "compare_protein_sequences_display(original_protein_seq, best_protein_sequence)\n",
        "compare_dna_sequences_display(original_seq.replace(\" \", \"\"), best_dna_sequence, codon_table) # Pass codon_table\n",
        "\n",
        "opti_best_dna = codon_optimize(original_seq.replace(\" \", \"\"),best_dna_sequence)\n",
        "_,t_d = translate_dna(best_dna_sequence)\n",
        "_,t_o = translate_dna(opti_best_dna)\n",
        "if t_d != t_o:\n",
        "    print(\"bad optimization:\")\n",
        "    print(t_d)\n",
        "    print(t_o)\n",
        "else:\n",
        "    print(\"\\nOptimized Best DNA Sequence:\")\n",
        "    compare_dna_sequences_display(original_seq.replace(\" \", \"\"), opti_best_dna, codon_table)\n",
        "    pass\n",
        "\n",
        "print(f\"\\n(Protein identity is {protein_identity(original_seq.replace(' ', ''), best_dna_sequence):.1f}%)\")"
      ],
      "execution_count": 23,
      "outputs": [
        {
          "output_type": "stream",
          "name": "stdout",
          "text": [
            "Mutation History:\n"
          ]
        },
        {
          "output_type": "display_data",
          "data": {
            "text/plain": [
              "<IPython.core.display.HTML object>"
            ],
            "text/html": [
              "<pre style='font-family:monospace'>Iteration 1: Trial Sequence: YKCGLCERSFVEK<span style='color:blue;font-weight:bold'>F</span>ALSRHQRVHKN, <span style='color:blue;font-weight:bold'>Total Score: 3.198</span></pre>"
            ]
          },
          "metadata": {}
        },
        {
          "output_type": "display_data",
          "data": {
            "text/plain": [
              "<IPython.core.display.HTML object>"
            ],
            "text/html": [
              "<pre style='font-family:monospace'>Iteration 2: Trial Sequence: YKC<span style='color:blue;font-weight:bold'>T</span>LCERSFVEKFALSRHQRVHKN, <span style='color:blue;font-weight:bold'>Total Score: 7.017</span></pre>"
            ]
          },
          "metadata": {}
        },
        {
          "output_type": "display_data",
          "data": {
            "text/plain": [
              "<IPython.core.display.HTML object>"
            ],
            "text/html": [
              "<pre style='font-family:monospace'>Iteration 3: Trial Sequence: YKCTLCE<span style='color:blue;font-weight:bold'>D</span>SFVEKFALSRHQRVHKN, <span style='color:blue;font-weight:bold'>Total Score: 10.406</span></pre>"
            ]
          },
          "metadata": {}
        },
        {
          "output_type": "display_data",
          "data": {
            "text/plain": [
              "<IPython.core.display.HTML object>"
            ],
            "text/html": [
              "<pre style='font-family:monospace'>Iteration 4: Trial Sequence: YKCTLCEDSFVEKFALSRH<span style='color:blue;font-weight:bold'>Y</span>RVHKN, <span style='color:blue;font-weight:bold'>Total Score: 13.078</span></pre>"
            ]
          },
          "metadata": {}
        },
        {
          "output_type": "display_data",
          "data": {
            "text/plain": [
              "<IPython.core.display.HTML object>"
            ],
            "text/html": [
              "<pre style='font-family:monospace'>Iteration 5: Trial Sequence: YKCTLC<span style='color:blue;font-weight:bold'>A</span>DSFVEKFALSRHYRVHKN, <span style='color:blue;font-weight:bold'>Total Score: 15.580</span></pre>"
            ]
          },
          "metadata": {}
        },
        {
          "output_type": "display_data",
          "data": {
            "text/plain": [
              "<IPython.core.display.HTML object>"
            ],
            "text/html": [
              "<pre style='font-family:monospace'>Iteration 6: Trial Sequence: Y<span style='color:blue;font-weight:bold'>I</span>CTLCADSFVEKFALSRHYRVHKN, <span style='color:blue;font-weight:bold'>Total Score: 16.836</span></pre>"
            ]
          },
          "metadata": {}
        },
        {
          "output_type": "display_data",
          "data": {
            "text/plain": [
              "<IPython.core.display.HTML object>"
            ],
            "text/html": [
              "<pre style='font-family:monospace'>Iteration 7: Trial Sequence: YICTLCADSFVEKFAL<span style='color:blue;font-weight:bold'>Y</span>RHYRVHKN, <span style='color:blue;font-weight:bold'>Total Score: 18.832</span></pre>"
            ]
          },
          "metadata": {}
        },
        {
          "output_type": "display_data",
          "data": {
            "text/plain": [
              "<IPython.core.display.HTML object>"
            ],
            "text/html": [
              "<pre style='font-family:monospace'>Iteration 8: Trial Sequence: Y<span style='color:blue;font-weight:bold'>A</span>CTLCADSFVEKFALYRHYRVHKN, <span style='color:blue;font-weight:bold'>Total Score: 20.931</span></pre>"
            ]
          },
          "metadata": {}
        },
        {
          "output_type": "display_data",
          "data": {
            "text/plain": [
              "<IPython.core.display.HTML object>"
            ],
            "text/html": [
              "<pre style='font-family:monospace'>Iteration 9: Trial Sequence: YACTLCA<span style='color:red;font-weight:bold'>A</span>SFVEKFALYRHYRVHKN, Total Score: 19.816</pre>"
            ]
          },
          "metadata": {}
        },
        {
          "output_type": "display_data",
          "data": {
            "text/plain": [
              "<IPython.core.display.HTML object>"
            ],
            "text/html": [
              "<pre style='font-family:monospace'>Iteration 10: Trial Sequence: YACTLCADSFVEKFALYRH<span style='color:red;font-weight:bold'>V</span>RVHKN, Total Score: 20.615</pre>"
            ]
          },
          "metadata": {}
        },
        {
          "output_type": "display_data",
          "data": {
            "text/plain": [
              "<IPython.core.display.HTML object>"
            ],
            "text/html": [
              "<pre style='font-family:monospace'>Iteration 11: Trial Sequence: YACTLCADSFVEKFALYRHYRV<span style='color:red;font-weight:bold'>R</span>KN, Total Score: 18.047</pre>"
            ]
          },
          "metadata": {}
        },
        {
          "output_type": "display_data",
          "data": {
            "text/plain": [
              "<IPython.core.display.HTML object>"
            ],
            "text/html": [
              "<pre style='font-family:monospace'>Iteration 12: Trial Sequence: YA<span style='color:red;font-weight:bold'>L</span>TLCADSFVEKFALYRHYRVHKN, Total Score: 0.424</pre>"
            ]
          },
          "metadata": {}
        },
        {
          "output_type": "display_data",
          "data": {
            "text/plain": [
              "<IPython.core.display.HTML object>"
            ],
            "text/html": [
              "<pre style='font-family:monospace'>Iteration 13: Trial Sequence: YACTLCADSFVEKFALY<span style='color:blue;font-weight:bold'>N</span>HYRVHKN, <span style='color:blue;font-weight:bold'>Total Score: 23.219</span></pre>"
            ]
          },
          "metadata": {}
        },
        {
          "output_type": "display_data",
          "data": {
            "text/plain": [
              "<IPython.core.display.HTML object>"
            ],
            "text/html": [
              "<pre style='font-family:monospace'>Iteration 14: Trial Sequence: YACTLCADSFVEKFALYNHYRVH<span style='color:red;font-weight:bold'>P</span>N, Total Score: 16.654</pre>"
            ]
          },
          "metadata": {}
        },
        {
          "output_type": "display_data",
          "data": {
            "text/plain": [
              "<IPython.core.display.HTML object>"
            ],
            "text/html": [
              "<pre style='font-family:monospace'>Iteration 15: Trial Sequence: YACTLCADS<span style='color:blue;font-weight:bold'>H</span>VEKFALYNHYRVHKN, <span style='color:blue;font-weight:bold'>Total Score: 25.617</span></pre>"
            ]
          },
          "metadata": {}
        },
        {
          "output_type": "display_data",
          "data": {
            "text/plain": [
              "<IPython.core.display.HTML object>"
            ],
            "text/html": [
              "<pre style='font-family:monospace'>Iteration 16: Trial Sequence: YACTLCADSHVEKFAL<span style='color:red;font-weight:bold'>K</span>NHYRVHKN, Total Score: 14.810</pre>"
            ]
          },
          "metadata": {}
        },
        {
          "output_type": "display_data",
          "data": {
            "text/plain": [
              "<IPython.core.display.HTML object>"
            ],
            "text/html": [
              "<pre style='font-family:monospace'>Iteration 17: Trial Sequence: YACTLCA<span style='color:red;font-weight:bold'>T</span>SHVEKFALYNHYRVHKN, Total Score: 25.556</pre>"
            ]
          },
          "metadata": {}
        },
        {
          "output_type": "display_data",
          "data": {
            "text/plain": [
              "<IPython.core.display.HTML object>"
            ],
            "text/html": [
              "<pre style='font-family:monospace'>Iteration 18: Trial Sequence: YAC<span style='color:blue;font-weight:bold'>H</span>LCADSHVEKFALYNHYRVHKN, <span style='color:blue;font-weight:bold'>Total Score: 25.639</span></pre>"
            ]
          },
          "metadata": {}
        },
        {
          "output_type": "display_data",
          "data": {
            "text/plain": [
              "<IPython.core.display.HTML object>"
            ],
            "text/html": [
              "<pre style='font-family:monospace'>Iteration 19: Trial Sequence: YACHLCADSHV<span style='color:blue;font-weight:bold'>K</span>KFALYNHYRVHKN, <span style='color:blue;font-weight:bold'>Total Score: 28.861</span></pre>"
            ]
          },
          "metadata": {}
        },
        {
          "output_type": "display_data",
          "data": {
            "text/plain": [
              "<IPython.core.display.HTML object>"
            ],
            "text/html": [
              "<pre style='font-family:monospace'>Iteration 20: Trial Sequence: YACHLCADSHVKKFALYNHYRV<span style='color:red;font-weight:bold'>A</span>KN, Total Score: 2.884</pre>"
            ]
          },
          "metadata": {}
        },
        {
          "output_type": "display_data",
          "data": {
            "text/plain": [
              "<IPython.core.display.HTML object>"
            ],
            "text/html": [
              "<pre style='font-family:monospace'>Iteration 21: Trial Sequence: YACHLCA<span style='color:blue;font-weight:bold'>L</span>SHVKKFALYNHYRVHKN, <span style='color:blue;font-weight:bold'>Total Score: 30.142</span></pre>"
            ]
          },
          "metadata": {}
        },
        {
          "output_type": "display_data",
          "data": {
            "text/plain": [
              "<IPython.core.display.HTML object>"
            ],
            "text/html": [
              "<pre style='font-family:monospace'>Iteration 22: Trial Sequence: YACHLCALSHVKKFALYNH<span style='color:blue;font-weight:bold'>L</span>RVHKN, <span style='color:blue;font-weight:bold'>Total Score: 30.174</span></pre>"
            ]
          },
          "metadata": {}
        },
        {
          "output_type": "display_data",
          "data": {
            "text/plain": [
              "<IPython.core.display.HTML object>"
            ],
            "text/html": [
              "<pre style='font-family:monospace'>Iteration 23: Trial Sequence: YACHLCALSHVKKFAL<span style='color:blue;font-weight:bold'>K</span>NHLRVHKN, <span style='color:blue;font-weight:bold'>Total Score: 31.375</span></pre>"
            ]
          },
          "metadata": {}
        },
        {
          "output_type": "display_data",
          "data": {
            "text/plain": [
              "<IPython.core.display.HTML object>"
            ],
            "text/html": [
              "<pre style='font-family:monospace'>Iteration 24: Trial Sequence: YACHLCALSHVKKFALKNH<span style='color:red;font-weight:bold'>P</span>RVHKN, Total Score: 14.650</pre>"
            ]
          },
          "metadata": {}
        },
        {
          "output_type": "display_data",
          "data": {
            "text/plain": [
              "<IPython.core.display.HTML object>"
            ],
            "text/html": [
              "<pre style='font-family:monospace'>Iteration 25: Trial Sequence: YACHLCALSHVKKFAL<span style='color:red;font-weight:bold'>T</span>NHLRVHKN, Total Score: 30.608</pre>"
            ]
          },
          "metadata": {}
        },
        {
          "output_type": "display_data",
          "data": {
            "text/plain": [
              "<IPython.core.display.HTML object>"
            ],
            "text/html": [
              "<pre style='font-family:monospace'>Iteration 26: Trial Sequence: YACHL<span style='color:red;font-weight:bold'>S</span>ALSHVKKFALKNHLRVHKN, Total Score: 0.593</pre>"
            ]
          },
          "metadata": {}
        },
        {
          "output_type": "display_data",
          "data": {
            "text/plain": [
              "<IPython.core.display.HTML object>"
            ],
            "text/html": [
              "<pre style='font-family:monospace'>Iteration 27: Trial Sequence: YACHLCALS<span style='color:red;font-weight:bold'>A</span>VKKFALKNHLRVHKN, Total Score: 30.152</pre>"
            ]
          },
          "metadata": {}
        },
        {
          "output_type": "display_data",
          "data": {
            "text/plain": [
              "<IPython.core.display.HTML object>"
            ],
            "text/html": [
              "<pre style='font-family:monospace'>Iteration 28: Trial Sequence: YACHLCALSHV<span style='color:red;font-weight:bold'>R</span>KFALKNHLRVHKN, Total Score: 31.332</pre>"
            ]
          },
          "metadata": {}
        },
        {
          "output_type": "display_data",
          "data": {
            "text/plain": [
              "<IPython.core.display.HTML object>"
            ],
            "text/html": [
              "<pre style='font-family:monospace'>Iteration 29: Trial Sequence: YACHLCALSH<span style='color:blue;font-weight:bold'>S</span>KKFALKNHLRVHKN, <span style='color:blue;font-weight:bold'>Total Score: 34.417</span></pre>"
            ]
          },
          "metadata": {}
        },
        {
          "output_type": "display_data",
          "data": {
            "text/plain": [
              "<IPython.core.display.HTML object>"
            ],
            "text/html": [
              "<pre style='font-family:monospace'>Iteration 30: Trial Sequence: YACHLCALSHSKKFALKNHLR<span style='color:red;font-weight:bold'>N</span>HKN, Total Score: 33.887</pre>"
            ]
          },
          "metadata": {}
        },
        {
          "output_type": "display_data",
          "data": {
            "text/plain": [
              "<IPython.core.display.HTML object>"
            ],
            "text/html": [
              "<pre style='font-family:monospace'>Iteration 31: Trial Sequence: <span style='color:red;font-weight:bold'>A</span>ACHLCALSHSKKFALKNHLRVHKN, Total Score: 0.985</pre>"
            ]
          },
          "metadata": {}
        },
        {
          "output_type": "display_data",
          "data": {
            "text/plain": [
              "<IPython.core.display.HTML object>"
            ],
            "text/html": [
              "<pre style='font-family:monospace'>Iteration 32: Trial Sequence: YACH<span style='color:red;font-weight:bold'>T</span>CALSHSKKFALKNHLRVHKN, Total Score: 34.059</pre>"
            ]
          },
          "metadata": {}
        },
        {
          "output_type": "display_data",
          "data": {
            "text/plain": [
              "<IPython.core.display.HTML object>"
            ],
            "text/html": [
              "<pre style='font-family:monospace'>Iteration 33: Trial Sequence: YACHLCALSHSKKFALKNHL<span style='color:blue;font-weight:bold'>L</span>VHKN, <span style='color:blue;font-weight:bold'>Total Score: 38.549</span></pre>"
            ]
          },
          "metadata": {}
        },
        {
          "output_type": "display_data",
          "data": {
            "text/plain": [
              "<IPython.core.display.HTML object>"
            ],
            "text/html": [
              "<pre style='font-family:monospace'>Iteration 34: Trial Sequence: YA<span style='color:red;font-weight:bold'>L</span>HLCALSHSKKFALKNHLLVHKN, Total Score: 0.867</pre>"
            ]
          },
          "metadata": {}
        },
        {
          "output_type": "display_data",
          "data": {
            "text/plain": [
              "<IPython.core.display.HTML object>"
            ],
            "text/html": [
              "<pre style='font-family:monospace'>Iteration 35: Trial Sequence: YACHLCALS<span style='color:red;font-weight:bold'>N</span>SKKFALKNHLLVHKN, Total Score: 35.431</pre>"
            ]
          },
          "metadata": {}
        },
        {
          "output_type": "display_data",
          "data": {
            "text/plain": [
              "<IPython.core.display.HTML object>"
            ],
            "text/html": [
              "<pre style='font-family:monospace'>Iteration 36: Trial Sequence: YACHLCALSH<span style='color:red;font-weight:bold'>V</span>KKFALKNHLLVHKN, Total Score: 35.455</pre>"
            ]
          },
          "metadata": {}
        },
        {
          "output_type": "display_data",
          "data": {
            "text/plain": [
              "<IPython.core.display.HTML object>"
            ],
            "text/html": [
              "<pre style='font-family:monospace'>Iteration 37: Trial Sequence: YACHLCA<span style='color:red;font-weight:bold'>V</span>SHSKKFALKNHLLVHKN, Total Score: 37.873</pre>"
            ]
          },
          "metadata": {}
        },
        {
          "output_type": "display_data",
          "data": {
            "text/plain": [
              "<IPython.core.display.HTML object>"
            ],
            "text/html": [
              "<pre style='font-family:monospace'>Iteration 38: Trial Sequence: YACHLCALSHSKKFAL<span style='color:red;font-weight:bold'>P</span>NHLLVHKN, Total Score: 29.910</pre>"
            ]
          },
          "metadata": {}
        },
        {
          "output_type": "display_data",
          "data": {
            "text/plain": [
              "<IPython.core.display.HTML object>"
            ],
            "text/html": [
              "<pre style='font-family:monospace'>Iteration 39: Trial Sequence: YACHLCALSHSKKF<span style='color:blue;font-weight:bold'>G</span>LKNHLLVHKN, <span style='color:blue;font-weight:bold'>Total Score: 40.714</span></pre>"
            ]
          },
          "metadata": {}
        },
        {
          "output_type": "display_data",
          "data": {
            "text/plain": [
              "<IPython.core.display.HTML object>"
            ],
            "text/html": [
              "<pre style='font-family:monospace'>Iteration 40: Trial Sequence: YACHLCALSHSKKFGLKNHL<span style='color:blue;font-weight:bold'>Q</span>VHKN, <span style='color:blue;font-weight:bold'>Total Score: 41.268</span></pre>"
            ]
          },
          "metadata": {}
        },
        {
          "output_type": "display_data",
          "data": {
            "text/plain": [
              "<IPython.core.display.HTML object>"
            ],
            "text/html": [
              "<pre style='font-family:monospace'>Iteration 41: Trial Sequence: YACHLCAL<span style='color:blue;font-weight:bold'>C</span>HSKKFGLKNHLQVHKN, <span style='color:blue;font-weight:bold'>Total Score: 42.093</span></pre>"
            ]
          },
          "metadata": {}
        },
        {
          "output_type": "display_data",
          "data": {
            "text/plain": [
              "<IPython.core.display.HTML object>"
            ],
            "text/html": [
              "<pre style='font-family:monospace'>Iteration 42: Trial Sequence: YACHLCALCHSK<span style='color:red;font-weight:bold'>F</span>FGLKNHLQVHKN, Total Score: 41.103</pre>"
            ]
          },
          "metadata": {}
        },
        {
          "output_type": "display_data",
          "data": {
            "text/plain": [
              "<IPython.core.display.HTML object>"
            ],
            "text/html": [
              "<pre style='font-family:monospace'>Iteration 43: Trial Sequence: YACHLCALCH<span style='color:blue;font-weight:bold'>E</span>KKFGLKNHLQVHKN, <span style='color:blue;font-weight:bold'>Total Score: 42.332</span></pre>"
            ]
          },
          "metadata": {}
        },
        {
          "output_type": "display_data",
          "data": {
            "text/plain": [
              "<IPython.core.display.HTML object>"
            ],
            "text/html": [
              "<pre style='font-family:monospace'>Iteration 44: Trial Sequence: YACHLCALCHEKK<span style='color:blue;font-weight:bold'>I</span>GLKNHLQVHKN, <span style='color:blue;font-weight:bold'>Total Score: 42.742</span></pre>"
            ]
          },
          "metadata": {}
        },
        {
          "output_type": "display_data",
          "data": {
            "text/plain": [
              "<IPython.core.display.HTML object>"
            ],
            "text/html": [
              "<pre style='font-family:monospace'>Iteration 45: Trial Sequence: YACHLCA<span style='color:red;font-weight:bold'>V</span>CHEKKIGLKNHLQVHKN, Total Score: 42.617</pre>"
            ]
          },
          "metadata": {}
        },
        {
          "output_type": "display_data",
          "data": {
            "text/plain": [
              "<IPython.core.display.HTML object>"
            ],
            "text/html": [
              "<pre style='font-family:monospace'>Iteration 46: Trial Sequence: YACHLCALCHEKKIGL<span style='color:red;font-weight:bold'>V</span>NHLQVHKN, Total Score: 41.676</pre>"
            ]
          },
          "metadata": {}
        },
        {
          "output_type": "display_data",
          "data": {
            "text/plain": [
              "<IPython.core.display.HTML object>"
            ],
            "text/html": [
              "<pre style='font-family:monospace'>Iteration 47: Trial Sequence: YACH<span style='color:red;font-weight:bold'>R</span>CALCHEKKIGLKNHLQVHKN, Total Score: 8.148</pre>"
            ]
          },
          "metadata": {}
        },
        {
          "output_type": "display_data",
          "data": {
            "text/plain": [
              "<IPython.core.display.HTML object>"
            ],
            "text/html": [
              "<pre style='font-family:monospace'>Iteration 48: Trial Sequence: YACHLCALCHEK<span style='color:red;font-weight:bold'>G</span>IGLKNHLQVHKN, Total Score: 4.608</pre>"
            ]
          },
          "metadata": {}
        },
        {
          "output_type": "display_data",
          "data": {
            "text/plain": [
              "<IPython.core.display.HTML object>"
            ],
            "text/html": [
              "<pre style='font-family:monospace'>Iteration 49: Trial Sequence: YACHLCALCHEKKIGLKNHLQ<span style='color:red;font-weight:bold'>P</span>HKN, Total Score: 4.316</pre>"
            ]
          },
          "metadata": {}
        },
        {
          "output_type": "display_data",
          "data": {
            "text/plain": [
              "<IPython.core.display.HTML object>"
            ],
            "text/html": [
              "<pre style='font-family:monospace'>Iteration 50: Trial Sequence: YACHLCALCHEKKIGL<span style='color:red;font-weight:bold'>D</span>NHLQVHKN, Total Score: 40.475</pre>"
            ]
          },
          "metadata": {}
        },
        {
          "output_type": "display_data",
          "data": {
            "text/plain": [
              "<IPython.core.display.HTML object>"
            ],
            "text/html": [
              "<pre style='font-family:monospace'>Iteration 51: Trial Sequence: YACHLCALCHEKKIGLKN<span style='color:red;font-weight:bold'>R</span>LQVHKN, Total Score: 1.478</pre>"
            ]
          },
          "metadata": {}
        },
        {
          "output_type": "display_data",
          "data": {
            "text/plain": [
              "<IPython.core.display.HTML object>"
            ],
            "text/html": [
              "<pre style='font-family:monospace'>Iteration 52: Trial Sequence: YAC<span style='color:red;font-weight:bold'>L</span>LCALCHEKKIGLKNHLQVHKN, Total Score: 41.257</pre>"
            ]
          },
          "metadata": {}
        },
        {
          "output_type": "display_data",
          "data": {
            "text/plain": [
              "<IPython.core.display.HTML object>"
            ],
            "text/html": [
              "<pre style='font-family:monospace'>Iteration 53: Trial Sequence: YACHLCALCHEKKIGLK<span style='color:blue;font-weight:bold'>V</span>HLQVHKN, <span style='color:blue;font-weight:bold'>Total Score: 43.658</span></pre>"
            ]
          },
          "metadata": {}
        },
        {
          "output_type": "display_data",
          "data": {
            "text/plain": [
              "<IPython.core.display.HTML object>"
            ],
            "text/html": [
              "<pre style='font-family:monospace'>Iteration 54: Trial Sequence: YACHLCALCHEKK<span style='color:blue;font-weight:bold'>T</span>GLKVHLQVHKN, <span style='color:blue;font-weight:bold'>Total Score: 43.831</span></pre>"
            ]
          },
          "metadata": {}
        },
        {
          "output_type": "display_data",
          "data": {
            "text/plain": [
              "<IPython.core.display.HTML object>"
            ],
            "text/html": [
              "<pre style='font-family:monospace'>Iteration 55: Trial Sequence: YACH<span style='color:blue;font-weight:bold'>H</span>CALCHEKKTGLKVHLQVHKN, <span style='color:blue;font-weight:bold'>Total Score: 46.388</span></pre>"
            ]
          },
          "metadata": {}
        },
        {
          "output_type": "display_data",
          "data": {
            "text/plain": [
              "<IPython.core.display.HTML object>"
            ],
            "text/html": [
              "<pre style='font-family:monospace'>Iteration 56: Trial Sequence: YACHH<span style='color:red;font-weight:bold'>T</span>ALCHEKKTGLKVHLQVHKN, Total Score: 3.024</pre>"
            ]
          },
          "metadata": {}
        },
        {
          "output_type": "display_data",
          "data": {
            "text/plain": [
              "<IPython.core.display.HTML object>"
            ],
            "text/html": [
              "<pre style='font-family:monospace'>Iteration 57: Trial Sequence: YACHHCALCHEKK<span style='color:red;font-weight:bold'>G</span>GLKVHLQVHKN, Total Score: 45.803</pre>"
            ]
          },
          "metadata": {}
        },
        {
          "output_type": "display_data",
          "data": {
            "text/plain": [
              "<IPython.core.display.HTML object>"
            ],
            "text/html": [
              "<pre style='font-family:monospace'>Iteration 58: Trial Sequence: YA<span style='color:red;font-weight:bold'>V</span>HHCALCHEKKTGLKVHLQVHKN, Total Score: 4.831</pre>"
            ]
          },
          "metadata": {}
        },
        {
          "output_type": "display_data",
          "data": {
            "text/plain": [
              "<IPython.core.display.HTML object>"
            ],
            "text/html": [
              "<pre style='font-family:monospace'>Iteration 59: Trial Sequence: YACHHCALCHEKKTGLKVHLQV<span style='color:red;font-weight:bold'>E</span>KN, Total Score: 29.209</pre>"
            ]
          },
          "metadata": {}
        },
        {
          "output_type": "display_data",
          "data": {
            "text/plain": [
              "<IPython.core.display.HTML object>"
            ],
            "text/html": [
              "<pre style='font-family:monospace'>Iteration 60: Trial Sequence: Y<span style='color:red;font-weight:bold'>H</span>CHHCALCHEKKTGLKVHLQVHKN, Total Score: 45.878</pre>"
            ]
          },
          "metadata": {}
        },
        {
          "output_type": "display_data",
          "data": {
            "text/plain": [
              "<IPython.core.display.HTML object>"
            ],
            "text/html": [
              "<pre style='font-family:monospace'>Iteration 61: Trial Sequence: YACHHCALCHEKKTGLKVHLQVH<span style='color:red;font-weight:bold'>I</span>N, Total Score: 44.438</pre>"
            ]
          },
          "metadata": {}
        },
        {
          "output_type": "display_data",
          "data": {
            "text/plain": [
              "<IPython.core.display.HTML object>"
            ],
            "text/html": [
              "<pre style='font-family:monospace'>Iteration 62: Trial Sequence: YACH<span style='color:red;font-weight:bold'>E</span>CALCHEKKTGLKVHLQVHKN, Total Score: 43.468</pre>"
            ]
          },
          "metadata": {}
        },
        {
          "output_type": "display_data",
          "data": {
            "text/plain": [
              "<IPython.core.display.HTML object>"
            ],
            "text/html": [
              "<pre style='font-family:monospace'>Iteration 63: Trial Sequence: YACHHC<span style='color:red;font-weight:bold'>K</span>LCHEKKTGLKVHLQVHKN, Total Score: 41.771</pre>"
            ]
          },
          "metadata": {}
        },
        {
          "output_type": "display_data",
          "data": {
            "text/plain": [
              "<IPython.core.display.HTML object>"
            ],
            "text/html": [
              "<pre style='font-family:monospace'>Iteration 64: Trial Sequence: YACHHCA<span style='color:blue;font-weight:bold'>Q</span>CHEKKTGLKVHLQVHKN, <span style='color:blue;font-weight:bold'>Total Score: 46.783</span></pre>"
            ]
          },
          "metadata": {}
        },
        {
          "output_type": "display_data",
          "data": {
            "text/plain": [
              "<IPython.core.display.HTML object>"
            ],
            "text/html": [
              "<pre style='font-family:monospace'>Iteration 65: Trial Sequence: Y<span style='color:red;font-weight:bold'>V</span>CHHCAQCHEKKTGLKVHLQVHKN, Total Score: 43.105</pre>"
            ]
          },
          "metadata": {}
        },
        {
          "output_type": "display_data",
          "data": {
            "text/plain": [
              "<IPython.core.display.HTML object>"
            ],
            "text/html": [
              "<pre style='font-family:monospace'>Iteration 66: Trial Sequence: YACHHCAQCHEK<span style='color:red;font-weight:bold'>P</span>TGLKVHLQVHKN, Total Score: 7.226</pre>"
            ]
          },
          "metadata": {}
        },
        {
          "output_type": "display_data",
          "data": {
            "text/plain": [
              "<IPython.core.display.HTML object>"
            ],
            "text/html": [
              "<pre style='font-family:monospace'>Iteration 67: Trial Sequence: <span style='color:red;font-weight:bold'>E</span>ACHHCAQCHEKKTGLKVHLQVHKN, Total Score: 9.338</pre>"
            ]
          },
          "metadata": {}
        },
        {
          "output_type": "display_data",
          "data": {
            "text/plain": [
              "<IPython.core.display.HTML object>"
            ],
            "text/html": [
              "<pre style='font-family:monospace'>Iteration 68: Trial Sequence: YACHHCAQCHEKKTGLKVH<span style='color:red;font-weight:bold'>S</span>QVHKN, Total Score: 9.615</pre>"
            ]
          },
          "metadata": {}
        },
        {
          "output_type": "display_data",
          "data": {
            "text/plain": [
              "<IPython.core.display.HTML object>"
            ],
            "text/html": [
              "<pre style='font-family:monospace'>Iteration 69: Trial Sequence: YACHHCAQCH<span style='color:red;font-weight:bold'>L</span>KKTGLKVHLQVHKN, Total Score: 19.972</pre>"
            ]
          },
          "metadata": {}
        },
        {
          "output_type": "display_data",
          "data": {
            "text/plain": [
              "<IPython.core.display.HTML object>"
            ],
            "text/html": [
              "<pre style='font-family:monospace'>Iteration 70: Trial Sequence: YACH<span style='color:red;font-weight:bold'>G</span>CAQCHEKKTGLKVHLQVHKN, Total Score: 4.817</pre>"
            ]
          },
          "metadata": {}
        },
        {
          "output_type": "display_data",
          "data": {
            "text/plain": [
              "<IPython.core.display.HTML object>"
            ],
            "text/html": [
              "<pre style='font-family:monospace'>Iteration 71: Trial Sequence: YACHHCAQCH<span style='color:red;font-weight:bold'>K</span>KKTGLKVHLQVHKN, Total Score: 46.043</pre>"
            ]
          },
          "metadata": {}
        },
        {
          "output_type": "display_data",
          "data": {
            "text/plain": [
              "<IPython.core.display.HTML object>"
            ],
            "text/html": [
              "<pre style='font-family:monospace'>Iteration 72: Trial Sequence: YACHHCAQCHEKKTGLKVHL<span style='color:red;font-weight:bold'>L</span>VHKN, Total Score: 46.466</pre>"
            ]
          },
          "metadata": {}
        },
        {
          "output_type": "display_data",
          "data": {
            "text/plain": [
              "<IPython.core.display.HTML object>"
            ],
            "text/html": [
              "<pre style='font-family:monospace'>Iteration 73: Trial Sequence: <span style='color:red;font-weight:bold'>V</span>ACHHCAQCHEKKTGLKVHLQVHKN, Total Score: 8.161</pre>"
            ]
          },
          "metadata": {}
        },
        {
          "output_type": "display_data",
          "data": {
            "text/plain": [
              "<IPython.core.display.HTML object>"
            ],
            "text/html": [
              "<pre style='font-family:monospace'>Iteration 74: Trial Sequence: YACHHCAQCHEKK<span style='color:red;font-weight:bold'>G</span>GLKVHLQVHKN, Total Score: 44.916</pre>"
            ]
          },
          "metadata": {}
        },
        {
          "output_type": "display_data",
          "data": {
            "text/plain": [
              "<IPython.core.display.HTML object>"
            ],
            "text/html": [
              "<pre style='font-family:monospace'>Iteration 75: Trial Sequence: YACHHCAQCHEKKTGLKVHLQ<span style='color:red;font-weight:bold'>A</span>HKN, Total Score: 43.824</pre>"
            ]
          },
          "metadata": {}
        },
        {
          "output_type": "display_data",
          "data": {
            "text/plain": [
              "<IPython.core.display.HTML object>"
            ],
            "text/html": [
              "<pre style='font-family:monospace'>Iteration 76: Trial Sequence: YACHHC<span style='color:blue;font-weight:bold'>P</span>QCHEKKTGLKVHLQVHKN, <span style='color:blue;font-weight:bold'>Total Score: 46.963</span></pre>"
            ]
          },
          "metadata": {}
        },
        {
          "output_type": "display_data",
          "data": {
            "text/plain": [
              "<IPython.core.display.HTML object>"
            ],
            "text/html": [
              "<pre style='font-family:monospace'>Iteration 77: Trial Sequence: YACHHCPQCHEKKTGLKV<span style='color:red;font-weight:bold'>E</span>LQVHKN, Total Score: 4.813</pre>"
            ]
          },
          "metadata": {}
        },
        {
          "output_type": "display_data",
          "data": {
            "text/plain": [
              "<IPython.core.display.HTML object>"
            ],
            "text/html": [
              "<pre style='font-family:monospace'>Iteration 78: Trial Sequence: Y<span style='color:blue;font-weight:bold'>T</span>CHHCPQCHEKKTGLKVHLQVHKN, <span style='color:blue;font-weight:bold'>Total Score: 47.529</span></pre>"
            ]
          },
          "metadata": {}
        },
        {
          "output_type": "display_data",
          "data": {
            "text/plain": [
              "<IPython.core.display.HTML object>"
            ],
            "text/html": [
              "<pre style='font-family:monospace'>Iteration 79: Trial Sequence: YTCHHCPQCHE<span style='color:red;font-weight:bold'>V</span>KTGLKVHLQVHKN, Total Score: 35.764</pre>"
            ]
          },
          "metadata": {}
        },
        {
          "output_type": "display_data",
          "data": {
            "text/plain": [
              "<IPython.core.display.HTML object>"
            ],
            "text/html": [
              "<pre style='font-family:monospace'>Iteration 80: Trial Sequence: YTCHHCPQCHEKKTGLKVHLQ<span style='color:red;font-weight:bold'>W</span>HKN, Total Score: 45.972</pre>"
            ]
          },
          "metadata": {}
        },
        {
          "output_type": "display_data",
          "data": {
            "text/plain": [
              "<IPython.core.display.HTML object>"
            ],
            "text/html": [
              "<pre style='font-family:monospace'>Iteration 81: Trial Sequence: YTCHHCPQCHEKK<span style='color:blue;font-weight:bold'>L</span>GLKVHLQVHKN, <span style='color:blue;font-weight:bold'>Total Score: 48.476</span></pre>"
            ]
          },
          "metadata": {}
        },
        {
          "output_type": "display_data",
          "data": {
            "text/plain": [
              "<IPython.core.display.HTML object>"
            ],
            "text/html": [
              "<pre style='font-family:monospace'>Iteration 82: Trial Sequence: YTCHHCPQCH<span style='color:red;font-weight:bold'>I</span>KKLGLKVHLQVHKN, Total Score: 25.060</pre>"
            ]
          },
          "metadata": {}
        },
        {
          "output_type": "display_data",
          "data": {
            "text/plain": [
              "<IPython.core.display.HTML object>"
            ],
            "text/html": [
              "<pre style='font-family:monospace'>Iteration 83: Trial Sequence: YTCHH<span style='color:red;font-weight:bold'>N</span>PQCHEKKLGLKVHLQVHKN, Total Score: 3.628</pre>"
            ]
          },
          "metadata": {}
        },
        {
          "output_type": "display_data",
          "data": {
            "text/plain": [
              "<IPython.core.display.HTML object>"
            ],
            "text/html": [
              "<pre style='font-family:monospace'>Iteration 84: Trial Sequence: YTC<span style='color:red;font-weight:bold'>E</span>HCPQCHEKKLGLKVHLQVHKN, Total Score: 47.330</pre>"
            ]
          },
          "metadata": {}
        },
        {
          "output_type": "display_data",
          "data": {
            "text/plain": [
              "<IPython.core.display.HTML object>"
            ],
            "text/html": [
              "<pre style='font-family:monospace'>Iteration 85: Trial Sequence: YTCHHCPQC<span style='color:red;font-weight:bold'>R</span>EKKLGLKVHLQVHKN, Total Score: 15.965</pre>"
            ]
          },
          "metadata": {}
        },
        {
          "output_type": "display_data",
          "data": {
            "text/plain": [
              "<IPython.core.display.HTML object>"
            ],
            "text/html": [
              "<pre style='font-family:monospace'>Iteration 86: Trial Sequence: YTCH<span style='color:red;font-weight:bold'>E</span>CPQCHEKKLGLKVHLQVHKN, Total Score: 47.518</pre>"
            ]
          },
          "metadata": {}
        },
        {
          "output_type": "display_data",
          "data": {
            "text/plain": [
              "<IPython.core.display.HTML object>"
            ],
            "text/html": [
              "<pre style='font-family:monospace'>Iteration 87: Trial Sequence: YTCHHCPQCHEKKLGLKVHLQV<span style='color:red;font-weight:bold'>C</span>KN, Total Score: 16.171</pre>"
            ]
          },
          "metadata": {}
        },
        {
          "output_type": "display_data",
          "data": {
            "text/plain": [
              "<IPython.core.display.HTML object>"
            ],
            "text/html": [
              "<pre style='font-family:monospace'>Iteration 88: Trial Sequence: YTCHHCPQCHEKKLGLKVH<span style='color:red;font-weight:bold'>S</span>QVHKN, Total Score: 47.741</pre>"
            ]
          },
          "metadata": {}
        },
        {
          "output_type": "display_data",
          "data": {
            "text/plain": [
              "<IPython.core.display.HTML object>"
            ],
            "text/html": [
              "<pre style='font-family:monospace'>Iteration 89: Trial Sequence: YTCH<span style='color:red;font-weight:bold'>V</span>CPQCHEKKLGLKVHLQVHKN, Total Score: 48.102</pre>"
            ]
          },
          "metadata": {}
        },
        {
          "output_type": "display_data",
          "data": {
            "text/plain": [
              "<IPython.core.display.HTML object>"
            ],
            "text/html": [
              "<pre style='font-family:monospace'>Iteration 90: Trial Sequence: YTCHHCPQCHEKKLGLKVHL<span style='color:red;font-weight:bold'>A</span>VHKN, Total Score: 46.334</pre>"
            ]
          },
          "metadata": {}
        },
        {
          "output_type": "display_data",
          "data": {
            "text/plain": [
              "<IPython.core.display.HTML object>"
            ],
            "text/html": [
              "<pre style='font-family:monospace'>Iteration 91: Trial Sequence: YTCHHCP<span style='color:red;font-weight:bold'>T</span>CHEKKLGLKVHLQVHKN, Total Score: 46.214</pre>"
            ]
          },
          "metadata": {}
        },
        {
          "output_type": "display_data",
          "data": {
            "text/plain": [
              "<IPython.core.display.HTML object>"
            ],
            "text/html": [
              "<pre style='font-family:monospace'>Iteration 92: Trial Sequence: YTCHHCPQCHEKKLGLKVH<span style='color:red;font-weight:bold'>G</span>QVHKN, Total Score: 14.622</pre>"
            ]
          },
          "metadata": {}
        },
        {
          "output_type": "display_data",
          "data": {
            "text/plain": [
              "<IPython.core.display.HTML object>"
            ],
            "text/html": [
              "<pre style='font-family:monospace'>Iteration 93: Trial Sequence: YTCHHCPQC<span style='color:red;font-weight:bold'>L</span>EKKLGLKVHLQVHKN, Total Score: 22.436</pre>"
            ]
          },
          "metadata": {}
        },
        {
          "output_type": "display_data",
          "data": {
            "text/plain": [
              "<IPython.core.display.HTML object>"
            ],
            "text/html": [
              "<pre style='font-family:monospace'>Iteration 94: Trial Sequence: YTCHHCPQCHEKKLGLKVHLQV<span style='color:red;font-weight:bold'>T</span>KN, Total Score: 8.784</pre>"
            ]
          },
          "metadata": {}
        },
        {
          "output_type": "display_data",
          "data": {
            "text/plain": [
              "<IPython.core.display.HTML object>"
            ],
            "text/html": [
              "<pre style='font-family:monospace'>Iteration 95: Trial Sequence: YTCHHCPQCHEKKLGLK<span style='color:red;font-weight:bold'>K</span>HLQVHKN, Total Score: 46.995</pre>"
            ]
          },
          "metadata": {}
        },
        {
          "output_type": "display_data",
          "data": {
            "text/plain": [
              "<IPython.core.display.HTML object>"
            ],
            "text/html": [
              "<pre style='font-family:monospace'>Iteration 96: Trial Sequence: YTCHHCPQCHEKKLGLK<span style='color:red;font-weight:bold'>E</span>HLQVHKN, Total Score: 19.796</pre>"
            ]
          },
          "metadata": {}
        },
        {
          "output_type": "display_data",
          "data": {
            "text/plain": [
              "<IPython.core.display.HTML object>"
            ],
            "text/html": [
              "<pre style='font-family:monospace'>Iteration 97: Trial Sequence: YTCHHCP<span style='color:red;font-weight:bold'>W</span>CHEKKLGLKVHLQVHKN, Total Score: 45.766</pre>"
            ]
          },
          "metadata": {}
        },
        {
          "output_type": "display_data",
          "data": {
            "text/plain": [
              "<IPython.core.display.HTML object>"
            ],
            "text/html": [
              "<pre style='font-family:monospace'>Iteration 98: Trial Sequence: YTCHHCPQCHEKK<span style='color:red;font-weight:bold'>R</span>GLKVHLQVHKN, Total Score: 48.336</pre>"
            ]
          },
          "metadata": {}
        },
        {
          "output_type": "display_data",
          "data": {
            "text/plain": [
              "<IPython.core.display.HTML object>"
            ],
            "text/html": [
              "<pre style='font-family:monospace'>Iteration 99: Trial Sequence: YTCHHCPQCHEKKLGLKVHLQ<span style='color:red;font-weight:bold'>R</span>HKN, Total Score: 48.467</pre>"
            ]
          },
          "metadata": {}
        },
        {
          "output_type": "display_data",
          "data": {
            "text/plain": [
              "<IPython.core.display.HTML object>"
            ],
            "text/html": [
              "<pre style='font-family:monospace'>Iteration 100: Trial Sequence: YTCHHCPQCHEKK<span style='color:blue;font-weight:bold'>E</span>GLKVHLQVHKN, <span style='color:blue;font-weight:bold'>Total Score: 48.497</span></pre>"
            ]
          },
          "metadata": {}
        },
        {
          "output_type": "display_data",
          "data": {
            "text/plain": [
              "<IPython.core.display.HTML object>"
            ],
            "text/html": [
              "<pre style='font-family:monospace'>Iteration 101: Trial Sequence: YTCHHCPQCHEKKEGLKVHLQVH<span style='color:red;font-weight:bold'>P</span>N, Total Score: 13.924</pre>"
            ]
          },
          "metadata": {}
        },
        {
          "output_type": "display_data",
          "data": {
            "text/plain": [
              "<IPython.core.display.HTML object>"
            ],
            "text/html": [
              "<pre style='font-family:monospace'>Iteration 102: Trial Sequence: YTCHHCPQ<span style='color:red;font-weight:bold'>N</span>HEKKEGLKVHLQVHKN, Total Score: 48.277</pre>"
            ]
          },
          "metadata": {}
        },
        {
          "output_type": "display_data",
          "data": {
            "text/plain": [
              "<IPython.core.display.HTML object>"
            ],
            "text/html": [
              "<pre style='font-family:monospace'>Iteration 103: Trial Sequence: YTCH<span style='color:red;font-weight:bold'>C</span>CPQCHEKKEGLKVHLQVHKN, Total Score: 47.750</pre>"
            ]
          },
          "metadata": {}
        },
        {
          "output_type": "display_data",
          "data": {
            "text/plain": [
              "<IPython.core.display.HTML object>"
            ],
            "text/html": [
              "<pre style='font-family:monospace'>Iteration 104: Trial Sequence: YTCHHCPQCHEKKEGLKVHLQVH<span style='color:blue;font-weight:bold'>D</span>N, <span style='color:blue;font-weight:bold'>Total Score: 50.666</span></pre>"
            ]
          },
          "metadata": {}
        },
        {
          "output_type": "display_data",
          "data": {
            "text/plain": [
              "<IPython.core.display.HTML object>"
            ],
            "text/html": [
              "<pre style='font-family:monospace'>Iteration 105: Trial Sequence: YTCHHCPQCHEKKEGLKV<span style='color:red;font-weight:bold'>S</span>LQVHDN, Total Score: 6.655</pre>"
            ]
          },
          "metadata": {}
        },
        {
          "output_type": "display_data",
          "data": {
            "text/plain": [
              "<IPython.core.display.HTML object>"
            ],
            "text/html": [
              "<pre style='font-family:monospace'>Iteration 106: Trial Sequence: YTCHHCPQCHEKKEGL<span style='color:red;font-weight:bold'>S</span>VHLQVHDN, Total Score: 44.196</pre>"
            ]
          },
          "metadata": {}
        },
        {
          "output_type": "display_data",
          "data": {
            "text/plain": [
              "<IPython.core.display.HTML object>"
            ],
            "text/html": [
              "<pre style='font-family:monospace'>Iteration 107: Trial Sequence: YTCHHCPQCHEKKEGLKVHLQ<span style='color:red;font-weight:bold'>C</span>HDN, Total Score: 49.377</pre>"
            ]
          },
          "metadata": {}
        },
        {
          "output_type": "display_data",
          "data": {
            "text/plain": [
              "<IPython.core.display.HTML object>"
            ],
            "text/html": [
              "<pre style='font-family:monospace'>Iteration 108: Trial Sequence: YTCHHCPQCHEKKEGL<span style='color:red;font-weight:bold'>Q</span>VHLQVHDN, Total Score: 48.318</pre>"
            ]
          },
          "metadata": {}
        },
        {
          "output_type": "display_data",
          "data": {
            "text/plain": [
              "<IPython.core.display.HTML object>"
            ],
            "text/html": [
              "<pre style='font-family:monospace'>Iteration 109: Trial Sequence: YTCHHCPQCHEK<span style='color:red;font-weight:bold'>S</span>EGLKVHLQVHDN, Total Score: 42.596</pre>"
            ]
          },
          "metadata": {}
        },
        {
          "output_type": "display_data",
          "data": {
            "text/plain": [
              "<IPython.core.display.HTML object>"
            ],
            "text/html": [
              "<pre style='font-family:monospace'>Iteration 110: Trial Sequence: Y<span style='color:red;font-weight:bold'>Y</span>CHHCPQCHEKKEGLKVHLQVHDN, Total Score: 49.996</pre>"
            ]
          },
          "metadata": {}
        },
        {
          "output_type": "display_data",
          "data": {
            "text/plain": [
              "<IPython.core.display.HTML object>"
            ],
            "text/html": [
              "<pre style='font-family:monospace'>Iteration 111: Trial Sequence: YTCHHCPQCHEKKEGLKV<span style='color:red;font-weight:bold'>T</span>LQVHDN, Total Score: 0.764</pre>"
            ]
          },
          "metadata": {}
        },
        {
          "output_type": "display_data",
          "data": {
            "text/plain": [
              "<IPython.core.display.HTML object>"
            ],
            "text/html": [
              "<pre style='font-family:monospace'>Iteration 112: Trial Sequence: YTCHH<span style='color:red;font-weight:bold'>D</span>PQCHEKKEGLKVHLQVHDN, Total Score: 1.344</pre>"
            ]
          },
          "metadata": {}
        },
        {
          "output_type": "display_data",
          "data": {
            "text/plain": [
              "<IPython.core.display.HTML object>"
            ],
            "text/html": [
              "<pre style='font-family:monospace'>Iteration 113: Trial Sequence: YTCHHCPQCHEKKEGLKVHLQ<span style='color:red;font-weight:bold'>W</span>HDN, Total Score: 48.084</pre>"
            ]
          },
          "metadata": {}
        },
        {
          "output_type": "display_data",
          "data": {
            "text/plain": [
              "<IPython.core.display.HTML object>"
            ],
            "text/html": [
              "<pre style='font-family:monospace'>Iteration 114: Trial Sequence: YTCHHCPQC<span style='color:red;font-weight:bold'>W</span>EKKEGLKVHLQVHDN, Total Score: 47.940</pre>"
            ]
          },
          "metadata": {}
        },
        {
          "output_type": "display_data",
          "data": {
            "text/plain": [
              "<IPython.core.display.HTML object>"
            ],
            "text/html": [
              "<pre style='font-family:monospace'>Iteration 115: Trial Sequence: YTCHHCPQCHEKKEGLKVHLQV<span style='color:red;font-weight:bold'>Y</span>DN, Total Score: 15.670</pre>"
            ]
          },
          "metadata": {}
        },
        {
          "output_type": "display_data",
          "data": {
            "text/plain": [
              "<IPython.core.display.HTML object>"
            ],
            "text/html": [
              "<pre style='font-family:monospace'>Iteration 116: Trial Sequence: YTCHHCPQCHEKKEGLKVHL<span style='color:red;font-weight:bold'>R</span>VHDN, Total Score: 48.839</pre>"
            ]
          },
          "metadata": {}
        },
        {
          "output_type": "display_data",
          "data": {
            "text/plain": [
              "<IPython.core.display.HTML object>"
            ],
            "text/html": [
              "<pre style='font-family:monospace'>Iteration 117: Trial Sequence: YTCHHCPQCHEKKEGLKVH<span style='color:blue;font-weight:bold'>S</span>QVHDN, <span style='color:blue;font-weight:bold'>Total Score: 51.600</span></pre>"
            ]
          },
          "metadata": {}
        },
        {
          "output_type": "display_data",
          "data": {
            "text/plain": [
              "<IPython.core.display.HTML object>"
            ],
            "text/html": [
              "<pre style='font-family:monospace'>Iteration 118: Trial Sequence: YTCHHCPQCH<span style='color:red;font-weight:bold'>V</span>KKEGLKVHSQVHDN, Total Score: 24.852</pre>"
            ]
          },
          "metadata": {}
        },
        {
          "output_type": "display_data",
          "data": {
            "text/plain": [
              "<IPython.core.display.HTML object>"
            ],
            "text/html": [
              "<pre style='font-family:monospace'>Iteration 119: Trial Sequence: YTC<span style='color:red;font-weight:bold'>S</span>HCPQCHEKKEGLKVHSQVHDN, Total Score: 51.147</pre>"
            ]
          },
          "metadata": {}
        },
        {
          "output_type": "display_data",
          "data": {
            "text/plain": [
              "<IPython.core.display.HTML object>"
            ],
            "text/html": [
              "<pre style='font-family:monospace'>Iteration 120: Trial Sequence: YTCHHCPQCHEK<span style='color:red;font-weight:bold'>Y</span>EGLKVHSQVHDN, Total Score: 27.064</pre>"
            ]
          },
          "metadata": {}
        },
        {
          "output_type": "display_data",
          "data": {
            "text/plain": [
              "<IPython.core.display.HTML object>"
            ],
            "text/html": [
              "<pre style='font-family:monospace'>Iteration 121: Trial Sequence: YTCHHC<span style='color:red;font-weight:bold'>L</span>QCHEKKEGLKVHSQVHDN, Total Score: 46.898</pre>"
            ]
          },
          "metadata": {}
        },
        {
          "output_type": "display_data",
          "data": {
            "text/plain": [
              "<IPython.core.display.HTML object>"
            ],
            "text/html": [
              "<pre style='font-family:monospace'>Iteration 122: Trial Sequence: YTCHHCPQCHEKKEGLK<span style='color:blue;font-weight:bold'>L</span>HSQVHDN, <span style='color:blue;font-weight:bold'>Total Score: 51.621</span></pre>"
            ]
          },
          "metadata": {}
        },
        {
          "output_type": "display_data",
          "data": {
            "text/plain": [
              "<IPython.core.display.HTML object>"
            ],
            "text/html": [
              "<pre style='font-family:monospace'>Iteration 123: Trial Sequence: <span style='color:red;font-weight:bold'>E</span>TCHHCPQCHEKKEGLKLHSQVHDN, Total Score: 11.223</pre>"
            ]
          },
          "metadata": {}
        },
        {
          "output_type": "display_data",
          "data": {
            "text/plain": [
              "<IPython.core.display.HTML object>"
            ],
            "text/html": [
              "<pre style='font-family:monospace'>Iteration 124: Trial Sequence: YTCHHCP<span style='color:red;font-weight:bold'>L</span>CHEKKEGLKLHSQVHDN, Total Score: 49.516</pre>"
            ]
          },
          "metadata": {}
        },
        {
          "output_type": "display_data",
          "data": {
            "text/plain": [
              "<IPython.core.display.HTML object>"
            ],
            "text/html": [
              "<pre style='font-family:monospace'>Iteration 125: Trial Sequence: YTCHHCPQCHEKK<span style='color:red;font-weight:bold'>P</span>GLKLHSQVHDN, Total Score: 13.254</pre>"
            ]
          },
          "metadata": {}
        },
        {
          "output_type": "display_data",
          "data": {
            "text/plain": [
              "<IPython.core.display.HTML object>"
            ],
            "text/html": [
              "<pre style='font-family:monospace'>Iteration 126: Trial Sequence: YTCHHCPQCHEKKEGLKLHSQ<span style='color:red;font-weight:bold'>S</span>HDN, Total Score: 51.139</pre>"
            ]
          },
          "metadata": {}
        },
        {
          "output_type": "display_data",
          "data": {
            "text/plain": [
              "<IPython.core.display.HTML object>"
            ],
            "text/html": [
              "<pre style='font-family:monospace'>Iteration 127: Trial Sequence: YTCHH<span style='color:red;font-weight:bold'>H</span>PQCHEKKEGLKLHSQVHDN, Total Score: 10.314</pre>"
            ]
          },
          "metadata": {}
        },
        {
          "output_type": "display_data",
          "data": {
            "text/plain": [
              "<IPython.core.display.HTML object>"
            ],
            "text/html": [
              "<pre style='font-family:monospace'>Iteration 128: Trial Sequence: YTCHHCP<span style='color:red;font-weight:bold'>H</span>CHEKKEGLKLHSQVHDN, Total Score: 50.946</pre>"
            ]
          },
          "metadata": {}
        },
        {
          "output_type": "display_data",
          "data": {
            "text/plain": [
              "<IPython.core.display.HTML object>"
            ],
            "text/html": [
              "<pre style='font-family:monospace'>Iteration 129: Trial Sequence: YTCHH<span style='color:red;font-weight:bold'>W</span>PQCHEKKEGLKLHSQVHDN, Total Score: 5.488</pre>"
            ]
          },
          "metadata": {}
        },
        {
          "output_type": "display_data",
          "data": {
            "text/plain": [
              "<IPython.core.display.HTML object>"
            ],
            "text/html": [
              "<pre style='font-family:monospace'>Iteration 130: Trial Sequence: YTCHHCPQCHEKK<span style='color:red;font-weight:bold'>S</span>GLKLHSQVHDN, Total Score: 49.019</pre>"
            ]
          },
          "metadata": {}
        },
        {
          "output_type": "display_data",
          "data": {
            "text/plain": [
              "<IPython.core.display.HTML object>"
            ],
            "text/html": [
              "<pre style='font-family:monospace'>Iteration 131: Trial Sequence: YTCHHCPQCHEKKEGL<span style='color:red;font-weight:bold'>W</span>LHSQVHDN, Total Score: 49.108</pre>"
            ]
          },
          "metadata": {}
        },
        {
          "output_type": "display_data",
          "data": {
            "text/plain": [
              "<IPython.core.display.HTML object>"
            ],
            "text/html": [
              "<pre style='font-family:monospace'>Iteration 132: Trial Sequence: YTCHHC<span style='color:red;font-weight:bold'>K</span>QCHEKKEGLKLHSQVHDN, Total Score: 46.500</pre>"
            ]
          },
          "metadata": {}
        },
        {
          "output_type": "display_data",
          "data": {
            "text/plain": [
              "<IPython.core.display.HTML object>"
            ],
            "text/html": [
              "<pre style='font-family:monospace'>Iteration 133: Trial Sequence: YTC<span style='color:red;font-weight:bold'>A</span>HCPQCHEKKEGLKLHSQVHDN, Total Score: 50.620</pre>"
            ]
          },
          "metadata": {}
        },
        {
          "output_type": "display_data",
          "data": {
            "text/plain": [
              "<IPython.core.display.HTML object>"
            ],
            "text/html": [
              "<pre style='font-family:monospace'>Iteration 134: Trial Sequence: YTCHHCPQ<span style='color:blue;font-weight:bold'>A</span>HEKKEGLKLHSQVHDN, <span style='color:blue;font-weight:bold'>Total Score: 52.401</span></pre>"
            ]
          },
          "metadata": {}
        },
        {
          "output_type": "display_data",
          "data": {
            "text/plain": [
              "<IPython.core.display.HTML object>"
            ],
            "text/html": [
              "<pre style='font-family:monospace'>Iteration 135: Trial Sequence: YTCHHCPQAHEKKEGLKLHSQV<span style='color:red;font-weight:bold'>P</span>DN, Total Score: 1.961</pre>"
            ]
          },
          "metadata": {}
        },
        {
          "output_type": "display_data",
          "data": {
            "text/plain": [
              "<IPython.core.display.HTML object>"
            ],
            "text/html": [
              "<pre style='font-family:monospace'>Iteration 136: Trial Sequence: YTCHHCPQAHE<span style='color:red;font-weight:bold'>S</span>KEGLKLHSQVHDN, Total Score: 52.045</pre>"
            ]
          },
          "metadata": {}
        },
        {
          "output_type": "display_data",
          "data": {
            "text/plain": [
              "<IPython.core.display.HTML object>"
            ],
            "text/html": [
              "<pre style='font-family:monospace'>Iteration 137: Trial Sequence: <span style='color:red;font-weight:bold'>G</span>TCHHCPQAHEKKEGLKLHSQVHDN, Total Score: 15.148</pre>"
            ]
          },
          "metadata": {}
        },
        {
          "output_type": "display_data",
          "data": {
            "text/plain": [
              "<IPython.core.display.HTML object>"
            ],
            "text/html": [
              "<pre style='font-family:monospace'>Iteration 138: Trial Sequence: YTCHHCPQA<span style='color:red;font-weight:bold'>R</span>EKKEGLKLHSQVHDN, Total Score: 42.483</pre>"
            ]
          },
          "metadata": {}
        },
        {
          "output_type": "display_data",
          "data": {
            "text/plain": [
              "<IPython.core.display.HTML object>"
            ],
            "text/html": [
              "<pre style='font-family:monospace'>Iteration 139: Trial Sequence: YTCHHCPQAHEKKEGLKLHSQ<span style='color:red;font-weight:bold'>P</span>HDN, Total Score: 12.394</pre>"
            ]
          },
          "metadata": {}
        },
        {
          "output_type": "display_data",
          "data": {
            "text/plain": [
              "<IPython.core.display.HTML object>"
            ],
            "text/html": [
              "<pre style='font-family:monospace'>Iteration 140: Trial Sequence: YTCHHCP<span style='color:red;font-weight:bold'>L</span>AHEKKEGLKLHSQVHDN, Total Score: 50.100</pre>"
            ]
          },
          "metadata": {}
        },
        {
          "output_type": "display_data",
          "data": {
            "text/plain": [
              "<IPython.core.display.HTML object>"
            ],
            "text/html": [
              "<pre style='font-family:monospace'>Iteration 141: Trial Sequence: YTCHHCPQAHEKKEGLKLHSQ<span style='color:blue;font-weight:bold'>I</span>HDN, <span style='color:blue;font-weight:bold'>Total Score: 54.450</span></pre>"
            ]
          },
          "metadata": {}
        },
        {
          "output_type": "display_data",
          "data": {
            "text/plain": [
              "<IPython.core.display.HTML object>"
            ],
            "text/html": [
              "<pre style='font-family:monospace'>Iteration 142: Trial Sequence: <span style='color:red;font-weight:bold'>A</span>TCHHCPQAHEKKEGLKLHSQIHDN, Total Score: 21.033</pre>"
            ]
          },
          "metadata": {}
        },
        {
          "output_type": "display_data",
          "data": {
            "text/plain": [
              "<IPython.core.display.HTML object>"
            ],
            "text/html": [
              "<pre style='font-family:monospace'>Iteration 143: Trial Sequence: YTCHHCPQAHEKKEGLKLHSQ<span style='color:red;font-weight:bold'>E</span>HDN, Total Score: 51.149</pre>"
            ]
          },
          "metadata": {}
        },
        {
          "output_type": "display_data",
          "data": {
            "text/plain": [
              "<IPython.core.display.HTML object>"
            ],
            "text/html": [
              "<pre style='font-family:monospace'>Iteration 144: Trial Sequence: YTCH<span style='color:red;font-weight:bold'>G</span>CPQAHEKKEGLKLHSQIHDN, Total Score: 40.737</pre>"
            ]
          },
          "metadata": {}
        },
        {
          "output_type": "display_data",
          "data": {
            "text/plain": [
              "<IPython.core.display.HTML object>"
            ],
            "text/html": [
              "<pre style='font-family:monospace'>Iteration 145: Trial Sequence: YTCHHCPQAHEKKEG<span style='color:red;font-weight:bold'>S</span>KLHSQIHDN, Total Score: 17.080</pre>"
            ]
          },
          "metadata": {}
        },
        {
          "output_type": "display_data",
          "data": {
            "text/plain": [
              "<IPython.core.display.HTML object>"
            ],
            "text/html": [
              "<pre style='font-family:monospace'>Iteration 146: Trial Sequence: YTCHHCPQAHEKK<span style='color:red;font-weight:bold'>I</span>GLKLHSQIHDN, Total Score: 53.975</pre>"
            ]
          },
          "metadata": {}
        },
        {
          "output_type": "display_data",
          "data": {
            "text/plain": [
              "<IPython.core.display.HTML object>"
            ],
            "text/html": [
              "<pre style='font-family:monospace'>Iteration 147: Trial Sequence: YTCHHCPQAHEKKEGLKL<span style='color:red;font-weight:bold'>L</span>SQIHDN, Total Score: 1.374</pre>"
            ]
          },
          "metadata": {}
        },
        {
          "output_type": "display_data",
          "data": {
            "text/plain": [
              "<IPython.core.display.HTML object>"
            ],
            "text/html": [
              "<pre style='font-family:monospace'>Iteration 148: Trial Sequence: YTCHHCPQAHEKKEGLKLH<span style='color:blue;font-weight:bold'>G</span>QIHDN, <span style='color:blue;font-weight:bold'>Total Score: 54.873</span></pre>"
            ]
          },
          "metadata": {}
        },
        {
          "output_type": "display_data",
          "data": {
            "text/plain": [
              "<IPython.core.display.HTML object>"
            ],
            "text/html": [
              "<pre style='font-family:monospace'>Iteration 149: Trial Sequence: YTCHHC<span style='color:red;font-weight:bold'>L</span>QAHEKKEGLKLHGQIHDN, Total Score: 48.785</pre>"
            ]
          },
          "metadata": {}
        },
        {
          "output_type": "display_data",
          "data": {
            "text/plain": [
              "<IPython.core.display.HTML object>"
            ],
            "text/html": [
              "<pre style='font-family:monospace'>Iteration 150: Trial Sequence: YTCHHCPQAHEKKE<span style='color:red;font-weight:bold'>V</span>LKLHGQIHDN, Total Score: 54.857</pre>"
            ]
          },
          "metadata": {}
        },
        {
          "output_type": "display_data",
          "data": {
            "text/plain": [
              "<IPython.core.display.HTML object>"
            ],
            "text/html": [
              "<pre style='font-family:monospace'>Iteration 151: Trial Sequence: <span style='color:red;font-weight:bold'>C</span>TCHHCPQAHEKKEGLKLHGQIHDN, Total Score: 6.149</pre>"
            ]
          },
          "metadata": {}
        },
        {
          "output_type": "display_data",
          "data": {
            "text/plain": [
              "<IPython.core.display.HTML object>"
            ],
            "text/html": [
              "<pre style='font-family:monospace'>Iteration 152: Trial Sequence: YTCHHCPQAHEKKEGLKL<span style='color:red;font-weight:bold'>V</span>GQIHDN, Total Score: 2.237</pre>"
            ]
          },
          "metadata": {}
        },
        {
          "output_type": "display_data",
          "data": {
            "text/plain": [
              "<IPython.core.display.HTML object>"
            ],
            "text/html": [
              "<pre style='font-family:monospace'>Iteration 153: Trial Sequence: YTCHHCP<span style='color:red;font-weight:bold'>F</span>AHEKKEGLKLHGQIHDN, Total Score: 51.980</pre>"
            ]
          },
          "metadata": {}
        },
        {
          "output_type": "display_data",
          "data": {
            "text/plain": [
              "<IPython.core.display.HTML object>"
            ],
            "text/html": [
              "<pre style='font-family:monospace'>Iteration 154: Trial Sequence: YTCHHCPQA<span style='color:red;font-weight:bold'>S</span>EKKEGLKLHGQIHDN, Total Score: 27.822</pre>"
            ]
          },
          "metadata": {}
        },
        {
          "output_type": "display_data",
          "data": {
            "text/plain": [
              "<IPython.core.display.HTML object>"
            ],
            "text/html": [
              "<pre style='font-family:monospace'>Iteration 155: Trial Sequence: YTCHHCPQAHEKK<span style='color:blue;font-weight:bold'>R</span>GLKLHGQIHDN, <span style='color:blue;font-weight:bold'>Total Score: 56.132</span></pre>"
            ]
          },
          "metadata": {}
        },
        {
          "output_type": "display_data",
          "data": {
            "text/plain": [
              "<IPython.core.display.HTML object>"
            ],
            "text/html": [
              "<pre style='font-family:monospace'>Iteration 156: Trial Sequence: YTCHHCPQAHEKKRGLKL<span style='color:red;font-weight:bold'>G</span>GQIHDN, Total Score: 0.656</pre>"
            ]
          },
          "metadata": {}
        },
        {
          "output_type": "display_data",
          "data": {
            "text/plain": [
              "<IPython.core.display.HTML object>"
            ],
            "text/html": [
              "<pre style='font-family:monospace'>Iteration 157: Trial Sequence: YTCHHCPQA<span style='color:red;font-weight:bold'>L</span>EKKRGLKLHGQIHDN, Total Score: 47.407</pre>"
            ]
          },
          "metadata": {}
        },
        {
          "output_type": "display_data",
          "data": {
            "text/plain": [
              "<IPython.core.display.HTML object>"
            ],
            "text/html": [
              "<pre style='font-family:monospace'>Iteration 158: Trial Sequence: YTCHHCPQA<span style='color:blue;font-weight:bold'>F</span>EKKRGLKLHGQIHDN, <span style='color:blue;font-weight:bold'>Total Score: 53.347</span></pre>"
            ]
          },
          "metadata": {}
        },
        {
          "output_type": "display_data",
          "data": {
            "text/plain": [
              "<IPython.core.display.HTML object>"
            ],
            "text/html": [
              "<pre style='font-family:monospace'>Iteration 159: Trial Sequence: YTCHHCPQAFEKKRGLKLHG<span style='color:red;font-weight:bold'>P</span>IHDN, Total Score: 47.229</pre>"
            ]
          },
          "metadata": {}
        },
        {
          "output_type": "display_data",
          "data": {
            "text/plain": [
              "<IPython.core.display.HTML object>"
            ],
            "text/html": [
              "<pre style='font-family:monospace'>Iteration 160: Trial Sequence: YTCHHCPQ<span style='color:blue;font-weight:bold'>S</span>FEKKRGLKLHGQIHDN, <span style='color:blue;font-weight:bold'>Total Score: 51.341</span></pre>"
            ]
          },
          "metadata": {}
        },
        {
          "output_type": "display_data",
          "data": {
            "text/plain": [
              "<IPython.core.display.HTML object>"
            ],
            "text/html": [
              "<pre style='font-family:monospace'>Iteration 161: Trial Sequence: YTCHHCPQSFEKKRGLKLHGQI<span style='color:red;font-weight:bold'>L</span>DN, Total Score: 44.503</pre>"
            ]
          },
          "metadata": {}
        },
        {
          "output_type": "display_data",
          "data": {
            "text/plain": [
              "<IPython.core.display.HTML object>"
            ],
            "text/html": [
              "<pre style='font-family:monospace'>Iteration 162: Trial Sequence: Y<span style='color:blue;font-weight:bold'>M</span>CHHCPQSFEKKRGLKLHGQIHDN, <span style='color:blue;font-weight:bold'>Total Score: 51.229</span></pre>"
            ]
          },
          "metadata": {}
        },
        {
          "output_type": "display_data",
          "data": {
            "text/plain": [
              "<IPython.core.display.HTML object>"
            ],
            "text/html": [
              "<pre style='font-family:monospace'>Iteration 163: Trial Sequence: YMCHHCPQSFEKKRGLKLH<span style='color:red;font-weight:bold'>Y</span>QIHDN, Total Score: 50.316</pre>"
            ]
          },
          "metadata": {}
        },
        {
          "output_type": "display_data",
          "data": {
            "text/plain": [
              "<IPython.core.display.HTML object>"
            ],
            "text/html": [
              "<pre style='font-family:monospace'>Iteration 164: Trial Sequence: YMCHHCPQ<span style='color:blue;font-weight:bold'>T</span>FEKKRGLKLHGQIHDN, <span style='color:blue;font-weight:bold'>Total Score: 52.500</span></pre>"
            ]
          },
          "metadata": {}
        },
        {
          "output_type": "display_data",
          "data": {
            "text/plain": [
              "<IPython.core.display.HTML object>"
            ],
            "text/html": [
              "<pre style='font-family:monospace'>Iteration 165: Trial Sequence: YMCHHCPQTFEKKRGL<span style='color:red;font-weight:bold'>D</span>LHGQIHDN, Total Score: 51.881</pre>"
            ]
          },
          "metadata": {}
        },
        {
          "output_type": "display_data",
          "data": {
            "text/plain": [
              "<IPython.core.display.HTML object>"
            ],
            "text/html": [
              "<pre style='font-family:monospace'>Iteration 166: Trial Sequence: YMCHHCPQTFEKKRGLKLHGQIH<span style='color:red;font-weight:bold'>E</span>N, Total Score: 51.336</pre>"
            ]
          },
          "metadata": {}
        },
        {
          "output_type": "display_data",
          "data": {
            "text/plain": [
              "<IPython.core.display.HTML object>"
            ],
            "text/html": [
              "<pre style='font-family:monospace'>Iteration 167: Trial Sequence: YMCHHCPQTFE<span style='color:blue;font-weight:bold'>N</span>KRGLKLHGQIHDN, <span style='color:blue;font-weight:bold'>Total Score: 52.436</span></pre>"
            ]
          },
          "metadata": {}
        },
        {
          "output_type": "display_data",
          "data": {
            "text/plain": [
              "<IPython.core.display.HTML object>"
            ],
            "text/html": [
              "<pre style='font-family:monospace'>Iteration 168: Trial Sequence: YMCHHCPQTFE<span style='color:blue;font-weight:bold'>S</span>KRGLKLHGQIHDN, <span style='color:blue;font-weight:bold'>Total Score: 53.255</span></pre>"
            ]
          },
          "metadata": {}
        },
        {
          "output_type": "display_data",
          "data": {
            "text/plain": [
              "<IPython.core.display.HTML object>"
            ],
            "text/html": [
              "<pre style='font-family:monospace'>Iteration 169: Trial Sequence: <span style='color:blue;font-weight:bold'>S</span>MCHHCPQTFESKRGLKLHGQIHDN, <span style='color:blue;font-weight:bold'>Total Score: 53.622</span></pre>"
            ]
          },
          "metadata": {}
        },
        {
          "output_type": "display_data",
          "data": {
            "text/plain": [
              "<IPython.core.display.HTML object>"
            ],
            "text/html": [
              "<pre style='font-family:monospace'>Iteration 170: Trial Sequence: SMCHHCPQTFESKRGL<span style='color:red;font-weight:bold'>N</span>LHGQIHDN, Total Score: 51.866</pre>"
            ]
          },
          "metadata": {}
        },
        {
          "output_type": "display_data",
          "data": {
            "text/plain": [
              "<IPython.core.display.HTML object>"
            ],
            "text/html": [
              "<pre style='font-family:monospace'>Iteration 171: Trial Sequence: SMC<span style='color:red;font-weight:bold'>V</span>HCPQTFESKRGLKLHGQIHDN, Total Score: 52.695</pre>"
            ]
          },
          "metadata": {}
        },
        {
          "output_type": "display_data",
          "data": {
            "text/plain": [
              "<IPython.core.display.HTML object>"
            ],
            "text/html": [
              "<pre style='font-family:monospace'>Iteration 172: Trial Sequence: SMC<span style='color:red;font-weight:bold'>F</span>HCPQTFESKRGLKLHGQIHDN, Total Score: 53.223</pre>"
            ]
          },
          "metadata": {}
        },
        {
          "output_type": "display_data",
          "data": {
            "text/plain": [
              "<IPython.core.display.HTML object>"
            ],
            "text/html": [
              "<pre style='font-family:monospace'>Iteration 173: Trial Sequence: SM<span style='color:red;font-weight:bold'>P</span>HHCPQTFESKRGLKLHGQIHDN, Total Score: 4.226</pre>"
            ]
          },
          "metadata": {}
        },
        {
          "output_type": "display_data",
          "data": {
            "text/plain": [
              "<IPython.core.display.HTML object>"
            ],
            "text/html": [
              "<pre style='font-family:monospace'>Iteration 174: Trial Sequence: SMCHHCPQTFESKRGLKLHG<span style='color:red;font-weight:bold'>L</span>IHDN, Total Score: 53.329</pre>"
            ]
          },
          "metadata": {}
        },
        {
          "output_type": "display_data",
          "data": {
            "text/plain": [
              "<IPython.core.display.HTML object>"
            ],
            "text/html": [
              "<pre style='font-family:monospace'>Iteration 175: Trial Sequence: SMCHHCPQT<span style='color:red;font-weight:bold'>K</span>ESKRGLKLHGQIHDN, Total Score: 18.884</pre>"
            ]
          },
          "metadata": {}
        },
        {
          "output_type": "display_data",
          "data": {
            "text/plain": [
              "<IPython.core.display.HTML object>"
            ],
            "text/html": [
              "<pre style='font-family:monospace'>Iteration 176: Trial Sequence: <span style='color:blue;font-weight:bold'>C</span>MCHHCPQTFESKRGLKLHGQIHDN, <span style='color:blue;font-weight:bold'>Total Score: 54.550</span></pre>"
            ]
          },
          "metadata": {}
        },
        {
          "output_type": "display_data",
          "data": {
            "text/plain": [
              "<IPython.core.display.HTML object>"
            ],
            "text/html": [
              "<pre style='font-family:monospace'>Iteration 177: Trial Sequence: CMC<span style='color:red;font-weight:bold'>S</span>HCPQTFESKRGLKLHGQIHDN, Total Score: 53.303</pre>"
            ]
          },
          "metadata": {}
        },
        {
          "output_type": "display_data",
          "data": {
            "text/plain": [
              "<IPython.core.display.HTML object>"
            ],
            "text/html": [
              "<pre style='font-family:monospace'>Iteration 178: Trial Sequence: CMCHHCPQTFESKRGL<span style='color:red;font-weight:bold'>A</span>LHGQIHDN, Total Score: 51.630</pre>"
            ]
          },
          "metadata": {}
        },
        {
          "output_type": "display_data",
          "data": {
            "text/plain": [
              "<IPython.core.display.HTML object>"
            ],
            "text/html": [
              "<pre style='font-family:monospace'>Iteration 179: Trial Sequence: CMCHHCPQTFESKRGLKLHG<span style='color:red;font-weight:bold'>G</span>IHDN, Total Score: 52.402</pre>"
            ]
          },
          "metadata": {}
        },
        {
          "output_type": "display_data",
          "data": {
            "text/plain": [
              "<IPython.core.display.HTML object>"
            ],
            "text/html": [
              "<pre style='font-family:monospace'>Iteration 180: Trial Sequence: CMCHHCPQTFESKRGLKLHGQ<span style='color:red;font-weight:bold'>V</span>HDN, Total Score: 52.049</pre>"
            ]
          },
          "metadata": {}
        },
        {
          "output_type": "display_data",
          "data": {
            "text/plain": [
              "<IPython.core.display.HTML object>"
            ],
            "text/html": [
              "<pre style='font-family:monospace'>Iteration 181: Trial Sequence: CMCHHCPQTFESKRGLKLHGQI<span style='color:red;font-weight:bold'>I</span>DN, Total Score: 45.248</pre>"
            ]
          },
          "metadata": {}
        },
        {
          "output_type": "display_data",
          "data": {
            "text/plain": [
              "<IPython.core.display.HTML object>"
            ],
            "text/html": [
              "<pre style='font-family:monospace'>Iteration 182: Trial Sequence: CMCHHCP<span style='color:red;font-weight:bold'>P</span>TFESKRGLKLHGQIHDN, Total Score: 20.380</pre>"
            ]
          },
          "metadata": {}
        },
        {
          "output_type": "display_data",
          "data": {
            "text/plain": [
              "<IPython.core.display.HTML object>"
            ],
            "text/html": [
              "<pre style='font-family:monospace'>Iteration 183: Trial Sequence: <span style='color:red;font-weight:bold'>D</span>MCHHCPQTFESKRGLKLHGQIHDN, Total Score: 52.382</pre>"
            ]
          },
          "metadata": {}
        },
        {
          "output_type": "display_data",
          "data": {
            "text/plain": [
              "<IPython.core.display.HTML object>"
            ],
            "text/html": [
              "<pre style='font-family:monospace'>Iteration 184: Trial Sequence: CMCHHCPQTFESKRGLK<span style='color:blue;font-weight:bold'>I</span>HGQIHDN, <span style='color:blue;font-weight:bold'>Total Score: 54.822</span></pre>"
            ]
          },
          "metadata": {}
        },
        {
          "output_type": "display_data",
          "data": {
            "text/plain": [
              "<IPython.core.display.HTML object>"
            ],
            "text/html": [
              "<pre style='font-family:monospace'>Iteration 185: Trial Sequence: CMCHHC<span style='color:red;font-weight:bold'>A</span>QTFESKRGLKIHGQIHDN, Total Score: 49.286</pre>"
            ]
          },
          "metadata": {}
        },
        {
          "output_type": "display_data",
          "data": {
            "text/plain": [
              "<IPython.core.display.HTML object>"
            ],
            "text/html": [
              "<pre style='font-family:monospace'>Iteration 186: Trial Sequence: CMCHHCPQTFESKRGLKIHGQIH<span style='color:blue;font-weight:bold'>M</span>N, <span style='color:blue;font-weight:bold'>Total Score: 54.912</span></pre>"
            ]
          },
          "metadata": {}
        },
        {
          "output_type": "display_data",
          "data": {
            "text/plain": [
              "<IPython.core.display.HTML object>"
            ],
            "text/html": [
              "<pre style='font-family:monospace'>Iteration 187: Trial Sequence: CMCHHCPQTFESKRG<span style='color:red;font-weight:bold'>T</span>KIHGQIHMN, Total Score: 29.093</pre>"
            ]
          },
          "metadata": {}
        },
        {
          "output_type": "display_data",
          "data": {
            "text/plain": [
              "<IPython.core.display.HTML object>"
            ],
            "text/html": [
              "<pre style='font-family:monospace'>Iteration 188: Trial Sequence: <span style='color:blue;font-weight:bold'>L</span>MCHHCPQTFESKRGLKIHGQIHMN, <span style='color:blue;font-weight:bold'>Total Score: 55.051</span></pre>"
            ]
          },
          "metadata": {}
        },
        {
          "output_type": "display_data",
          "data": {
            "text/plain": [
              "<IPython.core.display.HTML object>"
            ],
            "text/html": [
              "<pre style='font-family:monospace'>Iteration 189: Trial Sequence: LMCHHCPQ<span style='color:blue;font-weight:bold'>E</span>FESKRGLKIHGQIHMN, <span style='color:blue;font-weight:bold'>Total Score: 55.408</span></pre>"
            ]
          },
          "metadata": {}
        },
        {
          "output_type": "display_data",
          "data": {
            "text/plain": [
              "<IPython.core.display.HTML object>"
            ],
            "text/html": [
              "<pre style='font-family:monospace'>Iteration 190: Trial Sequence: LMCHHCPQEFESKRGLKIHGQI<span style='color:red;font-weight:bold'>P</span>MN, Total Score: 30.177</pre>"
            ]
          },
          "metadata": {}
        },
        {
          "output_type": "display_data",
          "data": {
            "text/plain": [
              "<IPython.core.display.HTML object>"
            ],
            "text/html": [
              "<pre style='font-family:monospace'>Iteration 191: Trial Sequence: LMCHHC<span style='color:red;font-weight:bold'>H</span>QEFESKRGLKIHGQIHMN, Total Score: 49.531</pre>"
            ]
          },
          "metadata": {}
        },
        {
          "output_type": "display_data",
          "data": {
            "text/plain": [
              "<IPython.core.display.HTML object>"
            ],
            "text/html": [
              "<pre style='font-family:monospace'>Iteration 192: Trial Sequence: LMCHHCPQEFESKR<span style='color:blue;font-weight:bold'>R</span>LKIHGQIHMN, <span style='color:blue;font-weight:bold'>Total Score: 56.195</span></pre>"
            ]
          },
          "metadata": {}
        },
        {
          "output_type": "display_data",
          "data": {
            "text/plain": [
              "<IPython.core.display.HTML object>"
            ],
            "text/html": [
              "<pre style='font-family:monospace'>Iteration 193: Trial Sequence: LMCHHCPQEFESKRRLKIHGQI<span style='color:red;font-weight:bold'>C</span>MN, Total Score: 31.986</pre>"
            ]
          },
          "metadata": {}
        },
        {
          "output_type": "display_data",
          "data": {
            "text/plain": [
              "<IPython.core.display.HTML object>"
            ],
            "text/html": [
              "<pre style='font-family:monospace'>Iteration 194: Trial Sequence: LMCHHCPQEFESKRRLKIHGQI<span style='color:red;font-weight:bold'>N</span>MN, Total Score: 0.671</pre>"
            ]
          },
          "metadata": {}
        },
        {
          "output_type": "display_data",
          "data": {
            "text/plain": [
              "<IPython.core.display.HTML object>"
            ],
            "text/html": [
              "<pre style='font-family:monospace'>Iteration 195: Trial Sequence: LMCHHCPQEFESKRRLKIHGQ<span style='color:red;font-weight:bold'>W</span>HMN, Total Score: 49.889</pre>"
            ]
          },
          "metadata": {}
        },
        {
          "output_type": "display_data",
          "data": {
            "text/plain": [
              "<IPython.core.display.HTML object>"
            ],
            "text/html": [
              "<pre style='font-family:monospace'>Iteration 196: Trial Sequence: LMCHHCPQEFES<span style='color:blue;font-weight:bold'>E</span>RRLKIHGQIHMN, <span style='color:blue;font-weight:bold'>Total Score: 58.703</span></pre>"
            ]
          },
          "metadata": {}
        },
        {
          "output_type": "display_data",
          "data": {
            "text/plain": [
              "<IPython.core.display.HTML object>"
            ],
            "text/html": [
              "<pre style='font-family:monospace'>Iteration 197: Trial Sequence: LMCHHCPQE<span style='color:red;font-weight:bold'>I</span>ESERRLKIHGQIHMN, Total Score: 53.042</pre>"
            ]
          },
          "metadata": {}
        },
        {
          "output_type": "display_data",
          "data": {
            "text/plain": [
              "<IPython.core.display.HTML object>"
            ],
            "text/html": [
              "<pre style='font-family:monospace'>Iteration 198: Trial Sequence: LMCH<span style='color:red;font-weight:bold'>V</span>CPQEFESERRLKIHGQIHMN, Total Score: 58.407</pre>"
            ]
          },
          "metadata": {}
        },
        {
          "output_type": "display_data",
          "data": {
            "text/plain": [
              "<IPython.core.display.HTML object>"
            ],
            "text/html": [
              "<pre style='font-family:monospace'>Iteration 199: Trial Sequence: LMCHHCPQEFESERRLKIH<span style='color:red;font-weight:bold'>V</span>QIHMN, Total Score: 52.508</pre>"
            ]
          },
          "metadata": {}
        },
        {
          "output_type": "display_data",
          "data": {
            "text/plain": [
              "<IPython.core.display.HTML object>"
            ],
            "text/html": [
              "<pre style='font-family:monospace'>Iteration 200: Trial Sequence: LMCHHCPQEFESERRLKIHG<span style='color:red;font-weight:bold'>I</span>IHMN, Total Score: 57.919</pre>"
            ]
          },
          "metadata": {}
        },
        {
          "output_type": "stream",
          "name": "stdout",
          "text": [
            "\n",
            "History printing complete.\n",
            "\n",
            "Comparison: Original Sequence vs Best Found Sequence\n"
          ]
        },
        {
          "output_type": "display_data",
          "data": {
            "text/plain": [
              "<IPython.core.display.HTML object>"
            ],
            "text/html": [
              "<pre style='font-family:monospace'>Original Protein: YKCGLCERSFVEKSALSRHQRVHKN</pre>"
            ]
          },
          "metadata": {}
        },
        {
          "output_type": "display_data",
          "data": {
            "text/plain": [
              "<IPython.core.display.HTML object>"
            ],
            "text/html": [
              "<pre style='font-family:monospace'>Best Protein:     <span style='color:red;font-weight:bold'>L</span><span style='color:red;font-weight:bold'>M</span>C<span style='color:red;font-weight:bold'>H</span><span style='color:red;font-weight:bold'>H</span>C<span style='color:red;font-weight:bold'>P</span><span style='color:red;font-weight:bold'>Q</span><span style='color:red;font-weight:bold'>E</span>F<span style='color:red;font-weight:bold'>E</span><span style='color:red;font-weight:bold'>S</span><span style='color:red;font-weight:bold'>E</span><span style='color:red;font-weight:bold'>R</span><span style='color:red;font-weight:bold'>R</span>L<span style='color:red;font-weight:bold'>K</span><span style='color:red;font-weight:bold'>I</span>H<span style='color:red;font-weight:bold'>G</span><span style='color:red;font-weight:bold'>Q</span><span style='color:red;font-weight:bold'>I</span>H<span style='color:red;font-weight:bold'>M</span>N</pre>"
            ]
          },
          "metadata": {}
        },
        {
          "output_type": "display_data",
          "data": {
            "text/plain": [
              "<IPython.core.display.HTML object>"
            ],
            "text/html": [
              "<pre style='font-family:monospace'>Original DNA: TAC AAA TGC GGG TTG TGC GAG AGG AGC TTT GTG GAA AAG TCT GCC CTT TCC AGA CAC CAG AGG GTT CAC AAA AAT</pre>"
            ]
          },
          "metadata": {}
        },
        {
          "output_type": "display_data",
          "data": {
            "text/plain": [
              "<IPython.core.display.HTML object>"
            ],
            "text/html": [
              "<pre style='font-family:monospace'>Best DNA:     <span style='color:red;font-weight:bold'>CTC</span> <span style='color:red;font-weight:bold'>ATG</span> TGC <span style='color:red;font-weight:bold'>CAC</span> <span style='color:red;font-weight:bold'>CAT</span> TGC <span style='color:red;font-weight:bold'>CCG</span> <span style='color:red;font-weight:bold'>CAA</span> <span style='color:red;font-weight:bold'>GAA</span> TTT <span style='color:red;font-weight:bold'>GAA</span> <span style='color:red;font-weight:bold'>TCG</span> <span style='color:red;font-weight:bold'>GAA</span> <span style='color:red;font-weight:bold'>AGG</span> <span style='color:red;font-weight:bold'>CGA</span> CTT <span style='color:red;font-weight:bold'>AAG</span> <span style='color:red;font-weight:bold'>ATC</span> CAC <span style='color:red;font-weight:bold'>GGA</span> <span style='color:red;font-weight:bold'>CAA</span> <span style='color:red;font-weight:bold'>ATA</span> CAC <span style='color:red;font-weight:bold'>ATG</span> AAT</pre>"
            ]
          },
          "metadata": {}
        },
        {
          "output_type": "stream",
          "name": "stdout",
          "text": [
            "\n",
            "Optimized Best DNA Sequence:\n"
          ]
        },
        {
          "output_type": "display_data",
          "data": {
            "text/plain": [
              "<IPython.core.display.HTML object>"
            ],
            "text/html": [
              "<pre style='font-family:monospace'>Original DNA: TAC AAA TGC GGG TTG TGC GAG AGG AGC TTT GTG GAA AAG TCT GCC CTT TCC AGA CAC CAG AGG GTT CAC AAA AAT</pre>"
            ]
          },
          "metadata": {}
        },
        {
          "output_type": "display_data",
          "data": {
            "text/plain": [
              "<IPython.core.display.HTML object>"
            ],
            "text/html": [
              "<pre style='font-family:monospace'>Best DNA:     <span style='color:red;font-weight:bold'>TTA</span> <span style='color:red;font-weight:bold'>ATG</span> <span style='color:red;font-weight:bold'>TGT</span> <span style='color:red;font-weight:bold'>CAT</span> <span style='color:red;font-weight:bold'>CAC</span> <span style='color:red;font-weight:bold'>TGT</span> <span style='color:red;font-weight:bold'>CCT</span> <span style='color:red;font-weight:bold'>CAG</span> <span style='color:red;font-weight:bold'>GAG</span> <span style='color:red;font-weight:bold'>TTC</span> <span style='color:red;font-weight:bold'>GAG</span> <span style='color:red;font-weight:bold'>AGT</span> <span style='color:red;font-weight:bold'>GAG</span> <span style='color:red;font-weight:bold'>CGT</span> <span style='color:red;font-weight:bold'>AGG</span> <span style='color:red;font-weight:bold'>TTA</span> <span style='color:red;font-weight:bold'>AAA</span> <span style='color:red;font-weight:bold'>ATT</span> <span style='color:red;font-weight:bold'>CAT</span> <span style='color:red;font-weight:bold'>GGT</span> <span style='color:red;font-weight:bold'>CAG</span> <span style='color:red;font-weight:bold'>ATT</span> <span style='color:red;font-weight:bold'>CAT</span> <span style='color:red;font-weight:bold'>ATG</span> <span style='color:red;font-weight:bold'>AAC</span></pre>"
            ]
          },
          "metadata": {}
        },
        {
          "output_type": "stream",
          "name": "stdout",
          "text": [
            "\n",
            "(Protein identity is 28.0%)\n"
          ]
        }
      ]
    },
    {
      "cell_type": "code",
      "metadata": {
        "colab": {
          "base_uri": "https://localhost:8080/",
          "height": 881
        },
        "cellView": "form",
        "id": "b5aadf40",
        "outputId": "29f21d7e-a8f4-4f3b-d9cc-718dc3825001"
      },
      "source": [
        "#@title Plot sequence history\n",
        "\n",
        "import matplotlib.pyplot as plt\n",
        "import numpy as np\n",
        "\n",
        "# Assuming the history dictionary is loaded from the previous cell\n",
        "# history = np.load(history_filename.replace('.pkl', '.npy'), allow_pickle=True).item()\n",
        "\n",
        "all_iterations = history['all_iterations']\n",
        "all_mutation_scores = history['all_mutation_scores']\n",
        "all_sim_scores = history['all_sim_scores']\n",
        "all_total_scores = history['all_total_scores']\n",
        "\n",
        "accepted_iterations = history['accepted_iterations']\n",
        "accepted_mutation_scores = history['accepted_mutation_scores']\n",
        "accepted_sim_scores = history['accepted_sim_scores']\n",
        "accepted_total_scores = history['accepted_total_scores']\n",
        "\n",
        "# Normalize scores for the time series plots\n",
        "# Find the max values across both all and accepted scores to normalize consistently\n",
        "max_mutation_score = max(max(all_mutation_scores) if all_mutation_scores else 0,\n",
        "                         max(accepted_mutation_scores) if accepted_mutation_scores else 0)\n",
        "max_sim_score = max(max(all_sim_scores) if all_sim_scores else 0,\n",
        "                    max(accepted_sim_scores) if accepted_sim_scores else 0)\n",
        "max_total_score = max(max(all_total_scores) if all_total_scores else 0,\n",
        "                      max(accepted_total_scores) if accepted_total_scores else 0)\n",
        "\n",
        "\n",
        "normalized_all_mutation_scores = [score / max_mutation_score if max_mutation_score > 0 else 0 for score in all_mutation_scores]\n",
        "normalized_all_sim_scores = [score / max_sim_score if max_sim_score > 0 else 0 for score in all_sim_scores]\n",
        "normalized_all_total_scores = [score / max_total_score if max_total_score > 0 else 0 for score in all_total_scores]\n",
        "\n",
        "normalized_accepted_mutation_scores = [score / max_mutation_score if max_mutation_score > 0 else 0 for score in accepted_mutation_scores]\n",
        "normalized_accepted_sim_scores = [score / max_sim_score if max_sim_score > 0 else 0 for score in accepted_sim_scores]\n",
        "normalized_accepted_total_scores = [score / max_total_score if max_total_score > 0 else 0 for score in accepted_total_scores]\n",
        "\n",
        "\n",
        "fig, axes = plt.subplots(2, 2, figsize=(12, 10))\n",
        "fig.suptitle('Mutation Evolution Analysis', fontsize=16)\n",
        "\n",
        "# Subplot 1: All sequences - Mutation vs Similarity Scatter\n",
        "axes[0, 0].scatter(all_mutation_scores, all_sim_scores, alpha=0.5, label='All Mutations')\n",
        "axes[0, 0].plot(all_mutation_scores, all_sim_scores, alpha=0.2, linestyle='-', linewidth=1)\n",
        "axes[0, 0].set_xlabel('Mutation Score')\n",
        "axes[0, 0].set_ylabel('Similarity Score')\n",
        "axes[0, 0].set_title('All Sequences: Mutation vs Similarity')\n",
        "axes[0, 0].grid(True)\n",
        "\n",
        "# Subplot 2: Accepted sequences - Mutation vs Similarity Scatter\n",
        "axes[0, 1].scatter(accepted_mutation_scores, accepted_sim_scores, color='green', alpha=0.7, label='Accepted Mutations')\n",
        "axes[0, 1].plot(accepted_mutation_scores, accepted_sim_scores, color='green', alpha=0.4, linestyle='-', linewidth=1)\n",
        "axes[0, 1].set_xlabel('Mutation Score')\n",
        "axes[0, 1].set_ylabel('Similarity Score')\n",
        "axes[0, 1].set_title('Accepted Sequences: Mutation vs Similarity')\n",
        "axes[0, 1].grid(True)\n",
        "\n",
        "# Subplot 3: All sequences - Scores over Time (Normalized)\n",
        "axes[1, 0].plot(all_iterations, normalized_all_mutation_scores, label='Normalized Mutation Score')\n",
        "axes[1, 0].plot(all_iterations, normalized_all_sim_scores, label='Normalized Similarity Score')\n",
        "axes[1, 0].plot(all_iterations, normalized_all_total_scores, label='Normalized Total Score')\n",
        "axes[1, 0].set_xlabel('Iteration')\n",
        "axes[1, 0].set_ylabel('Normalized Score')\n",
        "axes[1, 0].set_title('All Sequences: Normalized Scores over Time')\n",
        "axes[1, 0].legend()\n",
        "axes[1, 0].grid(True)\n",
        "\n",
        "# Subplot 4: Accepted sequences - Scores over Time (Normalized)\n",
        "axes[1, 1].plot(accepted_iterations, normalized_accepted_mutation_scores, label='Normalized Mutation Score')\n",
        "axes[1, 1].plot(accepted_iterations, normalized_accepted_sim_scores, label='Normalized Similarity Score')\n",
        "axes[1, 1].plot(accepted_iterations, normalized_accepted_total_scores, label='Normalized Total Score')\n",
        "axes[1, 1].set_xlabel('Iteration')\n",
        "axes[1, 1].set_ylabel('Normalized Score')\n",
        "axes[1, 1].set_title('Accepted Sequences: Normalized Scores over Time')\n",
        "axes[1, 1].legend()\n",
        "axes[1, 1].grid(True)\n",
        "\n",
        "plt.tight_layout(rect=[0, 0.03, 1, 0.95]) # Adjust layout to prevent title overlap\n",
        "plt.show()"
      ],
      "execution_count": 24,
      "outputs": [
        {
          "output_type": "display_data",
          "data": {
            "text/plain": [
              "<Figure size 1200x1000 with 4 Axes>"
            ],
            "image/png": "[encoded data removed]"
          },
          "metadata": {}
        }
      ]
    },
    {
      "cell_type": "code",
      "metadata": {
        "colab": {
          "base_uri": "https://localhost:8080/",
          "height": 718
        },
        "cellView": "form",
        "id": "67401602",
        "outputId": "81086476-80dd-4bc8-e3db-7e99884db9b0"
      },
      "source": [
        "#@title Plot all accepted mutations\n",
        "\n",
        "import pandas as pd\n",
        "import seaborn as sns\n",
        "import matplotlib.pyplot as plt\n",
        "from collections import defaultdict\n",
        "\n",
        "sim_threshold = 0.1 #@param\n",
        "\n",
        "# Assuming the history dictionary is loaded from the previous cell\n",
        "# history = np.load(history_filename.replace('.pkl', '.npy'), allow_pickle=True).item()\n",
        "\n",
        "all_iterations = history['all_iterations']\n",
        "all_sim_scores = history['all_sim_scores']\n",
        "all_tried_protein_sequences = history['all_tried_protein_sequences'] # These are already protein sequences\n",
        "\n",
        "# Filter for mutations with similarity score >= 0.8\n",
        "high_similarity_mutations = []\n",
        "# Iterate through all tried sequences starting from the second one (index 1)\n",
        "for i in range(1, len(all_tried_protein_sequences)):\n",
        "    iteration = all_iterations[i-1] # Iteration numbers correspond to the mutation *leading to* the current sequence\n",
        "    previous_protein_sequence = all_tried_protein_sequences[i-1]\n",
        "    current_protein_sequence = all_tried_protein_sequences[i]\n",
        "    similarity_score = all_sim_scores[i-1] # Similarity score for the mutation at this iteration\n",
        "\n",
        "    if similarity_score >= sim_threshold:\n",
        "        # Find the mutated position and amino acids\n",
        "        mutated_pos = -1\n",
        "        original_aa = None\n",
        "        mutated_aa = None\n",
        "        for j in range(len(previous_protein_sequence)):\n",
        "            if previous_protein_sequence[j] != current_protein_sequence[j]:\n",
        "                mutated_pos = j\n",
        "                original_aa = previous_protein_sequence[j]\n",
        "                mutated_aa = current_protein_sequence[j]\n",
        "                break # Assuming only one mutation per step\n",
        "\n",
        "        if mutated_pos != -1:\n",
        "            high_similarity_mutations.append({'original_aa': original_aa,\n",
        "                                             'mutated_aa': mutated_aa,\n",
        "                                             'position': mutated_pos,\n",
        "                                             'similarity_score': similarity_score})\n",
        "\n",
        "# Count the frequency of each substitution\n",
        "substitution_counts = defaultdict(int)\n",
        "for mutation in high_similarity_mutations:\n",
        "    substitution_counts[(mutation['original_aa'], mutation['mutated_aa'])] += 1\n",
        "\n",
        "# Create a matrix (DataFrame) for visualization\n",
        "# Get all unique amino acids involved in these substitutions\n",
        "all_aas = sorted(list(set([m['original_aa'] for m in high_similarity_mutations] +\n",
        "                         [m['mutated_aa'] for m in high_similarity_mutations])))\n",
        "\n",
        "substitution_matrix = pd.DataFrame(0, index=all_aas, columns=all_aas)\n",
        "\n",
        "for (orig, mut), count in substitution_counts.items():\n",
        "    substitution_matrix.loc[orig, mut] = count\n",
        "\n",
        "# Visualize the matrix\n",
        "plt.figure(figsize=(10, 8))\n",
        "sns.heatmap(substitution_matrix, cmap=\"viridis\", annot=True, fmt=\"d\", linewidths=.5)\n",
        "plt.xlabel(\"Mutated Amino Acid\")\n",
        "plt.ylabel(\"Original Amino Acid\")\n",
        "plt.title(f\"Amino Acid Substitutions with Similarity Score >= {sim_threshold}\")\n",
        "plt.show()"
      ],
      "execution_count": 25,
      "outputs": [
        {
          "output_type": "display_data",
          "data": {
            "text/plain": [
              "<Figure size 1000x800 with 2 Axes>"
            ],
            "image/png": "[encoded data removed]"
          },
          "metadata": {}
        }
      ]
    },
    {
      "cell_type": "code",
      "metadata": {
        "colab": {
          "base_uri": "https://localhost:8080/",
          "height": 564
        },
        "id": "73de7d81",
        "outputId": "01e2bdbf-618f-4f37-a832-f1d8065d8dfa"
      },
      "source": [
        "import matplotlib.pyplot as plt\n",
        "\n",
        "# Assuming 'all_sim_scores' is available from the previous cell's execution\n",
        "# If not, you might need to load the history again:\n",
        "# history = np.load(history_filename.replace('.pkl', '.npy'), allow_pickle=True).item()\n",
        "# all_sim_scores = history['all_sim_scores']\n",
        "\n",
        "plt.figure(figsize=(8, 6))\n",
        "plt.hist(all_sim_scores, bins=20, edgecolor='black')\n",
        "plt.xlabel('Similarity Score')\n",
        "plt.ylabel('Frequency')\n",
        "plt.title('Distribution of All Similarity Scores')\n",
        "plt.grid(axis='y', alpha=0.75)\n",
        "plt.show()"
      ],
      "execution_count": 12,
      "outputs": [
        {
          "output_type": "display_data",
          "data": {
            "text/plain": [
              "<Figure size 800x600 with 1 Axes>"
            ],
            "image/png": "[encoded data removed]"
          },
          "metadata": {}
        }
      ]
    },
    {
      "cell_type": "code",
      "metadata": {
        "colab": {
          "base_uri": "https://localhost:8080/",
          "height": 35
        },
        "cellView": "form",
        "id": "53d927e5",
        "outputId": "d26e4e4f-cbfe-43ee-d304-5924e3acfe2c"
      },
      "source": [
        "#@title Download sequences above a total score threshold\n",
        "\n",
        "from google.colab import files\n",
        "\n",
        "score_threshold = 40.0 #@param{type:\"number\"}\n",
        "\n",
        "# Filter sequences based on the score threshold\n",
        "high_scoring_sequences = [\n",
        "    seq for i, seq in enumerate(history['all_tried_protein_sequences'][1:]) # Start from index 1 to skip original\n",
        "    if history['all_total_scores'][i] >= score_threshold\n",
        "]\n",
        "\n",
        "# Add the original sequence if its score (or a derived score) meets the threshold\n",
        "# This assumes original_seq's score is available in history or can be calculated\n",
        "# If the original sequence's score is not explicitly in all_total_scores at index 0,\n",
        "# you might need to calculate it or handle it separately.\n",
        "# For simplicity, let's assume the first entry in all_total_scores corresponds to the first tried sequence (index 1 in all_tried_protein_sequences)\n",
        "# and the original sequence is implicitly handled if it leads to a high-scoring mutation.\n",
        "# A more explicit way if needed:\n",
        "# original_score = mutation_score(original_seq, original_seq) * rmsd_to_similarity(align_pred_to_ref(pdb_str, \"reference.pdb\")[1]) # Example calculation\n",
        "# if original_score >= score_threshold and history['all_tried_protein_sequences'][0] not in high_scoring_sequences:\n",
        "#    high_scoring_sequences.insert(0, history['all_tried_protein_sequences'][0])\n",
        "\n",
        "# Add the best protein sequence if it's not already included (it should be if its score > threshold)\n",
        "best_protein_sequence = history['best_protein_sequence']\n",
        "if best_protein_sequence not in high_scoring_sequences and history['best_total_score'] >= score_threshold:\n",
        "    high_scoring_sequences.append(best_protein_sequence)\n",
        "\n",
        "\n",
        "# Create the FASTA file content\n",
        "fasta_content = \"\"\n",
        "for i, seq in enumerate(high_scoring_sequences):\n",
        "    fasta_content += f\">Sequence_{i+1}\\n{seq}\\n\"\n",
        "\n",
        "# Define the filename\n",
        "fasta_filename = \"high_scoring_sequences.fasta\"\n",
        "\n",
        "# Write the FASTA content to a file\n",
        "with open(fasta_filename, \"w\") as f:\n",
        "    f.write(fasta_content)\n",
        "\n",
        "# Download the file\n",
        "files.download(fasta_filename)\n",
        "\n",
        "print(f\"Created and downloaded {fasta_filename} containing {len(high_scoring_sequences)} sequences with total score >= {score_threshold}.\")"
      ],
      "execution_count": 13,
      "outputs": [
        {
          "output_type": "display_data",
          "data": {
            "text/plain": [
              "<IPython.core.display.Javascript object>"
            ],
            "application/javascript": [
              "\n",
              "    async function download(id, filename, size) {\n",
              "      if (!google.colab.kernel.accessAllowed) {\n",
              "        return;\n",
              "      }\n",
              "      const div = document.createElement('div');\n",
              "      const label = document.createElement('label');\n",
              "      label.textContent = `Downloading \"${filename}\": `;\n",
              "      div.appendChild(label);\n",
              "      const progress = document.createElement('progress');\n",
              "      progress.max = size;\n",
              "      div.appendChild(progress);\n",
              "      document.body.appendChild(div);\n",
              "\n",
              "      const buffers = [];\n",
              "      let downloaded = 0;\n",
              "\n",
              "      const channel = await google.colab.kernel.comms.open(id);\n",
              "      // Send a message to notify the kernel that we're ready.\n",
              "      channel.send({})\n",
              "\n",
              "      for await (const message of channel.messages) {\n",
              "        // Send a message to notify the kernel that we're ready.\n",
              "        channel.send({})\n",
              "        if (message.buffers) {\n",
              "          for (const buffer of message.buffers) {\n",
              "            buffers.push(buffer);\n",
              "            downloaded += buffer.byteLength;\n",
              "            progress.value = downloaded;\n",
              "          }\n",
              "        }\n",
              "      }\n",
              "      const blob = new Blob(buffers, {type: 'application/binary'});\n",
              "      const a = document.createElement('a');\n",
              "      a.href = window.URL.createObjectURL(blob);\n",
              "      a.download = filename;\n",
              "      div.appendChild(a);\n",
              "      a.click();\n",
              "      div.remove();\n",
              "    }\n",
              "  "
            ]
          },
          "metadata": {}
        },
        {
          "output_type": "display_data",
          "data": {
            "text/plain": [
              "<IPython.core.display.Javascript object>"
            ],
            "application/javascript": [
              "download(\"download_b488deb2-3ede-4bcd-9fcb-9161e77955f5\", \"high_scoring_sequences.fasta\", 2292)"
            ]
          },
          "metadata": {}
        },
        {
          "output_type": "stream",
          "name": "stdout",
          "text": [
            "Created and downloaded high_scoring_sequences.fasta containing 59 sequences with total score >= 40.0.\n"
          ]
        }
      ]
    },
    {
      "cell_type": "code",
      "metadata": {
        "colab": {
          "base_uri": "https://localhost:8080/",
          "height": 53
        },
        "id": "359edac2",
        "outputId": "6a4ddaba-d2e7-4f9d-da50-3daea1d4526b"
      },
      "source": [
        "#@title Download history files\n",
        "\n",
        "from google.colab import files\n",
        "import os\n",
        "\n",
        "# Define the history filenames\n",
        "history_pkl_filename = \"mutation_history_5.pkl\"\n",
        "history_npy_filename = \"mutation_history_5.npy\" # Assuming you saved the .npy as well\n",
        "\n",
        "# Download the files if they exist\n",
        "if os.path.exists(history_pkl_filename):\n",
        "    files.download(history_pkl_filename)\n",
        "    print(f\"Downloaded {history_pkl_filename}\")\n",
        "else:\n",
        "    print(f\"{history_pkl_filename} not found.\")\n",
        "\n",
        "if os.path.exists(history_npy_filename):\n",
        "    files.download(history_npy_filename)\n",
        "    print(f\"Downloaded {history_npy_filename}\")\n",
        "else:\n",
        "    print(f\"{history_npy_filename} not found.\")"
      ],
      "execution_count": 26,
      "outputs": [
        {
          "output_type": "display_data",
          "data": {
            "text/plain": [
              "<IPython.core.display.Javascript object>"
            ],
            "application/javascript": [
              "\n",
              "    async function download(id, filename, size) {\n",
              "      if (!google.colab.kernel.accessAllowed) {\n",
              "        return;\n",
              "      }\n",
              "      const div = document.createElement('div');\n",
              "      const label = document.createElement('label');\n",
              "      label.textContent = `Downloading \"${filename}\": `;\n",
              "      div.appendChild(label);\n",
              "      const progress = document.createElement('progress');\n",
              "      progress.max = size;\n",
              "      div.appendChild(progress);\n",
              "      document.body.appendChild(div);\n",
              "\n",
              "      const buffers = [];\n",
              "      let downloaded = 0;\n",
              "\n",
              "      const channel = await google.colab.kernel.comms.open(id);\n",
              "      // Send a message to notify the kernel that we're ready.\n",
              "      channel.send({})\n",
              "\n",
              "      for await (const message of channel.messages) {\n",
              "        // Send a message to notify the kernel that we're ready.\n",
              "        channel.send({})\n",
              "        if (message.buffers) {\n",
              "          for (const buffer of message.buffers) {\n",
              "            buffers.push(buffer);\n",
              "            downloaded += buffer.byteLength;\n",
              "            progress.value = downloaded;\n",
              "          }\n",
              "        }\n",
              "      }\n",
              "      const blob = new Blob(buffers, {type: 'application/binary'});\n",
              "      const a = document.createElement('a');\n",
              "      a.href = window.URL.createObjectURL(blob);\n",
              "      a.download = filename;\n",
              "      div.appendChild(a);\n",
              "      a.click();\n",
              "      div.remove();\n",
              "    }\n",
              "  "
            ]
          },
          "metadata": {}
        },
        {
          "output_type": "display_data",
          "data": {
            "text/plain": [
              "<IPython.core.display.Javascript object>"
            ],
            "application/javascript": [
              "download(\"download_4fc27e26-d54a-468c-9089-ca5d366f5989\", \"mutation_history_5.pkl\", 17043)"
            ]
          },
          "metadata": {}
        },
        {
          "output_type": "stream",
          "name": "stdout",
          "text": [
            "Downloaded mutation_history_5.pkl\n"
          ]
        },
        {
          "output_type": "display_data",
          "data": {
            "text/plain": [
              "<IPython.core.display.Javascript object>"
            ],
            "application/javascript": [
              "\n",
              "    async function download(id, filename, size) {\n",
              "      if (!google.colab.kernel.accessAllowed) {\n",
              "        return;\n",
              "      }\n",
              "      const div = document.createElement('div');\n",
              "      const label = document.createElement('label');\n",
              "      label.textContent = `Downloading \"${filename}\": `;\n",
              "      div.appendChild(label);\n",
              "      const progress = document.createElement('progress');\n",
              "      progress.max = size;\n",
              "      div.appendChild(progress);\n",
              "      document.body.appendChild(div);\n",
              "\n",
              "      const buffers = [];\n",
              "      let downloaded = 0;\n",
              "\n",
              "      const channel = await google.colab.kernel.comms.open(id);\n",
              "      // Send a message to notify the kernel that we're ready.\n",
              "      channel.send({})\n",
              "\n",
              "      for await (const message of channel.messages) {\n",
              "        // Send a message to notify the kernel that we're ready.\n",
              "        channel.send({})\n",
              "        if (message.buffers) {\n",
              "          for (const buffer of message.buffers) {\n",
              "            buffers.push(buffer);\n",
              "            downloaded += buffer.byteLength;\n",
              "            progress.value = downloaded;\n",
              "          }\n",
              "        }\n",
              "      }\n",
              "      const blob = new Blob(buffers, {type: 'application/binary'});\n",
              "      const a = document.createElement('a');\n",
              "      a.href = window.URL.createObjectURL(blob);\n",
              "      a.download = filename;\n",
              "      div.appendChild(a);\n",
              "      a.click();\n",
              "      div.remove();\n",
              "    }\n",
              "  "
            ]
          },
          "metadata": {}
        },
        {
          "output_type": "display_data",
          "data": {
            "text/plain": [
              "<IPython.core.display.Javascript object>"
            ],
            "application/javascript": [
              "download(\"download_10f4e5e7-d1df-4385-b5e7-e086685da35d\", \"mutation_history_5.npy\", 17277)"
            ]
          },
          "metadata": {}
        },
        {
          "output_type": "stream",
          "name": "stdout",
          "text": [
            "Downloaded mutation_history_5.npy\n"
          ]
        }
      ]
    },
    {
      "cell_type": "markdown",
      "metadata": {
        "id": "4828a5d2"
      },
      "source": [
        "## Identify top sequences\n",
        "\n"
      ]
    },
    {
      "cell_type": "code",
      "metadata": {
        "colab": {
          "base_uri": "https://localhost:8080/"
        },
        "cellView": "form",
        "id": "0b70fb72",
        "outputId": "a314ec3f-3c85-4368-df7b-d254a0ec9a23"
      },
      "source": [
        "#@title Top scores\n",
        "all_total_scores = history['all_total_scores']\n",
        "all_tried_protein_sequences = history['all_tried_protein_sequences']\n",
        "all_iterations = history['all_iterations'] # Keep track of iterations to help potentially link back\n",
        "\n",
        "# Get indices of all scores sorted in descending order\n",
        "sorted_indices = np.argsort(all_total_scores)[::-1]\n",
        "\n",
        "# Select the top 20 indices\n",
        "top_20_indices = sorted_indices[:20]\n",
        "\n",
        "# Retrieve the top 20 protein sequences\n",
        "top_20_protein_sequences = [all_tried_protein_sequences[i] for i in top_20_indices]\n",
        "\n",
        "print(\"Top 20 Protein Sequences:\")\n",
        "for i, seq in enumerate(top_20_protein_sequences):\n",
        "    print(f\"{i+1}: {seq} (Score: {all_total_scores[top_20_indices[i]]:.3f})\")\n",
        "\n",
        "# Since the DNA sequences were not explicitly stored for every tried protein sequence in the history,\n",
        "# and reconstructing them based solely on the protein sequence and original_seq is not straightforward\n",
        "# due to silent mutations and the iterative nature, we cannot definitively link the top 20 protein\n",
        "# sequences back to their exact DNA sequences from the current history structure.\n",
        "# To achieve the next step of the main task (position-dependent amino acid distributions),\n",
        "# we need the protein sequences themselves, which we have.\n",
        "# For the subtask of finding the *DNA* sequences, we cannot complete it with the current history data structure.\n",
        "# We will proceed with the protein sequences for the main task and report failure for the subtask as defined."
      ],
      "execution_count": 15,
      "outputs": [
        {
          "output_type": "stream",
          "name": "stdout",
          "text": [
            "Top 20 Protein Sequences:\n",
            "1: LACPKMCHTFETQAELNNCMRRVDN (Score: 51.985)\n",
            "2: LACPKMCHTFETQAELNHCHRRVDN (Score: 51.642)\n",
            "3: LACPKMCHTFETQAELNHCMRRVDN (Score: 51.483)\n",
            "4: YACPKMCHTFETQAELNVCSRRVDN (Score: 51.013)\n",
            "5: PACPKMCHTFETQAELNHCMRRVDN (Score: 50.664)\n",
            "6: LACPKMCHTFETQAELNVCMRVVDN (Score: 50.519)\n",
            "7: LAAPKMCHTFETQAELNHCMRRVDN (Score: 50.391)\n",
            "8: LACPKVCHTFETQAELNVCMRRVDN (Score: 50.126)\n",
            "9: LACWKMCHTFETQAELNVCMRRVDN (Score: 50.091)\n",
            "10: LACPKMCHTFCTQAELNHCMRRVDN (Score: 49.916)\n",
            "11: LPCPKMCHTFETQAELNHCMRRVDN (Score: 49.747)\n",
            "12: LACPKMCFTFETQAELNHCMRRVDN (Score: 49.719)\n",
            "13: LACPKSCHTFETQAELNHCMRRVDN (Score: 49.181)\n",
            "14: LACPKMCHTLETQAELNVCMRRVDN (Score: 48.706)\n",
            "15: LACPKMCHTFETQAELNHIMRRVDN (Score: 48.479)\n",
            "16: YACPKMCKTFETQAELNVCMRRVEN (Score: 48.462)\n",
            "17: LACPKMCHTFETQAELRHCMRRVDN (Score: 47.993)\n",
            "18: LACPKMPHTFETQAELNHCMRRVDN (Score: 47.835)\n",
            "19: LACPKMCHTFETQAGLNHCMRRVDN (Score: 47.807)\n",
            "20: YACPKMCHTFETCAELNVCMRRVDN (Score: 47.609)\n"
          ]
        }
      ]
    },
    {
      "cell_type": "markdown",
      "source": [
        "Lets see what maximum score we could expect for our protein under the current scoring"
      ],
      "metadata": {
        "id": "-BW6tVE4o_GP"
      }
    },
    {
      "cell_type": "code",
      "source": [
        "#@title Random mutation of original sequence\n",
        "import random\n",
        "import numpy as np # Import numpy\n",
        "\n",
        "def codon_distance(codon1, codon2):\n",
        "    \"\"\"\n",
        "    Calculate the Hamming distance between two codons.\n",
        "    \"\"\"\n",
        "    return sum(c1 != c2 for c1, c2 in zip(codon1, codon2))\n",
        "\n",
        "def introduce_random_mutations(original_dna_sequence: str, num_mutations: int) -> str:\n",
        "    \"\"\"\n",
        "    Introduces a specified number of random mutations into a DNA sequence.\n",
        "\n",
        "    Args:\n",
        "        original_dna_sequence: The original DNA sequence string.\n",
        "        num_mutations: The number of random mutations to introduce.\n",
        "\n",
        "    Returns:\n",
        "        A new DNA sequence string with the specified number of mutations.\n",
        "    \"\"\"\n",
        "    dna_list = list(original_dna_sequence)\n",
        "    bases = ['A', 'T', 'C', 'G']\n",
        "    seq_len = len(dna_list)\n",
        "\n",
        "    for _ in range(num_mutations):\n",
        "        # Randomly select an index\n",
        "        mutation_index = random.randint(0, seq_len - 1)\n",
        "\n",
        "        # Randomly select a new base different from the current one\n",
        "        current_base = dna_list[mutation_index]\n",
        "        new_base = random.choice(bases)\n",
        "        while new_base == current_base:\n",
        "            new_base = random.choice(bases)\n",
        "\n",
        "        # Apply the mutation to the list\n",
        "        dna_list[mutation_index] = new_base\n",
        "\n",
        "    # Convert the list back to a string and return\n",
        "    return \"\".join(dna_list)\n",
        "\n",
        "# 2. Initialize empty lists to store results\n",
        "protein_identities = []\n",
        "mutation_scores = []\n",
        "opti_mutation_scores = []\n",
        "\n",
        "repeats = 5 #@param{type:\"integer\"}\n",
        "\n",
        "for iter in range(repeats):\n",
        "\n",
        "    # 1. Define the original DNA sequence\n",
        "    original_dna_seq = original_seq\n",
        "\n",
        "    # Clean input\n",
        "    original_dna_seq = original_dna_seq.replace(\" \", \"\").upper()\n",
        "\n",
        "    # Define a range of mutation counts\n",
        "    # Let's try up to 100 mutations, as the sequence length is 96\n",
        "    max_mutations = 150 #@param{type:\"integer\"}\n",
        "\n",
        "    # 3. Create a loop to iterate through mutation counts\n",
        "    for num_mutations in range(max_mutations + 1):\n",
        "        # 4. Generate a mutated DNA sequence\n",
        "        mutated_dna_seq_list = list(introduce_random_mutations(original_dna_seq, num_mutations)) # Work with a list\n",
        "\n",
        "        # 5. Calculate the protein identity\n",
        "        # Need to convert the list back to a string for translation\n",
        "        mutated_dna_seq_str = \"\".join(mutated_dna_seq_list)\n",
        "        prot_id = protein_identity(original_dna_seq, mutated_dna_seq_str)\n",
        "        protein_identities.append(prot_id)\n",
        "\n",
        "        # 6. Calculate the mutation score\n",
        "        mut_score = mutation_score(original_dna_seq, mutated_dna_seq_str)\n",
        "\n",
        "        # Optimize mutation score by looking for synonymous codons\n",
        "        opti_mutated_dna_seq_list = list(mutated_dna_seq_list) # Create a copy to optimize\n",
        "        num_codons = len(original_dna_seq) // 3 # Ensure num_codons is defined here\n",
        "        for pos in range(num_codons):\n",
        "            # Look for synonymous codons that score higher\n",
        "            mutated_codon = \"\".join(opti_mutated_dna_seq_list[pos*3:pos*3+3]) # Get codon from list\n",
        "            original_codon = original_dna_seq[pos*3:pos*3+3] # Original codon (string)\n",
        "\n",
        "            # Handle potential issues if codon not in table (though unlikely with A,T,C,G input)\n",
        "            if mutated_codon not in codon_table:\n",
        "                continue\n",
        "\n",
        "            mutated_aa = codon_table[mutated_codon]\n",
        "            d = 0\n",
        "            best_codon = mutated_codon\n",
        "            for codon, aa in codon_table.items():\n",
        "                if aa == mutated_aa:\n",
        "                    d_c = codon_distance(codon, mutated_codon)\n",
        "                    if d_c > d:\n",
        "                        d = d_c\n",
        "                        best_codon = codon\n",
        "\n",
        "            # Apply the best codon (if a better one exists) to the optimized list\n",
        "            if best_codon != mutated_codon:\n",
        "                opti_mutated_dna_seq_list[pos*3:pos*3+3] = list(best_codon)\n",
        "\n",
        "\n",
        "        opti_mut_score = mutation_score(original_dna_seq, \"\".join(opti_mutated_dna_seq_list)) # Calculate score from optimized list\n",
        "\n",
        "\n",
        "        mutation_scores.append(mut_score)\n",
        "        opti_mutation_scores.append(opti_mut_score)\n",
        "\n",
        "import matplotlib.pyplot as plt\n",
        "\n",
        "# Create the scatter plot\n",
        "plt.figure(figsize=(10, 6))\n",
        "plt.scatter(protein_identities, mutation_scores, label='Original Mutation Score', alpha=0.5)\n",
        "plt.scatter(protein_identities, opti_mutation_scores, label='Optimized Mutation Score (Synonymous Codons)', alpha=0.5)\n",
        "\n",
        "# Add title and labels\n",
        "plt.title(\"Mutation Score vs. Protein Identity\")\n",
        "plt.xlabel(\"Protein Identity (%)\")\n",
        "plt.ylabel(\"Mutation Score\")\n",
        "\n",
        "# Add grid and legend\n",
        "plt.grid(True)\n",
        "plt.legend()\n",
        "\n",
        "# Display the plot\n",
        "plt.show()"
      ],
      "metadata": {
        "colab": {
          "base_uri": "https://localhost:8080/",
          "height": 564
        },
        "id": "pXzzKfJ7pHk8",
        "outputId": "b8631a51-6dd5-4636-b6cd-cefcb35406d9",
        "cellView": "form"
      },
      "execution_count": 16,
      "outputs": [
        {
          "output_type": "display_data",
          "data": {
            "text/plain": [
              "<Figure size 1000x600 with 1 Axes>"
            ],
            "image/png": "[encoded data removed]"
          },
          "metadata": {}
        }
      ]
    }
  ]
}