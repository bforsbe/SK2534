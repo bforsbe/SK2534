{
  "nbformat": 4,
  "nbformat_minor": 0,
  "metadata": {
    "colab": {
      "name": "omegafold.ipynb",
      "provenance": [],
      "include_colab_link": true
    },
    "kernelspec": {
      "name": "python3",
      "display_name": "Python 3"
    },
    "language_info": {
      "name": "python"
    },
    "accelerator": "GPU",
    "gpuClass": "standard"
  },
  "cells": [
    {
      "cell_type": "markdown",
      "metadata": {
        "id": "view-in-github",
        "colab_type": "text"
      },
      "source": [
        "<a href=\"https://colab.research.google.com/github/bforsbe/SK2534/blob/main/omegafold_znf.ipynb\" target=\"_parent\"><img src=\"https://colab.research.google.com/assets/colab-badge.svg\" alt=\"Open In Colab\"/></a>"
      ]
    },
    {
      "cell_type": "markdown",
      "source": [
        "#**OmegaFold**\n",
        "for more details see: [Github](https://github.com/HeliXonProtein/OmegaFold), [Preprint](https://www.biorxiv.org/content/10.1101/2022.07.21.500999v1)\n",
        "\n",
        "#### **Tips and Instructions**\n",
        "- click the little ▶ play icon to the left of each cell below.\n",
        "- use \"/\" to specify chainbreaks, (eg. sequence=\"AAA/AAA\")\n",
        "- for homo-oligomeric predictions, set copies > 1\n"
      ],
      "metadata": {
        "id": "qEgffIPOyEgk"
      }
    },
    {
      "cell_type": "code",
      "execution_count": null,
      "metadata": {
        "cellView": "form",
        "id": "oVkGfduwiAkw"
      },
      "outputs": [],
      "source": [
        "#@markdown ##Install\n",
        "import os,sys,re\n",
        "from IPython.utils import io\n",
        "if \"SETUP_DONE\" not in dir():\n",
        "  import torch\n",
        "  device = \"cuda\" if torch.cuda.is_available() else \"cpu\"\n",
        "  with io.capture_output() as captured:\n",
        "    if not os.path.isdir(\"OmegaFold\"):\n",
        "      %shell git clone --branch beta --quiet https://github.com/sokrypton/OmegaFold.git\n",
        "      # %shell cd OmegaFold; pip -q install -r requirements.txt\n",
        "      %shell pip -q install py3Dmol biopython==1.81\n",
        "      %shell apt-get install aria2 -qq > /dev/null\n",
        "      %shell aria2c -q -x 16 https://helixon.s3.amazonaws.com/release1.pt\n",
        "      %shell mkdir -p ~/.cache/omegafold_ckpt\n",
        "      %shell mv release1.pt ~/.cache/omegafold_ckpt/model.pt\n",
        "  SETUP_DONE = True"
      ]
    },
    {
      "cell_type": "code",
      "source": [
        "#@markdown ##Run **OmegaFold**\n",
        "from string import ascii_uppercase, ascii_lowercase\n",
        "import hashlib\n",
        "import torch\n",
        "from IPython.utils import io\n",
        "\n",
        "# Define device here to ensure it's available\n",
        "device = \"cuda\" if torch.cuda.is_available() else \"cpu\"\n",
        "\n",
        "def get_hash(x): return hashlib.sha1(x.encode()).hexdigest()\n",
        "alphabet_list = list(ascii_uppercase+ascii_lowercase)\n",
        "\n",
        "jobname = \"1ZNF\" #@param {type:\"string\"}\n",
        "jobname = re.sub(r'\\W+', '', jobname)[:50]\n",
        "\n",
        "sequence = \"YKCGLCERSFVEKSALSRHQRVHKN\" #@param {type:\"string\"}\n",
        "sequence = re.sub(\"[^A-Z:]\", \"\", sequence.replace(\"/\",\":\").upper())\n",
        "sequence = re.sub(\":+\",\":\",sequence)\n",
        "sequence = re.sub(\"^[:]+\",\"\",sequence)\n",
        "sequence = re.sub(\"[:]+$\",\"\",sequence)\n",
        "\n",
        "copies = 1 #@param {type:\"integer\"}\n",
        "sequence = \":\".join([sequence] * copies)\n",
        "#@markdown **Advanced Options**\n",
        "num_cycle = 2 #@param [\"1\", \"2\", \"4\", \"8\", \"16\", \"32\"] {type:\"raw\"}\n",
        "offset_rope = False #@param {type:\"boolean\"}\n",
        "\n",
        "ID = jobname+\"_\"+get_hash(sequence)[:5]\n",
        "seqs = sequence.split(\":\")\n",
        "lengths = [len(s) for s in seqs]\n",
        "\n",
        "subbatch_size = 1000 #@param\n",
        "def get_subbatch_size(L):\n",
        "  if L <  500: return 500\n",
        "  if L < 1000: return 200\n",
        "  return 150\n",
        "if subbatch_size < 0:\n",
        "    subbatch_size = get_subbatch_size(sum(lengths))\n",
        "\n",
        "u_seqs = list(set(seqs))\n",
        "\n",
        "if len(seqs) == 1: mode = \"mono\"\n",
        "elif len(u_seqs) == 1: mode = \"homo\"\n",
        "else: mode = \"hetero\"\n",
        "\n",
        "with open(f\"{ID}.fasta\",\"w\") as out:\n",
        "  out.write(f\">{ID}\\n{sequence}\\n\")\n",
        "\n",
        "# Construct the shell command, handling the boolean offset_rope\n",
        "shell_command = f\"python OmegaFold/main.py --device={device} --subbatch_size={subbatch_size} --num_cycle={num_cycle} {ID}.fasta .\"\n",
        "if offset_rope:\n",
        "    shell_command = f\"python OmegaFold/main.py --offset_rope --device={device} --subbatch_size={subbatch_size} --num_cycle={num_cycle} {ID}.fasta .\"\n",
        "\n",
        "%shell {shell_command}\n",
        "\n",
        "def renum_pdb_str(pdb_str, Ls=None, renum=True, offset=1):\n",
        "  if Ls is not None:\n",
        "    L_init = 0\n",
        "    new_chain = {}\n",
        "    for L,c in zip(Ls, alphabet_list):\n",
        "      new_chain.update({i:c for i in range(L_init,L_init+L)})\n",
        "      L_init += L\n",
        "\n",
        "  n,num,pdb_out = 0,offset,[]\n",
        "  resnum_ = None\n",
        "  chain_ = None\n",
        "  new_chain_ = new_chain[0]\n",
        "  for line in pdb_str.split(\"\\n\"):\n",
        "    if line[:4] == \"ATOM\":\n",
        "      chain = line[21:22]\n",
        "      resnum = int(line[22:22+5])\n",
        "      if resnum_ is None: resnum_ = resnum\n",
        "      if chain_ is None: chain_ = chain\n",
        "      if resnum != resnum_ or chain != chain_:\n",
        "        num += (resnum - resnum_)\n",
        "        n += 1\n",
        "        resnum_,chain_ = resnum,chain\n",
        "      if Ls is not None:\n",
        "        if new_chain[n] != new_chain_:\n",
        "          num = offset\n",
        "          new_chain_ = new_chain[n]\n",
        "      N = num if renum else resnum\n",
        "      if Ls is None: pdb_out.append(\"%s%4i%s\" % (line[:22],N,line[26:]))\n",
        "      else: pdb_out.append(\"%s%s%4i%s\" % (line[:21],new_chain[n],N,line[26:]))\n",
        "  return \"\\n\".join(pdb_out)\n",
        "\n",
        "pdb_str = renum_pdb_str(open(f\"{ID}.pdb\",'r').read(), Ls=lengths)\n",
        "o_pdb_file=f\"{ID}.pdb\"\n",
        "with open(o_pdb_file,\"w\") as out:\n",
        "  out.write(pdb_str)"
      ],
      "metadata": {
        "id": "CFCwEAa2oZEN",
        "colab": {
          "base_uri": "https://localhost:8080/"
        },
        "outputId": "bcfb0a11-20e7-48e6-8012-985ed40626f9"
      },
      "execution_count": null,
      "outputs": [
        {
          "output_type": "stream",
          "name": "stdout",
          "text": [
            "/usr/local/lib/python3.12/dist-packages/Bio/Data/SCOPData.py:18: BiopythonDeprecationWarning: The 'Bio.Data.SCOPData' module will be deprecated in a future release of Biopython in favor of 'Bio.Data.PDBData.\n",
            "  warnings.warn(\n",
            "/content/OmegaFold/omegafold/utils/protein_utils/residue_constants.py:483: UserWarning: Using torch.cross without specifying the dim arg is deprecated.\n",
            "Please either pass the dim explicitly or simply use torch.linalg.cross.\n",
            "The default value of dim will change to agree with that of linalg.cross in a future release. (Triggered internally at /pytorch/aten/src/ATen/native/Cross.cpp:63.)\n",
            "  eznorm = torch.cross(ex_normalized, ey_normalized)\n",
            "INFO:root:Loading weights from /root/.cache/omegafold_ckpt/model.pt\n",
            "INFO:root:Constructing OmegaFold\n",
            "INFO:root:Reading test_ba8d4.fasta\n",
            "INFO:root:Predicting 1th chain in test_ba8d4.fasta\n",
            "INFO:root:32 residues in this chain.\n",
            "INFO:root:Finished prediction in 2.23 seconds.\n",
            "INFO:root:Saving prediction to ./test_ba8d4.pdb\n",
            "INFO:root:Saved\n",
            "INFO:root:Done!\n"
          ]
        }
      ]
    },
    {
      "cell_type": "code",
      "source": [
        "#@markdown ##Display\n",
        "import py3Dmol\n",
        "\n",
        "\n",
        "pymol_color_list = [\"#33ff33\",\"#00ffff\",\"#ff33cc\",\"#ffff00\",\"#ff9999\",\"#e5e5e5\",\"#7f7fff\",\"#ff7f00\",\n",
        "                    \"#7fff7f\",\"#199999\",\"#ff007f\",\"#ffdd5e\",\"#8c3f99\",\"#b2b2b2\",\"#007fff\",\"#c4b200\",\n",
        "                    \"#8cb266\",\"#00bfbf\",\"#b27f7f\",\"#fcd1a5\",\"#ff7f7f\",\"#ffbfdd\",\"#7fffff\",\"#ffff7f\",\n",
        "                    \"#00ff7f\",\"#337fcc\",\"#d8337f\",\"#bfff3f\",\"#ff7fff\",\"#d8d8ff\",\"#3fffbf\",\"#b78c4c\",\n",
        "                    \"#339933\",\"#66b2b2\",\"#ba8c84\",\"#84bf00\",\"#b24c66\",\"#7f7f7f\",\"#3f3fa5\",\"#a5512b\"]\n",
        "\n",
        "def show_pdb(pdb_str, show_sidechains=False, show_mainchains=False,\n",
        "             color=\"pLDDT\", chains=None, vmin=50, vmax=90,\n",
        "             size=(800,480), hbondCutoff=4.0,\n",
        "             Ls=None,\n",
        "             animate=False):\n",
        "\n",
        "  if chains is None:\n",
        "    chains = 1 if Ls is None else len(Ls)\n",
        "  view = py3Dmol.view(js='https://3dmol.org/build/3Dmol.js', width=size[0], height=size[1])\n",
        "  if animate:\n",
        "    view.addModelsAsFrames(pdb_str,'pdb',{'hbondCutoff':hbondCutoff})\n",
        "  else:\n",
        "    view.addModel(pdb_str,'pdb',{'hbondCutoff':hbondCutoff})\n",
        "  if color == \"pLDDT\":\n",
        "    view.setStyle({'cartoon': {'colorscheme': {'prop':'b','gradient': 'roygb','min':vmin,'max':vmax}}})\n",
        "  elif color == \"rainbow\":\n",
        "    view.setStyle({'cartoon': {'color':'spectrum'}})\n",
        "  elif color == \"chain\":\n",
        "    for n,chain,color in zip(range(chains),alphabet_list,pymol_color_list):\n",
        "       view.setStyle({'chain':chain},{'cartoon': {'color':color}})\n",
        "  if show_sidechains:\n",
        "    BB = ['C','O','N']\n",
        "    HP = [\"ALA\",\"GLY\",\"VAL\",\"ILE\",\"LEU\",\"PHE\",\"MET\",\"PRO\",\"TRP\",\"CYS\",\"TYR\"]\n",
        "    view.addStyle({'and':[{'resn':[\"GLY\",\"PRO\"],'invert':True},{'atom':BB,'invert':True}]},\n",
        "                  {'stick':{'colorscheme':f\"WhiteCarbon\",'radius':0.3}})\n",
        "    view.addStyle({'and':[{'resn':\"GLY\"},{'atom':'CA'}]},\n",
        "                  {'sphere':{'colorscheme':f\"WhiteCarbon\",'radius':0.3}})\n",
        "    view.addStyle({'and':[{'resn':\"PRO\"},{'atom':['C','O'],'invert':True}]},\n",
        "                  {'stick':{'colorscheme':f\"WhiteCarbon\",'radius':0.3}})\n",
        "  if show_mainchains:\n",
        "    BB = ['C','O','N','CA']\n",
        "    view.addStyle({'atom':BB},{'stick':{'colorscheme':f\"WhiteCarbon\",'radius':0.3}})\n",
        "  view.zoomTo()\n",
        "  if animate: view.animate()\n",
        "  return view\n",
        "\n",
        "color = \"confidence\" #@param [\"confidence\", \"rainbow\", \"chain\"]\n",
        "if color == \"confidence\": color = \"pLDDT\"\n",
        "show_sidechains = False #@param {type:\"boolean\"}\n",
        "show_mainchains = False #@param {type:\"boolean\"}\n",
        "show_pdb(pdb_str, color=color, show_sidechains=show_sidechains, show_mainchains=show_mainchains,\n",
        "         Ls=lengths).show()"
      ],
      "metadata": {
        "cellView": "form",
        "id": "dHl9aS-HHFNQ",
        "colab": {
          "base_uri": "https://localhost:8080/",
          "height": 497
        },
        "outputId": "b7640c35-26de-4444-c1a3-04fde367979a"
      },
      "execution_count": null,
      "outputs": [
        {
          "output_type": "display_data",
          "data": {
            "application/3dmoljs_load.v0": "<div id=\"3dmolviewer_17580233620279372\"  style=\"position: relative; width: 800px; height: 480px;\">\n        <p id=\"3dmolwarning_17580233620279372\" style=\"background-color:#ffcccc;color:black\">3Dmol.js failed to load for some reason.  Please check your browser console for error messages.<br></p>\n        </div>\n<script>\n\nvar loadScriptAsync = function(uri){\n  return new Promise((resolve, reject) => {\n    //this is to ignore the existence of requirejs amd\n    var savedexports, savedmodule;\n    if (typeof exports !== 'undefined') savedexports = exports;\n    else exports = {}\n    if (typeof module !== 'undefined') savedmodule = module;\n    else module = {}\n\n    var tag = document.createElement('script');\n    tag.src = uri;\n    tag.async = true;\n    tag.onload = () => {\n        exports = savedexports;\n        module = savedmodule;\n        resolve();\n    };\n  var firstScriptTag = document.getElementsByTagName('script')[0];\n  firstScriptTag.parentNode.insertBefore(tag, firstScriptTag);\n});\n};\n\nif(typeof $3Dmolpromise === 'undefined') {\n$3Dmolpromise = null;\n  $3Dmolpromise = loadScriptAsync('https://3dmol.org/build/3Dmol.js');\n}\n\nvar viewer_17580233620279372 = null;\nvar warn = document.getElementById(\"3dmolwarning_17580233620279372\");\nif(warn) {\n    warn.parentNode.removeChild(warn);\n}\n$3Dmolpromise.then(function() {\nviewer_17580233620279372 = $3Dmol.createViewer(document.getElementById(\"3dmolviewer_17580233620279372\"),{backgroundColor:\"white\"});\nviewer_17580233620279372.zoomTo();\n\tviewer_17580233620279372.addModel(\"ATOM      1  N   VAL A   1       5.034   5.440   3.688  1.00 86.01           N  \\nATOM      2  CA  VAL A   1       3.752   5.834   4.261  1.00 86.01           C  \\nATOM      3  C   VAL A   1       3.201   4.701   5.124  1.00 86.01           C  \\nATOM      4  O   VAL A   1       3.391   3.524   4.808  1.00 86.01           O  \\nATOM      5  CB  VAL A   1       2.732   6.213   3.164  1.00 86.01           C  \\nATOM      6  CG1 VAL A   1       3.110   7.541   2.511  1.00 86.01           C  \\nATOM      7  CG2 VAL A   1       2.640   5.106   2.116  1.00 86.01           C  \\nATOM      8  N   ASN A   2       3.167   5.042   6.255  1.00 85.34           N  \\nATOM      9  CA  ASN A   2       2.600   4.042   7.153  1.00 85.34           C  \\nATOM     10  C   ASN A   2       1.180   3.661   6.744  1.00 85.34           C  \\nATOM     11  O   ASN A   2       0.315   4.528   6.607  1.00 85.34           O  \\nATOM     12  CB  ASN A   2       2.619   4.546   8.598  1.00 85.34           C  \\nATOM     13  CG  ASN A   2       2.594   3.418   9.610  1.00 85.34           C  \\nATOM     14  OD1 ASN A   2       1.854   2.443   9.454  1.00 85.34           O  \\nATOM     15  ND2 ASN A   2       3.403   3.541  10.656  1.00 85.34           N  \\nATOM     16  N   VAL A   3       1.137   2.391   6.384  1.00 87.30           N  \\nATOM     17  CA  VAL A   3      -0.153   1.933   5.880  1.00 87.30           C  \\nATOM     18  C   VAL A   3      -0.727   0.871   6.816  1.00 87.30           C  \\nATOM     19  O   VAL A   3      -0.012  -0.037   7.247  1.00 87.30           O  \\nATOM     20  CB  VAL A   3      -0.035   1.371   4.445  1.00 87.30           C  \\nATOM     21  CG1 VAL A   3      -1.398   0.913   3.930  1.00 87.30           C  \\nATOM     22  CG2 VAL A   3       0.568   2.418   3.511  1.00 87.30           C  \\nATOM     23  N   LEU A   4      -2.006   0.957   7.174  1.00 84.80           N  \\nATOM     24  CA  LEU A   4      -2.746  -0.014   7.971  1.00 84.80           C  \\nATOM     25  C   LEU A   4      -3.601  -0.911   7.081  1.00 84.80           C  \\nATOM     26  O   LEU A   4      -4.454  -0.422   6.337  1.00 84.80           O  \\nATOM     27  CB  LEU A   4      -3.631   0.697   8.998  1.00 84.80           C  \\nATOM     28  CG  LEU A   4      -4.450  -0.201   9.926  1.00 84.80           C  \\nATOM     29  CD1 LEU A   4      -3.556  -0.808  11.002  1.00 84.80           C  \\nATOM     30  CD2 LEU A   4      -5.596   0.584  10.555  1.00 84.80           C  \\nATOM     31  N   PHE A   5      -3.354  -2.164   7.168  1.00 84.68           N  \\nATOM     32  CA  PHE A   5      -4.116  -3.165   6.430  1.00 84.68           C  \\nATOM     33  C   PHE A   5      -5.382  -3.548   7.188  1.00 84.68           C  \\nATOM     34  O   PHE A   5      -5.311  -4.064   8.305  1.00 84.68           O  \\nATOM     35  CB  PHE A   5      -3.262  -4.410   6.172  1.00 84.68           C  \\nATOM     36  CG  PHE A   5      -2.154  -4.190   5.177  1.00 84.68           C  \\nATOM     37  CD1 PHE A   5      -2.387  -4.327   3.814  1.00 84.68           C  \\nATOM     38  CD2 PHE A   5      -0.878  -3.846   5.606  1.00 84.68           C  \\nATOM     39  CE1 PHE A   5      -1.363  -4.124   2.892  1.00 84.68           C  \\nATOM     40  CE2 PHE A   5       0.150  -3.642   4.690  1.00 84.68           C  \\nATOM     41  CZ  PHE A   5      -0.094  -3.782   3.334  1.00 84.68           C  \\nATOM     42  N   LEU A   6      -6.483  -3.227   6.595  1.00 82.13           N  \\nATOM     43  CA  LEU A   6      -7.764  -3.392   7.273  1.00 82.13           C  \\nATOM     44  C   LEU A   6      -8.063  -4.868   7.516  1.00 82.13           C  \\nATOM     45  O   LEU A   6      -8.630  -5.229   8.550  1.00 82.13           O  \\nATOM     46  CB  LEU A   6      -8.891  -2.759   6.454  1.00 82.13           C  \\nATOM     47  CG  LEU A   6      -8.854  -1.237   6.313  1.00 82.13           C  \\nATOM     48  CD1 LEU A   6      -9.881  -0.775   5.284  1.00 82.13           C  \\nATOM     49  CD2 LEU A   6      -9.102  -0.568   7.661  1.00 82.13           C  \\nATOM     50  N   GLU A   7      -7.559  -5.705   6.656  1.00 83.00           N  \\nATOM     51  CA  GLU A   7      -7.849  -7.127   6.812  1.00 83.00           C  \\nATOM     52  C   GLU A   7      -6.989  -7.748   7.909  1.00 83.00           C  \\nATOM     53  O   GLU A   7      -7.472  -8.564   8.698  1.00 83.00           O  \\nATOM     54  CB  GLU A   7      -7.632  -7.869   5.491  1.00 83.00           C  \\nATOM     55  CG  GLU A   7      -8.709  -7.600   4.450  1.00 83.00           C  \\nATOM     56  CD  GLU A   7      -8.648  -8.548   3.264  1.00 83.00           C  \\nATOM     57  OE1 GLU A   7      -9.716  -8.902   2.714  1.00 83.00           O  \\nATOM     58  OE2 GLU A   7      -7.523  -8.941   2.882  1.00 83.00           O  \\nATOM     59  N   ARG A   8      -5.778  -7.223   7.996  1.00 82.30           N  \\nATOM     60  CA  ARG A   8      -4.868  -7.843   8.953  1.00 82.30           C  \\nATOM     61  C   ARG A   8      -4.692  -6.966  10.188  1.00 82.30           C  \\nATOM     62  O   ARG A   8      -4.409  -7.469  11.278  1.00 82.30           O  \\nATOM     63  CB  ARG A   8      -3.509  -8.114   8.305  1.00 82.30           C  \\nATOM     64  CG  ARG A   8      -3.491  -9.336   7.401  1.00 82.30           C  \\nATOM     65  CD  ARG A   8      -2.131  -9.533   6.746  1.00 82.30           C  \\nATOM     66  NE  ARG A   8      -1.334 -10.536   7.447  1.00 82.30           N  \\nATOM     67  CZ  ARG A   8      -0.066 -10.827   7.169  1.00 82.30           C  \\nATOM     68  NH1 ARG A   8       0.577 -10.194   6.194  1.00 82.30           N  \\nATOM     69  NH2 ARG A   8       0.564 -11.758   7.871  1.00 82.30           N  \\nATOM     70  N   GLY A   9      -5.040  -5.704  10.015  1.00 84.05           N  \\nATOM     71  CA  GLY A   9      -4.826  -4.801  11.134  1.00 84.05           C  \\nATOM     72  C   GLY A   9      -3.360  -4.508  11.392  1.00 84.05           C  \\nATOM     73  O   GLY A   9      -2.983  -4.134  12.505  1.00 84.05           O  \\nATOM     74  N   ASP A  10      -2.528  -4.862  10.464  1.00 84.62           N  \\nATOM     75  CA  ASP A  10      -1.092  -4.644  10.607  1.00 84.62           C  \\nATOM     76  C   ASP A  10      -0.656  -3.367   9.891  1.00 84.62           C  \\nATOM     77  O   ASP A  10      -1.260  -2.972   8.892  1.00 84.62           O  \\nATOM     78  CB  ASP A  10      -0.311  -5.843  10.066  1.00 84.62           C  \\nATOM     79  CG  ASP A  10       1.137  -5.865  10.525  1.00 84.62           C  \\nATOM     80  OD1 ASP A  10       1.521  -5.027  11.370  1.00 84.62           O  \\nATOM     81  OD2 ASP A  10       1.900  -6.725  10.037  1.00 84.62           O  \\nATOM     82  N   VAL A  11       0.233  -2.691  10.563  1.00 87.47           N  \\nATOM     83  CA  VAL A  11       0.778  -1.476   9.968  1.00 87.47           C  \\nATOM     84  C   VAL A  11       2.146  -1.768   9.355  1.00 87.47           C  \\nATOM     85  O   VAL A  11       3.040  -2.280  10.033  1.00 87.47           O  \\nATOM     86  CB  VAL A  11       0.892  -0.337  11.007  1.00 87.47           C  \\nATOM     87  CG1 VAL A  11       1.460   0.926  10.363  1.00 87.47           C  \\nATOM     88  CG2 VAL A  11      -0.470  -0.053  11.638  1.00 87.47           C  \\nATOM     89  N   ARG A  12       2.184  -1.659   8.134  1.00 85.29           N  \\nATOM     90  CA  ARG A  12       3.447  -1.833   7.422  1.00 85.29           C  \\nATOM     91  C   ARG A  12       3.841  -0.556   6.688  1.00 85.29           C  \\nATOM     92  O   ARG A  12       2.985   0.267   6.357  1.00 85.29           O  \\nATOM     93  CB  ARG A  12       3.352  -2.997   6.434  1.00 85.29           C  \\nATOM     94  CG  ARG A  12       3.184  -4.355   7.097  1.00 85.29           C  \\nATOM     95  CD  ARG A  12       3.298  -5.492   6.091  1.00 85.29           C  \\nATOM     96  NE  ARG A  12       3.175  -6.796   6.735  1.00 85.29           N  \\nATOM     97  CZ  ARG A  12       3.287  -7.964   6.108  1.00 85.29           C  \\nATOM     98  NH1 ARG A  12       3.528  -8.014   4.803  1.00 85.29           N  \\nATOM     99  NH2 ARG A  12       3.158  -9.092   6.792  1.00 85.29           N  \\nATOM    100  N   THR A  13       5.093  -0.322   6.670  1.00 89.25           N  \\nATOM    101  CA  THR A  13       5.612   0.779   5.866  1.00 89.25           C  \\nATOM    102  C   THR A  13       5.944   0.308   4.453  1.00 89.25           C  \\nATOM    103  O   THR A  13       6.761  -0.597   4.271  1.00 89.25           O  \\nATOM    104  CB  THR A  13       6.866   1.399   6.511  1.00 89.25           C  \\nATOM    105  OG1 THR A  13       6.566   1.772   7.862  1.00 89.25           O  \\nATOM    106  CG2 THR A  13       7.324   2.635   5.745  1.00 89.25           C  \\nATOM    107  N   ILE A  14       5.216   0.816   3.584  1.00 88.34           N  \\nATOM    108  CA  ILE A  14       5.426   0.441   2.190  1.00 88.34           C  \\nATOM    109  C   ILE A  14       5.718   1.688   1.358  1.00 88.34           C  \\nATOM    110  O   ILE A  14       5.590   2.812   1.848  1.00 88.34           O  \\nATOM    111  CB  ILE A  14       4.203  -0.311   1.617  1.00 88.34           C  \\nATOM    112  CG1 ILE A  14       2.989   0.622   1.545  1.00 88.34           C  \\nATOM    113  CG2 ILE A  14       3.891  -1.553   2.457  1.00 88.34           C  \\nATOM    114  CD1 ILE A  14       1.839   0.077   0.709  1.00 88.34           C  \\nATOM    115  N   SER A  15       6.066   1.485   0.049  1.00 89.79           N  \\nATOM    116  CA  SER A  15       6.312   2.600  -0.859  1.00 89.79           C  \\nATOM    117  C   SER A  15       5.040   3.404  -1.104  1.00 89.79           C  \\nATOM    118  O   SER A  15       3.945   2.841  -1.162  1.00 89.79           O  \\nATOM    119  CB  SER A  15       6.870   2.095  -2.190  1.00 89.79           C  \\nATOM    120  OG  SER A  15       6.881   3.131  -3.156  1.00 89.79           O  \\nATOM    121  N   ARG A  16       5.235   4.664  -1.159  1.00 87.58           N  \\nATOM    122  CA  ARG A  16       4.130   5.598  -1.349  1.00 87.58           C  \\nATOM    123  C   ARG A  16       3.365   5.288  -2.631  1.00 87.58           C  \\nATOM    124  O   ARG A  16       2.133   5.327  -2.650  1.00 87.58           O  \\nATOM    125  CB  ARG A  16       4.643   7.040  -1.380  1.00 87.58           C  \\nATOM    126  CG  ARG A  16       3.540   8.086  -1.415  1.00 87.58           C  \\nATOM    127  CD  ARG A  16       4.101   9.499  -1.354  1.00 87.58           C  \\nATOM    128  NE  ARG A  16       3.086  10.497  -1.678  1.00 87.58           N  \\nATOM    129  CZ  ARG A  16       3.247  11.487  -2.552  1.00 87.58           C  \\nATOM    130  NH1 ARG A  16       4.393  11.631  -3.209  1.00 87.58           N  \\nATOM    131  NH2 ARG A  16       2.257  12.339  -2.771  1.00 87.58           N  \\nATOM    132  N   THR A  17       4.066   4.885  -3.643  1.00 90.63           N  \\nATOM    133  CA  THR A  17       3.433   4.626  -4.931  1.00 90.63           C  \\nATOM    134  C   THR A  17       2.578   3.363  -4.869  1.00 90.63           C  \\nATOM    135  O   THR A  17       1.438   3.355  -5.338  1.00 90.63           O  \\nATOM    136  CB  THR A  17       4.481   4.485  -6.051  1.00 90.63           C  \\nATOM    137  OG1 THR A  17       5.349   5.625  -6.030  1.00 90.63           O  \\nATOM    138  CG2 THR A  17       3.814   4.394  -7.420  1.00 90.63           C  \\nATOM    139  N   TYR A  18       3.155   2.344  -4.289  1.00 88.66           N  \\nATOM    140  CA  TYR A  18       2.423   1.088  -4.166  1.00 88.66           C  \\nATOM    141  C   TYR A  18       1.170   1.268  -3.318  1.00 88.66           C  \\nATOM    142  O   TYR A  18       0.090   0.800  -3.688  1.00 88.66           O  \\nATOM    143  CB  TYR A  18       3.316   0.004  -3.554  1.00 88.66           C  \\nATOM    144  CG  TYR A  18       2.655  -1.351  -3.471  1.00 88.66           C  \\nATOM    145  CD1 TYR A  18       2.275  -1.888  -2.243  1.00 88.66           C  \\nATOM    146  CD2 TYR A  18       2.410  -2.096  -4.619  1.00 88.66           C  \\nATOM    147  CE1 TYR A  18       1.668  -3.137  -2.162  1.00 88.66           C  \\nATOM    148  CE2 TYR A  18       1.803  -3.346  -4.550  1.00 88.66           C  \\nATOM    149  CZ  TYR A  18       1.436  -3.857  -3.318  1.00 88.66           C  \\nATOM    150  OH  TYR A  18       0.835  -5.094  -3.244  1.00 88.66           O  \\nATOM    151  N   ALA A  19       1.276   2.013  -2.240  1.00 87.87           N  \\nATOM    152  CA  ALA A  19       0.151   2.241  -1.336  1.00 87.87           C  \\nATOM    153  C   ALA A  19      -0.963   3.019  -2.032  1.00 87.87           C  \\nATOM    154  O   ALA A  19      -2.137   2.656  -1.932  1.00 87.87           O  \\nATOM    155  CB  ALA A  19       0.615   2.985  -0.086  1.00 87.87           C  \\nATOM    156  N   THR A  20      -0.681   3.956  -2.780  1.00 87.45           N  \\nATOM    157  CA  THR A  20      -1.641   4.864  -3.399  1.00 87.45           C  \\nATOM    158  C   THR A  20      -2.284   4.218  -4.623  1.00 87.45           C  \\nATOM    159  O   THR A  20      -3.497   4.321  -4.820  1.00 87.45           O  \\nATOM    160  CB  THR A  20      -0.973   6.190  -3.806  1.00 87.45           C  \\nATOM    161  OG1 THR A  20      -0.429   6.822  -2.641  1.00 87.45           O  \\nATOM    162  CG2 THR A  20      -1.978   7.134  -4.459  1.00 87.45           C  \\nATOM    163  N   LYS A  21      -1.441   3.478  -5.391  1.00 88.37           N  \\nATOM    164  CA  LYS A  21      -1.958   2.933  -6.644  1.00 88.37           C  \\nATOM    165  C   LYS A  21      -2.693   1.617  -6.409  1.00 88.37           C  \\nATOM    166  O   LYS A  21      -3.660   1.307  -7.108  1.00 88.37           O  \\nATOM    167  CB  LYS A  21      -0.823   2.728  -7.648  1.00 88.37           C  \\nATOM    168  CG  LYS A  21      -0.425   3.990  -8.399  1.00 88.37           C  \\nATOM    169  CD  LYS A  21       0.582   3.691  -9.502  1.00 88.37           C  \\nATOM    170  CE  LYS A  21       1.006   4.958 -10.232  1.00 88.37           C  \\nATOM    171  NZ  LYS A  21       2.028   4.675 -11.284  1.00 88.37           N  \\nATOM    172  N   TYR A  22      -2.302   0.882  -5.372  1.00 87.58           N  \\nATOM    173  CA  TYR A  22      -2.853  -0.459  -5.218  1.00 87.58           C  \\nATOM    174  C   TYR A  22      -3.663  -0.572  -3.931  1.00 87.58           C  \\nATOM    175  O   TYR A  22      -4.848  -0.912  -3.964  1.00 87.58           O  \\nATOM    176  CB  TYR A  22      -1.733  -1.505  -5.223  1.00 87.58           C  \\nATOM    177  CG  TYR A  22      -1.347  -1.973  -6.604  1.00 87.58           C  \\nATOM    178  CD1 TYR A  22      -2.058  -2.988  -7.241  1.00 87.58           C  \\nATOM    179  CD2 TYR A  22      -0.269  -1.405  -7.275  1.00 87.58           C  \\nATOM    180  CE1 TYR A  22      -1.705  -3.424  -8.514  1.00 87.58           C  \\nATOM    181  CE2 TYR A  22       0.093  -1.833  -8.547  1.00 87.58           C  \\nATOM    182  CZ  TYR A  22      -0.629  -2.842  -9.158  1.00 87.58           C  \\nATOM    183  OH  TYR A  22      -0.275  -3.270 -10.418  1.00 87.58           O  \\nATOM    184  N   LEU A  23      -3.185  -0.138  -2.864  1.00 85.25           N  \\nATOM    185  CA  LEU A  23      -3.797  -0.439  -1.575  1.00 85.25           C  \\nATOM    186  C   LEU A  23      -4.970   0.495  -1.298  1.00 85.25           C  \\nATOM    187  O   LEU A  23      -6.075   0.038  -0.998  1.00 85.25           O  \\nATOM    188  CB  LEU A  23      -2.762  -0.326  -0.452  1.00 85.25           C  \\nATOM    189  CG  LEU A  23      -1.620  -1.343  -0.476  1.00 85.25           C  \\nATOM    190  CD1 LEU A  23      -0.634  -1.060   0.652  1.00 85.25           C  \\nATOM    191  CD2 LEU A  23      -2.166  -2.763  -0.373  1.00 85.25           C  \\nATOM    192  N   TYR A  24      -4.810   1.687  -1.542  1.00 87.05           N  \\nATOM    193  CA  TYR A  24      -5.875   2.642  -1.261  1.00 87.05           C  \\nATOM    194  C   TYR A  24      -6.982   2.548  -2.304  1.00 87.05           C  \\nATOM    195  O   TYR A  24      -8.163   2.692  -1.980  1.00 87.05           O  \\nATOM    196  CB  TYR A  24      -5.320   4.069  -1.217  1.00 87.05           C  \\nATOM    197  CG  TYR A  24      -4.369   4.316  -0.071  1.00 87.05           C  \\nATOM    198  CD1 TYR A  24      -4.440   3.555   1.094  1.00 87.05           C  \\nATOM    199  CD2 TYR A  24      -3.400   5.310  -0.149  1.00 87.05           C  \\nATOM    200  CE1 TYR A  24      -3.568   3.780   2.154  1.00 87.05           C  \\nATOM    201  CE2 TYR A  24      -2.523   5.544   0.905  1.00 87.05           C  \\nATOM    202  CZ  TYR A  24      -2.614   4.774   2.050  1.00 87.05           C  \\nATOM    203  OH  TYR A  24      -1.748   5.001   3.096  1.00 87.05           O  \\nATOM    204  N   HIS A  25      -6.603   2.277  -3.570  1.00 85.80           N  \\nATOM    205  CA  HIS A  25      -7.594   2.207  -4.638  1.00 85.80           C  \\nATOM    206  C   HIS A  25      -8.499   0.991  -4.470  1.00 85.80           C  \\nATOM    207  O   HIS A  25      -9.677   1.035  -4.831  1.00 85.80           O  \\nATOM    208  CB  HIS A  25      -6.907   2.166  -6.004  1.00 85.80           C  \\nATOM    209  CG  HIS A  25      -7.827   2.456  -7.147  1.00 85.80           C  \\nATOM    210  ND1 HIS A  25      -8.068   3.734  -7.603  1.00 85.80           N  \\nATOM    211  CD2 HIS A  25      -8.563   1.629  -7.927  1.00 85.80           C  \\nATOM    212  CE1 HIS A  25      -8.916   3.680  -8.617  1.00 85.80           C  \\nATOM    213  NE2 HIS A  25      -9.231   2.415  -8.834  1.00 85.80           N  \\nATOM    214  N   HIS A  26      -7.840  -0.036  -3.920  1.00 85.97           N  \\nATOM    215  CA  HIS A  26      -8.610  -1.266  -3.768  1.00 85.97           C  \\nATOM    216  C   HIS A  26      -9.282  -1.329  -2.400  1.00 85.97           C  \\nATOM    217  O   HIS A  26      -9.928  -2.326  -2.067  1.00 85.97           O  \\nATOM    218  CB  HIS A  26      -7.713  -2.488  -3.969  1.00 85.97           C  \\nATOM    219  CG  HIS A  26      -7.289  -2.694  -5.388  1.00 85.97           C  \\nATOM    220  ND1 HIS A  26      -8.115  -3.256  -6.338  1.00 85.97           N  \\nATOM    221  CD2 HIS A  26      -6.125  -2.410  -6.018  1.00 85.97           C  \\nATOM    222  CE1 HIS A  26      -7.474  -3.309  -7.494  1.00 85.97           C  \\nATOM    223  NE2 HIS A  26      -6.265  -2.802  -7.327  1.00 85.97           N  \\nATOM    224  N   ASN A  27      -9.119  -0.227  -1.596  1.00 83.58           N  \\nATOM    225  CA  ASN A  27      -9.740  -0.108  -0.281  1.00 83.58           C  \\nATOM    226  C   ASN A  27      -9.260  -1.203   0.667  1.00 83.58           C  \\nATOM    227  O   ASN A  27     -10.062  -1.804   1.384  1.00 83.58           O  \\nATOM    228  CB  ASN A  27     -11.265  -0.141  -0.402  1.00 83.58           C  \\nATOM    229  CG  ASN A  27     -11.903   1.206  -0.127  1.00 83.58           C  \\nATOM    230  OD1 ASN A  27     -11.208   2.207   0.065  1.00 83.58           O  \\nATOM    231  ND2 ASN A  27     -13.230   1.241  -0.106  1.00 83.58           N  \\nATOM    232  N   ILE A  28      -8.001  -1.697   0.415  1.00 85.64           N  \\nATOM    233  CA  ILE A  28      -7.423  -2.748   1.246  1.00 85.64           C  \\nATOM    234  C   ILE A  28      -6.695  -2.125   2.435  1.00 85.64           C  \\nATOM    235  O   ILE A  28      -6.630  -2.721   3.512  1.00 85.64           O  \\nATOM    236  CB  ILE A  28      -6.459  -3.643   0.436  1.00 85.64           C  \\nATOM    237  CG1 ILE A  28      -7.206  -4.329  -0.714  1.00 85.64           C  \\nATOM    238  CG2 ILE A  28      -5.787  -4.676   1.346  1.00 85.64           C  \\nATOM    239  CD1 ILE A  28      -6.297  -5.055  -1.697  1.00 85.64           C  \\nATOM    240  N   ALA A  29      -6.392  -0.779   2.216  1.00 85.79           N  \\nATOM    241  CA  ALA A  29      -5.586  -0.184   3.279  1.00 85.79           C  \\nATOM    242  C   ALA A  29      -5.896   1.302   3.436  1.00 85.79           C  \\nATOM    243  O   ALA A  29      -6.457   1.924   2.531  1.00 85.79           O  \\nATOM    244  CB  ALA A  29      -4.100  -0.388   2.998  1.00 85.79           C  \\nATOM    245  N   VAL A  30      -5.733   1.800   4.629  1.00 85.80           N  \\nATOM    246  CA  VAL A  30      -5.912   3.218   4.926  1.00 85.80           C  \\nATOM    247  C   VAL A  30      -4.610   3.800   5.473  1.00 85.80           C  \\nATOM    248  O   VAL A  30      -3.729   3.059   5.915  1.00 85.80           O  \\nATOM    249  CB  VAL A  30      -7.062   3.446   5.933  1.00 85.80           C  \\nATOM    250  CG1 VAL A  30      -8.408   3.095   5.303  1.00 85.80           C  \\nATOM    251  CG2 VAL A  30      -6.831   2.626   7.201  1.00 85.80           C  \\nATOM    252  N   ARG A  31      -4.413   4.962   5.293  1.00 85.37           N  \\nATOM    253  CA  ARG A  31      -3.236   5.648   5.816  1.00 85.37           C  \\nATOM    254  C   ARG A  31      -3.177   5.550   7.337  1.00 85.37           C  \\nATOM    255  O   ARG A  31      -4.145   5.884   8.024  1.00 85.37           O  \\nATOM    256  CB  ARG A  31      -3.232   7.116   5.385  1.00 85.37           C  \\nATOM    257  CG  ARG A  31      -1.849   7.747   5.361  1.00 85.37           C  \\nATOM    258  CD  ARG A  31      -1.884   9.160   4.794  1.00 85.37           C  \\nATOM    259  NE  ARG A  31      -0.668   9.901   5.119  1.00 85.37           N  \\nATOM    260  CZ  ARG A  31      -0.001  10.673   4.266  1.00 85.37           C  \\nATOM    261  NH1 ARG A  31      -0.419  10.821   3.015  1.00 85.37           N  \\nATOM    262  NH2 ARG A  31       1.094  11.302   4.668  1.00 85.37           N  \\nATOM    263  N   ALA A  32      -2.320   4.507   7.652  1.00 80.69           N  \\nATOM    264  CA  ALA A  32      -2.138   4.453   9.100  1.00 80.69           C  \\nATOM    265  C   ALA A  32      -1.460   5.719   9.616  1.00 80.69           C  \\nATOM    266  O   ALA A  32      -0.752   6.399   8.870  1.00 80.69           O  \\nATOM    267  CB  ALA A  32      -1.324   3.221   9.488  1.00 80.69           C  \",\"pdb\",{\"hbondCutoff\": 4.0});\n\tviewer_17580233620279372.setStyle({\"cartoon\": {\"colorscheme\": {\"prop\": \"b\", \"gradient\": \"roygb\", \"min\": 50, \"max\": 90}}});\n\tviewer_17580233620279372.zoomTo();\nviewer_17580233620279372.render();\n});\n</script>",
            "text/html": [
              "<div id=\"3dmolviewer_17580233620279372\"  style=\"position: relative; width: 800px; height: 480px;\">\n",
              "        <p id=\"3dmolwarning_17580233620279372\" style=\"background-color:#ffcccc;color:black\">3Dmol.js failed to load for some reason.  Please check your browser console for error messages.<br></p>\n",
              "        </div>\n",
              "<script>\n",
              "\n",
              "var loadScriptAsync = function(uri){\n",
              "  return new Promise((resolve, reject) => {\n",
              "    //this is to ignore the existence of requirejs amd\n",
              "    var savedexports, savedmodule;\n",
              "    if (typeof exports !== 'undefined') savedexports = exports;\n",
              "    else exports = {}\n",
              "    if (typeof module !== 'undefined') savedmodule = module;\n",
              "    else module = {}\n",
              "\n",
              "    var tag = document.createElement('script');\n",
              "    tag.src = uri;\n",
              "    tag.async = true;\n",
              "    tag.onload = () => {\n",
              "        exports = savedexports;\n",
              "        module = savedmodule;\n",
              "        resolve();\n",
              "    };\n",
              "  var firstScriptTag = document.getElementsByTagName('script')[0];\n",
              "  firstScriptTag.parentNode.insertBefore(tag, firstScriptTag);\n",
              "});\n",
              "};\n",
              "\n",
              "if(typeof $3Dmolpromise === 'undefined') {\n",
              "$3Dmolpromise = null;\n",
              "  $3Dmolpromise = loadScriptAsync('https://3dmol.org/build/3Dmol.js');\n",
              "}\n",
              "\n",
              "var viewer_17580233620279372 = null;\n",
              "var warn = document.getElementById(\"3dmolwarning_17580233620279372\");\n",
              "if(warn) {\n",
              "    warn.parentNode.removeChild(warn);\n",
              "}\n",
              "$3Dmolpromise.then(function() {\n",
              "viewer_17580233620279372 = $3Dmol.createViewer(document.getElementById(\"3dmolviewer_17580233620279372\"),{backgroundColor:\"white\"});\n",
              "viewer_17580233620279372.zoomTo();\n",
              "\tviewer_17580233620279372.addModel(\"ATOM      1  N   VAL A   1       5.034   5.440   3.688  1.00 86.01           N  \\nATOM      2  CA  VAL A   1       3.752   5.834   4.261  1.00 86.01           C  \\nATOM      3  C   VAL A   1       3.201   4.701   5.124  1.00 86.01           C  \\nATOM      4  O   VAL A   1       3.391   3.524   4.808  1.00 86.01           O  \\nATOM      5  CB  VAL A   1       2.732   6.213   3.164  1.00 86.01           C  \\nATOM      6  CG1 VAL A   1       3.110   7.541   2.511  1.00 86.01           C  \\nATOM      7  CG2 VAL A   1       2.640   5.106   2.116  1.00 86.01           C  \\nATOM      8  N   ASN A   2       3.167   5.042   6.255  1.00 85.34           N  \\nATOM      9  CA  ASN A   2       2.600   4.042   7.153  1.00 85.34           C  \\nATOM     10  C   ASN A   2       1.180   3.661   6.744  1.00 85.34           C  \\nATOM     11  O   ASN A   2       0.315   4.528   6.607  1.00 85.34           O  \\nATOM     12  CB  ASN A   2       2.619   4.546   8.598  1.00 85.34           C  \\nATOM     13  CG  ASN A   2       2.594   3.418   9.610  1.00 85.34           C  \\nATOM     14  OD1 ASN A   2       1.854   2.443   9.454  1.00 85.34           O  \\nATOM     15  ND2 ASN A   2       3.403   3.541  10.656  1.00 85.34           N  \\nATOM     16  N   VAL A   3       1.137   2.391   6.384  1.00 87.30           N  \\nATOM     17  CA  VAL A   3      -0.153   1.933   5.880  1.00 87.30           C  \\nATOM     18  C   VAL A   3      -0.727   0.871   6.816  1.00 87.30           C  \\nATOM     19  O   VAL A   3      -0.012  -0.037   7.247  1.00 87.30           O  \\nATOM     20  CB  VAL A   3      -0.035   1.371   4.445  1.00 87.30           C  \\nATOM     21  CG1 VAL A   3      -1.398   0.913   3.930  1.00 87.30           C  \\nATOM     22  CG2 VAL A   3       0.568   2.418   3.511  1.00 87.30           C  \\nATOM     23  N   LEU A   4      -2.006   0.957   7.174  1.00 84.80           N  \\nATOM     24  CA  LEU A   4      -2.746  -0.014   7.971  1.00 84.80           C  \\nATOM     25  C   LEU A   4      -3.601  -0.911   7.081  1.00 84.80           C  \\nATOM     26  O   LEU A   4      -4.454  -0.422   6.337  1.00 84.80           O  \\nATOM     27  CB  LEU A   4      -3.631   0.697   8.998  1.00 84.80           C  \\nATOM     28  CG  LEU A   4      -4.450  -0.201   9.926  1.00 84.80           C  \\nATOM     29  CD1 LEU A   4      -3.556  -0.808  11.002  1.00 84.80           C  \\nATOM     30  CD2 LEU A   4      -5.596   0.584  10.555  1.00 84.80           C  \\nATOM     31  N   PHE A   5      -3.354  -2.164   7.168  1.00 84.68           N  \\nATOM     32  CA  PHE A   5      -4.116  -3.165   6.430  1.00 84.68           C  \\nATOM     33  C   PHE A   5      -5.382  -3.548   7.188  1.00 84.68           C  \\nATOM     34  O   PHE A   5      -5.311  -4.064   8.305  1.00 84.68           O  \\nATOM     35  CB  PHE A   5      -3.262  -4.410   6.172  1.00 84.68           C  \\nATOM     36  CG  PHE A   5      -2.154  -4.190   5.177  1.00 84.68           C  \\nATOM     37  CD1 PHE A   5      -2.387  -4.327   3.814  1.00 84.68           C  \\nATOM     38  CD2 PHE A   5      -0.878  -3.846   5.606  1.00 84.68           C  \\nATOM     39  CE1 PHE A   5      -1.363  -4.124   2.892  1.00 84.68           C  \\nATOM     40  CE2 PHE A   5       0.150  -3.642   4.690  1.00 84.68           C  \\nATOM     41  CZ  PHE A   5      -0.094  -3.782   3.334  1.00 84.68           C  \\nATOM     42  N   LEU A   6      -6.483  -3.227   6.595  1.00 82.13           N  \\nATOM     43  CA  LEU A   6      -7.764  -3.392   7.273  1.00 82.13           C  \\nATOM     44  C   LEU A   6      -8.063  -4.868   7.516  1.00 82.13           C  \\nATOM     45  O   LEU A   6      -8.630  -5.229   8.550  1.00 82.13           O  \\nATOM     46  CB  LEU A   6      -8.891  -2.759   6.454  1.00 82.13           C  \\nATOM     47  CG  LEU A   6      -8.854  -1.237   6.313  1.00 82.13           C  \\nATOM     48  CD1 LEU A   6      -9.881  -0.775   5.284  1.00 82.13           C  \\nATOM     49  CD2 LEU A   6      -9.102  -0.568   7.661  1.00 82.13           C  \\nATOM     50  N   GLU A   7      -7.559  -5.705   6.656  1.00 83.00           N  \\nATOM     51  CA  GLU A   7      -7.849  -7.127   6.812  1.00 83.00           C  \\nATOM     52  C   GLU A   7      -6.989  -7.748   7.909  1.00 83.00           C  \\nATOM     53  O   GLU A   7      -7.472  -8.564   8.698  1.00 83.00           O  \\nATOM     54  CB  GLU A   7      -7.632  -7.869   5.491  1.00 83.00           C  \\nATOM     55  CG  GLU A   7      -8.709  -7.600   4.450  1.00 83.00           C  \\nATOM     56  CD  GLU A   7      -8.648  -8.548   3.264  1.00 83.00           C  \\nATOM     57  OE1 GLU A   7      -9.716  -8.902   2.714  1.00 83.00           O  \\nATOM     58  OE2 GLU A   7      -7.523  -8.941   2.882  1.00 83.00           O  \\nATOM     59  N   ARG A   8      -5.778  -7.223   7.996  1.00 82.30           N  \\nATOM     60  CA  ARG A   8      -4.868  -7.843   8.953  1.00 82.30           C  \\nATOM     61  C   ARG A   8      -4.692  -6.966  10.188  1.00 82.30           C  \\nATOM     62  O   ARG A   8      -4.409  -7.469  11.278  1.00 82.30           O  \\nATOM     63  CB  ARG A   8      -3.509  -8.114   8.305  1.00 82.30           C  \\nATOM     64  CG  ARG A   8      -3.491  -9.336   7.401  1.00 82.30           C  \\nATOM     65  CD  ARG A   8      -2.131  -9.533   6.746  1.00 82.30           C  \\nATOM     66  NE  ARG A   8      -1.334 -10.536   7.447  1.00 82.30           N  \\nATOM     67  CZ  ARG A   8      -0.066 -10.827   7.169  1.00 82.30           C  \\nATOM     68  NH1 ARG A   8       0.577 -10.194   6.194  1.00 82.30           N  \\nATOM     69  NH2 ARG A   8       0.564 -11.758   7.871  1.00 82.30           N  \\nATOM     70  N   GLY A   9      -5.040  -5.704  10.015  1.00 84.05           N  \\nATOM     71  CA  GLY A   9      -4.826  -4.801  11.134  1.00 84.05           C  \\nATOM     72  C   GLY A   9      -3.360  -4.508  11.392  1.00 84.05           C  \\nATOM     73  O   GLY A   9      -2.983  -4.134  12.505  1.00 84.05           O  \\nATOM     74  N   ASP A  10      -2.528  -4.862  10.464  1.00 84.62           N  \\nATOM     75  CA  ASP A  10      -1.092  -4.644  10.607  1.00 84.62           C  \\nATOM     76  C   ASP A  10      -0.656  -3.367   9.891  1.00 84.62           C  \\nATOM     77  O   ASP A  10      -1.260  -2.972   8.892  1.00 84.62           O  \\nATOM     78  CB  ASP A  10      -0.311  -5.843  10.066  1.00 84.62           C  \\nATOM     79  CG  ASP A  10       1.137  -5.865  10.525  1.00 84.62           C  \\nATOM     80  OD1 ASP A  10       1.521  -5.027  11.370  1.00 84.62           O  \\nATOM     81  OD2 ASP A  10       1.900  -6.725  10.037  1.00 84.62           O  \\nATOM     82  N   VAL A  11       0.233  -2.691  10.563  1.00 87.47           N  \\nATOM     83  CA  VAL A  11       0.778  -1.476   9.968  1.00 87.47           C  \\nATOM     84  C   VAL A  11       2.146  -1.768   9.355  1.00 87.47           C  \\nATOM     85  O   VAL A  11       3.040  -2.280  10.033  1.00 87.47           O  \\nATOM     86  CB  VAL A  11       0.892  -0.337  11.007  1.00 87.47           C  \\nATOM     87  CG1 VAL A  11       1.460   0.926  10.363  1.00 87.47           C  \\nATOM     88  CG2 VAL A  11      -0.470  -0.053  11.638  1.00 87.47           C  \\nATOM     89  N   ARG A  12       2.184  -1.659   8.134  1.00 85.29           N  \\nATOM     90  CA  ARG A  12       3.447  -1.833   7.422  1.00 85.29           C  \\nATOM     91  C   ARG A  12       3.841  -0.556   6.688  1.00 85.29           C  \\nATOM     92  O   ARG A  12       2.985   0.267   6.357  1.00 85.29           O  \\nATOM     93  CB  ARG A  12       3.352  -2.997   6.434  1.00 85.29           C  \\nATOM     94  CG  ARG A  12       3.184  -4.355   7.097  1.00 85.29           C  \\nATOM     95  CD  ARG A  12       3.298  -5.492   6.091  1.00 85.29           C  \\nATOM     96  NE  ARG A  12       3.175  -6.796   6.735  1.00 85.29           N  \\nATOM     97  CZ  ARG A  12       3.287  -7.964   6.108  1.00 85.29           C  \\nATOM     98  NH1 ARG A  12       3.528  -8.014   4.803  1.00 85.29           N  \\nATOM     99  NH2 ARG A  12       3.158  -9.092   6.792  1.00 85.29           N  \\nATOM    100  N   THR A  13       5.093  -0.322   6.670  1.00 89.25           N  \\nATOM    101  CA  THR A  13       5.612   0.779   5.866  1.00 89.25           C  \\nATOM    102  C   THR A  13       5.944   0.308   4.453  1.00 89.25           C  \\nATOM    103  O   THR A  13       6.761  -0.597   4.271  1.00 89.25           O  \\nATOM    104  CB  THR A  13       6.866   1.399   6.511  1.00 89.25           C  \\nATOM    105  OG1 THR A  13       6.566   1.772   7.862  1.00 89.25           O  \\nATOM    106  CG2 THR A  13       7.324   2.635   5.745  1.00 89.25           C  \\nATOM    107  N   ILE A  14       5.216   0.816   3.584  1.00 88.34           N  \\nATOM    108  CA  ILE A  14       5.426   0.441   2.190  1.00 88.34           C  \\nATOM    109  C   ILE A  14       5.718   1.688   1.358  1.00 88.34           C  \\nATOM    110  O   ILE A  14       5.590   2.812   1.848  1.00 88.34           O  \\nATOM    111  CB  ILE A  14       4.203  -0.311   1.617  1.00 88.34           C  \\nATOM    112  CG1 ILE A  14       2.989   0.622   1.545  1.00 88.34           C  \\nATOM    113  CG2 ILE A  14       3.891  -1.553   2.457  1.00 88.34           C  \\nATOM    114  CD1 ILE A  14       1.839   0.077   0.709  1.00 88.34           C  \\nATOM    115  N   SER A  15       6.066   1.485   0.049  1.00 89.79           N  \\nATOM    116  CA  SER A  15       6.312   2.600  -0.859  1.00 89.79           C  \\nATOM    117  C   SER A  15       5.040   3.404  -1.104  1.00 89.79           C  \\nATOM    118  O   SER A  15       3.945   2.841  -1.162  1.00 89.79           O  \\nATOM    119  CB  SER A  15       6.870   2.095  -2.190  1.00 89.79           C  \\nATOM    120  OG  SER A  15       6.881   3.131  -3.156  1.00 89.79           O  \\nATOM    121  N   ARG A  16       5.235   4.664  -1.159  1.00 87.58           N  \\nATOM    122  CA  ARG A  16       4.130   5.598  -1.349  1.00 87.58           C  \\nATOM    123  C   ARG A  16       3.365   5.288  -2.631  1.00 87.58           C  \\nATOM    124  O   ARG A  16       2.133   5.327  -2.650  1.00 87.58           O  \\nATOM    125  CB  ARG A  16       4.643   7.040  -1.380  1.00 87.58           C  \\nATOM    126  CG  ARG A  16       3.540   8.086  -1.415  1.00 87.58           C  \\nATOM    127  CD  ARG A  16       4.101   9.499  -1.354  1.00 87.58           C  \\nATOM    128  NE  ARG A  16       3.086  10.497  -1.678  1.00 87.58           N  \\nATOM    129  CZ  ARG A  16       3.247  11.487  -2.552  1.00 87.58           C  \\nATOM    130  NH1 ARG A  16       4.393  11.631  -3.209  1.00 87.58           N  \\nATOM    131  NH2 ARG A  16       2.257  12.339  -2.771  1.00 87.58           N  \\nATOM    132  N   THR A  17       4.066   4.885  -3.643  1.00 90.63           N  \\nATOM    133  CA  THR A  17       3.433   4.626  -4.931  1.00 90.63           C  \\nATOM    134  C   THR A  17       2.578   3.363  -4.869  1.00 90.63           C  \\nATOM    135  O   THR A  17       1.438   3.355  -5.338  1.00 90.63           O  \\nATOM    136  CB  THR A  17       4.481   4.485  -6.051  1.00 90.63           C  \\nATOM    137  OG1 THR A  17       5.349   5.625  -6.030  1.00 90.63           O  \\nATOM    138  CG2 THR A  17       3.814   4.394  -7.420  1.00 90.63           C  \\nATOM    139  N   TYR A  18       3.155   2.344  -4.289  1.00 88.66           N  \\nATOM    140  CA  TYR A  18       2.423   1.088  -4.166  1.00 88.66           C  \\nATOM    141  C   TYR A  18       1.170   1.268  -3.318  1.00 88.66           C  \\nATOM    142  O   TYR A  18       0.090   0.800  -3.688  1.00 88.66           O  \\nATOM    143  CB  TYR A  18       3.316   0.004  -3.554  1.00 88.66           C  \\nATOM    144  CG  TYR A  18       2.655  -1.351  -3.471  1.00 88.66           C  \\nATOM    145  CD1 TYR A  18       2.275  -1.888  -2.243  1.00 88.66           C  \\nATOM    146  CD2 TYR A  18       2.410  -2.096  -4.619  1.00 88.66           C  \\nATOM    147  CE1 TYR A  18       1.668  -3.137  -2.162  1.00 88.66           C  \\nATOM    148  CE2 TYR A  18       1.803  -3.346  -4.550  1.00 88.66           C  \\nATOM    149  CZ  TYR A  18       1.436  -3.857  -3.318  1.00 88.66           C  \\nATOM    150  OH  TYR A  18       0.835  -5.094  -3.244  1.00 88.66           O  \\nATOM    151  N   ALA A  19       1.276   2.013  -2.240  1.00 87.87           N  \\nATOM    152  CA  ALA A  19       0.151   2.241  -1.336  1.00 87.87           C  \\nATOM    153  C   ALA A  19      -0.963   3.019  -2.032  1.00 87.87           C  \\nATOM    154  O   ALA A  19      -2.137   2.656  -1.932  1.00 87.87           O  \\nATOM    155  CB  ALA A  19       0.615   2.985  -0.086  1.00 87.87           C  \\nATOM    156  N   THR A  20      -0.681   3.956  -2.780  1.00 87.45           N  \\nATOM    157  CA  THR A  20      -1.641   4.864  -3.399  1.00 87.45           C  \\nATOM    158  C   THR A  20      -2.284   4.218  -4.623  1.00 87.45           C  \\nATOM    159  O   THR A  20      -3.497   4.321  -4.820  1.00 87.45           O  \\nATOM    160  CB  THR A  20      -0.973   6.190  -3.806  1.00 87.45           C  \\nATOM    161  OG1 THR A  20      -0.429   6.822  -2.641  1.00 87.45           O  \\nATOM    162  CG2 THR A  20      -1.978   7.134  -4.459  1.00 87.45           C  \\nATOM    163  N   LYS A  21      -1.441   3.478  -5.391  1.00 88.37           N  \\nATOM    164  CA  LYS A  21      -1.958   2.933  -6.644  1.00 88.37           C  \\nATOM    165  C   LYS A  21      -2.693   1.617  -6.409  1.00 88.37           C  \\nATOM    166  O   LYS A  21      -3.660   1.307  -7.108  1.00 88.37           O  \\nATOM    167  CB  LYS A  21      -0.823   2.728  -7.648  1.00 88.37           C  \\nATOM    168  CG  LYS A  21      -0.425   3.990  -8.399  1.00 88.37           C  \\nATOM    169  CD  LYS A  21       0.582   3.691  -9.502  1.00 88.37           C  \\nATOM    170  CE  LYS A  21       1.006   4.958 -10.232  1.00 88.37           C  \\nATOM    171  NZ  LYS A  21       2.028   4.675 -11.284  1.00 88.37           N  \\nATOM    172  N   TYR A  22      -2.302   0.882  -5.372  1.00 87.58           N  \\nATOM    173  CA  TYR A  22      -2.853  -0.459  -5.218  1.00 87.58           C  \\nATOM    174  C   TYR A  22      -3.663  -0.572  -3.931  1.00 87.58           C  \\nATOM    175  O   TYR A  22      -4.848  -0.912  -3.964  1.00 87.58           O  \\nATOM    176  CB  TYR A  22      -1.733  -1.505  -5.223  1.00 87.58           C  \\nATOM    177  CG  TYR A  22      -1.347  -1.973  -6.604  1.00 87.58           C  \\nATOM    178  CD1 TYR A  22      -2.058  -2.988  -7.241  1.00 87.58           C  \\nATOM    179  CD2 TYR A  22      -0.269  -1.405  -7.275  1.00 87.58           C  \\nATOM    180  CE1 TYR A  22      -1.705  -3.424  -8.514  1.00 87.58           C  \\nATOM    181  CE2 TYR A  22       0.093  -1.833  -8.547  1.00 87.58           C  \\nATOM    182  CZ  TYR A  22      -0.629  -2.842  -9.158  1.00 87.58           C  \\nATOM    183  OH  TYR A  22      -0.275  -3.270 -10.418  1.00 87.58           O  \\nATOM    184  N   LEU A  23      -3.185  -0.138  -2.864  1.00 85.25           N  \\nATOM    185  CA  LEU A  23      -3.797  -0.439  -1.575  1.00 85.25           C  \\nATOM    186  C   LEU A  23      -4.970   0.495  -1.298  1.00 85.25           C  \\nATOM    187  O   LEU A  23      -6.075   0.038  -0.998  1.00 85.25           O  \\nATOM    188  CB  LEU A  23      -2.762  -0.326  -0.452  1.00 85.25           C  \\nATOM    189  CG  LEU A  23      -1.620  -1.343  -0.476  1.00 85.25           C  \\nATOM    190  CD1 LEU A  23      -0.634  -1.060   0.652  1.00 85.25           C  \\nATOM    191  CD2 LEU A  23      -2.166  -2.763  -0.373  1.00 85.25           C  \\nATOM    192  N   TYR A  24      -4.810   1.687  -1.542  1.00 87.05           N  \\nATOM    193  CA  TYR A  24      -5.875   2.642  -1.261  1.00 87.05           C  \\nATOM    194  C   TYR A  24      -6.982   2.548  -2.304  1.00 87.05           C  \\nATOM    195  O   TYR A  24      -8.163   2.692  -1.980  1.00 87.05           O  \\nATOM    196  CB  TYR A  24      -5.320   4.069  -1.217  1.00 87.05           C  \\nATOM    197  CG  TYR A  24      -4.369   4.316  -0.071  1.00 87.05           C  \\nATOM    198  CD1 TYR A  24      -4.440   3.555   1.094  1.00 87.05           C  \\nATOM    199  CD2 TYR A  24      -3.400   5.310  -0.149  1.00 87.05           C  \\nATOM    200  CE1 TYR A  24      -3.568   3.780   2.154  1.00 87.05           C  \\nATOM    201  CE2 TYR A  24      -2.523   5.544   0.905  1.00 87.05           C  \\nATOM    202  CZ  TYR A  24      -2.614   4.774   2.050  1.00 87.05           C  \\nATOM    203  OH  TYR A  24      -1.748   5.001   3.096  1.00 87.05           O  \\nATOM    204  N   HIS A  25      -6.603   2.277  -3.570  1.00 85.80           N  \\nATOM    205  CA  HIS A  25      -7.594   2.207  -4.638  1.00 85.80           C  \\nATOM    206  C   HIS A  25      -8.499   0.991  -4.470  1.00 85.80           C  \\nATOM    207  O   HIS A  25      -9.677   1.035  -4.831  1.00 85.80           O  \\nATOM    208  CB  HIS A  25      -6.907   2.166  -6.004  1.00 85.80           C  \\nATOM    209  CG  HIS A  25      -7.827   2.456  -7.147  1.00 85.80           C  \\nATOM    210  ND1 HIS A  25      -8.068   3.734  -7.603  1.00 85.80           N  \\nATOM    211  CD2 HIS A  25      -8.563   1.629  -7.927  1.00 85.80           C  \\nATOM    212  CE1 HIS A  25      -8.916   3.680  -8.617  1.00 85.80           C  \\nATOM    213  NE2 HIS A  25      -9.231   2.415  -8.834  1.00 85.80           N  \\nATOM    214  N   HIS A  26      -7.840  -0.036  -3.920  1.00 85.97           N  \\nATOM    215  CA  HIS A  26      -8.610  -1.266  -3.768  1.00 85.97           C  \\nATOM    216  C   HIS A  26      -9.282  -1.329  -2.400  1.00 85.97           C  \\nATOM    217  O   HIS A  26      -9.928  -2.326  -2.067  1.00 85.97           O  \\nATOM    218  CB  HIS A  26      -7.713  -2.488  -3.969  1.00 85.97           C  \\nATOM    219  CG  HIS A  26      -7.289  -2.694  -5.388  1.00 85.97           C  \\nATOM    220  ND1 HIS A  26      -8.115  -3.256  -6.338  1.00 85.97           N  \\nATOM    221  CD2 HIS A  26      -6.125  -2.410  -6.018  1.00 85.97           C  \\nATOM    222  CE1 HIS A  26      -7.474  -3.309  -7.494  1.00 85.97           C  \\nATOM    223  NE2 HIS A  26      -6.265  -2.802  -7.327  1.00 85.97           N  \\nATOM    224  N   ASN A  27      -9.119  -0.227  -1.596  1.00 83.58           N  \\nATOM    225  CA  ASN A  27      -9.740  -0.108  -0.281  1.00 83.58           C  \\nATOM    226  C   ASN A  27      -9.260  -1.203   0.667  1.00 83.58           C  \\nATOM    227  O   ASN A  27     -10.062  -1.804   1.384  1.00 83.58           O  \\nATOM    228  CB  ASN A  27     -11.265  -0.141  -0.402  1.00 83.58           C  \\nATOM    229  CG  ASN A  27     -11.903   1.206  -0.127  1.00 83.58           C  \\nATOM    230  OD1 ASN A  27     -11.208   2.207   0.065  1.00 83.58           O  \\nATOM    231  ND2 ASN A  27     -13.230   1.241  -0.106  1.00 83.58           N  \\nATOM    232  N   ILE A  28      -8.001  -1.697   0.415  1.00 85.64           N  \\nATOM    233  CA  ILE A  28      -7.423  -2.748   1.246  1.00 85.64           C  \\nATOM    234  C   ILE A  28      -6.695  -2.125   2.435  1.00 85.64           C  \\nATOM    235  O   ILE A  28      -6.630  -2.721   3.512  1.00 85.64           O  \\nATOM    236  CB  ILE A  28      -6.459  -3.643   0.436  1.00 85.64           C  \\nATOM    237  CG1 ILE A  28      -7.206  -4.329  -0.714  1.00 85.64           C  \\nATOM    238  CG2 ILE A  28      -5.787  -4.676   1.346  1.00 85.64           C  \\nATOM    239  CD1 ILE A  28      -6.297  -5.055  -1.697  1.00 85.64           C  \\nATOM    240  N   ALA A  29      -6.392  -0.779   2.216  1.00 85.79           N  \\nATOM    241  CA  ALA A  29      -5.586  -0.184   3.279  1.00 85.79           C  \\nATOM    242  C   ALA A  29      -5.896   1.302   3.436  1.00 85.79           C  \\nATOM    243  O   ALA A  29      -6.457   1.924   2.531  1.00 85.79           O  \\nATOM    244  CB  ALA A  29      -4.100  -0.388   2.998  1.00 85.79           C  \\nATOM    245  N   VAL A  30      -5.733   1.800   4.629  1.00 85.80           N  \\nATOM    246  CA  VAL A  30      -5.912   3.218   4.926  1.00 85.80           C  \\nATOM    247  C   VAL A  30      -4.610   3.800   5.473  1.00 85.80           C  \\nATOM    248  O   VAL A  30      -3.729   3.059   5.915  1.00 85.80           O  \\nATOM    249  CB  VAL A  30      -7.062   3.446   5.933  1.00 85.80           C  \\nATOM    250  CG1 VAL A  30      -8.408   3.095   5.303  1.00 85.80           C  \\nATOM    251  CG2 VAL A  30      -6.831   2.626   7.201  1.00 85.80           C  \\nATOM    252  N   ARG A  31      -4.413   4.962   5.293  1.00 85.37           N  \\nATOM    253  CA  ARG A  31      -3.236   5.648   5.816  1.00 85.37           C  \\nATOM    254  C   ARG A  31      -3.177   5.550   7.337  1.00 85.37           C  \\nATOM    255  O   ARG A  31      -4.145   5.884   8.024  1.00 85.37           O  \\nATOM    256  CB  ARG A  31      -3.232   7.116   5.385  1.00 85.37           C  \\nATOM    257  CG  ARG A  31      -1.849   7.747   5.361  1.00 85.37           C  \\nATOM    258  CD  ARG A  31      -1.884   9.160   4.794  1.00 85.37           C  \\nATOM    259  NE  ARG A  31      -0.668   9.901   5.119  1.00 85.37           N  \\nATOM    260  CZ  ARG A  31      -0.001  10.673   4.266  1.00 85.37           C  \\nATOM    261  NH1 ARG A  31      -0.419  10.821   3.015  1.00 85.37           N  \\nATOM    262  NH2 ARG A  31       1.094  11.302   4.668  1.00 85.37           N  \\nATOM    263  N   ALA A  32      -2.320   4.507   7.652  1.00 80.69           N  \\nATOM    264  CA  ALA A  32      -2.138   4.453   9.100  1.00 80.69           C  \\nATOM    265  C   ALA A  32      -1.460   5.719   9.616  1.00 80.69           C  \\nATOM    266  O   ALA A  32      -0.752   6.399   8.870  1.00 80.69           O  \\nATOM    267  CB  ALA A  32      -1.324   3.221   9.488  1.00 80.69           C  \",\"pdb\",{\"hbondCutoff\": 4.0});\n",
              "\tviewer_17580233620279372.setStyle({\"cartoon\": {\"colorscheme\": {\"prop\": \"b\", \"gradient\": \"roygb\", \"min\": 50, \"max\": 90}}});\n",
              "\tviewer_17580233620279372.zoomTo();\n",
              "viewer_17580233620279372.render();\n",
              "});\n",
              "</script>"
            ]
          },
          "metadata": {}
        }
      ]
    },
    {
      "cell_type": "code",
      "source": [
        "#@title Mutate DNA and inspect translation\n",
        "from IPython.display import display, HTML\n",
        "from textwrap import wrap\n",
        "import Bio\n",
        "from Bio.Seq import Seq\n",
        "\n",
        "# === Inputs ===\n",
        "original_seq = \"tacaaatgcgggttgtgcgagaggagctttgtggaaaagtctgccctttccagacaccagagggttcacaaaaat\" #@param {type:\"string\"}\n",
        "mutated_seq  = \"tacaaatgcgggttgtgcgagaggagctttgtggaaaagtctgccctttccagacaccagagggttcacaaaaat\" #@param {type:\"string\"}\n",
        "\n",
        "# Clean input\n",
        "original_seq = original_seq.replace(\" \", \"\").upper()\n",
        "mutated_seq  = mutated_seq.replace(\" \", \"\").upper()\n",
        "\n",
        "# === Checks ===\n",
        "if len(original_seq) != len(mutated_seq):\n",
        "    raise ValueError(f\"Sequences must have the same length (got {len(original_seq)} vs {len(mutated_seq)}).\")\n",
        "if len(original_seq) % 3 != 0:\n",
        "    raise ValueError(f\"Sequence length must be a multiple of 3 (got {len(original_seq)}).\")\n",
        "\n",
        "# === Genetic code (DNA codons) ===\n",
        "codon_table = {\n",
        "    \"TTT\":\"F\",\"TTC\":\"F\",\"TTA\":\"L\",\"TTG\":\"L\",\n",
        "    \"CTT\":\"L\",\"CTC\":\"L\",\"CTA\":\"L\",\"CTG\":\"L\",\n",
        "    \"ATT\":\"I\",\"ATC\":\"I\",\"ATA\":\"I\",\"ATG\":\"M\",\n",
        "    \"GTT\":\"V\",\"GTC\":\"V\",\"GTA\":\"V\",\"GTG\":\"V\",\n",
        "    \"TCT\":\"S\",\"TCC\":\"S\",\"TCA\":\"S\",\"TCG\":\"S\",\n",
        "    \"CCT\":\"P\",\"CCC\":\"P\",\"CCA\":\"P\",\"CCG\":\"P\",\n",
        "    \"ACT\":\"T\",\"ACC\":\"T\",\"ACA\":\"T\",\"ACG\":\"T\",\n",
        "    \"GCT\":\"A\",\"GCC\":\"A\",\"GCA\":\"A\",\"GCG\":\"A\",\n",
        "    \"TAT\":\"Y\",\"TAC\":\"Y\",\"TAA\":\"*\",\"TAG\":\"*\",\n",
        "    \"CAT\":\"H\",\"CAC\":\"H\",\"CAA\":\"Q\",\"CAG\":\"Q\",\n",
        "    \"AAT\":\"N\",\"AAC\":\"N\",\"AAA\":\"K\",\"AAG\":\"K\",\n",
        "    \"GAT\":\"D\",\"GAC\":\"D\",\"GAA\":\"E\",\"GAG\":\"E\",\n",
        "    \"TGT\":\"C\",\"TGC\":\"C\",\"TGA\":\"*\",\"TGG\":\"W\",\n",
        "    \"CGT\":\"R\",\"CGC\":\"R\",\"CGA\":\"R\",\"CGG\":\"R\",\n",
        "    \"AGT\":\"S\",\"AGC\":\"S\",\"AGA\":\"R\",\"AGG\":\"R\",\n",
        "    \"GGT\":\"G\",\"GGC\":\"G\",\"GGA\":\"G\",\"GGG\":\"G\"\n",
        "}\n",
        "\n",
        "def translate_dna(seq):\n",
        "    codons = wrap(seq, 3)\n",
        "    aa = [codon_table.get(c,\"?\") for c in codons]\n",
        "    return codons, aa\n",
        "\n",
        "from IPython.display import display, HTML\n",
        "\n",
        "def compare_sequences(seq1, seq2, space_every=10, spacer=\" \", no_number=False):\n",
        "    \"\"\"\n",
        "    Display two sequences in monospace, highlight differences in bold red,\n",
        "    insert spaces every n characters, and add numbering above each block.\n",
        "    \"\"\"\n",
        "    if len(seq1) != len(seq2):\n",
        "        raise ValueError(\"Sequences must be the same length\")\n",
        "\n",
        "    def highlight_block(s1, s2):\n",
        "        \"\"\"Highlight differences in one block of equal length\"\"\"\n",
        "        out1, out2 = [], []\n",
        "        for a, b in zip(s1, s2):\n",
        "            out1.append(a)\n",
        "            if a == b:\n",
        "                out2.append(b)\n",
        "            else:\n",
        "                out2.append(f\"<span style='color:red;font-weight:bold'>{b}</span>\")\n",
        "        return \"\".join(out1), \"\".join(out2)\n",
        "\n",
        "    # Split into blocks of size space_every\n",
        "    blocks1 = [seq1[i:i+space_every] for i in range(0, len(seq1), space_every)]\n",
        "    blocks2 = [seq2[i:i+space_every] for i in range(0, len(seq2), space_every)]\n",
        "\n",
        "    seq1_blocks, seq2_blocks, num_blocks = [], [], []\n",
        "    pos = 0\n",
        "    for b1, b2 in zip(blocks1, blocks2):\n",
        "        o1, o2 = highlight_block(b1, b2)\n",
        "        seq1_blocks.append(o1)\n",
        "        seq2_blocks.append(o2)\n",
        "        pos += len(b1)\n",
        "        num_blocks.append(str(pos).rjust(len(b1)))\n",
        "\n",
        "\n",
        "    number_line = spacer.join(num_blocks)\n",
        "    seq1_line   = spacer.join(seq1_blocks)\n",
        "    seq2_line   = spacer.join(seq2_blocks)\n",
        "\n",
        "    html = []\n",
        "    if no_number:\n",
        "        html = seq1_line + \"<br>\" + seq2_line\n",
        "    else:\n",
        "        html = number_line + \"<br>\" + seq1_line + \"<br>\" + seq2_line\n",
        "    display(HTML(f\"<pre style='font-family:monospace'>{html}</pre>\"))\n",
        "\n",
        "def dna_identity(seq1: str, seq2: str) -> float:\n",
        "    \"\"\"Return % identity at DNA level\"\"\"\n",
        "    if len(seq1) != len(seq2):\n",
        "        raise ValueError(\"Sequences must have the same length\")\n",
        "    matches = sum(a == b for a, b in zip(seq1.upper(), seq2.upper()))\n",
        "    return 100 * matches / len(seq1)\n",
        "\n",
        "def protein_identity(seq1: str, seq2: str) -> float:\n",
        "    \"\"\"Translate DNA → protein and return % identity\"\"\"\n",
        "    if len(seq1) % 3 != 0 or len(seq2) % 3 != 0:\n",
        "        raise ValueError(\"DNA sequences must be divisible by 3\")\n",
        "    prot1 = str(Seq(seq1).translate(to_stop=False))\n",
        "    prot2 = str(Seq(seq2).translate(to_stop=False))\n",
        "    if len(prot1) != len(prot2):\n",
        "        raise ValueError(\"Translated proteins have different lengths\")\n",
        "    matches = sum(a == b for a, b in zip(prot1, prot2))\n",
        "    return 100 * matches / len(prot1)\n",
        "\n",
        "def mutation_score(seq1: str, seq2: str) -> float:\n",
        "    \"\"\"Return mutation score\"\"\"\n",
        "    if len(seq1) != len(seq2):\n",
        "        raise ValueError(\"Sequences must have the same length\")\n",
        "\n",
        "    protein_id = protein_identity(seq1, seq2)\n",
        "    dna_id = dna_identity(seq1, seq2)\n",
        "\n",
        "    return ((100.-protein_id)+(100.-dna_id))/2\n",
        "\n",
        "# === Translation ===\n",
        "codons_o, aa_o = translate_dna(original_seq)\n",
        "codons_m, aa_m = translate_dna(mutated_seq)\n",
        "\n",
        "# === HTML display ===\n",
        "\n",
        "compare_sequences(original_seq,mutated_seq,space_every=3)\n",
        "compare_sequences(aa_o,aa_m,space_every=1, no_number=True, spacer=\"   \")\n",
        "\n",
        "#display(HTML(f\"<pre style='font-family:monospace'>{\"   \".join(aa_o)}</pre>\"))\n",
        "#compare_sequences(\"\".join(codons_o),\"\".join(codons_m),space_every=30)\n",
        "\n",
        "print(\"\\n\\nMutaded sequence without spaces:\")\n",
        "display(HTML(f\"<pre style='font-family:monospace'>{\"\".join(aa_m)}</pre>\"))\n",
        "\n",
        "dna_id = dna_identity(original_seq, mutated_seq)\n",
        "#print(f\"\\nDNA % identity: {dna_id:.1f}%\")\n",
        "protein_id = protein_identity(original_seq, mutated_seq)\n",
        "#print(f\"Protein % identity: {protein_id:.1f}%\")\n",
        "print(\"\\n\")\n",
        "mut_score = mutation_score(original_seq,mutated_seq)\n",
        "print(f\"Mutation score is {mut_score:.2f}\")\n"
      ],
      "metadata": {
        "id": "z3HeD2V8epVW",
        "colab": {
          "base_uri": "https://localhost:8080/",
          "height": 229
        },
        "outputId": "f94c620c-2bb4-4bc2-c3d3-f4769d697db2"
      },
      "execution_count": null,
      "outputs": [
        {
          "output_type": "display_data",
          "data": {
            "text/plain": [
              "<IPython.core.display.HTML object>"
            ],
            "text/html": [
              "<pre style='font-family:monospace'>  3   6   9  12  15  18  21  24  27  30  33  36  39  42  45  48  51  54  57  60  63  66  69  72  75  78  81  84  87  90  93  96<br>ATG AAA GTG ATT TTT CTG AAA AAA GGC GAA ATT AAA AAC GTG GCG GAT GGC TAT GCG AAC AAC TTT CTG TTT AAA CAG GGC CTG GCG ATT GAA GCG<br>ATG AAA GTG ATT TTT CTG AAA AAA GGC GAA ATT AAA AAC GTG GCG GAT GGC TAT GCG AAC AAC TTT CTG TTT AAA CAG GGC CTG GCG ATT GAA GCG</pre>"
            ]
          },
          "metadata": {}
        },
        {
          "output_type": "display_data",
          "data": {
            "text/plain": [
              "<IPython.core.display.HTML object>"
            ],
            "text/html": [
              "<pre style='font-family:monospace'>M   K   V   I   F   L   K   K   G   E   I   K   N   V   A   D   G   Y   A   N   N   F   L   F   K   Q   G   L   A   I   E   A<br>M   K   V   I   F   L   K   K   G   E   I   K   N   V   A   D   G   Y   A   N   N   F   L   F   K   Q   G   L   A   I   E   A</pre>"
            ]
          },
          "metadata": {}
        },
        {
          "output_type": "stream",
          "name": "stdout",
          "text": [
            "\n",
            "\n",
            "Mutaded sequence without spaces:\n"
          ]
        },
        {
          "output_type": "display_data",
          "data": {
            "text/plain": [
              "<IPython.core.display.HTML object>"
            ],
            "text/html": [
              "<pre style='font-family:monospace'>MKVIFLKKGEIKNVADGYANNFLFKQGLAIEA</pre>"
            ]
          },
          "metadata": {}
        },
        {
          "output_type": "stream",
          "name": "stdout",
          "text": [
            "\n",
            "\n",
            "Mutation score is 0.00\n"
          ]
        }
      ]
    },
    {
      "cell_type": "code",
      "source": [
        "#@title Calculate RMSD-based final score\n",
        "import os, re, requests\n",
        "import torch\n",
        "from jax.tree_util import tree_map\n",
        "from Bio.Seq import Seq\n",
        "from Bio.PDB import PDBParser, Superimposer, PDBIO\n",
        "import numpy as np\n",
        "import tempfile\n",
        "\n",
        "# --- Superpose prediction onto reference ---\n",
        "def align_pred_to_ref(pred_pdb_str, ref_pdb_file, out_file=\"pred_aligned.pdb\"):\n",
        "    parser = PDBParser(QUIET=True)\n",
        "\n",
        "    # Save predicted PDB string to temp file\n",
        "    with tempfile.NamedTemporaryFile(delete=False, suffix=\".pdb\") as tmp_pred:\n",
        "        tmp_pred.write(pred_pdb_str.encode())\n",
        "        pred_file = tmp_pred.name\n",
        "\n",
        "    pred = parser.get_structure(\"pred\", pred_file)\n",
        "    ref  = parser.get_structure(\"ref\", ref_pdb_file)\n",
        "\n",
        "    # Use CA atoms for alignment\n",
        "    pred_atoms = [a for a in pred.get_atoms() if a.get_id() == \"CA\"]\n",
        "    ref_atoms  = [a for a in ref.get_atoms()  if a.get_id() == \"CA\"]\n",
        "\n",
        "    n = min(len(pred_atoms), len(ref_atoms))\n",
        "    si = Superimposer()\n",
        "    si.set_atoms(ref_atoms[:n], pred_atoms[:n])  # align prediction to reference\n",
        "    si.apply(pred.get_atoms())                   # apply transform to prediction\n",
        "\n",
        "    # Write aligned prediction\n",
        "    io = PDBIO()\n",
        "    io.set_structure(pred)\n",
        "    io.save(out_file)\n",
        "\n",
        "    return out_file, si.rms\n",
        "\n",
        "def rmsd_to_similarity(rmsd, sigma=2.0):\n",
        "    \"\"\"\n",
        "    Convert RMSD (Å) to a similarity score in [0,1].\n",
        "    Smaller RMSD -> score close to 1, larger RMSD -> score close to 0.\n",
        "\n",
        "    Parameters\n",
        "    ----------\n",
        "    rmsd : float or np.array\n",
        "        Root-mean-square deviation in angstroms.\n",
        "    sigma : float\n",
        "        Scaling factor controlling decay. Typical RMSDs of 1-2 Å → high similarity.\n",
        "\n",
        "    Returns\n",
        "    -------\n",
        "    similarity : float or np.array\n",
        "        Score in [0,1].\n",
        "    \"\"\"\n",
        "    return np.exp(-rmsd / sigma)\n",
        "\n",
        "# --- Download reference PDB ---\n",
        "ref_file=\"reference.pdb\"\n",
        "if not os.path.isfile(ref_file):\n",
        "  !wget -q -O reference.pdb https://raw.githubusercontent.com/bforsbe/SK2534/main/reference_omega.pdb\n",
        "\n",
        "aligned_file, rmsd_val = align_pred_to_ref(pdb_str, ref_file)\n",
        "\n",
        "#for rmsd in [0.5, 1.0, 2.0, 5.0]:\n",
        "#    print(rmsd, rmsd_to_similarity(rmsd))\n",
        "pred_sim_score = rmsd_to_similarity(rmsd_val)\n",
        "mut_score=mutation_score(original_seq,mutated_seq)\n",
        "\n",
        "# --- Compare ---\n",
        "print(f\"Input file is {o_pdb_file}\")\n",
        "#print(f\"Protein sequence: {protein_seq}\")\n",
        "print(f\"mutation score: \\t{mut_score:.2f})\")\n",
        "print(f\"RMSD vs reference: \\t{rmsd_val:.3f} Å (score: {pred_sim_score:.2f})\")\n",
        "print(\"\\n\\n\")\n",
        "print(f\"Total score: \\t{mut_score*pred_sim_score:.3f}\")\n"
      ],
      "metadata": {
        "cellView": "form",
        "id": "c51BDdsXe68l",
        "colab": {
          "base_uri": "https://localhost:8080/"
        },
        "outputId": "15dd2ff9-69b6-4c26-d20a-a3df9226091e"
      },
      "execution_count": null,
      "outputs": [
        {
          "output_type": "stream",
          "name": "stdout",
          "text": [
            "Input file is test_a2395.pdb\n",
            "mutation score: \t2.08)\n",
            "RMSD vs reference: \t0.000 Å (score: 1.00)\n",
            "\n",
            "\n",
            "\n",
            "Total score: \t2.083\n"
          ]
        }
      ]
    },
    {
      "cell_type": "code",
      "source": [
        "#@title Display predicted (superposed) + reference {run: \"auto\"}\n",
        "import py3Dmol\n",
        "from Bio.PDB import PDBParser, Superimposer, PDBIO\n",
        "import tempfile, os\n",
        "from google.colab import files\n",
        "\n",
        "# --- Visualize both ---\n",
        "def show_pred_and_ref_aligned(pred_pdb_str, ref_pdb_file,\n",
        "                              color=\"pLDDT\", show_sidechains=False, show_mainchains=False,\n",
        "                              chains=None, vmin=50, vmax=90, size=(800,480), Ls=None, hide_pred=False,\n",
        "                              download_aligned_pdbs=False): # Added boolean option\n",
        "\n",
        "    aligned_file, rmsd = align_pred_to_ref(pred_pdb_str, ref_pdb_file)\n",
        "\n",
        "    view = py3Dmol.view(js='https://3dmol.org/build/3Dmol.js',\n",
        "                        width=size[0], height=size[1])\n",
        "\n",
        "    # Reference (fixed, green)\n",
        "    with open(ref_pdb_file) as f:\n",
        "        ref_pdb_str = f.read()\n",
        "    view.addModel(ref_pdb_str,'pdb')\n",
        "    view.setStyle({'model':0},{'cartoon':{'color':'green','opacity':0.7}})\n",
        "\n",
        "    # Prediction (aligned, colored)\n",
        "    with open(aligned_file) as f:\n",
        "        pred_aligned_str = f.read()\n",
        "    if not hide_pred:\n",
        "        view.addModel(pred_aligned_str,'pdb')\n",
        "    if color == \"pLDDT\":\n",
        "        view.setStyle({'model':1,'cartoon': {'colorscheme': {'prop':'b','gradient': 'roygb','min':vmin,'max':vmax}}})\n",
        "    elif color == \"rainbow\":\n",
        "        view.setStyle({'model':1,'cartoon': {'color':'spectrum'}})\n",
        "    elif color == \"chain\":\n",
        "        from string import ascii_uppercase\n",
        "        alphabet_list = list(ascii_uppercase)\n",
        "        for n,chain,c in zip(range(chains),alphabet_list,pymol_color_list):\n",
        "            view.setStyle({'model':1,'chain':chain},{'cartoon': {'color':c}})\n",
        "\n",
        "    if show_sidechains:\n",
        "        view.addStyle({'model':1,'stick':{}})\n",
        "\n",
        "    view.zoomTo()\n",
        "    print(f\"Structural alignment RMSD: {rmsd:.3f} Å\")\n",
        "\n",
        "    # Download aligned PDB files if the option is True\n",
        "    if download_aligned_pdbs:\n",
        "        # Download the aligned predicted PDB\n",
        "        files.download(aligned_file)\n",
        "        print(f\"Downloaded aligned predicted PDB: {aligned_file}\")\n",
        "\n",
        "        # Optionally, download the reference PDB as well for completeness\n",
        "        # files.download(ref_pdb_file)\n",
        "        # print(f\"Downloaded reference PDB: {ref_pdb_file}\")\n",
        "\n",
        "\n",
        "    return view\n",
        "\n",
        "\n",
        "# --- Params ---\n",
        "color = \"confidence\" #@param [\"confidence\", \"rainbow\", \"chain\"]\n",
        "if color == \"confidence\": color = \"pLDDT\"\n",
        "show_sidechains = False #@param {type:\"boolean\"}\n",
        "show_mainchains = False #@param {type:\"boolean\"}\n",
        "hide_predicted = False #@param {type:\"boolean\"}\n",
        "download_aligned_pdbs = False #@param {type:\"boolean\"}\n",
        "\n",
        "# --- Run ---\n",
        "\n",
        "show_pred_and_ref_aligned(pdb_str, \"reference.pdb\",\n",
        "                          color=color,\n",
        "                          show_sidechains=show_sidechains,\n",
        "                          show_mainchains=show_mainchains,\n",
        "                          Ls=lengths,\n",
        "                          hide_pred=hide_predicted,\n",
        "                          download_aligned_pdbs=download_aligned_pdbs).show() # Pass the new parameter"
      ],
      "metadata": {
        "cellView": "form",
        "id": "ssk3BxdUgdyS",
        "colab": {
          "base_uri": "https://localhost:8080/",
          "height": 515
        },
        "outputId": "62421022-8c09-4c7a-9cb8-fff66e204a2a"
      },
      "execution_count": null,
      "outputs": [
        {
          "output_type": "stream",
          "name": "stdout",
          "text": [
            "Structural alignment RMSD: 0.266 Å\n"
          ]
        },
        {
          "output_type": "display_data",
          "data": {
            "application/3dmoljs_load.v0": "<div id=\"3dmolviewer_17580235332492585\"  style=\"position: relative; width: 800px; height: 480px;\">\n        <p id=\"3dmolwarning_17580235332492585\" style=\"background-color:#ffcccc;color:black\">3Dmol.js failed to load for some reason.  Please check your browser console for error messages.<br></p>\n        </div>\n<script>\n\nvar loadScriptAsync = function(uri){\n  return new Promise((resolve, reject) => {\n    //this is to ignore the existence of requirejs amd\n    var savedexports, savedmodule;\n    if (typeof exports !== 'undefined') savedexports = exports;\n    else exports = {}\n    if (typeof module !== 'undefined') savedmodule = module;\n    else module = {}\n\n    var tag = document.createElement('script');\n    tag.src = uri;\n    tag.async = true;\n    tag.onload = () => {\n        exports = savedexports;\n        module = savedmodule;\n        resolve();\n    };\n  var firstScriptTag = document.getElementsByTagName('script')[0];\n  firstScriptTag.parentNode.insertBefore(tag, firstScriptTag);\n});\n};\n\nif(typeof $3Dmolpromise === 'undefined') {\n$3Dmolpromise = null;\n  $3Dmolpromise = loadScriptAsync('https://3dmol.org/build/3Dmol.js');\n}\n\nvar viewer_17580235332492585 = null;\nvar warn = document.getElementById(\"3dmolwarning_17580235332492585\");\nif(warn) {\n    warn.parentNode.removeChild(warn);\n}\n$3Dmolpromise.then(function() {\nviewer_17580235332492585 = $3Dmol.createViewer(document.getElementById(\"3dmolviewer_17580235332492585\"),{backgroundColor:\"white\"});\nviewer_17580235332492585.zoomTo();\n\tviewer_17580235332492585.addModel(\"ATOM      1  N   MET A   1       5.775  -6.367  -5.510  1.00 91.96           N  \\nATOM      2  CA  MET A   1       4.694  -5.592  -6.112  1.00 91.96           C  \\nATOM      3  C   MET A   1       4.876  -4.102  -5.842  1.00 91.96           C  \\nATOM      4  O   MET A   1       5.172  -3.703  -4.714  1.00 91.96           O  \\nATOM      5  CB  MET A   1       3.337  -6.058  -5.581  1.00 91.96           C  \\nATOM      6  CG  MET A   1       2.163  -5.244  -6.099  1.00 91.96           C  \\nATOM      7  SD  MET A   1       0.564  -5.772  -5.370  1.00 91.96           S  \\nATOM      8  CE  MET A   1       0.156  -7.160  -6.466  1.00 91.96           C  \\nATOM      9  N   LYS A   2       5.135  -3.560  -6.841  1.00 93.29           N  \\nATOM     10  CA  LYS A   2       5.373  -2.121  -6.785  1.00 93.29           C  \\nATOM     11  C   LYS A   2       4.148  -1.382  -6.254  1.00 93.29           C  \\nATOM     12  O   LYS A   2       3.051  -1.516  -6.800  1.00 93.29           O  \\nATOM     13  CB  LYS A   2       5.751  -1.584  -8.166  1.00 93.29           C  \\nATOM     14  CG  LYS A   2       6.442  -0.229  -8.136  1.00 93.29           C  \\nATOM     15  CD  LYS A   2       6.970   0.160  -9.510  1.00 93.29           C  \\nATOM     16  CE  LYS A   2       7.642   1.527  -9.486  1.00 93.29           C  \\nATOM     17  NZ  LYS A   2       8.167   1.910 -10.831  1.00 93.29           N  \\nATOM     18  N   VAL A   3       4.382  -0.759  -5.064  1.00 94.76           N  \\nATOM     19  CA  VAL A   3       3.265  -0.017  -4.487  1.00 94.76           C  \\nATOM     20  C   VAL A   3       3.703   1.410  -4.166  1.00 94.76           C  \\nATOM     21  O   VAL A   3       4.898   1.683  -4.030  1.00 94.76           O  \\nATOM     22  CB  VAL A   3       2.722  -0.707  -3.216  1.00 94.76           C  \\nATOM     23  CG1 VAL A   3       2.213  -2.111  -3.538  1.00 94.76           C  \\nATOM     24  CG2 VAL A   3       3.801  -0.761  -2.136  1.00 94.76           C  \\nATOM     25  N   ILE A   4       2.747   2.349  -4.044  1.00 95.11           N  \\nATOM     26  CA  ILE A   4       2.962   3.731  -3.629  1.00 95.11           C  \\nATOM     27  C   ILE A   4       2.374   3.949  -2.237  1.00 95.11           C  \\nATOM     28  O   ILE A   4       1.176   3.745  -2.023  1.00 95.11           O  \\nATOM     29  CB  ILE A   4       2.343   4.726  -4.635  1.00 95.11           C  \\nATOM     30  CG1 ILE A   4       2.923   4.501  -6.036  1.00 95.11           C  \\nATOM     31  CG2 ILE A   4       2.568   6.170  -4.174  1.00 95.11           C  \\nATOM     32  CD1 ILE A   4       2.221   5.292  -7.131  1.00 95.11           C  \\nATOM     33  N   PHE A   5       3.156   4.334  -1.293  1.00 93.85           N  \\nATOM     34  CA  PHE A   5       2.699   4.691   0.045  1.00 93.85           C  \\nATOM     35  C   PHE A   5       2.048   6.069   0.045  1.00 93.85           C  \\nATOM     36  O   PHE A   5       2.690   7.064  -0.297  1.00 93.85           O  \\nATOM     37  CB  PHE A   5       3.865   4.661   1.038  1.00 93.85           C  \\nATOM     38  CG  PHE A   5       4.395   3.279   1.312  1.00 93.85           C  \\nATOM     39  CD1 PHE A   5       3.955   2.556   2.413  1.00 93.85           C  \\nATOM     40  CD2 PHE A   5       5.334   2.703   0.466  1.00 93.85           C  \\nATOM     41  CE1 PHE A   5       4.443   1.277   2.668  1.00 93.85           C  \\nATOM     42  CE2 PHE A   5       5.827   1.426   0.714  1.00 93.85           C  \\nATOM     43  CZ  PHE A   5       5.381   0.715   1.817  1.00 93.85           C  \\nATOM     44  N   LEU A   6       0.820   6.089   0.434  1.00 92.63           N  \\nATOM     45  CA  LEU A   6       0.007   7.288   0.265  1.00 92.63           C  \\nATOM     46  C   LEU A   6       0.478   8.401   1.195  1.00 92.63           C  \\nATOM     47  O   LEU A   6       0.538   9.566   0.796  1.00 92.63           O  \\nATOM     48  CB  LEU A   6      -1.469   6.976   0.530  1.00 92.63           C  \\nATOM     49  CG  LEU A   6      -2.151   6.033  -0.462  1.00 92.63           C  \\nATOM     50  CD1 LEU A   6      -3.567   5.709   0.003  1.00 92.63           C  \\nATOM     51  CD2 LEU A   6      -2.168   6.645  -1.858  1.00 92.63           C  \\nATOM     52  N   LYS A   7       0.979   8.068   2.329  1.00 90.46           N  \\nATOM     53  CA  LYS A   7       1.394   9.088   3.288  1.00 90.46           C  \\nATOM     54  C   LYS A   7       2.803   9.589   2.983  1.00 90.46           C  \\nATOM     55  O   LYS A   7       3.088  10.780   3.125  1.00 90.46           O  \\nATOM     56  CB  LYS A   7       1.330   8.541   4.715  1.00 90.46           C  \\nATOM     57  CG  LYS A   7      -0.084   8.368   5.249  1.00 90.46           C  \\nATOM     58  CD  LYS A   7      -0.082   7.940   6.711  1.00 90.46           C  \\nATOM     59  CE  LYS A   7      -1.496   7.745   7.240  1.00 90.46           C  \\nATOM     60  NZ  LYS A   7      -1.497   7.242   8.647  1.00 90.46           N  \\nATOM     61  N   LYS A   8       3.585   8.741   2.473  1.00 89.16           N  \\nATOM     62  CA  LYS A   8       4.977   9.101   2.224  1.00 89.16           C  \\nATOM     63  C   LYS A   8       5.204   9.437   0.753  1.00 89.16           C  \\nATOM     64  O   LYS A   8       6.085  10.233   0.421  1.00 89.16           O  \\nATOM     65  CB  LYS A   8       5.910   7.967   2.652  1.00 89.16           C  \\nATOM     66  CG  LYS A   8       6.075   7.837   4.159  1.00 89.16           C  \\nATOM     67  CD  LYS A   8       7.119   6.788   4.518  1.00 89.16           C  \\nATOM     68  CE  LYS A   8       7.240   6.611   6.026  1.00 89.16           C  \\nATOM     69  NZ  LYS A   8       8.236   5.556   6.382  1.00 89.16           N  \\nATOM     70  N   GLY A   9       4.289   8.949  -0.106  1.00 92.79           N  \\nATOM     71  CA  GLY A   9       4.461   9.212  -1.526  1.00 92.79           C  \\nATOM     72  C   GLY A   9       5.630   8.462  -2.136  1.00 92.79           C  \\nATOM     73  O   GLY A   9       6.298   8.970  -3.038  1.00 92.79           O  \\nATOM     74  N   GLU A  10       6.050   7.437  -1.543  1.00 92.57           N  \\nATOM     75  CA  GLU A  10       7.195   6.656  -2.001  1.00 92.57           C  \\nATOM     76  C   GLU A  10       6.748   5.341  -2.634  1.00 92.57           C  \\nATOM     77  O   GLU A  10       5.714   4.785  -2.259  1.00 92.57           O  \\nATOM     78  CB  GLU A  10       8.157   6.381  -0.843  1.00 92.57           C  \\nATOM     79  CG  GLU A  10       8.858   7.626  -0.317  1.00 92.57           C  \\nATOM     80  CD  GLU A  10       9.870   7.327   0.778  1.00 92.57           C  \\nATOM     81  OE1 GLU A  10      10.609   8.250   1.189  1.00 92.57           O  \\nATOM     82  OE2 GLU A  10       9.925   6.160   1.227  1.00 92.57           O  \\nATOM     83  N   ILE A  11       7.617   4.959  -3.565  1.00 95.62           N  \\nATOM     84  CA  ILE A  11       7.382   3.674  -4.214  1.00 95.62           C  \\nATOM     85  C   ILE A  11       8.374   2.640  -3.685  1.00 95.62           C  \\nATOM     86  O   ILE A  11       9.584   2.877  -3.681  1.00 95.62           O  \\nATOM     87  CB  ILE A  11       7.496   3.788  -5.751  1.00 95.62           C  \\nATOM     88  CG1 ILE A  11       6.517   4.842  -6.282  1.00 95.62           C  \\nATOM     89  CG2 ILE A  11       7.249   2.429  -6.413  1.00 95.62           C  \\nATOM     90  CD1 ILE A  11       6.676   5.141  -7.766  1.00 95.62           C  \\nATOM     91  N   LYS A  12       7.860   1.570  -3.226  1.00 94.49           N  \\nATOM     92  CA  LYS A  12       8.699   0.499  -2.695  1.00 94.49           C  \\nATOM     93  C   LYS A  12       8.214  -0.867  -3.171  1.00 94.49           C  \\nATOM     94  O   LYS A  12       7.037  -1.034  -3.498  1.00 94.49           O  \\nATOM     95  CB  LYS A  12       8.723   0.543  -1.167  1.00 94.49           C  \\nATOM     96  CG  LYS A  12       9.504   1.717  -0.593  1.00 94.49           C  \\nATOM     97  CD  LYS A  12       9.698   1.578   0.911  1.00 94.49           C  \\nATOM     98  CE  LYS A  12      10.560   2.701   1.471  1.00 94.49           C  \\nATOM     99  NZ  LYS A  12      10.738   2.579   2.949  1.00 94.49           N  \\nATOM    100  N   ASN A  13       9.201  -1.745  -3.248  1.00 96.14           N  \\nATOM    101  CA  ASN A  13       8.852  -3.141  -3.494  1.00 96.14           C  \\nATOM    102  C   ASN A  13       8.619  -3.898  -2.190  1.00 96.14           C  \\nATOM    103  O   ASN A  13       9.476  -3.895  -1.304  1.00 96.14           O  \\nATOM    104  CB  ASN A  13       9.940  -3.829  -4.320  1.00 96.14           C  \\nATOM    105  CG  ASN A  13       9.915  -3.415  -5.779  1.00 96.14           C  \\nATOM    106  OD1 ASN A  13       8.884  -3.520  -6.449  1.00 96.14           O  \\nATOM    107  ND2 ASN A  13      11.049  -2.941  -6.281  1.00 96.14           N  \\nATOM    108  N   VAL A  14       7.532  -4.398  -2.103  1.00 95.82           N  \\nATOM    109  CA  VAL A  14       7.230  -5.172  -0.903  1.00 95.82           C  \\nATOM    110  C   VAL A  14       6.765  -6.573  -1.294  1.00 95.82           C  \\nATOM    111  O   VAL A  14       6.485  -6.836  -2.466  1.00 95.82           O  \\nATOM    112  CB  VAL A  14       6.157  -4.477  -0.034  1.00 95.82           C  \\nATOM    113  CG1 VAL A  14       6.675  -3.143   0.499  1.00 95.82           C  \\nATOM    114  CG2 VAL A  14       4.873  -4.274  -0.835  1.00 95.82           C  \\nATOM    115  N   ALA A  15       6.621  -7.496  -0.304  1.00 96.50           N  \\nATOM    116  CA  ALA A  15       6.067  -8.828  -0.530  1.00 96.50           C  \\nATOM    117  C   ALA A  15       4.587  -8.753  -0.892  1.00 96.50           C  \\nATOM    118  O   ALA A  15       3.867  -7.876  -0.409  1.00 96.50           O  \\nATOM    119  CB  ALA A  15       6.267  -9.704   0.705  1.00 96.50           C  \\nATOM    120  N   ASP A  16       4.102  -9.650  -1.695  1.00 95.07           N  \\nATOM    121  CA  ASP A  16       2.725  -9.664  -2.181  1.00 95.07           C  \\nATOM    122  C   ASP A  16       1.736  -9.774  -1.023  1.00 95.07           C  \\nATOM    123  O   ASP A  16       0.743  -9.045  -0.976  1.00 95.07           O  \\nATOM    124  CB  ASP A  16       2.514 -10.817  -3.164  1.00 95.07           C  \\nATOM    125  CG  ASP A  16       3.193 -10.585  -4.503  1.00 95.07           C  \\nATOM    126  OD1 ASP A  16       3.475  -9.418  -4.850  1.00 95.07           O  \\nATOM    127  OD2 ASP A  16       3.445 -11.579  -5.218  1.00 95.07           O  \\nATOM    128  N   GLY A  17       2.107 -10.707  -0.060  1.00 96.41           N  \\nATOM    129  CA  GLY A  17       1.222 -10.928   1.073  1.00 96.41           C  \\nATOM    130  C   GLY A  17       1.096  -9.716   1.977  1.00 96.41           C  \\nATOM    131  O   GLY A  17      -0.003  -9.379   2.422  1.00 96.41           O  \\nATOM    132  N   TYR A  18       2.232  -9.023   2.202  1.00 96.10           N  \\nATOM    133  CA  TYR A  18       2.257  -7.811   3.013  1.00 96.10           C  \\nATOM    134  C   TYR A  18       1.485  -6.686   2.334  1.00 96.10           C  \\nATOM    135  O   TYR A  18       0.673  -6.010   2.970  1.00 96.10           O  \\nATOM    136  CB  TYR A  18       3.700  -7.369   3.275  1.00 96.10           C  \\nATOM    137  CG  TYR A  18       3.810  -6.133   4.135  1.00 96.10           C  \\nATOM    138  CD1 TYR A  18       4.365  -4.959   3.632  1.00 96.10           C  \\nATOM    139  CD2 TYR A  18       3.361  -6.138   5.451  1.00 96.10           C  \\nATOM    140  CE1 TYR A  18       4.470  -3.818   4.420  1.00 96.10           C  \\nATOM    141  CE2 TYR A  18       3.461  -5.003   6.249  1.00 96.10           C  \\nATOM    142  CZ  TYR A  18       4.015  -3.849   5.725  1.00 96.10           C  \\nATOM    143  OH  TYR A  18       4.117  -2.723   6.511  1.00 96.10           O  \\nATOM    144  N   ALA A  19       1.607  -6.547   1.046  1.00 96.34           N  \\nATOM    145  CA  ALA A  19       0.901  -5.514   0.292  1.00 96.34           C  \\nATOM    146  C   ALA A  19      -0.608  -5.735   0.340  1.00 96.34           C  \\nATOM    147  O   ALA A  19      -1.365  -4.823   0.682  1.00 96.34           O  \\nATOM    148  CB  ALA A  19       1.386  -5.487  -1.155  1.00 96.34           C  \\nATOM    149  N   ASN A  20      -1.068  -6.946   0.177  1.00 95.93           N  \\nATOM    150  CA  ASN A  20      -2.487  -7.251   0.027  1.00 95.93           C  \\nATOM    151  C   ASN A  20      -3.198  -7.289   1.377  1.00 95.93           C  \\nATOM    152  O   ASN A  20      -4.315  -6.785   1.509  1.00 95.93           O  \\nATOM    153  CB  ASN A  20      -2.675  -8.579  -0.710  1.00 95.93           C  \\nATOM    154  CG  ASN A  20      -2.313  -8.488  -2.179  1.00 95.93           C  \\nATOM    155  OD1 ASN A  20      -2.601  -7.489  -2.842  1.00 95.93           O  \\nATOM    156  ND2 ASN A  20      -1.676  -9.531  -2.698  1.00 95.93           N  \\nATOM    157  N   ASN A  21      -2.426  -7.797   2.410  1.00 96.23           N  \\nATOM    158  CA  ASN A  21      -3.106  -8.069   3.672  1.00 96.23           C  \\nATOM    159  C   ASN A  21      -2.907  -6.933   4.672  1.00 96.23           C  \\nATOM    160  O   ASN A  21      -3.629  -6.843   5.667  1.00 96.23           O  \\nATOM    161  CB  ASN A  21      -2.623  -9.392   4.268  1.00 96.23           C  \\nATOM    162  CG  ASN A  21      -3.089 -10.596   3.472  1.00 96.23           C  \\nATOM    163  OD1 ASN A  21      -4.250 -10.672   3.062  1.00 96.23           O  \\nATOM    164  ND2 ASN A  21      -2.187 -11.544   3.248  1.00 96.23           N  \\nATOM    165  N   PHE A  22      -1.955  -6.087   4.385  1.00 96.02           N  \\nATOM    166  CA  PHE A  22      -1.674  -5.027   5.346  1.00 96.02           C  \\nATOM    167  C   PHE A  22      -1.797  -3.656   4.690  1.00 96.02           C  \\nATOM    168  O   PHE A  22      -2.609  -2.831   5.113  1.00 96.02           O  \\nATOM    169  CB  PHE A  22      -0.275  -5.199   5.945  1.00 96.02           C  \\nATOM    170  CG  PHE A  22       0.044  -4.213   7.036  1.00 96.02           C  \\nATOM    171  CD1 PHE A  22       0.885  -3.134   6.792  1.00 96.02           C  \\nATOM    172  CD2 PHE A  22      -0.498  -4.365   8.305  1.00 96.02           C  \\nATOM    173  CE1 PHE A  22       1.182  -2.219   7.801  1.00 96.02           C  \\nATOM    174  CE2 PHE A  22      -0.205  -3.456   9.318  1.00 96.02           C  \\nATOM    175  CZ  PHE A  22       0.635  -2.384   9.064  1.00 96.02           C  \\nATOM    176  N   LEU A  23      -1.202  -3.412   3.616  1.00 95.97           N  \\nATOM    177  CA  LEU A  23      -1.101  -2.067   3.059  1.00 95.97           C  \\nATOM    178  C   LEU A  23      -2.381  -1.686   2.324  1.00 95.97           C  \\nATOM    179  O   LEU A  23      -2.954  -0.623   2.577  1.00 95.97           O  \\nATOM    180  CB  LEU A  23       0.095  -1.970   2.108  1.00 95.97           C  \\nATOM    181  CG  LEU A  23       1.479  -2.127   2.740  1.00 95.97           C  \\nATOM    182  CD1 LEU A  23       2.559  -2.114   1.663  1.00 95.97           C  \\nATOM    183  CD2 LEU A  23       1.727  -1.026   3.766  1.00 95.97           C  \\nATOM    184  N   PHE A  24      -2.865  -2.525   1.460  1.00 95.80           N  \\nATOM    185  CA  PHE A  24      -4.063  -2.184   0.701  1.00 95.80           C  \\nATOM    186  C   PHE A  24      -5.302  -2.251   1.586  1.00 95.80           C  \\nATOM    187  O   PHE A  24      -6.192  -1.404   1.482  1.00 95.80           O  \\nATOM    188  CB  PHE A  24      -4.225  -3.121  -0.500  1.00 95.80           C  \\nATOM    189  CG  PHE A  24      -3.182  -2.925  -1.567  1.00 95.80           C  \\nATOM    190  CD1 PHE A  24      -2.650  -1.666  -1.817  1.00 95.80           C  \\nATOM    191  CD2 PHE A  24      -2.733  -4.001  -2.321  1.00 95.80           C  \\nATOM    192  CE1 PHE A  24      -1.684  -1.482  -2.804  1.00 95.80           C  \\nATOM    193  CE2 PHE A  24      -1.768  -3.825  -3.309  1.00 95.80           C  \\nATOM    194  CZ  PHE A  24      -1.246  -2.565  -3.550  1.00 95.80           C  \\nATOM    195  N   LYS A  25      -5.316  -3.206   2.443  1.00 95.47           N  \\nATOM    196  CA  LYS A  25      -6.477  -3.385   3.310  1.00 95.47           C  \\nATOM    197  C   LYS A  25      -6.654  -2.193   4.246  1.00 95.47           C  \\nATOM    198  O   LYS A  25      -7.781  -1.789   4.540  1.00 95.47           O  \\nATOM    199  CB  LYS A  25      -6.347  -4.674   4.123  1.00 95.47           C  \\nATOM    200  CG  LYS A  25      -7.625  -5.088   4.837  1.00 95.47           C  \\nATOM    201  CD  LYS A  25      -7.529  -6.508   5.378  1.00 95.47           C  \\nATOM    202  CE  LYS A  25      -8.817  -6.933   6.071  1.00 95.47           C  \\nATOM    203  NZ  LYS A  25      -8.782  -8.371   6.473  1.00 95.47           N  \\nATOM    204  N   GLN A  26      -5.521  -1.611   4.627  1.00 94.66           N  \\nATOM    205  CA  GLN A  26      -5.577  -0.479   5.546  1.00 94.66           C  \\nATOM    206  C   GLN A  26      -5.587   0.845   4.788  1.00 94.66           C  \\nATOM    207  O   GLN A  26      -5.690   1.913   5.395  1.00 94.66           O  \\nATOM    208  CB  GLN A  26      -4.397  -0.518   6.518  1.00 94.66           C  \\nATOM    209  CG  GLN A  26      -4.424  -1.706   7.471  1.00 94.66           C  \\nATOM    210  CD  GLN A  26      -5.652  -1.716   8.362  1.00 94.66           C  \\nATOM    211  OE1 GLN A  26      -6.120  -0.664   8.808  1.00 94.66           O  \\nATOM    212  NE2 GLN A  26      -6.183  -2.905   8.627  1.00 94.66           N  \\nATOM    213  N   GLY A  27      -5.435   0.736   3.524  1.00 94.71           N  \\nATOM    214  CA  GLY A  27      -5.456   1.962   2.741  1.00 94.71           C  \\nATOM    215  C   GLY A  27      -4.162   2.749   2.830  1.00 94.71           C  \\nATOM    216  O   GLY A  27      -4.173   3.980   2.769  1.00 94.71           O  \\nATOM    217  N   LEU A  28      -3.082   2.077   3.175  1.00 94.13           N  \\nATOM    218  CA  LEU A  28      -1.794   2.731   3.381  1.00 94.13           C  \\nATOM    219  C   LEU A  28      -1.027   2.846   2.068  1.00 94.13           C  \\nATOM    220  O   LEU A  28      -0.127   3.679   1.940  1.00 94.13           O  \\nATOM    221  CB  LEU A  28      -0.959   1.962   4.408  1.00 94.13           C  \\nATOM    222  CG  LEU A  28      -1.506   1.926   5.836  1.00 94.13           C  \\nATOM    223  CD1 LEU A  28      -0.686   0.968   6.693  1.00 94.13           C  \\nATOM    224  CD2 LEU A  28      -1.510   3.325   6.442  1.00 94.13           C  \\nATOM    225  N   ALA A  29      -1.457   1.980   1.123  1.00 95.99           N  \\nATOM    226  CA  ALA A  29      -0.728   1.990  -0.142  1.00 95.99           C  \\nATOM    227  C   ALA A  29      -1.644   1.626  -1.306  1.00 95.99           C  \\nATOM    228  O   ALA A  29      -2.727   1.072  -1.103  1.00 95.99           O  \\nATOM    229  CB  ALA A  29       0.457   1.029  -0.081  1.00 95.99           C  \\nATOM    230  N   ILE A  30      -1.344   2.027  -2.502  1.00 95.27           N  \\nATOM    231  CA  ILE A  30      -2.031   1.661  -3.735  1.00 95.27           C  \\nATOM    232  C   ILE A  30      -1.051   0.983  -4.690  1.00 95.27           C  \\nATOM    233  O   ILE A  30       0.165   1.059  -4.499  1.00 95.27           O  \\nATOM    234  CB  ILE A  30      -2.673   2.893  -4.412  1.00 95.27           C  \\nATOM    235  CG1 ILE A  30      -1.609   3.958  -4.702  1.00 95.27           C  \\nATOM    236  CG2 ILE A  30      -3.796   3.463  -3.541  1.00 95.27           C  \\nATOM    237  CD1 ILE A  30      -2.113   5.123  -5.542  1.00 95.27           C  \\nATOM    238  N   GLU A  31      -1.587   0.281  -5.469  1.00 92.92           N  \\nATOM    239  CA  GLU A  31      -0.742  -0.372  -6.464  1.00 92.92           C  \\nATOM    240  C   GLU A  31      -0.003   0.653  -7.320  1.00 92.92           C  \\nATOM    241  O   GLU A  31      -0.607   1.605  -7.817  1.00 92.92           O  \\nATOM    242  CB  GLU A  31      -1.576  -1.297  -7.354  1.00 92.92           C  \\nATOM    243  CG  GLU A  31      -2.082  -2.544  -6.643  1.00 92.92           C  \\nATOM    244  CD  GLU A  31      -2.894  -3.461  -7.544  1.00 92.92           C  \\nATOM    245  OE1 GLU A  31      -3.252  -4.578  -7.108  1.00 92.92           O  \\nATOM    246  OE2 GLU A  31      -3.172  -3.059  -8.696  1.00 92.92           O  \\nATOM    247  N   ALA A  32       1.343   0.697  -6.937  1.00 89.09           N  \\nATOM    248  CA  ALA A  32       2.128   1.530  -7.844  1.00 89.09           C  \\nATOM    249  C   ALA A  32       1.988   1.053  -9.287  1.00 89.09           C  \\nATOM    250  O   ALA A  32       1.686  -0.117  -9.534  1.00 89.09           O  \\nATOM    251  CB  ALA A  32       3.597   1.531  -7.428  1.00 89.09           C  \",\"pdb\");\n\tviewer_17580235332492585.setStyle({\"model\": 0},{\"cartoon\": {\"color\": \"green\", \"opacity\": 0.7}});\n\tviewer_17580235332492585.addModel(\"ATOM      1  N   VAL A   1       5.482  -6.439  -5.681  1.00 86.01           N  \\nATOM      2  CA  VAL A   1       4.470  -5.535  -6.215  1.00 86.01           C  \\nATOM      3  C   VAL A   1       4.827  -4.092  -5.863  1.00 86.01           C  \\nATOM      4  O   VAL A   1       5.375  -3.827  -4.790  1.00 86.01           O  \\nATOM      5  CB  VAL A   1       3.061  -5.881  -5.683  1.00 86.01           C  \\nATOM      6  CG1 VAL A   1       2.556  -7.183  -6.301  1.00 86.01           C  \\nATOM      7  CG2 VAL A   1       3.077  -5.980  -4.159  1.00 86.01           C  \\nATOM      8  N   ASN A   2       5.070  -3.489  -6.849  1.00 85.34           N  \\nATOM      9  CA  ASN A   2       5.369  -2.080  -6.618  1.00 85.34           C  \\nATOM     10  C   ASN A   2       4.215  -1.370  -5.917  1.00 85.34           C  \\nATOM     11  O   ASN A   2       3.078  -1.405  -6.391  1.00 85.34           O  \\nATOM     12  CB  ASN A   2       5.701  -1.379  -7.937  1.00 85.34           C  \\nATOM     13  CG  ASN A   2       6.543  -0.134  -7.739  1.00 85.34           C  \\nATOM     14  OD1 ASN A   2       6.299   0.658  -6.825  1.00 85.34           O  \\nATOM     15  ND2 ASN A   2       7.542   0.049  -8.595  1.00 85.34           N  \\nATOM     16  N   VAL A   3       4.595  -0.958  -4.721  1.00 87.30           N  \\nATOM     17  CA  VAL A   3       3.546  -0.345  -3.913  1.00 87.30           C  \\nATOM     18  C   VAL A   3       3.880   1.124  -3.659  1.00 87.30           C  \\nATOM     19  O   VAL A   3       5.020   1.459  -3.329  1.00 87.30           O  \\nATOM     20  CB  VAL A   3       3.355  -1.088  -2.572  1.00 87.30           C  \\nATOM     21  CG1 VAL A   3       2.242  -0.442  -1.750  1.00 87.30           C  \\nATOM     22  CG2 VAL A   3       3.052  -2.564  -2.819  1.00 87.30           C  \\nATOM     23  N   LEU A   4       2.924   2.035  -3.822  1.00 84.80           N  \\nATOM     24  CA  LEU A   4       3.031   3.460  -3.529  1.00 84.80           C  \\nATOM     25  C   LEU A   4       2.386   3.789  -2.186  1.00 84.80           C  \\nATOM     26  O   LEU A   4       1.198   3.530  -1.983  1.00 84.80           O  \\nATOM     27  CB  LEU A   4       2.376   4.287  -4.638  1.00 84.80           C  \\nATOM     28  CG  LEU A   4       2.435   5.806  -4.476  1.00 84.80           C  \\nATOM     29  CD1 LEU A   4       3.831   6.322  -4.810  1.00 84.80           C  \\nATOM     30  CD2 LEU A   4       1.386   6.478  -5.356  1.00 84.80           C  \\nATOM     31  N   PHE A   5       3.164   4.328  -1.323  1.00 84.68           N  \\nATOM     32  CA  PHE A   5       2.697   4.758  -0.010  1.00 84.68           C  \\nATOM     33  C   PHE A   5       2.102   6.160  -0.079  1.00 84.68           C  \\nATOM     34  O   PHE A   5       2.797   7.118  -0.422  1.00 84.68           O  \\nATOM     35  CB  PHE A   5       3.842   4.723   1.007  1.00 84.68           C  \\nATOM     36  CG  PHE A   5       4.289   3.333   1.370  1.00 84.68           C  \\nATOM     37  CD1 PHE A   5       3.652   2.624   2.381  1.00 84.68           C  \\nATOM     38  CD2 PHE A   5       5.348   2.734   0.699  1.00 84.68           C  \\nATOM     39  CE1 PHE A   5       4.065   1.337   2.718  1.00 84.68           C  \\nATOM     40  CE2 PHE A   5       5.766   1.448   1.031  1.00 84.68           C  \\nATOM     41  CZ  PHE A   5       5.124   0.752   2.041  1.00 84.68           C  \\nATOM     42  N   LEU A   6       0.839   6.223   0.178  1.00 82.13           N  \\nATOM     43  CA  LEU A   6       0.108   7.472  -0.002  1.00 82.13           C  \\nATOM     44  C   LEU A   6       0.591   8.531   0.985  1.00 82.13           C  \\nATOM     45  O   LEU A   6       0.663   9.714   0.646  1.00 82.13           O  \\nATOM     46  CB  LEU A   6      -1.395   7.245   0.169  1.00 82.13           C  \\nATOM     47  CG  LEU A   6      -2.075   6.379  -0.891  1.00 82.13           C  \\nATOM     48  CD1 LEU A   6      -3.501   6.040  -0.465  1.00 82.13           C  \\nATOM     49  CD2 LEU A   6      -2.070   7.084  -2.243  1.00 82.13           C  \\nATOM     50  N   GLU A   7       1.049   8.090   2.121  1.00 83.00           N  \\nATOM     51  CA  GLU A   7       1.483   9.059   3.122  1.00 83.00           C  \\nATOM     52  C   GLU A   7       2.865   9.614   2.789  1.00 83.00           C  \\nATOM     53  O   GLU A   7       3.113  10.812   2.944  1.00 83.00           O  \\nATOM     54  CB  GLU A   7       1.493   8.425   4.515  1.00 83.00           C  \\nATOM     55  CG  GLU A   7       0.106   8.202   5.100  1.00 83.00           C  \\nATOM     56  CD  GLU A   7       0.127   7.847   6.578  1.00 83.00           C  \\nATOM     57  OE1 GLU A   7      -0.801   8.254   7.313  1.00 83.00           O  \\nATOM     58  OE2 GLU A   7       1.081   7.157   7.004  1.00 83.00           O  \\nATOM     59  N   ARG A   8       3.665   8.735   2.210  1.00 82.30           N  \\nATOM     60  CA  ARG A   8       5.036   9.169   1.962  1.00 82.30           C  \\nATOM     61  C   ARG A   8       5.259   9.459   0.481  1.00 82.30           C  \\nATOM     62  O   ARG A   8       6.112  10.274   0.124  1.00 82.30           O  \\nATOM     63  CB  ARG A   8       6.031   8.111   2.444  1.00 82.30           C  \\nATOM     64  CG  ARG A   8       6.239   8.103   3.950  1.00 82.30           C  \\nATOM     65  CD  ARG A   8       7.200   7.004   4.380  1.00 82.30           C  \\nATOM     66  NE  ARG A   8       8.549   7.520   4.599  1.00 82.30           N  \\nATOM     67  CZ  ARG A   8       9.614   6.769   4.865  1.00 82.30           C  \\nATOM     68  NH1 ARG A   8       9.508   5.448   4.952  1.00 82.30           N  \\nATOM     69  NH2 ARG A   8      10.794   7.343   5.046  1.00 82.30           N  \\nATOM     70  N   GLY A   9       4.363   8.915  -0.322  1.00 84.05           N  \\nATOM     71  CA  GLY A   9       4.562   9.093  -1.751  1.00 84.05           C  \\nATOM     72  C   GLY A   9       5.736   8.300  -2.293  1.00 84.05           C  \\nATOM     73  O   GLY A   9       6.297   8.645  -3.336  1.00 84.05           O  \\nATOM     74  N   ASP A  10       6.230   7.392  -1.511  1.00 84.62           N  \\nATOM     75  CA  ASP A  10       7.369   6.576  -1.919  1.00 84.62           C  \\nATOM     76  C   ASP A  10       6.910   5.224  -2.464  1.00 84.62           C  \\nATOM     77  O   ASP A  10       5.873   4.702  -2.051  1.00 84.62           O  \\nATOM     78  CB  ASP A  10       8.329   6.371  -0.746  1.00 84.62           C  \\nATOM     79  CG  ASP A  10       9.699   5.877  -1.179  1.00 84.62           C  \\nATOM     80  OD1 ASP A  10       9.965   5.810  -2.399  1.00 84.62           O  \\nATOM     81  OD2 ASP A  10      10.518   5.550  -0.294  1.00 84.62           O  \\nATOM     82  N   VAL A  11       7.597   4.840  -3.502  1.00 87.47           N  \\nATOM     83  CA  VAL A  11       7.300   3.539  -4.090  1.00 87.47           C  \\nATOM     84  C   VAL A  11       8.324   2.510  -3.616  1.00 87.47           C  \\nATOM     85  O   VAL A  11       9.531   2.713  -3.763  1.00 87.47           O  \\nATOM     86  CB  VAL A  11       7.285   3.603  -5.635  1.00 87.47           C  \\nATOM     87  CG1 VAL A  11       6.968   2.233  -6.229  1.00 87.47           C  \\nATOM     88  CG2 VAL A  11       6.276   4.645  -6.115  1.00 87.47           C  \\nATOM     89  N   ARG A  12       7.856   1.622  -2.911  1.00 85.29           N  \\nATOM     90  CA  ARG A  12       8.706   0.527  -2.450  1.00 85.29           C  \\nATOM     91  C   ARG A  12       8.205  -0.812  -2.979  1.00 85.29           C  \\nATOM     92  O   ARG A  12       7.023  -0.960  -3.295  1.00 85.29           O  \\nATOM     93  CB  ARG A  12       8.765   0.498  -0.922  1.00 85.29           C  \\nATOM     94  CG  ARG A  12       9.460   1.704  -0.310  1.00 85.29           C  \\nATOM     95  CD  ARG A  12       9.673   1.533   1.188  1.00 85.29           C  \\nATOM     96  NE  ARG A  12      10.374   2.675   1.767  1.00 85.29           N  \\nATOM     97  CZ  ARG A  12      10.739   2.772   3.042  1.00 85.29           C  \\nATOM     98  NH1 ARG A  12      10.476   1.794   3.901  1.00 85.29           N  \\nATOM     99  NH2 ARG A  12      11.374   3.857   3.463  1.00 85.29           N  \\nATOM    100  N   THR A  13       9.127  -1.641  -3.275  1.00 89.25           N  \\nATOM    101  CA  THR A  13       8.780  -3.010  -3.639  1.00 89.25           C  \\nATOM    102  C   THR A  13       8.733  -3.903  -2.402  1.00 89.25           C  \\nATOM    103  O   THR A  13       9.729  -4.034  -1.687  1.00 89.25           O  \\nATOM    104  CB  THR A  13       9.781  -3.589  -4.656  1.00 89.25           C  \\nATOM    105  OG1 THR A  13       9.873  -2.706  -5.781  1.00 89.25           O  \\nATOM    106  CG2 THR A  13       9.340  -4.966  -5.139  1.00 89.25           C  \\nATOM    107  N   ILE A  14       7.593  -4.325  -2.146  1.00 88.34           N  \\nATOM    108  CA  ILE A  14       7.412  -5.185  -0.981  1.00 88.34           C  \\nATOM    109  C   ILE A  14       6.805  -6.518  -1.413  1.00 88.34           C  \\nATOM    110  O   ILE A  14       6.395  -6.676  -2.565  1.00 88.34           O  \\nATOM    111  CB  ILE A  14       6.520  -4.510   0.086  1.00 88.34           C  \\nATOM    112  CG1 ILE A  14       5.091  -4.340  -0.444  1.00 88.34           C  \\nATOM    113  CG2 ILE A  14       7.111  -3.163   0.511  1.00 88.34           C  \\nATOM    114  CD1 ILE A  14       4.072  -3.983   0.629  1.00 88.34           C  \\nATOM    115  N   SER A  15       6.694  -7.483  -0.448  1.00 89.79           N  \\nATOM    116  CA  SER A  15       6.078  -8.776  -0.726  1.00 89.79           C  \\nATOM    117  C   SER A  15       4.594  -8.625  -1.040  1.00 89.79           C  \\nATOM    118  O   SER A  15       3.915  -7.772  -0.463  1.00 89.79           O  \\nATOM    119  CB  SER A  15       6.262  -9.724   0.459  1.00 89.79           C  \\nATOM    120  OG  SER A  15       5.465 -10.885   0.303  1.00 89.79           O  \\nATOM    121  N   ARG A  16       4.189  -9.393  -1.975  1.00 87.58           N  \\nATOM    122  CA  ARG A  16       2.806  -9.362  -2.441  1.00 87.58           C  \\nATOM    123  C   ARG A  16       1.836  -9.634  -1.295  1.00 87.58           C  \\nATOM    124  O   ARG A  16       0.800  -8.977  -1.183  1.00 87.58           O  \\nATOM    125  CB  ARG A  16       2.592 -10.383  -3.562  1.00 87.58           C  \\nATOM    126  CG  ARG A  16       1.220 -10.305  -4.212  1.00 87.58           C  \\nATOM    127  CD  ARG A  16       1.093 -11.277  -5.376  1.00 87.58           C  \\nATOM    128  NE  ARG A  16      -0.293 -11.418  -5.813  1.00 87.58           N  \\nATOM    129  CZ  ARG A  16      -0.913 -12.578  -6.010  1.00 87.58           C  \\nATOM    130  NH1 ARG A  16      -0.276 -13.728  -5.812  1.00 87.58           N  \\nATOM    131  NH2 ARG A  16      -2.176 -12.591  -6.406  1.00 87.58           N  \\nATOM    132  N   THR A  17       2.212 -10.501  -0.409  1.00 90.63           N  \\nATOM    133  CA  THR A  17       1.327 -10.875   0.688  1.00 90.63           C  \\nATOM    134  C   THR A  17       1.193  -9.732   1.690  1.00 90.63           C  \\nATOM    135  O   THR A  17       0.086  -9.402   2.119  1.00 90.63           O  \\nATOM    136  CB  THR A  17       1.835 -12.137   1.410  1.00 90.63           C  \\nATOM    137  OG1 THR A  17       2.063 -13.172   0.446  1.00 90.63           O  \\nATOM    138  CG2 THR A  17       0.819 -12.630   2.436  1.00 90.63           C  \\nATOM    139  N   TYR A  18       2.323  -9.165   2.022  1.00 88.66           N  \\nATOM    140  CA  TYR A  18       2.310  -8.053   2.966  1.00 88.66           C  \\nATOM    141  C   TYR A  18       1.516  -6.877   2.412  1.00 88.66           C  \\nATOM    142  O   TYR A  18       0.694  -6.287   3.118  1.00 88.66           O  \\nATOM    143  CB  TYR A  18       3.740  -7.610   3.293  1.00 88.66           C  \\nATOM    144  CG  TYR A  18       3.813  -6.515   4.331  1.00 88.66           C  \\nATOM    145  CD1 TYR A  18       4.188  -5.220   3.979  1.00 88.66           C  \\nATOM    146  CD2 TYR A  18       3.509  -6.774   5.662  1.00 88.66           C  \\nATOM    147  CE1 TYR A  18       4.259  -4.210   4.932  1.00 88.66           C  \\nATOM    148  CE2 TYR A  18       3.576  -5.771   6.624  1.00 88.66           C  \\nATOM    149  CZ  TYR A  18       3.951  -4.493   6.249  1.00 88.66           C  \\nATOM    150  OH  TYR A  18       4.020  -3.496   7.197  1.00 88.66           O  \\nATOM    151  N   ALA A  19       1.680  -6.587   1.140  1.00 87.87           N  \\nATOM    152  CA  ALA A  19       0.991  -5.468   0.500  1.00 87.87           C  \\nATOM    153  C   ALA A  19      -0.519  -5.693   0.481  1.00 87.87           C  \\nATOM    154  O   ALA A  19      -1.290  -4.790   0.813  1.00 87.87           O  \\nATOM    155  CB  ALA A  19       1.514  -5.264  -0.920  1.00 87.87           C  \\nATOM    156  N   THR A  20      -0.969  -6.811   0.230  1.00 87.45           N  \\nATOM    157  CA  THR A  20      -2.380  -7.134   0.047  1.00 87.45           C  \\nATOM    158  C   THR A  20      -3.082  -7.270   1.395  1.00 87.45           C  \\nATOM    159  O   THR A  20      -4.197  -6.773   1.572  1.00 87.45           O  \\nATOM    160  CB  THR A  20      -2.555  -8.434  -0.759  1.00 87.45           C  \\nATOM    161  OG1 THR A  20      -1.950  -8.276  -2.048  1.00 87.45           O  \\nATOM    162  CG2 THR A  20      -4.031  -8.773  -0.943  1.00 87.45           C  \\nATOM    163  N   LYS A  21      -2.354  -7.887   2.363  1.00 88.37           N  \\nATOM    164  CA  LYS A  21      -3.007  -8.162   3.640  1.00 88.37           C  \\nATOM    165  C   LYS A  21      -2.955  -6.944   4.557  1.00 88.37           C  \\nATOM    166  O   LYS A  21      -3.875  -6.715   5.346  1.00 88.37           O  \\nATOM    167  CB  LYS A  21      -2.357  -9.364   4.327  1.00 88.37           C  \\nATOM    168  CG  LYS A  21      -2.854 -10.710   3.820  1.00 88.37           C  \\nATOM    169  CD  LYS A  21      -2.305 -11.859   4.655  1.00 88.37           C  \\nATOM    170  CE  LYS A  21      -2.774 -13.208   4.128  1.00 88.37           C  \\nATOM    171  NZ  LYS A  21      -2.201 -14.341   4.916  1.00 88.37           N  \\nATOM    172  N   TYR A  22      -1.932  -6.110   4.398  1.00 87.58           N  \\nATOM    173  CA  TYR A  22      -1.748  -5.036   5.368  1.00 87.58           C  \\nATOM    174  C   TYR A  22      -1.888  -3.671   4.704  1.00 87.58           C  \\nATOM    175  O   TYR A  22      -2.728  -2.862   5.106  1.00 87.58           O  \\nATOM    176  CB  TYR A  22      -0.376  -5.150   6.042  1.00 87.58           C  \\nATOM    177  CG  TYR A  22      -0.368  -6.053   7.250  1.00 87.58           C  \\nATOM    178  CD1 TYR A  22      -0.749  -5.578   8.503  1.00 87.58           C  \\nATOM    179  CD2 TYR A  22       0.024  -7.384   7.144  1.00 87.58           C  \\nATOM    180  CE1 TYR A  22      -0.742  -6.407   9.620  1.00 87.58           C  \\nATOM    181  CE2 TYR A  22       0.036  -8.221   8.253  1.00 87.58           C  \\nATOM    182  CZ  TYR A  22      -0.347  -7.725   9.486  1.00 87.58           C  \\nATOM    183  OH  TYR A  22      -0.338  -8.550  10.588  1.00 87.58           O  \\nATOM    184  N   LEU A  23      -1.288  -3.443   3.635  1.00 85.25           N  \\nATOM    185  CA  LEU A  23      -1.184  -2.094   3.090  1.00 85.25           C  \\nATOM    186  C   LEU A  23      -2.449  -1.715   2.329  1.00 85.25           C  \\nATOM    187  O   LEU A  23      -3.049  -0.671   2.595  1.00 85.25           O  \\nATOM    188  CB  LEU A  23       0.034  -1.982   2.168  1.00 85.25           C  \\nATOM    189  CG  LEU A  23       1.404  -2.134   2.831  1.00 85.25           C  \\nATOM    190  CD1 LEU A  23       2.510  -2.075   1.783  1.00 85.25           C  \\nATOM    191  CD2 LEU A  23       1.607  -1.059   3.893  1.00 85.25           C  \\nATOM    192  N   TYR A  24      -2.924  -2.556   1.572  1.00 87.05           N  \\nATOM    193  CA  TYR A  24      -4.108  -2.245   0.781  1.00 87.05           C  \\nATOM    194  C   TYR A  24      -5.364  -2.273   1.644  1.00 87.05           C  \\nATOM    195  O   TYR A  24      -6.277  -1.467   1.449  1.00 87.05           O  \\nATOM    196  CB  TYR A  24      -4.253  -3.231  -0.382  1.00 87.05           C  \\nATOM    197  CG  TYR A  24      -3.154  -3.123  -1.411  1.00 87.05           C  \\nATOM    198  CD1 TYR A  24      -2.452  -1.932  -1.585  1.00 87.05           C  \\nATOM    199  CD2 TYR A  24      -2.816  -4.208  -2.212  1.00 87.05           C  \\nATOM    200  CE1 TYR A  24      -1.440  -1.826  -2.533  1.00 87.05           C  \\nATOM    201  CE2 TYR A  24      -1.806  -4.113  -3.163  1.00 87.05           C  \\nATOM    202  CZ  TYR A  24      -1.124  -2.920  -3.315  1.00 87.05           C  \\nATOM    203  OH  TYR A  24      -0.123  -2.821  -4.255  1.00 87.05           O  \\nATOM    204  N   HIS A  25      -5.404  -3.193   2.629  1.00 85.80           N  \\nATOM    205  CA  HIS A  25      -6.584  -3.315   3.478  1.00 85.80           C  \\nATOM    206  C   HIS A  25      -6.739  -2.096   4.381  1.00 85.80           C  \\nATOM    207  O   HIS A  25      -7.861  -1.698   4.706  1.00 85.80           O  \\nATOM    208  CB  HIS A  25      -6.507  -4.588   4.323  1.00 85.80           C  \\nATOM    209  CG  HIS A  25      -7.812  -4.977   4.941  1.00 85.80           C  \\nATOM    210  ND1 HIS A  25      -8.731  -5.777   4.298  1.00 85.80           N  \\nATOM    211  CD2 HIS A  25      -8.348  -4.675   6.148  1.00 85.80           C  \\nATOM    212  CE1 HIS A  25      -9.781  -5.950   5.085  1.00 85.80           C  \\nATOM    213  NE2 HIS A  25      -9.573  -5.293   6.213  1.00 85.80           N  \\nATOM    214  N   HIS A  26      -5.550  -1.591   4.730  1.00 85.97           N  \\nATOM    215  CA  HIS A  26      -5.595  -0.451   5.640  1.00 85.97           C  \\nATOM    216  C   HIS A  26      -5.613   0.866   4.871  1.00 85.97           C  \\nATOM    217  O   HIS A  26      -5.590   1.942   5.475  1.00 85.97           O  \\nATOM    218  CB  HIS A  26      -4.403  -0.483   6.598  1.00 85.97           C  \\nATOM    219  CG  HIS A  26      -4.491  -1.563   7.629  1.00 85.97           C  \\nATOM    220  ND1 HIS A  26      -5.279  -1.455   8.755  1.00 85.97           N  \\nATOM    221  CD2 HIS A  26      -3.890  -2.774   7.701  1.00 85.97           C  \\nATOM    222  CE1 HIS A  26      -5.157  -2.557   9.477  1.00 85.97           C  \\nATOM    223  NE2 HIS A  26      -4.320  -3.373   8.860  1.00 85.97           N  \\nATOM    224  N   ASN A  27      -5.658   0.765   3.502  1.00 83.58           N  \\nATOM    225  CA  ASN A  27      -5.733   1.929   2.625  1.00 83.58           C  \\nATOM    226  C   ASN A  27      -4.514   2.832   2.786  1.00 83.58           C  \\nATOM    227  O   ASN A  27      -4.648   4.055   2.858  1.00 83.58           O  \\nATOM    228  CB  ASN A  27      -7.018   2.718   2.888  1.00 83.58           C  \\nATOM    229  CG  ASN A  27      -8.023   2.593   1.761  1.00 83.58           C  \\nATOM    230  OD1 ASN A  27      -7.813   1.837   0.808  1.00 83.58           O  \\nATOM    231  ND2 ASN A  27      -9.121   3.332   1.860  1.00 83.58           N  \\nATOM    232  N   ILE A  28      -3.359   2.204   3.190  1.00 85.64           N  \\nATOM    233  CA  ILE A  28      -2.121   2.953   3.383  1.00 85.64           C  \\nATOM    234  C   ILE A  28      -1.352   3.029   2.066  1.00 85.64           C  \\nATOM    235  O   ILE A  28      -0.642   4.004   1.811  1.00 85.64           O  \\nATOM    236  CB  ILE A  28      -1.242   2.317   4.482  1.00 85.64           C  \\nATOM    237  CG1 ILE A  28      -1.985   2.309   5.823  1.00 85.64           C  \\nATOM    238  CG2 ILE A  28       0.094   3.057   4.601  1.00 85.64           C  \\nATOM    239  CD1 ILE A  28      -1.288   1.505   6.913  1.00 85.64           C  \\nATOM    240  N   ALA A  29      -1.766   2.049   1.161  1.00 85.79           N  \\nATOM    241  CA  ALA A  29      -0.968   2.011  -0.061  1.00 85.79           C  \\nATOM    242  C   ALA A  29      -1.807   1.555  -1.251  1.00 85.79           C  \\nATOM    243  O   ALA A  29      -2.872   0.959  -1.075  1.00 85.79           O  \\nATOM    244  CB  ALA A  29       0.238   1.093   0.119  1.00 85.79           C  \\nATOM    245  N   VAL A  30      -1.447   2.011  -2.417  1.00 85.80           N  \\nATOM    246  CA  VAL A  30      -2.097   1.608  -3.660  1.00 85.80           C  \\nATOM    247  C   VAL A  30      -1.076   0.956  -4.590  1.00 85.80           C  \\nATOM    248  O   VAL A  30       0.132   1.123  -4.410  1.00 85.80           O  \\nATOM    249  CB  VAL A  30      -2.768   2.809  -4.364  1.00 85.80           C  \\nATOM    250  CG1 VAL A  30      -3.956   3.317  -3.550  1.00 85.80           C  \\nATOM    251  CG2 VAL A  30      -1.754   3.929  -4.592  1.00 85.80           C  \\nATOM    252  N   ARG A  31      -1.483   0.152  -5.371  1.00 85.37           N  \\nATOM    253  CA  ARG A  31      -0.619  -0.498  -6.351  1.00 85.37           C  \\nATOM    254  C   ARG A  31       0.035   0.530  -7.269  1.00 85.37           C  \\nATOM    255  O   ARG A  31      -0.651   1.363  -7.865  1.00 85.37           O  \\nATOM    256  CB  ARG A  31      -1.410  -1.512  -7.179  1.00 85.37           C  \\nATOM    257  CG  ARG A  31      -0.555  -2.614  -7.784  1.00 85.37           C  \\nATOM    258  CD  ARG A  31      -1.405  -3.670  -8.478  1.00 85.37           C  \\nATOM    259  NE  ARG A  31      -0.605  -4.500  -9.376  1.00 85.37           N  \\nATOM    260  CZ  ARG A  31      -0.706  -5.822  -9.475  1.00 85.37           C  \\nATOM    261  NH1 ARG A  31      -1.577  -6.494  -8.732  1.00 85.37           N  \\nATOM    262  NH2 ARG A  31       0.071  -6.478 -10.325  1.00 85.37           N  \\nATOM    263  N   ALA A  32       1.308   0.775  -6.776  1.00 80.69           N  \\nATOM    264  CA  ALA A  32       2.017   1.663  -7.693  1.00 80.69           C  \\nATOM    265  C   ALA A  32       2.218   1.002  -9.054  1.00 80.69           C  \\nATOM    266  O   ALA A  32       2.229  -0.227  -9.157  1.00 80.69           O  \\nATOM    267  CB  ALA A  32       3.362   2.075  -7.101  1.00 80.69           C  \\nTER     268      ALA A  32                                                       \\nEND   \\n\",\"pdb\");\n\tviewer_17580235332492585.setStyle({\"model\": 1, \"cartoon\": {\"colorscheme\": {\"prop\": \"b\", \"gradient\": \"roygb\", \"min\": 50, \"max\": 90}}});\n\tviewer_17580235332492585.zoomTo();\nviewer_17580235332492585.render();\n});\n</script>",
            "text/html": [
              "<div id=\"3dmolviewer_17580235332492585\"  style=\"position: relative; width: 800px; height: 480px;\">\n",
              "        <p id=\"3dmolwarning_17580235332492585\" style=\"background-color:#ffcccc;color:black\">3Dmol.js failed to load for some reason.  Please check your browser console for error messages.<br></p>\n",
              "        </div>\n",
              "<script>\n",
              "\n",
              "var loadScriptAsync = function(uri){\n",
              "  return new Promise((resolve, reject) => {\n",
              "    //this is to ignore the existence of requirejs amd\n",
              "    var savedexports, savedmodule;\n",
              "    if (typeof exports !== 'undefined') savedexports = exports;\n",
              "    else exports = {}\n",
              "    if (typeof module !== 'undefined') savedmodule = module;\n",
              "    else module = {}\n",
              "\n",
              "    var tag = document.createElement('script');\n",
              "    tag.src = uri;\n",
              "    tag.async = true;\n",
              "    tag.onload = () => {\n",
              "        exports = savedexports;\n",
              "        module = savedmodule;\n",
              "        resolve();\n",
              "    };\n",
              "  var firstScriptTag = document.getElementsByTagName('script')[0];\n",
              "  firstScriptTag.parentNode.insertBefore(tag, firstScriptTag);\n",
              "});\n",
              "};\n",
              "\n",
              "if(typeof $3Dmolpromise === 'undefined') {\n",
              "$3Dmolpromise = null;\n",
              "  $3Dmolpromise = loadScriptAsync('https://3dmol.org/build/3Dmol.js');\n",
              "}\n",
              "\n",
              "var viewer_17580235332492585 = null;\n",
              "var warn = document.getElementById(\"3dmolwarning_17580235332492585\");\n",
              "if(warn) {\n",
              "    warn.parentNode.removeChild(warn);\n",
              "}\n",
              "$3Dmolpromise.then(function() {\n",
              "viewer_17580235332492585 = $3Dmol.createViewer(document.getElementById(\"3dmolviewer_17580235332492585\"),{backgroundColor:\"white\"});\n",
              "viewer_17580235332492585.zoomTo();\n",
              "\tviewer_17580235332492585.addModel(\"ATOM      1  N   MET A   1       5.775  -6.367  -5.510  1.00 91.96           N  \\nATOM      2  CA  MET A   1       4.694  -5.592  -6.112  1.00 91.96           C  \\nATOM      3  C   MET A   1       4.876  -4.102  -5.842  1.00 91.96           C  \\nATOM      4  O   MET A   1       5.172  -3.703  -4.714  1.00 91.96           O  \\nATOM      5  CB  MET A   1       3.337  -6.058  -5.581  1.00 91.96           C  \\nATOM      6  CG  MET A   1       2.163  -5.244  -6.099  1.00 91.96           C  \\nATOM      7  SD  MET A   1       0.564  -5.772  -5.370  1.00 91.96           S  \\nATOM      8  CE  MET A   1       0.156  -7.160  -6.466  1.00 91.96           C  \\nATOM      9  N   LYS A   2       5.135  -3.560  -6.841  1.00 93.29           N  \\nATOM     10  CA  LYS A   2       5.373  -2.121  -6.785  1.00 93.29           C  \\nATOM     11  C   LYS A   2       4.148  -1.382  -6.254  1.00 93.29           C  \\nATOM     12  O   LYS A   2       3.051  -1.516  -6.800  1.00 93.29           O  \\nATOM     13  CB  LYS A   2       5.751  -1.584  -8.166  1.00 93.29           C  \\nATOM     14  CG  LYS A   2       6.442  -0.229  -8.136  1.00 93.29           C  \\nATOM     15  CD  LYS A   2       6.970   0.160  -9.510  1.00 93.29           C  \\nATOM     16  CE  LYS A   2       7.642   1.527  -9.486  1.00 93.29           C  \\nATOM     17  NZ  LYS A   2       8.167   1.910 -10.831  1.00 93.29           N  \\nATOM     18  N   VAL A   3       4.382  -0.759  -5.064  1.00 94.76           N  \\nATOM     19  CA  VAL A   3       3.265  -0.017  -4.487  1.00 94.76           C  \\nATOM     20  C   VAL A   3       3.703   1.410  -4.166  1.00 94.76           C  \\nATOM     21  O   VAL A   3       4.898   1.683  -4.030  1.00 94.76           O  \\nATOM     22  CB  VAL A   3       2.722  -0.707  -3.216  1.00 94.76           C  \\nATOM     23  CG1 VAL A   3       2.213  -2.111  -3.538  1.00 94.76           C  \\nATOM     24  CG2 VAL A   3       3.801  -0.761  -2.136  1.00 94.76           C  \\nATOM     25  N   ILE A   4       2.747   2.349  -4.044  1.00 95.11           N  \\nATOM     26  CA  ILE A   4       2.962   3.731  -3.629  1.00 95.11           C  \\nATOM     27  C   ILE A   4       2.374   3.949  -2.237  1.00 95.11           C  \\nATOM     28  O   ILE A   4       1.176   3.745  -2.023  1.00 95.11           O  \\nATOM     29  CB  ILE A   4       2.343   4.726  -4.635  1.00 95.11           C  \\nATOM     30  CG1 ILE A   4       2.923   4.501  -6.036  1.00 95.11           C  \\nATOM     31  CG2 ILE A   4       2.568   6.170  -4.174  1.00 95.11           C  \\nATOM     32  CD1 ILE A   4       2.221   5.292  -7.131  1.00 95.11           C  \\nATOM     33  N   PHE A   5       3.156   4.334  -1.293  1.00 93.85           N  \\nATOM     34  CA  PHE A   5       2.699   4.691   0.045  1.00 93.85           C  \\nATOM     35  C   PHE A   5       2.048   6.069   0.045  1.00 93.85           C  \\nATOM     36  O   PHE A   5       2.690   7.064  -0.297  1.00 93.85           O  \\nATOM     37  CB  PHE A   5       3.865   4.661   1.038  1.00 93.85           C  \\nATOM     38  CG  PHE A   5       4.395   3.279   1.312  1.00 93.85           C  \\nATOM     39  CD1 PHE A   5       3.955   2.556   2.413  1.00 93.85           C  \\nATOM     40  CD2 PHE A   5       5.334   2.703   0.466  1.00 93.85           C  \\nATOM     41  CE1 PHE A   5       4.443   1.277   2.668  1.00 93.85           C  \\nATOM     42  CE2 PHE A   5       5.827   1.426   0.714  1.00 93.85           C  \\nATOM     43  CZ  PHE A   5       5.381   0.715   1.817  1.00 93.85           C  \\nATOM     44  N   LEU A   6       0.820   6.089   0.434  1.00 92.63           N  \\nATOM     45  CA  LEU A   6       0.007   7.288   0.265  1.00 92.63           C  \\nATOM     46  C   LEU A   6       0.478   8.401   1.195  1.00 92.63           C  \\nATOM     47  O   LEU A   6       0.538   9.566   0.796  1.00 92.63           O  \\nATOM     48  CB  LEU A   6      -1.469   6.976   0.530  1.00 92.63           C  \\nATOM     49  CG  LEU A   6      -2.151   6.033  -0.462  1.00 92.63           C  \\nATOM     50  CD1 LEU A   6      -3.567   5.709   0.003  1.00 92.63           C  \\nATOM     51  CD2 LEU A   6      -2.168   6.645  -1.858  1.00 92.63           C  \\nATOM     52  N   LYS A   7       0.979   8.068   2.329  1.00 90.46           N  \\nATOM     53  CA  LYS A   7       1.394   9.088   3.288  1.00 90.46           C  \\nATOM     54  C   LYS A   7       2.803   9.589   2.983  1.00 90.46           C  \\nATOM     55  O   LYS A   7       3.088  10.780   3.125  1.00 90.46           O  \\nATOM     56  CB  LYS A   7       1.330   8.541   4.715  1.00 90.46           C  \\nATOM     57  CG  LYS A   7      -0.084   8.368   5.249  1.00 90.46           C  \\nATOM     58  CD  LYS A   7      -0.082   7.940   6.711  1.00 90.46           C  \\nATOM     59  CE  LYS A   7      -1.496   7.745   7.240  1.00 90.46           C  \\nATOM     60  NZ  LYS A   7      -1.497   7.242   8.647  1.00 90.46           N  \\nATOM     61  N   LYS A   8       3.585   8.741   2.473  1.00 89.16           N  \\nATOM     62  CA  LYS A   8       4.977   9.101   2.224  1.00 89.16           C  \\nATOM     63  C   LYS A   8       5.204   9.437   0.753  1.00 89.16           C  \\nATOM     64  O   LYS A   8       6.085  10.233   0.421  1.00 89.16           O  \\nATOM     65  CB  LYS A   8       5.910   7.967   2.652  1.00 89.16           C  \\nATOM     66  CG  LYS A   8       6.075   7.837   4.159  1.00 89.16           C  \\nATOM     67  CD  LYS A   8       7.119   6.788   4.518  1.00 89.16           C  \\nATOM     68  CE  LYS A   8       7.240   6.611   6.026  1.00 89.16           C  \\nATOM     69  NZ  LYS A   8       8.236   5.556   6.382  1.00 89.16           N  \\nATOM     70  N   GLY A   9       4.289   8.949  -0.106  1.00 92.79           N  \\nATOM     71  CA  GLY A   9       4.461   9.212  -1.526  1.00 92.79           C  \\nATOM     72  C   GLY A   9       5.630   8.462  -2.136  1.00 92.79           C  \\nATOM     73  O   GLY A   9       6.298   8.970  -3.038  1.00 92.79           O  \\nATOM     74  N   GLU A  10       6.050   7.437  -1.543  1.00 92.57           N  \\nATOM     75  CA  GLU A  10       7.195   6.656  -2.001  1.00 92.57           C  \\nATOM     76  C   GLU A  10       6.748   5.341  -2.634  1.00 92.57           C  \\nATOM     77  O   GLU A  10       5.714   4.785  -2.259  1.00 92.57           O  \\nATOM     78  CB  GLU A  10       8.157   6.381  -0.843  1.00 92.57           C  \\nATOM     79  CG  GLU A  10       8.858   7.626  -0.317  1.00 92.57           C  \\nATOM     80  CD  GLU A  10       9.870   7.327   0.778  1.00 92.57           C  \\nATOM     81  OE1 GLU A  10      10.609   8.250   1.189  1.00 92.57           O  \\nATOM     82  OE2 GLU A  10       9.925   6.160   1.227  1.00 92.57           O  \\nATOM     83  N   ILE A  11       7.617   4.959  -3.565  1.00 95.62           N  \\nATOM     84  CA  ILE A  11       7.382   3.674  -4.214  1.00 95.62           C  \\nATOM     85  C   ILE A  11       8.374   2.640  -3.685  1.00 95.62           C  \\nATOM     86  O   ILE A  11       9.584   2.877  -3.681  1.00 95.62           O  \\nATOM     87  CB  ILE A  11       7.496   3.788  -5.751  1.00 95.62           C  \\nATOM     88  CG1 ILE A  11       6.517   4.842  -6.282  1.00 95.62           C  \\nATOM     89  CG2 ILE A  11       7.249   2.429  -6.413  1.00 95.62           C  \\nATOM     90  CD1 ILE A  11       6.676   5.141  -7.766  1.00 95.62           C  \\nATOM     91  N   LYS A  12       7.860   1.570  -3.226  1.00 94.49           N  \\nATOM     92  CA  LYS A  12       8.699   0.499  -2.695  1.00 94.49           C  \\nATOM     93  C   LYS A  12       8.214  -0.867  -3.171  1.00 94.49           C  \\nATOM     94  O   LYS A  12       7.037  -1.034  -3.498  1.00 94.49           O  \\nATOM     95  CB  LYS A  12       8.723   0.543  -1.167  1.00 94.49           C  \\nATOM     96  CG  LYS A  12       9.504   1.717  -0.593  1.00 94.49           C  \\nATOM     97  CD  LYS A  12       9.698   1.578   0.911  1.00 94.49           C  \\nATOM     98  CE  LYS A  12      10.560   2.701   1.471  1.00 94.49           C  \\nATOM     99  NZ  LYS A  12      10.738   2.579   2.949  1.00 94.49           N  \\nATOM    100  N   ASN A  13       9.201  -1.745  -3.248  1.00 96.14           N  \\nATOM    101  CA  ASN A  13       8.852  -3.141  -3.494  1.00 96.14           C  \\nATOM    102  C   ASN A  13       8.619  -3.898  -2.190  1.00 96.14           C  \\nATOM    103  O   ASN A  13       9.476  -3.895  -1.304  1.00 96.14           O  \\nATOM    104  CB  ASN A  13       9.940  -3.829  -4.320  1.00 96.14           C  \\nATOM    105  CG  ASN A  13       9.915  -3.415  -5.779  1.00 96.14           C  \\nATOM    106  OD1 ASN A  13       8.884  -3.520  -6.449  1.00 96.14           O  \\nATOM    107  ND2 ASN A  13      11.049  -2.941  -6.281  1.00 96.14           N  \\nATOM    108  N   VAL A  14       7.532  -4.398  -2.103  1.00 95.82           N  \\nATOM    109  CA  VAL A  14       7.230  -5.172  -0.903  1.00 95.82           C  \\nATOM    110  C   VAL A  14       6.765  -6.573  -1.294  1.00 95.82           C  \\nATOM    111  O   VAL A  14       6.485  -6.836  -2.466  1.00 95.82           O  \\nATOM    112  CB  VAL A  14       6.157  -4.477  -0.034  1.00 95.82           C  \\nATOM    113  CG1 VAL A  14       6.675  -3.143   0.499  1.00 95.82           C  \\nATOM    114  CG2 VAL A  14       4.873  -4.274  -0.835  1.00 95.82           C  \\nATOM    115  N   ALA A  15       6.621  -7.496  -0.304  1.00 96.50           N  \\nATOM    116  CA  ALA A  15       6.067  -8.828  -0.530  1.00 96.50           C  \\nATOM    117  C   ALA A  15       4.587  -8.753  -0.892  1.00 96.50           C  \\nATOM    118  O   ALA A  15       3.867  -7.876  -0.409  1.00 96.50           O  \\nATOM    119  CB  ALA A  15       6.267  -9.704   0.705  1.00 96.50           C  \\nATOM    120  N   ASP A  16       4.102  -9.650  -1.695  1.00 95.07           N  \\nATOM    121  CA  ASP A  16       2.725  -9.664  -2.181  1.00 95.07           C  \\nATOM    122  C   ASP A  16       1.736  -9.774  -1.023  1.00 95.07           C  \\nATOM    123  O   ASP A  16       0.743  -9.045  -0.976  1.00 95.07           O  \\nATOM    124  CB  ASP A  16       2.514 -10.817  -3.164  1.00 95.07           C  \\nATOM    125  CG  ASP A  16       3.193 -10.585  -4.503  1.00 95.07           C  \\nATOM    126  OD1 ASP A  16       3.475  -9.418  -4.850  1.00 95.07           O  \\nATOM    127  OD2 ASP A  16       3.445 -11.579  -5.218  1.00 95.07           O  \\nATOM    128  N   GLY A  17       2.107 -10.707  -0.060  1.00 96.41           N  \\nATOM    129  CA  GLY A  17       1.222 -10.928   1.073  1.00 96.41           C  \\nATOM    130  C   GLY A  17       1.096  -9.716   1.977  1.00 96.41           C  \\nATOM    131  O   GLY A  17      -0.003  -9.379   2.422  1.00 96.41           O  \\nATOM    132  N   TYR A  18       2.232  -9.023   2.202  1.00 96.10           N  \\nATOM    133  CA  TYR A  18       2.257  -7.811   3.013  1.00 96.10           C  \\nATOM    134  C   TYR A  18       1.485  -6.686   2.334  1.00 96.10           C  \\nATOM    135  O   TYR A  18       0.673  -6.010   2.970  1.00 96.10           O  \\nATOM    136  CB  TYR A  18       3.700  -7.369   3.275  1.00 96.10           C  \\nATOM    137  CG  TYR A  18       3.810  -6.133   4.135  1.00 96.10           C  \\nATOM    138  CD1 TYR A  18       4.365  -4.959   3.632  1.00 96.10           C  \\nATOM    139  CD2 TYR A  18       3.361  -6.138   5.451  1.00 96.10           C  \\nATOM    140  CE1 TYR A  18       4.470  -3.818   4.420  1.00 96.10           C  \\nATOM    141  CE2 TYR A  18       3.461  -5.003   6.249  1.00 96.10           C  \\nATOM    142  CZ  TYR A  18       4.015  -3.849   5.725  1.00 96.10           C  \\nATOM    143  OH  TYR A  18       4.117  -2.723   6.511  1.00 96.10           O  \\nATOM    144  N   ALA A  19       1.607  -6.547   1.046  1.00 96.34           N  \\nATOM    145  CA  ALA A  19       0.901  -5.514   0.292  1.00 96.34           C  \\nATOM    146  C   ALA A  19      -0.608  -5.735   0.340  1.00 96.34           C  \\nATOM    147  O   ALA A  19      -1.365  -4.823   0.682  1.00 96.34           O  \\nATOM    148  CB  ALA A  19       1.386  -5.487  -1.155  1.00 96.34           C  \\nATOM    149  N   ASN A  20      -1.068  -6.946   0.177  1.00 95.93           N  \\nATOM    150  CA  ASN A  20      -2.487  -7.251   0.027  1.00 95.93           C  \\nATOM    151  C   ASN A  20      -3.198  -7.289   1.377  1.00 95.93           C  \\nATOM    152  O   ASN A  20      -4.315  -6.785   1.509  1.00 95.93           O  \\nATOM    153  CB  ASN A  20      -2.675  -8.579  -0.710  1.00 95.93           C  \\nATOM    154  CG  ASN A  20      -2.313  -8.488  -2.179  1.00 95.93           C  \\nATOM    155  OD1 ASN A  20      -2.601  -7.489  -2.842  1.00 95.93           O  \\nATOM    156  ND2 ASN A  20      -1.676  -9.531  -2.698  1.00 95.93           N  \\nATOM    157  N   ASN A  21      -2.426  -7.797   2.410  1.00 96.23           N  \\nATOM    158  CA  ASN A  21      -3.106  -8.069   3.672  1.00 96.23           C  \\nATOM    159  C   ASN A  21      -2.907  -6.933   4.672  1.00 96.23           C  \\nATOM    160  O   ASN A  21      -3.629  -6.843   5.667  1.00 96.23           O  \\nATOM    161  CB  ASN A  21      -2.623  -9.392   4.268  1.00 96.23           C  \\nATOM    162  CG  ASN A  21      -3.089 -10.596   3.472  1.00 96.23           C  \\nATOM    163  OD1 ASN A  21      -4.250 -10.672   3.062  1.00 96.23           O  \\nATOM    164  ND2 ASN A  21      -2.187 -11.544   3.248  1.00 96.23           N  \\nATOM    165  N   PHE A  22      -1.955  -6.087   4.385  1.00 96.02           N  \\nATOM    166  CA  PHE A  22      -1.674  -5.027   5.346  1.00 96.02           C  \\nATOM    167  C   PHE A  22      -1.797  -3.656   4.690  1.00 96.02           C  \\nATOM    168  O   PHE A  22      -2.609  -2.831   5.113  1.00 96.02           O  \\nATOM    169  CB  PHE A  22      -0.275  -5.199   5.945  1.00 96.02           C  \\nATOM    170  CG  PHE A  22       0.044  -4.213   7.036  1.00 96.02           C  \\nATOM    171  CD1 PHE A  22       0.885  -3.134   6.792  1.00 96.02           C  \\nATOM    172  CD2 PHE A  22      -0.498  -4.365   8.305  1.00 96.02           C  \\nATOM    173  CE1 PHE A  22       1.182  -2.219   7.801  1.00 96.02           C  \\nATOM    174  CE2 PHE A  22      -0.205  -3.456   9.318  1.00 96.02           C  \\nATOM    175  CZ  PHE A  22       0.635  -2.384   9.064  1.00 96.02           C  \\nATOM    176  N   LEU A  23      -1.202  -3.412   3.616  1.00 95.97           N  \\nATOM    177  CA  LEU A  23      -1.101  -2.067   3.059  1.00 95.97           C  \\nATOM    178  C   LEU A  23      -2.381  -1.686   2.324  1.00 95.97           C  \\nATOM    179  O   LEU A  23      -2.954  -0.623   2.577  1.00 95.97           O  \\nATOM    180  CB  LEU A  23       0.095  -1.970   2.108  1.00 95.97           C  \\nATOM    181  CG  LEU A  23       1.479  -2.127   2.740  1.00 95.97           C  \\nATOM    182  CD1 LEU A  23       2.559  -2.114   1.663  1.00 95.97           C  \\nATOM    183  CD2 LEU A  23       1.727  -1.026   3.766  1.00 95.97           C  \\nATOM    184  N   PHE A  24      -2.865  -2.525   1.460  1.00 95.80           N  \\nATOM    185  CA  PHE A  24      -4.063  -2.184   0.701  1.00 95.80           C  \\nATOM    186  C   PHE A  24      -5.302  -2.251   1.586  1.00 95.80           C  \\nATOM    187  O   PHE A  24      -6.192  -1.404   1.482  1.00 95.80           O  \\nATOM    188  CB  PHE A  24      -4.225  -3.121  -0.500  1.00 95.80           C  \\nATOM    189  CG  PHE A  24      -3.182  -2.925  -1.567  1.00 95.80           C  \\nATOM    190  CD1 PHE A  24      -2.650  -1.666  -1.817  1.00 95.80           C  \\nATOM    191  CD2 PHE A  24      -2.733  -4.001  -2.321  1.00 95.80           C  \\nATOM    192  CE1 PHE A  24      -1.684  -1.482  -2.804  1.00 95.80           C  \\nATOM    193  CE2 PHE A  24      -1.768  -3.825  -3.309  1.00 95.80           C  \\nATOM    194  CZ  PHE A  24      -1.246  -2.565  -3.550  1.00 95.80           C  \\nATOM    195  N   LYS A  25      -5.316  -3.206   2.443  1.00 95.47           N  \\nATOM    196  CA  LYS A  25      -6.477  -3.385   3.310  1.00 95.47           C  \\nATOM    197  C   LYS A  25      -6.654  -2.193   4.246  1.00 95.47           C  \\nATOM    198  O   LYS A  25      -7.781  -1.789   4.540  1.00 95.47           O  \\nATOM    199  CB  LYS A  25      -6.347  -4.674   4.123  1.00 95.47           C  \\nATOM    200  CG  LYS A  25      -7.625  -5.088   4.837  1.00 95.47           C  \\nATOM    201  CD  LYS A  25      -7.529  -6.508   5.378  1.00 95.47           C  \\nATOM    202  CE  LYS A  25      -8.817  -6.933   6.071  1.00 95.47           C  \\nATOM    203  NZ  LYS A  25      -8.782  -8.371   6.473  1.00 95.47           N  \\nATOM    204  N   GLN A  26      -5.521  -1.611   4.627  1.00 94.66           N  \\nATOM    205  CA  GLN A  26      -5.577  -0.479   5.546  1.00 94.66           C  \\nATOM    206  C   GLN A  26      -5.587   0.845   4.788  1.00 94.66           C  \\nATOM    207  O   GLN A  26      -5.690   1.913   5.395  1.00 94.66           O  \\nATOM    208  CB  GLN A  26      -4.397  -0.518   6.518  1.00 94.66           C  \\nATOM    209  CG  GLN A  26      -4.424  -1.706   7.471  1.00 94.66           C  \\nATOM    210  CD  GLN A  26      -5.652  -1.716   8.362  1.00 94.66           C  \\nATOM    211  OE1 GLN A  26      -6.120  -0.664   8.808  1.00 94.66           O  \\nATOM    212  NE2 GLN A  26      -6.183  -2.905   8.627  1.00 94.66           N  \\nATOM    213  N   GLY A  27      -5.435   0.736   3.524  1.00 94.71           N  \\nATOM    214  CA  GLY A  27      -5.456   1.962   2.741  1.00 94.71           C  \\nATOM    215  C   GLY A  27      -4.162   2.749   2.830  1.00 94.71           C  \\nATOM    216  O   GLY A  27      -4.173   3.980   2.769  1.00 94.71           O  \\nATOM    217  N   LEU A  28      -3.082   2.077   3.175  1.00 94.13           N  \\nATOM    218  CA  LEU A  28      -1.794   2.731   3.381  1.00 94.13           C  \\nATOM    219  C   LEU A  28      -1.027   2.846   2.068  1.00 94.13           C  \\nATOM    220  O   LEU A  28      -0.127   3.679   1.940  1.00 94.13           O  \\nATOM    221  CB  LEU A  28      -0.959   1.962   4.408  1.00 94.13           C  \\nATOM    222  CG  LEU A  28      -1.506   1.926   5.836  1.00 94.13           C  \\nATOM    223  CD1 LEU A  28      -0.686   0.968   6.693  1.00 94.13           C  \\nATOM    224  CD2 LEU A  28      -1.510   3.325   6.442  1.00 94.13           C  \\nATOM    225  N   ALA A  29      -1.457   1.980   1.123  1.00 95.99           N  \\nATOM    226  CA  ALA A  29      -0.728   1.990  -0.142  1.00 95.99           C  \\nATOM    227  C   ALA A  29      -1.644   1.626  -1.306  1.00 95.99           C  \\nATOM    228  O   ALA A  29      -2.727   1.072  -1.103  1.00 95.99           O  \\nATOM    229  CB  ALA A  29       0.457   1.029  -0.081  1.00 95.99           C  \\nATOM    230  N   ILE A  30      -1.344   2.027  -2.502  1.00 95.27           N  \\nATOM    231  CA  ILE A  30      -2.031   1.661  -3.735  1.00 95.27           C  \\nATOM    232  C   ILE A  30      -1.051   0.983  -4.690  1.00 95.27           C  \\nATOM    233  O   ILE A  30       0.165   1.059  -4.499  1.00 95.27           O  \\nATOM    234  CB  ILE A  30      -2.673   2.893  -4.412  1.00 95.27           C  \\nATOM    235  CG1 ILE A  30      -1.609   3.958  -4.702  1.00 95.27           C  \\nATOM    236  CG2 ILE A  30      -3.796   3.463  -3.541  1.00 95.27           C  \\nATOM    237  CD1 ILE A  30      -2.113   5.123  -5.542  1.00 95.27           C  \\nATOM    238  N   GLU A  31      -1.587   0.281  -5.469  1.00 92.92           N  \\nATOM    239  CA  GLU A  31      -0.742  -0.372  -6.464  1.00 92.92           C  \\nATOM    240  C   GLU A  31      -0.003   0.653  -7.320  1.00 92.92           C  \\nATOM    241  O   GLU A  31      -0.607   1.605  -7.817  1.00 92.92           O  \\nATOM    242  CB  GLU A  31      -1.576  -1.297  -7.354  1.00 92.92           C  \\nATOM    243  CG  GLU A  31      -2.082  -2.544  -6.643  1.00 92.92           C  \\nATOM    244  CD  GLU A  31      -2.894  -3.461  -7.544  1.00 92.92           C  \\nATOM    245  OE1 GLU A  31      -3.252  -4.578  -7.108  1.00 92.92           O  \\nATOM    246  OE2 GLU A  31      -3.172  -3.059  -8.696  1.00 92.92           O  \\nATOM    247  N   ALA A  32       1.343   0.697  -6.937  1.00 89.09           N  \\nATOM    248  CA  ALA A  32       2.128   1.530  -7.844  1.00 89.09           C  \\nATOM    249  C   ALA A  32       1.988   1.053  -9.287  1.00 89.09           C  \\nATOM    250  O   ALA A  32       1.686  -0.117  -9.534  1.00 89.09           O  \\nATOM    251  CB  ALA A  32       3.597   1.531  -7.428  1.00 89.09           C  \",\"pdb\");\n",
              "\tviewer_17580235332492585.setStyle({\"model\": 0},{\"cartoon\": {\"color\": \"green\", \"opacity\": 0.7}});\n",
              "\tviewer_17580235332492585.addModel(\"ATOM      1  N   VAL A   1       5.482  -6.439  -5.681  1.00 86.01           N  \\nATOM      2  CA  VAL A   1       4.470  -5.535  -6.215  1.00 86.01           C  \\nATOM      3  C   VAL A   1       4.827  -4.092  -5.863  1.00 86.01           C  \\nATOM      4  O   VAL A   1       5.375  -3.827  -4.790  1.00 86.01           O  \\nATOM      5  CB  VAL A   1       3.061  -5.881  -5.683  1.00 86.01           C  \\nATOM      6  CG1 VAL A   1       2.556  -7.183  -6.301  1.00 86.01           C  \\nATOM      7  CG2 VAL A   1       3.077  -5.980  -4.159  1.00 86.01           C  \\nATOM      8  N   ASN A   2       5.070  -3.489  -6.849  1.00 85.34           N  \\nATOM      9  CA  ASN A   2       5.369  -2.080  -6.618  1.00 85.34           C  \\nATOM     10  C   ASN A   2       4.215  -1.370  -5.917  1.00 85.34           C  \\nATOM     11  O   ASN A   2       3.078  -1.405  -6.391  1.00 85.34           O  \\nATOM     12  CB  ASN A   2       5.701  -1.379  -7.937  1.00 85.34           C  \\nATOM     13  CG  ASN A   2       6.543  -0.134  -7.739  1.00 85.34           C  \\nATOM     14  OD1 ASN A   2       6.299   0.658  -6.825  1.00 85.34           O  \\nATOM     15  ND2 ASN A   2       7.542   0.049  -8.595  1.00 85.34           N  \\nATOM     16  N   VAL A   3       4.595  -0.958  -4.721  1.00 87.30           N  \\nATOM     17  CA  VAL A   3       3.546  -0.345  -3.913  1.00 87.30           C  \\nATOM     18  C   VAL A   3       3.880   1.124  -3.659  1.00 87.30           C  \\nATOM     19  O   VAL A   3       5.020   1.459  -3.329  1.00 87.30           O  \\nATOM     20  CB  VAL A   3       3.355  -1.088  -2.572  1.00 87.30           C  \\nATOM     21  CG1 VAL A   3       2.242  -0.442  -1.750  1.00 87.30           C  \\nATOM     22  CG2 VAL A   3       3.052  -2.564  -2.819  1.00 87.30           C  \\nATOM     23  N   LEU A   4       2.924   2.035  -3.822  1.00 84.80           N  \\nATOM     24  CA  LEU A   4       3.031   3.460  -3.529  1.00 84.80           C  \\nATOM     25  C   LEU A   4       2.386   3.789  -2.186  1.00 84.80           C  \\nATOM     26  O   LEU A   4       1.198   3.530  -1.983  1.00 84.80           O  \\nATOM     27  CB  LEU A   4       2.376   4.287  -4.638  1.00 84.80           C  \\nATOM     28  CG  LEU A   4       2.435   5.806  -4.476  1.00 84.80           C  \\nATOM     29  CD1 LEU A   4       3.831   6.322  -4.810  1.00 84.80           C  \\nATOM     30  CD2 LEU A   4       1.386   6.478  -5.356  1.00 84.80           C  \\nATOM     31  N   PHE A   5       3.164   4.328  -1.323  1.00 84.68           N  \\nATOM     32  CA  PHE A   5       2.697   4.758  -0.010  1.00 84.68           C  \\nATOM     33  C   PHE A   5       2.102   6.160  -0.079  1.00 84.68           C  \\nATOM     34  O   PHE A   5       2.797   7.118  -0.422  1.00 84.68           O  \\nATOM     35  CB  PHE A   5       3.842   4.723   1.007  1.00 84.68           C  \\nATOM     36  CG  PHE A   5       4.289   3.333   1.370  1.00 84.68           C  \\nATOM     37  CD1 PHE A   5       3.652   2.624   2.381  1.00 84.68           C  \\nATOM     38  CD2 PHE A   5       5.348   2.734   0.699  1.00 84.68           C  \\nATOM     39  CE1 PHE A   5       4.065   1.337   2.718  1.00 84.68           C  \\nATOM     40  CE2 PHE A   5       5.766   1.448   1.031  1.00 84.68           C  \\nATOM     41  CZ  PHE A   5       5.124   0.752   2.041  1.00 84.68           C  \\nATOM     42  N   LEU A   6       0.839   6.223   0.178  1.00 82.13           N  \\nATOM     43  CA  LEU A   6       0.108   7.472  -0.002  1.00 82.13           C  \\nATOM     44  C   LEU A   6       0.591   8.531   0.985  1.00 82.13           C  \\nATOM     45  O   LEU A   6       0.663   9.714   0.646  1.00 82.13           O  \\nATOM     46  CB  LEU A   6      -1.395   7.245   0.169  1.00 82.13           C  \\nATOM     47  CG  LEU A   6      -2.075   6.379  -0.891  1.00 82.13           C  \\nATOM     48  CD1 LEU A   6      -3.501   6.040  -0.465  1.00 82.13           C  \\nATOM     49  CD2 LEU A   6      -2.070   7.084  -2.243  1.00 82.13           C  \\nATOM     50  N   GLU A   7       1.049   8.090   2.121  1.00 83.00           N  \\nATOM     51  CA  GLU A   7       1.483   9.059   3.122  1.00 83.00           C  \\nATOM     52  C   GLU A   7       2.865   9.614   2.789  1.00 83.00           C  \\nATOM     53  O   GLU A   7       3.113  10.812   2.944  1.00 83.00           O  \\nATOM     54  CB  GLU A   7       1.493   8.425   4.515  1.00 83.00           C  \\nATOM     55  CG  GLU A   7       0.106   8.202   5.100  1.00 83.00           C  \\nATOM     56  CD  GLU A   7       0.127   7.847   6.578  1.00 83.00           C  \\nATOM     57  OE1 GLU A   7      -0.801   8.254   7.313  1.00 83.00           O  \\nATOM     58  OE2 GLU A   7       1.081   7.157   7.004  1.00 83.00           O  \\nATOM     59  N   ARG A   8       3.665   8.735   2.210  1.00 82.30           N  \\nATOM     60  CA  ARG A   8       5.036   9.169   1.962  1.00 82.30           C  \\nATOM     61  C   ARG A   8       5.259   9.459   0.481  1.00 82.30           C  \\nATOM     62  O   ARG A   8       6.112  10.274   0.124  1.00 82.30           O  \\nATOM     63  CB  ARG A   8       6.031   8.111   2.444  1.00 82.30           C  \\nATOM     64  CG  ARG A   8       6.239   8.103   3.950  1.00 82.30           C  \\nATOM     65  CD  ARG A   8       7.200   7.004   4.380  1.00 82.30           C  \\nATOM     66  NE  ARG A   8       8.549   7.520   4.599  1.00 82.30           N  \\nATOM     67  CZ  ARG A   8       9.614   6.769   4.865  1.00 82.30           C  \\nATOM     68  NH1 ARG A   8       9.508   5.448   4.952  1.00 82.30           N  \\nATOM     69  NH2 ARG A   8      10.794   7.343   5.046  1.00 82.30           N  \\nATOM     70  N   GLY A   9       4.363   8.915  -0.322  1.00 84.05           N  \\nATOM     71  CA  GLY A   9       4.562   9.093  -1.751  1.00 84.05           C  \\nATOM     72  C   GLY A   9       5.736   8.300  -2.293  1.00 84.05           C  \\nATOM     73  O   GLY A   9       6.297   8.645  -3.336  1.00 84.05           O  \\nATOM     74  N   ASP A  10       6.230   7.392  -1.511  1.00 84.62           N  \\nATOM     75  CA  ASP A  10       7.369   6.576  -1.919  1.00 84.62           C  \\nATOM     76  C   ASP A  10       6.910   5.224  -2.464  1.00 84.62           C  \\nATOM     77  O   ASP A  10       5.873   4.702  -2.051  1.00 84.62           O  \\nATOM     78  CB  ASP A  10       8.329   6.371  -0.746  1.00 84.62           C  \\nATOM     79  CG  ASP A  10       9.699   5.877  -1.179  1.00 84.62           C  \\nATOM     80  OD1 ASP A  10       9.965   5.810  -2.399  1.00 84.62           O  \\nATOM     81  OD2 ASP A  10      10.518   5.550  -0.294  1.00 84.62           O  \\nATOM     82  N   VAL A  11       7.597   4.840  -3.502  1.00 87.47           N  \\nATOM     83  CA  VAL A  11       7.300   3.539  -4.090  1.00 87.47           C  \\nATOM     84  C   VAL A  11       8.324   2.510  -3.616  1.00 87.47           C  \\nATOM     85  O   VAL A  11       9.531   2.713  -3.763  1.00 87.47           O  \\nATOM     86  CB  VAL A  11       7.285   3.603  -5.635  1.00 87.47           C  \\nATOM     87  CG1 VAL A  11       6.968   2.233  -6.229  1.00 87.47           C  \\nATOM     88  CG2 VAL A  11       6.276   4.645  -6.115  1.00 87.47           C  \\nATOM     89  N   ARG A  12       7.856   1.622  -2.911  1.00 85.29           N  \\nATOM     90  CA  ARG A  12       8.706   0.527  -2.450  1.00 85.29           C  \\nATOM     91  C   ARG A  12       8.205  -0.812  -2.979  1.00 85.29           C  \\nATOM     92  O   ARG A  12       7.023  -0.960  -3.295  1.00 85.29           O  \\nATOM     93  CB  ARG A  12       8.765   0.498  -0.922  1.00 85.29           C  \\nATOM     94  CG  ARG A  12       9.460   1.704  -0.310  1.00 85.29           C  \\nATOM     95  CD  ARG A  12       9.673   1.533   1.188  1.00 85.29           C  \\nATOM     96  NE  ARG A  12      10.374   2.675   1.767  1.00 85.29           N  \\nATOM     97  CZ  ARG A  12      10.739   2.772   3.042  1.00 85.29           C  \\nATOM     98  NH1 ARG A  12      10.476   1.794   3.901  1.00 85.29           N  \\nATOM     99  NH2 ARG A  12      11.374   3.857   3.463  1.00 85.29           N  \\nATOM    100  N   THR A  13       9.127  -1.641  -3.275  1.00 89.25           N  \\nATOM    101  CA  THR A  13       8.780  -3.010  -3.639  1.00 89.25           C  \\nATOM    102  C   THR A  13       8.733  -3.903  -2.402  1.00 89.25           C  \\nATOM    103  O   THR A  13       9.729  -4.034  -1.687  1.00 89.25           O  \\nATOM    104  CB  THR A  13       9.781  -3.589  -4.656  1.00 89.25           C  \\nATOM    105  OG1 THR A  13       9.873  -2.706  -5.781  1.00 89.25           O  \\nATOM    106  CG2 THR A  13       9.340  -4.966  -5.139  1.00 89.25           C  \\nATOM    107  N   ILE A  14       7.593  -4.325  -2.146  1.00 88.34           N  \\nATOM    108  CA  ILE A  14       7.412  -5.185  -0.981  1.00 88.34           C  \\nATOM    109  C   ILE A  14       6.805  -6.518  -1.413  1.00 88.34           C  \\nATOM    110  O   ILE A  14       6.395  -6.676  -2.565  1.00 88.34           O  \\nATOM    111  CB  ILE A  14       6.520  -4.510   0.086  1.00 88.34           C  \\nATOM    112  CG1 ILE A  14       5.091  -4.340  -0.444  1.00 88.34           C  \\nATOM    113  CG2 ILE A  14       7.111  -3.163   0.511  1.00 88.34           C  \\nATOM    114  CD1 ILE A  14       4.072  -3.983   0.629  1.00 88.34           C  \\nATOM    115  N   SER A  15       6.694  -7.483  -0.448  1.00 89.79           N  \\nATOM    116  CA  SER A  15       6.078  -8.776  -0.726  1.00 89.79           C  \\nATOM    117  C   SER A  15       4.594  -8.625  -1.040  1.00 89.79           C  \\nATOM    118  O   SER A  15       3.915  -7.772  -0.463  1.00 89.79           O  \\nATOM    119  CB  SER A  15       6.262  -9.724   0.459  1.00 89.79           C  \\nATOM    120  OG  SER A  15       5.465 -10.885   0.303  1.00 89.79           O  \\nATOM    121  N   ARG A  16       4.189  -9.393  -1.975  1.00 87.58           N  \\nATOM    122  CA  ARG A  16       2.806  -9.362  -2.441  1.00 87.58           C  \\nATOM    123  C   ARG A  16       1.836  -9.634  -1.295  1.00 87.58           C  \\nATOM    124  O   ARG A  16       0.800  -8.977  -1.183  1.00 87.58           O  \\nATOM    125  CB  ARG A  16       2.592 -10.383  -3.562  1.00 87.58           C  \\nATOM    126  CG  ARG A  16       1.220 -10.305  -4.212  1.00 87.58           C  \\nATOM    127  CD  ARG A  16       1.093 -11.277  -5.376  1.00 87.58           C  \\nATOM    128  NE  ARG A  16      -0.293 -11.418  -5.813  1.00 87.58           N  \\nATOM    129  CZ  ARG A  16      -0.913 -12.578  -6.010  1.00 87.58           C  \\nATOM    130  NH1 ARG A  16      -0.276 -13.728  -5.812  1.00 87.58           N  \\nATOM    131  NH2 ARG A  16      -2.176 -12.591  -6.406  1.00 87.58           N  \\nATOM    132  N   THR A  17       2.212 -10.501  -0.409  1.00 90.63           N  \\nATOM    133  CA  THR A  17       1.327 -10.875   0.688  1.00 90.63           C  \\nATOM    134  C   THR A  17       1.193  -9.732   1.690  1.00 90.63           C  \\nATOM    135  O   THR A  17       0.086  -9.402   2.119  1.00 90.63           O  \\nATOM    136  CB  THR A  17       1.835 -12.137   1.410  1.00 90.63           C  \\nATOM    137  OG1 THR A  17       2.063 -13.172   0.446  1.00 90.63           O  \\nATOM    138  CG2 THR A  17       0.819 -12.630   2.436  1.00 90.63           C  \\nATOM    139  N   TYR A  18       2.323  -9.165   2.022  1.00 88.66           N  \\nATOM    140  CA  TYR A  18       2.310  -8.053   2.966  1.00 88.66           C  \\nATOM    141  C   TYR A  18       1.516  -6.877   2.412  1.00 88.66           C  \\nATOM    142  O   TYR A  18       0.694  -6.287   3.118  1.00 88.66           O  \\nATOM    143  CB  TYR A  18       3.740  -7.610   3.293  1.00 88.66           C  \\nATOM    144  CG  TYR A  18       3.813  -6.515   4.331  1.00 88.66           C  \\nATOM    145  CD1 TYR A  18       4.188  -5.220   3.979  1.00 88.66           C  \\nATOM    146  CD2 TYR A  18       3.509  -6.774   5.662  1.00 88.66           C  \\nATOM    147  CE1 TYR A  18       4.259  -4.210   4.932  1.00 88.66           C  \\nATOM    148  CE2 TYR A  18       3.576  -5.771   6.624  1.00 88.66           C  \\nATOM    149  CZ  TYR A  18       3.951  -4.493   6.249  1.00 88.66           C  \\nATOM    150  OH  TYR A  18       4.020  -3.496   7.197  1.00 88.66           O  \\nATOM    151  N   ALA A  19       1.680  -6.587   1.140  1.00 87.87           N  \\nATOM    152  CA  ALA A  19       0.991  -5.468   0.500  1.00 87.87           C  \\nATOM    153  C   ALA A  19      -0.519  -5.693   0.481  1.00 87.87           C  \\nATOM    154  O   ALA A  19      -1.290  -4.790   0.813  1.00 87.87           O  \\nATOM    155  CB  ALA A  19       1.514  -5.264  -0.920  1.00 87.87           C  \\nATOM    156  N   THR A  20      -0.969  -6.811   0.230  1.00 87.45           N  \\nATOM    157  CA  THR A  20      -2.380  -7.134   0.047  1.00 87.45           C  \\nATOM    158  C   THR A  20      -3.082  -7.270   1.395  1.00 87.45           C  \\nATOM    159  O   THR A  20      -4.197  -6.773   1.572  1.00 87.45           O  \\nATOM    160  CB  THR A  20      -2.555  -8.434  -0.759  1.00 87.45           C  \\nATOM    161  OG1 THR A  20      -1.950  -8.276  -2.048  1.00 87.45           O  \\nATOM    162  CG2 THR A  20      -4.031  -8.773  -0.943  1.00 87.45           C  \\nATOM    163  N   LYS A  21      -2.354  -7.887   2.363  1.00 88.37           N  \\nATOM    164  CA  LYS A  21      -3.007  -8.162   3.640  1.00 88.37           C  \\nATOM    165  C   LYS A  21      -2.955  -6.944   4.557  1.00 88.37           C  \\nATOM    166  O   LYS A  21      -3.875  -6.715   5.346  1.00 88.37           O  \\nATOM    167  CB  LYS A  21      -2.357  -9.364   4.327  1.00 88.37           C  \\nATOM    168  CG  LYS A  21      -2.854 -10.710   3.820  1.00 88.37           C  \\nATOM    169  CD  LYS A  21      -2.305 -11.859   4.655  1.00 88.37           C  \\nATOM    170  CE  LYS A  21      -2.774 -13.208   4.128  1.00 88.37           C  \\nATOM    171  NZ  LYS A  21      -2.201 -14.341   4.916  1.00 88.37           N  \\nATOM    172  N   TYR A  22      -1.932  -6.110   4.398  1.00 87.58           N  \\nATOM    173  CA  TYR A  22      -1.748  -5.036   5.368  1.00 87.58           C  \\nATOM    174  C   TYR A  22      -1.888  -3.671   4.704  1.00 87.58           C  \\nATOM    175  O   TYR A  22      -2.728  -2.862   5.106  1.00 87.58           O  \\nATOM    176  CB  TYR A  22      -0.376  -5.150   6.042  1.00 87.58           C  \\nATOM    177  CG  TYR A  22      -0.368  -6.053   7.250  1.00 87.58           C  \\nATOM    178  CD1 TYR A  22      -0.749  -5.578   8.503  1.00 87.58           C  \\nATOM    179  CD2 TYR A  22       0.024  -7.384   7.144  1.00 87.58           C  \\nATOM    180  CE1 TYR A  22      -0.742  -6.407   9.620  1.00 87.58           C  \\nATOM    181  CE2 TYR A  22       0.036  -8.221   8.253  1.00 87.58           C  \\nATOM    182  CZ  TYR A  22      -0.347  -7.725   9.486  1.00 87.58           C  \\nATOM    183  OH  TYR A  22      -0.338  -8.550  10.588  1.00 87.58           O  \\nATOM    184  N   LEU A  23      -1.288  -3.443   3.635  1.00 85.25           N  \\nATOM    185  CA  LEU A  23      -1.184  -2.094   3.090  1.00 85.25           C  \\nATOM    186  C   LEU A  23      -2.449  -1.715   2.329  1.00 85.25           C  \\nATOM    187  O   LEU A  23      -3.049  -0.671   2.595  1.00 85.25           O  \\nATOM    188  CB  LEU A  23       0.034  -1.982   2.168  1.00 85.25           C  \\nATOM    189  CG  LEU A  23       1.404  -2.134   2.831  1.00 85.25           C  \\nATOM    190  CD1 LEU A  23       2.510  -2.075   1.783  1.00 85.25           C  \\nATOM    191  CD2 LEU A  23       1.607  -1.059   3.893  1.00 85.25           C  \\nATOM    192  N   TYR A  24      -2.924  -2.556   1.572  1.00 87.05           N  \\nATOM    193  CA  TYR A  24      -4.108  -2.245   0.781  1.00 87.05           C  \\nATOM    194  C   TYR A  24      -5.364  -2.273   1.644  1.00 87.05           C  \\nATOM    195  O   TYR A  24      -6.277  -1.467   1.449  1.00 87.05           O  \\nATOM    196  CB  TYR A  24      -4.253  -3.231  -0.382  1.00 87.05           C  \\nATOM    197  CG  TYR A  24      -3.154  -3.123  -1.411  1.00 87.05           C  \\nATOM    198  CD1 TYR A  24      -2.452  -1.932  -1.585  1.00 87.05           C  \\nATOM    199  CD2 TYR A  24      -2.816  -4.208  -2.212  1.00 87.05           C  \\nATOM    200  CE1 TYR A  24      -1.440  -1.826  -2.533  1.00 87.05           C  \\nATOM    201  CE2 TYR A  24      -1.806  -4.113  -3.163  1.00 87.05           C  \\nATOM    202  CZ  TYR A  24      -1.124  -2.920  -3.315  1.00 87.05           C  \\nATOM    203  OH  TYR A  24      -0.123  -2.821  -4.255  1.00 87.05           O  \\nATOM    204  N   HIS A  25      -5.404  -3.193   2.629  1.00 85.80           N  \\nATOM    205  CA  HIS A  25      -6.584  -3.315   3.478  1.00 85.80           C  \\nATOM    206  C   HIS A  25      -6.739  -2.096   4.381  1.00 85.80           C  \\nATOM    207  O   HIS A  25      -7.861  -1.698   4.706  1.00 85.80           O  \\nATOM    208  CB  HIS A  25      -6.507  -4.588   4.323  1.00 85.80           C  \\nATOM    209  CG  HIS A  25      -7.812  -4.977   4.941  1.00 85.80           C  \\nATOM    210  ND1 HIS A  25      -8.731  -5.777   4.298  1.00 85.80           N  \\nATOM    211  CD2 HIS A  25      -8.348  -4.675   6.148  1.00 85.80           C  \\nATOM    212  CE1 HIS A  25      -9.781  -5.950   5.085  1.00 85.80           C  \\nATOM    213  NE2 HIS A  25      -9.573  -5.293   6.213  1.00 85.80           N  \\nATOM    214  N   HIS A  26      -5.550  -1.591   4.730  1.00 85.97           N  \\nATOM    215  CA  HIS A  26      -5.595  -0.451   5.640  1.00 85.97           C  \\nATOM    216  C   HIS A  26      -5.613   0.866   4.871  1.00 85.97           C  \\nATOM    217  O   HIS A  26      -5.590   1.942   5.475  1.00 85.97           O  \\nATOM    218  CB  HIS A  26      -4.403  -0.483   6.598  1.00 85.97           C  \\nATOM    219  CG  HIS A  26      -4.491  -1.563   7.629  1.00 85.97           C  \\nATOM    220  ND1 HIS A  26      -5.279  -1.455   8.755  1.00 85.97           N  \\nATOM    221  CD2 HIS A  26      -3.890  -2.774   7.701  1.00 85.97           C  \\nATOM    222  CE1 HIS A  26      -5.157  -2.557   9.477  1.00 85.97           C  \\nATOM    223  NE2 HIS A  26      -4.320  -3.373   8.860  1.00 85.97           N  \\nATOM    224  N   ASN A  27      -5.658   0.765   3.502  1.00 83.58           N  \\nATOM    225  CA  ASN A  27      -5.733   1.929   2.625  1.00 83.58           C  \\nATOM    226  C   ASN A  27      -4.514   2.832   2.786  1.00 83.58           C  \\nATOM    227  O   ASN A  27      -4.648   4.055   2.858  1.00 83.58           O  \\nATOM    228  CB  ASN A  27      -7.018   2.718   2.888  1.00 83.58           C  \\nATOM    229  CG  ASN A  27      -8.023   2.593   1.761  1.00 83.58           C  \\nATOM    230  OD1 ASN A  27      -7.813   1.837   0.808  1.00 83.58           O  \\nATOM    231  ND2 ASN A  27      -9.121   3.332   1.860  1.00 83.58           N  \\nATOM    232  N   ILE A  28      -3.359   2.204   3.190  1.00 85.64           N  \\nATOM    233  CA  ILE A  28      -2.121   2.953   3.383  1.00 85.64           C  \\nATOM    234  C   ILE A  28      -1.352   3.029   2.066  1.00 85.64           C  \\nATOM    235  O   ILE A  28      -0.642   4.004   1.811  1.00 85.64           O  \\nATOM    236  CB  ILE A  28      -1.242   2.317   4.482  1.00 85.64           C  \\nATOM    237  CG1 ILE A  28      -1.985   2.309   5.823  1.00 85.64           C  \\nATOM    238  CG2 ILE A  28       0.094   3.057   4.601  1.00 85.64           C  \\nATOM    239  CD1 ILE A  28      -1.288   1.505   6.913  1.00 85.64           C  \\nATOM    240  N   ALA A  29      -1.766   2.049   1.161  1.00 85.79           N  \\nATOM    241  CA  ALA A  29      -0.968   2.011  -0.061  1.00 85.79           C  \\nATOM    242  C   ALA A  29      -1.807   1.555  -1.251  1.00 85.79           C  \\nATOM    243  O   ALA A  29      -2.872   0.959  -1.075  1.00 85.79           O  \\nATOM    244  CB  ALA A  29       0.238   1.093   0.119  1.00 85.79           C  \\nATOM    245  N   VAL A  30      -1.447   2.011  -2.417  1.00 85.80           N  \\nATOM    246  CA  VAL A  30      -2.097   1.608  -3.660  1.00 85.80           C  \\nATOM    247  C   VAL A  30      -1.076   0.956  -4.590  1.00 85.80           C  \\nATOM    248  O   VAL A  30       0.132   1.123  -4.410  1.00 85.80           O  \\nATOM    249  CB  VAL A  30      -2.768   2.809  -4.364  1.00 85.80           C  \\nATOM    250  CG1 VAL A  30      -3.956   3.317  -3.550  1.00 85.80           C  \\nATOM    251  CG2 VAL A  30      -1.754   3.929  -4.592  1.00 85.80           C  \\nATOM    252  N   ARG A  31      -1.483   0.152  -5.371  1.00 85.37           N  \\nATOM    253  CA  ARG A  31      -0.619  -0.498  -6.351  1.00 85.37           C  \\nATOM    254  C   ARG A  31       0.035   0.530  -7.269  1.00 85.37           C  \\nATOM    255  O   ARG A  31      -0.651   1.363  -7.865  1.00 85.37           O  \\nATOM    256  CB  ARG A  31      -1.410  -1.512  -7.179  1.00 85.37           C  \\nATOM    257  CG  ARG A  31      -0.555  -2.614  -7.784  1.00 85.37           C  \\nATOM    258  CD  ARG A  31      -1.405  -3.670  -8.478  1.00 85.37           C  \\nATOM    259  NE  ARG A  31      -0.605  -4.500  -9.376  1.00 85.37           N  \\nATOM    260  CZ  ARG A  31      -0.706  -5.822  -9.475  1.00 85.37           C  \\nATOM    261  NH1 ARG A  31      -1.577  -6.494  -8.732  1.00 85.37           N  \\nATOM    262  NH2 ARG A  31       0.071  -6.478 -10.325  1.00 85.37           N  \\nATOM    263  N   ALA A  32       1.308   0.775  -6.776  1.00 80.69           N  \\nATOM    264  CA  ALA A  32       2.017   1.663  -7.693  1.00 80.69           C  \\nATOM    265  C   ALA A  32       2.218   1.002  -9.054  1.00 80.69           C  \\nATOM    266  O   ALA A  32       2.229  -0.227  -9.157  1.00 80.69           O  \\nATOM    267  CB  ALA A  32       3.362   2.075  -7.101  1.00 80.69           C  \\nTER     268      ALA A  32                                                       \\nEND   \\n\",\"pdb\");\n",
              "\tviewer_17580235332492585.setStyle({\"model\": 1, \"cartoon\": {\"colorscheme\": {\"prop\": \"b\", \"gradient\": \"roygb\", \"min\": 50, \"max\": 90}}});\n",
              "\tviewer_17580235332492585.zoomTo();\n",
              "viewer_17580235332492585.render();\n",
              "});\n",
              "</script>"
            ]
          },
          "metadata": {}
        }
      ]
    },
    {
      "cell_type": "code",
      "source": [
        "#@title Define mutation limits\n",
        "\n",
        "conservative_substitutions = {\n",
        "    'A': ['G', 'S', 'T'], # Alanine (small, nonpolar)\n",
        "    'R': ['K', 'H'],     # Arginine (basic, positive)\n",
        "    'N': ['Q', 'S', 'T'], # Asparagine (polar, uncharged)\n",
        "    'D': ['E'],          # Aspartic Acid (acidic, negative)\n",
        "    'C': ['S'],          # Cysteine (sulfur-containing)\n",
        "    'Q': ['N', 'H', 'K', 'R', 'E', 'D'], # Glutamine (polar, uncharged) - larger group due to flexibility\n",
        "    'E': ['D', 'Q', 'N', 'K', 'R', 'H'], # Glutamic Acid (acidic, negative) - larger group due to flexibility\n",
        "    'G': ['A', 'S'],     # Glycine (small, nonpolar)\n",
        "    'H': ['R', 'K', 'N', 'Q'], # Histidine (basic, positive, aromatic)\n",
        "    'I': ['L', 'V', 'M'], # Isoleucine (hydrophobic)\n",
        "    'L': ['I', 'V', 'M'], # Leucine (hydrophobic)\n",
        "    'K': ['R', 'H', 'Q', 'N'], # Lysine (basic, positive)\n",
        "    'M': ['L', 'I', 'V'], # Methionine (hydrophobic, sulfur-containing)\n",
        "    'F': ['Y', 'W'],     # Phenylalanine (aromatic, hydrophobic)\n",
        "    'P': [],             # Proline (cyclic, often disrupts structure - few conservative substitutions)\n",
        "    'S': ['T', 'N', 'Q', 'A', 'G', 'C'], # Serine (polar, uncharged, hydroxyl)\n",
        "    'T': ['S', 'N', 'Q', 'A', 'G'], # Threonine (polar, uncharged, hydroxyl)\n",
        "    'W': ['Y', 'F'],     # Tryptophan (aromatic, hydrophobic, large)\n",
        "    'Y': ['F', 'W'],     # Tyrosine (aromatic, hydrophobic, hydroxyl)\n",
        "    'V': ['I', 'L', 'M']  # Valine (hydrophobic)\n",
        "}\n",
        "\n",
        "all_amino_acids = list(\"ACDEFGHIKLMNPQRSTVWY\")\n",
        "\n",
        "def generate_mutations(dna_sequence, codon_position, conservative_only=True):\n",
        "    \"\"\"\n",
        "    Generates a list of mutated DNA sequences with either conservative or any\n",
        "    amino acid substitutions at a given codon position.\n",
        "\n",
        "    Args:\n",
        "        dna_sequence: The original DNA sequence string.\n",
        "        codon_position: The 0-indexed position of the codon to mutate.\n",
        "        conservative_only: If True, only generates conservative substitutions.\n",
        "                           If False, generates all possible amino acid substitutions.\n",
        "\n",
        "    Returns:\n",
        "        A list of mutated DNA sequences.\n",
        "    \"\"\"\n",
        "    start_index = codon_position * 3\n",
        "    end_index = start_index + 3\n",
        "    original_codon = dna_sequence[start_index:end_index]\n",
        "\n",
        "    if original_codon not in codon_table:\n",
        "        print(f\"Warning: Original codon '{original_codon}' not found in codon table.\")\n",
        "        return []\n",
        "\n",
        "    original_amino_acid = codon_table[original_codon]\n",
        "\n",
        "    possible_sub_aas = []\n",
        "    if conservative_only:\n",
        "        if original_amino_acid in conservative_substitutions:\n",
        "            possible_sub_aas = conservative_substitutions[original_amino_acid]\n",
        "        # Note: If conservative_only is True and no conservative substitutions exist, possible_sub_aas remains empty.\n",
        "    else:\n",
        "        possible_sub_aas = [aa for aa in all_amino_acids if aa != original_amino_acid] # All other amino acids\n",
        "\n",
        "    mutated_sequences = []\n",
        "    for sub_aa in possible_sub_aas:\n",
        "        for codon, aa in codon_table.items():\n",
        "            if aa == sub_aa:\n",
        "                mutated_seq = list(dna_sequence)\n",
        "                mutated_seq[start_index:end_index] = list(codon)\n",
        "                mutated_sequences.append(\"\".join(mutated_seq))\n",
        "\n",
        "    return mutated_sequences\n",
        "\n",
        "# Example usage (assuming original_seq is defined from previous cells)\n",
        "# For testing, let's use the first codon (position 0)\n",
        "# mutated_dna_list = generate_mutations(original_seq, 0, conservative_only=True)\n",
        "# print(f\"Original DNA: {original_seq}\")\n",
        "# print(f\"Mutated DNA sequences (conservative substitutions at position 0):\")\n",
        "# for mut_seq in mutated_dna_list:\n",
        "#     print(mut_seq)\n",
        "\n",
        "# mutated_dna_list_any = generate_mutations(original_seq, 0, conservative_only=False)\n",
        "# print(f\"\\nMutated DNA sequences (any substitutions at position 0):\")\n",
        "# for mut_seq in mutated_dna_list_any:\n",
        "#     print(mut_seq)"
      ],
      "metadata": {
        "cellView": "form",
        "id": "pQjQhtNNhN3l"
      },
      "execution_count": null,
      "outputs": []
    },
    {
      "cell_type": "code",
      "source": [
        "# @title Iterative mutation evolution\n",
        "\n",
        "import numpy as np\n",
        "import numpy.random as random\n",
        "import os, re, requests # Import necessary modules for OmegaFold and file handling\n",
        "from string import ascii_uppercase, ascii_lowercase # Import for chain naming\n",
        "import hashlib # Import for hashing sequence\n",
        "import pickle # Import for saving/loading\n",
        "\n",
        "num_iterations = 500 # @param {type:\"integer\"}\n",
        "save_history = True # @param {type:\"boolean\"}\n",
        "history_filename = \"mutation_history.pkl\" # @param {type:\"string\"}\n",
        "load_history = True # @param {type:\"boolean\"}\n",
        "any_mutation = False # @param {type:\"boolean\"}\n",
        "\n",
        "# Function to get hash for jobname\n",
        "def get_hash(x): return hashlib.sha1(x.encode()).hexdigest()\n",
        "alphabet_list = list(ascii_uppercase+ascii_lowercase)\n",
        "\n",
        "# Load history if requested\n",
        "if load_history and os.path.exists(history_filename):\n",
        "    print(f\"Loading history from {history_filename}\")\n",
        "    with open(history_filename, 'rb') as f:\n",
        "        history = pickle.load(f)\n",
        "    best_dna_sequence = history['best_dna_sequence']\n",
        "    best_protein_sequence = history['best_protein_sequence']\n",
        "    best_total_score = history['best_total_score']\n",
        "    accepted_mutation_scores = history['accepted_mutation_scores']\n",
        "    accepted_sim_scores = history['accepted_sim_scores']\n",
        "    accepted_total_scores = history['accepted_total_scores']\n",
        "    accepted_iterations = history['accepted_iterations']\n",
        "    all_mutation_scores = history['all_mutation_scores']\n",
        "    all_sim_scores = history['all_sim_scores']\n",
        "    all_total_scores = history['all_total_scores']\n",
        "    all_iterations = history['all_iterations']\n",
        "    all_tried_protein_sequences = history['all_tried_protein_sequences']\n",
        "    completed_iters = history['completed_iters']\n",
        "else:\n",
        "    best_dna_sequence = original_seq\n",
        "    best_protein_sequence = str(Bio.Seq.Seq(best_dna_sequence).translate(to_stop=False))\n",
        "    best_total_score = -1\n",
        "\n",
        "    accepted_mutation_scores = []\n",
        "    accepted_sim_scores = []\n",
        "    accepted_total_scores = []\n",
        "    accepted_iterations = []\n",
        "    all_mutation_scores = []\n",
        "    all_sim_scores = []\n",
        "    all_total_scores = []\n",
        "    all_iterations = []\n",
        "\n",
        "    all_tried_protein_sequences = []\n",
        "    all_tried_protein_sequences.append(best_protein_sequence)\n",
        "\n",
        "    completed_iters = 0\n",
        "\n",
        "num_codons = len(original_seq) // 3\n",
        "\n",
        "\n",
        "while completed_iters < num_iterations:\n",
        "    # Choose a random codon position to mutate\n",
        "    random_codon_pos = random.randint(0, num_codons - 1)\n",
        "\n",
        "    # Generate conservative mutations for this position\n",
        "    # This part seems a bit off, it should generate a list and then pick one\n",
        "    mutated_dna_list_single = generate_mutations(best_dna_sequence, random_codon_pos, any_mutation)\n",
        "\n",
        "\n",
        "    if not mutated_dna_list_single:\n",
        "        continue # Skip to the next iteration if no mutations are possible\n",
        "\n",
        "    # Select the first generated mutation (or choose randomly)\n",
        "    single_mutated_dna_seq = random.choice(mutated_dna_list_single) # Use random.choice to pick one mutation\n",
        "    single_mutated_protein_seq = str(Bio.Seq.Seq(single_mutated_dna_seq).translate(to_stop=False))\n",
        "\n",
        "    # Check if protein sequence has been tried before\n",
        "    if single_mutated_protein_seq in all_tried_protein_sequences:\n",
        "        continue\n",
        "\n",
        "    all_tried_protein_sequences.append(single_mutated_protein_seq)\n",
        "\n",
        "    # Predict structure using OmegaFold\n",
        "    # Adapt the OmegaFold execution code from cell CFCwEAa2oZEN\n",
        "    try:\n",
        "        # Generate a unique jobname based on iteration and a hash of the sequence\n",
        "        jobname = f\"iter_{completed_iters}_{get_hash(single_mutated_protein_seq)[:5]}\"\n",
        "        ID = jobname\n",
        "        seqs = single_mutated_protein_seq.split(\":\")\n",
        "        lengths = [len(s) for s in seqs]\n",
        "\n",
        "        # Write fasta file\n",
        "        with open(f\"{ID}.fasta\",\"w\") as out:\n",
        "            out.write(f\">{ID}\\n{single_mutated_protein_seq}\\n\")\n",
        "\n",
        "        # Run OmegaFold command\n",
        "        # Use appropriate parameters, likely inherited from the successful OmegaFold cell\n",
        "        subbatch_size = 1000 # Assuming single chain, length < 500 from previous cell\n",
        "        num_cycle = 2 # Assuming from previous cell\n",
        "        offset_rope = False # Assuming from previous cell\n",
        "        device = \"cuda\" if torch.cuda.is_available() else \"cpu\" # Get device from setup cell\n",
        "\n",
        "        # Execute OmegaFold prediction\n",
        "        # Capture output to keep the notebook clean\n",
        "        with io.capture_output() as captured:\n",
        "            %shell python OmegaFold/main.py --offset_rope={offset_rope} --device={device} --subbatch_size={subbatch_size} --num_cycle={num_cycle} {ID}.fasta .\n",
        "\n",
        "        # Define the predicted PDB file name\n",
        "        single_mutated_pdb_file = f\"{ID}.pdb\"\n",
        "\n",
        "        # Read the predicted PDB file\n",
        "        with open(single_mutated_pdb_file, 'r') as f:\n",
        "            single_mutated_pdb_str = f.read()\n",
        "\n",
        "        # Renumber PDB if necessary (using the function from CFCwEAa2oZEN)\n",
        "        single_mutated_pdb_str = renum_pdb_str(single_mutated_pdb_str, Ls=lengths)\n",
        "        # Save the renumbered PDB string to a file for alignment\n",
        "        with open(single_mutated_pdb_file, \"w\") as out:\n",
        "             out.write(single_mutated_pdb_str)\n",
        "\n",
        "\n",
        "        # Align to reference and calculate RMSD (using the function from c51BDdsXe68l)\n",
        "        aligned_file_single, single_mutated_rmsd_val = align_pred_to_ref(single_mutated_pdb_str, \"reference.pdb\", out_file=f\"{ID}_aligned.pdb\")\n",
        "\n",
        "\n",
        "        # Convert RMSD to similarity score (using the function from c51BDdsXe68l)\n",
        "        single_mutated_pred_sim_score = rmsd_to_similarity(single_mutated_rmsd_val)\n",
        "\n",
        "        # Calculate mutation score (using the function from z3HeD2V8epVW)\n",
        "        single_current_mutation_score = mutation_score(original_seq, single_mutated_dna_seq)\n",
        "\n",
        "        # Calculate total score\n",
        "        single_current_total_score = single_current_mutation_score * single_mutated_pred_sim_score\n",
        "\n",
        "        # Store scores for ALL tried sequences\n",
        "        all_iterations.append(completed_iters + 1)\n",
        "        all_mutation_scores.append(single_current_mutation_score)\n",
        "        all_sim_scores.append(single_mutated_pred_sim_score)\n",
        "        all_total_scores.append(single_current_total_score)\n",
        "\n",
        "        # Print trial sequence and total score\n",
        "        print(f\"Iteration {completed_iters + 1}: Trial Sequence: {single_mutated_protein_seq}, Total Score: {single_current_total_score:.3f}\")\n",
        "\n",
        "        # Acceptance criteria: accept if total score improves or prediction is very similar\n",
        "        if single_current_total_score > best_total_score or single_mutated_pred_sim_score > 0.9:\n",
        "            best_total_score = single_current_total_score\n",
        "            best_dna_sequence = single_mutated_dna_seq\n",
        "            best_protein_sequence = single_mutated_protein_seq\n",
        "\n",
        "            # Store scores for ACCEPTED sequences\n",
        "            accepted_iterations.append(completed_iters + 1)\n",
        "            accepted_mutation_scores.append(single_current_mutation_score)\n",
        "            accepted_sim_scores.append(single_mutated_pred_sim_score)\n",
        "            accepted_total_scores.append(single_current_total_score)\n",
        "\n",
        "            #print(f\"  Accepted mutation. New best total score: {best_total_score:.3f}\")\n",
        "\n",
        "        completed_iters += 1\n",
        "\n",
        "        # Save history\n",
        "        if save_history:\n",
        "            history = {\n",
        "                'best_dna_sequence': best_dna_sequence,\n",
        "                'best_protein_sequence': best_protein_sequence,\n",
        "                'best_total_score': best_total_score,\n",
        "                'accepted_mutation_scores': accepted_mutation_scores,\n",
        "                'accepted_sim_scores': accepted_sim_scores,\n",
        "                'accepted_total_scores': accepted_total_scores,\n",
        "                'accepted_iterations': accepted_iterations,\n",
        "                'all_mutation_scores': all_mutation_scores,\n",
        "                'all_sim_scores': all_sim_scores,\n",
        "                'all_total_scores': all_total_scores,\n",
        "                'all_iterations': all_iterations,\n",
        "                'all_tried_protein_sequences': all_tried_protein_sequences,\n",
        "                'completed_iters': completed_iters\n",
        "            }\n",
        "            with open(history_filename, 'wb') as f:\n",
        "                pickle.dump(history, f)\n",
        "            # Also save as .npy for easier access (optional)\n",
        "            np.save(history_filename.replace('.pkl', '.npy'), history)\n",
        "\n",
        "\n",
        "    except Exception as e:\n",
        "        print(f\"Iteration {completed_iters + 1}: Error processing mutation: {e}. Skipping.\")\n",
        "        completed_iters += 1 # Increment even if error occurs to avoid infinite loops if errors persist\n",
        "        continue # Continue to the next iteration if an error occurs\n",
        "\n",
        "print(\"\\nIterative mutation process complete.\")\n",
        "print(f\"Best Mutated DNA Sequence: {best_dna_sequence}\")\n",
        "print(f\"Best Mutated Protein Sequence: {best_protein_sequence}\")\n",
        "# Recalculate final scores for the best sequence\n",
        "best_mutation_score = mutation_score(original_seq, best_dna_sequence)\n",
        "# To get the final RMSD and prediction similarity score for the best sequence,\n",
        "# you would need to re-run the prediction and alignment for best_protein_sequence\n",
        "# or store these values when the best sequence is updated.\n",
        "# For simplicity, we'll just report the best total score found.\n",
        "print(f\"Best Total Score Found: {best_total_score:.3f}\")\n",
        "print(f\"Total number of tried protein sequences: {len(all_tried_protein_sequences)}\")\n",
        "print(f\"Total number of accepted mutations: {len(accepted_total_scores)}\")"
      ],
      "metadata": {
        "cellView": "form",
        "id": "kHO4EmWdi9CC",
        "colab": {
          "base_uri": "https://localhost:8080/"
        },
        "outputId": "d21f7dc3-6d9d-4c43-cde8-f74f6a543ba6"
      },
      "execution_count": null,
      "outputs": [
        {
          "output_type": "stream",
          "name": "stdout",
          "text": [
            "Loading history from mutation_history.pkl\n",
            "Iteration 201: Trial Sequence: LKVLFLQHGEVHNIADSYASRYIYKKSIAVKA, Total Score: 1.637\n",
            "Iteration 202: Trial Sequence: LKVLFLQHGEVHNIADSYASRYLYKKSIALKA, Total Score: 0.472\n",
            "Iteration 203: Trial Sequence: LKVLFLQHGEVHNIADSYASRYVYKKSIAVKA, Total Score: 2.994\n",
            "Iteration 204: Trial Sequence: LKVLYLQHGEVHNIADSYASRYLYKKSIAVKA, Total Score: 1.818\n",
            "Iteration 205: Trial Sequence: LKVLFLQHGEVHNIADSFASRYLYKKSIAVKA, Total Score: 0.237\n",
            "Iteration 206: Trial Sequence: LKVIFLQHGEVHNIADSYASRYLYKKSIAVKA, Total Score: 0.531\n",
            "Iteration 207: Trial Sequence: LKVLFLQHGEVHNIADSYASRYLYRKSIAVKA, Total Score: 0.519\n",
            "Iteration 208: Trial Sequence: LKVLFLQHGEVHNIAESYASRYLYKKSIAVKA, Total Score: 0.204\n",
            "Iteration 209: Trial Sequence: LKVLFLQHSEVHNIADSYASRYLYKKSIAVKA, Total Score: 0.071\n",
            "Iteration 210: Trial Sequence: LKVLFLQHGEVHNIADSYASRYLFKKSIAVKA, Total Score: 2.654\n",
            "Iteration 211: Trial Sequence: LKVLFLQHGEVHNIADSYASRYLYKKSIAMKA, Total Score: 0.436\n",
            "Iteration 212: Trial Sequence: LKVLFLQHGEVHNIADSYASHYLYKKSIAVKA, Total Score: 2.155\n",
            "Iteration 213: Trial Sequence: LKVLFLQHGEVHNIADSYASRYLYKKSIAVRA, Total Score: 5.331\n",
            "Iteration 214: Trial Sequence: LKVLFLQHGEVHNMADSYASRYLYKKSIAVKA, Total Score: 0.364\n",
            "Iteration 215: Trial Sequence: LKVLFLQHGEVNNIADSYASRYLYKKSIAVKA, Total Score: 0.068\n",
            "Iteration 216: Trial Sequence: LKVLFLQHGEVHTIADSYASRYLYKKSIAVKA, Total Score: 2.452\n",
            "Iteration 217: Trial Sequence: LKILFLQHGEVHNIADSYASRYLYKKSIAVKA, Total Score: 0.400\n",
            "Iteration 218: Trial Sequence: LKVLFLQHGEVHNIADSYASRYLYKKSVAVKA, Total Score: 0.252\n",
            "Iteration 219: Trial Sequence: LKVLFLQHGEVHNIADSYASRYLYNKSIAVKA, Total Score: 1.882\n",
            "Iteration 220: Trial Sequence: LKVLFLQHGEVHNIADNYASRYLYKKSIAVKA, Total Score: 1.401\n",
            "Iteration 221: Trial Sequence: LKVLFLQHGEVHNIADSYASRYLYKKGIAVKA, Total Score: 32.114\n",
            "Iteration 222: Trial Sequence: LRVLFLQHGEVHNIADSYASRYLYKKSIAVKA, Total Score: 0.344\n",
            "Iteration 223: Trial Sequence: LKLLFLQHGEVHNIADSYASRYLYKKSIAVKA, Total Score: 0.087\n",
            "Iteration 224: Trial Sequence: LKVLFLQHGEVHNIADAYASRYLYKKSIAVKA, Total Score: 0.210\n",
            "Iteration 225: Trial Sequence: LKVLFLQHGEVHNIADSYTSRYLYKKSIAVKA, Total Score: 0.307\n",
            "Iteration 226: Trial Sequence: LKVLFLQHGEVHNIGDSYASRYLYKKSIAVKA, Total Score: 0.480\n",
            "Iteration 227: Trial Sequence: LKVLFLQHGEVHNISDSYASRYLYKKSIAVKA, Total Score: 0.285\n",
            "Iteration 228: Trial Sequence: LKVLFLQHGEVHNIADSYASRYLYKRSIAVKA, Total Score: 3.306\n",
            "Iteration 229: Trial Sequence: LKVLFLQHGEVHNIADSYSSRYLYKKSIAVKA, Total Score: 0.119\n",
            "Iteration 230: Trial Sequence: LKVLFLQHGEVHNLADSYASRYLYKKSIAVKA, Total Score: 0.097\n",
            "Iteration 231: Trial Sequence: LKVLFLQHGEVHNIADSYASRYLYKKSIGVKA, Total Score: 0.420\n",
            "Iteration 232: Trial Sequence: LKVLFIQHGEVHNIADSYASRYLYKKSIAVKA, Total Score: 0.984\n",
            "Iteration 233: Trial Sequence: LKVLFLQHGEVHNIADSYASRYLYKKSISVKA, Total Score: 0.348\n",
            "Iteration 234: Trial Sequence: LKVLFLQHGEVHNIADSWASRYLYKKSIAVKA, Total Score: 0.731\n",
            "Iteration 235: Trial Sequence: LKVLFLQHGEVHNIADSYASRYLYKKAIAVKA, Total Score: 35.105\n",
            "Iteration 236: Trial Sequence: LKVLFLQHGEVHNIADSYASRWLYKKSIAVKA, Total Score: 2.075\n",
            "Iteration 237: Trial Sequence: LKVLFLQHGEVHNIADSYAGRYLYKKSIAVKA, Total Score: 0.405\n",
            "Iteration 238: Trial Sequence: LKVLFLQHGEVHNIADSYASRYLYKKSIAVNA, Total Score: 0.457\n",
            "Iteration 239: Trial Sequence: LKVLFLQHGEVHNIADSYASRYLWKKSIAVKA, Total Score: 0.458\n",
            "Iteration 240: Trial Sequence: LKVLFLQHGEVHNIADSYGSRYLYKKSIAVKA, Total Score: 0.109\n",
            "Iteration 241: Trial Sequence: LKVLFLQHGEVHNIADSYAQRYLYKKSIAVKA, Total Score: 0.287\n",
            "Iteration 242: Trial Sequence: LKVLFLQHGEVHNITDSYASRYLYKKSIAVKA, Total Score: 0.205\n",
            "Iteration 243: Trial Sequence: LKVLFLQHGEVHNIADSYASRFLYKKSIAVKA, Total Score: 3.165\n",
            "Iteration 244: Trial Sequence: LKVLFLRHGEVHNIADSYASRYLYKKSIAVKA, Total Score: 8.972\n",
            "Iteration 245: Trial Sequence: LKVLFLQHGEVHNIADSYASRYLYKKSIAIKA, Total Score: 3.366\n",
            "Iteration 246: Trial Sequence: LKVLFLQHGEVHNIADSYASRYLYQKSIAVKA, Total Score: 5.859\n",
            "Iteration 247: Trial Sequence: LKVVFLQHGEVHNIADSYASRYLYKKSIAVKA, Total Score: 32.078\n",
            "Iteration 248: Trial Sequence: LKVLFLQHGEVHNIADSYASRYLYKKSITVKA, Total Score: 0.688\n",
            "Iteration 249: Trial Sequence: LKVLFLQHGEVHNVADSYASRYLYKKSIAVKA, Total Score: 34.150\n",
            "Iteration 250: Trial Sequence: LKVLFLQHGEVRNIADSYASRYLYKKSIAVKA, Total Score: 4.432\n",
            "Iteration 251: Trial Sequence: LKVLFLNHGEVHNIADSYASRYLYKKSIAVKA, Total Score: 0.376\n",
            "Iteration 252: Trial Sequence: LKVLFLQHGELHNIADSYASRYLYKKSIAVKA, Total Score: 0.076\n",
            "Iteration 253: Trial Sequence: LKVLFLQHGEVHNIADSYASRYLYKQSIAVKA, Total Score: 31.643\n",
            "Iteration 254: Trial Sequence: LKVLWLQHGEVHNIADSYASRYLYKKSIAVKA, Total Score: 0.761\n",
            "Iteration 255: Trial Sequence: LKVLFLKHGEVHNIADSYASRYLYKKSIAVKA, Total Score: 34.626\n",
            "Iteration 256: Trial Sequence: LKVLFLQHGHVHNIADSYASRYLYKKSIAVKA, Total Score: 0.416\n",
            "Iteration 257: Trial Sequence: LKVLFLQKGEVHNIADSYASRYLYKKSIAVKA, Total Score: 32.335\n",
            "Iteration 258: Trial Sequence: LKVLFLQHGEIHNIADSYASRYLYKKSIAVKA, Total Score: 1.109\n",
            "Iteration 259: Trial Sequence: LKVLFLQRGEVHNIADSYASRYLYKKSIAVKA, Total Score: 1.611\n",
            "Iteration 260: Trial Sequence: LKVLFLQHGEVHNIADTYASRYLYKKSIAVKA, Total Score: 35.721\n",
            "Iteration 261: Trial Sequence: LKVLFLQHGEVHNIADGYASRYLYKKSIAVKA, Total Score: 34.971\n",
            "Iteration 262: Trial Sequence: MKVLFLQHGEVHNIADSYASRYLYKKSIAVKA, Total Score: 33.402\n",
            "Iteration 263: Trial Sequence: LKVLFLDHGEVHNIADSYASRYLYKKSIAVKA, Total Score: 0.471\n",
            "Iteration 264: Trial Sequence: LKVLFLQHGEVHNIADSYATRYLYKKSIAVKA, Total Score: 35.889\n",
            "Iteration 265: Trial Sequence: LKVLFLQHGEVRNIADSYATRYLYKKSIAVKA, Total Score: 2.064\n",
            "Iteration 266: Trial Sequence: LKVLFLQHGEVHNIADSYATRYLYKRSIAVKA, Total Score: 35.333\n",
            "Iteration 267: Trial Sequence: LKVLFLQHGEVHNIADSYATRYLYRKSIAVKA, Total Score: 0.471\n",
            "Iteration 268: Trial Sequence: LKVLFLQHGEVHNIADSYATRYLYKKSLAVKA, Total Score: 33.756\n",
            "Iteration 269: Trial Sequence: LKVLFLQHGEVHNIADSWATRYLYKKSIAVKA, Total Score: 0.800\n",
            "Iteration 270: Trial Sequence: LHVLFLQHGEVHNIADSYATRYLYKKSIAVKA, Total Score: 0.667\n",
            "Iteration 271: Trial Sequence: LKVLFLQHGEVHTIADSYATRYLYKKSIAVKA, Total Score: 2.371\n",
            "Iteration 272: Trial Sequence: LKVLFLQHGEVHNIADQYATRYLYKKSIAVKA, Total Score: 0.127\n",
            "Iteration 273: Trial Sequence: LNVLFLQHGEVHNIADSYATRYLYKKSIAVKA, Total Score: 37.429\n",
            "Iteration 274: Trial Sequence: LNVLFLQHGEVHNIADSYATRFLYKKSIAVKA, Total Score: 36.027\n",
            "Iteration 275: Trial Sequence: LNVLFLQHGEVHNIADSYATRYLFKKSIAVKA, Total Score: 35.798\n",
            "Iteration 276: Trial Sequence: LNVLFIQHGEVHNIADSYATRYLYKKSIAVKA, Total Score: 6.443\n",
            "Iteration 277: Trial Sequence: LNVLFLQHGEVHNIADSYAGRYLYKKSIAVKA, Total Score: 0.622\n",
            "Iteration 278: Trial Sequence: LNVLFLQHGEVHNISDSYATRYLYKKSIAVKA, Total Score: 39.940\n",
            "Iteration 279: Trial Sequence: LNLLFLQHGEVHNISDSYATRYLYKKSIAVKA, Total Score: 1.234\n",
            "Iteration 280: Trial Sequence: LNVLFLQHGELHNISDSYATRYLYKKSIAVKA, Total Score: 0.210\n",
            "Iteration 281: Trial Sequence: LNVLFLQQGEVHNISDSYATRYLYKKSIAVKA, Total Score: 40.169\n",
            "Iteration 282: Trial Sequence: LNVLFLQQGNVHNISDSYATRYLYKKSIAVKA, Total Score: 0.175\n",
            "Iteration 283: Trial Sequence: LNVLFLQQGEVHNISDSYATRYLYKRSIAVKA, Total Score: 39.595\n",
            "Iteration 284: Trial Sequence: LNVLFLQQGEVHNISDSYATRYLYKKSIAVRA, Total Score: 40.516\n",
            "Iteration 285: Trial Sequence: LNVLFLQQGEVHNISDSYATRYLYKKSIAVHA, Total Score: 2.097\n",
            "Iteration 286: Trial Sequence: LNVLFLQQGEVHNISDSYATRYLYKKSVAVRA, Total Score: 0.364\n",
            "Iteration 287: Trial Sequence: LNVLFLQQGEVHNISDSYAGRYLYKKSIAVRA, Total Score: 1.678\n",
            "Iteration 288: Trial Sequence: LNVLFLQQGEVHNISDSYATRYLYRKSIAVRA, Total Score: 1.690\n",
            "Iteration 289: Trial Sequence: LNVLFLQQGEVHQISDSYATRYLYKKSIAVRA, Total Score: 2.406\n",
            "Iteration 290: Trial Sequence: LNVLFLQQGEVHNISDSYATRYLYKKSISVRA, Total Score: 1.317\n",
            "Iteration 291: Trial Sequence: LNVLFLQQGEVKNISDSYATRYLYKKSIAVRA, Total Score: 0.675\n",
            "Iteration 292: Trial Sequence: LNVLFLQQGEVHNISDSYATRYLYKKSIGVRA, Total Score: 0.635\n",
            "Iteration 293: Trial Sequence: LNVLFLQQGEVHNISDSYATRYMYKKSIAVRA, Total Score: 0.206\n",
            "Iteration 294: Trial Sequence: LNVLFIQQGEVHNISDSYATRYLYKKSIAVRA, Total Score: 1.161\n",
            "Iteration 295: Trial Sequence: LTVLFLQQGEVHNISDSYATRYLYKKSIAVRA, Total Score: 1.707\n",
            "Iteration 296: Trial Sequence: LNVLFLQQGEVHNISDSYATRYLYHKSIAVRA, Total Score: 29.271\n",
            "Iteration 297: Trial Sequence: LNVLFLQHGEVHNISDSYATRYLYKKSIAVRA, Total Score: 24.972\n",
            "Iteration 298: Trial Sequence: LNVLYLQQGEVHNISDSYATRYLYKKSIAVRA, Total Score: 0.253\n",
            "Iteration 299: Trial Sequence: LNVLFLQQGEVHNISDSYATRYLWKKSIAVRA, Total Score: 30.843\n",
            "Iteration 300: Trial Sequence: LNVLFLQQGEVHNISDSYATRYVYKKSIAVRA, Total Score: 1.490\n",
            "Iteration 301: Trial Sequence: LNVLFLQQGEVHNISDSYATRYLYKNSIAVRA, Total Score: 0.737\n",
            "Iteration 302: Trial Sequence: LNVLWLQQGEVHNISDSYATRYLYKKSIAVRA, Total Score: 0.079\n",
            "Iteration 303: Trial Sequence: LNVLFLQQGEVHNISDQYATRYLYKKSIAVRA, Total Score: 2.002\n",
            "Iteration 304: Trial Sequence: LQVLFLQQGEVHNISDSYATRYLYKKSIAVRA, Total Score: 1.117\n",
            "Iteration 305: Trial Sequence: LNVLFLQQGEVHNISDSYASRYLYKKSIAVRA, Total Score: 0.396\n",
            "Iteration 306: Trial Sequence: LNVLFLQQGRVHNISDSYATRYLYKKSIAVRA, Total Score: 0.143\n",
            "Iteration 307: Trial Sequence: LNVLFLQRGEVHNISDSYATRYLYKKSIAVRA, Total Score: 39.353\n",
            "Iteration 308: Trial Sequence: LNVLFLQQGEVQNISDSYATRYLYKKSIAVRA, Total Score: 0.418\n",
            "Iteration 309: Trial Sequence: LNVLFLQQGEVHNISESYATRYLYKKSIAVRA, Total Score: 1.669\n",
            "Iteration 310: Trial Sequence: LNVLFLQQGEVHNISDSYSTRYLYKKSIAVRA, Total Score: 0.321\n",
            "Iteration 311: Trial Sequence: LNVIFLQQGEVHNISDSYATRYLYKKSIAVRA, Total Score: 0.326\n",
            "Iteration 312: Trial Sequence: LNVLFLQQGEVHNISDSYATHYLYKKSIAVRA, Total Score: 1.985\n",
            "Iteration 313: Trial Sequence: LNVLFLQQGEVHNISDSYATRYLYKKGIAVRA, Total Score: 37.435\n",
            "Iteration 314: Trial Sequence: LNVLFLQQGEVHNISDSYTTRYLYKKSIAVRA, Total Score: 2.590\n",
            "Iteration 315: Trial Sequence: LNVLFLQQGEVHNLSDSYATRYLYKKSIAVRA, Total Score: 0.352\n",
            "Iteration 316: Trial Sequence: LNVLFLQQGEVHNISDAYATRYLYKKSIAVRA, Total Score: 1.758\n",
            "Iteration 317: Trial Sequence: LNVLFLQQGEVHNISDSYATRYLYKKSLAVRA, Total Score: 0.808\n",
            "Iteration 318: Trial Sequence: LNVLFLQQGEVHNISDSYATRWLYKKSIAVRA, Total Score: 1.820\n",
            "Iteration 319: Trial Sequence: LSVLFLQQGEVHNISDSYATRYLYKKSIAVRA, Total Score: 1.719\n",
            "Iteration 320: Trial Sequence: LNVLFLQQGEVHNISDSYATRYLYKKAIAVRA, Total Score: 0.377\n",
            "Iteration 321: Trial Sequence: LNVLFLHQGEVHNISDSYATRYLYKKSIAVRA, Total Score: 1.038\n",
            "Iteration 322: Trial Sequence: LNVLFVQQGEVHNISDSYATRYLYKKSIAVRA, Total Score: 1.687\n",
            "Iteration 323: Trial Sequence: LNVLFLQNGEVHNISDSYATRYLYKKSIAVRA, Total Score: 40.394\n",
            "Iteration 324: Trial Sequence: LNVLFLQQGEMHNISDSYATRYLYKKSIAVRA, Total Score: 0.088\n",
            "Iteration 325: Trial Sequence: LNVLFLKQGEVHNISDSYATRYLYKKSIAVRA, Total Score: 2.207\n",
            "Iteration 326: Trial Sequence: INVLFLQQGEVHNISDSYATRYLYKKSIAVRA, Total Score: 1.263\n",
            "Iteration 327: Trial Sequence: LNVLFLQQGKVHNISDSYATRYLYKKSIAVRA, Total Score: 0.036\n",
            "Iteration 328: Trial Sequence: LNVLFLRQGEVHNISDSYATRYLYKKSIAVRA, Total Score: 1.829\n",
            "Iteration 329: Trial Sequence: LNMLFLQQGEVHNISDSYATRYLYKKSIAVRA, Total Score: 0.135\n",
            "Iteration 330: Trial Sequence: LNVLFLQQGEVHNISDSYATRYLYKKSIALRA, Total Score: 0.903\n",
            "Iteration 331: Trial Sequence: VNVLFLQQGEVHNISDSYATRYLYKKSIAVRA, Total Score: 39.411\n",
            "Iteration 332: Trial Sequence: LNLLFLQQGEVHNISDSYATRYLYKKSIAVRA, Total Score: 0.374\n",
            "Iteration 333: Trial Sequence: LNVLFLQQGEVHNISDSYATRFLYKKSIAVRA, Total Score: 1.451\n",
            "Iteration 334: Trial Sequence: LNVLFLQQGEVHNISDSYATRYLYQKSIAVRA, Total Score: 14.183\n",
            "Iteration 335: Trial Sequence: LNVLFLNQGEVHNISDSYATRYLYKKSIAVRA, Total Score: 0.488\n",
            "Iteration 336: Trial Sequence: LNVMFLQQGEVHNISDSYATRYLYKKSIAVRA, Total Score: 1.166\n",
            "Iteration 337: Trial Sequence: LNVLFLQQGEVHNISDSYATRYIYKKSIAVRA, Total Score: 0.709\n",
            "Iteration 338: Trial Sequence: LNVLFLQQGEVHNISDSYATRYLYNKSIAVRA, Total Score: 1.568\n",
            "Iteration 339: Trial Sequence: LNVVFLQQGEVHNISDSYATRYLYKKSIAVRA, Total Score: 38.521\n",
            "Iteration 340: Trial Sequence: LNVLFLQQGEVHNISDSYAQRYLYKKSIAVRA, Total Score: 0.389\n",
            "Iteration 341: Trial Sequence: LNVLFLQQGEVHNISDSFATRYLYKKSIAVRA, Total Score: 1.629\n",
            "Iteration 342: Trial Sequence: LNVLFLQQGEVHNICDSYATRYLYKKSIAVRA, Total Score: 0.243\n",
            "Iteration 343: Trial Sequence: LNVLFLQQGEVHNISDSYATRYLYKKTIAVRA, Total Score: 1.088\n",
            "Iteration 344: Trial Sequence: LNVLFLQEGEVHNISDSYATRYLYKKSIAVRA, Total Score: 32.775\n",
            "Iteration 345: Trial Sequence: LNVLFLQQGEVHNISDSYATKYLYKKSIAVRA, Total Score: 41.170\n",
            "Iteration 346: Trial Sequence: LNVLFLQQGEVHNISDSYATKYLYKKAIAVRA, Total Score: 38.795\n",
            "Iteration 347: Trial Sequence: LNVLFLQQGEVHNITDSYATKYLYKKSIAVRA, Total Score: 1.960\n",
            "Iteration 348: Trial Sequence: LNVLFLQQGEVHNISDSYATKYMYKKSIAVRA, Total Score: 0.039\n",
            "Iteration 349: Trial Sequence: LNVLFLQQGEVHNISESYATKYLYKKSIAVRA, Total Score: 40.982\n",
            "Iteration 350: Trial Sequence: LNVLFLQQGEVKNISDSYATKYLYKKSIAVRA, Total Score: 1.529\n",
            "Iteration 351: Trial Sequence: LNVLFLQQGEVHNISDSYATKWLYKKSIAVRA, Total Score: 31.673\n",
            "Iteration 352: Trial Sequence: LNVLFLQQGEVRNISDSYATKYLYKKSIAVRA, Total Score: 1.566\n",
            "Iteration 353: Trial Sequence: LNLLFLQQGEVHNISDSYATKYLYKKSIAVRA, Total Score: 2.504\n",
            "Iteration 354: Trial Sequence: LNVLFLQQGEVHNISDSWATKYLYKKSIAVRA, Total Score: 1.626\n",
            "Iteration 355: Trial Sequence: LNVLFLQQGEVHNISDGYATKYLYKKSIAVRA, Total Score: 1.931\n",
            "Iteration 356: Trial Sequence: LNVLFLQQGEVHNISDSYAGKYLYKKSIAVRA, Total Score: 38.709\n",
            "Iteration 357: Trial Sequence: LNVLFLQQGHVHNISDSYATKYLYKKSIAVRA, Total Score: 0.419\n",
            "Iteration 358: Trial Sequence: LNVLFLQQGEVHNISDSYATKYLYKRSIAVRA, Total Score: 39.544\n",
            "Iteration 359: Trial Sequence: LNVLFLQQGEVHNISDSYTTKYLYKKSIAVRA, Total Score: 0.072\n",
            "Iteration 360: Trial Sequence: LNVLFLQQGEVHNISDSYATKYLFKKSIAVRA, Total Score: 38.677\n",
            "Iteration 361: Trial Sequence: LNVLFLQQGEVHNISDSYATKYLWKKSIAVRA, Total Score: 37.477\n",
            "Iteration 362: Trial Sequence: LNVLFVQQGEVHNISDSYATKYLYKKSIAVRA, Total Score: 1.873\n",
            "Iteration 363: Trial Sequence: LNVIFLQQGEVHNISDSYATKYLYKKSIAVRA, Total Score: 34.461\n",
            "Iteration 364: Trial Sequence: LNVLFLQQSEVHNISDSYATKYLYKKSIAVRA, Total Score: 0.163\n",
            "Iteration 365: Trial Sequence: LNVLFLQQGEVHNISDSYATKYLYKKNIAVRA, Total Score: 39.216\n",
            "Iteration 366: Trial Sequence: LNVLFLQQGEVHNISDSYATKYLYKKSITVRA, Total Score: 0.454\n",
            "Iteration 367: Trial Sequence: LNVLFLQQGKVHNISDSYATKYLYKKSIAVRA, Total Score: 0.245\n",
            "Iteration 368: Trial Sequence: LNVLFLQQGEVHNISDSYATNYLYKKSIAVRA, Total Score: 39.647\n",
            "Iteration 369: Trial Sequence: LNVLFLQQGEVHNISDSYATKYLYKNSIAVRA, Total Score: 37.857\n",
            "Iteration 370: Trial Sequence: LNVVFLQQGEVHNISDSYATKYLYKKSIAVRA, Total Score: 36.968\n",
            "Iteration 371: Trial Sequence: LNVLFLQQGEVHNISDSYATKFLYKKSIAVRA, Total Score: 37.538\n",
            "Iteration 372: Trial Sequence: LNVLFLQQGEVHNLSDSYATKYLYKKSIAVRA, Total Score: 1.865\n",
            "Iteration 373: Trial Sequence: LNVLFLQQGEVHNISDSYATKYLYKKSIAVKA, Total Score: 39.156\n",
            "Iteration 374: Trial Sequence: LNVLFLQQGEVHNISDSYGTKYLYKKSIAVRA, Total Score: 0.246\n",
            "Iteration 375: Trial Sequence: LNVLFLQQGEVHNISDSYAAKYLYKKSIAVRA, Total Score: 2.212\n",
            "Iteration 376: Trial Sequence: LNVLFLRQGEVHNISDSYATKYLYKKSIAVRA, Total Score: 39.949\n",
            "Iteration 377: Trial Sequence: LNVLFLQQGEVHNISDSYATKYLYKKTIAVRA, Total Score: 40.679\n",
            "Iteration 378: Trial Sequence: LNVLYLQQGEVHNISDSYATKYLYKKSIAVRA, Total Score: 36.508\n",
            "Iteration 379: Trial Sequence: LNVLFLQQGEVHTISDSYATKYLYKKSIAVRA, Total Score: 41.461\n",
            "Iteration 380: Trial Sequence: LSVLFLQQGEVHTISDSYATKYLYKKSIAVRA, Total Score: 2.421\n",
            "Iteration 381: Trial Sequence: LNVLFLQQGEVHTISDSYATKYLYKKSLAVRA, Total Score: 1.928\n",
            "Iteration 382: Trial Sequence: LNVLFLQQGEVHTISDSYATKYLYKNSIAVRA, Total Score: 2.253\n",
            "Iteration 383: Trial Sequence: LNVLFLQQGEVHTISDSYATKYLYKQSIAVRA, Total Score: 38.481\n",
            "Iteration 384: Trial Sequence: LNVLFLQQGEVHTISDSYATKYLYKKNIAVRA, Total Score: 41.498\n",
            "Iteration 385: Trial Sequence: LNVLFLEQGEVHTISDSYATKYLYKKNIAVRA, Total Score: 43.021\n",
            "Iteration 386: Trial Sequence: LNVLFLEQGEVHTISESYATKYLYKKNIAVRA, Total Score: 43.910\n",
            "Iteration 387: Trial Sequence: LNVLFLEQGEVHTISESYATHYLYKKNIAVRA, Total Score: 6.112\n",
            "Iteration 388: Trial Sequence: LNVLFLEQGEVHNISESYATKYLYKKNIAVRA, Total Score: 41.505\n",
            "Iteration 389: Trial Sequence: LNVVFLEQGEVHTISESYATKYLYKKNIAVRA, Total Score: 39.396\n",
            "Iteration 390: Trial Sequence: LNVLFLEQGEIHTISESYATKYLYKKNIAVRA, Total Score: 3.228\n",
            "Iteration 391: Trial Sequence: LNVLFLEQGEVHTISESYATKYLYHKNIAVRA, Total Score: 45.632\n",
            "Iteration 392: Trial Sequence: LNVLFLEQGEVHTISESYATKYLYHKNIAVKA, Total Score: 44.789\n",
            "Iteration 393: Trial Sequence: LNVLFLEQGEVHTISRSYATKYLYHKNIAVRA, Total Score: 46.074\n",
            "Iteration 394: Trial Sequence: LNVLFLEQGEVRTISRSYATKYLYHKNIAVRA, Total Score: 46.245\n",
            "Iteration 395: Trial Sequence: LNVLFLEQGEVRTISRSYATKFLYHKNIAVRA, Total Score: 43.421\n",
            "Iteration 396: Trial Sequence: LNVLFLEQGEVRTISHSYATKYLYHKNIAVRA, Total Score: 43.910\n",
            "Iteration 397: Trial Sequence: LNVLFLEQGELRTISRSYATKYLYHKNIAVRA, Total Score: 8.190\n",
            "Iteration 398: Trial Sequence: LNVLFLEQGEVRTISRSWATKYLYHKNIAVRA, Total Score: 5.071\n",
            "Iteration 399: Trial Sequence: LNVLFLEQGEVRTISRSYATKYLYHKNIGVRA, Total Score: 5.053\n",
            "Iteration 400: Trial Sequence: LNVLFLEQGEVRTISRSYANKYLYHKNIAVRA, Total Score: 42.254\n",
            "Iteration 401: Trial Sequence: VNVLFLEQGEVRTISRSYATKYLYHKNIAVRA, Total Score: 46.677\n",
            "Iteration 402: Trial Sequence: VNVLFLEQGEVRTISRSYATHYLYHKNIAVRA, Total Score: 5.484\n",
            "Iteration 403: Trial Sequence: VNLLFLEQGEVRTISRSYATKYLYHKNIAVRA, Total Score: 44.895\n",
            "Iteration 404: Trial Sequence: VNVLFLEQGEVRTICRSYATKYLYHKNIAVRA, Total Score: 1.847\n",
            "Iteration 405: Trial Sequence: VNVLFLEQGEVRTISRSFATKYLYHKNIAVRA, Total Score: 4.225\n",
            "Iteration 406: Trial Sequence: VNVLFLEQGEVRTISRSYATKYLYHKNIGVRA, Total Score: 4.601\n",
            "Iteration 407: Trial Sequence: VNVIFLEQGEVRTISRSYATKYLYHKNIAVRA, Total Score: 4.782\n",
            "Iteration 408: Trial Sequence: VNVLFLEQGEVRTISRSYATKYLFHKNIAVRA, Total Score: 44.698\n",
            "Iteration 409: Trial Sequence: VNVLFLEQGEVRTISRSYATKFLYHKNIAVRA, Total Score: 44.780\n",
            "Iteration 410: Trial Sequence: VNVLFLEQGEVRTISRSYATKYLYHKNIALRA, Total Score: 3.658\n",
            "Iteration 411: Trial Sequence: VNVLFLEQGEVRTISRSYATKYLYHKTIAVRA, Total Score: 2.190\n",
            "Iteration 412: Trial Sequence: VNVMFLEQGEVRTISRSYATKYLYHKNIAVRA, Total Score: 4.186\n",
            "Iteration 413: Trial Sequence: VNVLFLEQGEVRTISKSYATKYLYHKNIAVRA, Total Score: 45.963\n",
            "Iteration 414: Trial Sequence: VNVLFLEQGEVRTISRSYAGKYLYHKNIAVRA, Total Score: 6.098\n",
            "Iteration 415: Trial Sequence: VNVLFLEQGEVRTISRSYATKYLYHQNIAVRA, Total Score: 43.559\n",
            "Iteration 416: Trial Sequence: VNVLFLEQGEVRTISRSYATKYLYQKNIAVRA, Total Score: 46.596\n",
            "Iteration 417: Trial Sequence: VNVLFLEQGEVRTISRSYATKYLYHKNITVRA, Total Score: 5.224\n",
            "Iteration 418: Trial Sequence: VNVVFLEQGEVRTISRSYATKYLYHKNIAVRA, Total Score: 41.798\n",
            "Iteration 419: Trial Sequence: VNVLFLEQGQVRTISRSYATKYLYHKNIAVRA, Total Score: 3.600\n",
            "Iteration 420: Trial Sequence: VNVLFLEQGEVRTVSRSYATKYLYHKNIAVRA, Total Score: 46.132\n",
            "Iteration 421: Trial Sequence: VNVLFLEQGEVRTISRSYATKYLYHHNIAVRA, Total Score: 46.957\n",
            "Iteration 422: Trial Sequence: VSVLFLEQGEVRTISRSYATKYLYHHNIAVRA, Total Score: 4.003\n",
            "Iteration 423: Trial Sequence: VNVLFLEQGEVRTISKSYATKYLYHHNIAVRA, Total Score: 46.293\n",
            "Iteration 424: Trial Sequence: VNVLFLEQGEVRTISRSYATKYLYHHNIALRA, Total Score: 4.561\n",
            "Iteration 425: Trial Sequence: VNVVFLEQGEVRTISRSYATKYLYHHNIAVRA, Total Score: 3.549\n",
            "Iteration 426: Trial Sequence: LNVLFLEQGEVRTISRSYATKYLYHHNIAVRA, Total Score: 44.952\n",
            "Iteration 427: Trial Sequence: VNVLFLEQGEVRTISRSYATKYLYKHNIAVRA, Total Score: 5.042\n",
            "Iteration 428: Trial Sequence: VNVLFLERGEVRTISRSYATKYLYHHNIAVRA, Total Score: 47.330\n",
            "Iteration 429: Trial Sequence: VNVLFLERGEVRTISRSYATKYLYHHNIGVRA, Total Score: 4.809\n",
            "Iteration 430: Trial Sequence: VNVMFLERGEVRTISRSYATKYLYHHNIAVRA, Total Score: 4.360\n",
            "Iteration 431: Trial Sequence: VQVLFLERGEVRTISRSYATKYLYHHNIAVRA, Total Score: 7.395\n",
            "Iteration 432: Trial Sequence: VNVLFLERGEVKTISRSYATKYLYHHNIAVRA, Total Score: 45.743\n",
            "Iteration 433: Trial Sequence: VTVLFLERGEVRTISRSYATKYLYHHNIAVRA, Total Score: 3.871\n",
            "Iteration 434: Trial Sequence: VNVLFLERGEVRSISRSYATKYLYHHNIAVRA, Total Score: 3.607\n",
            "Iteration 435: Trial Sequence: VNVLFLEHGEVRTISRSYATKYLYHHNIAVRA, Total Score: 45.685\n",
            "Iteration 436: Trial Sequence: VNVLFLHRGEVRTISRSYATKYLYHHNIAVRA, Total Score: 5.262\n",
            "Iteration 437: Trial Sequence: VNVLFLERGEVRTVSRSYATKYLYHHNIAVRA, Total Score: 45.761\n",
            "Iteration 438: Trial Sequence: VNVLFLERGEVRTISKSYATKYLYHHNIAVRA, Total Score: 46.848\n",
            "Iteration 439: Trial Sequence: VNVLFLERGEVRTISRNYATKYLYHHNIAVRA, Total Score: 4.410\n",
            "Iteration 440: Trial Sequence: VNVLFLERGEVRTISRSYATKYMYHHNIAVRA, Total Score: 5.634\n",
            "Iteration 441: Trial Sequence: VNVLFLERGEVRTISRCYATKYLYHHNIAVRA, Total Score: 5.805\n",
            "Iteration 442: Trial Sequence: VNVLFLERGNVRTISRSYATKYLYHHNIAVRA, Total Score: 4.674\n",
            "Iteration 443: Trial Sequence: VNVLFLERGEVRTISRSYATKYLYHHNVAVRA, Total Score: 23.573\n",
            "Iteration 444: Trial Sequence: VNVLFLERGEVRTISRSYATKYLYHHNIAVHA, Total Score: 3.783\n",
            "Iteration 445: Trial Sequence: VNVVFLERGEVRTISRSYATKYLYHHNIAVRA, Total Score: 4.480\n",
            "Iteration 446: Trial Sequence: VNVLFLERGEVRTISRSYATKYLYHRNIAVRA, Total Score: 46.917\n",
            "Iteration 447: Trial Sequence: VNVLFLERAEVRTISRSYATKYLYHHNIAVRA, Total Score: 0.291\n",
            "Iteration 448: Trial Sequence: VNVLFLERGEVRTISRSYATKYLYHHNITVRA, Total Score: 4.740\n",
            "Iteration 449: Trial Sequence: VNVLFLERGEVRTIGRSYATKYLYHHNIAVRA, Total Score: 4.787\n",
            "Iteration 450: Trial Sequence: VNVLFLERGEVRTISRSYATKYLFHHNIAVRA, Total Score: 45.205\n",
            "Iteration 451: Trial Sequence: VNVLFLERGEVRTISRSYGTKYLYHHNIAVRA, Total Score: 4.876\n",
            "Iteration 452: Trial Sequence: VNVLFLERGEVRTISRSFATKYLYHHNIAVRA, Total Score: 4.941\n",
            "Iteration 453: Trial Sequence: VNVLFLERGEVRQISRSYATKYLYHHNIAVRA, Total Score: 3.191\n",
            "Iteration 454: Trial Sequence: VNMLFLERGEVRTISRSYATKYLYHHNIAVRA, Total Score: 3.777\n",
            "Iteration 455: Trial Sequence: VNVLYLERGEVRTISRSYATKYLYHHNIAVRA, Total Score: 4.095\n",
            "Iteration 456: Trial Sequence: INVLFLERGEVRTISRSYATKYLYHHNIAVRA, Total Score: 46.967\n",
            "Iteration 457: Trial Sequence: VNVLFLERGEVRTISRSYATKYLYHHTIAVRA, Total Score: 2.184\n",
            "Iteration 458: Trial Sequence: VNVLFLERGEVRTISRSYATKYLYHHNIALRA, Total Score: 4.720\n",
            "Iteration 459: Trial Sequence: VNVLFLERGEVRTLSRSYATKYLYHHNIAVRA, Total Score: 5.047\n",
            "Iteration 460: Trial Sequence: VNVLFLERGEVRTISRSYATKYLYHHNIAIRA, Total Score: 3.943\n",
            "Iteration 461: Trial Sequence: VNVLFLERGEVRTISRSYATKYLYHHNLAVRA, Total Score: 45.779\n",
            "Iteration 462: Trial Sequence: VNVLFLERGEVRGISRSYATKYLYHHNIAVRA, Total Score: 4.710\n",
            "Iteration 463: Trial Sequence: VNVLFLERGEVRTISRSYATKYLYNHNIAVRA, Total Score: 3.502\n",
            "Iteration 464: Trial Sequence: VNVLFLERGEVRTISRSWATKYLYHHNIAVRA, Total Score: 4.897\n",
            "Iteration 465: Trial Sequence: VNILFLERGEVRTISRSYATKYLYHHNIAVRA, Total Score: 3.224\n",
            "Iteration 466: Trial Sequence: VNVLWLERGEVRTISRSYATKYLYHHNIAVRA, Total Score: 4.410\n",
            "Iteration 467: Trial Sequence: VNVLFLERGRVRTISRSYATKYLYHHNIAVRA, Total Score: 5.462\n",
            "Iteration 468: Trial Sequence: VNVLFLERGELRTISRSYATKYLYHHNIAVRA, Total Score: 3.234\n",
            "Iteration 469: Trial Sequence: VNVLFLERGEVRAISRSYATKYLYHHNIAVRA, Total Score: 3.384\n",
            "Iteration 470: Trial Sequence: VNVLFLERGEVRTISRSYSTKYLYHHNIAVRA, Total Score: 10.056\n",
            "Iteration 471: Trial Sequence: VNVLFLERGEVRTISRSYATKWLYHHNIAVRA, Total Score: 4.083\n",
            "Iteration 472: Trial Sequence: VNVLFLERGEVHTISRSYATKYLYHHNIAVRA, Total Score: 46.487\n",
            "Iteration 473: Trial Sequence: VNVLFLERGDVRTISRSYATKYLYHHNIAVRA, Total Score: 49.330\n",
            "Iteration 474: Trial Sequence: VNVLFLERGDVRGISRSYATKYLYHHNIAVRA, Total Score: 0.923\n",
            "Iteration 475: Trial Sequence: VNVLFLERGDVRTISRSYATRYLYHHNIAVRA, Total Score: 4.977\n",
            "Iteration 476: Trial Sequence: VNVVFLERGDVRTISRSYATKYLYHHNIAVRA, Total Score: 40.633\n",
            "Iteration 477: Trial Sequence: VNVIFLERGDVRTISRSYATKYLYHHNIAVRA, Total Score: 9.513\n",
            "Iteration 478: Trial Sequence: VNVLWLERGDVRTISRSYATKYLYHHNIAVRA, Total Score: 0.532\n",
            "Iteration 479: Trial Sequence: VNVLFLDRGDVRTISRSYATKYLYHHNIAVRA, Total Score: 7.909\n",
            "Iteration 480: Trial Sequence: VNVLFLERGDVRTISRSYATKYLYHNNIAVRA, Total Score: 48.977\n",
            "Iteration 481: Trial Sequence: VNVLFLERGDVRTISRSYATKYLYHHNIAVHA, Total Score: 8.907\n",
            "Iteration 482: Trial Sequence: VNVLFLERGDVRTISRSYATKYLYHHNIAIRA, Total Score: 44.955\n",
            "Iteration 483: Trial Sequence: VNVLFLERGDVKTISRSYATKYLYHHNIAVRA, Total Score: 47.118\n",
            "Iteration 484: Trial Sequence: VNVLFLERGDVRTISRSYATKYLYHHTIAVRA, Total Score: 1.326\n",
            "Iteration 485: Trial Sequence: VNVLFLERADVRTISRSYATKYLYHHNIAVRA, Total Score: 1.107\n",
            "Iteration 486: Trial Sequence: VNVLFLERGDVRTISRTYATKYLYHHNIAVRA, Total Score: 50.148\n",
            "Iteration 487: Trial Sequence: VNVLFLERSDVRTISRTYATKYLYHHNIAVRA, Total Score: 0.253\n",
            "Iteration 488: Trial Sequence: VNVLFLERGEVRTISRTYATKYLYHHNIAVRA, Total Score: 48.598\n",
            "Iteration 489: Trial Sequence: VNVIFLERGDVRTISRTYATKYLYHHNIAVRA, Total Score: 35.171\n",
            "Iteration 490: Trial Sequence: VNVLFLERGDVRTISRTYATKYIYHHNIAVRA, Total Score: 6.835\n",
            "Iteration 491: Trial Sequence: VNVLFLEHGDVRTISRTYATKYLYHHNIAVRA, Total Score: 48.934\n",
            "Iteration 492: Trial Sequence: VNVLFLERGDVRTISRTYATKYLYRHNIAVRA, Total Score: 7.202\n",
            "Iteration 493: Trial Sequence: VNVLFLERGDVRTISRTYATKFLYHHNIAVRA, Total Score: 47.896\n",
            "Iteration 494: Trial Sequence: VNVLFLERGDLRTISRTYATKYLYHHNIAVRA, Total Score: 7.132\n",
            "Iteration 495: Trial Sequence: VNVLFLERGDVRTISRTYATKYLYHRNIAVRA, Total Score: 48.891\n",
            "Iteration 496: Trial Sequence: VNVLFLERGDMRTISRTYATKYLYHHNIAVRA, Total Score: 6.822\n",
            "Iteration 497: Trial Sequence: VNVLFLERGDVRTISRTFATKYLYHHNIAVRA, Total Score: 6.563\n",
            "Iteration 498: Trial Sequence: VNVLFLERGDVRTISRTYATKYLYHHTIAVRA, Total Score: 0.481\n",
            "Iteration 499: Trial Sequence: VNVLFLERGDVRTISRTYATKYVYHHNIAVRA, Total Score: 6.777\n",
            "Iteration 500: Trial Sequence: VNVLFLERGDVRTLSRTYATKYLYHHNIAVRA, Total Score: 2.396\n",
            "\n",
            "Iterative mutation process complete.\n",
            "Best Mutated DNA Sequence: GTGAACGTGCTATTTCTGGAACGTGGCGACGTCAGAACCATTAGCCGGACTTATGCGACGAAATATCTGTATCATCATAACATTGCGGTCCGTGCG\n",
            "Best Mutated Protein Sequence: VNVLFLERGDVRTISRTYATKYLYHHNIAVRA\n",
            "Best Total Score Found: 50.148\n",
            "Total number of tried protein sequences: 501\n",
            "Total number of accepted mutations: 42\n"
          ]
        }
      ]
    },
    {
      "cell_type": "code",
      "metadata": {
        "colab": {
          "base_uri": "https://localhost:8080/",
          "height": 1000
        },
        "collapsed": true,
        "id": "1749ea61",
        "outputId": "f3265f80-9a7a-4ad7-adf9-34cbcd5cd933"
      },
      "source": [
        "#@title Print full mutation history\n",
        "\n",
        "from IPython.display import display, HTML\n",
        "import numpy as np\n",
        "\n",
        "# Assuming the history dictionary is loaded from the previous cell\n",
        "# history = np.load(history_filename.replace('.pkl', '.npy'), allow_pickle=True).item()\n",
        "\n",
        "all_iterations = history['all_iterations']\n",
        "all_total_scores = history['all_total_scores']\n",
        "all_tried_protein_sequences = history['all_tried_protein_sequences'] # These are already protein sequences\n",
        "\n",
        "accepted_iterations = history['accepted_iterations']\n",
        "accepted_total_scores = history['accepted_total_scores']\n",
        "\n",
        "\n",
        "# Function to format text with color and bold\n",
        "def colored_text(text, color):\n",
        "    return f\"<span style='color:{color};font-weight:bold'>{text}</span>\"\n",
        "\n",
        "def highlight_mutation(original_seq, mutated_seq, color):\n",
        "    \"\"\"Highlights the first different character in mutated_seq with the specified color and bold.\"\"\"\n",
        "    highlighted_seq = []\n",
        "    found_mutation = False\n",
        "    for i in range(len(original_seq)):\n",
        "        # Ensure we don't go out of bounds if sequences have different lengths\n",
        "        if i < len(mutated_seq):\n",
        "            # Check if the characters are different AND we haven't found the first mutation yet\n",
        "            if original_seq[i] != mutated_seq[i] and not found_mutation:\n",
        "                highlighted_seq.append(colored_text(mutated_seq[i], color))\n",
        "                found_mutation = True\n",
        "            else:\n",
        "                highlighted_seq.append(mutated_seq[i])\n",
        "        # If mutated_seq is shorter, just append the rest of the original (shouldn't happen with current logic)\n",
        "        # else:\n",
        "        #    highlighted_seq.append(original_seq[i])\n",
        "\n",
        "\n",
        "    return \"\".join(highlighted_seq)\n",
        "\n",
        "\n",
        "print(\"Mutation History:\")\n",
        "\n",
        "# Initialize best score from history or -1 if history is empty\n",
        "best_score_so_far = history['best_total_score'] if 'best_total_score' in history else -1\n",
        "\n",
        "# Keep track of the last accepted protein sequence\n",
        "last_accepted_protein_sequence = history['all_tried_protein_sequences'][0] # Start with the original sequence\n",
        "\n",
        "\n",
        "# Iterate through all tried sequences starting from the second one (index 1)\n",
        "for i in range(len(all_iterations)): # Iterate through all iterations (which correspond to trials after the first)\n",
        "    iteration = all_iterations[i]\n",
        "    current_protein_sequence = all_tried_protein_sequences[i+1] # Trial sequences are at index i+1\n",
        "\n",
        "    # The total score for the current sequence is in all_total_scores at index i\n",
        "    total_score = all_total_scores[i]\n",
        "\n",
        "\n",
        "    # Determine the color for highlighting the mutated amino acid\n",
        "    highlight_color = 'red'  # Default color for rejected\n",
        "    is_accepted = all_iterations[i] in accepted_iterations\n",
        "    if is_accepted:\n",
        "        highlight_color = 'blue'\n",
        "        # Note: The comparison for highlighting is still against the *last accepted* sequence\n",
        "        # even if the current one is now the new *last accepted*. This shows the change\n",
        "        # from the previous accepted state.\n",
        "\n",
        "\n",
        "    # Highlight the mutated amino acid by comparing to the LAST ACCEPTED sequence\n",
        "    highlighted_sequence = highlight_mutation(last_accepted_protein_sequence, current_protein_sequence, highlight_color)\n",
        "\n",
        "    # Update the last accepted sequence *after* highlighting if the current one was accepted\n",
        "    if is_accepted:\n",
        "         last_accepted_protein_sequence = current_protein_sequence\n",
        "\n",
        "\n",
        "    score_text = f\"Total Score: {total_score:.3f}\"\n",
        "    # Color the score text blue if accepted, green if a new best score, otherwise uncolored.\n",
        "    if is_accepted:\n",
        "        score_text = colored_text(score_text, 'blue')\n",
        "    # Check against the overall best score found so far, not just the last accepted score\n",
        "    if total_score > best_score_so_far:\n",
        "        score_text = colored_text(score_text, 'blue') # New best score takes precedence for coloring\n",
        "        best_score_so_far = total_score # Update best score for comparison\n",
        "\n",
        "\n",
        "    output_line = f\"Iteration {iteration}: Trial Sequence: {highlighted_sequence}, {score_text}\"\n",
        "\n",
        "    # Display the line without coloring the entire line\n",
        "    display(HTML(f\"<pre style='font-family:monospace'>{output_line}</pre>\"))\n",
        "\n",
        "\n",
        "print(\"\\nHistory printing complete.\")\n",
        "\n",
        "print(\"\\nComparison: Original Sequence vs Best Found Sequence\")\n",
        "# Assuming original_seq (DNA) and best_protein_sequence (Protein) are available\n",
        "# Need to translate original_seq to protein for comparison\n",
        "original_protein_seq = str(Bio.Seq.Seq(original_seq).translate(to_stop=False))\n",
        "best_protein_sequence = history['best_protein_sequence']\n",
        "\n",
        "# Use the compare_sequences function from cell z3HeD2V8epVW\n",
        "# Need to ensure compare_sequences is defined in the environment or copied here\n",
        "# Assuming it's defined globally or in a preceding cell that has been run\n",
        "\n",
        "# To use compare_sequences with protein sequences, we need to adapt it slightly\n",
        "# or call it with appropriate parameters. The original compare_sequences is designed\n",
        "# for DNA with spaces every 10 or codons every 3. For protein, we might just want\n",
        "# to show the sequences and highlight differences.\n",
        "# Let's create a simple comparison display for protein sequences\n",
        "\n",
        "def codon_optimize(ori_dna_seq, dna_seq):\n",
        "    num_codons = len(dna_seq) // 3\n",
        "    opti_mutated_dna_seq_list = list(dna_seq)\n",
        "    for pos in range(num_codons):\n",
        "            # Look for synonymous codons that score higher\n",
        "            mutated_codon = \"\".join(opti_mutated_dna_seq_list[pos*3:pos*3+3]) # Get codon from list\n",
        "            original_codon = ori_dna_seq[pos*3:pos*3+3] # Original codon (string)\n",
        "\n",
        "            # Handle potential issues if codon not in table (though unlikely with A,T,C,G input)\n",
        "            if mutated_codon not in codon_table:\n",
        "                continue\n",
        "\n",
        "            mutated_aa = codon_table[mutated_codon]\n",
        "            d = 0\n",
        "            best_codon = mutated_codon\n",
        "            for codon, aa in codon_table.items():\n",
        "                if aa == mutated_aa:\n",
        "                    d_c = codon_distance(codon, mutated_codon)\n",
        "                    if d_c > d:\n",
        "                        d = d_c\n",
        "                        best_codon = codon\n",
        "\n",
        "            # Apply the best codon (if a better one exists) to the optimized list\n",
        "            if best_codon != mutated_codon:\n",
        "                opti_mutated_dna_seq_list[pos*3:pos*3+3] = list(best_codon)\n",
        "\n",
        "    return \"\".join(opti_mutated_dna_seq_list) # Return string\n",
        "\n",
        "def compare_protein_sequences_display(seq1, seq2):\n",
        "    \"\"\"\n",
        "    Display two protein sequences, highlight differences in bold red.\n",
        "    \"\"\"\n",
        "    if len(seq1) != len(seq2):\n",
        "        print(\"Warning: Sequences have different lengths and cannot be compared directly.\")\n",
        "        print(f\"Original: {seq1}\")\n",
        "        print(f\"Best:     {seq2}\")\n",
        "        return\n",
        "\n",
        "    highlighted_seq1 = []\n",
        "    highlighted_seq2 = []\n",
        "    for i in range(len(seq1)):\n",
        "        if seq1[i] != seq2[i]:\n",
        "            highlighted_seq1.append(seq1[i])\n",
        "            highlighted_seq2.append(colored_text(seq2[i], 'red'))\n",
        "        else:\n",
        "            highlighted_seq1.append(seq1[i])\n",
        "            highlighted_seq2.append(seq2[i])\n",
        "\n",
        "    display(HTML(f\"<pre style='font-family:monospace'>Original Protein: {\"\".join(highlighted_seq1)}</pre>\"))\n",
        "    display(HTML(f\"<pre style='font-family:monospace'>Best Protein:     {\"\".join(highlighted_seq2)}</pre>\"))\n",
        "\n",
        "# Add a function to compare DNA sequences with codon highlighting\n",
        "def compare_dna_sequences_display(seq1, seq2, codon_table):\n",
        "    \"\"\"\n",
        "    Display two DNA sequences, highlight different codons in bold red.\n",
        "    Assumes sequences are divisible by 3.\n",
        "    \"\"\"\n",
        "    if len(seq1) != len(seq2) or len(seq1) % 3 != 0:\n",
        "        print(\"Warning: DNA sequences must be the same length and divisible by 3.\")\n",
        "        return\n",
        "\n",
        "    highlighted_seq1 = []\n",
        "    highlighted_seq2 = []\n",
        "    for i in range(0, len(seq1), 3):\n",
        "        codon1 = seq1[i:i+3]\n",
        "        codon2 = seq2[i:i+3]\n",
        "        if codon1 != codon2:\n",
        "            highlighted_seq1.append(codon1)\n",
        "            highlighted_seq2.append(colored_text(codon2, 'red'))\n",
        "        else:\n",
        "            highlighted_seq1.append(codon1)\n",
        "            highlighted_seq2.append(codon2)\n",
        "        if i + 3 < len(seq1):\n",
        "            highlighted_seq1.append(\" \")\n",
        "            highlighted_seq2.append(\" \")\n",
        "\n",
        "    display(HTML(f\"<pre style='font-family:monospace'>Original DNA: {\"\".join(highlighted_seq1)}</pre>\"))\n",
        "    display(HTML(f\"<pre style='font-family:monospace'>Best DNA:     {\"\".join(highlighted_seq2)}</pre>\"))\n",
        "\n",
        "\n",
        "compare_protein_sequences_display(original_protein_seq, best_protein_sequence)\n",
        "compare_dna_sequences_display(original_seq.replace(\" \", \"\"), best_dna_sequence, codon_table) # Pass codon_table\n",
        "\n",
        "opti_best_dna = codon_optimize(original_seq.replace(\" \", \"\"),best_dna_sequence)\n",
        "_,t_d = translate_dna(best_dna_sequence)\n",
        "_,t_o = translate_dna(opti_best_dna)\n",
        "if t_d != t_o:\n",
        "    print(\"bad optimization:\")\n",
        "    print(t_d)\n",
        "    print(t_o)\n",
        "else:\n",
        "    print(\"\\nOptimized Best DNA Sequence:\")\n",
        "    compare_dna_sequences_display(original_seq.replace(\" \", \"\"), opti_best_dna, codon_table)\n",
        "    pass\n",
        "\n",
        "print(f\"\\n(Protein identity is {protein_identity(original_seq.replace(' ', ''), best_dna_sequence):.1f}%)\")"
      ],
      "execution_count": null,
      "outputs": [
        {
          "output_type": "stream",
          "name": "stdout",
          "text": [
            "Mutation History:\n"
          ]
        },
        {
          "output_type": "display_data",
          "data": {
            "text/plain": [
              "<IPython.core.display.HTML object>"
            ],
            "text/html": [
              "<pre style='font-family:monospace'>Iteration 1: Trial Sequence: MKVIFLKKGEIKNVADGYANNFLFKQ<span style='color:green;font-weight:bold'>S</span>LAIEA, <span style='color:blue;font-weight:bold'>Total Score: 2.994</span></pre>"
            ]
          },
          "metadata": {}
        },
        {
          "output_type": "display_data",
          "data": {
            "text/plain": [
              "<IPython.core.display.HTML object>"
            ],
            "text/html": [
              "<pre style='font-family:monospace'>Iteration 2: Trial Sequence: MKVIFLKKGEIKNVADGYAN<span style='color:green;font-weight:bold'>S</span>FLFKQSLAIEA, <span style='color:blue;font-weight:bold'>Total Score: 4.811</span></pre>"
            ]
          },
          "metadata": {}
        },
        {
          "output_type": "display_data",
          "data": {
            "text/plain": [
              "<IPython.core.display.HTML object>"
            ],
            "text/html": [
              "<pre style='font-family:monospace'>Iteration 3: Trial Sequence: MKVIFLKKGEIKNV<span style='color:red;font-weight:bold'>G</span>DGYANSFLFKQSLAIEA, Total Score: 0.195</pre>"
            ]
          },
          "metadata": {}
        },
        {
          "output_type": "display_data",
          "data": {
            "text/plain": [
              "<IPython.core.display.HTML object>"
            ],
            "text/html": [
              "<pre style='font-family:monospace'>Iteration 4: Trial Sequence: MKVIFLKKGEIKNV<span style='color:red;font-weight:bold'>A</span>DGYANSFVFKQSLAIEA, Total Score: 2.187</pre>"
            ]
          },
          "metadata": {}
        },
        {
          "output_type": "display_data",
          "data": {
            "text/plain": [
              "<IPython.core.display.HTML object>"
            ],
            "text/html": [
              "<pre style='font-family:monospace'>Iteration 5: Trial Sequence: MKVIFLKK<span style='color:red;font-weight:bold'>A</span>EIKNVADGYANSFLFKQSLAIEA, Total Score: 0.037</pre>"
            ]
          },
          "metadata": {}
        },
        {
          "output_type": "display_data",
          "data": {
            "text/plain": [
              "<IPython.core.display.HTML object>"
            ],
            "text/html": [
              "<pre style='font-family:monospace'>Iteration 6: Trial Sequence: MKVIFLKK<span style='color:red;font-weight:bold'>G</span>EIKNVADGYANSFLFKQSVAIEA, Total Score: 3.528</pre>"
            ]
          },
          "metadata": {}
        },
        {
          "output_type": "display_data",
          "data": {
            "text/plain": [
              "<IPython.core.display.HTML object>"
            ],
            "text/html": [
              "<pre style='font-family:monospace'>Iteration 7: Trial Sequence: MKVIFLKKGEIKNVADGYANSF<span style='color:green;font-weight:bold'>I</span>FKQSLAIEA, <span style='color:blue;font-weight:bold'>Total Score: 6.917</span></pre>"
            ]
          },
          "metadata": {}
        },
        {
          "output_type": "display_data",
          "data": {
            "text/plain": [
              "<IPython.core.display.HTML object>"
            ],
            "text/html": [
              "<pre style='font-family:monospace'>Iteration 8: Trial Sequence: MKVIFLKKGEI<span style='color:green;font-weight:bold'>H</span>NVADGYANSFIFKQSLAIEA, <span style='color:blue;font-weight:bold'>Total Score: 8.874</span></pre>"
            ]
          },
          "metadata": {}
        },
        {
          "output_type": "display_data",
          "data": {
            "text/plain": [
              "<IPython.core.display.HTML object>"
            ],
            "text/html": [
              "<pre style='font-family:monospace'>Iteration 9: Trial Sequence: MKVIFLKKGEIHNVADGYANSFIFKQS<span style='color:red;font-weight:bold'>V</span>AIEA, Total Score: 0.518</pre>"
            ]
          },
          "metadata": {}
        },
        {
          "output_type": "display_data",
          "data": {
            "text/plain": [
              "<IPython.core.display.HTML object>"
            ],
            "text/html": [
              "<pre style='font-family:monospace'>Iteration 10: Trial Sequence: MKVIFLKKGEIHNVADGYANSFIFKQS<span style='color:red;font-weight:bold'>I</span>AIEA, Total Score: 0.553</pre>"
            ]
          },
          "metadata": {}
        },
        {
          "output_type": "display_data",
          "data": {
            "text/plain": [
              "<IPython.core.display.HTML object>"
            ],
            "text/html": [
              "<pre style='font-family:monospace'>Iteration 11: Trial Sequence: MKVIFLKKG<span style='color:red;font-weight:bold'>Q</span>IHNVADGYANSFIFKQSLAIEA, Total Score: 0.195</pre>"
            ]
          },
          "metadata": {}
        },
        {
          "output_type": "display_data",
          "data": {
            "text/plain": [
              "<IPython.core.display.HTML object>"
            ],
            "text/html": [
              "<pre style='font-family:monospace'>Iteration 12: Trial Sequence: MKV<span style='color:red;font-weight:bold'>L</span>FLKKGEIHNVADGYANSFIFKQSLAIEA, Total Score: 0.528</pre>"
            ]
          },
          "metadata": {}
        },
        {
          "output_type": "display_data",
          "data": {
            "text/plain": [
              "<IPython.core.display.HTML object>"
            ],
            "text/html": [
              "<pre style='font-family:monospace'>Iteration 13: Trial Sequence: MKV<span style='color:red;font-weight:bold'>I</span>FLKKGEIHNVADSYANSFIFKQSLAIEA, Total Score: 0.653</pre>"
            ]
          },
          "metadata": {}
        },
        {
          "output_type": "display_data",
          "data": {
            "text/plain": [
              "<IPython.core.display.HTML object>"
            ],
            "text/html": [
              "<pre style='font-family:monospace'>Iteration 14: Trial Sequence: MKVIFLK<span style='color:red;font-weight:bold'>H</span>GEIHNVADGYANSFIFKQSLAIEA, Total Score: 3.032</pre>"
            ]
          },
          "metadata": {}
        },
        {
          "output_type": "display_data",
          "data": {
            "text/plain": [
              "<IPython.core.display.HTML object>"
            ],
            "text/html": [
              "<pre style='font-family:monospace'>Iteration 15: Trial Sequence: MKVIFL<span style='color:red;font-weight:bold'>N</span>KGEIHNVADGYANSFIFKQSLAIEA, Total Score: 0.220</pre>"
            ]
          },
          "metadata": {}
        },
        {
          "output_type": "display_data",
          "data": {
            "text/plain": [
              "<IPython.core.display.HTML object>"
            ],
            "text/html": [
              "<pre style='font-family:monospace'>Iteration 16: Trial Sequence: MKVIFL<span style='color:red;font-weight:bold'>K</span>KGEIHNVADGFANSFIFKQSLAIEA, Total Score: 0.038</pre>"
            ]
          },
          "metadata": {}
        },
        {
          "output_type": "display_data",
          "data": {
            "text/plain": [
              "<IPython.core.display.HTML object>"
            ],
            "text/html": [
              "<pre style='font-family:monospace'>Iteration 17: Trial Sequence: MKVIFLKKGEIHNVADG<span style='color:red;font-weight:bold'>Y</span>ANSFIFRQSLAIEA, Total Score: 0.229</pre>"
            ]
          },
          "metadata": {}
        },
        {
          "output_type": "display_data",
          "data": {
            "text/plain": [
              "<IPython.core.display.HTML object>"
            ],
            "text/html": [
              "<pre style='font-family:monospace'>Iteration 18: Trial Sequence: MKVIFLKKGEIHNVADGYANSFIF<span style='color:red;font-weight:bold'>K</span>QSLAIQA, Total Score: 0.465</pre>"
            ]
          },
          "metadata": {}
        },
        {
          "output_type": "display_data",
          "data": {
            "text/plain": [
              "<IPython.core.display.HTML object>"
            ],
            "text/html": [
              "<pre style='font-family:monospace'>Iteration 19: Trial Sequence: MKVIFLKKGEIHNVADGYANSFIFKQSLA<span style='color:green;font-weight:bold'>V</span>EA, <span style='color:blue;font-weight:bold'>Total Score: 11.145</span></pre>"
            ]
          },
          "metadata": {}
        },
        {
          "output_type": "display_data",
          "data": {
            "text/plain": [
              "<IPython.core.display.HTML object>"
            ],
            "text/html": [
              "<pre style='font-family:monospace'>Iteration 20: Trial Sequence: MKVIFLKKGEIH<span style='color:red;font-weight:bold'>T</span>VADGYANSFIFKQSLAVEA, Total Score: 11.050</pre>"
            ]
          },
          "metadata": {}
        },
        {
          "output_type": "display_data",
          "data": {
            "text/plain": [
              "<IPython.core.display.HTML object>"
            ],
            "text/html": [
              "<pre style='font-family:monospace'>Iteration 21: Trial Sequence: MKVIF<span style='color:red;font-weight:bold'>I</span>KKGEIHNVADGYANSFIFKQSLAVEA, Total Score: 2.443</pre>"
            ]
          },
          "metadata": {}
        },
        {
          "output_type": "display_data",
          "data": {
            "text/plain": [
              "<IPython.core.display.HTML object>"
            ],
            "text/html": [
              "<pre style='font-family:monospace'>Iteration 22: Trial Sequence: MKVIF<span style='color:red;font-weight:bold'>L</span>KKGEIHNVADGYANSFIFKQSIAVEA, Total Score: 0.772</pre>"
            ]
          },
          "metadata": {}
        },
        {
          "output_type": "display_data",
          "data": {
            "text/plain": [
              "<IPython.core.display.HTML object>"
            ],
            "text/html": [
              "<pre style='font-family:monospace'>Iteration 23: Trial Sequence: MKV<span style='color:red;font-weight:bold'>L</span>FLKKGEIHNVADGYANSFIFKQSLAVEA, Total Score: 0.611</pre>"
            ]
          },
          "metadata": {}
        },
        {
          "output_type": "display_data",
          "data": {
            "text/plain": [
              "<IPython.core.display.HTML object>"
            ],
            "text/html": [
              "<pre style='font-family:monospace'>Iteration 24: Trial Sequence: MKV<span style='color:red;font-weight:bold'>I</span>FLKKGELHNVADGYANSFIFKQSLAVEA, Total Score: 4.745</pre>"
            ]
          },
          "metadata": {}
        },
        {
          "output_type": "display_data",
          "data": {
            "text/plain": [
              "<IPython.core.display.HTML object>"
            ],
            "text/html": [
              "<pre style='font-family:monospace'>Iteration 25: Trial Sequence: MKVIFLKKGE<span style='color:red;font-weight:bold'>I</span>HNVADGYANSFIFQQSLAVEA, Total Score: 0.587</pre>"
            ]
          },
          "metadata": {}
        },
        {
          "output_type": "display_data",
          "data": {
            "text/plain": [
              "<IPython.core.display.HTML object>"
            ],
            "text/html": [
              "<pre style='font-family:monospace'>Iteration 26: Trial Sequence: MKVIFLKKGEIHNV<span style='color:red;font-weight:bold'>T</span>DGYANSFIFKQSLAVEA, Total Score: 0.331</pre>"
            ]
          },
          "metadata": {}
        },
        {
          "output_type": "display_data",
          "data": {
            "text/plain": [
              "<IPython.core.display.HTML object>"
            ],
            "text/html": [
              "<pre style='font-family:monospace'>Iteration 27: Trial Sequence: MKVIFLKKGEIHNV<span style='color:green;font-weight:bold'>A</span>DGYANSFIFKQSLAVRA, <span style='color:blue;font-weight:bold'>Total Score: 13.741</span></pre>"
            ]
          },
          "metadata": {}
        },
        {
          "output_type": "display_data",
          "data": {
            "text/plain": [
              "<IPython.core.display.HTML object>"
            ],
            "text/html": [
              "<pre style='font-family:monospace'>Iteration 28: Trial Sequence: MKVIFL<span style='color:red;font-weight:bold'>R</span>KGEIHNVADGYANSFIFKQSLAVRA, Total Score: 0.664</pre>"
            ]
          },
          "metadata": {}
        },
        {
          "output_type": "display_data",
          "data": {
            "text/plain": [
              "<IPython.core.display.HTML object>"
            ],
            "text/html": [
              "<pre style='font-family:monospace'>Iteration 29: Trial Sequence: MK<span style='color:red;font-weight:bold'>L</span>IFLKKGEIHNVADGYANSFIFKQSLAVRA, Total Score: 1.113</pre>"
            ]
          },
          "metadata": {}
        },
        {
          "output_type": "display_data",
          "data": {
            "text/plain": [
              "<IPython.core.display.HTML object>"
            ],
            "text/html": [
              "<pre style='font-family:monospace'>Iteration 30: Trial Sequence: MK<span style='color:red;font-weight:bold'>V</span>IFIKKGEIHNVADGYANSFIFKQSLAVRA, Total Score: 0.268</pre>"
            ]
          },
          "metadata": {}
        },
        {
          "output_type": "display_data",
          "data": {
            "text/plain": [
              "<IPython.core.display.HTML object>"
            ],
            "text/html": [
              "<pre style='font-family:monospace'>Iteration 31: Trial Sequence: MKVIF<span style='color:red;font-weight:bold'>L</span>KKGKIHNVADGYANSFIFKQSLAVRA, Total Score: 2.562</pre>"
            ]
          },
          "metadata": {}
        },
        {
          "output_type": "display_data",
          "data": {
            "text/plain": [
              "<IPython.core.display.HTML object>"
            ],
            "text/html": [
              "<pre style='font-family:monospace'>Iteration 32: Trial Sequence: MKVIFLKKG<span style='color:red;font-weight:bold'>E</span>IHNVADGYANSFIFKQSVAVRA, Total Score: 3.161</pre>"
            ]
          },
          "metadata": {}
        },
        {
          "output_type": "display_data",
          "data": {
            "text/plain": [
              "<IPython.core.display.HTML object>"
            ],
            "text/html": [
              "<pre style='font-family:monospace'>Iteration 33: Trial Sequence: MKVIFLKKGEIHNVADGYANSFIFKQ<span style='color:red;font-weight:bold'>A</span>LAVRA, Total Score: 0.560</pre>"
            ]
          },
          "metadata": {}
        },
        {
          "output_type": "display_data",
          "data": {
            "text/plain": [
              "<IPython.core.display.HTML object>"
            ],
            "text/html": [
              "<pre style='font-family:monospace'>Iteration 34: Trial Sequence: MKVIFLKKGEIHNVADG<span style='color:red;font-weight:bold'>F</span>ANSFIFKQSLAVRA, Total Score: 0.054</pre>"
            ]
          },
          "metadata": {}
        },
        {
          "output_type": "display_data",
          "data": {
            "text/plain": [
              "<IPython.core.display.HTML object>"
            ],
            "text/html": [
              "<pre style='font-family:monospace'>Iteration 35: Trial Sequence: MKVIFLKKGEIHNVADG<span style='color:red;font-weight:bold'>Y</span>SNSFIFKQSLAVRA, Total Score: 0.310</pre>"
            ]
          },
          "metadata": {}
        },
        {
          "output_type": "display_data",
          "data": {
            "text/plain": [
              "<IPython.core.display.HTML object>"
            ],
            "text/html": [
              "<pre style='font-family:monospace'>Iteration 36: Trial Sequence: MKVIFLKKGEIHNVADGY<span style='color:red;font-weight:bold'>A</span>NSFIYKQSLAVRA, Total Score: 1.122</pre>"
            ]
          },
          "metadata": {}
        },
        {
          "output_type": "display_data",
          "data": {
            "text/plain": [
              "<IPython.core.display.HTML object>"
            ],
            "text/html": [
              "<pre style='font-family:monospace'>Iteration 37: Trial Sequence: MKVIFLKKGEIHNVADGYANSFI<span style='color:red;font-weight:bold'>F</span>KQSIAVRA, Total Score: 0.270</pre>"
            ]
          },
          "metadata": {}
        },
        {
          "output_type": "display_data",
          "data": {
            "text/plain": [
              "<IPython.core.display.HTML object>"
            ],
            "text/html": [
              "<pre style='font-family:monospace'>Iteration 38: Trial Sequence: MKVIFLKKGE<span style='color:red;font-weight:bold'>L</span>HNVADGYANSFIFKQSLAVRA, Total Score: 3.017</pre>"
            ]
          },
          "metadata": {}
        },
        {
          "output_type": "display_data",
          "data": {
            "text/plain": [
              "<IPython.core.display.HTML object>"
            ],
            "text/html": [
              "<pre style='font-family:monospace'>Iteration 39: Trial Sequence: MKVIFLKKGE<span style='color:red;font-weight:bold'>I</span>HNVADGYANSFIFKQSLSVRA, Total Score: 0.214</pre>"
            ]
          },
          "metadata": {}
        },
        {
          "output_type": "display_data",
          "data": {
            "text/plain": [
              "<IPython.core.display.HTML object>"
            ],
            "text/html": [
              "<pre style='font-family:monospace'>Iteration 40: Trial Sequence: MKVIFLKKGEIHNVADGYANSFIFKQ<span style='color:red;font-weight:bold'>C</span>LAVRA, Total Score: 0.526</pre>"
            ]
          },
          "metadata": {}
        },
        {
          "output_type": "display_data",
          "data": {
            "text/plain": [
              "<IPython.core.display.HTML object>"
            ],
            "text/html": [
              "<pre style='font-family:monospace'>Iteration 41: Trial Sequence: MKVIFLKKGEIHNVADGYANSFIFK<span style='color:red;font-weight:bold'>R</span>SLAVRA, Total Score: 13.069</pre>"
            ]
          },
          "metadata": {}
        },
        {
          "output_type": "display_data",
          "data": {
            "text/plain": [
              "<IPython.core.display.HTML object>"
            ],
            "text/html": [
              "<pre style='font-family:monospace'>Iteration 42: Trial Sequence: M<span style='color:red;font-weight:bold'>R</span>VIFLKKGEIHNVADGYANSFIFKQSLAVRA, Total Score: 0.655</pre>"
            ]
          },
          "metadata": {}
        },
        {
          "output_type": "display_data",
          "data": {
            "text/plain": [
              "<IPython.core.display.HTML object>"
            ],
            "text/html": [
              "<pre style='font-family:monospace'>Iteration 43: Trial Sequence: M<span style='color:red;font-weight:bold'>K</span>VLFLKKGEIHNVADGYANSFIFKQSLAVRA, Total Score: 6.984</pre>"
            ]
          },
          "metadata": {}
        },
        {
          "output_type": "display_data",
          "data": {
            "text/plain": [
              "<IPython.core.display.HTML object>"
            ],
            "text/html": [
              "<pre style='font-family:monospace'>Iteration 44: Trial Sequence: <span style='color:red;font-weight:bold'>L</span>KVIFLKKGEIHNVADGYANSFIFKQSLAVRA, Total Score: 0.972</pre>"
            ]
          },
          "metadata": {}
        },
        {
          "output_type": "display_data",
          "data": {
            "text/plain": [
              "<IPython.core.display.HTML object>"
            ],
            "text/html": [
              "<pre style='font-family:monospace'>Iteration 45: Trial Sequence: <span style='color:red;font-weight:bold'>M</span>KVIFVKKGEIHNVADGYANSFIFKQSLAVRA, Total Score: 1.108</pre>"
            ]
          },
          "metadata": {}
        },
        {
          "output_type": "display_data",
          "data": {
            "text/plain": [
              "<IPython.core.display.HTML object>"
            ],
            "text/html": [
              "<pre style='font-family:monospace'>Iteration 46: Trial Sequence: MKVIF<span style='color:red;font-weight:bold'>L</span>KKGEIHNVAEGYANSFIFKQSLAVRA, Total Score: 0.174</pre>"
            ]
          },
          "metadata": {}
        },
        {
          "output_type": "display_data",
          "data": {
            "text/plain": [
              "<IPython.core.display.HTML object>"
            ],
            "text/html": [
              "<pre style='font-family:monospace'>Iteration 47: Trial Sequence: MKVIFLKKGEIHNVA<span style='color:red;font-weight:bold'>D</span>GYANTFIFKQSLAVRA, Total Score: 11.156</pre>"
            ]
          },
          "metadata": {}
        },
        {
          "output_type": "display_data",
          "data": {
            "text/plain": [
              "<IPython.core.display.HTML object>"
            ],
            "text/html": [
              "<pre style='font-family:monospace'>Iteration 48: Trial Sequence: MKVIFLKKGEIHNV<span style='color:red;font-weight:bold'>G</span>DGYANSFIFKQSLAVRA, Total Score: 0.797</pre>"
            ]
          },
          "metadata": {}
        },
        {
          "output_type": "display_data",
          "data": {
            "text/plain": [
              "<IPython.core.display.HTML object>"
            ],
            "text/html": [
              "<pre style='font-family:monospace'>Iteration 49: Trial Sequence: MKVIFLKKGEIHNV<span style='color:green;font-weight:bold'>A</span>DGYANSFLFKQSLAVRA, <span style='color:blue;font-weight:bold'>Total Score: 12.527</span></pre>"
            ]
          },
          "metadata": {}
        },
        {
          "output_type": "display_data",
          "data": {
            "text/plain": [
              "<IPython.core.display.HTML object>"
            ],
            "text/html": [
              "<pre style='font-family:monospace'>Iteration 50: Trial Sequence: MKVIFLKKGEIHNVADG<span style='color:red;font-weight:bold'>F</span>ANSFLFKQSLAVRA, Total Score: 0.109</pre>"
            ]
          },
          "metadata": {}
        },
        {
          "output_type": "display_data",
          "data": {
            "text/plain": [
              "<IPython.core.display.HTML object>"
            ],
            "text/html": [
              "<pre style='font-family:monospace'>Iteration 51: Trial Sequence: <span style='color:red;font-weight:bold'>L</span>KVIFLKKGEIHNVADGYANSFLFKQSLAVRA, Total Score: 1.133</pre>"
            ]
          },
          "metadata": {}
        },
        {
          "output_type": "display_data",
          "data": {
            "text/plain": [
              "<IPython.core.display.HTML object>"
            ],
            "text/html": [
              "<pre style='font-family:monospace'>Iteration 52: Trial Sequence: <span style='color:red;font-weight:bold'>M</span>KVIFLKKGEIHNVADGYASSFLFKQSLAVRA, Total Score: 0.396</pre>"
            ]
          },
          "metadata": {}
        },
        {
          "output_type": "display_data",
          "data": {
            "text/plain": [
              "<IPython.core.display.HTML object>"
            ],
            "text/html": [
              "<pre style='font-family:monospace'>Iteration 53: Trial Sequence: MKVIFLKKGEIH<span style='color:red;font-weight:bold'>S</span>VADGYANSFLFKQSLAVRA, Total Score: 11.555</pre>"
            ]
          },
          "metadata": {}
        },
        {
          "output_type": "display_data",
          "data": {
            "text/plain": [
              "<IPython.core.display.HTML object>"
            ],
            "text/html": [
              "<pre style='font-family:monospace'>Iteration 54: Trial Sequence: MKVIFLKKGEIH<span style='color:green;font-weight:bold'>N</span>VADGYANSFLYKQSLAVRA, <span style='color:blue;font-weight:bold'>Total Score: 14.294</span></pre>"
            ]
          },
          "metadata": {}
        },
        {
          "output_type": "display_data",
          "data": {
            "text/plain": [
              "<IPython.core.display.HTML object>"
            ],
            "text/html": [
              "<pre style='font-family:monospace'>Iteration 55: Trial Sequence: MKVIFLKKGEIHNVADGYANSFLYKQSLAV<span style='color:green;font-weight:bold'>K</span>A, <span style='color:blue;font-weight:bold'>Total Score: 13.679</span></pre>"
            ]
          },
          "metadata": {}
        },
        {
          "output_type": "display_data",
          "data": {
            "text/plain": [
              "<IPython.core.display.HTML object>"
            ],
            "text/html": [
              "<pre style='font-family:monospace'>Iteration 56: Trial Sequence: MKVIFLKKGE<span style='color:green;font-weight:bold'>V</span>HNVADGYANSFLYKQSLAVKA, <span style='color:blue;font-weight:bold'>Total Score: 15.929</span></pre>"
            ]
          },
          "metadata": {}
        },
        {
          "output_type": "display_data",
          "data": {
            "text/plain": [
              "<IPython.core.display.HTML object>"
            ],
            "text/html": [
              "<pre style='font-family:monospace'>Iteration 57: Trial Sequence: MKVIFLKKGEVHNVADGYANSFLYK<span style='color:green;font-weight:bold'>K</span>SLAVKA, <span style='color:blue;font-weight:bold'>Total Score: 18.369</span></pre>"
            ]
          },
          "metadata": {}
        },
        {
          "output_type": "display_data",
          "data": {
            "text/plain": [
              "<IPython.core.display.HTML object>"
            ],
            "text/html": [
              "<pre style='font-family:monospace'>Iteration 58: Trial Sequence: MKVIFLKK<span style='color:red;font-weight:bold'>S</span>EVHNVADGYANSFLYKKSLAVKA, Total Score: 0.049</pre>"
            ]
          },
          "metadata": {}
        },
        {
          "output_type": "display_data",
          "data": {
            "text/plain": [
              "<IPython.core.display.HTML object>"
            ],
            "text/html": [
              "<pre style='font-family:monospace'>Iteration 59: Trial Sequence: MKVIFLKK<span style='color:green;font-weight:bold'>G</span>EVHNVADGYANSYLYKKSLAVKA, <span style='color:blue;font-weight:bold'>Total Score: 20.285</span></pre>"
            ]
          },
          "metadata": {}
        },
        {
          "output_type": "display_data",
          "data": {
            "text/plain": [
              "<IPython.core.display.HTML object>"
            ],
            "text/html": [
              "<pre style='font-family:monospace'>Iteration 60: Trial Sequence: MKVIFLKKGEV<span style='color:green;font-weight:bold'>R</span>NVADGYANSYLYKKSLAVKA, <span style='color:blue;font-weight:bold'>Total Score: 20.284</span></pre>"
            ]
          },
          "metadata": {}
        },
        {
          "output_type": "display_data",
          "data": {
            "text/plain": [
              "<IPython.core.display.HTML object>"
            ],
            "text/html": [
              "<pre style='font-family:monospace'>Iteration 61: Trial Sequence: MKVIFLK<span style='color:green;font-weight:bold'>H</span>GEVRNVADGYANSYLYKKSLAVKA, <span style='color:blue;font-weight:bold'>Total Score: 21.886</span></pre>"
            ]
          },
          "metadata": {}
        },
        {
          "output_type": "display_data",
          "data": {
            "text/plain": [
              "<IPython.core.display.HTML object>"
            ],
            "text/html": [
              "<pre style='font-family:monospace'>Iteration 62: Trial Sequence: MKVIFLKHGE<span style='color:red;font-weight:bold'>I</span>RNVADGYANSYLYKKSLAVKA, Total Score: 18.938</pre>"
            ]
          },
          "metadata": {}
        },
        {
          "output_type": "display_data",
          "data": {
            "text/plain": [
              "<IPython.core.display.HTML object>"
            ],
            "text/html": [
              "<pre style='font-family:monospace'>Iteration 63: Trial Sequence: MKVIF<span style='color:red;font-weight:bold'>I</span>KHGEVRNVADGYANSYLYKKSLAVKA, Total Score: 20.771</pre>"
            ]
          },
          "metadata": {}
        },
        {
          "output_type": "display_data",
          "data": {
            "text/plain": [
              "<IPython.core.display.HTML object>"
            ],
            "text/html": [
              "<pre style='font-family:monospace'>Iteration 64: Trial Sequence: MK<span style='color:red;font-weight:bold'>L</span>IFLKHGEVRNVADGYANSYLYKKSLAVKA, Total Score: 11.538</pre>"
            ]
          },
          "metadata": {}
        },
        {
          "output_type": "display_data",
          "data": {
            "text/plain": [
              "<IPython.core.display.HTML object>"
            ],
            "text/html": [
              "<pre style='font-family:monospace'>Iteration 65: Trial Sequence: MK<span style='color:green;font-weight:bold'>V</span>IFLKHGEVRNVADGYANSYLYKKSIAVKA, <span style='color:blue;font-weight:bold'>Total Score: 22.651</span></pre>"
            ]
          },
          "metadata": {}
        },
        {
          "output_type": "display_data",
          "data": {
            "text/plain": [
              "<IPython.core.display.HTML object>"
            ],
            "text/html": [
              "<pre style='font-family:monospace'>Iteration 66: Trial Sequence: MKVIFLKHGEVRNVADGYANSYLYKK<span style='color:red;font-weight:bold'>G</span>IAVKA, Total Score: 20.755</pre>"
            ]
          },
          "metadata": {}
        },
        {
          "output_type": "display_data",
          "data": {
            "text/plain": [
              "<IPython.core.display.HTML object>"
            ],
            "text/html": [
              "<pre style='font-family:monospace'>Iteration 67: Trial Sequence: MKVIFLKHGEVRN<span style='color:green;font-weight:bold'>I</span>ADGYANSYLYKKSIAVKA, <span style='color:blue;font-weight:bold'>Total Score: 23.242</span></pre>"
            ]
          },
          "metadata": {}
        },
        {
          "output_type": "display_data",
          "data": {
            "text/plain": [
              "<IPython.core.display.HTML object>"
            ],
            "text/html": [
              "<pre style='font-family:monospace'>Iteration 68: Trial Sequence: MKVIFLKHGEV<span style='color:green;font-weight:bold'>H</span>NIADGYANSYLYKKSIAVKA, <span style='color:blue;font-weight:bold'>Total Score: 25.885</span></pre>"
            ]
          },
          "metadata": {}
        },
        {
          "output_type": "display_data",
          "data": {
            "text/plain": [
              "<IPython.core.display.HTML object>"
            ],
            "text/html": [
              "<pre style='font-family:monospace'>Iteration 69: Trial Sequence: M<span style='color:red;font-weight:bold'>R</span>VIFLKHGEVHNIADGYANSYLYKKSIAVKA, Total Score: 15.054</pre>"
            ]
          },
          "metadata": {}
        },
        {
          "output_type": "display_data",
          "data": {
            "text/plain": [
              "<IPython.core.display.HTML object>"
            ],
            "text/html": [
              "<pre style='font-family:monospace'>Iteration 70: Trial Sequence: M<span style='color:green;font-weight:bold'>K</span>VIFLKHGEVHNIADSYANSYLYKKSIAVKA, <span style='color:blue;font-weight:bold'>Total Score: 26.040</span></pre>"
            ]
          },
          "metadata": {}
        },
        {
          "output_type": "display_data",
          "data": {
            "text/plain": [
              "<IPython.core.display.HTML object>"
            ],
            "text/html": [
              "<pre style='font-family:monospace'>Iteration 71: Trial Sequence: MKVIFLKHGEVHNIADSYAN<span style='color:red;font-weight:bold'>C</span>YLYKKSIAVKA, Total Score: 12.149</pre>"
            ]
          },
          "metadata": {}
        },
        {
          "output_type": "display_data",
          "data": {
            "text/plain": [
              "<IPython.core.display.HTML object>"
            ],
            "text/html": [
              "<pre style='font-family:monospace'>Iteration 72: Trial Sequence: MKVIFL<span style='color:red;font-weight:bold'>R</span>HGEVHNIADSYANSYLYKKSIAVKA, Total Score: 5.978</pre>"
            ]
          },
          "metadata": {}
        },
        {
          "output_type": "display_data",
          "data": {
            "text/plain": [
              "<IPython.core.display.HTML object>"
            ],
            "text/html": [
              "<pre style='font-family:monospace'>Iteration 73: Trial Sequence: MKVIFL<span style='color:red;font-weight:bold'>K</span>HGEVHNIADSYANSYLYHKSIAVKA, Total Score: 12.927</pre>"
            ]
          },
          "metadata": {}
        },
        {
          "output_type": "display_data",
          "data": {
            "text/plain": [
              "<IPython.core.display.HTML object>"
            ],
            "text/html": [
              "<pre style='font-family:monospace'>Iteration 74: Trial Sequence: MKVIFLKHGEV<span style='color:red;font-weight:bold'>K</span>NIADSYANSYLYKKSIAVKA, Total Score: 2.706</pre>"
            ]
          },
          "metadata": {}
        },
        {
          "output_type": "display_data",
          "data": {
            "text/plain": [
              "<IPython.core.display.HTML object>"
            ],
            "text/html": [
              "<pre style='font-family:monospace'>Iteration 75: Trial Sequence: MKVIFLKHG<span style='color:red;font-weight:bold'>N</span>VHNIADSYANSYLYKKSIAVKA, Total Score: 2.707</pre>"
            ]
          },
          "metadata": {}
        },
        {
          "output_type": "display_data",
          "data": {
            "text/plain": [
              "<IPython.core.display.HTML object>"
            ],
            "text/html": [
              "<pre style='font-family:monospace'>Iteration 76: Trial Sequence: MKVIFLKHG<span style='color:red;font-weight:bold'>E</span>VHNVADSYANSYLYKKSIAVKA, Total Score: 25.486</pre>"
            ]
          },
          "metadata": {}
        },
        {
          "output_type": "display_data",
          "data": {
            "text/plain": [
              "<IPython.core.display.HTML object>"
            ],
            "text/html": [
              "<pre style='font-family:monospace'>Iteration 77: Trial Sequence: MKVIF<span style='color:red;font-weight:bold'>I</span>KHGEVHNIADSYANSYLYKKSIAVKA, Total Score: 3.186</pre>"
            ]
          },
          "metadata": {}
        },
        {
          "output_type": "display_data",
          "data": {
            "text/plain": [
              "<IPython.core.display.HTML object>"
            ],
            "text/html": [
              "<pre style='font-family:monospace'>Iteration 78: Trial Sequence: MKV<span style='color:green;font-weight:bold'>L</span>FLKHGEVHNIADSYANSYLYKKSIAVKA, <span style='color:blue;font-weight:bold'>Total Score: 28.980</span></pre>"
            ]
          },
          "metadata": {}
        },
        {
          "output_type": "display_data",
          "data": {
            "text/plain": [
              "<IPython.core.display.HTML object>"
            ],
            "text/html": [
              "<pre style='font-family:monospace'>Iteration 79: Trial Sequence: MKVLFLKHGEVHNI<span style='color:red;font-weight:bold'>G</span>DSYANSYLYKKSIAVKA, Total Score: 0.019</pre>"
            ]
          },
          "metadata": {}
        },
        {
          "output_type": "display_data",
          "data": {
            "text/plain": [
              "<IPython.core.display.HTML object>"
            ],
            "text/html": [
              "<pre style='font-family:monospace'>Iteration 80: Trial Sequence: MK<span style='color:red;font-weight:bold'>L</span>LFLKHGEVHNIADSYANSYLYKKSIAVKA, Total Score: 1.474</pre>"
            ]
          },
          "metadata": {}
        },
        {
          "output_type": "display_data",
          "data": {
            "text/plain": [
              "<IPython.core.display.HTML object>"
            ],
            "text/html": [
              "<pre style='font-family:monospace'>Iteration 81: Trial Sequence: MK<span style='color:red;font-weight:bold'>V</span>LFLRHGEVHNIADSYANSYLYKKSIAVKA, Total Score: 13.401</pre>"
            ]
          },
          "metadata": {}
        },
        {
          "output_type": "display_data",
          "data": {
            "text/plain": [
              "<IPython.core.display.HTML object>"
            ],
            "text/html": [
              "<pre style='font-family:monospace'>Iteration 82: Trial Sequence: MKVLFL<span style='color:red;font-weight:bold'>K</span>HGEVHNISDSYANSYLYKKSIAVKA, Total Score: 4.299</pre>"
            ]
          },
          "metadata": {}
        },
        {
          "output_type": "display_data",
          "data": {
            "text/plain": [
              "<IPython.core.display.HTML object>"
            ],
            "text/html": [
              "<pre style='font-family:monospace'>Iteration 83: Trial Sequence: MKVLFLKHGEVH<span style='color:red;font-weight:bold'>S</span>IADSYANSYLYKKSIAVKA, Total Score: 2.455</pre>"
            ]
          },
          "metadata": {}
        },
        {
          "output_type": "display_data",
          "data": {
            "text/plain": [
              "<IPython.core.display.HTML object>"
            ],
            "text/html": [
              "<pre style='font-family:monospace'>Iteration 84: Trial Sequence: MKVL<span style='color:red;font-weight:bold'>W</span>LKHGEVHNIADSYANSYLYKKSIAVKA, Total Score: 0.066</pre>"
            ]
          },
          "metadata": {}
        },
        {
          "output_type": "display_data",
          "data": {
            "text/plain": [
              "<IPython.core.display.HTML object>"
            ],
            "text/html": [
              "<pre style='font-family:monospace'>Iteration 85: Trial Sequence: MKVL<span style='color:red;font-weight:bold'>F</span>LQHGEVHNIADSYANSYLYKKSIAVKA, Total Score: 2.679</pre>"
            ]
          },
          "metadata": {}
        },
        {
          "output_type": "display_data",
          "data": {
            "text/plain": [
              "<IPython.core.display.HTML object>"
            ],
            "text/html": [
              "<pre style='font-family:monospace'>Iteration 86: Trial Sequence: MKVLFL<span style='color:red;font-weight:bold'>K</span>RGEVHNIADSYANSYLYKKSIAVKA, Total Score: 1.598</pre>"
            ]
          },
          "metadata": {}
        },
        {
          "output_type": "display_data",
          "data": {
            "text/plain": [
              "<IPython.core.display.HTML object>"
            ],
            "text/html": [
              "<pre style='font-family:monospace'>Iteration 87: Trial Sequence: MKVLFLK<span style='color:green;font-weight:bold'>H</span>GEVHNIADSYANQYLYKKSIAVKA, <span style='color:blue;font-weight:bold'>Total Score: 30.376</span></pre>"
            ]
          },
          "metadata": {}
        },
        {
          "output_type": "display_data",
          "data": {
            "text/plain": [
              "<IPython.core.display.HTML object>"
            ],
            "text/html": [
              "<pre style='font-family:monospace'>Iteration 88: Trial Sequence: MKVLFLKHGEVHNIADSYANQYLYKK<span style='color:red;font-weight:bold'>A</span>IAVKA, Total Score: 29.535</pre>"
            ]
          },
          "metadata": {}
        },
        {
          "output_type": "display_data",
          "data": {
            "text/plain": [
              "<IPython.core.display.HTML object>"
            ],
            "text/html": [
              "<pre style='font-family:monospace'>Iteration 89: Trial Sequence: MKVLFLKHGEVHNIADSYANQYLYKK<span style='color:red;font-weight:bold'>S</span>ISVKA, Total Score: 3.566</pre>"
            ]
          },
          "metadata": {}
        },
        {
          "output_type": "display_data",
          "data": {
            "text/plain": [
              "<IPython.core.display.HTML object>"
            ],
            "text/html": [
              "<pre style='font-family:monospace'>Iteration 90: Trial Sequence: MKVLFLKHGEVHN<span style='color:red;font-weight:bold'>M</span>ADSYANQYLYKKSIAVKA, Total Score: 23.017</pre>"
            ]
          },
          "metadata": {}
        },
        {
          "output_type": "display_data",
          "data": {
            "text/plain": [
              "<IPython.core.display.HTML object>"
            ],
            "text/html": [
              "<pre style='font-family:monospace'>Iteration 91: Trial Sequence: MKVLFLKHGEVHN<span style='color:red;font-weight:bold'>I</span>ADSYANQYLYKKSIAVRA, Total Score: 13.413</pre>"
            ]
          },
          "metadata": {}
        },
        {
          "output_type": "display_data",
          "data": {
            "text/plain": [
              "<IPython.core.display.HTML object>"
            ],
            "text/html": [
              "<pre style='font-family:monospace'>Iteration 92: Trial Sequence: MKVLFLKHGEVHNIA<span style='color:red;font-weight:bold'>E</span>SYANQYLYKKSIAVKA, Total Score: 3.622</pre>"
            ]
          },
          "metadata": {}
        },
        {
          "output_type": "display_data",
          "data": {
            "text/plain": [
              "<IPython.core.display.HTML object>"
            ],
            "text/html": [
              "<pre style='font-family:monospace'>Iteration 93: Trial Sequence: MKVLFLKHGEVHNIA<span style='color:red;font-weight:bold'>D</span>SYANQYLFKKSIAVKA, Total Score: 27.964</pre>"
            ]
          },
          "metadata": {}
        },
        {
          "output_type": "display_data",
          "data": {
            "text/plain": [
              "<IPython.core.display.HTML object>"
            ],
            "text/html": [
              "<pre style='font-family:monospace'>Iteration 94: Trial Sequence: MKVLFL<span style='color:green;font-weight:bold'>Q</span>HGEVHNIADSYANQYLYKKSIAVKA, <span style='color:blue;font-weight:bold'>Total Score: 31.493</span></pre>"
            ]
          },
          "metadata": {}
        },
        {
          "output_type": "display_data",
          "data": {
            "text/plain": [
              "<IPython.core.display.HTML object>"
            ],
            "text/html": [
              "<pre style='font-family:monospace'>Iteration 95: Trial Sequence: MKVLFLQHGEVHNIADSYANQ<span style='color:red;font-weight:bold'>W</span>LYKKSIAVKA, Total Score: 4.347</pre>"
            ]
          },
          "metadata": {}
        },
        {
          "output_type": "display_data",
          "data": {
            "text/plain": [
              "<IPython.core.display.HTML object>"
            ],
            "text/html": [
              "<pre style='font-family:monospace'>Iteration 96: Trial Sequence: MKVLFLQHGEVHNI<span style='color:red;font-weight:bold'>G</span>DSYANQYLYKKSIAVKA, Total Score: 0.229</pre>"
            ]
          },
          "metadata": {}
        },
        {
          "output_type": "display_data",
          "data": {
            "text/plain": [
              "<IPython.core.display.HTML object>"
            ],
            "text/html": [
              "<pre style='font-family:monospace'>Iteration 97: Trial Sequence: MKVLFLQHG<span style='color:red;font-weight:bold'>R</span>VHNIADSYANQYLYKKSIAVKA, Total Score: 0.135</pre>"
            ]
          },
          "metadata": {}
        },
        {
          "output_type": "display_data",
          "data": {
            "text/plain": [
              "<IPython.core.display.HTML object>"
            ],
            "text/html": [
              "<pre style='font-family:monospace'>Iteration 98: Trial Sequence: MKVLFLQHG<span style='color:red;font-weight:bold'>E</span>VHNIADSYANQYLYKKSIAIKA, Total Score: 29.683</pre>"
            ]
          },
          "metadata": {}
        },
        {
          "output_type": "display_data",
          "data": {
            "text/plain": [
              "<IPython.core.display.HTML object>"
            ],
            "text/html": [
              "<pre style='font-family:monospace'>Iteration 99: Trial Sequence: MKVLFLQHGEVHNIADSYANQYL<span style='color:red;font-weight:bold'>F</span>KKSIAVKA, Total Score: 30.553</pre>"
            ]
          },
          "metadata": {}
        },
        {
          "output_type": "display_data",
          "data": {
            "text/plain": [
              "<IPython.core.display.HTML object>"
            ],
            "text/html": [
              "<pre style='font-family:monospace'>Iteration 100: Trial Sequence: MKVLFLQHGEVHNIADSYANQYL<span style='color:red;font-weight:bold'>Y</span>RKSIAVKA, Total Score: 9.521</pre>"
            ]
          },
          "metadata": {}
        },
        {
          "output_type": "display_data",
          "data": {
            "text/plain": [
              "<IPython.core.display.HTML object>"
            ],
            "text/html": [
              "<pre style='font-family:monospace'>Iteration 101: Trial Sequence: M<span style='color:red;font-weight:bold'>R</span>VLFLQHGEVHNIADSYANQYLYKKSIAVKA, Total Score: 0.131</pre>"
            ]
          },
          "metadata": {}
        },
        {
          "output_type": "display_data",
          "data": {
            "text/plain": [
              "<IPython.core.display.HTML object>"
            ],
            "text/html": [
              "<pre style='font-family:monospace'>Iteration 102: Trial Sequence: M<span style='color:red;font-weight:bold'>K</span>VLFLQHGEVHNIADSYANQYLWKKSIAVKA, Total Score: 7.470</pre>"
            ]
          },
          "metadata": {}
        },
        {
          "output_type": "display_data",
          "data": {
            "text/plain": [
              "<IPython.core.display.HTML object>"
            ],
            "text/html": [
              "<pre style='font-family:monospace'>Iteration 103: Trial Sequence: MKVLFLQHGEVH<span style='color:red;font-weight:bold'>T</span>IADSYANQYLYKKSIAVKA, Total Score: 8.663</pre>"
            ]
          },
          "metadata": {}
        },
        {
          "output_type": "display_data",
          "data": {
            "text/plain": [
              "<IPython.core.display.HTML object>"
            ],
            "text/html": [
              "<pre style='font-family:monospace'>Iteration 104: Trial Sequence: MKVLFLQHGEVH<span style='color:red;font-weight:bold'>N</span>IADSYANQYLYKKSIAVQA, Total Score: 2.735</pre>"
            ]
          },
          "metadata": {}
        },
        {
          "output_type": "display_data",
          "data": {
            "text/plain": [
              "<IPython.core.display.HTML object>"
            ],
            "text/html": [
              "<pre style='font-family:monospace'>Iteration 105: Trial Sequence: MKVLFLQHGEVHNIADSYANQYLYKKSIA<span style='color:red;font-weight:bold'>L</span>KA, Total Score: 0.836</pre>"
            ]
          },
          "metadata": {}
        },
        {
          "output_type": "display_data",
          "data": {
            "text/plain": [
              "<IPython.core.display.HTML object>"
            ],
            "text/html": [
              "<pre style='font-family:monospace'>Iteration 106: Trial Sequence: MKVLFLQHGEVHNIADSYA<span style='color:red;font-weight:bold'>S</span>QYLYKKSIAVKA, Total Score: 3.716</pre>"
            ]
          },
          "metadata": {}
        },
        {
          "output_type": "display_data",
          "data": {
            "text/plain": [
              "<IPython.core.display.HTML object>"
            ],
            "text/html": [
              "<pre style='font-family:monospace'>Iteration 107: Trial Sequence: MKVLFLQHGEVHNIADSYA<span style='color:red;font-weight:bold'>N</span>QYMYKKSIAVKA, Total Score: 1.414</pre>"
            ]
          },
          "metadata": {}
        },
        {
          "output_type": "display_data",
          "data": {
            "text/plain": [
              "<IPython.core.display.HTML object>"
            ],
            "text/html": [
              "<pre style='font-family:monospace'>Iteration 108: Trial Sequence: MKVLFLQHGEVHNIADSYAN<span style='color:red;font-weight:bold'>K</span>YLYKKSIAVKA, Total Score: 30.298</pre>"
            ]
          },
          "metadata": {}
        },
        {
          "output_type": "display_data",
          "data": {
            "text/plain": [
              "<IPython.core.display.HTML object>"
            ],
            "text/html": [
              "<pre style='font-family:monospace'>Iteration 109: Trial Sequence: MKVLFLQHGEVHNIADSYAN<span style='color:red;font-weight:bold'>Q</span>YLYKKAIAVKA, Total Score: 29.020</pre>"
            ]
          },
          "metadata": {}
        },
        {
          "output_type": "display_data",
          "data": {
            "text/plain": [
              "<IPython.core.display.HTML object>"
            ],
            "text/html": [
              "<pre style='font-family:monospace'>Iteration 110: Trial Sequence: MKVL<span style='color:red;font-weight:bold'>Y</span>LQHGEVHNIADSYANQYLYKKSIAVKA, Total Score: 28.948</pre>"
            ]
          },
          "metadata": {}
        },
        {
          "output_type": "display_data",
          "data": {
            "text/plain": [
              "<IPython.core.display.HTML object>"
            ],
            "text/html": [
              "<pre style='font-family:monospace'>Iteration 111: Trial Sequence: MKVL<span style='color:red;font-weight:bold'>F</span>LDHGEVHNIADSYANQYLYKKSIAVKA, Total Score: 0.208</pre>"
            ]
          },
          "metadata": {}
        },
        {
          "output_type": "display_data",
          "data": {
            "text/plain": [
              "<IPython.core.display.HTML object>"
            ],
            "text/html": [
              "<pre style='font-family:monospace'>Iteration 112: Trial Sequence: MKVLFL<span style='color:red;font-weight:bold'>Q</span>HGEVHNIADSYANQYLYHKSIAVKA, Total Score: 14.161</pre>"
            ]
          },
          "metadata": {}
        },
        {
          "output_type": "display_data",
          "data": {
            "text/plain": [
              "<IPython.core.display.HTML object>"
            ],
            "text/html": [
              "<pre style='font-family:monospace'>Iteration 113: Trial Sequence: MKVLFLQHGEVHNIADSYAN<span style='color:red;font-weight:bold'>R</span>YLYKKSIAVKA, Total Score: 30.031</pre>"
            ]
          },
          "metadata": {}
        },
        {
          "output_type": "display_data",
          "data": {
            "text/plain": [
              "<IPython.core.display.HTML object>"
            ],
            "text/html": [
              "<pre style='font-family:monospace'>Iteration 114: Trial Sequence: <span style='color:green;font-weight:bold'>L</span>KVLFLQHGEVHNIADSYANQYLYKKSIAVKA, <span style='color:blue;font-weight:bold'>Total Score: 33.413</span></pre>"
            ]
          },
          "metadata": {}
        },
        {
          "output_type": "display_data",
          "data": {
            "text/plain": [
              "<IPython.core.display.HTML object>"
            ],
            "text/html": [
              "<pre style='font-family:monospace'>Iteration 115: Trial Sequence: LKVLFLQH<span style='color:red;font-weight:bold'>A</span>EVHNIADSYANQYLYKKSIAVKA, Total Score: 0.064</pre>"
            ]
          },
          "metadata": {}
        },
        {
          "output_type": "display_data",
          "data": {
            "text/plain": [
              "<IPython.core.display.HTML object>"
            ],
            "text/html": [
              "<pre style='font-family:monospace'>Iteration 116: Trial Sequence: LKVLFLQH<span style='color:red;font-weight:bold'>G</span>EVHNIADNYANQYLYKKSIAVKA, Total Score: 3.028</pre>"
            ]
          },
          "metadata": {}
        },
        {
          "output_type": "display_data",
          "data": {
            "text/plain": [
              "<IPython.core.display.HTML object>"
            ],
            "text/html": [
              "<pre style='font-family:monospace'>Iteration 117: Trial Sequence: L<span style='color:red;font-weight:bold'>R</span>VLFLQHGEVHNIADSYANQYLYKKSIAVKA, Total Score: 0.097</pre>"
            ]
          },
          "metadata": {}
        },
        {
          "output_type": "display_data",
          "data": {
            "text/plain": [
              "<IPython.core.display.HTML object>"
            ],
            "text/html": [
              "<pre style='font-family:monospace'>Iteration 118: Trial Sequence: L<span style='color:red;font-weight:bold'>K</span>VLFLQHGELHNIADSYANQYLYKKSIAVKA, Total Score: 0.065</pre>"
            ]
          },
          "metadata": {}
        },
        {
          "output_type": "display_data",
          "data": {
            "text/plain": [
              "<IPython.core.display.HTML object>"
            ],
            "text/html": [
              "<pre style='font-family:monospace'>Iteration 119: Trial Sequence: LKVLFLQHGE<span style='color:red;font-weight:bold'>V</span>HNIADSYASQYLYKKSIAVKA, Total Score: 9.981</pre>"
            ]
          },
          "metadata": {}
        },
        {
          "output_type": "display_data",
          "data": {
            "text/plain": [
              "<IPython.core.display.HTML object>"
            ],
            "text/html": [
              "<pre style='font-family:monospace'>Iteration 120: Trial Sequence: LKVLFLQHGEVHNIA<span style='color:red;font-weight:bold'>E</span>SYANQYLYKKSIAVKA, Total Score: 0.115</pre>"
            ]
          },
          "metadata": {}
        },
        {
          "output_type": "display_data",
          "data": {
            "text/plain": [
              "<IPython.core.display.HTML object>"
            ],
            "text/html": [
              "<pre style='font-family:monospace'>Iteration 121: Trial Sequence: LKVLFLQHGEVHNIA<span style='color:red;font-weight:bold'>D</span>SYANQYLYKKSVAVKA, Total Score: 2.282</pre>"
            ]
          },
          "metadata": {}
        },
        {
          "output_type": "display_data",
          "data": {
            "text/plain": [
              "<IPython.core.display.HTML object>"
            ],
            "text/html": [
              "<pre style='font-family:monospace'>Iteration 122: Trial Sequence: LKVLFLQHGEVHNIADSYANQYLY<span style='color:red;font-weight:bold'>R</span>KSIAVKA, Total Score: 0.139</pre>"
            ]
          },
          "metadata": {}
        },
        {
          "output_type": "display_data",
          "data": {
            "text/plain": [
              "<IPython.core.display.HTML object>"
            ],
            "text/html": [
              "<pre style='font-family:monospace'>Iteration 123: Trial Sequence: LKVLFLQHGEVHN<span style='color:red;font-weight:bold'>V</span>ADSYANQYLYKKSIAVKA, Total Score: 30.826</pre>"
            ]
          },
          "metadata": {}
        },
        {
          "output_type": "display_data",
          "data": {
            "text/plain": [
              "<IPython.core.display.HTML object>"
            ],
            "text/html": [
              "<pre style='font-family:monospace'>Iteration 124: Trial Sequence: LKVLFLQHGEVHN<span style='color:red;font-weight:bold'>I</span>ADAYANQYLYKKSIAVKA, Total Score: 0.052</pre>"
            ]
          },
          "metadata": {}
        },
        {
          "output_type": "display_data",
          "data": {
            "text/plain": [
              "<IPython.core.display.HTML object>"
            ],
            "text/html": [
              "<pre style='font-family:monospace'>Iteration 125: Trial Sequence: LKVLFLQH<span style='color:red;font-weight:bold'>S</span>EVHNIADSYANQYLYKKSIAVKA, Total Score: 0.065</pre>"
            ]
          },
          "metadata": {}
        },
        {
          "output_type": "display_data",
          "data": {
            "text/plain": [
              "<IPython.core.display.HTML object>"
            ],
            "text/html": [
              "<pre style='font-family:monospace'>Iteration 126: Trial Sequence: LKVL<span style='color:red;font-weight:bold'>W</span>LQHGEVHNIADSYANQYLYKKSIAVKA, Total Score: 0.035</pre>"
            ]
          },
          "metadata": {}
        },
        {
          "output_type": "display_data",
          "data": {
            "text/plain": [
              "<IPython.core.display.HTML object>"
            ],
            "text/html": [
              "<pre style='font-family:monospace'>Iteration 127: Trial Sequence: LKVL<span style='color:red;font-weight:bold'>F</span>LQHGEVHNIADSFANQYLYKKSIAVKA, Total Score: 0.064</pre>"
            ]
          },
          "metadata": {}
        },
        {
          "output_type": "display_data",
          "data": {
            "text/plain": [
              "<IPython.core.display.HTML object>"
            ],
            "text/html": [
              "<pre style='font-family:monospace'>Iteration 128: Trial Sequence: LKVLFLQHGEVH<span style='color:red;font-weight:bold'>T</span>IADSYANQYLYKKSIAVKA, Total Score: 0.054</pre>"
            ]
          },
          "metadata": {}
        },
        {
          "output_type": "display_data",
          "data": {
            "text/plain": [
              "<IPython.core.display.HTML object>"
            ],
            "text/html": [
              "<pre style='font-family:monospace'>Iteration 129: Trial Sequence: LKVLFLQHGEVH<span style='color:red;font-weight:bold'>N</span>IADSYANQYLYKKSIGVKA, Total Score: 0.304</pre>"
            ]
          },
          "metadata": {}
        },
        {
          "output_type": "display_data",
          "data": {
            "text/plain": [
              "<IPython.core.display.HTML object>"
            ],
            "text/html": [
              "<pre style='font-family:monospace'>Iteration 130: Trial Sequence: LKVLFLQHGE<span style='color:red;font-weight:bold'>I</span>HNIADSYANQYLYKKSIAVKA, Total Score: 3.720</pre>"
            ]
          },
          "metadata": {}
        },
        {
          "output_type": "display_data",
          "data": {
            "text/plain": [
              "<IPython.core.display.HTML object>"
            ],
            "text/html": [
              "<pre style='font-family:monospace'>Iteration 131: Trial Sequence: LKVLFLQHGE<span style='color:red;font-weight:bold'>V</span>HNIADSYAQQYLYKKSIAVKA, Total Score: 1.897</pre>"
            ]
          },
          "metadata": {}
        },
        {
          "output_type": "display_data",
          "data": {
            "text/plain": [
              "<IPython.core.display.HTML object>"
            ],
            "text/html": [
              "<pre style='font-family:monospace'>Iteration 132: Trial Sequence: LKVLFLQ<span style='color:red;font-weight:bold'>Q</span>GEVHNIADSYANQYLYKKSIAVKA, Total Score: 1.249</pre>"
            ]
          },
          "metadata": {}
        },
        {
          "output_type": "display_data",
          "data": {
            "text/plain": [
              "<IPython.core.display.HTML object>"
            ],
            "text/html": [
              "<pre style='font-family:monospace'>Iteration 133: Trial Sequence: LKVLFLQ<span style='color:red;font-weight:bold'>H</span>GEVQNIADSYANQYLYKKSIAVKA, Total Score: 0.072</pre>"
            ]
          },
          "metadata": {}
        },
        {
          "output_type": "display_data",
          "data": {
            "text/plain": [
              "<IPython.core.display.HTML object>"
            ],
            "text/html": [
              "<pre style='font-family:monospace'>Iteration 134: Trial Sequence: LKVLFLQHGEV<span style='color:red;font-weight:bold'>H</span>NIADQYANQYLYKKSIAVKA, Total Score: 0.040</pre>"
            ]
          },
          "metadata": {}
        },
        {
          "output_type": "display_data",
          "data": {
            "text/plain": [
              "<IPython.core.display.HTML object>"
            ],
            "text/html": [
              "<pre style='font-family:monospace'>Iteration 135: Trial Sequence: LKVLFLQHG<span style='color:red;font-weight:bold'>D</span>VHNIADSYANQYLYKKSIAVKA, Total Score: 0.274</pre>"
            ]
          },
          "metadata": {}
        },
        {
          "output_type": "display_data",
          "data": {
            "text/plain": [
              "<IPython.core.display.HTML object>"
            ],
            "text/html": [
              "<pre style='font-family:monospace'>Iteration 136: Trial Sequence: LKVLFL<span style='color:red;font-weight:bold'>H</span>HGEVHNIADSYANQYLYKKSIAVKA, Total Score: 0.095</pre>"
            ]
          },
          "metadata": {}
        },
        {
          "output_type": "display_data",
          "data": {
            "text/plain": [
              "<IPython.core.display.HTML object>"
            ],
            "text/html": [
              "<pre style='font-family:monospace'>Iteration 137: Trial Sequence: LKVLFL<span style='color:red;font-weight:bold'>Q</span>HGEVHNIADSYANQYLYKKSLAVKA, Total Score: 9.462</pre>"
            ]
          },
          "metadata": {}
        },
        {
          "output_type": "display_data",
          "data": {
            "text/plain": [
              "<IPython.core.display.HTML object>"
            ],
            "text/html": [
              "<pre style='font-family:monospace'>Iteration 138: Trial Sequence: LKVLFLQHGEVHNIADSYANQYLYKKS<span style='color:red;font-weight:bold'>I</span>TVKA, Total Score: 0.049</pre>"
            ]
          },
          "metadata": {}
        },
        {
          "output_type": "display_data",
          "data": {
            "text/plain": [
              "<IPython.core.display.HTML object>"
            ],
            "text/html": [
              "<pre style='font-family:monospace'>Iteration 139: Trial Sequence: LKVLFLQHGEVHNIADSYANQYL<span style='color:red;font-weight:bold'>F</span>KKSIAVKA, Total Score: 9.090</pre>"
            ]
          },
          "metadata": {}
        },
        {
          "output_type": "display_data",
          "data": {
            "text/plain": [
              "<IPython.core.display.HTML object>"
            ],
            "text/html": [
              "<pre style='font-family:monospace'>Iteration 140: Trial Sequence: LKVLFLQHGEVHNI<span style='color:red;font-weight:bold'>S</span>DSYANQYLYKKSIAVKA, Total Score: 0.810</pre>"
            ]
          },
          "metadata": {}
        },
        {
          "output_type": "display_data",
          "data": {
            "text/plain": [
              "<IPython.core.display.HTML object>"
            ],
            "text/html": [
              "<pre style='font-family:monospace'>Iteration 141: Trial Sequence: LKVLFLQHGEV<span style='color:red;font-weight:bold'>R</span>NIADSYANQYLYKKSIAVKA, Total Score: 0.607</pre>"
            ]
          },
          "metadata": {}
        },
        {
          "output_type": "display_data",
          "data": {
            "text/plain": [
              "<IPython.core.display.HTML object>"
            ],
            "text/html": [
              "<pre style='font-family:monospace'>Iteration 142: Trial Sequence: LKVLFLQHGEV<span style='color:red;font-weight:bold'>H</span>NIADSYANQYVYKKSIAVKA, Total Score: 0.014</pre>"
            ]
          },
          "metadata": {}
        },
        {
          "output_type": "display_data",
          "data": {
            "text/plain": [
              "<IPython.core.display.HTML object>"
            ],
            "text/html": [
              "<pre style='font-family:monospace'>Iteration 143: Trial Sequence: LKVLFLQHGEVHNIADS<span style='color:red;font-weight:bold'>W</span>ANQYLYKKSIAVKA, Total Score: 0.307</pre>"
            ]
          },
          "metadata": {}
        },
        {
          "output_type": "display_data",
          "data": {
            "text/plain": [
              "<IPython.core.display.HTML object>"
            ],
            "text/html": [
              "<pre style='font-family:monospace'>Iteration 144: Trial Sequence: LK<span style='color:red;font-weight:bold'>I</span>LFLQHGEVHNIADSYANQYLYKKSIAVKA, Total Score: 1.534</pre>"
            ]
          },
          "metadata": {}
        },
        {
          "output_type": "display_data",
          "data": {
            "text/plain": [
              "<IPython.core.display.HTML object>"
            ],
            "text/html": [
              "<pre style='font-family:monospace'>Iteration 145: Trial Sequence: LK<span style='color:red;font-weight:bold'>V</span>LFLEHGEVHNIADSYANQYLYKKSIAVKA, Total Score: 0.159</pre>"
            ]
          },
          "metadata": {}
        },
        {
          "output_type": "display_data",
          "data": {
            "text/plain": [
              "<IPython.core.display.HTML object>"
            ],
            "text/html": [
              "<pre style='font-family:monospace'>Iteration 146: Trial Sequence: LKV<span style='color:red;font-weight:bold'>I</span>FLQHGEVHNIADSYANQYLYKKSIAVKA, Total Score: 2.324</pre>"
            ]
          },
          "metadata": {}
        },
        {
          "output_type": "display_data",
          "data": {
            "text/plain": [
              "<IPython.core.display.HTML object>"
            ],
            "text/html": [
              "<pre style='font-family:monospace'>Iteration 147: Trial Sequence: LKV<span style='color:red;font-weight:bold'>L</span>FLQHGEVHNIADSYANQYLYKQSIAVKA, Total Score: 31.301</pre>"
            ]
          },
          "metadata": {}
        },
        {
          "output_type": "display_data",
          "data": {
            "text/plain": [
              "<IPython.core.display.HTML object>"
            ],
            "text/html": [
              "<pre style='font-family:monospace'>Iteration 148: Trial Sequence: LKVLFLQHGEVHNIADSYANQYLYK<span style='color:red;font-weight:bold'>K</span>SIAMKA, Total Score: 0.076</pre>"
            ]
          },
          "metadata": {}
        },
        {
          "output_type": "display_data",
          "data": {
            "text/plain": [
              "<IPython.core.display.HTML object>"
            ],
            "text/html": [
              "<pre style='font-family:monospace'>Iteration 149: Trial Sequence: LKVLFL<span style='color:red;font-weight:bold'>R</span>HGEVHNIADSYANQYLYKKSIAVKA, Total Score: 11.745</pre>"
            ]
          },
          "metadata": {}
        },
        {
          "output_type": "display_data",
          "data": {
            "text/plain": [
              "<IPython.core.display.HTML object>"
            ],
            "text/html": [
              "<pre style='font-family:monospace'>Iteration 150: Trial Sequence: LKVLFL<span style='color:red;font-weight:bold'>Q</span>HGKVHNIADSYANQYLYKKSIAVKA, Total Score: 0.064</pre>"
            ]
          },
          "metadata": {}
        },
        {
          "output_type": "display_data",
          "data": {
            "text/plain": [
              "<IPython.core.display.HTML object>"
            ],
            "text/html": [
              "<pre style='font-family:monospace'>Iteration 151: Trial Sequence: LK<span style='color:red;font-weight:bold'>L</span>LFLQHGEVHNIADSYANQYLYKKSIAVKA, Total Score: 1.021</pre>"
            ]
          },
          "metadata": {}
        },
        {
          "output_type": "display_data",
          "data": {
            "text/plain": [
              "<IPython.core.display.HTML object>"
            ],
            "text/html": [
              "<pre style='font-family:monospace'>Iteration 152: Trial Sequence: LK<span style='color:red;font-weight:bold'>V</span>LYLQHGEVHNIADSYANQYLYKKSIAVKA, Total Score: 1.525</pre>"
            ]
          },
          "metadata": {}
        },
        {
          "output_type": "display_data",
          "data": {
            "text/plain": [
              "<IPython.core.display.HTML object>"
            ],
            "text/html": [
              "<pre style='font-family:monospace'>Iteration 153: Trial Sequence: LKV<span style='color:red;font-weight:bold'>V</span>FLQHGEVHNIADSYANQYLYKKSIAVKA, Total Score: 17.920</pre>"
            ]
          },
          "metadata": {}
        },
        {
          "output_type": "display_data",
          "data": {
            "text/plain": [
              "<IPython.core.display.HTML object>"
            ],
            "text/html": [
              "<pre style='font-family:monospace'>Iteration 154: Trial Sequence: LKV<span style='color:red;font-weight:bold'>L</span>FLQHGEVHNIADSYANQYLYKKCIAVKA, Total Score: 2.216</pre>"
            ]
          },
          "metadata": {}
        },
        {
          "output_type": "display_data",
          "data": {
            "text/plain": [
              "<IPython.core.display.HTML object>"
            ],
            "text/html": [
              "<pre style='font-family:monospace'>Iteration 155: Trial Sequence: LKVLFLQHGEVHNIADSYANQYLYKK<span style='color:red;font-weight:bold'>S</span>IAVNA, Total Score: 0.207</pre>"
            ]
          },
          "metadata": {}
        },
        {
          "output_type": "display_data",
          "data": {
            "text/plain": [
              "<IPython.core.display.HTML object>"
            ],
            "text/html": [
              "<pre style='font-family:monospace'>Iteration 156: Trial Sequence: LKVLFLQHGEVHNI<span style='color:red;font-weight:bold'>G</span>DSYANQYLYKKSIAVKA, Total Score: 0.048</pre>"
            ]
          },
          "metadata": {}
        },
        {
          "output_type": "display_data",
          "data": {
            "text/plain": [
              "<IPython.core.display.HTML object>"
            ],
            "text/html": [
              "<pre style='font-family:monospace'>Iteration 157: Trial Sequence: LKVLFLQHGEVHNI<span style='color:red;font-weight:bold'>A</span>DSYANQYIYKKSIAVKA, Total Score: 0.016</pre>"
            ]
          },
          "metadata": {}
        },
        {
          "output_type": "display_data",
          "data": {
            "text/plain": [
              "<IPython.core.display.HTML object>"
            ],
            "text/html": [
              "<pre style='font-family:monospace'>Iteration 158: Trial Sequence: LKVLFLQHGEVHNIADSYANQY<span style='color:red;font-weight:bold'>L</span>YKKSIAIKA, Total Score: 1.558</pre>"
            ]
          },
          "metadata": {}
        },
        {
          "output_type": "display_data",
          "data": {
            "text/plain": [
              "<IPython.core.display.HTML object>"
            ],
            "text/html": [
              "<pre style='font-family:monospace'>Iteration 159: Trial Sequence: LKVLFLQHGEVHNIADSYAN<span style='color:green;font-weight:bold'>R</span>YLYKKSIAVKA, <span style='color:blue;font-weight:bold'>Total Score: 34.227</span></pre>"
            ]
          },
          "metadata": {}
        },
        {
          "output_type": "display_data",
          "data": {
            "text/plain": [
              "<IPython.core.display.HTML object>"
            ],
            "text/html": [
              "<pre style='font-family:monospace'>Iteration 160: Trial Sequence: LKVLFLQHGEVHNIADSYANR<span style='color:red;font-weight:bold'>F</span>LYKKSIAVKA, Total Score: 1.257</pre>"
            ]
          },
          "metadata": {}
        },
        {
          "output_type": "display_data",
          "data": {
            "text/plain": [
              "<IPython.core.display.HTML object>"
            ],
            "text/html": [
              "<pre style='font-family:monospace'>Iteration 161: Trial Sequence: LKVLFLQHGEVHNIADS<span style='color:red;font-weight:bold'>F</span>ANRYLYKKSIAVKA, Total Score: 0.070</pre>"
            ]
          },
          "metadata": {}
        },
        {
          "output_type": "display_data",
          "data": {
            "text/plain": [
              "<IPython.core.display.HTML object>"
            ],
            "text/html": [
              "<pre style='font-family:monospace'>Iteration 162: Trial Sequence: LKVLFLQHGEVHNIADS<span style='color:red;font-weight:bold'>Y</span>ANRYLYKNSIAVKA, Total Score: 32.726</pre>"
            ]
          },
          "metadata": {}
        },
        {
          "output_type": "display_data",
          "data": {
            "text/plain": [
              "<IPython.core.display.HTML object>"
            ],
            "text/html": [
              "<pre style='font-family:monospace'>Iteration 163: Trial Sequence: LKVLFLQH<span style='color:red;font-weight:bold'>S</span>EVHNIADSYANRYLYKKSIAVKA, Total Score: 0.064</pre>"
            ]
          },
          "metadata": {}
        },
        {
          "output_type": "display_data",
          "data": {
            "text/plain": [
              "<IPython.core.display.HTML object>"
            ],
            "text/html": [
              "<pre style='font-family:monospace'>Iteration 164: Trial Sequence: LKVLFLQH<span style='color:red;font-weight:bold'>G</span>EVHNIAESYANRYLYKKSIAVKA, Total Score: 0.116</pre>"
            ]
          },
          "metadata": {}
        },
        {
          "output_type": "display_data",
          "data": {
            "text/plain": [
              "<IPython.core.display.HTML object>"
            ],
            "text/html": [
              "<pre style='font-family:monospace'>Iteration 165: Trial Sequence: LKVLFLQHGEVHNIA<span style='color:red;font-weight:bold'>D</span>SYANRYLYKKSLAVKA, Total Score: 31.271</pre>"
            ]
          },
          "metadata": {}
        },
        {
          "output_type": "display_data",
          "data": {
            "text/plain": [
              "<IPython.core.display.HTML object>"
            ],
            "text/html": [
              "<pre style='font-family:monospace'>Iteration 166: Trial Sequence: LKVLFLQHGEVHNIADSYANRYLY<span style='color:red;font-weight:bold'>N</span>KSIAVKA, Total Score: 1.910</pre>"
            ]
          },
          "metadata": {}
        },
        {
          "output_type": "display_data",
          "data": {
            "text/plain": [
              "<IPython.core.display.HTML object>"
            ],
            "text/html": [
              "<pre style='font-family:monospace'>Iteration 167: Trial Sequence: LKVLFLQHGEVHN<span style='color:red;font-weight:bold'>V</span>ADSYANRYLYKKSIAVKA, Total Score: 31.083</pre>"
            ]
          },
          "metadata": {}
        },
        {
          "output_type": "display_data",
          "data": {
            "text/plain": [
              "<IPython.core.display.HTML object>"
            ],
            "text/html": [
              "<pre style='font-family:monospace'>Iteration 168: Trial Sequence: LKVLFLQHGEVHN<span style='color:red;font-weight:bold'>I</span>ADSYANRYLYKKSITVKA, Total Score: 0.077</pre>"
            ]
          },
          "metadata": {}
        },
        {
          "output_type": "display_data",
          "data": {
            "text/plain": [
              "<IPython.core.display.HTML object>"
            ],
            "text/html": [
              "<pre style='font-family:monospace'>Iteration 169: Trial Sequence: LKVLFLQHGEV<span style='color:red;font-weight:bold'>K</span>NIADSYANRYLYKKSIAVKA, Total Score: 4.756</pre>"
            ]
          },
          "metadata": {}
        },
        {
          "output_type": "display_data",
          "data": {
            "text/plain": [
              "<IPython.core.display.HTML object>"
            ],
            "text/html": [
              "<pre style='font-family:monospace'>Iteration 170: Trial Sequence: LKVLFLQHGEV<span style='color:red;font-weight:bold'>H</span>NIADSYANRYLYKKSIAVRA, Total Score: 11.199</pre>"
            ]
          },
          "metadata": {}
        },
        {
          "output_type": "display_data",
          "data": {
            "text/plain": [
              "<IPython.core.display.HTML object>"
            ],
            "text/html": [
              "<pre style='font-family:monospace'>Iteration 171: Trial Sequence: LKVLFLQHGEV<span style='color:red;font-weight:bold'>N</span>NIADSYANRYLYKKSIAVKA, Total Score: 0.055</pre>"
            ]
          },
          "metadata": {}
        },
        {
          "output_type": "display_data",
          "data": {
            "text/plain": [
              "<IPython.core.display.HTML object>"
            ],
            "text/html": [
              "<pre style='font-family:monospace'>Iteration 172: Trial Sequence: LKVLFLQHGEV<span style='color:red;font-weight:bold'>H</span>NIADSYANRYLYKKSVAVKA, Total Score: 0.749</pre>"
            ]
          },
          "metadata": {}
        },
        {
          "output_type": "display_data",
          "data": {
            "text/plain": [
              "<IPython.core.display.HTML object>"
            ],
            "text/html": [
              "<pre style='font-family:monospace'>Iteration 173: Trial Sequence: L<span style='color:red;font-weight:bold'>R</span>VLFLQHGEVHNIADSYANRYLYKKSIAVKA, Total Score: 0.211</pre>"
            ]
          },
          "metadata": {}
        },
        {
          "output_type": "display_data",
          "data": {
            "text/plain": [
              "<IPython.core.display.HTML object>"
            ],
            "text/html": [
              "<pre style='font-family:monospace'>Iteration 174: Trial Sequence: L<span style='color:red;font-weight:bold'>K</span>VLFLRHGEVHNIADSYANRYLYKKSIAVKA, Total Score: 11.682</pre>"
            ]
          },
          "metadata": {}
        },
        {
          "output_type": "display_data",
          "data": {
            "text/plain": [
              "<IPython.core.display.HTML object>"
            ],
            "text/html": [
              "<pre style='font-family:monospace'>Iteration 175: Trial Sequence: LKVLFL<span style='color:red;font-weight:bold'>Q</span>RGEVHNIADSYANRYLYKKSIAVKA, Total Score: 1.583</pre>"
            ]
          },
          "metadata": {}
        },
        {
          "output_type": "display_data",
          "data": {
            "text/plain": [
              "<IPython.core.display.HTML object>"
            ],
            "text/html": [
              "<pre style='font-family:monospace'>Iteration 176: Trial Sequence: LK<span style='color:red;font-weight:bold'>M</span>LFLQHGEVHNIADSYANRYLYKKSIAVKA, Total Score: 0.060</pre>"
            ]
          },
          "metadata": {}
        },
        {
          "output_type": "display_data",
          "data": {
            "text/plain": [
              "<IPython.core.display.HTML object>"
            ],
            "text/html": [
              "<pre style='font-family:monospace'>Iteration 177: Trial Sequence: LK<span style='color:red;font-weight:bold'>V</span>LFLQHGEVHNIADSYANRYVYKKSIAVKA, Total Score: 0.117</pre>"
            ]
          },
          "metadata": {}
        },
        {
          "output_type": "display_data",
          "data": {
            "text/plain": [
              "<IPython.core.display.HTML object>"
            ],
            "text/html": [
              "<pre style='font-family:monospace'>Iteration 178: Trial Sequence: LKVLFLQHGEVHNIADSYANRY<span style='color:red;font-weight:bold'>L</span>YKHSIAVKA, Total Score: 33.197</pre>"
            ]
          },
          "metadata": {}
        },
        {
          "output_type": "display_data",
          "data": {
            "text/plain": [
              "<IPython.core.display.HTML object>"
            ],
            "text/html": [
              "<pre style='font-family:monospace'>Iteration 179: Trial Sequence: L<span style='color:red;font-weight:bold'>H</span>VLFLQHGEVHNIADSYANRYLYKKSIAVKA, Total Score: 0.101</pre>"
            ]
          },
          "metadata": {}
        },
        {
          "output_type": "display_data",
          "data": {
            "text/plain": [
              "<IPython.core.display.HTML object>"
            ],
            "text/html": [
              "<pre style='font-family:monospace'>Iteration 180: Trial Sequence: L<span style='color:red;font-weight:bold'>K</span>VLFLQHGEVHNIADTYANRYLYKKSIAVKA, Total Score: 28.847</pre>"
            ]
          },
          "metadata": {}
        },
        {
          "output_type": "display_data",
          "data": {
            "text/plain": [
              "<IPython.core.display.HTML object>"
            ],
            "text/html": [
              "<pre style='font-family:monospace'>Iteration 181: Trial Sequence: LKVLFLQHGEVHNIAD<span style='color:red;font-weight:bold'>S</span>YANKYLYKKSIAVKA, Total Score: 33.354</pre>"
            ]
          },
          "metadata": {}
        },
        {
          "output_type": "display_data",
          "data": {
            "text/plain": [
              "<IPython.core.display.HTML object>"
            ],
            "text/html": [
              "<pre style='font-family:monospace'>Iteration 182: Trial Sequence: LKVLFLQHGEVHNIADSYAN<span style='color:red;font-weight:bold'>R</span>YLYKKSIAVHA, Total Score: 0.293</pre>"
            ]
          },
          "metadata": {}
        },
        {
          "output_type": "display_data",
          "data": {
            "text/plain": [
              "<IPython.core.display.HTML object>"
            ],
            "text/html": [
              "<pre style='font-family:monospace'>Iteration 183: Trial Sequence: LKVLFLQHGEVHNIADSYANRYLYKK<span style='color:red;font-weight:bold'>A</span>IAVKA, Total Score: 0.654</pre>"
            ]
          },
          "metadata": {}
        },
        {
          "output_type": "display_data",
          "data": {
            "text/plain": [
              "<IPython.core.display.HTML object>"
            ],
            "text/html": [
              "<pre style='font-family:monospace'>Iteration 184: Trial Sequence: LKVLFLQHGE<span style='color:red;font-weight:bold'>I</span>HNIADSYANRYLYKKSIAVKA, Total Score: 0.117</pre>"
            ]
          },
          "metadata": {}
        },
        {
          "output_type": "display_data",
          "data": {
            "text/plain": [
              "<IPython.core.display.HTML object>"
            ],
            "text/html": [
              "<pre style='font-family:monospace'>Iteration 185: Trial Sequence: LKVLFLQHGE<span style='color:red;font-weight:bold'>V</span>HNIADSYANRYLYKRSIAVKA, Total Score: 33.456</pre>"
            ]
          },
          "metadata": {}
        },
        {
          "output_type": "display_data",
          "data": {
            "text/plain": [
              "<IPython.core.display.HTML object>"
            ],
            "text/html": [
              "<pre style='font-family:monospace'>Iteration 186: Trial Sequence: LKVLFLQHGEVHN<span style='color:red;font-weight:bold'>L</span>ADSYANRYLYKKSIAVKA, Total Score: 0.064</pre>"
            ]
          },
          "metadata": {}
        },
        {
          "output_type": "display_data",
          "data": {
            "text/plain": [
              "<IPython.core.display.HTML object>"
            ],
            "text/html": [
              "<pre style='font-family:monospace'>Iteration 187: Trial Sequence: LKVLFLQ<span style='color:red;font-weight:bold'>K</span>GEVHNIADSYANRYLYKKSIAVKA, Total Score: 32.820</pre>"
            ]
          },
          "metadata": {}
        },
        {
          "output_type": "display_data",
          "data": {
            "text/plain": [
              "<IPython.core.display.HTML object>"
            ],
            "text/html": [
              "<pre style='font-family:monospace'>Iteration 188: Trial Sequence: LKVLFLQ<span style='color:red;font-weight:bold'>H</span>GELHNIADSYANRYLYKKSIAVKA, Total Score: 0.064</pre>"
            ]
          },
          "metadata": {}
        },
        {
          "output_type": "display_data",
          "data": {
            "text/plain": [
              "<IPython.core.display.HTML object>"
            ],
            "text/html": [
              "<pre style='font-family:monospace'>Iteration 189: Trial Sequence: <span style='color:red;font-weight:bold'>I</span>KVLFLQHGEVHNIADSYANRYLYKKSIAVKA, Total Score: 10.094</pre>"
            ]
          },
          "metadata": {}
        },
        {
          "output_type": "display_data",
          "data": {
            "text/plain": [
              "<IPython.core.display.HTML object>"
            ],
            "text/html": [
              "<pre style='font-family:monospace'>Iteration 190: Trial Sequence: <span style='color:red;font-weight:bold'>L</span>KVLFIQHGEVHNIADSYANRYLYKKSIAVKA, Total Score: 0.293</pre>"
            ]
          },
          "metadata": {}
        },
        {
          "output_type": "display_data",
          "data": {
            "text/plain": [
              "<IPython.core.display.HTML object>"
            ],
            "text/html": [
              "<pre style='font-family:monospace'>Iteration 191: Trial Sequence: LK<span style='color:red;font-weight:bold'>L</span>LFLQHGEVHNIADSYANRYLYKKSIAVKA, Total Score: 0.065</pre>"
            ]
          },
          "metadata": {}
        },
        {
          "output_type": "display_data",
          "data": {
            "text/plain": [
              "<IPython.core.display.HTML object>"
            ],
            "text/html": [
              "<pre style='font-family:monospace'>Iteration 192: Trial Sequence: LK<span style='color:red;font-weight:bold'>V</span>LFLQHGEVHNISDSYANRYLYKKSIAVKA, Total Score: 0.227</pre>"
            ]
          },
          "metadata": {}
        },
        {
          "output_type": "display_data",
          "data": {
            "text/plain": [
              "<IPython.core.display.HTML object>"
            ],
            "text/html": [
              "<pre style='font-family:monospace'>Iteration 193: Trial Sequence: LKVLFLQHGEV<span style='color:red;font-weight:bold'>Q</span>NIADSYANRYLYKKSIAVKA, Total Score: 0.072</pre>"
            ]
          },
          "metadata": {}
        },
        {
          "output_type": "display_data",
          "data": {
            "text/plain": [
              "<IPython.core.display.HTML object>"
            ],
            "text/html": [
              "<pre style='font-family:monospace'>Iteration 194: Trial Sequence: LKVL<span style='color:red;font-weight:bold'>W</span>LQHGEVHNIADSYANRYLYKKSIAVKA, Total Score: 0.037</pre>"
            ]
          },
          "metadata": {}
        },
        {
          "output_type": "display_data",
          "data": {
            "text/plain": [
              "<IPython.core.display.HTML object>"
            ],
            "text/html": [
              "<pre style='font-family:monospace'>Iteration 195: Trial Sequence: LKVL<span style='color:red;font-weight:bold'>F</span>LQHGEVHNIADQYANRYLYKKSIAVKA, Total Score: 0.044</pre>"
            ]
          },
          "metadata": {}
        },
        {
          "output_type": "display_data",
          "data": {
            "text/plain": [
              "<IPython.core.display.HTML object>"
            ],
            "text/html": [
              "<pre style='font-family:monospace'>Iteration 196: Trial Sequence: LKVLFLQHGEVHNIAD<span style='color:red;font-weight:bold'>S</span>YANRYLYHKSIAVKA, Total Score: 33.162</pre>"
            ]
          },
          "metadata": {}
        },
        {
          "output_type": "display_data",
          "data": {
            "text/plain": [
              "<IPython.core.display.HTML object>"
            ],
            "text/html": [
              "<pre style='font-family:monospace'>Iteration 197: Trial Sequence: LKVLFLQHGEVHNIADSYANRYL<span style='color:red;font-weight:bold'>F</span>KKSIAVKA, Total Score: 0.297</pre>"
            ]
          },
          "metadata": {}
        },
        {
          "output_type": "display_data",
          "data": {
            "text/plain": [
              "<IPython.core.display.HTML object>"
            ],
            "text/html": [
              "<pre style='font-family:monospace'>Iteration 198: Trial Sequence: LKVLFLQHGEVHNIADSYA<span style='color:green;font-weight:bold'>S</span>RYLYKKSIAVKA, <span style='color:blue;font-weight:bold'>Total Score: 35.746</span></pre>"
            ]
          },
          "metadata": {}
        },
        {
          "output_type": "display_data",
          "data": {
            "text/plain": [
              "<IPython.core.display.HTML object>"
            ],
            "text/html": [
              "<pre style='font-family:monospace'>Iteration 199: Trial Sequence: LKVLFLQHGEVHNIADSYASRYLYKKSIAV<span style='color:red;font-weight:bold'>Q</span>A, Total Score: 0.373</pre>"
            ]
          },
          "metadata": {}
        },
        {
          "output_type": "display_data",
          "data": {
            "text/plain": [
              "<IPython.core.display.HTML object>"
            ],
            "text/html": [
              "<pre style='font-family:monospace'>Iteration 200: Trial Sequence: LKVLFLQHGE<span style='color:red;font-weight:bold'>M</span>HNIADSYASRYLYKKSIAVKA, Total Score: 0.560</pre>"
            ]
          },
          "metadata": {}
        },
        {
          "output_type": "display_data",
          "data": {
            "text/plain": [
              "<IPython.core.display.HTML object>"
            ],
            "text/html": [
              "<pre style='font-family:monospace'>Iteration 201: Trial Sequence: LKVLFLQHGE<span style='color:red;font-weight:bold'>V</span>HNIADSYASRYIYKKSIAVKA, Total Score: 1.637</pre>"
            ]
          },
          "metadata": {}
        },
        {
          "output_type": "display_data",
          "data": {
            "text/plain": [
              "<IPython.core.display.HTML object>"
            ],
            "text/html": [
              "<pre style='font-family:monospace'>Iteration 202: Trial Sequence: LKVLFLQHGEVHNIADSYASRY<span style='color:red;font-weight:bold'>L</span>YKKSIALKA, Total Score: 0.472</pre>"
            ]
          },
          "metadata": {}
        },
        {
          "output_type": "display_data",
          "data": {
            "text/plain": [
              "<IPython.core.display.HTML object>"
            ],
            "text/html": [
              "<pre style='font-family:monospace'>Iteration 203: Trial Sequence: LKVLFLQHGEVHNIADSYASRY<span style='color:red;font-weight:bold'>V</span>YKKSIAVKA, Total Score: 2.994</pre>"
            ]
          },
          "metadata": {}
        },
        {
          "output_type": "display_data",
          "data": {
            "text/plain": [
              "<IPython.core.display.HTML object>"
            ],
            "text/html": [
              "<pre style='font-family:monospace'>Iteration 204: Trial Sequence: LKVL<span style='color:red;font-weight:bold'>Y</span>LQHGEVHNIADSYASRYLYKKSIAVKA, Total Score: 1.818</pre>"
            ]
          },
          "metadata": {}
        },
        {
          "output_type": "display_data",
          "data": {
            "text/plain": [
              "<IPython.core.display.HTML object>"
            ],
            "text/html": [
              "<pre style='font-family:monospace'>Iteration 205: Trial Sequence: LKVL<span style='color:red;font-weight:bold'>F</span>LQHGEVHNIADSFASRYLYKKSIAVKA, Total Score: 0.237</pre>"
            ]
          },
          "metadata": {}
        },
        {
          "output_type": "display_data",
          "data": {
            "text/plain": [
              "<IPython.core.display.HTML object>"
            ],
            "text/html": [
              "<pre style='font-family:monospace'>Iteration 206: Trial Sequence: LKV<span style='color:red;font-weight:bold'>I</span>FLQHGEVHNIADSYASRYLYKKSIAVKA, Total Score: 0.531</pre>"
            ]
          },
          "metadata": {}
        },
        {
          "output_type": "display_data",
          "data": {
            "text/plain": [
              "<IPython.core.display.HTML object>"
            ],
            "text/html": [
              "<pre style='font-family:monospace'>Iteration 207: Trial Sequence: LKV<span style='color:red;font-weight:bold'>L</span>FLQHGEVHNIADSYASRYLYRKSIAVKA, Total Score: 0.519</pre>"
            ]
          },
          "metadata": {}
        },
        {
          "output_type": "display_data",
          "data": {
            "text/plain": [
              "<IPython.core.display.HTML object>"
            ],
            "text/html": [
              "<pre style='font-family:monospace'>Iteration 208: Trial Sequence: LKVLFLQHGEVHNIA<span style='color:red;font-weight:bold'>E</span>SYASRYLYKKSIAVKA, Total Score: 0.204</pre>"
            ]
          },
          "metadata": {}
        },
        {
          "output_type": "display_data",
          "data": {
            "text/plain": [
              "<IPython.core.display.HTML object>"
            ],
            "text/html": [
              "<pre style='font-family:monospace'>Iteration 209: Trial Sequence: LKVLFLQH<span style='color:red;font-weight:bold'>S</span>EVHNIADSYASRYLYKKSIAVKA, Total Score: 0.071</pre>"
            ]
          },
          "metadata": {}
        },
        {
          "output_type": "display_data",
          "data": {
            "text/plain": [
              "<IPython.core.display.HTML object>"
            ],
            "text/html": [
              "<pre style='font-family:monospace'>Iteration 210: Trial Sequence: LKVLFLQH<span style='color:red;font-weight:bold'>G</span>EVHNIADSYASRYLFKKSIAVKA, Total Score: 2.654</pre>"
            ]
          },
          "metadata": {}
        },
        {
          "output_type": "display_data",
          "data": {
            "text/plain": [
              "<IPython.core.display.HTML object>"
            ],
            "text/html": [
              "<pre style='font-family:monospace'>Iteration 211: Trial Sequence: LKVLFLQHGEVHNIADSYASRYL<span style='color:red;font-weight:bold'>Y</span>KKSIAMKA, Total Score: 0.436</pre>"
            ]
          },
          "metadata": {}
        },
        {
          "output_type": "display_data",
          "data": {
            "text/plain": [
              "<IPython.core.display.HTML object>"
            ],
            "text/html": [
              "<pre style='font-family:monospace'>Iteration 212: Trial Sequence: LKVLFLQHGEVHNIADSYAS<span style='color:red;font-weight:bold'>H</span>YLYKKSIAVKA, Total Score: 2.155</pre>"
            ]
          },
          "metadata": {}
        },
        {
          "output_type": "display_data",
          "data": {
            "text/plain": [
              "<IPython.core.display.HTML object>"
            ],
            "text/html": [
              "<pre style='font-family:monospace'>Iteration 213: Trial Sequence: LKVLFLQHGEVHNIADSYAS<span style='color:red;font-weight:bold'>R</span>YLYKKSIAVRA, Total Score: 5.331</pre>"
            ]
          },
          "metadata": {}
        },
        {
          "output_type": "display_data",
          "data": {
            "text/plain": [
              "<IPython.core.display.HTML object>"
            ],
            "text/html": [
              "<pre style='font-family:monospace'>Iteration 214: Trial Sequence: LKVLFLQHGEVHN<span style='color:red;font-weight:bold'>M</span>ADSYASRYLYKKSIAVKA, Total Score: 0.364</pre>"
            ]
          },
          "metadata": {}
        },
        {
          "output_type": "display_data",
          "data": {
            "text/plain": [
              "<IPython.core.display.HTML object>"
            ],
            "text/html": [
              "<pre style='font-family:monospace'>Iteration 215: Trial Sequence: LKVLFLQHGEV<span style='color:red;font-weight:bold'>N</span>NIADSYASRYLYKKSIAVKA, Total Score: 0.068</pre>"
            ]
          },
          "metadata": {}
        },
        {
          "output_type": "display_data",
          "data": {
            "text/plain": [
              "<IPython.core.display.HTML object>"
            ],
            "text/html": [
              "<pre style='font-family:monospace'>Iteration 216: Trial Sequence: LKVLFLQHGEV<span style='color:red;font-weight:bold'>H</span>TIADSYASRYLYKKSIAVKA, Total Score: 2.452</pre>"
            ]
          },
          "metadata": {}
        },
        {
          "output_type": "display_data",
          "data": {
            "text/plain": [
              "<IPython.core.display.HTML object>"
            ],
            "text/html": [
              "<pre style='font-family:monospace'>Iteration 217: Trial Sequence: LK<span style='color:red;font-weight:bold'>I</span>LFLQHGEVHNIADSYASRYLYKKSIAVKA, Total Score: 0.400</pre>"
            ]
          },
          "metadata": {}
        },
        {
          "output_type": "display_data",
          "data": {
            "text/plain": [
              "<IPython.core.display.HTML object>"
            ],
            "text/html": [
              "<pre style='font-family:monospace'>Iteration 218: Trial Sequence: LK<span style='color:red;font-weight:bold'>V</span>LFLQHGEVHNIADSYASRYLYKKSVAVKA, Total Score: 0.252</pre>"
            ]
          },
          "metadata": {}
        },
        {
          "output_type": "display_data",
          "data": {
            "text/plain": [
              "<IPython.core.display.HTML object>"
            ],
            "text/html": [
              "<pre style='font-family:monospace'>Iteration 219: Trial Sequence: LKVLFLQHGEVHNIADSYASRYLY<span style='color:red;font-weight:bold'>N</span>KSIAVKA, Total Score: 1.882</pre>"
            ]
          },
          "metadata": {}
        },
        {
          "output_type": "display_data",
          "data": {
            "text/plain": [
              "<IPython.core.display.HTML object>"
            ],
            "text/html": [
              "<pre style='font-family:monospace'>Iteration 220: Trial Sequence: LKVLFLQHGEVHNIAD<span style='color:red;font-weight:bold'>N</span>YASRYLYKKSIAVKA, Total Score: 1.401</pre>"
            ]
          },
          "metadata": {}
        },
        {
          "output_type": "display_data",
          "data": {
            "text/plain": [
              "<IPython.core.display.HTML object>"
            ],
            "text/html": [
              "<pre style='font-family:monospace'>Iteration 221: Trial Sequence: LKVLFLQHGEVHNIAD<span style='color:red;font-weight:bold'>S</span>YASRYLYKKGIAVKA, Total Score: 32.114</pre>"
            ]
          },
          "metadata": {}
        },
        {
          "output_type": "display_data",
          "data": {
            "text/plain": [
              "<IPython.core.display.HTML object>"
            ],
            "text/html": [
              "<pre style='font-family:monospace'>Iteration 222: Trial Sequence: L<span style='color:red;font-weight:bold'>R</span>VLFLQHGEVHNIADSYASRYLYKKSIAVKA, Total Score: 0.344</pre>"
            ]
          },
          "metadata": {}
        },
        {
          "output_type": "display_data",
          "data": {
            "text/plain": [
              "<IPython.core.display.HTML object>"
            ],
            "text/html": [
              "<pre style='font-family:monospace'>Iteration 223: Trial Sequence: L<span style='color:red;font-weight:bold'>K</span>LLFLQHGEVHNIADSYASRYLYKKSIAVKA, Total Score: 0.087</pre>"
            ]
          },
          "metadata": {}
        },
        {
          "output_type": "display_data",
          "data": {
            "text/plain": [
              "<IPython.core.display.HTML object>"
            ],
            "text/html": [
              "<pre style='font-family:monospace'>Iteration 224: Trial Sequence: LK<span style='color:red;font-weight:bold'>V</span>LFLQHGEVHNIADAYASRYLYKKSIAVKA, Total Score: 0.210</pre>"
            ]
          },
          "metadata": {}
        },
        {
          "output_type": "display_data",
          "data": {
            "text/plain": [
              "<IPython.core.display.HTML object>"
            ],
            "text/html": [
              "<pre style='font-family:monospace'>Iteration 225: Trial Sequence: LKVLFLQHGEVHNIAD<span style='color:red;font-weight:bold'>S</span>YTSRYLYKKSIAVKA, Total Score: 0.307</pre>"
            ]
          },
          "metadata": {}
        },
        {
          "output_type": "display_data",
          "data": {
            "text/plain": [
              "<IPython.core.display.HTML object>"
            ],
            "text/html": [
              "<pre style='font-family:monospace'>Iteration 226: Trial Sequence: LKVLFLQHGEVHNI<span style='color:red;font-weight:bold'>G</span>DSYASRYLYKKSIAVKA, Total Score: 0.480</pre>"
            ]
          },
          "metadata": {}
        },
        {
          "output_type": "display_data",
          "data": {
            "text/plain": [
              "<IPython.core.display.HTML object>"
            ],
            "text/html": [
              "<pre style='font-family:monospace'>Iteration 227: Trial Sequence: LKVLFLQHGEVHNI<span style='color:red;font-weight:bold'>S</span>DSYASRYLYKKSIAVKA, Total Score: 0.285</pre>"
            ]
          },
          "metadata": {}
        },
        {
          "output_type": "display_data",
          "data": {
            "text/plain": [
              "<IPython.core.display.HTML object>"
            ],
            "text/html": [
              "<pre style='font-family:monospace'>Iteration 228: Trial Sequence: LKVLFLQHGEVHNI<span style='color:red;font-weight:bold'>A</span>DSYASRYLYKRSIAVKA, Total Score: 3.306</pre>"
            ]
          },
          "metadata": {}
        },
        {
          "output_type": "display_data",
          "data": {
            "text/plain": [
              "<IPython.core.display.HTML object>"
            ],
            "text/html": [
              "<pre style='font-family:monospace'>Iteration 229: Trial Sequence: LKVLFLQHGEVHNIADSY<span style='color:red;font-weight:bold'>S</span>SRYLYKKSIAVKA, Total Score: 0.119</pre>"
            ]
          },
          "metadata": {}
        },
        {
          "output_type": "display_data",
          "data": {
            "text/plain": [
              "<IPython.core.display.HTML object>"
            ],
            "text/html": [
              "<pre style='font-family:monospace'>Iteration 230: Trial Sequence: LKVLFLQHGEVHN<span style='color:red;font-weight:bold'>L</span>ADSYASRYLYKKSIAVKA, Total Score: 0.097</pre>"
            ]
          },
          "metadata": {}
        },
        {
          "output_type": "display_data",
          "data": {
            "text/plain": [
              "<IPython.core.display.HTML object>"
            ],
            "text/html": [
              "<pre style='font-family:monospace'>Iteration 231: Trial Sequence: LKVLFLQHGEVHN<span style='color:red;font-weight:bold'>I</span>ADSYASRYLYKKSIGVKA, Total Score: 0.420</pre>"
            ]
          },
          "metadata": {}
        },
        {
          "output_type": "display_data",
          "data": {
            "text/plain": [
              "<IPython.core.display.HTML object>"
            ],
            "text/html": [
              "<pre style='font-family:monospace'>Iteration 232: Trial Sequence: LKVLF<span style='color:red;font-weight:bold'>I</span>QHGEVHNIADSYASRYLYKKSIAVKA, Total Score: 0.984</pre>"
            ]
          },
          "metadata": {}
        },
        {
          "output_type": "display_data",
          "data": {
            "text/plain": [
              "<IPython.core.display.HTML object>"
            ],
            "text/html": [
              "<pre style='font-family:monospace'>Iteration 233: Trial Sequence: LKVLF<span style='color:red;font-weight:bold'>L</span>QHGEVHNIADSYASRYLYKKSISVKA, Total Score: 0.348</pre>"
            ]
          },
          "metadata": {}
        },
        {
          "output_type": "display_data",
          "data": {
            "text/plain": [
              "<IPython.core.display.HTML object>"
            ],
            "text/html": [
              "<pre style='font-family:monospace'>Iteration 234: Trial Sequence: LKVLFLQHGEVHNIADS<span style='color:red;font-weight:bold'>W</span>ASRYLYKKSIAVKA, Total Score: 0.731</pre>"
            ]
          },
          "metadata": {}
        },
        {
          "output_type": "display_data",
          "data": {
            "text/plain": [
              "<IPython.core.display.HTML object>"
            ],
            "text/html": [
              "<pre style='font-family:monospace'>Iteration 235: Trial Sequence: LKVLFLQHGEVHNIADS<span style='color:red;font-weight:bold'>Y</span>ASRYLYKKAIAVKA, Total Score: 35.105</pre>"
            ]
          },
          "metadata": {}
        },
        {
          "output_type": "display_data",
          "data": {
            "text/plain": [
              "<IPython.core.display.HTML object>"
            ],
            "text/html": [
              "<pre style='font-family:monospace'>Iteration 236: Trial Sequence: LKVLFLQHGEVHNIADSYASR<span style='color:red;font-weight:bold'>W</span>LYKKSIAVKA, Total Score: 2.075</pre>"
            ]
          },
          "metadata": {}
        },
        {
          "output_type": "display_data",
          "data": {
            "text/plain": [
              "<IPython.core.display.HTML object>"
            ],
            "text/html": [
              "<pre style='font-family:monospace'>Iteration 237: Trial Sequence: LKVLFLQHGEVHNIADSYA<span style='color:red;font-weight:bold'>G</span>RYLYKKSIAVKA, Total Score: 0.405</pre>"
            ]
          },
          "metadata": {}
        },
        {
          "output_type": "display_data",
          "data": {
            "text/plain": [
              "<IPython.core.display.HTML object>"
            ],
            "text/html": [
              "<pre style='font-family:monospace'>Iteration 238: Trial Sequence: LKVLFLQHGEVHNIADSYA<span style='color:red;font-weight:bold'>S</span>RYLYKKSIAVNA, Total Score: 0.457</pre>"
            ]
          },
          "metadata": {}
        },
        {
          "output_type": "display_data",
          "data": {
            "text/plain": [
              "<IPython.core.display.HTML object>"
            ],
            "text/html": [
              "<pre style='font-family:monospace'>Iteration 239: Trial Sequence: LKVLFLQHGEVHNIADSYASRYL<span style='color:red;font-weight:bold'>W</span>KKSIAVKA, Total Score: 0.458</pre>"
            ]
          },
          "metadata": {}
        },
        {
          "output_type": "display_data",
          "data": {
            "text/plain": [
              "<IPython.core.display.HTML object>"
            ],
            "text/html": [
              "<pre style='font-family:monospace'>Iteration 240: Trial Sequence: LKVLFLQHGEVHNIADSY<span style='color:red;font-weight:bold'>G</span>SRYLYKKSIAVKA, Total Score: 0.109</pre>"
            ]
          },
          "metadata": {}
        },
        {
          "output_type": "display_data",
          "data": {
            "text/plain": [
              "<IPython.core.display.HTML object>"
            ],
            "text/html": [
              "<pre style='font-family:monospace'>Iteration 241: Trial Sequence: LKVLFLQHGEVHNIADSY<span style='color:red;font-weight:bold'>A</span>QRYLYKKSIAVKA, Total Score: 0.287</pre>"
            ]
          },
          "metadata": {}
        },
        {
          "output_type": "display_data",
          "data": {
            "text/plain": [
              "<IPython.core.display.HTML object>"
            ],
            "text/html": [
              "<pre style='font-family:monospace'>Iteration 242: Trial Sequence: LKVLFLQHGEVHNI<span style='color:red;font-weight:bold'>T</span>DSYASRYLYKKSIAVKA, Total Score: 0.205</pre>"
            ]
          },
          "metadata": {}
        },
        {
          "output_type": "display_data",
          "data": {
            "text/plain": [
              "<IPython.core.display.HTML object>"
            ],
            "text/html": [
              "<pre style='font-family:monospace'>Iteration 243: Trial Sequence: LKVLFLQHGEVHNI<span style='color:red;font-weight:bold'>A</span>DSYASRFLYKKSIAVKA, Total Score: 3.165</pre>"
            ]
          },
          "metadata": {}
        },
        {
          "output_type": "display_data",
          "data": {
            "text/plain": [
              "<IPython.core.display.HTML object>"
            ],
            "text/html": [
              "<pre style='font-family:monospace'>Iteration 244: Trial Sequence: LKVLFL<span style='color:red;font-weight:bold'>R</span>HGEVHNIADSYASRYLYKKSIAVKA, Total Score: 8.972</pre>"
            ]
          },
          "metadata": {}
        },
        {
          "output_type": "display_data",
          "data": {
            "text/plain": [
              "<IPython.core.display.HTML object>"
            ],
            "text/html": [
              "<pre style='font-family:monospace'>Iteration 245: Trial Sequence: LKVLFL<span style='color:red;font-weight:bold'>Q</span>HGEVHNIADSYASRYLYKKSIAIKA, Total Score: 3.366</pre>"
            ]
          },
          "metadata": {}
        },
        {
          "output_type": "display_data",
          "data": {
            "text/plain": [
              "<IPython.core.display.HTML object>"
            ],
            "text/html": [
              "<pre style='font-family:monospace'>Iteration 246: Trial Sequence: LKVLFLQHGEVHNIADSYASRYLY<span style='color:red;font-weight:bold'>Q</span>KSIAVKA, Total Score: 5.859</pre>"
            ]
          },
          "metadata": {}
        },
        {
          "output_type": "display_data",
          "data": {
            "text/plain": [
              "<IPython.core.display.HTML object>"
            ],
            "text/html": [
              "<pre style='font-family:monospace'>Iteration 247: Trial Sequence: LKV<span style='color:red;font-weight:bold'>V</span>FLQHGEVHNIADSYASRYLYKKSIAVKA, Total Score: 32.078</pre>"
            ]
          },
          "metadata": {}
        },
        {
          "output_type": "display_data",
          "data": {
            "text/plain": [
              "<IPython.core.display.HTML object>"
            ],
            "text/html": [
              "<pre style='font-family:monospace'>Iteration 248: Trial Sequence: LKV<span style='color:red;font-weight:bold'>L</span>FLQHGEVHNIADSYASRYLYKKSITVKA, Total Score: 0.688</pre>"
            ]
          },
          "metadata": {}
        },
        {
          "output_type": "display_data",
          "data": {
            "text/plain": [
              "<IPython.core.display.HTML object>"
            ],
            "text/html": [
              "<pre style='font-family:monospace'>Iteration 249: Trial Sequence: LKVLFLQHGEVHN<span style='color:red;font-weight:bold'>V</span>ADSYASRYLYKKSIAVKA, Total Score: 34.150</pre>"
            ]
          },
          "metadata": {}
        },
        {
          "output_type": "display_data",
          "data": {
            "text/plain": [
              "<IPython.core.display.HTML object>"
            ],
            "text/html": [
              "<pre style='font-family:monospace'>Iteration 250: Trial Sequence: LKVLFLQHGEV<span style='color:red;font-weight:bold'>R</span>NIADSYASRYLYKKSIAVKA, Total Score: 4.432</pre>"
            ]
          },
          "metadata": {}
        },
        {
          "output_type": "display_data",
          "data": {
            "text/plain": [
              "<IPython.core.display.HTML object>"
            ],
            "text/html": [
              "<pre style='font-family:monospace'>Iteration 251: Trial Sequence: LKVLFL<span style='color:red;font-weight:bold'>N</span>HGEVHNIADSYASRYLYKKSIAVKA, Total Score: 0.376</pre>"
            ]
          },
          "metadata": {}
        },
        {
          "output_type": "display_data",
          "data": {
            "text/plain": [
              "<IPython.core.display.HTML object>"
            ],
            "text/html": [
              "<pre style='font-family:monospace'>Iteration 252: Trial Sequence: LKVLFL<span style='color:red;font-weight:bold'>Q</span>HGELHNIADSYASRYLYKKSIAVKA, Total Score: 0.076</pre>"
            ]
          },
          "metadata": {}
        },
        {
          "output_type": "display_data",
          "data": {
            "text/plain": [
              "<IPython.core.display.HTML object>"
            ],
            "text/html": [
              "<pre style='font-family:monospace'>Iteration 253: Trial Sequence: LKVLFLQHGE<span style='color:red;font-weight:bold'>V</span>HNIADSYASRYLYKQSIAVKA, Total Score: 31.643</pre>"
            ]
          },
          "metadata": {}
        },
        {
          "output_type": "display_data",
          "data": {
            "text/plain": [
              "<IPython.core.display.HTML object>"
            ],
            "text/html": [
              "<pre style='font-family:monospace'>Iteration 254: Trial Sequence: LKVL<span style='color:red;font-weight:bold'>W</span>LQHGEVHNIADSYASRYLYKKSIAVKA, Total Score: 0.761</pre>"
            ]
          },
          "metadata": {}
        },
        {
          "output_type": "display_data",
          "data": {
            "text/plain": [
              "<IPython.core.display.HTML object>"
            ],
            "text/html": [
              "<pre style='font-family:monospace'>Iteration 255: Trial Sequence: LKVL<span style='color:red;font-weight:bold'>F</span>LKHGEVHNIADSYASRYLYKKSIAVKA, Total Score: 34.626</pre>"
            ]
          },
          "metadata": {}
        },
        {
          "output_type": "display_data",
          "data": {
            "text/plain": [
              "<IPython.core.display.HTML object>"
            ],
            "text/html": [
              "<pre style='font-family:monospace'>Iteration 256: Trial Sequence: LKVLFL<span style='color:red;font-weight:bold'>Q</span>HGHVHNIADSYASRYLYKKSIAVKA, Total Score: 0.416</pre>"
            ]
          },
          "metadata": {}
        },
        {
          "output_type": "display_data",
          "data": {
            "text/plain": [
              "<IPython.core.display.HTML object>"
            ],
            "text/html": [
              "<pre style='font-family:monospace'>Iteration 257: Trial Sequence: LKVLFLQ<span style='color:red;font-weight:bold'>K</span>GEVHNIADSYASRYLYKKSIAVKA, Total Score: 32.335</pre>"
            ]
          },
          "metadata": {}
        },
        {
          "output_type": "display_data",
          "data": {
            "text/plain": [
              "<IPython.core.display.HTML object>"
            ],
            "text/html": [
              "<pre style='font-family:monospace'>Iteration 258: Trial Sequence: LKVLFLQ<span style='color:red;font-weight:bold'>H</span>GEIHNIADSYASRYLYKKSIAVKA, Total Score: 1.109</pre>"
            ]
          },
          "metadata": {}
        },
        {
          "output_type": "display_data",
          "data": {
            "text/plain": [
              "<IPython.core.display.HTML object>"
            ],
            "text/html": [
              "<pre style='font-family:monospace'>Iteration 259: Trial Sequence: LKVLFLQ<span style='color:red;font-weight:bold'>R</span>GEVHNIADSYASRYLYKKSIAVKA, Total Score: 1.611</pre>"
            ]
          },
          "metadata": {}
        },
        {
          "output_type": "display_data",
          "data": {
            "text/plain": [
              "<IPython.core.display.HTML object>"
            ],
            "text/html": [
              "<pre style='font-family:monospace'>Iteration 260: Trial Sequence: LKVLFLQ<span style='color:red;font-weight:bold'>H</span>GEVHNIADTYASRYLYKKSIAVKA, Total Score: 35.721</pre>"
            ]
          },
          "metadata": {}
        },
        {
          "output_type": "display_data",
          "data": {
            "text/plain": [
              "<IPython.core.display.HTML object>"
            ],
            "text/html": [
              "<pre style='font-family:monospace'>Iteration 261: Trial Sequence: LKVLFLQHGEVHNIAD<span style='color:red;font-weight:bold'>G</span>YASRYLYKKSIAVKA, Total Score: 34.971</pre>"
            ]
          },
          "metadata": {}
        },
        {
          "output_type": "display_data",
          "data": {
            "text/plain": [
              "<IPython.core.display.HTML object>"
            ],
            "text/html": [
              "<pre style='font-family:monospace'>Iteration 262: Trial Sequence: <span style='color:red;font-weight:bold'>M</span>KVLFLQHGEVHNIADSYASRYLYKKSIAVKA, Total Score: 33.402</pre>"
            ]
          },
          "metadata": {}
        },
        {
          "output_type": "display_data",
          "data": {
            "text/plain": [
              "<IPython.core.display.HTML object>"
            ],
            "text/html": [
              "<pre style='font-family:monospace'>Iteration 263: Trial Sequence: <span style='color:red;font-weight:bold'>L</span>KVLFLDHGEVHNIADSYASRYLYKKSIAVKA, Total Score: 0.471</pre>"
            ]
          },
          "metadata": {}
        },
        {
          "output_type": "display_data",
          "data": {
            "text/plain": [
              "<IPython.core.display.HTML object>"
            ],
            "text/html": [
              "<pre style='font-family:monospace'>Iteration 264: Trial Sequence: LKVLFL<span style='color:green;font-weight:bold'>Q</span>HGEVHNIADSYATRYLYKKSIAVKA, <span style='color:blue;font-weight:bold'>Total Score: 35.889</span></pre>"
            ]
          },
          "metadata": {}
        },
        {
          "output_type": "display_data",
          "data": {
            "text/plain": [
              "<IPython.core.display.HTML object>"
            ],
            "text/html": [
              "<pre style='font-family:monospace'>Iteration 265: Trial Sequence: LKVLFLQHGEV<span style='color:red;font-weight:bold'>R</span>NIADSYATRYLYKKSIAVKA, Total Score: 2.064</pre>"
            ]
          },
          "metadata": {}
        },
        {
          "output_type": "display_data",
          "data": {
            "text/plain": [
              "<IPython.core.display.HTML object>"
            ],
            "text/html": [
              "<pre style='font-family:monospace'>Iteration 266: Trial Sequence: LKVLFLQHGEV<span style='color:red;font-weight:bold'>H</span>NIADSYATRYLYKRSIAVKA, Total Score: 35.333</pre>"
            ]
          },
          "metadata": {}
        },
        {
          "output_type": "display_data",
          "data": {
            "text/plain": [
              "<IPython.core.display.HTML object>"
            ],
            "text/html": [
              "<pre style='font-family:monospace'>Iteration 267: Trial Sequence: LKVLFLQHGEVHNIADSYATRYLY<span style='color:red;font-weight:bold'>R</span>KSIAVKA, Total Score: 0.471</pre>"
            ]
          },
          "metadata": {}
        },
        {
          "output_type": "display_data",
          "data": {
            "text/plain": [
              "<IPython.core.display.HTML object>"
            ],
            "text/html": [
              "<pre style='font-family:monospace'>Iteration 268: Trial Sequence: LKVLFLQHGEVHNIADSYATRYLY<span style='color:red;font-weight:bold'>K</span>KSLAVKA, Total Score: 33.756</pre>"
            ]
          },
          "metadata": {}
        },
        {
          "output_type": "display_data",
          "data": {
            "text/plain": [
              "<IPython.core.display.HTML object>"
            ],
            "text/html": [
              "<pre style='font-family:monospace'>Iteration 269: Trial Sequence: LKVLFLQHGEVHNIADS<span style='color:red;font-weight:bold'>W</span>ATRYLYKKSIAVKA, Total Score: 0.800</pre>"
            ]
          },
          "metadata": {}
        },
        {
          "output_type": "display_data",
          "data": {
            "text/plain": [
              "<IPython.core.display.HTML object>"
            ],
            "text/html": [
              "<pre style='font-family:monospace'>Iteration 270: Trial Sequence: L<span style='color:red;font-weight:bold'>H</span>VLFLQHGEVHNIADSYATRYLYKKSIAVKA, Total Score: 0.667</pre>"
            ]
          },
          "metadata": {}
        },
        {
          "output_type": "display_data",
          "data": {
            "text/plain": [
              "<IPython.core.display.HTML object>"
            ],
            "text/html": [
              "<pre style='font-family:monospace'>Iteration 271: Trial Sequence: L<span style='color:red;font-weight:bold'>K</span>VLFLQHGEVHTIADSYATRYLYKKSIAVKA, Total Score: 2.371</pre>"
            ]
          },
          "metadata": {}
        },
        {
          "output_type": "display_data",
          "data": {
            "text/plain": [
              "<IPython.core.display.HTML object>"
            ],
            "text/html": [
              "<pre style='font-family:monospace'>Iteration 272: Trial Sequence: LKVLFLQHGEVH<span style='color:red;font-weight:bold'>N</span>IADQYATRYLYKKSIAVKA, Total Score: 0.127</pre>"
            ]
          },
          "metadata": {}
        },
        {
          "output_type": "display_data",
          "data": {
            "text/plain": [
              "<IPython.core.display.HTML object>"
            ],
            "text/html": [
              "<pre style='font-family:monospace'>Iteration 273: Trial Sequence: L<span style='color:green;font-weight:bold'>N</span>VLFLQHGEVHNIADSYATRYLYKKSIAVKA, <span style='color:blue;font-weight:bold'>Total Score: 37.429</span></pre>"
            ]
          },
          "metadata": {}
        },
        {
          "output_type": "display_data",
          "data": {
            "text/plain": [
              "<IPython.core.display.HTML object>"
            ],
            "text/html": [
              "<pre style='font-family:monospace'>Iteration 274: Trial Sequence: LNVLFLQHGEVHNIADSYATR<span style='color:red;font-weight:bold'>F</span>LYKKSIAVKA, Total Score: 36.027</pre>"
            ]
          },
          "metadata": {}
        },
        {
          "output_type": "display_data",
          "data": {
            "text/plain": [
              "<IPython.core.display.HTML object>"
            ],
            "text/html": [
              "<pre style='font-family:monospace'>Iteration 275: Trial Sequence: LNVLFLQHGEVHNIADSYATR<span style='color:red;font-weight:bold'>Y</span>LFKKSIAVKA, Total Score: 35.798</pre>"
            ]
          },
          "metadata": {}
        },
        {
          "output_type": "display_data",
          "data": {
            "text/plain": [
              "<IPython.core.display.HTML object>"
            ],
            "text/html": [
              "<pre style='font-family:monospace'>Iteration 276: Trial Sequence: LNVLF<span style='color:red;font-weight:bold'>I</span>QHGEVHNIADSYATRYLYKKSIAVKA, Total Score: 6.443</pre>"
            ]
          },
          "metadata": {}
        },
        {
          "output_type": "display_data",
          "data": {
            "text/plain": [
              "<IPython.core.display.HTML object>"
            ],
            "text/html": [
              "<pre style='font-family:monospace'>Iteration 277: Trial Sequence: LNVLF<span style='color:red;font-weight:bold'>L</span>QHGEVHNIADSYAGRYLYKKSIAVKA, Total Score: 0.622</pre>"
            ]
          },
          "metadata": {}
        },
        {
          "output_type": "display_data",
          "data": {
            "text/plain": [
              "<IPython.core.display.HTML object>"
            ],
            "text/html": [
              "<pre style='font-family:monospace'>Iteration 278: Trial Sequence: LNVLFLQHGEVHNI<span style='color:green;font-weight:bold'>S</span>DSYATRYLYKKSIAVKA, <span style='color:blue;font-weight:bold'>Total Score: 39.940</span></pre>"
            ]
          },
          "metadata": {}
        },
        {
          "output_type": "display_data",
          "data": {
            "text/plain": [
              "<IPython.core.display.HTML object>"
            ],
            "text/html": [
              "<pre style='font-family:monospace'>Iteration 279: Trial Sequence: LN<span style='color:red;font-weight:bold'>L</span>LFLQHGEVHNISDSYATRYLYKKSIAVKA, Total Score: 1.234</pre>"
            ]
          },
          "metadata": {}
        },
        {
          "output_type": "display_data",
          "data": {
            "text/plain": [
              "<IPython.core.display.HTML object>"
            ],
            "text/html": [
              "<pre style='font-family:monospace'>Iteration 280: Trial Sequence: LN<span style='color:red;font-weight:bold'>V</span>LFLQHGELHNISDSYATRYLYKKSIAVKA, Total Score: 0.210</pre>"
            ]
          },
          "metadata": {}
        },
        {
          "output_type": "display_data",
          "data": {
            "text/plain": [
              "<IPython.core.display.HTML object>"
            ],
            "text/html": [
              "<pre style='font-family:monospace'>Iteration 281: Trial Sequence: LNVLFLQ<span style='color:green;font-weight:bold'>Q</span>GEVHNISDSYATRYLYKKSIAVKA, <span style='color:blue;font-weight:bold'>Total Score: 40.169</span></pre>"
            ]
          },
          "metadata": {}
        },
        {
          "output_type": "display_data",
          "data": {
            "text/plain": [
              "<IPython.core.display.HTML object>"
            ],
            "text/html": [
              "<pre style='font-family:monospace'>Iteration 282: Trial Sequence: LNVLFLQQG<span style='color:red;font-weight:bold'>N</span>VHNISDSYATRYLYKKSIAVKA, Total Score: 0.175</pre>"
            ]
          },
          "metadata": {}
        },
        {
          "output_type": "display_data",
          "data": {
            "text/plain": [
              "<IPython.core.display.HTML object>"
            ],
            "text/html": [
              "<pre style='font-family:monospace'>Iteration 283: Trial Sequence: LNVLFLQQG<span style='color:red;font-weight:bold'>E</span>VHNISDSYATRYLYKRSIAVKA, Total Score: 39.595</pre>"
            ]
          },
          "metadata": {}
        },
        {
          "output_type": "display_data",
          "data": {
            "text/plain": [
              "<IPython.core.display.HTML object>"
            ],
            "text/html": [
              "<pre style='font-family:monospace'>Iteration 284: Trial Sequence: LNVLFLQQGEVHNISDSYATRYLYK<span style='color:green;font-weight:bold'>K</span>SIAVRA, <span style='color:blue;font-weight:bold'>Total Score: 40.516</span></pre>"
            ]
          },
          "metadata": {}
        },
        {
          "output_type": "display_data",
          "data": {
            "text/plain": [
              "<IPython.core.display.HTML object>"
            ],
            "text/html": [
              "<pre style='font-family:monospace'>Iteration 285: Trial Sequence: LNVLFLQQGEVHNISDSYATRYLYKKSIAV<span style='color:red;font-weight:bold'>H</span>A, Total Score: 2.097</pre>"
            ]
          },
          "metadata": {}
        },
        {
          "output_type": "display_data",
          "data": {
            "text/plain": [
              "<IPython.core.display.HTML object>"
            ],
            "text/html": [
              "<pre style='font-family:monospace'>Iteration 286: Trial Sequence: LNVLFLQQGEVHNISDSYATRYLYKKS<span style='color:red;font-weight:bold'>V</span>AVRA, Total Score: 0.364</pre>"
            ]
          },
          "metadata": {}
        },
        {
          "output_type": "display_data",
          "data": {
            "text/plain": [
              "<IPython.core.display.HTML object>"
            ],
            "text/html": [
              "<pre style='font-family:monospace'>Iteration 287: Trial Sequence: LNVLFLQQGEVHNISDSYA<span style='color:red;font-weight:bold'>G</span>RYLYKKSIAVRA, Total Score: 1.678</pre>"
            ]
          },
          "metadata": {}
        },
        {
          "output_type": "display_data",
          "data": {
            "text/plain": [
              "<IPython.core.display.HTML object>"
            ],
            "text/html": [
              "<pre style='font-family:monospace'>Iteration 288: Trial Sequence: LNVLFLQQGEVHNISDSYA<span style='color:red;font-weight:bold'>T</span>RYLYRKSIAVRA, Total Score: 1.690</pre>"
            ]
          },
          "metadata": {}
        },
        {
          "output_type": "display_data",
          "data": {
            "text/plain": [
              "<IPython.core.display.HTML object>"
            ],
            "text/html": [
              "<pre style='font-family:monospace'>Iteration 289: Trial Sequence: LNVLFLQQGEVH<span style='color:red;font-weight:bold'>Q</span>ISDSYATRYLYKKSIAVRA, Total Score: 2.406</pre>"
            ]
          },
          "metadata": {}
        },
        {
          "output_type": "display_data",
          "data": {
            "text/plain": [
              "<IPython.core.display.HTML object>"
            ],
            "text/html": [
              "<pre style='font-family:monospace'>Iteration 290: Trial Sequence: LNVLFLQQGEVH<span style='color:red;font-weight:bold'>N</span>ISDSYATRYLYKKSISVRA, Total Score: 1.317</pre>"
            ]
          },
          "metadata": {}
        },
        {
          "output_type": "display_data",
          "data": {
            "text/plain": [
              "<IPython.core.display.HTML object>"
            ],
            "text/html": [
              "<pre style='font-family:monospace'>Iteration 291: Trial Sequence: LNVLFLQQGEV<span style='color:red;font-weight:bold'>K</span>NISDSYATRYLYKKSIAVRA, Total Score: 0.675</pre>"
            ]
          },
          "metadata": {}
        },
        {
          "output_type": "display_data",
          "data": {
            "text/plain": [
              "<IPython.core.display.HTML object>"
            ],
            "text/html": [
              "<pre style='font-family:monospace'>Iteration 292: Trial Sequence: LNVLFLQQGEV<span style='color:red;font-weight:bold'>H</span>NISDSYATRYLYKKSIGVRA, Total Score: 0.635</pre>"
            ]
          },
          "metadata": {}
        },
        {
          "output_type": "display_data",
          "data": {
            "text/plain": [
              "<IPython.core.display.HTML object>"
            ],
            "text/html": [
              "<pre style='font-family:monospace'>Iteration 293: Trial Sequence: LNVLFLQQGEVHNISDSYATRY<span style='color:red;font-weight:bold'>M</span>YKKSIAVRA, Total Score: 0.206</pre>"
            ]
          },
          "metadata": {}
        },
        {
          "output_type": "display_data",
          "data": {
            "text/plain": [
              "<IPython.core.display.HTML object>"
            ],
            "text/html": [
              "<pre style='font-family:monospace'>Iteration 294: Trial Sequence: LNVLF<span style='color:red;font-weight:bold'>I</span>QQGEVHNISDSYATRYLYKKSIAVRA, Total Score: 1.161</pre>"
            ]
          },
          "metadata": {}
        },
        {
          "output_type": "display_data",
          "data": {
            "text/plain": [
              "<IPython.core.display.HTML object>"
            ],
            "text/html": [
              "<pre style='font-family:monospace'>Iteration 295: Trial Sequence: L<span style='color:red;font-weight:bold'>T</span>VLFLQQGEVHNISDSYATRYLYKKSIAVRA, Total Score: 1.707</pre>"
            ]
          },
          "metadata": {}
        },
        {
          "output_type": "display_data",
          "data": {
            "text/plain": [
              "<IPython.core.display.HTML object>"
            ],
            "text/html": [
              "<pre style='font-family:monospace'>Iteration 296: Trial Sequence: L<span style='color:red;font-weight:bold'>N</span>VLFLQQGEVHNISDSYATRYLYHKSIAVRA, Total Score: 29.271</pre>"
            ]
          },
          "metadata": {}
        },
        {
          "output_type": "display_data",
          "data": {
            "text/plain": [
              "<IPython.core.display.HTML object>"
            ],
            "text/html": [
              "<pre style='font-family:monospace'>Iteration 297: Trial Sequence: LNVLFLQ<span style='color:red;font-weight:bold'>H</span>GEVHNISDSYATRYLYKKSIAVRA, Total Score: 24.972</pre>"
            ]
          },
          "metadata": {}
        },
        {
          "output_type": "display_data",
          "data": {
            "text/plain": [
              "<IPython.core.display.HTML object>"
            ],
            "text/html": [
              "<pre style='font-family:monospace'>Iteration 298: Trial Sequence: LNVL<span style='color:red;font-weight:bold'>Y</span>LQQGEVHNISDSYATRYLYKKSIAVRA, Total Score: 0.253</pre>"
            ]
          },
          "metadata": {}
        },
        {
          "output_type": "display_data",
          "data": {
            "text/plain": [
              "<IPython.core.display.HTML object>"
            ],
            "text/html": [
              "<pre style='font-family:monospace'>Iteration 299: Trial Sequence: LNVL<span style='color:red;font-weight:bold'>F</span>LQQGEVHNISDSYATRYLWKKSIAVRA, Total Score: 30.843</pre>"
            ]
          },
          "metadata": {}
        },
        {
          "output_type": "display_data",
          "data": {
            "text/plain": [
              "<IPython.core.display.HTML object>"
            ],
            "text/html": [
              "<pre style='font-family:monospace'>Iteration 300: Trial Sequence: LNVLFLQQGEVHNISDSYATRY<span style='color:red;font-weight:bold'>V</span>YKKSIAVRA, Total Score: 1.490</pre>"
            ]
          },
          "metadata": {}
        },
        {
          "output_type": "display_data",
          "data": {
            "text/plain": [
              "<IPython.core.display.HTML object>"
            ],
            "text/html": [
              "<pre style='font-family:monospace'>Iteration 301: Trial Sequence: LNVLFLQQGEVHNISDSYATRY<span style='color:red;font-weight:bold'>L</span>YKNSIAVRA, Total Score: 0.737</pre>"
            ]
          },
          "metadata": {}
        },
        {
          "output_type": "display_data",
          "data": {
            "text/plain": [
              "<IPython.core.display.HTML object>"
            ],
            "text/html": [
              "<pre style='font-family:monospace'>Iteration 302: Trial Sequence: LNVL<span style='color:red;font-weight:bold'>W</span>LQQGEVHNISDSYATRYLYKKSIAVRA, Total Score: 0.079</pre>"
            ]
          },
          "metadata": {}
        },
        {
          "output_type": "display_data",
          "data": {
            "text/plain": [
              "<IPython.core.display.HTML object>"
            ],
            "text/html": [
              "<pre style='font-family:monospace'>Iteration 303: Trial Sequence: LNVL<span style='color:red;font-weight:bold'>F</span>LQQGEVHNISDQYATRYLYKKSIAVRA, Total Score: 2.002</pre>"
            ]
          },
          "metadata": {}
        },
        {
          "output_type": "display_data",
          "data": {
            "text/plain": [
              "<IPython.core.display.HTML object>"
            ],
            "text/html": [
              "<pre style='font-family:monospace'>Iteration 304: Trial Sequence: L<span style='color:red;font-weight:bold'>Q</span>VLFLQQGEVHNISDSYATRYLYKKSIAVRA, Total Score: 1.117</pre>"
            ]
          },
          "metadata": {}
        },
        {
          "output_type": "display_data",
          "data": {
            "text/plain": [
              "<IPython.core.display.HTML object>"
            ],
            "text/html": [
              "<pre style='font-family:monospace'>Iteration 305: Trial Sequence: L<span style='color:red;font-weight:bold'>N</span>VLFLQQGEVHNISDSYASRYLYKKSIAVRA, Total Score: 0.396</pre>"
            ]
          },
          "metadata": {}
        },
        {
          "output_type": "display_data",
          "data": {
            "text/plain": [
              "<IPython.core.display.HTML object>"
            ],
            "text/html": [
              "<pre style='font-family:monospace'>Iteration 306: Trial Sequence: LNVLFLQQG<span style='color:red;font-weight:bold'>R</span>VHNISDSYATRYLYKKSIAVRA, Total Score: 0.143</pre>"
            ]
          },
          "metadata": {}
        },
        {
          "output_type": "display_data",
          "data": {
            "text/plain": [
              "<IPython.core.display.HTML object>"
            ],
            "text/html": [
              "<pre style='font-family:monospace'>Iteration 307: Trial Sequence: LNVLFLQ<span style='color:red;font-weight:bold'>R</span>GEVHNISDSYATRYLYKKSIAVRA, Total Score: 39.353</pre>"
            ]
          },
          "metadata": {}
        },
        {
          "output_type": "display_data",
          "data": {
            "text/plain": [
              "<IPython.core.display.HTML object>"
            ],
            "text/html": [
              "<pre style='font-family:monospace'>Iteration 308: Trial Sequence: LNVLFLQ<span style='color:red;font-weight:bold'>Q</span>GEVQNISDSYATRYLYKKSIAVRA, Total Score: 0.418</pre>"
            ]
          },
          "metadata": {}
        },
        {
          "output_type": "display_data",
          "data": {
            "text/plain": [
              "<IPython.core.display.HTML object>"
            ],
            "text/html": [
              "<pre style='font-family:monospace'>Iteration 309: Trial Sequence: LNVLFLQQGEV<span style='color:red;font-weight:bold'>H</span>NISESYATRYLYKKSIAVRA, Total Score: 1.669</pre>"
            ]
          },
          "metadata": {}
        },
        {
          "output_type": "display_data",
          "data": {
            "text/plain": [
              "<IPython.core.display.HTML object>"
            ],
            "text/html": [
              "<pre style='font-family:monospace'>Iteration 310: Trial Sequence: LNVLFLQQGEVHNIS<span style='color:red;font-weight:bold'>D</span>SYSTRYLYKKSIAVRA, Total Score: 0.321</pre>"
            ]
          },
          "metadata": {}
        },
        {
          "output_type": "display_data",
          "data": {
            "text/plain": [
              "<IPython.core.display.HTML object>"
            ],
            "text/html": [
              "<pre style='font-family:monospace'>Iteration 311: Trial Sequence: LNV<span style='color:red;font-weight:bold'>I</span>FLQQGEVHNISDSYATRYLYKKSIAVRA, Total Score: 0.326</pre>"
            ]
          },
          "metadata": {}
        },
        {
          "output_type": "display_data",
          "data": {
            "text/plain": [
              "<IPython.core.display.HTML object>"
            ],
            "text/html": [
              "<pre style='font-family:monospace'>Iteration 312: Trial Sequence: LNV<span style='color:red;font-weight:bold'>L</span>FLQQGEVHNISDSYATHYLYKKSIAVRA, Total Score: 1.985</pre>"
            ]
          },
          "metadata": {}
        },
        {
          "output_type": "display_data",
          "data": {
            "text/plain": [
              "<IPython.core.display.HTML object>"
            ],
            "text/html": [
              "<pre style='font-family:monospace'>Iteration 313: Trial Sequence: LNVLFLQQGEVHNISDSYAT<span style='color:red;font-weight:bold'>R</span>YLYKKGIAVRA, Total Score: 37.435</pre>"
            ]
          },
          "metadata": {}
        },
        {
          "output_type": "display_data",
          "data": {
            "text/plain": [
              "<IPython.core.display.HTML object>"
            ],
            "text/html": [
              "<pre style='font-family:monospace'>Iteration 314: Trial Sequence: LNVLFLQQGEVHNISDSY<span style='color:red;font-weight:bold'>T</span>TRYLYKKSIAVRA, Total Score: 2.590</pre>"
            ]
          },
          "metadata": {}
        },
        {
          "output_type": "display_data",
          "data": {
            "text/plain": [
              "<IPython.core.display.HTML object>"
            ],
            "text/html": [
              "<pre style='font-family:monospace'>Iteration 315: Trial Sequence: LNVLFLQQGEVHN<span style='color:red;font-weight:bold'>L</span>SDSYATRYLYKKSIAVRA, Total Score: 0.352</pre>"
            ]
          },
          "metadata": {}
        },
        {
          "output_type": "display_data",
          "data": {
            "text/plain": [
              "<IPython.core.display.HTML object>"
            ],
            "text/html": [
              "<pre style='font-family:monospace'>Iteration 316: Trial Sequence: LNVLFLQQGEVHN<span style='color:red;font-weight:bold'>I</span>SDAYATRYLYKKSIAVRA, Total Score: 1.758</pre>"
            ]
          },
          "metadata": {}
        },
        {
          "output_type": "display_data",
          "data": {
            "text/plain": [
              "<IPython.core.display.HTML object>"
            ],
            "text/html": [
              "<pre style='font-family:monospace'>Iteration 317: Trial Sequence: LNVLFLQQGEVHNISD<span style='color:red;font-weight:bold'>S</span>YATRYLYKKSLAVRA, Total Score: 0.808</pre>"
            ]
          },
          "metadata": {}
        },
        {
          "output_type": "display_data",
          "data": {
            "text/plain": [
              "<IPython.core.display.HTML object>"
            ],
            "text/html": [
              "<pre style='font-family:monospace'>Iteration 318: Trial Sequence: LNVLFLQQGEVHNISDSYATR<span style='color:red;font-weight:bold'>W</span>LYKKSIAVRA, Total Score: 1.820</pre>"
            ]
          },
          "metadata": {}
        },
        {
          "output_type": "display_data",
          "data": {
            "text/plain": [
              "<IPython.core.display.HTML object>"
            ],
            "text/html": [
              "<pre style='font-family:monospace'>Iteration 319: Trial Sequence: L<span style='color:red;font-weight:bold'>S</span>VLFLQQGEVHNISDSYATRYLYKKSIAVRA, Total Score: 1.719</pre>"
            ]
          },
          "metadata": {}
        },
        {
          "output_type": "display_data",
          "data": {
            "text/plain": [
              "<IPython.core.display.HTML object>"
            ],
            "text/html": [
              "<pre style='font-family:monospace'>Iteration 320: Trial Sequence: L<span style='color:red;font-weight:bold'>N</span>VLFLQQGEVHNISDSYATRYLYKKAIAVRA, Total Score: 0.377</pre>"
            ]
          },
          "metadata": {}
        },
        {
          "output_type": "display_data",
          "data": {
            "text/plain": [
              "<IPython.core.display.HTML object>"
            ],
            "text/html": [
              "<pre style='font-family:monospace'>Iteration 321: Trial Sequence: LNVLFL<span style='color:red;font-weight:bold'>H</span>QGEVHNISDSYATRYLYKKSIAVRA, Total Score: 1.038</pre>"
            ]
          },
          "metadata": {}
        },
        {
          "output_type": "display_data",
          "data": {
            "text/plain": [
              "<IPython.core.display.HTML object>"
            ],
            "text/html": [
              "<pre style='font-family:monospace'>Iteration 322: Trial Sequence: LNVLF<span style='color:red;font-weight:bold'>V</span>QQGEVHNISDSYATRYLYKKSIAVRA, Total Score: 1.687</pre>"
            ]
          },
          "metadata": {}
        },
        {
          "output_type": "display_data",
          "data": {
            "text/plain": [
              "<IPython.core.display.HTML object>"
            ],
            "text/html": [
              "<pre style='font-family:monospace'>Iteration 323: Trial Sequence: LNVLF<span style='color:red;font-weight:bold'>L</span>QNGEVHNISDSYATRYLYKKSIAVRA, Total Score: 40.394</pre>"
            ]
          },
          "metadata": {}
        },
        {
          "output_type": "display_data",
          "data": {
            "text/plain": [
              "<IPython.core.display.HTML object>"
            ],
            "text/html": [
              "<pre style='font-family:monospace'>Iteration 324: Trial Sequence: LNVLFLQ<span style='color:red;font-weight:bold'>Q</span>GEMHNISDSYATRYLYKKSIAVRA, Total Score: 0.088</pre>"
            ]
          },
          "metadata": {}
        },
        {
          "output_type": "display_data",
          "data": {
            "text/plain": [
              "<IPython.core.display.HTML object>"
            ],
            "text/html": [
              "<pre style='font-family:monospace'>Iteration 325: Trial Sequence: LNVLFL<span style='color:red;font-weight:bold'>K</span>QGEVHNISDSYATRYLYKKSIAVRA, Total Score: 2.207</pre>"
            ]
          },
          "metadata": {}
        },
        {
          "output_type": "display_data",
          "data": {
            "text/plain": [
              "<IPython.core.display.HTML object>"
            ],
            "text/html": [
              "<pre style='font-family:monospace'>Iteration 326: Trial Sequence: <span style='color:red;font-weight:bold'>I</span>NVLFLQQGEVHNISDSYATRYLYKKSIAVRA, Total Score: 1.263</pre>"
            ]
          },
          "metadata": {}
        },
        {
          "output_type": "display_data",
          "data": {
            "text/plain": [
              "<IPython.core.display.HTML object>"
            ],
            "text/html": [
              "<pre style='font-family:monospace'>Iteration 327: Trial Sequence: <span style='color:red;font-weight:bold'>L</span>NVLFLQQGKVHNISDSYATRYLYKKSIAVRA, Total Score: 0.036</pre>"
            ]
          },
          "metadata": {}
        },
        {
          "output_type": "display_data",
          "data": {
            "text/plain": [
              "<IPython.core.display.HTML object>"
            ],
            "text/html": [
              "<pre style='font-family:monospace'>Iteration 328: Trial Sequence: LNVLFL<span style='color:red;font-weight:bold'>R</span>QGEVHNISDSYATRYLYKKSIAVRA, Total Score: 1.829</pre>"
            ]
          },
          "metadata": {}
        },
        {
          "output_type": "display_data",
          "data": {
            "text/plain": [
              "<IPython.core.display.HTML object>"
            ],
            "text/html": [
              "<pre style='font-family:monospace'>Iteration 329: Trial Sequence: LN<span style='color:red;font-weight:bold'>M</span>LFLQQGEVHNISDSYATRYLYKKSIAVRA, Total Score: 0.135</pre>"
            ]
          },
          "metadata": {}
        },
        {
          "output_type": "display_data",
          "data": {
            "text/plain": [
              "<IPython.core.display.HTML object>"
            ],
            "text/html": [
              "<pre style='font-family:monospace'>Iteration 330: Trial Sequence: LN<span style='color:red;font-weight:bold'>V</span>LFLQQGEVHNISDSYATRYLYKKSIALRA, Total Score: 0.903</pre>"
            ]
          },
          "metadata": {}
        },
        {
          "output_type": "display_data",
          "data": {
            "text/plain": [
              "<IPython.core.display.HTML object>"
            ],
            "text/html": [
              "<pre style='font-family:monospace'>Iteration 331: Trial Sequence: <span style='color:red;font-weight:bold'>V</span>NVLFLQQGEVHNISDSYATRYLYKKSIAVRA, Total Score: 39.411</pre>"
            ]
          },
          "metadata": {}
        },
        {
          "output_type": "display_data",
          "data": {
            "text/plain": [
              "<IPython.core.display.HTML object>"
            ],
            "text/html": [
              "<pre style='font-family:monospace'>Iteration 332: Trial Sequence: <span style='color:red;font-weight:bold'>L</span>NLLFLQQGEVHNISDSYATRYLYKKSIAVRA, Total Score: 0.374</pre>"
            ]
          },
          "metadata": {}
        },
        {
          "output_type": "display_data",
          "data": {
            "text/plain": [
              "<IPython.core.display.HTML object>"
            ],
            "text/html": [
              "<pre style='font-family:monospace'>Iteration 333: Trial Sequence: LN<span style='color:red;font-weight:bold'>V</span>LFLQQGEVHNISDSYATRFLYKKSIAVRA, Total Score: 1.451</pre>"
            ]
          },
          "metadata": {}
        },
        {
          "output_type": "display_data",
          "data": {
            "text/plain": [
              "<IPython.core.display.HTML object>"
            ],
            "text/html": [
              "<pre style='font-family:monospace'>Iteration 334: Trial Sequence: LNVLFLQQGEVHNISDSYATR<span style='color:red;font-weight:bold'>Y</span>LYQKSIAVRA, Total Score: 14.183</pre>"
            ]
          },
          "metadata": {}
        },
        {
          "output_type": "display_data",
          "data": {
            "text/plain": [
              "<IPython.core.display.HTML object>"
            ],
            "text/html": [
              "<pre style='font-family:monospace'>Iteration 335: Trial Sequence: LNVLFL<span style='color:red;font-weight:bold'>N</span>QGEVHNISDSYATRYLYKKSIAVRA, Total Score: 0.488</pre>"
            ]
          },
          "metadata": {}
        },
        {
          "output_type": "display_data",
          "data": {
            "text/plain": [
              "<IPython.core.display.HTML object>"
            ],
            "text/html": [
              "<pre style='font-family:monospace'>Iteration 336: Trial Sequence: LNV<span style='color:red;font-weight:bold'>M</span>FLQQGEVHNISDSYATRYLYKKSIAVRA, Total Score: 1.166</pre>"
            ]
          },
          "metadata": {}
        },
        {
          "output_type": "display_data",
          "data": {
            "text/plain": [
              "<IPython.core.display.HTML object>"
            ],
            "text/html": [
              "<pre style='font-family:monospace'>Iteration 337: Trial Sequence: LNV<span style='color:red;font-weight:bold'>L</span>FLQQGEVHNISDSYATRYIYKKSIAVRA, Total Score: 0.709</pre>"
            ]
          },
          "metadata": {}
        },
        {
          "output_type": "display_data",
          "data": {
            "text/plain": [
              "<IPython.core.display.HTML object>"
            ],
            "text/html": [
              "<pre style='font-family:monospace'>Iteration 338: Trial Sequence: LNVLFLQQGEVHNISDSYATRY<span style='color:red;font-weight:bold'>L</span>YNKSIAVRA, Total Score: 1.568</pre>"
            ]
          },
          "metadata": {}
        },
        {
          "output_type": "display_data",
          "data": {
            "text/plain": [
              "<IPython.core.display.HTML object>"
            ],
            "text/html": [
              "<pre style='font-family:monospace'>Iteration 339: Trial Sequence: LNV<span style='color:red;font-weight:bold'>V</span>FLQQGEVHNISDSYATRYLYKKSIAVRA, Total Score: 38.521</pre>"
            ]
          },
          "metadata": {}
        },
        {
          "output_type": "display_data",
          "data": {
            "text/plain": [
              "<IPython.core.display.HTML object>"
            ],
            "text/html": [
              "<pre style='font-family:monospace'>Iteration 340: Trial Sequence: LNV<span style='color:red;font-weight:bold'>L</span>FLQQGEVHNISDSYAQRYLYKKSIAVRA, Total Score: 0.389</pre>"
            ]
          },
          "metadata": {}
        },
        {
          "output_type": "display_data",
          "data": {
            "text/plain": [
              "<IPython.core.display.HTML object>"
            ],
            "text/html": [
              "<pre style='font-family:monospace'>Iteration 341: Trial Sequence: LNVLFLQQGEVHNISDS<span style='color:red;font-weight:bold'>F</span>ATRYLYKKSIAVRA, Total Score: 1.629</pre>"
            ]
          },
          "metadata": {}
        },
        {
          "output_type": "display_data",
          "data": {
            "text/plain": [
              "<IPython.core.display.HTML object>"
            ],
            "text/html": [
              "<pre style='font-family:monospace'>Iteration 342: Trial Sequence: LNVLFLQQGEVHNI<span style='color:red;font-weight:bold'>C</span>DSYATRYLYKKSIAVRA, Total Score: 0.243</pre>"
            ]
          },
          "metadata": {}
        },
        {
          "output_type": "display_data",
          "data": {
            "text/plain": [
              "<IPython.core.display.HTML object>"
            ],
            "text/html": [
              "<pre style='font-family:monospace'>Iteration 343: Trial Sequence: LNVLFLQQGEVHNI<span style='color:red;font-weight:bold'>S</span>DSYATRYLYKKTIAVRA, Total Score: 1.088</pre>"
            ]
          },
          "metadata": {}
        },
        {
          "output_type": "display_data",
          "data": {
            "text/plain": [
              "<IPython.core.display.HTML object>"
            ],
            "text/html": [
              "<pre style='font-family:monospace'>Iteration 344: Trial Sequence: LNVLFLQ<span style='color:red;font-weight:bold'>E</span>GEVHNISDSYATRYLYKKSIAVRA, Total Score: 32.775</pre>"
            ]
          },
          "metadata": {}
        },
        {
          "output_type": "display_data",
          "data": {
            "text/plain": [
              "<IPython.core.display.HTML object>"
            ],
            "text/html": [
              "<pre style='font-family:monospace'>Iteration 345: Trial Sequence: LNVLFLQ<span style='color:green;font-weight:bold'>Q</span>GEVHNISDSYATKYLYKKSIAVRA, <span style='color:blue;font-weight:bold'>Total Score: 41.170</span></pre>"
            ]
          },
          "metadata": {}
        },
        {
          "output_type": "display_data",
          "data": {
            "text/plain": [
              "<IPython.core.display.HTML object>"
            ],
            "text/html": [
              "<pre style='font-family:monospace'>Iteration 346: Trial Sequence: LNVLFLQQGEVHNISDSYATKYLYKK<span style='color:red;font-weight:bold'>A</span>IAVRA, Total Score: 38.795</pre>"
            ]
          },
          "metadata": {}
        },
        {
          "output_type": "display_data",
          "data": {
            "text/plain": [
              "<IPython.core.display.HTML object>"
            ],
            "text/html": [
              "<pre style='font-family:monospace'>Iteration 347: Trial Sequence: LNVLFLQQGEVHNI<span style='color:red;font-weight:bold'>T</span>DSYATKYLYKKSIAVRA, Total Score: 1.960</pre>"
            ]
          },
          "metadata": {}
        },
        {
          "output_type": "display_data",
          "data": {
            "text/plain": [
              "<IPython.core.display.HTML object>"
            ],
            "text/html": [
              "<pre style='font-family:monospace'>Iteration 348: Trial Sequence: LNVLFLQQGEVHNI<span style='color:red;font-weight:bold'>S</span>DSYATKYMYKKSIAVRA, Total Score: 0.039</pre>"
            ]
          },
          "metadata": {}
        },
        {
          "output_type": "display_data",
          "data": {
            "text/plain": [
              "<IPython.core.display.HTML object>"
            ],
            "text/html": [
              "<pre style='font-family:monospace'>Iteration 349: Trial Sequence: LNVLFLQQGEVHNIS<span style='color:red;font-weight:bold'>E</span>SYATKYLYKKSIAVRA, Total Score: 40.982</pre>"
            ]
          },
          "metadata": {}
        },
        {
          "output_type": "display_data",
          "data": {
            "text/plain": [
              "<IPython.core.display.HTML object>"
            ],
            "text/html": [
              "<pre style='font-family:monospace'>Iteration 350: Trial Sequence: LNVLFLQQGEV<span style='color:red;font-weight:bold'>K</span>NISDSYATKYLYKKSIAVRA, Total Score: 1.529</pre>"
            ]
          },
          "metadata": {}
        },
        {
          "output_type": "display_data",
          "data": {
            "text/plain": [
              "<IPython.core.display.HTML object>"
            ],
            "text/html": [
              "<pre style='font-family:monospace'>Iteration 351: Trial Sequence: LNVLFLQQGEV<span style='color:red;font-weight:bold'>H</span>NISDSYATKWLYKKSIAVRA, Total Score: 31.673</pre>"
            ]
          },
          "metadata": {}
        },
        {
          "output_type": "display_data",
          "data": {
            "text/plain": [
              "<IPython.core.display.HTML object>"
            ],
            "text/html": [
              "<pre style='font-family:monospace'>Iteration 352: Trial Sequence: LNVLFLQQGEV<span style='color:red;font-weight:bold'>R</span>NISDSYATKYLYKKSIAVRA, Total Score: 1.566</pre>"
            ]
          },
          "metadata": {}
        },
        {
          "output_type": "display_data",
          "data": {
            "text/plain": [
              "<IPython.core.display.HTML object>"
            ],
            "text/html": [
              "<pre style='font-family:monospace'>Iteration 353: Trial Sequence: LN<span style='color:red;font-weight:bold'>L</span>LFLQQGEVHNISDSYATKYLYKKSIAVRA, Total Score: 2.504</pre>"
            ]
          },
          "metadata": {}
        },
        {
          "output_type": "display_data",
          "data": {
            "text/plain": [
              "<IPython.core.display.HTML object>"
            ],
            "text/html": [
              "<pre style='font-family:monospace'>Iteration 354: Trial Sequence: LN<span style='color:red;font-weight:bold'>V</span>LFLQQGEVHNISDSWATKYLYKKSIAVRA, Total Score: 1.626</pre>"
            ]
          },
          "metadata": {}
        },
        {
          "output_type": "display_data",
          "data": {
            "text/plain": [
              "<IPython.core.display.HTML object>"
            ],
            "text/html": [
              "<pre style='font-family:monospace'>Iteration 355: Trial Sequence: LNVLFLQQGEVHNISD<span style='color:red;font-weight:bold'>G</span>YATKYLYKKSIAVRA, Total Score: 1.931</pre>"
            ]
          },
          "metadata": {}
        },
        {
          "output_type": "display_data",
          "data": {
            "text/plain": [
              "<IPython.core.display.HTML object>"
            ],
            "text/html": [
              "<pre style='font-family:monospace'>Iteration 356: Trial Sequence: LNVLFLQQGEVHNISD<span style='color:red;font-weight:bold'>S</span>YAGKYLYKKSIAVRA, Total Score: 38.709</pre>"
            ]
          },
          "metadata": {}
        },
        {
          "output_type": "display_data",
          "data": {
            "text/plain": [
              "<IPython.core.display.HTML object>"
            ],
            "text/html": [
              "<pre style='font-family:monospace'>Iteration 357: Trial Sequence: LNVLFLQQG<span style='color:red;font-weight:bold'>H</span>VHNISDSYATKYLYKKSIAVRA, Total Score: 0.419</pre>"
            ]
          },
          "metadata": {}
        },
        {
          "output_type": "display_data",
          "data": {
            "text/plain": [
              "<IPython.core.display.HTML object>"
            ],
            "text/html": [
              "<pre style='font-family:monospace'>Iteration 358: Trial Sequence: LNVLFLQQG<span style='color:red;font-weight:bold'>E</span>VHNISDSYATKYLYKRSIAVRA, Total Score: 39.544</pre>"
            ]
          },
          "metadata": {}
        },
        {
          "output_type": "display_data",
          "data": {
            "text/plain": [
              "<IPython.core.display.HTML object>"
            ],
            "text/html": [
              "<pre style='font-family:monospace'>Iteration 359: Trial Sequence: LNVLFLQQGEVHNISDSY<span style='color:red;font-weight:bold'>T</span>TKYLYKKSIAVRA, Total Score: 0.072</pre>"
            ]
          },
          "metadata": {}
        },
        {
          "output_type": "display_data",
          "data": {
            "text/plain": [
              "<IPython.core.display.HTML object>"
            ],
            "text/html": [
              "<pre style='font-family:monospace'>Iteration 360: Trial Sequence: LNVLFLQQGEVHNISDSY<span style='color:red;font-weight:bold'>A</span>TKYLFKKSIAVRA, Total Score: 38.677</pre>"
            ]
          },
          "metadata": {}
        },
        {
          "output_type": "display_data",
          "data": {
            "text/plain": [
              "<IPython.core.display.HTML object>"
            ],
            "text/html": [
              "<pre style='font-family:monospace'>Iteration 361: Trial Sequence: LNVLFLQQGEVHNISDSYATKYL<span style='color:red;font-weight:bold'>W</span>KKSIAVRA, Total Score: 37.477</pre>"
            ]
          },
          "metadata": {}
        },
        {
          "output_type": "display_data",
          "data": {
            "text/plain": [
              "<IPython.core.display.HTML object>"
            ],
            "text/html": [
              "<pre style='font-family:monospace'>Iteration 362: Trial Sequence: LNVLF<span style='color:red;font-weight:bold'>V</span>QQGEVHNISDSYATKYLYKKSIAVRA, Total Score: 1.873</pre>"
            ]
          },
          "metadata": {}
        },
        {
          "output_type": "display_data",
          "data": {
            "text/plain": [
              "<IPython.core.display.HTML object>"
            ],
            "text/html": [
              "<pre style='font-family:monospace'>Iteration 363: Trial Sequence: LNV<span style='color:red;font-weight:bold'>I</span>FLQQGEVHNISDSYATKYLYKKSIAVRA, Total Score: 34.461</pre>"
            ]
          },
          "metadata": {}
        },
        {
          "output_type": "display_data",
          "data": {
            "text/plain": [
              "<IPython.core.display.HTML object>"
            ],
            "text/html": [
              "<pre style='font-family:monospace'>Iteration 364: Trial Sequence: LNV<span style='color:red;font-weight:bold'>L</span>FLQQSEVHNISDSYATKYLYKKSIAVRA, Total Score: 0.163</pre>"
            ]
          },
          "metadata": {}
        },
        {
          "output_type": "display_data",
          "data": {
            "text/plain": [
              "<IPython.core.display.HTML object>"
            ],
            "text/html": [
              "<pre style='font-family:monospace'>Iteration 365: Trial Sequence: LNVLFLQQ<span style='color:red;font-weight:bold'>G</span>EVHNISDSYATKYLYKKNIAVRA, Total Score: 39.216</pre>"
            ]
          },
          "metadata": {}
        },
        {
          "output_type": "display_data",
          "data": {
            "text/plain": [
              "<IPython.core.display.HTML object>"
            ],
            "text/html": [
              "<pre style='font-family:monospace'>Iteration 366: Trial Sequence: LNVLFLQQGEVHNISDSYATKYLYKK<span style='color:red;font-weight:bold'>S</span>ITVRA, Total Score: 0.454</pre>"
            ]
          },
          "metadata": {}
        },
        {
          "output_type": "display_data",
          "data": {
            "text/plain": [
              "<IPython.core.display.HTML object>"
            ],
            "text/html": [
              "<pre style='font-family:monospace'>Iteration 367: Trial Sequence: LNVLFLQQG<span style='color:red;font-weight:bold'>K</span>VHNISDSYATKYLYKKSIAVRA, Total Score: 0.245</pre>"
            ]
          },
          "metadata": {}
        },
        {
          "output_type": "display_data",
          "data": {
            "text/plain": [
              "<IPython.core.display.HTML object>"
            ],
            "text/html": [
              "<pre style='font-family:monospace'>Iteration 368: Trial Sequence: LNVLFLQQG<span style='color:red;font-weight:bold'>E</span>VHNISDSYATNYLYKKSIAVRA, Total Score: 39.647</pre>"
            ]
          },
          "metadata": {}
        },
        {
          "output_type": "display_data",
          "data": {
            "text/plain": [
              "<IPython.core.display.HTML object>"
            ],
            "text/html": [
              "<pre style='font-family:monospace'>Iteration 369: Trial Sequence: LNVLFLQQGEVHNISDSYAT<span style='color:red;font-weight:bold'>K</span>YLYKNSIAVRA, Total Score: 37.857</pre>"
            ]
          },
          "metadata": {}
        },
        {
          "output_type": "display_data",
          "data": {
            "text/plain": [
              "<IPython.core.display.HTML object>"
            ],
            "text/html": [
              "<pre style='font-family:monospace'>Iteration 370: Trial Sequence: LNV<span style='color:red;font-weight:bold'>V</span>FLQQGEVHNISDSYATKYLYKKSIAVRA, Total Score: 36.968</pre>"
            ]
          },
          "metadata": {}
        },
        {
          "output_type": "display_data",
          "data": {
            "text/plain": [
              "<IPython.core.display.HTML object>"
            ],
            "text/html": [
              "<pre style='font-family:monospace'>Iteration 371: Trial Sequence: LNV<span style='color:red;font-weight:bold'>L</span>FLQQGEVHNISDSYATKFLYKKSIAVRA, Total Score: 37.538</pre>"
            ]
          },
          "metadata": {}
        },
        {
          "output_type": "display_data",
          "data": {
            "text/plain": [
              "<IPython.core.display.HTML object>"
            ],
            "text/html": [
              "<pre style='font-family:monospace'>Iteration 372: Trial Sequence: LNVLFLQQGEVHN<span style='color:red;font-weight:bold'>L</span>SDSYATKYLYKKSIAVRA, Total Score: 1.865</pre>"
            ]
          },
          "metadata": {}
        },
        {
          "output_type": "display_data",
          "data": {
            "text/plain": [
              "<IPython.core.display.HTML object>"
            ],
            "text/html": [
              "<pre style='font-family:monospace'>Iteration 373: Trial Sequence: LNVLFLQQGEVHN<span style='color:red;font-weight:bold'>I</span>SDSYATKYLYKKSIAVKA, Total Score: 39.156</pre>"
            ]
          },
          "metadata": {}
        },
        {
          "output_type": "display_data",
          "data": {
            "text/plain": [
              "<IPython.core.display.HTML object>"
            ],
            "text/html": [
              "<pre style='font-family:monospace'>Iteration 374: Trial Sequence: LNVLFLQQGEVHNISDSY<span style='color:red;font-weight:bold'>G</span>TKYLYKKSIAVRA, Total Score: 0.246</pre>"
            ]
          },
          "metadata": {}
        },
        {
          "output_type": "display_data",
          "data": {
            "text/plain": [
              "<IPython.core.display.HTML object>"
            ],
            "text/html": [
              "<pre style='font-family:monospace'>Iteration 375: Trial Sequence: LNVLFLQQGEVHNISDSY<span style='color:red;font-weight:bold'>A</span>AKYLYKKSIAVRA, Total Score: 2.212</pre>"
            ]
          },
          "metadata": {}
        },
        {
          "output_type": "display_data",
          "data": {
            "text/plain": [
              "<IPython.core.display.HTML object>"
            ],
            "text/html": [
              "<pre style='font-family:monospace'>Iteration 376: Trial Sequence: LNVLFL<span style='color:red;font-weight:bold'>R</span>QGEVHNISDSYATKYLYKKSIAVRA, Total Score: 39.949</pre>"
            ]
          },
          "metadata": {}
        },
        {
          "output_type": "display_data",
          "data": {
            "text/plain": [
              "<IPython.core.display.HTML object>"
            ],
            "text/html": [
              "<pre style='font-family:monospace'>Iteration 377: Trial Sequence: LNVLFL<span style='color:red;font-weight:bold'>Q</span>QGEVHNISDSYATKYLYKKTIAVRA, Total Score: 40.679</pre>"
            ]
          },
          "metadata": {}
        },
        {
          "output_type": "display_data",
          "data": {
            "text/plain": [
              "<IPython.core.display.HTML object>"
            ],
            "text/html": [
              "<pre style='font-family:monospace'>Iteration 378: Trial Sequence: LNVL<span style='color:red;font-weight:bold'>Y</span>LQQGEVHNISDSYATKYLYKKSIAVRA, Total Score: 36.508</pre>"
            ]
          },
          "metadata": {}
        },
        {
          "output_type": "display_data",
          "data": {
            "text/plain": [
              "<IPython.core.display.HTML object>"
            ],
            "text/html": [
              "<pre style='font-family:monospace'>Iteration 379: Trial Sequence: LNVL<span style='color:green;font-weight:bold'>F</span>LQQGEVHTISDSYATKYLYKKSIAVRA, <span style='color:blue;font-weight:bold'>Total Score: 41.461</span></pre>"
            ]
          },
          "metadata": {}
        },
        {
          "output_type": "display_data",
          "data": {
            "text/plain": [
              "<IPython.core.display.HTML object>"
            ],
            "text/html": [
              "<pre style='font-family:monospace'>Iteration 380: Trial Sequence: L<span style='color:red;font-weight:bold'>S</span>VLFLQQGEVHTISDSYATKYLYKKSIAVRA, Total Score: 2.421</pre>"
            ]
          },
          "metadata": {}
        },
        {
          "output_type": "display_data",
          "data": {
            "text/plain": [
              "<IPython.core.display.HTML object>"
            ],
            "text/html": [
              "<pre style='font-family:monospace'>Iteration 381: Trial Sequence: L<span style='color:red;font-weight:bold'>N</span>VLFLQQGEVHTISDSYATKYLYKKSLAVRA, Total Score: 1.928</pre>"
            ]
          },
          "metadata": {}
        },
        {
          "output_type": "display_data",
          "data": {
            "text/plain": [
              "<IPython.core.display.HTML object>"
            ],
            "text/html": [
              "<pre style='font-family:monospace'>Iteration 382: Trial Sequence: LNVLFLQQGEVHTISDSYATKYLYK<span style='color:red;font-weight:bold'>N</span>SIAVRA, Total Score: 2.253</pre>"
            ]
          },
          "metadata": {}
        },
        {
          "output_type": "display_data",
          "data": {
            "text/plain": [
              "<IPython.core.display.HTML object>"
            ],
            "text/html": [
              "<pre style='font-family:monospace'>Iteration 383: Trial Sequence: LNVLFLQQGEVHTISDSYATKYLYK<span style='color:red;font-weight:bold'>Q</span>SIAVRA, Total Score: 38.481</pre>"
            ]
          },
          "metadata": {}
        },
        {
          "output_type": "display_data",
          "data": {
            "text/plain": [
              "<IPython.core.display.HTML object>"
            ],
            "text/html": [
              "<pre style='font-family:monospace'>Iteration 384: Trial Sequence: LNVLFLQQGEVHTISDSYATKYLYK<span style='color:green;font-weight:bold'>K</span>NIAVRA, <span style='color:blue;font-weight:bold'>Total Score: 41.498</span></pre>"
            ]
          },
          "metadata": {}
        },
        {
          "output_type": "display_data",
          "data": {
            "text/plain": [
              "<IPython.core.display.HTML object>"
            ],
            "text/html": [
              "<pre style='font-family:monospace'>Iteration 385: Trial Sequence: LNVLFL<span style='color:green;font-weight:bold'>E</span>QGEVHTISDSYATKYLYKKNIAVRA, <span style='color:blue;font-weight:bold'>Total Score: 43.021</span></pre>"
            ]
          },
          "metadata": {}
        },
        {
          "output_type": "display_data",
          "data": {
            "text/plain": [
              "<IPython.core.display.HTML object>"
            ],
            "text/html": [
              "<pre style='font-family:monospace'>Iteration 386: Trial Sequence: LNVLFLEQGEVHTIS<span style='color:green;font-weight:bold'>E</span>SYATKYLYKKNIAVRA, <span style='color:blue;font-weight:bold'>Total Score: 43.910</span></pre>"
            ]
          },
          "metadata": {}
        },
        {
          "output_type": "display_data",
          "data": {
            "text/plain": [
              "<IPython.core.display.HTML object>"
            ],
            "text/html": [
              "<pre style='font-family:monospace'>Iteration 387: Trial Sequence: LNVLFLEQGEVHTISESYAT<span style='color:red;font-weight:bold'>H</span>YLYKKNIAVRA, Total Score: 6.112</pre>"
            ]
          },
          "metadata": {}
        },
        {
          "output_type": "display_data",
          "data": {
            "text/plain": [
              "<IPython.core.display.HTML object>"
            ],
            "text/html": [
              "<pre style='font-family:monospace'>Iteration 388: Trial Sequence: LNVLFLEQGEVH<span style='color:red;font-weight:bold'>N</span>ISESYATKYLYKKNIAVRA, Total Score: 41.505</pre>"
            ]
          },
          "metadata": {}
        },
        {
          "output_type": "display_data",
          "data": {
            "text/plain": [
              "<IPython.core.display.HTML object>"
            ],
            "text/html": [
              "<pre style='font-family:monospace'>Iteration 389: Trial Sequence: LNV<span style='color:red;font-weight:bold'>V</span>FLEQGEVHTISESYATKYLYKKNIAVRA, Total Score: 39.396</pre>"
            ]
          },
          "metadata": {}
        },
        {
          "output_type": "display_data",
          "data": {
            "text/plain": [
              "<IPython.core.display.HTML object>"
            ],
            "text/html": [
              "<pre style='font-family:monospace'>Iteration 390: Trial Sequence: LNV<span style='color:red;font-weight:bold'>L</span>FLEQGEIHTISESYATKYLYKKNIAVRA, Total Score: 3.228</pre>"
            ]
          },
          "metadata": {}
        },
        {
          "output_type": "display_data",
          "data": {
            "text/plain": [
              "<IPython.core.display.HTML object>"
            ],
            "text/html": [
              "<pre style='font-family:monospace'>Iteration 391: Trial Sequence: LNVLFLEQGE<span style='color:green;font-weight:bold'>V</span>HTISESYATKYLYHKNIAVRA, <span style='color:blue;font-weight:bold'>Total Score: 45.632</span></pre>"
            ]
          },
          "metadata": {}
        },
        {
          "output_type": "display_data",
          "data": {
            "text/plain": [
              "<IPython.core.display.HTML object>"
            ],
            "text/html": [
              "<pre style='font-family:monospace'>Iteration 392: Trial Sequence: LNVLFLEQGEVHTISESYATKYLYHKNIAV<span style='color:red;font-weight:bold'>K</span>A, Total Score: 44.789</pre>"
            ]
          },
          "metadata": {}
        },
        {
          "output_type": "display_data",
          "data": {
            "text/plain": [
              "<IPython.core.display.HTML object>"
            ],
            "text/html": [
              "<pre style='font-family:monospace'>Iteration 393: Trial Sequence: LNVLFLEQGEVHTIS<span style='color:green;font-weight:bold'>R</span>SYATKYLYHKNIAVRA, <span style='color:blue;font-weight:bold'>Total Score: 46.074</span></pre>"
            ]
          },
          "metadata": {}
        },
        {
          "output_type": "display_data",
          "data": {
            "text/plain": [
              "<IPython.core.display.HTML object>"
            ],
            "text/html": [
              "<pre style='font-family:monospace'>Iteration 394: Trial Sequence: LNVLFLEQGEV<span style='color:green;font-weight:bold'>R</span>TISRSYATKYLYHKNIAVRA, <span style='color:blue;font-weight:bold'>Total Score: 46.245</span></pre>"
            ]
          },
          "metadata": {}
        },
        {
          "output_type": "display_data",
          "data": {
            "text/plain": [
              "<IPython.core.display.HTML object>"
            ],
            "text/html": [
              "<pre style='font-family:monospace'>Iteration 395: Trial Sequence: LNVLFLEQGEVRTISRSYATK<span style='color:red;font-weight:bold'>F</span>LYHKNIAVRA, Total Score: 43.421</pre>"
            ]
          },
          "metadata": {}
        },
        {
          "output_type": "display_data",
          "data": {
            "text/plain": [
              "<IPython.core.display.HTML object>"
            ],
            "text/html": [
              "<pre style='font-family:monospace'>Iteration 396: Trial Sequence: LNVLFLEQGEVRTIS<span style='color:red;font-weight:bold'>H</span>SYATKYLYHKNIAVRA, Total Score: 43.910</pre>"
            ]
          },
          "metadata": {}
        },
        {
          "output_type": "display_data",
          "data": {
            "text/plain": [
              "<IPython.core.display.HTML object>"
            ],
            "text/html": [
              "<pre style='font-family:monospace'>Iteration 397: Trial Sequence: LNVLFLEQGE<span style='color:red;font-weight:bold'>L</span>RTISRSYATKYLYHKNIAVRA, Total Score: 8.190</pre>"
            ]
          },
          "metadata": {}
        },
        {
          "output_type": "display_data",
          "data": {
            "text/plain": [
              "<IPython.core.display.HTML object>"
            ],
            "text/html": [
              "<pre style='font-family:monospace'>Iteration 398: Trial Sequence: LNVLFLEQGE<span style='color:red;font-weight:bold'>V</span>RTISRSWATKYLYHKNIAVRA, Total Score: 5.071</pre>"
            ]
          },
          "metadata": {}
        },
        {
          "output_type": "display_data",
          "data": {
            "text/plain": [
              "<IPython.core.display.HTML object>"
            ],
            "text/html": [
              "<pre style='font-family:monospace'>Iteration 399: Trial Sequence: LNVLFLEQGEVRTISRS<span style='color:red;font-weight:bold'>Y</span>ATKYLYHKNIGVRA, Total Score: 5.053</pre>"
            ]
          },
          "metadata": {}
        },
        {
          "output_type": "display_data",
          "data": {
            "text/plain": [
              "<IPython.core.display.HTML object>"
            ],
            "text/html": [
              "<pre style='font-family:monospace'>Iteration 400: Trial Sequence: LNVLFLEQGEVRTISRSYA<span style='color:red;font-weight:bold'>N</span>KYLYHKNIAVRA, Total Score: 42.254</pre>"
            ]
          },
          "metadata": {}
        },
        {
          "output_type": "display_data",
          "data": {
            "text/plain": [
              "<IPython.core.display.HTML object>"
            ],
            "text/html": [
              "<pre style='font-family:monospace'>Iteration 401: Trial Sequence: <span style='color:green;font-weight:bold'>V</span>NVLFLEQGEVRTISRSYATKYLYHKNIAVRA, <span style='color:blue;font-weight:bold'>Total Score: 46.677</span></pre>"
            ]
          },
          "metadata": {}
        },
        {
          "output_type": "display_data",
          "data": {
            "text/plain": [
              "<IPython.core.display.HTML object>"
            ],
            "text/html": [
              "<pre style='font-family:monospace'>Iteration 402: Trial Sequence: VNVLFLEQGEVRTISRSYAT<span style='color:red;font-weight:bold'>H</span>YLYHKNIAVRA, Total Score: 5.484</pre>"
            ]
          },
          "metadata": {}
        },
        {
          "output_type": "display_data",
          "data": {
            "text/plain": [
              "<IPython.core.display.HTML object>"
            ],
            "text/html": [
              "<pre style='font-family:monospace'>Iteration 403: Trial Sequence: VN<span style='color:red;font-weight:bold'>L</span>LFLEQGEVRTISRSYATKYLYHKNIAVRA, Total Score: 44.895</pre>"
            ]
          },
          "metadata": {}
        },
        {
          "output_type": "display_data",
          "data": {
            "text/plain": [
              "<IPython.core.display.HTML object>"
            ],
            "text/html": [
              "<pre style='font-family:monospace'>Iteration 404: Trial Sequence: VN<span style='color:red;font-weight:bold'>V</span>LFLEQGEVRTICRSYATKYLYHKNIAVRA, Total Score: 1.847</pre>"
            ]
          },
          "metadata": {}
        },
        {
          "output_type": "display_data",
          "data": {
            "text/plain": [
              "<IPython.core.display.HTML object>"
            ],
            "text/html": [
              "<pre style='font-family:monospace'>Iteration 405: Trial Sequence: VNVLFLEQGEVRTI<span style='color:red;font-weight:bold'>S</span>RSFATKYLYHKNIAVRA, Total Score: 4.225</pre>"
            ]
          },
          "metadata": {}
        },
        {
          "output_type": "display_data",
          "data": {
            "text/plain": [
              "<IPython.core.display.HTML object>"
            ],
            "text/html": [
              "<pre style='font-family:monospace'>Iteration 406: Trial Sequence: VNVLFLEQGEVRTISRS<span style='color:red;font-weight:bold'>Y</span>ATKYLYHKNIGVRA, Total Score: 4.601</pre>"
            ]
          },
          "metadata": {}
        },
        {
          "output_type": "display_data",
          "data": {
            "text/plain": [
              "<IPython.core.display.HTML object>"
            ],
            "text/html": [
              "<pre style='font-family:monospace'>Iteration 407: Trial Sequence: VNV<span style='color:red;font-weight:bold'>I</span>FLEQGEVRTISRSYATKYLYHKNIAVRA, Total Score: 4.782</pre>"
            ]
          },
          "metadata": {}
        },
        {
          "output_type": "display_data",
          "data": {
            "text/plain": [
              "<IPython.core.display.HTML object>"
            ],
            "text/html": [
              "<pre style='font-family:monospace'>Iteration 408: Trial Sequence: VNV<span style='color:red;font-weight:bold'>L</span>FLEQGEVRTISRSYATKYLFHKNIAVRA, Total Score: 44.698</pre>"
            ]
          },
          "metadata": {}
        },
        {
          "output_type": "display_data",
          "data": {
            "text/plain": [
              "<IPython.core.display.HTML object>"
            ],
            "text/html": [
              "<pre style='font-family:monospace'>Iteration 409: Trial Sequence: VNVLFLEQGEVRTISRSYATK<span style='color:red;font-weight:bold'>F</span>LYHKNIAVRA, Total Score: 44.780</pre>"
            ]
          },
          "metadata": {}
        },
        {
          "output_type": "display_data",
          "data": {
            "text/plain": [
              "<IPython.core.display.HTML object>"
            ],
            "text/html": [
              "<pre style='font-family:monospace'>Iteration 410: Trial Sequence: VNVLFLEQGEVRTISRSYATK<span style='color:red;font-weight:bold'>Y</span>LYHKNIALRA, Total Score: 3.658</pre>"
            ]
          },
          "metadata": {}
        },
        {
          "output_type": "display_data",
          "data": {
            "text/plain": [
              "<IPython.core.display.HTML object>"
            ],
            "text/html": [
              "<pre style='font-family:monospace'>Iteration 411: Trial Sequence: VNVLFLEQGEVRTISRSYATKYLYHK<span style='color:red;font-weight:bold'>T</span>IAVRA, Total Score: 2.190</pre>"
            ]
          },
          "metadata": {}
        },
        {
          "output_type": "display_data",
          "data": {
            "text/plain": [
              "<IPython.core.display.HTML object>"
            ],
            "text/html": [
              "<pre style='font-family:monospace'>Iteration 412: Trial Sequence: VNV<span style='color:red;font-weight:bold'>M</span>FLEQGEVRTISRSYATKYLYHKNIAVRA, Total Score: 4.186</pre>"
            ]
          },
          "metadata": {}
        },
        {
          "output_type": "display_data",
          "data": {
            "text/plain": [
              "<IPython.core.display.HTML object>"
            ],
            "text/html": [
              "<pre style='font-family:monospace'>Iteration 413: Trial Sequence: VNV<span style='color:red;font-weight:bold'>L</span>FLEQGEVRTISKSYATKYLYHKNIAVRA, Total Score: 45.963</pre>"
            ]
          },
          "metadata": {}
        },
        {
          "output_type": "display_data",
          "data": {
            "text/plain": [
              "<IPython.core.display.HTML object>"
            ],
            "text/html": [
              "<pre style='font-family:monospace'>Iteration 414: Trial Sequence: VNVLFLEQGEVRTIS<span style='color:red;font-weight:bold'>R</span>SYAGKYLYHKNIAVRA, Total Score: 6.098</pre>"
            ]
          },
          "metadata": {}
        },
        {
          "output_type": "display_data",
          "data": {
            "text/plain": [
              "<IPython.core.display.HTML object>"
            ],
            "text/html": [
              "<pre style='font-family:monospace'>Iteration 415: Trial Sequence: VNVLFLEQGEVRTISRSYA<span style='color:red;font-weight:bold'>T</span>KYLYHQNIAVRA, Total Score: 43.559</pre>"
            ]
          },
          "metadata": {}
        },
        {
          "output_type": "display_data",
          "data": {
            "text/plain": [
              "<IPython.core.display.HTML object>"
            ],
            "text/html": [
              "<pre style='font-family:monospace'>Iteration 416: Trial Sequence: VNVLFLEQGEVRTISRSYATKYLY<span style='color:red;font-weight:bold'>Q</span>KNIAVRA, Total Score: 46.596</pre>"
            ]
          },
          "metadata": {}
        },
        {
          "output_type": "display_data",
          "data": {
            "text/plain": [
              "<IPython.core.display.HTML object>"
            ],
            "text/html": [
              "<pre style='font-family:monospace'>Iteration 417: Trial Sequence: VNVLFLEQGEVRTISRSYATKYLY<span style='color:red;font-weight:bold'>H</span>KNITVRA, Total Score: 5.224</pre>"
            ]
          },
          "metadata": {}
        },
        {
          "output_type": "display_data",
          "data": {
            "text/plain": [
              "<IPython.core.display.HTML object>"
            ],
            "text/html": [
              "<pre style='font-family:monospace'>Iteration 418: Trial Sequence: VNV<span style='color:red;font-weight:bold'>V</span>FLEQGEVRTISRSYATKYLYHKNIAVRA, Total Score: 41.798</pre>"
            ]
          },
          "metadata": {}
        },
        {
          "output_type": "display_data",
          "data": {
            "text/plain": [
              "<IPython.core.display.HTML object>"
            ],
            "text/html": [
              "<pre style='font-family:monospace'>Iteration 419: Trial Sequence: VNV<span style='color:red;font-weight:bold'>L</span>FLEQGQVRTISRSYATKYLYHKNIAVRA, Total Score: 3.600</pre>"
            ]
          },
          "metadata": {}
        },
        {
          "output_type": "display_data",
          "data": {
            "text/plain": [
              "<IPython.core.display.HTML object>"
            ],
            "text/html": [
              "<pre style='font-family:monospace'>Iteration 420: Trial Sequence: VNVLFLEQG<span style='color:red;font-weight:bold'>E</span>VRTVSRSYATKYLYHKNIAVRA, Total Score: 46.132</pre>"
            ]
          },
          "metadata": {}
        },
        {
          "output_type": "display_data",
          "data": {
            "text/plain": [
              "<IPython.core.display.HTML object>"
            ],
            "text/html": [
              "<pre style='font-family:monospace'>Iteration 421: Trial Sequence: VNVLFLEQGEVRT<span style='color:green;font-weight:bold'>I</span>SRSYATKYLYHHNIAVRA, <span style='color:blue;font-weight:bold'>Total Score: 46.957</span></pre>"
            ]
          },
          "metadata": {}
        },
        {
          "output_type": "display_data",
          "data": {
            "text/plain": [
              "<IPython.core.display.HTML object>"
            ],
            "text/html": [
              "<pre style='font-family:monospace'>Iteration 422: Trial Sequence: V<span style='color:red;font-weight:bold'>S</span>VLFLEQGEVRTISRSYATKYLYHHNIAVRA, Total Score: 4.003</pre>"
            ]
          },
          "metadata": {}
        },
        {
          "output_type": "display_data",
          "data": {
            "text/plain": [
              "<IPython.core.display.HTML object>"
            ],
            "text/html": [
              "<pre style='font-family:monospace'>Iteration 423: Trial Sequence: V<span style='color:red;font-weight:bold'>N</span>VLFLEQGEVRTISKSYATKYLYHHNIAVRA, Total Score: 46.293</pre>"
            ]
          },
          "metadata": {}
        },
        {
          "output_type": "display_data",
          "data": {
            "text/plain": [
              "<IPython.core.display.HTML object>"
            ],
            "text/html": [
              "<pre style='font-family:monospace'>Iteration 424: Trial Sequence: VNVLFLEQGEVRTIS<span style='color:red;font-weight:bold'>R</span>SYATKYLYHHNIALRA, Total Score: 4.561</pre>"
            ]
          },
          "metadata": {}
        },
        {
          "output_type": "display_data",
          "data": {
            "text/plain": [
              "<IPython.core.display.HTML object>"
            ],
            "text/html": [
              "<pre style='font-family:monospace'>Iteration 425: Trial Sequence: VNV<span style='color:red;font-weight:bold'>V</span>FLEQGEVRTISRSYATKYLYHHNIAVRA, Total Score: 3.549</pre>"
            ]
          },
          "metadata": {}
        },
        {
          "output_type": "display_data",
          "data": {
            "text/plain": [
              "<IPython.core.display.HTML object>"
            ],
            "text/html": [
              "<pre style='font-family:monospace'>Iteration 426: Trial Sequence: <span style='color:red;font-weight:bold'>L</span>NVLFLEQGEVRTISRSYATKYLYHHNIAVRA, Total Score: 44.952</pre>"
            ]
          },
          "metadata": {}
        },
        {
          "output_type": "display_data",
          "data": {
            "text/plain": [
              "<IPython.core.display.HTML object>"
            ],
            "text/html": [
              "<pre style='font-family:monospace'>Iteration 427: Trial Sequence: <span style='color:red;font-weight:bold'>V</span>NVLFLEQGEVRTISRSYATKYLYKHNIAVRA, Total Score: 5.042</pre>"
            ]
          },
          "metadata": {}
        },
        {
          "output_type": "display_data",
          "data": {
            "text/plain": [
              "<IPython.core.display.HTML object>"
            ],
            "text/html": [
              "<pre style='font-family:monospace'>Iteration 428: Trial Sequence: VNVLFLE<span style='color:green;font-weight:bold'>R</span>GEVRTISRSYATKYLYHHNIAVRA, <span style='color:blue;font-weight:bold'>Total Score: 47.330</span></pre>"
            ]
          },
          "metadata": {}
        },
        {
          "output_type": "display_data",
          "data": {
            "text/plain": [
              "<IPython.core.display.HTML object>"
            ],
            "text/html": [
              "<pre style='font-family:monospace'>Iteration 429: Trial Sequence: VNVLFLERGEVRTISRSYATKYLYHHNI<span style='color:red;font-weight:bold'>G</span>VRA, Total Score: 4.809</pre>"
            ]
          },
          "metadata": {}
        },
        {
          "output_type": "display_data",
          "data": {
            "text/plain": [
              "<IPython.core.display.HTML object>"
            ],
            "text/html": [
              "<pre style='font-family:monospace'>Iteration 430: Trial Sequence: VNV<span style='color:red;font-weight:bold'>M</span>FLERGEVRTISRSYATKYLYHHNIAVRA, Total Score: 4.360</pre>"
            ]
          },
          "metadata": {}
        },
        {
          "output_type": "display_data",
          "data": {
            "text/plain": [
              "<IPython.core.display.HTML object>"
            ],
            "text/html": [
              "<pre style='font-family:monospace'>Iteration 431: Trial Sequence: V<span style='color:red;font-weight:bold'>Q</span>VLFLERGEVRTISRSYATKYLYHHNIAVRA, Total Score: 7.395</pre>"
            ]
          },
          "metadata": {}
        },
        {
          "output_type": "display_data",
          "data": {
            "text/plain": [
              "<IPython.core.display.HTML object>"
            ],
            "text/html": [
              "<pre style='font-family:monospace'>Iteration 432: Trial Sequence: V<span style='color:red;font-weight:bold'>N</span>VLFLERGEVKTISRSYATKYLYHHNIAVRA, Total Score: 45.743</pre>"
            ]
          },
          "metadata": {}
        },
        {
          "output_type": "display_data",
          "data": {
            "text/plain": [
              "<IPython.core.display.HTML object>"
            ],
            "text/html": [
              "<pre style='font-family:monospace'>Iteration 433: Trial Sequence: V<span style='color:red;font-weight:bold'>T</span>VLFLERGEVRTISRSYATKYLYHHNIAVRA, Total Score: 3.871</pre>"
            ]
          },
          "metadata": {}
        },
        {
          "output_type": "display_data",
          "data": {
            "text/plain": [
              "<IPython.core.display.HTML object>"
            ],
            "text/html": [
              "<pre style='font-family:monospace'>Iteration 434: Trial Sequence: V<span style='color:red;font-weight:bold'>N</span>VLFLERGEVRSISRSYATKYLYHHNIAVRA, Total Score: 3.607</pre>"
            ]
          },
          "metadata": {}
        },
        {
          "output_type": "display_data",
          "data": {
            "text/plain": [
              "<IPython.core.display.HTML object>"
            ],
            "text/html": [
              "<pre style='font-family:monospace'>Iteration 435: Trial Sequence: VNVLFLE<span style='color:red;font-weight:bold'>H</span>GEVRTISRSYATKYLYHHNIAVRA, Total Score: 45.685</pre>"
            ]
          },
          "metadata": {}
        },
        {
          "output_type": "display_data",
          "data": {
            "text/plain": [
              "<IPython.core.display.HTML object>"
            ],
            "text/html": [
              "<pre style='font-family:monospace'>Iteration 436: Trial Sequence: VNVLFL<span style='color:red;font-weight:bold'>H</span>RGEVRTISRSYATKYLYHHNIAVRA, Total Score: 5.262</pre>"
            ]
          },
          "metadata": {}
        },
        {
          "output_type": "display_data",
          "data": {
            "text/plain": [
              "<IPython.core.display.HTML object>"
            ],
            "text/html": [
              "<pre style='font-family:monospace'>Iteration 437: Trial Sequence: VNVLFL<span style='color:red;font-weight:bold'>E</span>RGEVRTVSRSYATKYLYHHNIAVRA, Total Score: 45.761</pre>"
            ]
          },
          "metadata": {}
        },
        {
          "output_type": "display_data",
          "data": {
            "text/plain": [
              "<IPython.core.display.HTML object>"
            ],
            "text/html": [
              "<pre style='font-family:monospace'>Iteration 438: Trial Sequence: VNVLFLERGEVRT<span style='color:red;font-weight:bold'>I</span>SKSYATKYLYHHNIAVRA, Total Score: 46.848</pre>"
            ]
          },
          "metadata": {}
        },
        {
          "output_type": "display_data",
          "data": {
            "text/plain": [
              "<IPython.core.display.HTML object>"
            ],
            "text/html": [
              "<pre style='font-family:monospace'>Iteration 439: Trial Sequence: VNVLFLERGEVRTIS<span style='color:red;font-weight:bold'>R</span>NYATKYLYHHNIAVRA, Total Score: 4.410</pre>"
            ]
          },
          "metadata": {}
        },
        {
          "output_type": "display_data",
          "data": {
            "text/plain": [
              "<IPython.core.display.HTML object>"
            ],
            "text/html": [
              "<pre style='font-family:monospace'>Iteration 440: Trial Sequence: VNVLFLERGEVRTISR<span style='color:red;font-weight:bold'>S</span>YATKYMYHHNIAVRA, Total Score: 5.634</pre>"
            ]
          },
          "metadata": {}
        },
        {
          "output_type": "display_data",
          "data": {
            "text/plain": [
              "<IPython.core.display.HTML object>"
            ],
            "text/html": [
              "<pre style='font-family:monospace'>Iteration 441: Trial Sequence: VNVLFLERGEVRTISR<span style='color:red;font-weight:bold'>C</span>YATKYLYHHNIAVRA, Total Score: 5.805</pre>"
            ]
          },
          "metadata": {}
        },
        {
          "output_type": "display_data",
          "data": {
            "text/plain": [
              "<IPython.core.display.HTML object>"
            ],
            "text/html": [
              "<pre style='font-family:monospace'>Iteration 442: Trial Sequence: VNVLFLERG<span style='color:red;font-weight:bold'>N</span>VRTISRSYATKYLYHHNIAVRA, Total Score: 4.674</pre>"
            ]
          },
          "metadata": {}
        },
        {
          "output_type": "display_data",
          "data": {
            "text/plain": [
              "<IPython.core.display.HTML object>"
            ],
            "text/html": [
              "<pre style='font-family:monospace'>Iteration 443: Trial Sequence: VNVLFLERG<span style='color:red;font-weight:bold'>E</span>VRTISRSYATKYLYHHNVAVRA, Total Score: 23.573</pre>"
            ]
          },
          "metadata": {}
        },
        {
          "output_type": "display_data",
          "data": {
            "text/plain": [
              "<IPython.core.display.HTML object>"
            ],
            "text/html": [
              "<pre style='font-family:monospace'>Iteration 444: Trial Sequence: VNVLFLERGEVRTISRSYATKYLYHHN<span style='color:red;font-weight:bold'>I</span>AVHA, Total Score: 3.783</pre>"
            ]
          },
          "metadata": {}
        },
        {
          "output_type": "display_data",
          "data": {
            "text/plain": [
              "<IPython.core.display.HTML object>"
            ],
            "text/html": [
              "<pre style='font-family:monospace'>Iteration 445: Trial Sequence: VNV<span style='color:red;font-weight:bold'>V</span>FLERGEVRTISRSYATKYLYHHNIAVRA, Total Score: 4.480</pre>"
            ]
          },
          "metadata": {}
        },
        {
          "output_type": "display_data",
          "data": {
            "text/plain": [
              "<IPython.core.display.HTML object>"
            ],
            "text/html": [
              "<pre style='font-family:monospace'>Iteration 446: Trial Sequence: VNV<span style='color:red;font-weight:bold'>L</span>FLERGEVRTISRSYATKYLYHRNIAVRA, Total Score: 46.917</pre>"
            ]
          },
          "metadata": {}
        },
        {
          "output_type": "display_data",
          "data": {
            "text/plain": [
              "<IPython.core.display.HTML object>"
            ],
            "text/html": [
              "<pre style='font-family:monospace'>Iteration 447: Trial Sequence: VNVLFLER<span style='color:red;font-weight:bold'>A</span>EVRTISRSYATKYLYHHNIAVRA, Total Score: 0.291</pre>"
            ]
          },
          "metadata": {}
        },
        {
          "output_type": "display_data",
          "data": {
            "text/plain": [
              "<IPython.core.display.HTML object>"
            ],
            "text/html": [
              "<pre style='font-family:monospace'>Iteration 448: Trial Sequence: VNVLFLER<span style='color:red;font-weight:bold'>G</span>EVRTISRSYATKYLYHHNITVRA, Total Score: 4.740</pre>"
            ]
          },
          "metadata": {}
        },
        {
          "output_type": "display_data",
          "data": {
            "text/plain": [
              "<IPython.core.display.HTML object>"
            ],
            "text/html": [
              "<pre style='font-family:monospace'>Iteration 449: Trial Sequence: VNVLFLERGEVRTI<span style='color:red;font-weight:bold'>G</span>RSYATKYLYHHNIAVRA, Total Score: 4.787</pre>"
            ]
          },
          "metadata": {}
        },
        {
          "output_type": "display_data",
          "data": {
            "text/plain": [
              "<IPython.core.display.HTML object>"
            ],
            "text/html": [
              "<pre style='font-family:monospace'>Iteration 450: Trial Sequence: VNVLFLERGEVRTI<span style='color:red;font-weight:bold'>S</span>RSYATKYLFHHNIAVRA, Total Score: 45.205</pre>"
            ]
          },
          "metadata": {}
        },
        {
          "output_type": "display_data",
          "data": {
            "text/plain": [
              "<IPython.core.display.HTML object>"
            ],
            "text/html": [
              "<pre style='font-family:monospace'>Iteration 451: Trial Sequence: VNVLFLERGEVRTISRSY<span style='color:red;font-weight:bold'>G</span>TKYLYHHNIAVRA, Total Score: 4.876</pre>"
            ]
          },
          "metadata": {}
        },
        {
          "output_type": "display_data",
          "data": {
            "text/plain": [
              "<IPython.core.display.HTML object>"
            ],
            "text/html": [
              "<pre style='font-family:monospace'>Iteration 452: Trial Sequence: VNVLFLERGEVRTISRS<span style='color:red;font-weight:bold'>F</span>ATKYLYHHNIAVRA, Total Score: 4.941</pre>"
            ]
          },
          "metadata": {}
        },
        {
          "output_type": "display_data",
          "data": {
            "text/plain": [
              "<IPython.core.display.HTML object>"
            ],
            "text/html": [
              "<pre style='font-family:monospace'>Iteration 453: Trial Sequence: VNVLFLERGEVR<span style='color:red;font-weight:bold'>Q</span>ISRSYATKYLYHHNIAVRA, Total Score: 3.191</pre>"
            ]
          },
          "metadata": {}
        },
        {
          "output_type": "display_data",
          "data": {
            "text/plain": [
              "<IPython.core.display.HTML object>"
            ],
            "text/html": [
              "<pre style='font-family:monospace'>Iteration 454: Trial Sequence: VN<span style='color:red;font-weight:bold'>M</span>LFLERGEVRTISRSYATKYLYHHNIAVRA, Total Score: 3.777</pre>"
            ]
          },
          "metadata": {}
        },
        {
          "output_type": "display_data",
          "data": {
            "text/plain": [
              "<IPython.core.display.HTML object>"
            ],
            "text/html": [
              "<pre style='font-family:monospace'>Iteration 455: Trial Sequence: VN<span style='color:red;font-weight:bold'>V</span>LYLERGEVRTISRSYATKYLYHHNIAVRA, Total Score: 4.095</pre>"
            ]
          },
          "metadata": {}
        },
        {
          "output_type": "display_data",
          "data": {
            "text/plain": [
              "<IPython.core.display.HTML object>"
            ],
            "text/html": [
              "<pre style='font-family:monospace'>Iteration 456: Trial Sequence: <span style='color:red;font-weight:bold'>I</span>NVLFLERGEVRTISRSYATKYLYHHNIAVRA, Total Score: 46.967</pre>"
            ]
          },
          "metadata": {}
        },
        {
          "output_type": "display_data",
          "data": {
            "text/plain": [
              "<IPython.core.display.HTML object>"
            ],
            "text/html": [
              "<pre style='font-family:monospace'>Iteration 457: Trial Sequence: <span style='color:red;font-weight:bold'>V</span>NVLFLERGEVRTISRSYATKYLYHHTIAVRA, Total Score: 2.184</pre>"
            ]
          },
          "metadata": {}
        },
        {
          "output_type": "display_data",
          "data": {
            "text/plain": [
              "<IPython.core.display.HTML object>"
            ],
            "text/html": [
              "<pre style='font-family:monospace'>Iteration 458: Trial Sequence: VNVLFLERGEVRTISRSYATKYLYHH<span style='color:red;font-weight:bold'>N</span>IALRA, Total Score: 4.720</pre>"
            ]
          },
          "metadata": {}
        },
        {
          "output_type": "display_data",
          "data": {
            "text/plain": [
              "<IPython.core.display.HTML object>"
            ],
            "text/html": [
              "<pre style='font-family:monospace'>Iteration 459: Trial Sequence: VNVLFLERGEVRT<span style='color:red;font-weight:bold'>L</span>SRSYATKYLYHHNIAVRA, Total Score: 5.047</pre>"
            ]
          },
          "metadata": {}
        },
        {
          "output_type": "display_data",
          "data": {
            "text/plain": [
              "<IPython.core.display.HTML object>"
            ],
            "text/html": [
              "<pre style='font-family:monospace'>Iteration 460: Trial Sequence: VNVLFLERGEVRT<span style='color:red;font-weight:bold'>I</span>SRSYATKYLYHHNIAIRA, Total Score: 3.943</pre>"
            ]
          },
          "metadata": {}
        },
        {
          "output_type": "display_data",
          "data": {
            "text/plain": [
              "<IPython.core.display.HTML object>"
            ],
            "text/html": [
              "<pre style='font-family:monospace'>Iteration 461: Trial Sequence: VNVLFLERGEVRTISRSYATKYLYHHN<span style='color:red;font-weight:bold'>L</span>AVRA, Total Score: 45.779</pre>"
            ]
          },
          "metadata": {}
        },
        {
          "output_type": "display_data",
          "data": {
            "text/plain": [
              "<IPython.core.display.HTML object>"
            ],
            "text/html": [
              "<pre style='font-family:monospace'>Iteration 462: Trial Sequence: VNVLFLERGEVR<span style='color:red;font-weight:bold'>G</span>ISRSYATKYLYHHNIAVRA, Total Score: 4.710</pre>"
            ]
          },
          "metadata": {}
        },
        {
          "output_type": "display_data",
          "data": {
            "text/plain": [
              "<IPython.core.display.HTML object>"
            ],
            "text/html": [
              "<pre style='font-family:monospace'>Iteration 463: Trial Sequence: VNVLFLERGEVR<span style='color:red;font-weight:bold'>T</span>ISRSYATKYLYNHNIAVRA, Total Score: 3.502</pre>"
            ]
          },
          "metadata": {}
        },
        {
          "output_type": "display_data",
          "data": {
            "text/plain": [
              "<IPython.core.display.HTML object>"
            ],
            "text/html": [
              "<pre style='font-family:monospace'>Iteration 464: Trial Sequence: VNVLFLERGEVRTISRS<span style='color:red;font-weight:bold'>W</span>ATKYLYHHNIAVRA, Total Score: 4.897</pre>"
            ]
          },
          "metadata": {}
        },
        {
          "output_type": "display_data",
          "data": {
            "text/plain": [
              "<IPython.core.display.HTML object>"
            ],
            "text/html": [
              "<pre style='font-family:monospace'>Iteration 465: Trial Sequence: VN<span style='color:red;font-weight:bold'>I</span>LFLERGEVRTISRSYATKYLYHHNIAVRA, Total Score: 3.224</pre>"
            ]
          },
          "metadata": {}
        },
        {
          "output_type": "display_data",
          "data": {
            "text/plain": [
              "<IPython.core.display.HTML object>"
            ],
            "text/html": [
              "<pre style='font-family:monospace'>Iteration 466: Trial Sequence: VN<span style='color:red;font-weight:bold'>V</span>LWLERGEVRTISRSYATKYLYHHNIAVRA, Total Score: 4.410</pre>"
            ]
          },
          "metadata": {}
        },
        {
          "output_type": "display_data",
          "data": {
            "text/plain": [
              "<IPython.core.display.HTML object>"
            ],
            "text/html": [
              "<pre style='font-family:monospace'>Iteration 467: Trial Sequence: VNVL<span style='color:red;font-weight:bold'>F</span>LERGRVRTISRSYATKYLYHHNIAVRA, Total Score: 5.462</pre>"
            ]
          },
          "metadata": {}
        },
        {
          "output_type": "display_data",
          "data": {
            "text/plain": [
              "<IPython.core.display.HTML object>"
            ],
            "text/html": [
              "<pre style='font-family:monospace'>Iteration 468: Trial Sequence: VNVLFLERG<span style='color:red;font-weight:bold'>E</span>LRTISRSYATKYLYHHNIAVRA, Total Score: 3.234</pre>"
            ]
          },
          "metadata": {}
        },
        {
          "output_type": "display_data",
          "data": {
            "text/plain": [
              "<IPython.core.display.HTML object>"
            ],
            "text/html": [
              "<pre style='font-family:monospace'>Iteration 469: Trial Sequence: VNVLFLERGE<span style='color:red;font-weight:bold'>V</span>RAISRSYATKYLYHHNIAVRA, Total Score: 3.384</pre>"
            ]
          },
          "metadata": {}
        },
        {
          "output_type": "display_data",
          "data": {
            "text/plain": [
              "<IPython.core.display.HTML object>"
            ],
            "text/html": [
              "<pre style='font-family:monospace'>Iteration 470: Trial Sequence: VNVLFLERGEVR<span style='color:red;font-weight:bold'>T</span>ISRSYSTKYLYHHNIAVRA, Total Score: 10.056</pre>"
            ]
          },
          "metadata": {}
        },
        {
          "output_type": "display_data",
          "data": {
            "text/plain": [
              "<IPython.core.display.HTML object>"
            ],
            "text/html": [
              "<pre style='font-family:monospace'>Iteration 471: Trial Sequence: VNVLFLERGEVRTISRSY<span style='color:red;font-weight:bold'>A</span>TKWLYHHNIAVRA, Total Score: 4.083</pre>"
            ]
          },
          "metadata": {}
        },
        {
          "output_type": "display_data",
          "data": {
            "text/plain": [
              "<IPython.core.display.HTML object>"
            ],
            "text/html": [
              "<pre style='font-family:monospace'>Iteration 472: Trial Sequence: VNVLFLERGEV<span style='color:red;font-weight:bold'>H</span>TISRSYATKYLYHHNIAVRA, Total Score: 46.487</pre>"
            ]
          },
          "metadata": {}
        },
        {
          "output_type": "display_data",
          "data": {
            "text/plain": [
              "<IPython.core.display.HTML object>"
            ],
            "text/html": [
              "<pre style='font-family:monospace'>Iteration 473: Trial Sequence: VNVLFLERG<span style='color:green;font-weight:bold'>D</span>VRTISRSYATKYLYHHNIAVRA, <span style='color:blue;font-weight:bold'>Total Score: 49.330</span></pre>"
            ]
          },
          "metadata": {}
        },
        {
          "output_type": "display_data",
          "data": {
            "text/plain": [
              "<IPython.core.display.HTML object>"
            ],
            "text/html": [
              "<pre style='font-family:monospace'>Iteration 474: Trial Sequence: VNVLFLERGDVR<span style='color:red;font-weight:bold'>G</span>ISRSYATKYLYHHNIAVRA, Total Score: 0.923</pre>"
            ]
          },
          "metadata": {}
        },
        {
          "output_type": "display_data",
          "data": {
            "text/plain": [
              "<IPython.core.display.HTML object>"
            ],
            "text/html": [
              "<pre style='font-family:monospace'>Iteration 475: Trial Sequence: VNVLFLERGDVR<span style='color:red;font-weight:bold'>T</span>ISRSYATRYLYHHNIAVRA, Total Score: 4.977</pre>"
            ]
          },
          "metadata": {}
        },
        {
          "output_type": "display_data",
          "data": {
            "text/plain": [
              "<IPython.core.display.HTML object>"
            ],
            "text/html": [
              "<pre style='font-family:monospace'>Iteration 476: Trial Sequence: VNV<span style='color:red;font-weight:bold'>V</span>FLERGDVRTISRSYATKYLYHHNIAVRA, Total Score: 40.633</pre>"
            ]
          },
          "metadata": {}
        },
        {
          "output_type": "display_data",
          "data": {
            "text/plain": [
              "<IPython.core.display.HTML object>"
            ],
            "text/html": [
              "<pre style='font-family:monospace'>Iteration 477: Trial Sequence: VNV<span style='color:red;font-weight:bold'>I</span>FLERGDVRTISRSYATKYLYHHNIAVRA, Total Score: 9.513</pre>"
            ]
          },
          "metadata": {}
        },
        {
          "output_type": "display_data",
          "data": {
            "text/plain": [
              "<IPython.core.display.HTML object>"
            ],
            "text/html": [
              "<pre style='font-family:monospace'>Iteration 478: Trial Sequence: VNV<span style='color:red;font-weight:bold'>L</span>WLERGDVRTISRSYATKYLYHHNIAVRA, Total Score: 0.532</pre>"
            ]
          },
          "metadata": {}
        },
        {
          "output_type": "display_data",
          "data": {
            "text/plain": [
              "<IPython.core.display.HTML object>"
            ],
            "text/html": [
              "<pre style='font-family:monospace'>Iteration 479: Trial Sequence: VNVL<span style='color:red;font-weight:bold'>F</span>LDRGDVRTISRSYATKYLYHHNIAVRA, Total Score: 7.909</pre>"
            ]
          },
          "metadata": {}
        },
        {
          "output_type": "display_data",
          "data": {
            "text/plain": [
              "<IPython.core.display.HTML object>"
            ],
            "text/html": [
              "<pre style='font-family:monospace'>Iteration 480: Trial Sequence: VNVLFL<span style='color:red;font-weight:bold'>E</span>RGDVRTISRSYATKYLYHNNIAVRA, Total Score: 48.977</pre>"
            ]
          },
          "metadata": {}
        },
        {
          "output_type": "display_data",
          "data": {
            "text/plain": [
              "<IPython.core.display.HTML object>"
            ],
            "text/html": [
              "<pre style='font-family:monospace'>Iteration 481: Trial Sequence: VNVLFLERGDVRTISRSYATKYLYH<span style='color:red;font-weight:bold'>H</span>NIAVHA, Total Score: 8.907</pre>"
            ]
          },
          "metadata": {}
        },
        {
          "output_type": "display_data",
          "data": {
            "text/plain": [
              "<IPython.core.display.HTML object>"
            ],
            "text/html": [
              "<pre style='font-family:monospace'>Iteration 482: Trial Sequence: VNVLFLERGDVRTISRSYATKYLYHHNIA<span style='color:red;font-weight:bold'>I</span>RA, Total Score: 44.955</pre>"
            ]
          },
          "metadata": {}
        },
        {
          "output_type": "display_data",
          "data": {
            "text/plain": [
              "<IPython.core.display.HTML object>"
            ],
            "text/html": [
              "<pre style='font-family:monospace'>Iteration 483: Trial Sequence: VNVLFLERGDV<span style='color:red;font-weight:bold'>K</span>TISRSYATKYLYHHNIAVRA, Total Score: 47.118</pre>"
            ]
          },
          "metadata": {}
        },
        {
          "output_type": "display_data",
          "data": {
            "text/plain": [
              "<IPython.core.display.HTML object>"
            ],
            "text/html": [
              "<pre style='font-family:monospace'>Iteration 484: Trial Sequence: VNVLFLERGDV<span style='color:red;font-weight:bold'>R</span>TISRSYATKYLYHHTIAVRA, Total Score: 1.326</pre>"
            ]
          },
          "metadata": {}
        },
        {
          "output_type": "display_data",
          "data": {
            "text/plain": [
              "<IPython.core.display.HTML object>"
            ],
            "text/html": [
              "<pre style='font-family:monospace'>Iteration 485: Trial Sequence: VNVLFLER<span style='color:red;font-weight:bold'>A</span>DVRTISRSYATKYLYHHNIAVRA, Total Score: 1.107</pre>"
            ]
          },
          "metadata": {}
        },
        {
          "output_type": "display_data",
          "data": {
            "text/plain": [
              "<IPython.core.display.HTML object>"
            ],
            "text/html": [
              "<pre style='font-family:monospace'>Iteration 486: Trial Sequence: VNVLFLER<span style='color:green;font-weight:bold'>G</span>DVRTISRTYATKYLYHHNIAVRA, <span style='color:blue;font-weight:bold'>Total Score: 50.148</span></pre>"
            ]
          },
          "metadata": {}
        },
        {
          "output_type": "display_data",
          "data": {
            "text/plain": [
              "<IPython.core.display.HTML object>"
            ],
            "text/html": [
              "<pre style='font-family:monospace'>Iteration 487: Trial Sequence: VNVLFLER<span style='color:red;font-weight:bold'>S</span>DVRTISRTYATKYLYHHNIAVRA, Total Score: 0.253</pre>"
            ]
          },
          "metadata": {}
        },
        {
          "output_type": "display_data",
          "data": {
            "text/plain": [
              "<IPython.core.display.HTML object>"
            ],
            "text/html": [
              "<pre style='font-family:monospace'>Iteration 488: Trial Sequence: VNVLFLER<span style='color:red;font-weight:bold'>G</span>EVRTISRTYATKYLYHHNIAVRA, Total Score: 48.598</pre>"
            ]
          },
          "metadata": {}
        },
        {
          "output_type": "display_data",
          "data": {
            "text/plain": [
              "<IPython.core.display.HTML object>"
            ],
            "text/html": [
              "<pre style='font-family:monospace'>Iteration 489: Trial Sequence: VNV<span style='color:red;font-weight:bold'>I</span>FLERGDVRTISRTYATKYLYHHNIAVRA, Total Score: 35.171</pre>"
            ]
          },
          "metadata": {}
        },
        {
          "output_type": "display_data",
          "data": {
            "text/plain": [
              "<IPython.core.display.HTML object>"
            ],
            "text/html": [
              "<pre style='font-family:monospace'>Iteration 490: Trial Sequence: VNV<span style='color:red;font-weight:bold'>L</span>FLERGDVRTISRTYATKYIYHHNIAVRA, Total Score: 6.835</pre>"
            ]
          },
          "metadata": {}
        },
        {
          "output_type": "display_data",
          "data": {
            "text/plain": [
              "<IPython.core.display.HTML object>"
            ],
            "text/html": [
              "<pre style='font-family:monospace'>Iteration 491: Trial Sequence: VNVLFLE<span style='color:red;font-weight:bold'>H</span>GDVRTISRTYATKYLYHHNIAVRA, Total Score: 48.934</pre>"
            ]
          },
          "metadata": {}
        },
        {
          "output_type": "display_data",
          "data": {
            "text/plain": [
              "<IPython.core.display.HTML object>"
            ],
            "text/html": [
              "<pre style='font-family:monospace'>Iteration 492: Trial Sequence: VNVLFLE<span style='color:red;font-weight:bold'>R</span>GDVRTISRTYATKYLYRHNIAVRA, Total Score: 7.202</pre>"
            ]
          },
          "metadata": {}
        },
        {
          "output_type": "display_data",
          "data": {
            "text/plain": [
              "<IPython.core.display.HTML object>"
            ],
            "text/html": [
              "<pre style='font-family:monospace'>Iteration 493: Trial Sequence: VNVLFLERGDVRTISRTYATK<span style='color:red;font-weight:bold'>F</span>LYHHNIAVRA, Total Score: 47.896</pre>"
            ]
          },
          "metadata": {}
        },
        {
          "output_type": "display_data",
          "data": {
            "text/plain": [
              "<IPython.core.display.HTML object>"
            ],
            "text/html": [
              "<pre style='font-family:monospace'>Iteration 494: Trial Sequence: VNVLFLERGD<span style='color:red;font-weight:bold'>L</span>RTISRTYATKYLYHHNIAVRA, Total Score: 7.132</pre>"
            ]
          },
          "metadata": {}
        },
        {
          "output_type": "display_data",
          "data": {
            "text/plain": [
              "<IPython.core.display.HTML object>"
            ],
            "text/html": [
              "<pre style='font-family:monospace'>Iteration 495: Trial Sequence: VNVLFLERGD<span style='color:red;font-weight:bold'>V</span>RTISRTYATKYLYHRNIAVRA, Total Score: 48.891</pre>"
            ]
          },
          "metadata": {}
        },
        {
          "output_type": "display_data",
          "data": {
            "text/plain": [
              "<IPython.core.display.HTML object>"
            ],
            "text/html": [
              "<pre style='font-family:monospace'>Iteration 496: Trial Sequence: VNVLFLERGD<span style='color:red;font-weight:bold'>M</span>RTISRTYATKYLYHHNIAVRA, Total Score: 6.822</pre>"
            ]
          },
          "metadata": {}
        },
        {
          "output_type": "display_data",
          "data": {
            "text/plain": [
              "<IPython.core.display.HTML object>"
            ],
            "text/html": [
              "<pre style='font-family:monospace'>Iteration 497: Trial Sequence: VNVLFLERGD<span style='color:red;font-weight:bold'>V</span>RTISRTFATKYLYHHNIAVRA, Total Score: 6.563</pre>"
            ]
          },
          "metadata": {}
        },
        {
          "output_type": "display_data",
          "data": {
            "text/plain": [
              "<IPython.core.display.HTML object>"
            ],
            "text/html": [
              "<pre style='font-family:monospace'>Iteration 498: Trial Sequence: VNVLFLERGDVRTISRT<span style='color:red;font-weight:bold'>Y</span>ATKYLYHHTIAVRA, Total Score: 0.481</pre>"
            ]
          },
          "metadata": {}
        },
        {
          "output_type": "display_data",
          "data": {
            "text/plain": [
              "<IPython.core.display.HTML object>"
            ],
            "text/html": [
              "<pre style='font-family:monospace'>Iteration 499: Trial Sequence: VNVLFLERGDVRTISRTYATKY<span style='color:red;font-weight:bold'>V</span>YHHNIAVRA, Total Score: 6.777</pre>"
            ]
          },
          "metadata": {}
        },
        {
          "output_type": "display_data",
          "data": {
            "text/plain": [
              "<IPython.core.display.HTML object>"
            ],
            "text/html": [
              "<pre style='font-family:monospace'>Iteration 500: Trial Sequence: VNVLFLERGDVRT<span style='color:red;font-weight:bold'>L</span>SRTYATKYLYHHNIAVRA, Total Score: 2.396</pre>"
            ]
          },
          "metadata": {}
        },
        {
          "output_type": "stream",
          "name": "stdout",
          "text": [
            "\n",
            "History printing complete.\n",
            "\n",
            "Comparison: Original Sequence vs Best Found Sequence\n"
          ]
        },
        {
          "output_type": "display_data",
          "data": {
            "text/plain": [
              "<IPython.core.display.HTML object>"
            ],
            "text/html": [
              "<pre style='font-family:monospace'>Original: MKVIFLKKGEIKNVADGYANNFLFKQGLAIEA</pre>"
            ]
          },
          "metadata": {}
        },
        {
          "output_type": "display_data",
          "data": {
            "text/plain": [
              "<IPython.core.display.HTML object>"
            ],
            "text/html": [
              "<pre style='font-family:monospace'>Best:     <span style='color:red;font-weight:bold'>V</span><span style='color:red;font-weight:bold'>N</span>V<span style='color:red;font-weight:bold'>L</span>FL<span style='color:red;font-weight:bold'>E</span><span style='color:red;font-weight:bold'>R</span>G<span style='color:red;font-weight:bold'>D</span><span style='color:red;font-weight:bold'>V</span><span style='color:red;font-weight:bold'>R</span><span style='color:red;font-weight:bold'>T</span><span style='color:red;font-weight:bold'>I</span><span style='color:red;font-weight:bold'>S</span><span style='color:red;font-weight:bold'>R</span><span style='color:red;font-weight:bold'>T</span>YA<span style='color:red;font-weight:bold'>T</span><span style='color:red;font-weight:bold'>K</span><span style='color:red;font-weight:bold'>Y</span>L<span style='color:red;font-weight:bold'>Y</span><span style='color:red;font-weight:bold'>H</span><span style='color:red;font-weight:bold'>H</span><span style='color:red;font-weight:bold'>N</span><span style='color:red;font-weight:bold'>I</span>A<span style='color:red;font-weight:bold'>V</span><span style='color:red;font-weight:bold'>R</span>A</pre>"
            ]
          },
          "metadata": {}
        },
        {
          "output_type": "display_data",
          "data": {
            "text/plain": [
              "<IPython.core.display.HTML object>"
            ],
            "text/html": [
              "<pre style='font-family:monospace'>Original: ATGAAAGTGATTTTTCTGAAAAAAGGCGAAATTAAAAACGTGGCGGATGGCTATGCGAACAACTTTCTGTTTAAACAGGGCCTGGCGATTGAAGCG</pre>"
            ]
          },
          "metadata": {}
        },
        {
          "output_type": "display_data",
          "data": {
            "text/plain": [
              "<IPython.core.display.HTML object>"
            ],
            "text/html": [
              "<pre style='font-family:monospace'>Best:     <span style='color:red;font-weight:bold'>G</span>TGAA<span style='color:red;font-weight:bold'>C</span>GTG<span style='color:red;font-weight:bold'>C</span>T<span style='color:red;font-weight:bold'>A</span>TTTCTG<span style='color:red;font-weight:bold'>G</span>AA<span style='color:red;font-weight:bold'>C</span><span style='color:red;font-weight:bold'>G</span><span style='color:red;font-weight:bold'>T</span>GGCGA<span style='color:red;font-weight:bold'>C</span><span style='color:red;font-weight:bold'>G</span>T<span style='color:red;font-weight:bold'>C</span>A<span style='color:red;font-weight:bold'>G</span>AA<span style='color:red;font-weight:bold'>C</span>C<span style='color:red;font-weight:bold'>A</span>T<span style='color:red;font-weight:bold'>T</span><span style='color:red;font-weight:bold'>A</span><span style='color:red;font-weight:bold'>G</span><span style='color:red;font-weight:bold'>C</span><span style='color:red;font-weight:bold'>C</span><span style='color:red;font-weight:bold'>G</span><span style='color:red;font-weight:bold'>G</span><span style='color:red;font-weight:bold'>A</span><span style='color:red;font-weight:bold'>C</span><span style='color:red;font-weight:bold'>T</span>TATGCGA<span style='color:red;font-weight:bold'>C</span><span style='color:red;font-weight:bold'>G</span>AA<span style='color:red;font-weight:bold'>A</span>T<span style='color:red;font-weight:bold'>A</span>TCTGT<span style='color:red;font-weight:bold'>A</span>T<span style='color:red;font-weight:bold'>C</span>A<span style='color:red;font-weight:bold'>T</span>CA<span style='color:red;font-weight:bold'>T</span><span style='color:red;font-weight:bold'>A</span><span style='color:red;font-weight:bold'>A</span>C<span style='color:red;font-weight:bold'>A</span>T<span style='color:red;font-weight:bold'>T</span>GCG<span style='color:red;font-weight:bold'>G</span>T<span style='color:red;font-weight:bold'>C</span><span style='color:red;font-weight:bold'>C</span><span style='color:red;font-weight:bold'>G</span><span style='color:red;font-weight:bold'>T</span>GCG</pre>"
            ]
          },
          "metadata": {}
        },
        {
          "output_type": "stream",
          "name": "stdout",
          "text": [
            "(Sequence identity is 28.1%)\n"
          ]
        }
      ]
    },
    {
      "cell_type": "code",
      "metadata": {
        "colab": {
          "base_uri": "https://localhost:8080/",
          "height": 216
        },
        "cellView": "form",
        "id": "b5aadf40",
        "outputId": "f23e31d7-d4a3-415b-d29f-2a5b3fda42d3"
      },
      "source": [
        "#@title Plot sequence history\n",
        "\n",
        "import matplotlib.pyplot as plt\n",
        "import numpy as np\n",
        "\n",
        "# Assuming the history dictionary is loaded from the previous cell\n",
        "# history = np.load(history_filename.replace('.pkl', '.npy'), allow_pickle=True).item()\n",
        "\n",
        "all_iterations = history['all_iterations']\n",
        "all_mutation_scores = history['all_mutation_scores']\n",
        "all_sim_scores = history['all_sim_scores']\n",
        "all_total_scores = history['all_total_scores']\n",
        "\n",
        "accepted_iterations = history['accepted_iterations']\n",
        "accepted_mutation_scores = history['accepted_mutation_scores']\n",
        "accepted_sim_scores = history['accepted_sim_scores']\n",
        "accepted_total_scores = history['accepted_total_scores']\n",
        "\n",
        "# Normalize scores for the time series plots\n",
        "# Find the max values across both all and accepted scores to normalize consistently\n",
        "max_mutation_score = max(max(all_mutation_scores) if all_mutation_scores else 0,\n",
        "                         max(accepted_mutation_scores) if accepted_mutation_scores else 0)\n",
        "max_sim_score = max(max(all_sim_scores) if all_sim_scores else 0,\n",
        "                    max(accepted_sim_scores) if accepted_sim_scores else 0)\n",
        "max_total_score = max(max(all_total_scores) if all_total_scores else 0,\n",
        "                      max(accepted_total_scores) if accepted_total_scores else 0)\n",
        "\n",
        "\n",
        "normalized_all_mutation_scores = [score / max_mutation_score if max_mutation_score > 0 else 0 for score in all_mutation_scores]\n",
        "normalized_all_sim_scores = [score / max_sim_score if max_sim_score > 0 else 0 for score in all_sim_scores]\n",
        "normalized_all_total_scores = [score / max_total_score if max_total_score > 0 else 0 for score in all_total_scores]\n",
        "\n",
        "normalized_accepted_mutation_scores = [score / max_mutation_score if max_mutation_score > 0 else 0 for score in accepted_mutation_scores]\n",
        "normalized_accepted_sim_scores = [score / max_sim_score if max_sim_score > 0 else 0 for score in accepted_sim_scores]\n",
        "normalized_accepted_total_scores = [score / max_total_score if max_total_score > 0 else 0 for score in accepted_total_scores]\n",
        "\n",
        "\n",
        "fig, axes = plt.subplots(2, 2, figsize=(12, 10))\n",
        "fig.suptitle('Mutation Evolution Analysis', fontsize=16)\n",
        "\n",
        "# Subplot 1: All sequences - Mutation vs Similarity Scatter\n",
        "axes[0, 0].scatter(all_mutation_scores, all_sim_scores, alpha=0.5, label='All Mutations')\n",
        "axes[0, 0].plot(all_mutation_scores, all_sim_scores, alpha=0.2, linestyle='-', linewidth=1)\n",
        "axes[0, 0].set_xlabel('Mutation Score')\n",
        "axes[0, 0].set_ylabel('Similarity Score')\n",
        "axes[0, 0].set_title('All Sequences: Mutation vs Similarity')\n",
        "axes[0, 0].grid(True)\n",
        "\n",
        "# Subplot 2: Accepted sequences - Mutation vs Similarity Scatter\n",
        "axes[0, 1].scatter(accepted_mutation_scores, accepted_sim_scores, color='green', alpha=0.7, label='Accepted Mutations')\n",
        "axes[0, 1].plot(accepted_mutation_scores, accepted_sim_scores, color='green', alpha=0.4, linestyle='-', linewidth=1)\n",
        "axes[0, 1].set_xlabel('Mutation Score')\n",
        "axes[0, 1].set_ylabel('Similarity Score')\n",
        "axes[0, 1].set_title('Accepted Sequences: Mutation vs Similarity')\n",
        "axes[0, 1].grid(True)\n",
        "\n",
        "# Subplot 3: All sequences - Scores over Time (Normalized)\n",
        "axes[1, 0].plot(all_iterations, normalized_all_mutation_scores, label='Normalized Mutation Score')\n",
        "axes[1, 0].plot(all_iterations, normalized_all_sim_scores, label='Normalized Similarity Score')\n",
        "axes[1, 0].plot(all_iterations, normalized_all_total_scores, label='Normalized Total Score')\n",
        "axes[1, 0].set_xlabel('Iteration')\n",
        "axes[1, 0].set_ylabel('Normalized Score')\n",
        "axes[1, 0].set_title('All Sequences: Normalized Scores over Time')\n",
        "axes[1, 0].legend()\n",
        "axes[1, 0].grid(True)\n",
        "\n",
        "# Subplot 4: Accepted sequences - Scores over Time (Normalized)\n",
        "axes[1, 1].plot(accepted_iterations, normalized_accepted_mutation_scores, label='Normalized Mutation Score')\n",
        "axes[1, 1].plot(accepted_iterations, normalized_accepted_sim_scores, label='Normalized Similarity Score')\n",
        "axes[1, 1].plot(accepted_iterations, normalized_accepted_total_scores, label='Normalized Total Score')\n",
        "axes[1, 1].set_xlabel('Iteration')\n",
        "axes[1, 1].set_ylabel('Normalized Score')\n",
        "axes[1, 1].set_title('Accepted Sequences: Normalized Scores over Time')\n",
        "axes[1, 1].legend()\n",
        "axes[1, 1].grid(True)\n",
        "\n",
        "plt.tight_layout(rect=[0, 0.03, 1, 0.95]) # Adjust layout to prevent title overlap\n",
        "plt.show()"
      ],
      "execution_count": 1,
      "outputs": [
        {
          "output_type": "error",
          "ename": "NameError",
          "evalue": "name 'history' is not defined",
          "traceback": [
            "\u001b[0;31m---------------------------------------------------------------------------\u001b[0m",
            "\u001b[0;31mNameError\u001b[0m                                 Traceback (most recent call last)",
            "\u001b[0;32m/tmp/ipython-input-3270944777.py\u001b[0m in \u001b[0;36m<cell line: 0>\u001b[0;34m()\u001b[0m\n\u001b[1;32m      7\u001b[0m \u001b[0;31m# history = np.load(history_filename.replace('.pkl', '.npy'), allow_pickle=True).item()\u001b[0m\u001b[0;34m\u001b[0m\u001b[0;34m\u001b[0m\u001b[0m\n\u001b[1;32m      8\u001b[0m \u001b[0;34m\u001b[0m\u001b[0m\n\u001b[0;32m----> 9\u001b[0;31m \u001b[0mall_iterations\u001b[0m \u001b[0;34m=\u001b[0m \u001b[0mhistory\u001b[0m\u001b[0;34m[\u001b[0m\u001b[0;34m'all_iterations'\u001b[0m\u001b[0;34m]\u001b[0m\u001b[0;34m\u001b[0m\u001b[0;34m\u001b[0m\u001b[0m\n\u001b[0m\u001b[1;32m     10\u001b[0m \u001b[0mall_mutation_scores\u001b[0m \u001b[0;34m=\u001b[0m \u001b[0mhistory\u001b[0m\u001b[0;34m[\u001b[0m\u001b[0;34m'all_mutation_scores'\u001b[0m\u001b[0;34m]\u001b[0m\u001b[0;34m\u001b[0m\u001b[0;34m\u001b[0m\u001b[0m\n\u001b[1;32m     11\u001b[0m \u001b[0mall_sim_scores\u001b[0m \u001b[0;34m=\u001b[0m \u001b[0mhistory\u001b[0m\u001b[0;34m[\u001b[0m\u001b[0;34m'all_sim_scores'\u001b[0m\u001b[0;34m]\u001b[0m\u001b[0;34m\u001b[0m\u001b[0;34m\u001b[0m\u001b[0m\n",
            "\u001b[0;31mNameError\u001b[0m: name 'history' is not defined"
          ]
        }
      ]
    },
    {
      "cell_type": "code",
      "metadata": {
        "colab": {
          "base_uri": "https://localhost:8080/",
          "height": 718
        },
        "cellView": "form",
        "id": "67401602",
        "outputId": "3ae68a79-1669-4621-9ddc-ef7bdbd5b167"
      },
      "source": [
        "#@title Plot all accepted mutations\n",
        "\n",
        "import pandas as pd\n",
        "import seaborn as sns\n",
        "import matplotlib.pyplot as plt\n",
        "from collections import defaultdict\n",
        "\n",
        "sim_threshold = 0.1 #@param\n",
        "\n",
        "# Assuming the history dictionary is loaded from the previous cell\n",
        "# history = np.load(history_filename.replace('.pkl', '.npy'), allow_pickle=True).item()\n",
        "\n",
        "all_iterations = history['all_iterations']\n",
        "all_sim_scores = history['all_sim_scores']\n",
        "all_tried_protein_sequences = history['all_tried_protein_sequences'] # These are already protein sequences\n",
        "\n",
        "# Filter for mutations with similarity score >= 0.8\n",
        "high_similarity_mutations = []\n",
        "# Iterate through all tried sequences starting from the second one (index 1)\n",
        "for i in range(1, len(all_tried_protein_sequences)):\n",
        "    iteration = all_iterations[i-1] # Iteration numbers correspond to the mutation *leading to* the current sequence\n",
        "    previous_protein_sequence = all_tried_protein_sequences[i-1]\n",
        "    current_protein_sequence = all_tried_protein_sequences[i]\n",
        "    similarity_score = all_sim_scores[i-1] # Similarity score for the mutation at this iteration\n",
        "\n",
        "    if similarity_score >= sim_threshold:\n",
        "        # Find the mutated position and amino acids\n",
        "        mutated_pos = -1\n",
        "        original_aa = None\n",
        "        mutated_aa = None\n",
        "        for j in range(len(previous_protein_sequence)):\n",
        "            if previous_protein_sequence[j] != current_protein_sequence[j]:\n",
        "                mutated_pos = j\n",
        "                original_aa = previous_protein_sequence[j]\n",
        "                mutated_aa = current_protein_sequence[j]\n",
        "                break # Assuming only one mutation per step\n",
        "\n",
        "        if mutated_pos != -1:\n",
        "            high_similarity_mutations.append({'original_aa': original_aa,\n",
        "                                             'mutated_aa': mutated_aa,\n",
        "                                             'position': mutated_pos,\n",
        "                                             'similarity_score': similarity_score})\n",
        "\n",
        "# Count the frequency of each substitution\n",
        "substitution_counts = defaultdict(int)\n",
        "for mutation in high_similarity_mutations:\n",
        "    substitution_counts[(mutation['original_aa'], mutation['mutated_aa'])] += 1\n",
        "\n",
        "# Create a matrix (DataFrame) for visualization\n",
        "# Get all unique amino acids involved in these substitutions\n",
        "all_aas = sorted(list(set([m['original_aa'] for m in high_similarity_mutations] +\n",
        "                         [m['mutated_aa'] for m in high_similarity_mutations])))\n",
        "\n",
        "substitution_matrix = pd.DataFrame(0, index=all_aas, columns=all_aas)\n",
        "\n",
        "for (orig, mut), count in substitution_counts.items():\n",
        "    substitution_matrix.loc[orig, mut] = count\n",
        "\n",
        "# Visualize the matrix\n",
        "plt.figure(figsize=(10, 8))\n",
        "sns.heatmap(substitution_matrix, cmap=\"viridis\", annot=True, fmt=\"d\", linewidths=.5)\n",
        "plt.xlabel(\"Mutated Amino Acid\")\n",
        "plt.ylabel(\"Original Amino Acid\")\n",
        "plt.title(f\"Amino Acid Substitutions with Similarity Score >= {sim_threshold}\")\n",
        "plt.show()"
      ],
      "execution_count": null,
      "outputs": [
        {
          "output_type": "display_data",
          "data": {
            "text/plain": [
              "<Figure size 1000x800 with 2 Axes>"
            ],
            "image/png": "[encoded data removed]"
          },
          "metadata": {}
        }
      ]
    },
    {
      "cell_type": "code",
      "metadata": {
        "colab": {
          "base_uri": "https://localhost:8080/",
          "height": 564
        },
        "id": "73de7d81",
        "outputId": "b96fcf4a-bc88-4254-b184-d1ff8fa6c7d3"
      },
      "source": [
        "import matplotlib.pyplot as plt\n",
        "\n",
        "# Assuming 'all_sim_scores' is available from the previous cell's execution\n",
        "# If not, you might need to load the history again:\n",
        "# history = np.load(history_filename.replace('.pkl', '.npy'), allow_pickle=True).item()\n",
        "# all_sim_scores = history['all_sim_scores']\n",
        "\n",
        "plt.figure(figsize=(8, 6))\n",
        "plt.hist(all_sim_scores, bins=20, edgecolor='black')\n",
        "plt.xlabel('Similarity Score')\n",
        "plt.ylabel('Frequency')\n",
        "plt.title('Distribution of All Similarity Scores')\n",
        "plt.grid(axis='y', alpha=0.75)\n",
        "plt.show()"
      ],
      "execution_count": null,
      "outputs": [
        {
          "output_type": "display_data",
          "data": {
            "text/plain": [
              "<Figure size 800x600 with 1 Axes>"
            ],
            "image/png": "[encoded data removed]"
          },
          "metadata": {}
        }
      ]
    },
    {
      "cell_type": "code",
      "metadata": {
        "colab": {
          "base_uri": "https://localhost:8080/",
          "height": 35
        },
        "cellView": "form",
        "id": "53d927e5",
        "outputId": "e43e6e8f-d320-4465-f6d9-ad9cc3df81cf"
      },
      "source": [
        "#@title Download sequences above a total score threshold\n",
        "\n",
        "from google.colab import files\n",
        "\n",
        "score_threshold = 40.0 #@param{type:\"number\"}\n",
        "\n",
        "# Filter sequences based on the score threshold\n",
        "high_scoring_sequences = [\n",
        "    seq for i, seq in enumerate(history['all_tried_protein_sequences'][1:]) # Start from index 1 to skip original\n",
        "    if history['all_total_scores'][i] >= score_threshold\n",
        "]\n",
        "\n",
        "# Add the original sequence if its score (or a derived score) meets the threshold\n",
        "# This assumes original_seq's score is available in history or can be calculated\n",
        "# If the original sequence's score is not explicitly in all_total_scores at index 0,\n",
        "# you might need to calculate it or handle it separately.\n",
        "# For simplicity, let's assume the first entry in all_total_scores corresponds to the first tried sequence (index 1 in all_tried_protein_sequences)\n",
        "# and the original sequence is implicitly handled if it leads to a high-scoring mutation.\n",
        "# A more explicit way if needed:\n",
        "# original_score = mutation_score(original_seq, original_seq) * rmsd_to_similarity(align_pred_to_ref(pdb_str, \"reference.pdb\")[1]) # Example calculation\n",
        "# if original_score >= score_threshold and history['all_tried_protein_sequences'][0] not in high_scoring_sequences:\n",
        "#    high_scoring_sequences.insert(0, history['all_tried_protein_sequences'][0])\n",
        "\n",
        "# Add the best protein sequence if it's not already included (it should be if its score > threshold)\n",
        "best_protein_sequence = history['best_protein_sequence']\n",
        "if best_protein_sequence not in high_scoring_sequences and history['best_total_score'] >= score_threshold:\n",
        "    high_scoring_sequences.append(best_protein_sequence)\n",
        "\n",
        "\n",
        "# Create the FASTA file content\n",
        "fasta_content = \"\"\n",
        "for i, seq in enumerate(high_scoring_sequences):\n",
        "    fasta_content += f\">Sequence_{i+1}\\n{seq}\\n\"\n",
        "\n",
        "# Define the filename\n",
        "fasta_filename = \"high_scoring_sequences.fasta\"\n",
        "\n",
        "# Write the FASTA content to a file\n",
        "with open(fasta_filename, \"w\") as f:\n",
        "    f.write(fasta_content)\n",
        "\n",
        "# Download the file\n",
        "files.download(fasta_filename)\n",
        "\n",
        "print(f\"Created and downloaded {fasta_filename} containing {len(high_scoring_sequences)} sequences with total score >= {score_threshold}.\")"
      ],
      "execution_count": null,
      "outputs": [
        {
          "output_type": "display_data",
          "data": {
            "text/plain": [
              "<IPython.core.display.Javascript object>"
            ],
            "application/javascript": [
              "\n",
              "    async function download(id, filename, size) {\n",
              "      if (!google.colab.kernel.accessAllowed) {\n",
              "        return;\n",
              "      }\n",
              "      const div = document.createElement('div');\n",
              "      const label = document.createElement('label');\n",
              "      label.textContent = `Downloading \"${filename}\": `;\n",
              "      div.appendChild(label);\n",
              "      const progress = document.createElement('progress');\n",
              "      progress.max = size;\n",
              "      div.appendChild(progress);\n",
              "      document.body.appendChild(div);\n",
              "\n",
              "      const buffers = [];\n",
              "      let downloaded = 0;\n",
              "\n",
              "      const channel = await google.colab.kernel.comms.open(id);\n",
              "      // Send a message to notify the kernel that we're ready.\n",
              "      channel.send({})\n",
              "\n",
              "      for await (const message of channel.messages) {\n",
              "        // Send a message to notify the kernel that we're ready.\n",
              "        channel.send({})\n",
              "        if (message.buffers) {\n",
              "          for (const buffer of message.buffers) {\n",
              "            buffers.push(buffer);\n",
              "            downloaded += buffer.byteLength;\n",
              "            progress.value = downloaded;\n",
              "          }\n",
              "        }\n",
              "      }\n",
              "      const blob = new Blob(buffers, {type: 'application/binary'});\n",
              "      const a = document.createElement('a');\n",
              "      a.href = window.URL.createObjectURL(blob);\n",
              "      a.download = filename;\n",
              "      div.appendChild(a);\n",
              "      a.click();\n",
              "      div.remove();\n",
              "    }\n",
              "  "
            ]
          },
          "metadata": {}
        },
        {
          "output_type": "display_data",
          "data": {
            "text/plain": [
              "<IPython.core.display.Javascript object>"
            ],
            "application/javascript": [
              "download(\"download_d689efb2-cc54-46ec-82a6-77e721db62c5\", \"high_scoring_sequences.fasta\", 2291)"
            ]
          },
          "metadata": {}
        },
        {
          "output_type": "stream",
          "name": "stdout",
          "text": [
            "Created and downloaded high_scoring_sequences.fasta containing 50 sequences with total score >= 40.0.\n"
          ]
        }
      ]
    },
    {
      "cell_type": "code",
      "metadata": {
        "colab": {
          "base_uri": "https://localhost:8080/",
          "height": 53
        },
        "cellView": "form",
        "id": "359edac2",
        "outputId": "76e08364-c8ba-489b-8e7d-888884777198"
      },
      "source": [
        "#@title Download history files\n",
        "\n",
        "from google.colab import files\n",
        "import os\n",
        "\n",
        "# Define the history filenames\n",
        "history_pkl_filename = \"mutation_history.pkl\"\n",
        "history_npy_filename = \"mutation_history.npy\" # Assuming you saved the .npy as well\n",
        "\n",
        "# Download the files if they exist\n",
        "if os.path.exists(history_pkl_filename):\n",
        "    files.download(history_pkl_filename)\n",
        "    print(f\"Downloaded {history_pkl_filename}\")\n",
        "else:\n",
        "    print(f\"{history_pkl_filename} not found.\")\n",
        "\n",
        "if os.path.exists(history_npy_filename):\n",
        "    files.download(history_npy_filename)\n",
        "    print(f\"Downloaded {history_npy_filename}\")\n",
        "else:\n",
        "    print(f\"{history_npy_filename} not found.\")"
      ],
      "execution_count": null,
      "outputs": [
        {
          "output_type": "display_data",
          "data": {
            "text/plain": [
              "<IPython.core.display.Javascript object>"
            ],
            "application/javascript": [
              "\n",
              "    async function download(id, filename, size) {\n",
              "      if (!google.colab.kernel.accessAllowed) {\n",
              "        return;\n",
              "      }\n",
              "      const div = document.createElement('div');\n",
              "      const label = document.createElement('label');\n",
              "      label.textContent = `Downloading \"${filename}\": `;\n",
              "      div.appendChild(label);\n",
              "      const progress = document.createElement('progress');\n",
              "      progress.max = size;\n",
              "      div.appendChild(progress);\n",
              "      document.body.appendChild(div);\n",
              "\n",
              "      const buffers = [];\n",
              "      let downloaded = 0;\n",
              "\n",
              "      const channel = await google.colab.kernel.comms.open(id);\n",
              "      // Send a message to notify the kernel that we're ready.\n",
              "      channel.send({})\n",
              "\n",
              "      for await (const message of channel.messages) {\n",
              "        // Send a message to notify the kernel that we're ready.\n",
              "        channel.send({})\n",
              "        if (message.buffers) {\n",
              "          for (const buffer of message.buffers) {\n",
              "            buffers.push(buffer);\n",
              "            downloaded += buffer.byteLength;\n",
              "            progress.value = downloaded;\n",
              "          }\n",
              "        }\n",
              "      }\n",
              "      const blob = new Blob(buffers, {type: 'application/binary'});\n",
              "      const a = document.createElement('a');\n",
              "      a.href = window.URL.createObjectURL(blob);\n",
              "      a.download = filename;\n",
              "      div.appendChild(a);\n",
              "      a.click();\n",
              "      div.remove();\n",
              "    }\n",
              "  "
            ]
          },
          "metadata": {}
        },
        {
          "output_type": "display_data",
          "data": {
            "text/plain": [
              "<IPython.core.display.Javascript object>"
            ],
            "application/javascript": [
              "download(\"download_19fe15c2-4b42-4003-b48c-ea0896f20367\", \"mutation_history.pkl\", 43809)"
            ]
          },
          "metadata": {}
        },
        {
          "output_type": "stream",
          "name": "stdout",
          "text": [
            "Downloaded mutation_history.pkl\n"
          ]
        },
        {
          "output_type": "display_data",
          "data": {
            "text/plain": [
              "<IPython.core.display.Javascript object>"
            ],
            "application/javascript": [
              "\n",
              "    async function download(id, filename, size) {\n",
              "      if (!google.colab.kernel.accessAllowed) {\n",
              "        return;\n",
              "      }\n",
              "      const div = document.createElement('div');\n",
              "      const label = document.createElement('label');\n",
              "      label.textContent = `Downloading \"${filename}\": `;\n",
              "      div.appendChild(label);\n",
              "      const progress = document.createElement('progress');\n",
              "      progress.max = size;\n",
              "      div.appendChild(progress);\n",
              "      document.body.appendChild(div);\n",
              "\n",
              "      const buffers = [];\n",
              "      let downloaded = 0;\n",
              "\n",
              "      const channel = await google.colab.kernel.comms.open(id);\n",
              "      // Send a message to notify the kernel that we're ready.\n",
              "      channel.send({})\n",
              "\n",
              "      for await (const message of channel.messages) {\n",
              "        // Send a message to notify the kernel that we're ready.\n",
              "        channel.send({})\n",
              "        if (message.buffers) {\n",
              "          for (const buffer of message.buffers) {\n",
              "            buffers.push(buffer);\n",
              "            downloaded += buffer.byteLength;\n",
              "            progress.value = downloaded;\n",
              "          }\n",
              "        }\n",
              "      }\n",
              "      const blob = new Blob(buffers, {type: 'application/binary'});\n",
              "      const a = document.createElement('a');\n",
              "      a.href = window.URL.createObjectURL(blob);\n",
              "      a.download = filename;\n",
              "      div.appendChild(a);\n",
              "      a.click();\n",
              "      div.remove();\n",
              "    }\n",
              "  "
            ]
          },
          "metadata": {}
        },
        {
          "output_type": "display_data",
          "data": {
            "text/plain": [
              "<IPython.core.display.Javascript object>"
            ],
            "application/javascript": [
              "download(\"download_5c5621b3-d85c-4c6e-aa79-e3f24e48a08d\", \"mutation_history.npy\", 44043)"
            ]
          },
          "metadata": {}
        },
        {
          "output_type": "stream",
          "name": "stdout",
          "text": [
            "Downloaded mutation_history.npy\n"
          ]
        }
      ]
    },
    {
      "cell_type": "markdown",
      "metadata": {
        "id": "4828a5d2"
      },
      "source": [
        "## Identify top sequences\n",
        "\n"
      ]
    },
    {
      "cell_type": "code",
      "metadata": {
        "colab": {
          "base_uri": "https://localhost:8080/"
        },
        "cellView": "form",
        "id": "0b70fb72",
        "outputId": "b2d7c2c6-4995-475f-adc2-30030535fc59"
      },
      "source": [
        "#@title Top scores\n",
        "all_total_scores = history['all_total_scores']\n",
        "all_tried_protein_sequences = history['all_tried_protein_sequences']\n",
        "all_iterations = history['all_iterations'] # Keep track of iterations to help potentially link back\n",
        "\n",
        "# Get indices of all scores sorted in descending order\n",
        "sorted_indices = np.argsort(all_total_scores)[::-1]\n",
        "\n",
        "# Select the top 20 indices\n",
        "top_20_indices = sorted_indices[:20]\n",
        "\n",
        "# Retrieve the top 20 protein sequences\n",
        "top_20_protein_sequences = [all_tried_protein_sequences[i] for i in top_20_indices]\n",
        "\n",
        "print(\"Top 20 Protein Sequences:\")\n",
        "for i, seq in enumerate(top_20_protein_sequences):\n",
        "    print(f\"{i+1}: {seq} (Score: {all_total_scores[top_20_indices[i]]:.3f})\")\n",
        "\n",
        "# Since the DNA sequences were not explicitly stored for every tried protein sequence in the history,\n",
        "# and reconstructing them based solely on the protein sequence and original_seq is not straightforward\n",
        "# due to silent mutations and the iterative nature, we cannot definitively link the top 20 protein\n",
        "# sequences back to their exact DNA sequences from the current history structure.\n",
        "# To achieve the next step of the main task (position-dependent amino acid distributions),\n",
        "# we need the protein sequences themselves, which we have.\n",
        "# For the subtask of finding the *DNA* sequences, we cannot complete it with the current history data structure.\n",
        "# We will proceed with the protein sequences for the main task and report failure for the subtask as defined."
      ],
      "execution_count": null,
      "outputs": [
        {
          "output_type": "stream",
          "name": "stdout",
          "text": [
            "Top 20 Protein Sequences:\n",
            "1: VNVLFLERADVRTISRSYATKYLYHHNIAVRA (Score: 50.148)\n",
            "2: VNVLFLERGEVHTISRSYATKYLYHHNIAVRA (Score: 49.330)\n",
            "3: VNVLFLDRGDVRTISRSYATKYLYHHNIAVRA (Score: 48.977)\n",
            "4: VNVLFLERGDVRTISRTYATKYIYHHNIAVRA (Score: 48.934)\n",
            "5: VNVLFLERGDLRTISRTYATKYLYHHNIAVRA (Score: 48.891)\n",
            "6: VNVLFLERSDVRTISRTYATKYLYHHNIAVRA (Score: 48.598)\n",
            "7: VNVLFLERGDVRTISRTYATKYLYRHNIAVRA (Score: 47.896)\n",
            "8: VNVLFLEQGEVRTISRSYATKYLYKHNIAVRA (Score: 47.330)\n",
            "9: VNVLFLERGDVRTISRSYATKYLYHHNIAIRA (Score: 47.118)\n",
            "10: VNVLYLERGEVRTISRSYATKYLYHHNIAVRA (Score: 46.967)\n",
            "11: VNVLFLEQGEVRTVSRSYATKYLYHKNIAVRA (Score: 46.957)\n",
            "12: VNVVFLERGEVRTISRSYATKYLYHHNIAVRA (Score: 46.917)\n",
            "13: VNVLFLERGEVRTVSRSYATKYLYHHNIAVRA (Score: 46.848)\n",
            "14: LNVLFLEQGEVRTISRSYANKYLYHKNIAVRA (Score: 46.677)\n",
            "15: VNVLFLEQGEVRTISRSYATKYLYHQNIAVRA (Score: 46.596)\n",
            "16: VNVLFLERGEVRTISRSYATKWLYHHNIAVRA (Score: 46.487)\n",
            "17: VSVLFLEQGEVRTISRSYATKYLYHHNIAVRA (Score: 46.293)\n",
            "18: LNVLFLEQGEVHTISRSYATKYLYHKNIAVRA (Score: 46.245)\n",
            "19: VNVLFLEQGQVRTISRSYATKYLYHKNIAVRA (Score: 46.132)\n",
            "20: LNVLFLEQGEVHTISESYATKYLYHKNIAVKA (Score: 46.074)\n"
          ]
        }
      ]
    },
    {
      "cell_type": "markdown",
      "source": [
        "Lets see what maximum score we could expect for our protein under the current scoring"
      ],
      "metadata": {
        "id": "-BW6tVE4o_GP"
      }
    },
    {
      "cell_type": "code",
      "source": [
        "#@title Random mutation of original sequence\n",
        "import random\n",
        "import numpy as np # Import numpy\n",
        "\n",
        "def codon_distance(codon1, codon2):\n",
        "    \"\"\"\n",
        "    Calculate the Hamming distance between two codons.\n",
        "    \"\"\"\n",
        "    return sum(c1 != c2 for c1, c2 in zip(codon1, codon2))\n",
        "\n",
        "def introduce_random_mutations(original_dna_sequence: str, num_mutations: int) -> str:\n",
        "    \"\"\"\n",
        "    Introduces a specified number of random mutations into a DNA sequence.\n",
        "\n",
        "    Args:\n",
        "        original_dna_sequence: The original DNA sequence string.\n",
        "        num_mutations: The number of random mutations to introduce.\n",
        "\n",
        "    Returns:\n",
        "        A new DNA sequence string with the specified number of mutations.\n",
        "    \"\"\"\n",
        "    dna_list = list(original_dna_sequence)\n",
        "    bases = ['A', 'T', 'C', 'G']\n",
        "    seq_len = len(dna_list)\n",
        "\n",
        "    for _ in range(num_mutations):\n",
        "        # Randomly select an index\n",
        "        mutation_index = random.randint(0, seq_len - 1)\n",
        "\n",
        "        # Randomly select a new base different from the current one\n",
        "        current_base = dna_list[mutation_index]\n",
        "        new_base = random.choice(bases)\n",
        "        while new_base == current_base:\n",
        "            new_base = random.choice(bases)\n",
        "\n",
        "        # Apply the mutation to the list\n",
        "        dna_list[mutation_index] = new_base\n",
        "\n",
        "    # Convert the list back to a string and return\n",
        "    return \"\".join(dna_list)\n",
        "\n",
        "# 2. Initialize empty lists to store results\n",
        "protein_identities = []\n",
        "mutation_scores = []\n",
        "opti_mutation_scores = []\n",
        "\n",
        "repeats = 5 #@param{type:\"integer\"}\n",
        "\n",
        "for iter in range(repeats):\n",
        "\n",
        "    # 1. Define the original DNA sequence\n",
        "    original_dna_seq = original_seq\n",
        "\n",
        "    # Clean input\n",
        "    original_dna_seq = original_dna_seq.replace(\" \", \"\").upper()\n",
        "\n",
        "    # Define a range of mutation counts\n",
        "    # Let's try up to 100 mutations, as the sequence length is 96\n",
        "    max_mutations = 150 #@param{type:\"integer\"}\n",
        "\n",
        "    # 3. Create a loop to iterate through mutation counts\n",
        "    for num_mutations in range(max_mutations + 1):\n",
        "        # 4. Generate a mutated DNA sequence\n",
        "        mutated_dna_seq_list = list(introduce_random_mutations(original_dna_seq, num_mutations)) # Work with a list\n",
        "\n",
        "        # 5. Calculate the protein identity\n",
        "        # Need to convert the list back to a string for translation\n",
        "        mutated_dna_seq_str = \"\".join(mutated_dna_seq_list)\n",
        "        prot_id = protein_identity(original_dna_seq, mutated_dna_seq_str)\n",
        "        protein_identities.append(prot_id)\n",
        "\n",
        "        # 6. Calculate the mutation score\n",
        "        mut_score = mutation_score(original_dna_seq, mutated_dna_seq_str)\n",
        "\n",
        "        # Optimize mutation score by looking for synonymous codons\n",
        "        opti_mutated_dna_seq_list = list(mutated_dna_seq_list) # Create a copy to optimize\n",
        "        num_codons = len(original_dna_seq) // 3 # Ensure num_codons is defined here\n",
        "        for pos in range(num_codons):\n",
        "            # Look for synonymous codons that score higher\n",
        "            mutated_codon = \"\".join(opti_mutated_dna_seq_list[pos*3:pos*3+3]) # Get codon from list\n",
        "            original_codon = original_dna_seq[pos*3:pos*3+3] # Original codon (string)\n",
        "\n",
        "            # Handle potential issues if codon not in table (though unlikely with A,T,C,G input)\n",
        "            if mutated_codon not in codon_table:\n",
        "                continue\n",
        "\n",
        "            mutated_aa = codon_table[mutated_codon]\n",
        "            d = 0\n",
        "            best_codon = mutated_codon\n",
        "            for codon, aa in codon_table.items():\n",
        "                if aa == mutated_aa:\n",
        "                    d_c = codon_distance(codon, mutated_codon)\n",
        "                    if d_c > d:\n",
        "                        d = d_c\n",
        "                        best_codon = codon\n",
        "\n",
        "            # Apply the best codon (if a better one exists) to the optimized list\n",
        "            if best_codon != mutated_codon:\n",
        "                opti_mutated_dna_seq_list[pos*3:pos*3+3] = list(best_codon)\n",
        "\n",
        "\n",
        "        opti_mut_score = mutation_score(original_dna_seq, \"\".join(opti_mutated_dna_seq_list)) # Calculate score from optimized list\n",
        "\n",
        "\n",
        "        mutation_scores.append(mut_score)\n",
        "        opti_mutation_scores.append(opti_mut_score)\n",
        "\n",
        "import matplotlib.pyplot as plt\n",
        "\n",
        "# Create the scatter plot\n",
        "plt.figure(figsize=(10, 6))\n",
        "plt.scatter(protein_identities, mutation_scores, label='Original Mutation Score', alpha=0.5)\n",
        "plt.scatter(protein_identities, opti_mutation_scores, label='Optimized Mutation Score (Synonymous Codons)', alpha=0.5)\n",
        "\n",
        "# Add title and labels\n",
        "plt.title(\"Mutation Score vs. Protein Identity\")\n",
        "plt.xlabel(\"Protein Identity (%)\")\n",
        "plt.ylabel(\"Mutation Score\")\n",
        "\n",
        "# Add grid and legend\n",
        "plt.grid(True)\n",
        "plt.legend()\n",
        "\n",
        "# Display the plot\n",
        "plt.show()"
      ],
      "metadata": {
        "colab": {
          "base_uri": "https://localhost:8080/",
          "height": 564
        },
        "id": "pXzzKfJ7pHk8",
        "outputId": "8e32be1b-cca6-4fe6-a517-6627b876e77c"
      },
      "execution_count": null,
      "outputs": [
        {
          "output_type": "display_data",
          "data": {
            "text/plain": [
              "<Figure size 1000x600 with 1 Axes>"
            ],
            "image/png": "[encoded data removed]"
          },
          "metadata": {}
        }
      ]
    }
  ]
}