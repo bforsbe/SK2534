{
  "cells": [
    {
      "cell_type": "markdown",
      "metadata": {
        "id": "view-in-github",
        "colab_type": "text"
      },
      "source": [
        "<a href=\"https://colab.research.google.com/github/bforsbe/SK2534/blob/main/Boltzmann_simulation.ipynb\" target=\"_parent\"><img src=\"https://colab.research.google.com/assets/colab-badge.svg\" alt=\"Open In Colab\"/></a>"
      ]
    },
    {
      "cell_type": "markdown",
      "metadata": {
        "id": "ASr0UezQSRTs"
      },
      "source": [
        "# Exploring the Boltzmann Distribution through Molecular Dynamics\n",
        "\n",
        "This notebook demonstrates fundamental concepts in statistical mechanics through a simple 2D molecular dynamics simulation. By watching how energy distributes among particles in a confined system, we'll explore key concepts like:\n",
        "\n",
        "- **Microstates vs Macrostates**: Individual particle configurations vs observable bulk properties\n",
        "- **Energy Distribution**: How kinetic energy spreads among particles over time\n",
        "- **Equilibrium**: The tendency of isolated systems to reach stable energy distributions\n",
        "- **Temperature**: As a measure of average kinetic energy per particle\n",
        "\n",
        "## Learning Objectives\n",
        "\n",
        "By the end of this simulation, you should understand:\n",
        "1. How individual particle motions (microstates) give rise to observable properties (macrostates)\n",
        "2. Why energy naturally distributes according to statistical laws\n",
        "3. The connection between molecular motion and temperature\n",
        "4. How collisions lead to energy equilibration"
      ]
    },
    {
      "cell_type": "markdown",
      "metadata": {
        "id": "8lWnKoe7SRTt"
      },
      "source": [
        "## The Simulation Setup\n",
        "\n",
        "We'll simulate **hard sphere collisions** in a 2D box:\n",
        "- Particles bounce elastically off walls and each other\n",
        "- Energy is conserved (no friction)\n",
        "- We can optionally \"thermostat\" the system to maintain constant total energy\n",
        "\n",
        "### Key Parameters to Experiment With:\n",
        "\n",
        "**Think about this:**\n",
        "- What happens if you increase/decrease the number of particles?\n",
        "- How does the box size affect the collision rate?\n",
        "- What role does the rescaling play in maintaining equilibrium?"
      ]
    },
    {
      "cell_type": "code",
      "execution_count": null,
      "metadata": {
        "id": "DQbA5E--SRTu"
      },
      "outputs": [],
      "source": [
        "import numpy as np\n",
        "import matplotlib.pyplot as plt\n",
        "from matplotlib.animation import FuncAnimation\n",
        "from IPython.display import HTML"
      ]
    },
    {
      "cell_type": "code",
      "execution_count": null,
      "metadata": {
        "id": "HA0LwveOSRTv"
      },
      "outputs": [],
      "source": [
        "# -------------------\n",
        "# Parameters\n",
        "# -------------------\n",
        "n_balls = 15          # Number of particles\n",
        "box_size = 2          # Size of the simulation box\n",
        "radius = 0.1          # Particle radius\n",
        "dt = 0.02            # Time step\n",
        "n_steps = 400        # Number of simulation steps\n",
        "rescale_interval = 50 # How often to rescale velocities (0 = never)\n",
        "elastic_loss = 0     # Energy loss per collision (0 = perfectly elastic)"
      ]
    },
    {
      "cell_type": "markdown",
      "metadata": {
        "id": "HzAnURQdSRTv"
      },
      "source": [
        "## Running the Simulation\n",
        "\n",
        "The simulation consists of several key components:\n",
        "1. **Initialization**: Set up random positions and give one particle initial velocity\n",
        "2. **Physics Loop**: Handle collisions and update positions\n",
        "3. **Visualization**: Animate the results"
      ]
    },
    {
      "cell_type": "code",
      "execution_count": null,
      "metadata": {
        "id": "UYzrhYT0SRTv"
      },
      "outputs": [],
      "source": [
        "# -------------------\n",
        "# Initialization\n",
        "# -------------------\n",
        "np.random.seed(0)\n",
        "pos = np.random.rand(n_balls, 2) * (box_size - 2*radius) + radius\n",
        "vel = np.zeros((n_balls, 2))\n",
        "vel[0] = np.array([3.0, 2.0])  # give one ball initial velocity\n",
        "\n",
        "# Storage\n",
        "pos_history = []\n",
        "vel_history = []\n",
        "ke_history = []"
      ]
    },
    {
      "cell_type": "code",
      "execution_count": null,
      "metadata": {
        "id": "RNTQqXBXSRTw"
      },
      "outputs": [],
      "source": [
        "# -------------------\n",
        "# Helper functions\n",
        "# -------------------\n",
        "def kinetic_energy(v):\n",
        "    return 0.5 * np.sum(v**2, axis=1)\n",
        "\n",
        "def rescale_velocities(vel, target_energy):\n",
        "    current_energy = np.sum(kinetic_energy(vel))\n",
        "    factor = np.sqrt(target_energy / current_energy)\n",
        "    return vel * factor\n",
        "\n",
        "def get_markersize(diam, plot_width, figsize):\n",
        "    \"\"\"Get scatter plot marker size for a diameter.\n",
        "\n",
        "    Args:\n",
        "        diam (float): diameter of the marker\n",
        "        plot_width (float): width of the plot\n",
        "        figsize (int, optional): size of the fig. Defaults to 8.\n",
        "\n",
        "    Returns:\n",
        "        float: marker size in points\n",
        "    \"\"\"\n",
        "    points_whole_ax = figsize * 0.8 * 72    # 1 point = dpi / 72 pixels\n",
        "    s = (diam / plot_width * points_whole_ax)**2\n",
        "    return s"
      ]
    },
    {
      "cell_type": "code",
      "execution_count": null,
      "metadata": {
        "id": "HvQ79KtySRTw"
      },
      "outputs": [],
      "source": [
        "# -------------------\n",
        "# Simulation loop\n",
        "# -------------------\n",
        "target_energy = np.sum(kinetic_energy(vel))\n",
        "\n",
        "for step in range(n_steps):\n",
        "    # Update positions\n",
        "    pos += vel * dt\n",
        "\n",
        "    # Wall collisions\n",
        "    for i in range(n_balls):\n",
        "        for d in range(2):\n",
        "            if pos[i, d] - radius < 0:\n",
        "                pos[i, d] = radius\n",
        "                vel[i, d] *= -1\n",
        "                if elastic_loss > 0:\n",
        "                    vel[i, d] *= 1-elastic_loss\n",
        "            elif pos[i, d] + radius > box_size:\n",
        "                pos[i, d] = box_size - radius\n",
        "                vel[i, d] *= -1\n",
        "                if elastic_loss > 0:\n",
        "                    vel[i, d] *= 1-elastic_loss\n",
        "\n",
        "\n",
        "    # Ball-ball collisions (elastic 2D)\n",
        "    for i in range(n_balls):\n",
        "        for j in range(i+1, n_balls):\n",
        "            dp = pos[i] - pos[j]\n",
        "            dist = np.linalg.norm(dp)\n",
        "            if dist < 2*radius:  # overlap => collision\n",
        "                dv = vel[i] - vel[j]\n",
        "                dp_norm = dp / dist\n",
        "                v_rel = np.dot(dv, dp_norm)\n",
        "                if v_rel < 0:  # moving toward each other\n",
        "                    impulse = v_rel * dp_norm\n",
        "                    vel[i] -= impulse\n",
        "                    vel[j] += impulse\n",
        "                if elastic_loss > 0:\n",
        "                    vel[i] *= 1-elastic_loss\n",
        "                    vel[j] *= 1-elastic_loss\n",
        "\n",
        "    # Rescale every few steps\n",
        "    if rescale_interval > 0 and step % rescale_interval == 0:\n",
        "        vel = rescale_velocities(vel, target_energy)\n",
        "\n",
        "    # Save history\n",
        "    pos_history.append(pos.copy())\n",
        "    vel_history.append(vel.copy())\n",
        "    ke_history.append(kinetic_energy(vel))\n",
        "\n",
        "pos_history = np.array(pos_history)\n",
        "vel_history = np.array(vel_history)\n",
        "vel_mag_history = np.linalg.norm(vel_history, axis=2)\n",
        "ke_history = np.array(ke_history)\n",
        "\n",
        "print(f\"Simulation complete! Ran for {n_steps} steps with {n_balls} particles.\")\n",
        "print(f\"Initial total energy: {target_energy:.3f}\")\n",
        "print(f\"Final total energy: {np.sum(ke_history[-1]):.3f}\")"
      ]
    },
    {
      "cell_type": "markdown",
      "metadata": {
        "id": "wwwCw0XNSRTw"
      },
      "source": [
        "## Visualizing the Results\n",
        "\n",
        "### What to Observe:\n",
        "\n",
        "**Left Panel: Particle Motion (Microstates)**\n",
        "- Watch how particles move and collide\n",
        "- Notice how energy spreads from the initial fast particle to others\n",
        "- Each specific arrangement of particles is a **microstate**\n",
        "\n",
        "**Right Panel: Energy Evolution (Macrostates)**\n",
        "- **Black line**: Total kinetic energy of the system\n",
        "- **Red line**: Average speed of particles\n",
        "\n",
        "**🔍 Key Questions to Consider:**\n",
        "1. How does energy distribute among particles over time?\n",
        "2. What happens to the total energy? (Should it be conserved?)\n",
        "3. How does the average speed evolve?"
      ]
    },
    {
      "cell_type": "code",
      "execution_count": null,
      "metadata": {
        "id": "HgfqR0OQSRTx"
      },
      "outputs": [],
      "source": [
        "# -------------------\n",
        "# Animation\n",
        "# -------------------\n",
        "fsize=5\n",
        "\n",
        "fig, ax = plt.subplots(1,2,figsize=(2*fsize,fsize))\n",
        "\n",
        "# Left panel: particle positions\n",
        "ax[0].set_xlim(0, box_size)\n",
        "ax[0].set_ylim(0, box_size)\n",
        "ax[0].set_xlabel('X Position')\n",
        "ax[0].set_ylabel('Y Position')\n",
        "ax[0].set_title('Particle Motion')\n",
        "ax[0].set_aspect('equal')\n",
        "scat = ax[0].scatter(pos_history[0,:,0], pos_history[0,:,1],\n",
        "                     s=get_markersize(radius*2, box_size, fsize),\n",
        "                     alpha=0.7)\n",
        "\n",
        "# Right panel: energy evolution\n",
        "ax[1].set_xlim(0, n_steps)\n",
        "ax[1].set_ylim(0, np.max([target_energy*1.4,np.max(vel_mag_history)*1.4]))\n",
        "ax[1].set_xlabel('Time Step')\n",
        "ax[1].set_ylabel('Energy / Speed')\n",
        "ax[1].set_title('Energy Evolution')\n",
        "grph1, = ax[1].plot(ke_history[:1].sum(axis=1),'k-', linewidth=2, label='Total KE')\n",
        "grph2, = ax[1].plot(vel_mag_history[:1].mean(axis=1),'r-', linewidth=2, label='Avg Speed')\n",
        "ax[1].legend()\n",
        "ax[1].grid(True, alpha=0.3)\n",
        "\n",
        "def update(frame):\n",
        "    scat.set_offsets(pos_history[frame])\n",
        "    grph1.set_xdata(np.arange(frame+1))\n",
        "    grph1.set_ydata(ke_history[:frame+1].sum(axis=1))\n",
        "    grph2.set_xdata(np.arange(frame+1))\n",
        "    grph2.set_ydata(vel_mag_history[:frame+1].mean(axis=1))\n",
        "    return scat, grph1, grph2\n",
        "\n",
        "ani = FuncAnimation(fig, update, frames=400, interval=50, blit=True)\n",
        "plt.tight_layout()\n",
        "plt.close(fig)\n",
        "HTML(ani.to_jshtml())"
      ]
    },
    {
      "cell_type": "markdown",
      "metadata": {
        "id": "eOAea9PTSRTx"
      },
      "source": [
        "## Experiments to Try\n",
        "\n",
        "Now that you've seen the basic simulation, try modifying the parameters above and re-running to explore different scenarios:"
      ]
    },
    {
      "cell_type": "markdown",
      "metadata": {
        "id": "s0-BtJPhSRTx"
      },
      "source": [
        "### Experiment 1: Effect of Particle Number\n",
        "Change `n_balls` to different values (5, 10, 25, 50). How does this affect:\n",
        "- The time to reach equilibrium?\n",
        "- The fluctuations in total energy?"
      ]
    },
    {
      "cell_type": "markdown",
      "metadata": {
        "id": "j-qHQFV8SRTx"
      },
      "source": [
        "### Experiment 2: Thermostat Effect  \n",
        "Try different `rescale_interval` values:\n",
        "- `rescale_interval = 0` (no rescaling - true microcanonical ensemble)\n",
        "- `rescale_interval = 10` (frequent rescaling - canonical-like behavior)"
      ]
    },
    {
      "cell_type": "markdown",
      "metadata": {
        "id": "eyNro3kTSRTx"
      },
      "source": [
        "### Experiment 3: Energy Loss\n",
        "Set `elastic_loss = 0.05`. What happens to the system over time?"
      ]
    },
    {
      "cell_type": "markdown",
      "metadata": {
        "id": "8A8XGYWhSRTx"
      },
      "source": [
        "### Experiment 4: Initial Conditions\n",
        "Try giving multiple particles initial velocities by modifying the initialization:\n",
        "```python\n",
        "vel[0] = np.array([3.0, 2.0])\n",
        "vel[1] = np.array([-2.0, 1.0])\n",
        "vel[2] = np.array([1.0, -3.0])\n",
        "```"
      ]
    },
    {
      "cell_type": "markdown",
      "metadata": {
        "id": "PBTdZf7aSRTy"
      },
      "source": [
        "## Additional Analysis\n",
        "\n",
        "Let's look at some static plots to better understand the energy distribution:"
      ]
    },
    {
      "cell_type": "code",
      "execution_count": null,
      "metadata": {
        "id": "5N9IB3DISRTy"
      },
      "outputs": [],
      "source": [
        "# Plot energy evolution over time\n",
        "fig, (ax1, ax2) = plt.subplots(1, 2, figsize=(12, 4))\n",
        "\n",
        "# Total energy conservation\n",
        "total_energy = ke_history.sum(axis=1)\n",
        "ax1.plot(total_energy, 'k-', linewidth=2)\n",
        "ax1.set_xlabel('Time Step')\n",
        "ax1.set_ylabel('Total Kinetic Energy')\n",
        "ax1.set_title('Energy Conservation')\n",
        "ax1.grid(True, alpha=0.3)\n",
        "\n",
        "# Energy distribution at different times\n",
        "times_to_plot = [0, 50, 100, 200, -1]\n",
        "colors = ['red', 'orange', 'green', 'blue', 'purple']\n",
        "\n",
        "for i, (t, color) in enumerate(zip(times_to_plot, colors)):\n",
        "    if t == -1:\n",
        "        energies = ke_history[-1]\n",
        "        label = f'Final (t={n_steps-1})'\n",
        "    else:\n",
        "        energies = ke_history[t]\n",
        "        label = f't={t}'\n",
        "\n",
        "    ax2.hist(energies, bins=10, alpha=0.6, color=color, label=label, density=True)\n",
        "\n",
        "ax2.set_xlabel('Kinetic Energy per Particle')\n",
        "ax2.set_ylabel('Probability Density')\n",
        "ax2.set_title('Energy Distribution Evolution')\n",
        "ax2.legend()\n",
        "ax2.grid(True, alpha=0.3)\n",
        "\n",
        "plt.tight_layout()\n",
        "plt.show()\n",
        "\n",
        "print(f\"Energy conservation check:\")\n",
        "print(f\"Initial total energy: {total_energy[0]:.4f}\")\n",
        "print(f\"Final total energy: {total_energy[-1]:.4f}\")\n",
        "print(f\"Relative change: {(total_energy[-1] - total_energy[0])/total_energy[0]*100:.2f}%\")"
      ]
    },
    {
      "cell_type": "markdown",
      "metadata": {
        "id": "IpIdab4iSRTy"
      },
      "source": [
        "## Connecting to Statistical Mechanics\n",
        "\n",
        "### Microstates vs Macrostates\n",
        "- **Microstate**: The exact position and velocity of every particle at a given time\n",
        "- **Macrostate**: Observable quantities like total energy, average speed, temperature\n",
        "\n",
        "### Energy Distribution and Temperature\n",
        "In a real gas, the Boltzmann distribution tells us the probability of finding a particle with energy E:\n",
        "\n",
        "$$P(E) \\propto e^{-E/k_BT}$$\n",
        "\n",
        "Where:\n",
        "- $k_B$ is Boltzmann's constant\n",
        "- $T$ is temperature\n",
        "- Higher temperature = broader energy distribution\n",
        "\n",
        "### Entropy and Equilibrium\n",
        "- The system naturally evolves toward states with maximum entropy\n",
        "- Equilibrium represents the most probable macrostate\n",
        "- Individual microstates are constantly changing, but macroscopic properties stabilize"
      ]
    },
    {
      "cell_type": "markdown",
      "metadata": {
        "id": "J62kI0SmSRTy"
      },
      "source": [
        "## Discussion Questions\n",
        "\n",
        "1. **Equilibration Time**: How long does it take for energy to distribute evenly? What factors affect this?\n",
        "\n",
        "2. **Reversibility**: Is this process reversible? Could all energy spontaneously return to one particle?\n",
        "\n",
        "3. **Temperature**: If temperature is proportional to average kinetic energy, how would you define temperature in this system?\n",
        "\n",
        "4. **Real vs Ideal**: How does this simplified model compare to real gas behavior?\n",
        "\n",
        "5. **Scaling**: What would happen with 1000 particles? $10^{23}$ particles (like in a real gas)?"
      ]
    },
    {
      "cell_type": "markdown",
      "metadata": {
        "id": "Ht-FG2CqSRTy"
      },
      "source": [
        "## Extensions and Challenges\n",
        "\n",
        "### Challenge 1: Energy Distribution Histogram\n",
        "Create a histogram showing the distribution of kinetic energies at different times. Does it approach a Boltzmann distribution?\n",
        "\n",
        "### Challenge 2: Temperature Measurement  \n",
        "Calculate an effective \"temperature\" from the average kinetic energy. Plot how temperature changes over time.\n",
        "\n",
        "### Challenge 3: Pressure Calculation\n",
        "Count wall collisions and calculate the pressure exerted by the gas on the container walls.\n",
        "\n",
        "### Challenge 4: Maxwell-Boltzmann Speeds\n",
        "Plot the speed distribution and compare to the theoretical Maxwell-Boltzmann distribution."
      ]
    },
    {
      "cell_type": "code",
      "execution_count": null,
      "metadata": {
        "id": "SnDPx0J1SRTy"
      },
      "outputs": [],
      "source": [
        "# Space for your experiments and extensions!\n",
        "# Try modifying the parameters above and exploring different scenarios"
      ]
    },
    {
      "cell_type": "markdown",
      "metadata": {
        "id": "yE0VkVZySRTy"
      },
      "source": [
        "---\n",
        "\n",
        "*💡 **Remember**: This simple simulation captures the essence of how microscopic chaos leads to macroscopic order - the foundation of statistical mechanics and our understanding of temperature, pressure, and entropy!*"
      ]
    }
  ],
  "metadata": {
    "kernelspec": {
      "display_name": "Python 3",
      "language": "python",
      "name": "python3"
    },
    "language_info": {
      "codemirror_mode": {
        "name": "ipython",
        "version": 3
      },
      "file_extension": ".py",
      "mimetype": "text/x-python",
      "name": "python",
      "nbconvert_exporter": "python",
      "pygments_lexer": "ipython3",
      "version": "3.8.5"
    },
    "colab": {
      "provenance": [],
      "include_colab_link": true
    }
  },
  "nbformat": 4,
  "nbformat_minor": 0
}