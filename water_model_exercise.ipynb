{
 "cells": [
  {
   "cell_type": "markdown",
   "id": "085a251d",
   "metadata": {},
   "source": [
    "# Classroom Challenge: *Design Your Own Water Model*\n",
    "\n",
    "Water is the most important molecule in biochemistry. Yet in molecular simulations, we cannot represent it with all its quantum complexity — we need to **simplify** it into a classical “model” that computers can handle.\n",
    "\n",
    "That is: a computer program simulating the motions of water molecules must be given an idea about **what each water molecule looks like**, **what interactions to calculate**, and **the quantities needed to calculate those interactions**.\n",
    "\n",
    "Today, your group’s challenge is to invent your own **water model**: a simplified representation of a water molecule for simulations. You’ll need to decide:\n",
    "- How many interaction sites (atoms or dummy points) will it have?\n",
    "- Where do you place charges?\n",
    "- Do you include Lennard–Jones (LJ) interactions, and on which sites?\n",
    "- Will you aim for **speed** (simpler, fewer sites) or for **accuracy** (more parameters, more realistic)?\n",
    "\n",
    "At the end, you’ll present your model, explain your reasoning, and we’ll compare it to real models scientists use (SPC, TIP3P, TIP4P, TIP5P).\n"
   ]
  },
  {
   "cell_type": "markdown",
   "id": "270047f6",
   "metadata": {},
   "source": [
    "## Example: A “Too Simple” Water Model\n",
    "\n",
    "Imagine we try to make water as simple as possible:\n",
    "\n",
    "- **Geometry**: A sphere of radius 1.5Å.\n",
    "- **Charges**: One negative charge at the center.\n",
    "\n",
    "This is essentially a (bad) **1-site water model**.\n",
    "\n",
    "**Benefit**:\n",
    "- Extremely fast to simulate (only one particle per water molecule).\n",
    "\n",
    "**Drawbacks**:\n",
    "- Completely unrealistic: net charge on each water molecule means mutual repulsion between all water molecules.\n",
    "- Completely unrealistic: no hydrogen atoms means no hydrogen bonding, no dipole moment, and no correct liquid structure.\n"
   ]
  },
  {
   "cell_type": "markdown",
   "id": "d309f003",
   "metadata": {},
   "source": [
    "## Your Task\n",
    "\n",
    "1. **Sketch your water model.** Decide e.g. how many sites, where charges go, potentials and values like force constants\n",
    "2. **Justify your choices.** Why this geometry? Why these charges?\n",
    "3. **Think about tradeoffs.** Is your model fast but inaccurate, or slower but more realistic?\n",
    "\n",
    "## Presentation\n",
    "\n",
    "You will be asked to sketch your water model on the blackboard, as will one other group. You will then highlight a difference between these 2 models, and some implication of that difference. You may also be asked to elaborate further on some aspect of your model.\n"
   ]
  },
  {
   "cell_type": "markdown",
   "id": "552d1294",
   "metadata": {},
   "source": [
    "## Tips and Hints\n",
    "\n",
    "- Real water has O–H bond length ≈ 1 Å and H–O–H angle ≈ 104–109°.\n",
    "- Water’s dipole moment is ~1.85 Debye in reality, but many simulation models use a bit larger (~2.2–2.5 D) to reproduce liquid properties.\n",
    "- Lennard–Jones (LJ) interactions usually go on oxygen atoms, not hydrogens.\n",
    "- More sites = more realism, but also more computation.\n"
   ]
  }
 ],
 "metadata": {},
 "nbformat": 4,
 "nbformat_minor": 5
}
