{
  "nbformat": 4,
  "nbformat_minor": 0,
  "metadata": {
    "colab": {
      "provenance": [],
      "include_colab_link": true
    },
    "kernelspec": {
      "name": "python3",
      "display_name": "Python 3"
    },
    "language_info": {
      "name": "python"
    }
  },
  "cells": [
    {
      "cell_type": "markdown",
      "metadata": {
        "id": "view-in-github",
        "colab_type": "text"
      },
      "source": [
        "<a href=\"https://colab.research.google.com/github/bforsbe/SK2534/blob/main/Hand_in_1.ipynb\" target=\"_parent\"><img src=\"https://colab.research.google.com/assets/colab-badge.svg\" alt=\"Open In Colab\"/></a>"
      ]
    },
    {
      "cell_type": "markdown",
      "source": [
        "# PART 1: ENTHALPY"
      ],
      "metadata": {
        "id": "2HJcGEpFdlCj"
      }
    },
    {
      "cell_type": "markdown",
      "source": [
        "### Task_1_SI2720.py"
      ],
      "metadata": {
        "id": "_QKHoqNTf_8d"
      }
    },
    {
      "cell_type": "markdown",
      "source": [
        "The code below is adapted from `Task_1_SI2720.py` (with minor updates for compatibility with newer library versions).\n",
        "In Google Colab, the notebook is divided into cells. Each cell can contain text (like this one) or code. You can edit the code inside a code cell just like in any text/code editor. To run it, select the cell and press Shift+Enter, or click the small \"play\" button in the top-left corner of the cell."
      ],
      "metadata": {
        "id": "HNaq_ciYec8x"
      }
    },
    {
      "cell_type": "code",
      "execution_count": 3,
      "metadata": {
        "id": "9fKxRaq_azvJ",
        "colab": {
          "base_uri": "https://localhost:8080/",
          "height": 1000
        },
        "outputId": "dc383985-b3b2-44e3-c3ae-74687ee3c699",
        "collapsed": true
      },
      "outputs": [
        {
          "output_type": "stream",
          "name": "stdout",
          "text": [
            "Computing the distribution of states predicted by Bottzmann equation ... \n",
            "boltzmann constant is 8.6e-05[eV/K]\n",
            "temperature is 310[K]\n",
            "number of states is 3\n",
            "Done - showing resulting plot. Close the plot to end program.\n"
          ]
        },
        {
          "output_type": "display_data",
          "data": {
            "text/plain": [
              "<Figure size 640x480 with 1 Axes>"
            ],
            "image/png": "[encoded data removed]"
          },
          "metadata": {}
        },
        {
          "output_type": "stream",
          "name": "stdout",
          "text": [
            "Computing the distribution of states predicted by Bottzmann equation ... \n",
            "boltzmann constant is 8.6e-05[eV/K]\n",
            "temperature is 310[K]\n",
            "number of states is 3\n",
            "Performing random sampling ...\n",
            "The probabilites of the states are\n",
            "[0.1302565  0.84977739 0.01996612]\n",
            "And the thresholds of the states we will use are\n",
            "[0.1302565  0.98003388 1.        ]\n",
            "Done - showing resulting plot. Close the plot to end program.\n"
          ]
        },
        {
          "output_type": "display_data",
          "data": {
            "text/plain": [
              "<Figure size 640x480 with 1 Axes>"
            ],
            "image/png": "[encoded data removed]"
          },
          "metadata": {}
        }
      ],
      "source": [
        "# @title\n",
        "#!python\n",
        "\n",
        "# A first note if you are not used to Python programs:\n",
        "# What you see immediately below is a definition of the function compute_distribution\n",
        "# which is called from further down.\n",
        "# So scroll down until you see the note that --- the program starts here ---.\n",
        "# And follow from there.\n",
        "\n",
        "#import handy python modules\n",
        "import numpy as np\n",
        "import pylab as plt\n",
        "\n",
        "# This is a function which takes a list of energies, one for each state\n",
        "# in a system, and samples it for the required number of observations.\n",
        "def compute_distribution(stateEnergies, k=8.6e-5, T=310, random_sampling=False, numberOfObservations=50):\n",
        "\n",
        "    print(\"Computing the distribution of states predicted by Bottzmann equation ... \")\n",
        "    # The temperature and boltzmann constant in [eV/K] & [K];\n",
        "    # these paramaters affect the \"Sampled states\" in the plot\n",
        "    print(\"boltzmann constant is \"+str(k)+\"[eV/K]\")\n",
        "    print(\"temperature is \"+str(T)+\"[K]\")\n",
        "\n",
        "    # Count how many state-energies were provided, that is how many states to use\n",
        "    Nstates = len(stateEnergies)\n",
        "    print(\"number of states is \"+str(Nstates))\n",
        "\n",
        "    # Create an array to hold the probability interval (ceiling) for each state\n",
        "    Probs = np.zeros(Nstates)\n",
        "\n",
        "    # Begin by setting the Partition Function to zero\n",
        "    PartitionFunction = 0.0\n",
        "\n",
        "    # Go through all state energies in the input\n",
        "    for i in np.arange(Nstates):\n",
        "        # calculate the boltzmann factor\n",
        "        Probs[i]            =                     np.exp(-stateEnergies[i]/(k*T))\n",
        "        # And keep adding all boltzmann factors to the Partion Function\n",
        "        PartitionFunction   = PartitionFunction + np.exp(-stateEnergies[i]/(k*T))\n",
        "\n",
        "    # When all Boltzmann factors have been calulated and the Partition Function is\n",
        "    # complete, we finish the probabilities by dividing by the Partition Function,\n",
        "    # as Boltzmann statistics instructs us to (\"Z\" in Eq. 1 in the lab instruction)\n",
        "    Probs = Probs /  PartitionFunction\n",
        "\n",
        "    plt.bar(np.arange(Nstates)+0.5, Probs, width=0.4, fc='red', alpha=0.5, label='predicted by Boltzmann')\n",
        "\n",
        "    if random_sampling==True:\n",
        "        print(\"Performing random sampling ...\")\n",
        "        # Now we see each probability as a part of the line between 0 and 1. If the\n",
        "        # probability of the first state \"A\" is e.g. 0.23, then all numbers between\n",
        "        # 0.00 and 0.23 belong to state A. If the next state \"B\" has probability 0.31,\n",
        "        # then all numbers between 0.23 and 0.54 (0.23+0.31) belong to state B, and\n",
        "        # so on. An easy way to find these thresholds is to use a cumulative sum, where\n",
        "        # each element in the array is the sum of all previous elements.\n",
        "        ProbThresholds=np.cumsum(Probs)\n",
        "        # This information is printed by the statements below\n",
        "\n",
        "        print(\"The probabilites of the states are\")\n",
        "        print(Probs)\n",
        "        print(\"And the thresholds of the states we will use are\")\n",
        "        print(ProbThresholds)\n",
        "\n",
        "        # Now we will generate random numbers\n",
        "        # as many as determined by number of observations parameter\n",
        "        # and assign each to a state.\n",
        "\n",
        "        # Make an array to fill with state assignments\n",
        "        states = np.zeros(numberOfObservations)\n",
        "        states = states.astype(int)\n",
        "\n",
        "        # Make as many observations as required\n",
        "        for i in np.arange(numberOfObservations):\n",
        "            # Make a random number this observation\n",
        "            current = np.random.rand()\n",
        "\n",
        "            # Test if the current number is above the threshold for a state.\n",
        "            # as long as it IS, keep testing the next state.\n",
        "            while current>ProbThresholds[states[i]]:\n",
        "                    states[i]+=1\n",
        "\n",
        "        # We now have a number of state assignments, as many as required. Let's create a plot\n",
        "        # of them in histogram, so that the first state is \"1\", then \"2\", and so on.\n",
        "        bins=np.arange(Nstates+1)+0.5\n",
        "        y, bin_edges = np.histogram(states + 1, bins=bins, density=True)\n",
        "\n",
        "        plt.bar(np.arange(len(energies))+0.9, y, width=0.4, fc='blue',alpha=0.5, label='sampled states')\n",
        "    print(\"Done - showing resulting plot. Close the plot to end program.\")\n",
        "    plt.legend()\n",
        "    plt.show()\n",
        "\n",
        "\n",
        "#  --------------- THE PROGAM STARTS HERE, AND USES THE ABOVE FUNCTION -----------------\n",
        "\n",
        "# Create a number of energy-states, in this case three of them\n",
        "# For example, energies=[-0.30, -0.35, -0.25]\n",
        "# But could be any favorable or unfavorable energy\n",
        "\n",
        "energies=[-0.30, -0.35, -0.25]\n",
        "\n",
        "#   FIRST, LET'S PLOT THE PREDICTED BOLTZMANN DISTRIBUTION\n",
        "# Change temperature T (in kelvin) if needed\n",
        "compute_distribution(energies,T=310,random_sampling=False)\n",
        "\n",
        "#   THEN, LET'S SAMPLE STATES AND SEE IF WE CAN MATCH THE EXPECTED BOLTZMANN DISTRIBUTION\n",
        "# Set the number of observations of the system\n",
        "Nsteps = 50\n",
        "\n",
        "# Randomize numbers to see if it mathces the predicted distribution.\n",
        "compute_distribution(energies,T=310,random_sampling=True,numberOfObservations=Nsteps)\n"
      ]
    },
    {
      "cell_type": "markdown",
      "source": [
        "# PART 2: ENTROPY"
      ],
      "metadata": {
        "id": "iozqAoUrboaR"
      }
    },
    {
      "cell_type": "markdown",
      "source": [
        "### Running the first simulation using `mcrun.py`"
      ],
      "metadata": {
        "id": "RVCJR1eQsZ_9"
      }
    },
    {
      "cell_type": "markdown",
      "source": [
        "In this task, you will work with code from the files `mcrun.py` and `Task_2_SI2720.py`. An additional learning goal for this hand-in task is to practice using command-line tools. For `mcrun.py`, you are encouraged to run it through Google Colab’s built-in terminal interface rather than executing it directly as python code (though you are free to choose either approach).\n",
        "\n",
        "To do so, we first need to download `mcrun.py` and `Task_2_SI2720.py`. Click on the \"Terminal\" tab at the bottom of the page and run the following command in the opened window:\n",
        "\n",
        "\n",
        "\n",
        "```\n",
        "wget https://raw.githubusercontent.com/Talianash/SK2534_TS/main/mcrun.py\n",
        "```\n",
        "\n",
        "The tool wget is a standard command-line program that downloads files from the web when given a link.\n",
        "\n",
        "Now you can continue using the teminal tab just as the usual Linux/MacOS terminal as described in the main `Hand_in_1_2022.pdf` file.\n",
        "\n",
        "**Google Colab hints:**\n",
        "* You can resize the terminal window using the sliders on the page (or even temporarily hide the notebook tab completely if you don’t need it).\n",
        "* Google Colab also lets you open and edit text files directly in new tabs. For example, after creating the file `enth.dat` with the `touch` command in the terminal, click the folder icon on the left sidebar, then click on enth.dat. A text editor tab will open where you can view and edit the file."
      ],
      "metadata": {
        "id": "zt26QDmKgokA"
      }
    },
    {
      "cell_type": "markdown",
      "source": [
        "## Visualizing simulation results\n",
        "The code below is adapted from `Task_2_SI2720.py`. Run it in the same way you executed the code from `Task_1_SI2720.py` in Part 1."
      ],
      "metadata": {
        "id": "evwKjFJsslfm"
      }
    },
    {
      "cell_type": "code",
      "source": [
        "#!python\n",
        "\n",
        "############ IMPORTS ############\n",
        "\n",
        "import numpy as np\n",
        "import argparse\n",
        "import matplotlib.pyplot as plt\n",
        "\n",
        "\n",
        "############ CALCS ############\n",
        "\n",
        "traj = np.loadtxt(\"traj.dat\", dtype=int)\n",
        "mstates = np.loadtxt(\"enth.dat\")\n",
        "T = 300.\n",
        "N = len(mstates)\n",
        "\n",
        "#Count microstate occupation\n",
        "bins = np.bincount(traj)\n",
        "simulation_dist = np.zeros(4)\n",
        "prediction_dist = np.zeros(4)\n",
        "\n",
        "#Correction factor\n",
        "C = 0\n",
        "\n",
        "simulation_dist[0] = sum(bins[0:3])\n",
        "simulation_dist[1] = bins[3]\n",
        "prediction_dist[0] = np.exp(-(-1.)/T+C)\n",
        "prediction_dist[1] = np.exp(-(-200.)/T)\n",
        "\n",
        "#Normalize the distributions\n",
        "simulation_dist = simulation_dist / float(sum(simulation_dist))\n",
        "prediction_dist = prediction_dist / float(sum(prediction_dist))\n",
        "\n",
        "############ PLOT ############\n",
        "\n",
        "\n",
        "#Append zeros at missing elements\n",
        "simulation_dist = np.concatenate((simulation_dist,np.zeros(N-len(simulation_dist))))\n",
        "\n",
        "#Setup plot data\n",
        "ind = np.arange(N) # the x locations for the groups\n",
        "width = 0.35 # the width of the bars\n",
        "\n",
        "plt.bar(ind, prediction_dist, width, color='b',alpha=0.5, label='Predicted')\n",
        "plt.bar(ind+width, simulation_dist, width, color='g',alpha=0.5, label='Simulation')\n",
        "\n",
        "#Add legend\n",
        "plt.legend(loc=0)\n",
        "\n",
        "#Remove ticks\n",
        "plt.tick_params(\n",
        "    axis='x',          # changes apply to the x-axis\n",
        "    which='both',      # both major and minor ticks are affected\n",
        "    bottom='off',      # ticks along the bottom edge are off\n",
        "    top='off',         # ticks along the top edge are off\n",
        "    labelbottom='off')\n",
        "\n",
        "print(\"Done - showing resulting plot. Close the plot to end program.\")\n",
        "plt.show()"
      ],
      "metadata": {
        "id": "GBpKojt4sv-d",
        "colab": {
          "base_uri": "https://localhost:8080/",
          "height": 356
        },
        "outputId": "db6d5106-c553-4036-f09a-6001931e4f5e"
      },
      "execution_count": 2,
      "outputs": [
        {
          "output_type": "error",
          "ename": "FileNotFoundError",
          "evalue": "traj.dat not found.",
          "traceback": [
            "\u001b[0;31m---------------------------------------------------------------------------\u001b[0m",
            "\u001b[0;31mFileNotFoundError\u001b[0m                         Traceback (most recent call last)",
            "\u001b[0;32m/tmp/ipython-input-2859371602.py\u001b[0m in \u001b[0;36m<cell line: 0>\u001b[0;34m()\u001b[0m\n\u001b[1;32m     10\u001b[0m \u001b[0;31m############ CALCS ############\u001b[0m\u001b[0;34m\u001b[0m\u001b[0;34m\u001b[0m\u001b[0m\n\u001b[1;32m     11\u001b[0m \u001b[0;34m\u001b[0m\u001b[0m\n\u001b[0;32m---> 12\u001b[0;31m \u001b[0mtraj\u001b[0m \u001b[0;34m=\u001b[0m \u001b[0mnp\u001b[0m\u001b[0;34m.\u001b[0m\u001b[0mloadtxt\u001b[0m\u001b[0;34m(\u001b[0m\u001b[0;34m\"traj.dat\"\u001b[0m\u001b[0;34m,\u001b[0m \u001b[0mdtype\u001b[0m\u001b[0;34m=\u001b[0m\u001b[0mint\u001b[0m\u001b[0;34m)\u001b[0m\u001b[0;34m\u001b[0m\u001b[0;34m\u001b[0m\u001b[0m\n\u001b[0m\u001b[1;32m     13\u001b[0m \u001b[0mmstates\u001b[0m \u001b[0;34m=\u001b[0m \u001b[0mnp\u001b[0m\u001b[0;34m.\u001b[0m\u001b[0mloadtxt\u001b[0m\u001b[0;34m(\u001b[0m\u001b[0;34m\"enth.dat\"\u001b[0m\u001b[0;34m)\u001b[0m\u001b[0;34m\u001b[0m\u001b[0;34m\u001b[0m\u001b[0m\n\u001b[1;32m     14\u001b[0m \u001b[0mT\u001b[0m \u001b[0;34m=\u001b[0m \u001b[0;36m300.\u001b[0m\u001b[0;34m\u001b[0m\u001b[0;34m\u001b[0m\u001b[0m\n",
            "\u001b[0;32m/usr/local/lib/python3.12/dist-packages/numpy/lib/_npyio_impl.py\u001b[0m in \u001b[0;36mloadtxt\u001b[0;34m(fname, dtype, comments, delimiter, converters, skiprows, usecols, unpack, ndmin, encoding, max_rows, quotechar, like)\u001b[0m\n\u001b[1;32m   1379\u001b[0m         \u001b[0mdelimiter\u001b[0m \u001b[0;34m=\u001b[0m \u001b[0mdelimiter\u001b[0m\u001b[0;34m.\u001b[0m\u001b[0mdecode\u001b[0m\u001b[0;34m(\u001b[0m\u001b[0;34m'latin1'\u001b[0m\u001b[0;34m)\u001b[0m\u001b[0;34m\u001b[0m\u001b[0;34m\u001b[0m\u001b[0m\n\u001b[1;32m   1380\u001b[0m \u001b[0;34m\u001b[0m\u001b[0m\n\u001b[0;32m-> 1381\u001b[0;31m     arr = _read(fname, dtype=dtype, comment=comment, delimiter=delimiter,\n\u001b[0m\u001b[1;32m   1382\u001b[0m                 \u001b[0mconverters\u001b[0m\u001b[0;34m=\u001b[0m\u001b[0mconverters\u001b[0m\u001b[0;34m,\u001b[0m \u001b[0mskiplines\u001b[0m\u001b[0;34m=\u001b[0m\u001b[0mskiprows\u001b[0m\u001b[0;34m,\u001b[0m \u001b[0musecols\u001b[0m\u001b[0;34m=\u001b[0m\u001b[0musecols\u001b[0m\u001b[0;34m,\u001b[0m\u001b[0;34m\u001b[0m\u001b[0;34m\u001b[0m\u001b[0m\n\u001b[1;32m   1383\u001b[0m                 \u001b[0munpack\u001b[0m\u001b[0;34m=\u001b[0m\u001b[0munpack\u001b[0m\u001b[0;34m,\u001b[0m \u001b[0mndmin\u001b[0m\u001b[0;34m=\u001b[0m\u001b[0mndmin\u001b[0m\u001b[0;34m,\u001b[0m \u001b[0mencoding\u001b[0m\u001b[0;34m=\u001b[0m\u001b[0mencoding\u001b[0m\u001b[0;34m,\u001b[0m\u001b[0;34m\u001b[0m\u001b[0;34m\u001b[0m\u001b[0m\n",
            "\u001b[0;32m/usr/local/lib/python3.12/dist-packages/numpy/lib/_npyio_impl.py\u001b[0m in \u001b[0;36m_read\u001b[0;34m(fname, delimiter, comment, quote, imaginary_unit, usecols, skiplines, max_rows, converters, ndmin, unpack, dtype, encoding)\u001b[0m\n\u001b[1;32m    995\u001b[0m             \u001b[0mfname\u001b[0m \u001b[0;34m=\u001b[0m \u001b[0mos\u001b[0m\u001b[0;34m.\u001b[0m\u001b[0mfspath\u001b[0m\u001b[0;34m(\u001b[0m\u001b[0mfname\u001b[0m\u001b[0;34m)\u001b[0m\u001b[0;34m\u001b[0m\u001b[0;34m\u001b[0m\u001b[0m\n\u001b[1;32m    996\u001b[0m         \u001b[0;32mif\u001b[0m \u001b[0misinstance\u001b[0m\u001b[0;34m(\u001b[0m\u001b[0mfname\u001b[0m\u001b[0;34m,\u001b[0m \u001b[0mstr\u001b[0m\u001b[0;34m)\u001b[0m\u001b[0;34m:\u001b[0m\u001b[0;34m\u001b[0m\u001b[0;34m\u001b[0m\u001b[0m\n\u001b[0;32m--> 997\u001b[0;31m             \u001b[0mfh\u001b[0m \u001b[0;34m=\u001b[0m \u001b[0mnp\u001b[0m\u001b[0;34m.\u001b[0m\u001b[0mlib\u001b[0m\u001b[0;34m.\u001b[0m\u001b[0m_datasource\u001b[0m\u001b[0;34m.\u001b[0m\u001b[0mopen\u001b[0m\u001b[0;34m(\u001b[0m\u001b[0mfname\u001b[0m\u001b[0;34m,\u001b[0m \u001b[0;34m'rt'\u001b[0m\u001b[0;34m,\u001b[0m \u001b[0mencoding\u001b[0m\u001b[0;34m=\u001b[0m\u001b[0mencoding\u001b[0m\u001b[0;34m)\u001b[0m\u001b[0;34m\u001b[0m\u001b[0;34m\u001b[0m\u001b[0m\n\u001b[0m\u001b[1;32m    998\u001b[0m             \u001b[0;32mif\u001b[0m \u001b[0mencoding\u001b[0m \u001b[0;32mis\u001b[0m \u001b[0;32mNone\u001b[0m\u001b[0;34m:\u001b[0m\u001b[0;34m\u001b[0m\u001b[0;34m\u001b[0m\u001b[0m\n\u001b[1;32m    999\u001b[0m                 \u001b[0mencoding\u001b[0m \u001b[0;34m=\u001b[0m \u001b[0mgetattr\u001b[0m\u001b[0;34m(\u001b[0m\u001b[0mfh\u001b[0m\u001b[0;34m,\u001b[0m \u001b[0;34m'encoding'\u001b[0m\u001b[0;34m,\u001b[0m \u001b[0;34m'latin1'\u001b[0m\u001b[0;34m)\u001b[0m\u001b[0;34m\u001b[0m\u001b[0;34m\u001b[0m\u001b[0m\n",
            "\u001b[0;32m/usr/local/lib/python3.12/dist-packages/numpy/lib/_datasource.py\u001b[0m in \u001b[0;36mopen\u001b[0;34m(path, mode, destpath, encoding, newline)\u001b[0m\n\u001b[1;32m    190\u001b[0m \u001b[0;34m\u001b[0m\u001b[0m\n\u001b[1;32m    191\u001b[0m     \u001b[0mds\u001b[0m \u001b[0;34m=\u001b[0m \u001b[0mDataSource\u001b[0m\u001b[0;34m(\u001b[0m\u001b[0mdestpath\u001b[0m\u001b[0;34m)\u001b[0m\u001b[0;34m\u001b[0m\u001b[0;34m\u001b[0m\u001b[0m\n\u001b[0;32m--> 192\u001b[0;31m     \u001b[0;32mreturn\u001b[0m \u001b[0mds\u001b[0m\u001b[0;34m.\u001b[0m\u001b[0mopen\u001b[0m\u001b[0;34m(\u001b[0m\u001b[0mpath\u001b[0m\u001b[0;34m,\u001b[0m \u001b[0mmode\u001b[0m\u001b[0;34m,\u001b[0m \u001b[0mencoding\u001b[0m\u001b[0;34m=\u001b[0m\u001b[0mencoding\u001b[0m\u001b[0;34m,\u001b[0m \u001b[0mnewline\u001b[0m\u001b[0;34m=\u001b[0m\u001b[0mnewline\u001b[0m\u001b[0;34m)\u001b[0m\u001b[0;34m\u001b[0m\u001b[0;34m\u001b[0m\u001b[0m\n\u001b[0m\u001b[1;32m    193\u001b[0m \u001b[0;34m\u001b[0m\u001b[0m\n\u001b[1;32m    194\u001b[0m \u001b[0;34m\u001b[0m\u001b[0m\n",
            "\u001b[0;32m/usr/local/lib/python3.12/dist-packages/numpy/lib/_datasource.py\u001b[0m in \u001b[0;36mopen\u001b[0;34m(self, path, mode, encoding, newline)\u001b[0m\n\u001b[1;32m    530\u001b[0m                                       encoding=encoding, newline=newline)\n\u001b[1;32m    531\u001b[0m         \u001b[0;32melse\u001b[0m\u001b[0;34m:\u001b[0m\u001b[0;34m\u001b[0m\u001b[0;34m\u001b[0m\u001b[0m\n\u001b[0;32m--> 532\u001b[0;31m             \u001b[0;32mraise\u001b[0m \u001b[0mFileNotFoundError\u001b[0m\u001b[0;34m(\u001b[0m\u001b[0;34mf\"{path} not found.\"\u001b[0m\u001b[0;34m)\u001b[0m\u001b[0;34m\u001b[0m\u001b[0;34m\u001b[0m\u001b[0m\n\u001b[0m\u001b[1;32m    533\u001b[0m \u001b[0;34m\u001b[0m\u001b[0m\n\u001b[1;32m    534\u001b[0m \u001b[0;34m\u001b[0m\u001b[0m\n",
            "\u001b[0;31mFileNotFoundError\u001b[0m: traj.dat not found."
          ]
        }
      ]
    },
    {
      "cell_type": "code",
      "source": [],
      "metadata": {
        "id": "Q8TfEl2MtUEG"
      },
      "execution_count": null,
      "outputs": []
    }
  ]
}