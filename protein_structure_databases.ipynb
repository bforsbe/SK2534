{
  "cells": [
    {
      "cell_type": "markdown",
      "metadata": {
        "id": "view-in-github",
        "colab_type": "text"
      },
      "source": [
        "<a href=\"https://colab.research.google.com/github/bforsbe/SK2534/blob/main/protein_structure_databases.ipynb\" target=\"_parent\"><img src=\"https://colab.research.google.com/assets/colab-badge.svg\" alt=\"Open In Colab\"/></a>"
      ]
    },
    {
      "cell_type": "markdown",
      "id": "5bfa4c6a",
      "metadata": {
        "id": "5bfa4c6a"
      },
      "source": [
        "# Exploring Protein Structure Databases\n",
        "\n",
        "In this exercise we will explore a series of online tools and databases for protein sequences, structures, and oligomerization:\n",
        "\n",
        "1. **UniProt** – the universal protein resource for sequences and annotations.  \n",
        "2. **PDB (Protein Data Bank)** – repository of experimentally solved 3D protein structures.  \n",
        "3. **PFAM** – database of protein families and conserved domains.  \n",
        "4. **PISA (Protein Interfaces, Surfaces and Assemblies)** – predicts biological assemblies from PDB structures.  \n",
        "5. **AlphaFold DB** – AI-predicted structures for almost every known protein.  \n",
        "6. **Foldseek** – a structure-based search engine for fast fold comparisons.  \n",
        "\n",
        "Each section has:\n",
        "- A description of the database.\n",
        "- **Three questions** to test your ability to retrieve data.\n",
        "- Expandable hints.\n",
        "- Answer-check cells where you can type your answers (compared against a hash)."
      ]
    },
    {
      "cell_type": "markdown",
      "source": [
        "##Part 1: UniProt — The Universal Protein Resource\n",
        "\n",
        "**What it is:** UniProt is the primary resource for protein sequences and annotations. Each protein entry contains:\n",
        "- The amino acid sequence.\n",
        "- Functional annotations.\n",
        "- Subcellular location.\n",
        "- Post-translational modifications.\n",
        "- Cross-links to other databases (PDB, PFAM, AlphaFold, etc.).\n",
        "\n",
        "👉 Website: [https://www.uniprot.org](https://www.uniprot.org)"
      ],
      "metadata": {
        "id": "Yy0gBHGv9-Bh"
      },
      "id": "Yy0gBHGv9-Bh"
    },
    {
      "cell_type": "markdown",
      "source": [
        "**Question 1**\n",
        "\n",
        "Find the length (in amino acids) of human hemoglobin beta chain (UniProt P68871).\n",
        "\n",
        "<details> <summary>Hint</summary> Search for **P68871** in UniProt. Look under \"Sequence\". </details>"
      ],
      "metadata": {
        "id": "_IInr2Vp-ZEd"
      },
      "id": "_IInr2Vp-ZEd"
    },
    {
      "cell_type": "code",
      "source": [
        "#@title Q1 answer check\n",
        "# Replace this with the expected hash you want to check against\n",
        "answer = \"42\" #@param{type:\"string\"}\n",
        "ref_hash = \"ab9c4e\"  # example: hash for \"hello\", first 6 characters\n",
        "\n",
        "import hashlib\n",
        "import sys\n",
        "\n",
        "def get_hash(user_input):\n",
        "    try:\n",
        "        # Try converting to float (numbers get formatted with 5 decimal places)\n",
        "        val = float(user_input)\n",
        "        normalized = f\"{val:.5f}\"\n",
        "    except ValueError:\n",
        "        # Otherwise treat as string and lowercase it\n",
        "        normalized = user_input.lower()\n",
        "\n",
        "    # Compute MD5 hash\n",
        "    md5_hash = hashlib.md5(normalized.encode()).hexdigest()\n",
        "\n",
        "    if user_input == ref_hash and md5_hash[:6] != ref_hash:\n",
        "        print(\"That was a poor attempt to cheat. That is not how md5sum works.\")\n",
        "        return None, None\n",
        "    else:\n",
        "        return normalized, md5_hash[:6]\n",
        "\n",
        "_, md5_hash = get_hash(answer)\n",
        "\n",
        "if md5_hash is None:\n",
        "    pass\n",
        "elif md5_hash == ref_hash:\n",
        "    print(f\"{answer} is correct!                                ({md5_hash})\")\n",
        "else:\n",
        "    print(f\"{answer} is NOT correct!                            ({md5_hash})\")"
      ],
      "metadata": {
        "colab": {
          "base_uri": "https://localhost:8080/"
        },
        "id": "mfHE_Nsx-avR",
        "outputId": "f236eceb-779a-45a9-b365-5c9484f96374"
      },
      "id": "mfHE_Nsx-avR",
      "execution_count": 10,
      "outputs": [
        {
          "output_type": "stream",
          "name": "stdout",
          "text": [
            "42 is NOT correct!                            (2bb038)\n"
          ]
        }
      ]
    },
    {
      "cell_type": "markdown",
      "source": [
        "**Question 2**\n",
        "\n",
        "Mutation in protein sequence is usually annotated as XNY, where X is the original amino acid, N is the position in the sequence, and Y is the mutated amino acid. For instance, mutation of an Alanine in position 23 to a Lysine would be netoded \"A23K\".\n",
        "\n",
        "What mutation human cytochrome c results in increased caspase activation?\n",
        "\n",
        "<details> <summary>Hint</summary> Check the \"Subcellular location\" section of the UniProt entry. </details>"
      ],
      "metadata": {
        "id": "nRWl12CJ_VAt"
      },
      "id": "nRWl12CJ_VAt"
    },
    {
      "cell_type": "code",
      "source": [
        "#@title Q2 answer check\n",
        "# Replace this with the expected hash you want to check against\n",
        "answer = \"A23K\" #@param{type:\"string\"}\n",
        "ref_hash = \"e90760\"  # example: hash for \"hello\", first 6 characters\n",
        "\n",
        "import hashlib\n",
        "import sys\n",
        "\n",
        "def get_hash(user_input):\n",
        "    try:\n",
        "        # Try converting to float (numbers get formatted with 5 decimal places)\n",
        "        val = float(user_input)\n",
        "        normalized = f\"{val:.5f}\"\n",
        "    except ValueError:\n",
        "        # Otherwise treat as string and lowercase it\n",
        "        normalized = user_input.lower()\n",
        "\n",
        "    # Compute MD5 hash\n",
        "    md5_hash = hashlib.md5(normalized.encode()).hexdigest()\n",
        "\n",
        "    if user_input == ref_hash and md5_hash[:6] != ref_hash:\n",
        "        print(\"That was a poor attempt to cheat. That is not how md5sum works.\")\n",
        "        return None, None\n",
        "    else:\n",
        "        return normalized, md5_hash[:6]\n",
        "\n",
        "_, md5_hash = get_hash(answer)\n",
        "\n",
        "if md5_hash is None:\n",
        "    pass\n",
        "elif md5_hash == ref_hash:\n",
        "    print(f\"{answer} is correct!                            ({md5_hash})\")\n",
        "else:\n",
        "    print(f\"{answer} is NOT correct!                        ({md5_hash})\")"
      ],
      "metadata": {
        "colab": {
          "base_uri": "https://localhost:8080/"
        },
        "cellView": "form",
        "outputId": "c8249453-d18f-4133-a5da-e76c135c387b",
        "id": "Ua3-tqqHAkTY"
      },
      "execution_count": 9,
      "outputs": [
        {
          "output_type": "stream",
          "name": "stdout",
          "text": [
            "A23K is NOT correct!                              (cf1147)\n"
          ]
        }
      ],
      "id": "Ua3-tqqHAkTY"
    },
    {
      "cell_type": "markdown",
      "source": [
        "**Question 3**\n",
        "\n",
        "Motifs are recognizable feratures across proteins. They are effectively reused sequences that nature by chance repurposed instead of reinventing them.\n",
        "\n",
        "What is the destruction motif in human NF-kappa-B inhibitor alpha?\n",
        "\n",
        "<details> <summary>Hint</summary> P04637. Family & Domains. </details>"
      ],
      "metadata": {
        "id": "LfB2pZ20DHDn"
      },
      "id": "LfB2pZ20DHDn"
    },
    {
      "cell_type": "code",
      "source": [
        "#@title Q3 answer check\n",
        "# Replace this with the expected hash you want to check against\n",
        "answer = \"SGAGAG\" #@param{type:\"string\"}\n",
        "ref_hash = \"5bb648\"  # example: hash for \"hello\", first 6 characters\n",
        "\n",
        "import hashlib\n",
        "import sys\n",
        "\n",
        "def get_hash(user_input):\n",
        "    try:\n",
        "        # Try converting to float (numbers get formatted with 5 decimal places)\n",
        "        val = float(user_input)\n",
        "        normalized = f\"{val:.5f}\"\n",
        "    except ValueError:\n",
        "        # Otherwise treat as string and lowercase it\n",
        "        normalized = user_input.lower()\n",
        "\n",
        "    # Compute MD5 hash\n",
        "    md5_hash = hashlib.md5(normalized.encode()).hexdigest()\n",
        "\n",
        "    if user_input == ref_hash and md5_hash[:6] != ref_hash:\n",
        "        print(\"That was a poor attempt to cheat. That is not how md5sum works.\")\n",
        "        return None, None\n",
        "    else:\n",
        "        return normalized, md5_hash[:6]\n",
        "\n",
        "_, md5_hash = get_hash(answer)\n",
        "\n",
        "if md5_hash is None:\n",
        "    pass\n",
        "elif md5_hash == ref_hash:\n",
        "    print(f\"{answer} is correct!                            ({md5_hash})\")\n",
        "else:\n",
        "    print(f\"{answer} is NOT correct!                        ({md5_hash})\")"
      ],
      "metadata": {
        "colab": {
          "base_uri": "https://localhost:8080/"
        },
        "cellView": "form",
        "outputId": "d3a226f1-db79-4f05-b84e-a4c587380acf",
        "id": "NBg-lbFzKhgv"
      },
      "execution_count": 14,
      "outputs": [
        {
          "output_type": "stream",
          "name": "stdout",
          "text": [
            "SGAGAG is NOT correct!                        (f3b116)\n"
          ]
        }
      ],
      "id": "NBg-lbFzKhgv"
    },
    {
      "cell_type": "markdown",
      "source": [],
      "metadata": {
        "id": "nV_6QjwMKhQD"
      },
      "id": "nV_6QjwMKhQD"
    },
    {
      "cell_type": "markdown",
      "id": "1a782c03",
      "metadata": {
        "id": "1a782c03"
      },
      "source": [
        "## Part 1: PDB — The Protein Data Bank\n",
        "\n",
        "The PDB is the central repository for experimentally determined structures of proteins, nucleic acids, and complexes. Structures are solved mainly by **X-ray crystallography**, **NMR spectroscopy**, or **cryo-EM**.\n",
        "\n",
        "👉 Website: [https://www.rcsb.org](https://www.rcsb.org)\n",
        "\n",
        "### Question 1\n",
        "Find the **resolution (in Å)** of the structure with PDB ID **1CRN** (crambin).\n",
        "\n",
        "<details>\n",
        "<summary>Hint</summary>\n",
        "Use the search bar on the RCSB site, enter **1CRN**, and look at the \"Experimental Data Snapshot\".\n",
        "</details>"
      ]
    },
    {
      "cell_type": "code",
      "execution_count": null,
      "id": "e18963a9",
      "metadata": {
        "id": "e18963a9"
      },
      "outputs": [],
      "source": [
        "# CHECK CELL\n",
        "# answer = \"your_answer_here\""
      ]
    },
    {
      "cell_type": "markdown",
      "id": "a7dc976a",
      "metadata": {
        "id": "a7dc976a"
      },
      "source": [
        "## Part 2: PFAM — Protein families and domains\n",
        "\n",
        "PFAM groups protein sequences into **families** based on conserved domains and motifs. It helps us understand the modularity of proteins.\n",
        "\n",
        "👉 Website: [http://pfam.xfam.org](http://pfam.xfam.org)\n",
        "\n",
        "### Question 2\n",
        "What is the **PFAM domain name** that defines the globin fold (hemoglobin, myoglobin, etc.)?\n",
        "\n",
        "<details>\n",
        "<summary>Hint</summary>\n",
        "Search for \"hemoglobin\" in PFAM and find the domain entry for the globin fold.\n",
        "</details>"
      ]
    },
    {
      "cell_type": "code",
      "execution_count": null,
      "id": "66b9403e",
      "metadata": {
        "id": "66b9403e"
      },
      "outputs": [],
      "source": [
        "# CHECK CELL\n",
        "# answer = \"your_answer_here\""
      ]
    },
    {
      "cell_type": "markdown",
      "id": "8453612a",
      "metadata": {
        "id": "8453612a"
      },
      "source": [
        "## Part 3: PISA — Protein Interfaces, Surfaces, Assemblies\n",
        "\n",
        "PISA analyzes **oligomeric states** of proteins based on structural data. It predicts whether the biological unit is a monomer, dimer, tetramer, etc.\n",
        "\n",
        "👉 Website: [https://www.ebi.ac.uk/pdbe/pisa/](https://www.ebi.ac.uk/pdbe/pisa/)\n",
        "\n",
        "### Question 3\n",
        "For **hemoglobin (PDB ID 1A3N)**, what **oligomeric state** does PISA report?\n",
        "\n",
        "<details>\n",
        "<summary>Hint</summary>\n",
        "Search for 1A3N in PISA, then check the \"Assembly\" tab.\n",
        "</details>"
      ]
    },
    {
      "cell_type": "code",
      "execution_count": null,
      "id": "6e465c47",
      "metadata": {
        "id": "6e465c47"
      },
      "outputs": [],
      "source": [
        "# CHECK CELL\n",
        "# answer = \"your_answer_here\""
      ]
    },
    {
      "cell_type": "markdown",
      "id": "3fded10a",
      "metadata": {
        "id": "3fded10a"
      },
      "source": [
        "## Part 4: AlphaFold DB\n",
        "\n",
        "AlphaFold DB contains AI-predicted protein structures for almost all known sequences.  \n",
        "- Predictions are scored by **pLDDT**, a confidence measure for the local accuracy of the structure.  \n",
        "- It is important to remember that predictions are models, not experiments.  \n",
        "\n",
        "👉 Website: [https://alphafold.ebi.ac.uk](https://alphafold.ebi.ac.uk)\n",
        "\n",
        "### Question 4\n",
        "What is the **predicted structure coverage** (fraction of the sequence modeled with high confidence, pLDDT > 70) for **human p53** (UniProt P04637)?\n",
        "\n",
        "<details>\n",
        "<summary>Hint</summary>\n",
        "Search \"P04637\" in AlphaFold DB, then look at the sequence viewer color-coding and confidence summary.\n",
        "</details>"
      ]
    },
    {
      "cell_type": "code",
      "execution_count": null,
      "id": "f33441ec",
      "metadata": {
        "id": "f33441ec"
      },
      "outputs": [],
      "source": [
        "# CHECK CELL\n",
        "# answer = \"your_answer_here\""
      ]
    },
    {
      "cell_type": "markdown",
      "id": "6cb948a3",
      "metadata": {
        "id": "6cb948a3"
      },
      "source": [
        "### Visualization of AlphaFold models in Colab\n",
        "\n",
        "You can fetch an AlphaFold model (from the EBI servers) and view it using **py3Dmol**:"
      ]
    },
    {
      "cell_type": "code",
      "execution_count": null,
      "id": "3a6f544a",
      "metadata": {
        "id": "3a6f544a"
      },
      "outputs": [],
      "source": [
        "import py3Dmol\n",
        "import requests\n",
        "\n",
        "def show_alphafold(uniprot_id):\n",
        "    url = f\"https://alphafold.ebi.ac.uk/files/AF-{uniprot_id}-F1-model_v4.pdb\"\n",
        "    pdb = requests.get(url).text\n",
        "    view = py3Dmol.view(width=400, height=400)\n",
        "    view.addModel(pdb, \"pdb\")\n",
        "    view.setStyle({\"cartoon\": {\"color\": \"spectrum\"}})\n",
        "    view.zoomTo()\n",
        "    return view.show()\n",
        "\n",
        "# Example: p53\n",
        "show_alphafold(\"P04637\")"
      ]
    },
    {
      "cell_type": "markdown",
      "id": "203ded29",
      "metadata": {
        "id": "203ded29"
      },
      "source": [
        "## Part 5: Foldseek\n",
        "\n",
        "Foldseek is a **structure-based search engine**. It allows you to query a protein structure against a database of known structures and find **structural neighbors**, even if the sequences are unrelated.\n",
        "\n",
        "👉 Website: [https://search.foldseek.com](https://search.foldseek.com)\n",
        "\n",
        "### Question 5\n",
        "Upload the AlphaFold structure of human p53 (P04637) to Foldseek.  \n",
        "Which **structural motif or fold** is most similar to its DNA-binding domain?\n",
        "\n",
        "<details>\n",
        "<summary>Hint</summary>\n",
        "Foldseek will give you a ranked list of similar structures. Look for the annotation of the top hit.\n",
        "</details>"
      ]
    },
    {
      "cell_type": "code",
      "execution_count": null,
      "id": "bea0b05a",
      "metadata": {
        "id": "bea0b05a"
      },
      "outputs": [],
      "source": [
        "# CHECK CELL\n",
        "# answer = \"your_answer_here\""
      ]
    },
    {
      "cell_type": "markdown",
      "id": "aec2dab2",
      "metadata": {
        "id": "aec2dab2"
      },
      "source": [
        "# Wrap-up\n",
        "\n",
        "Through this notebook, you learned how to:\n",
        "- Use the PDB to find structural data.  \n",
        "- Use PFAM to identify conserved domains.  \n",
        "- Use PISA to analyze oligomeric states.  \n",
        "- Access AlphaFold DB for predicted structures.  \n",
        "- Visualize AlphaFold models with code.  \n",
        "- Use Foldseek to find structural neighbors.  \n",
        "\n",
        "This toolbox will help you **explore protein structure and oligomerization/polymerization** — and maybe even “stump the teacher” with your findings!"
      ]
    }
  ],
  "metadata": {
    "colab": {
      "provenance": [],
      "include_colab_link": true
    },
    "language_info": {
      "name": "python"
    },
    "kernelspec": {
      "name": "python3",
      "display_name": "Python 3"
    }
  },
  "nbformat": 4,
  "nbformat_minor": 5
}