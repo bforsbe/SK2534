{
  "nbformat": 4,
  "nbformat_minor": 0,
  "metadata": {
    "colab": {
      "provenance": [],
      "include_colab_link": true
    },
    "kernelspec": {
      "name": "python3",
      "display_name": "Python 3"
    },
    "language_info": {
      "name": "python"
    },
    "accelerator": "GPU",
    "gpuClass": "standard"
  },
  "cells": [
    {
      "cell_type": "markdown",
      "metadata": {
        "id": "view-in-github",
        "colab_type": "text"
      },
      "source": [
        "<a href=\"https://colab.research.google.com/github/bforsbe/SK2534/blob/main/mutation.ipynb\" target=\"_parent\"><img src=\"https://colab.research.google.com/assets/colab-badge.svg\" alt=\"Open In Colab\"/></a>"
      ]
    },
    {
      "cell_type": "markdown",
      "source": [
        "#**Mutate DNA sequence but preserve protein fold**\n",
        "this exercise is meant to affirm the basics of how DNA is *translated* into proteins, and how this determines the *fold* of the protein.\n",
        "\n",
        "### **Instructions**\n",
        "The following is a set of code blocks that will set up and execute steps to help you re-design the DNA sequence of a small protein. **The aim is to attain a high mutation score**, which you will achieve by mutating DNA bases. Each mutation increases your score. If the mutation results in a mutated amino acid as well, your score will increase even more. **However, if the mutations destroy the fold of the protein, your total score will suffer**. Your total score is calculated by copying the mutated protein sequence into the ESMfold code block and predicting its structure. The following block can then calculate a similarity score in the form of RMSD, which is combined with your mutation score.\n",
        "\n",
        "#### **What to do**\n",
        "- read the instructions for each block.\n",
        "- click the little ▶ play icon to the left of each block below.\n"
      ],
      "metadata": {
        "id": "c_5UUJEFL4Rm"
      }
    },
    {
      "cell_type": "markdown",
      "source": [
        "First, we will install biopython, which is needed to translate DNA sequences, align structures, and more. this should be fairly quick."
      ],
      "metadata": {
        "id": "BZK7FrSZOepE"
      }
    },
    {
      "cell_type": "code",
      "source": [
        "!pip install biopython"
      ],
      "metadata": {
        "colab": {
          "base_uri": "https://localhost:8080/"
        },
        "id": "Nw43ayv5lk3i",
        "outputId": "dc009c1e-5c4b-40d2-b086-1a58c4ec57a2"
      },
      "execution_count": 4,
      "outputs": [
        {
          "output_type": "stream",
          "name": "stdout",
          "text": [
            "Collecting biopython\n",
            "  Downloading biopython-1.85-cp312-cp312-manylinux_2_17_x86_64.manylinux2014_x86_64.whl.metadata (13 kB)\n",
            "Requirement already satisfied: numpy in /usr/local/lib/python3.12/dist-packages (from biopython) (2.0.2)\n",
            "Downloading biopython-1.85-cp312-cp312-manylinux_2_17_x86_64.manylinux2014_x86_64.whl (3.3 MB)\n",
            "\u001b[?25l   \u001b[90m━━━━━━━━━━━━━━━━━━━━━━━━━━━━━━━━━━━━━━━━\u001b[0m \u001b[32m0.0/3.3 MB\u001b[0m \u001b[31m?\u001b[0m eta \u001b[36m-:--:--\u001b[0m\r\u001b[2K   \u001b[90m━━━━━━━━━━━━━━━━━━━━━━━━━━━━━━━━━━━━━━━━\u001b[0m \u001b[32m3.3/3.3 MB\u001b[0m \u001b[31m100.8 MB/s\u001b[0m eta \u001b[36m0:00:00\u001b[0m\n",
            "\u001b[?25hInstalling collected packages: biopython\n",
            "Successfully installed biopython-1.85\n"
          ]
        }
      ]
    },
    {
      "cell_type": "markdown",
      "source": [
        "Ok, now we can provide an original and mutated sequence, check what is different, and get a mutation score. In case you need it, the unmutated DNA sequence we are using in this exercise is\n",
        "\n",
        "```\n",
        "ATG AAA GTG ATT TTT CTG AAA AAA GGC GAA ATT AAA AAC GTG GCG GAT GGC TAT GCG AAC AAC TTT CTG TTT AAA CAG GGC CTG GCG ATT GAA GCG\n",
        "```\n",
        "\n",
        "Try altering one of the bases, and run this block to see what happened, and what score you get.\n"
      ],
      "metadata": {
        "id": "lOvLS33RO7ys"
      }
    },
    {
      "cell_type": "code",
      "source": [
        "#@title Mutate DNA and inspect translation\n",
        "from IPython.display import display, HTML\n",
        "from textwrap import wrap\n",
        "import Bio\n",
        "from Bio.Seq import Seq\n",
        "\n",
        "# === Inputs ===\n",
        "original_seq = \"ATG AAA GTG ATT TTT CTG AAA AAA GGC GAA ATT AAA AAC GTG GCG GAT GGC TAT GCG AAC AAC TTT CTG TTT AAA CAG GGC CTG GCG ATT GAA GCG\" #@param {type:\"string\"}\n",
        "mutated_seq  = \"ATG AAA GTG ATT TTT CTG AAA ATA GGC GAA ATT AAA AAC GTG GCG GAT GGC TAT GCG AAC AAC TTT CTG TTT AAA CAG GGC CTG GCG ATT GAA GCG\" #@param {type:\"string\"}\n",
        "\n",
        "# Clean input\n",
        "original_seq = original_seq.replace(\" \", \"\").upper()\n",
        "mutated_seq  = mutated_seq.replace(\" \", \"\").upper()\n",
        "\n",
        "# === Checks ===\n",
        "if len(original_seq) != len(mutated_seq):\n",
        "    raise ValueError(f\"Sequences must have the same length (got {len(original_seq)} vs {len(mutated_seq)}).\")\n",
        "if len(original_seq) % 3 != 0:\n",
        "    raise ValueError(f\"Sequence length must be a multiple of 3 (got {len(original_seq)}).\")\n",
        "\n",
        "# === Genetic code (DNA codons) ===\n",
        "codon_table = {\n",
        "    \"TTT\":\"F\",\"TTC\":\"F\",\"TTA\":\"L\",\"TTG\":\"L\",\n",
        "    \"CTT\":\"L\",\"CTC\":\"L\",\"CTA\":\"L\",\"CTG\":\"L\",\n",
        "    \"ATT\":\"I\",\"ATC\":\"I\",\"ATA\":\"I\",\"ATG\":\"M\",\n",
        "    \"GTT\":\"V\",\"GTC\":\"V\",\"GTA\":\"V\",\"GTG\":\"V\",\n",
        "    \"TCT\":\"S\",\"TCC\":\"S\",\"TCA\":\"S\",\"TCG\":\"S\",\n",
        "    \"CCT\":\"P\",\"CCC\":\"P\",\"CCA\":\"P\",\"CCG\":\"P\",\n",
        "    \"ACT\":\"T\",\"ACC\":\"T\",\"ACA\":\"T\",\"ACG\":\"T\",\n",
        "    \"GCT\":\"A\",\"GCC\":\"A\",\"GCA\":\"A\",\"GCG\":\"A\",\n",
        "    \"TAT\":\"Y\",\"TAC\":\"Y\",\"TAA\":\"*\",\"TAG\":\"*\",\n",
        "    \"CAT\":\"H\",\"CAC\":\"H\",\"CAA\":\"Q\",\"CAG\":\"Q\",\n",
        "    \"AAT\":\"N\",\"AAC\":\"N\",\"AAA\":\"K\",\"AAG\":\"K\",\n",
        "    \"GAT\":\"D\",\"GAC\":\"D\",\"GAA\":\"E\",\"GAG\":\"E\",\n",
        "    \"TGT\":\"C\",\"TGC\":\"C\",\"TGA\":\"*\",\"TGG\":\"W\",\n",
        "    \"CGT\":\"R\",\"CGC\":\"R\",\"CGA\":\"R\",\"CGG\":\"R\",\n",
        "    \"AGT\":\"S\",\"AGC\":\"S\",\"AGA\":\"R\",\"AGG\":\"R\",\n",
        "    \"GGT\":\"G\",\"GGC\":\"G\",\"GGA\":\"G\",\"GGG\":\"G\"\n",
        "}\n",
        "\n",
        "def translate_dna(seq):\n",
        "    codons = wrap(seq, 3)\n",
        "    aa = [codon_table.get(c,\"?\") for c in codons]\n",
        "    return codons, aa\n",
        "\n",
        "from IPython.display import display, HTML\n",
        "\n",
        "def compare_sequences(seq1, seq2, space_every=10, spacer=\" \", no_number=False):\n",
        "    \"\"\"\n",
        "    Display two sequences in monospace, highlight differences in bold red,\n",
        "    insert spaces every n characters, and add numbering above each block.\n",
        "    \"\"\"\n",
        "    if len(seq1) != len(seq2):\n",
        "        raise ValueError(\"Sequences must be the same length\")\n",
        "\n",
        "    def highlight_block(s1, s2):\n",
        "        \"\"\"Highlight differences in one block of equal length\"\"\"\n",
        "        out1, out2 = [], []\n",
        "        for a, b in zip(s1, s2):\n",
        "            out1.append(a)\n",
        "            if a == b:\n",
        "                out2.append(b)\n",
        "            else:\n",
        "                out2.append(f\"<span style='color:red;font-weight:bold'>{b}</span>\")\n",
        "        return \"\".join(out1), \"\".join(out2)\n",
        "\n",
        "    # Split into blocks of size space_every\n",
        "    blocks1 = [seq1[i:i+space_every] for i in range(0, len(seq1), space_every)]\n",
        "    blocks2 = [seq2[i:i+space_every] for i in range(0, len(seq2), space_every)]\n",
        "\n",
        "    seq1_blocks, seq2_blocks, num_blocks = [], [], []\n",
        "    pos = 0\n",
        "    for b1, b2 in zip(blocks1, blocks2):\n",
        "        o1, o2 = highlight_block(b1, b2)\n",
        "        seq1_blocks.append(o1)\n",
        "        seq2_blocks.append(o2)\n",
        "        pos += len(b1)\n",
        "        num_blocks.append(str(pos).rjust(len(b1)))\n",
        "\n",
        "\n",
        "    number_line = spacer.join(num_blocks)\n",
        "    seq1_line   = spacer.join(seq1_blocks)\n",
        "    seq2_line   = spacer.join(seq2_blocks)\n",
        "\n",
        "    html = []\n",
        "    if no_number:\n",
        "        html = seq1_line + \"<br>\" + seq2_line\n",
        "    else:\n",
        "        html = number_line + \"<br>\" + seq1_line + \"<br>\" + seq2_line\n",
        "    display(HTML(f\"<pre style='font-family:monospace'>{html}</pre>\"))\n",
        "\n",
        "def dna_identity(seq1: str, seq2: str) -> float:\n",
        "    \"\"\"Return % identity at DNA level\"\"\"\n",
        "    if len(seq1) != len(seq2):\n",
        "        raise ValueError(\"Sequences must have the same length\")\n",
        "    matches = sum(a == b for a, b in zip(seq1.upper(), seq2.upper()))\n",
        "    return 100 * matches / len(seq1)\n",
        "\n",
        "def protein_identity(seq1: str, seq2: str) -> float:\n",
        "    \"\"\"Translate DNA → protein and return % identity\"\"\"\n",
        "    if len(seq1) % 3 != 0 or len(seq2) % 3 != 0:\n",
        "        raise ValueError(\"DNA sequences must be divisible by 3\")\n",
        "    prot1 = str(Seq(seq1).translate(to_stop=False))\n",
        "    prot2 = str(Seq(seq2).translate(to_stop=False))\n",
        "    if len(prot1) != len(prot2):\n",
        "        raise ValueError(\"Translated proteins have different lengths\")\n",
        "    matches = sum(a == b for a, b in zip(prot1, prot2))\n",
        "    return 100 * matches / len(prot1)\n",
        "\n",
        "def mutation_score(seq1: str, seq2: str) -> float:\n",
        "    \"\"\"Return mutation score\"\"\"\n",
        "    if len(seq1) != len(seq2):\n",
        "        raise ValueError(\"Sequences must have the same length\")\n",
        "\n",
        "    protein_id = protein_identity(seq1, seq2)\n",
        "    dna_id = dna_identity(seq1, seq2)\n",
        "\n",
        "    return ((100.-protein_id)+(100.-dna_id))/2\n",
        "\n",
        "# === Translation ===\n",
        "codons_o, aa_o = translate_dna(original_seq)\n",
        "codons_m, aa_m = translate_dna(mutated_seq)\n",
        "\n",
        "# === HTML display ===\n",
        "\n",
        "compare_sequences(original_seq,mutated_seq,space_every=3)\n",
        "compare_sequences(aa_o,aa_m,space_every=1, no_number=True, spacer=\"   \")\n",
        "\n",
        "#display(HTML(f\"<pre style='font-family:monospace'>{\"   \".join(aa_o)}</pre>\"))\n",
        "#compare_sequences(\"\".join(codons_o),\"\".join(codons_m),space_every=30)\n",
        "\n",
        "print(\"\\n\\nMutaded sequence without spaces:\")\n",
        "display(HTML(f\"<pre style='font-family:monospace'>{\"\".join(aa_m)}</pre>\"))\n",
        "\n",
        "dna_id = dna_identity(original_seq, mutated_seq)\n",
        "#print(f\"\\nDNA % identity: {dna_id:.1f}%\")\n",
        "protein_id = protein_identity(original_seq, mutated_seq)\n",
        "#print(f\"Protein % identity: {protein_id:.1f}%\")\n",
        "print(\"\\n\")\n",
        "mut_score = mutation_score(original_seq,mutated_seq)\n",
        "print(f\"Mutation score is {mut_score:.2f}\")\n"
      ],
      "metadata": {
        "colab": {
          "base_uri": "https://localhost:8080/",
          "height": 229
        },
        "cellView": "form",
        "id": "KNGB65P92gII",
        "outputId": "06d7791e-2cb1-443e-bf10-ced164cb5558"
      },
      "execution_count": 7,
      "outputs": [
        {
          "output_type": "display_data",
          "data": {
            "text/plain": [
              "<IPython.core.display.HTML object>"
            ],
            "text/html": [
              "<pre style='font-family:monospace'>  3   6   9  12  15  18  21  24  27  30  33  36  39  42  45  48  51  54  57  60  63  66  69  72  75  78  81  84  87  90  93  96<br>ATG AAA GTG ATT TTT CTG AAA AAA GGC GAA ATT AAA AAC GTG GCG GAT GGC TAT GCG AAC AAC TTT CTG TTT AAA CAG GGC CTG GCG ATT GAA GCG<br>ATG AAA GTG ATT TTT CTG AAA A<span style='color:red;font-weight:bold'>T</span>A GGC GAA ATT AAA AAC GTG GCG GAT GGC TAT GCG AAC AAC TTT CTG TTT AAA CAG GGC CTG GCG ATT GAA GCG</pre>"
            ]
          },
          "metadata": {}
        },
        {
          "output_type": "display_data",
          "data": {
            "text/plain": [
              "<IPython.core.display.HTML object>"
            ],
            "text/html": [
              "<pre style='font-family:monospace'>M   K   V   I   F   L   K   K   G   E   I   K   N   V   A   D   G   Y   A   N   N   F   L   F   K   Q   G   L   A   I   E   A<br>M   K   V   I   F   L   K   <span style='color:red;font-weight:bold'>I</span>   G   E   I   K   N   V   A   D   G   Y   A   N   N   F   L   F   K   Q   G   L   A   I   E   A</pre>"
            ]
          },
          "metadata": {}
        },
        {
          "output_type": "stream",
          "name": "stdout",
          "text": [
            "\n",
            "\n",
            "Mutaded sequence without spaces:\n"
          ]
        },
        {
          "output_type": "display_data",
          "data": {
            "text/plain": [
              "<IPython.core.display.HTML object>"
            ],
            "text/html": [
              "<pre style='font-family:monospace'>MKVIFLKIGEIKNVADGYANNFLFKQGLAIEA</pre>"
            ]
          },
          "metadata": {}
        },
        {
          "output_type": "stream",
          "name": "stdout",
          "text": [
            "\n",
            "\n",
            "Mutation score is 2.08\n"
          ]
        }
      ]
    },
    {
      "cell_type": "markdown",
      "source": [
        "#**ESMFold**\n",
        "Once we have a mutated *protein* sequence, we can fold it to make sure we didn't destroy the fold. **NOTE** if your mutation did not destroy the fold, then your total score is the same as your mutation score (so you could try to maximize this without mutating protein at all). To fold the protein, we will be using ESMfold, a protein language model made by meta.\n",
        "\n",
        "For more details on ESMfold see: [Github](https://github.com/facebookresearch/esm/tree/main/esm), [Preprint](https://www.biorxiv.org/content/10.1101/2022.07.20.500902v1)\n",
        "\n",
        "#### **Instructions**\n",
        "- Run the block to install ESMfold. This should only take a couple of minutes.\n",
        "- Copy the \"Mutaded sequence without spaces\" from the preceding block above, into the \"sequence\" filed below.\n",
        "- Run the prediction\n",
        "\n",
        "**NOTE**: The prediction might take a minute the first time and be quicker when you run it subsequently. The speed might also depend on the resources you have in the session, which you can check in the upper corener of the colab notebook header."
      ],
      "metadata": {
        "id": "POQBeXf2Xoxo"
      }
    },
    {
      "cell_type": "code",
      "execution_count": 4,
      "metadata": {
        "cellView": "form",
        "id": "boFQEwsNQ4Qt",
        "colab": {
          "base_uri": "https://localhost:8080/"
        },
        "outputId": "c23f605b-77d7-498d-e558-2376a9f8b413"
      },
      "outputs": [
        {
          "output_type": "stream",
          "name": "stdout",
          "text": [
            "installing libs...\n",
            "installing openfold...\n",
            "installing esmfold...\n",
            "CPU times: user 6.55 ms, sys: 10.5 ms, total: 17 ms\n",
            "Wall time: 3min 20s\n"
          ]
        }
      ],
      "source": [
        "%%time\n",
        "#@title install\n",
        "#@markdown install ESMFold, OpenFold and download Params (~2min 30s)\n",
        "version = \"1\"\n",
        "model_name = \"esmfold_v0.model\" if version == \"0\" else \"esmfold.model\"\n",
        "import os, time\n",
        "if not os.path.isfile(model_name):\n",
        "  # download esmfold params\n",
        "  os.system(\"apt-get install aria2 -qq\")\n",
        "  os.system(f\"aria2c -q -x 16 https://colabfold.steineggerlab.workers.dev/esm/{model_name} &\")\n",
        "\n",
        "  if not os.path.isfile(\"finished_install\"):\n",
        "    # install libs\n",
        "    print(\"installing libs...\")\n",
        "    os.system(\"pip install -q omegaconf pytorch_lightning biopython ml_collections einops py3Dmol modelcif\")\n",
        "    os.system(\"pip install -q git+https://github.com/NVIDIA/dllogger.git\")\n",
        "\n",
        "    print(\"installing openfold...\")\n",
        "    # install openfold\n",
        "    os.system(f\"pip install -q git+https://github.com/sokrypton/openfold.git\")\n",
        "\n",
        "    print(\"installing esmfold...\")\n",
        "    # install esmfold\n",
        "    os.system(f\"pip install -q git+https://github.com/sokrypton/esm.git\")\n",
        "    os.system(\"touch finished_install\")\n",
        "\n",
        "  # wait for Params to finish downloading...\n",
        "  while not os.path.isfile(model_name):\n",
        "    time.sleep(5)\n",
        "  if os.path.isfile(f\"{model_name}.aria2\"):\n",
        "    print(\"downloading params...\")\n",
        "  while os.path.isfile(f\"{model_name}.aria2\"):\n",
        "    time.sleep(5)"
      ]
    },
    {
      "cell_type": "code",
      "source": [
        "#@title ##run **ESMFold**\n",
        "%%time\n",
        "from string import ascii_uppercase, ascii_lowercase\n",
        "import hashlib, re, os\n",
        "import numpy as np\n",
        "import torch\n",
        "from jax.tree_util import tree_map\n",
        "import matplotlib.pyplot as plt\n",
        "from scipy.special import softmax\n",
        "import gc\n",
        "\n",
        "def parse_output(output):\n",
        "  pae = (output[\"aligned_confidence_probs\"][0] * np.arange(64)).mean(-1) * 31\n",
        "  plddt = output[\"plddt\"][0,:,1]\n",
        "\n",
        "  bins = np.append(0,np.linspace(2.3125,21.6875,63))\n",
        "  sm_contacts = softmax(output[\"distogram_logits\"],-1)[0]\n",
        "  sm_contacts = sm_contacts[...,bins<8].sum(-1)\n",
        "  xyz = output[\"positions\"][-1,0,:,1]\n",
        "  mask = output[\"atom37_atom_exists\"][0,:,1] == 1\n",
        "  o = {\"pae\":pae[mask,:][:,mask],\n",
        "       \"plddt\":plddt[mask],\n",
        "       \"sm_contacts\":sm_contacts[mask,:][:,mask],\n",
        "       \"xyz\":xyz[mask]}\n",
        "  return o\n",
        "\n",
        "def get_hash(x): return hashlib.sha1(x.encode()).hexdigest()\n",
        "alphabet_list = list(ascii_uppercase+ascii_lowercase)\n",
        "\n",
        "jobname = \"mutation_1\" #@param {type:\"string\"}\n",
        "jobname = re.sub(r'\\W+', '', jobname)[:50]\n",
        "\n",
        "sequence = \"MKPIFLKWWESKNVADWYAWNFLFKQGLAIEA\" #@param {type:\"string\"}\n",
        "sequence = re.sub(\"[^A-Z:]\", \"\", sequence.replace(\"/\",\":\").upper())\n",
        "sequence = re.sub(\":+\",\":\",sequence)\n",
        "sequence = re.sub(\"^[:]+\",\"\",sequence)\n",
        "sequence = re.sub(\"[:]+$\",\"\",sequence)\n",
        "copies = 1\n",
        "if copies == \"\" or copies <= 0: copies = 1\n",
        "sequence = \":\".join([sequence] * copies)\n",
        "num_recycles = 3\n",
        "chain_linker = 25\n",
        "\n",
        "ID = jobname+\"_\"+get_hash(sequence)[:5]\n",
        "print(ID)\n",
        "seqs = sequence.split(\":\")\n",
        "lengths = [len(s) for s in seqs]\n",
        "length = sum(lengths)\n",
        "print(\"length\",length)\n",
        "\n",
        "u_seqs = list(set(seqs))\n",
        "if len(seqs) == 1: mode = \"mono\"\n",
        "elif len(u_seqs) == 1: mode = \"homo\"\n",
        "else: mode = \"hetero\"\n",
        "\n",
        "if \"model\" not in dir() or model_name != model_name_:\n",
        "  if \"model\" in dir():\n",
        "    # delete old model from memory\n",
        "    del model\n",
        "    gc.collect()\n",
        "    if torch.cuda.is_available():\n",
        "      torch.cuda.empty_cache()\n",
        "\n",
        "  model = torch.load(model_name, weights_only=False)\n",
        "  model.eval().cuda().requires_grad_(False)\n",
        "  model_name_ = model_name\n",
        "\n",
        "# optimized for Tesla T4\n",
        "if length > 700:\n",
        "  model.set_chunk_size(64)\n",
        "else:\n",
        "  model.set_chunk_size(128)\n",
        "\n",
        "torch.cuda.empty_cache()\n",
        "output = model.infer(sequence,\n",
        "                     num_recycles=num_recycles,\n",
        "                     chain_linker=\"X\"*chain_linker,\n",
        "                     residue_index_offset=512)\n",
        "\n",
        "pdb_str = model.output_to_pdb(output)[0]\n",
        "output = tree_map(lambda x: x.cpu().numpy(), output)\n",
        "ptm = output[\"ptm\"][0]\n",
        "plddt = output[\"plddt\"][0,...,1].mean()\n",
        "O = parse_output(output)\n",
        "print(f'ptm: {ptm:.3f} plddt: {plddt:.3f}')\n",
        "os.system(f\"mkdir -p {ID}\")\n",
        "prefix = f\"{ID}/ptm{ptm:.3f}_r{num_recycles}_default\"\n",
        "np.savetxt(f\"{prefix}.pae.txt\",O[\"pae\"],\"%.3f\")\n",
        "o_pdb_file=f\"{prefix}.pdb\"\n",
        "with open(o_pdb_file,\"w\") as out:\n",
        "  out.write(pdb_str)"
      ],
      "metadata": {
        "cellView": "form",
        "id": "CcyNpAvhTX6q",
        "colab": {
          "base_uri": "https://localhost:8080/"
        },
        "outputId": "03d002f8-0e6a-406c-fe5d-08a1127815ee"
      },
      "execution_count": 23,
      "outputs": [
        {
          "output_type": "stream",
          "name": "stdout",
          "text": [
            "mutation_1_dc2cf\n",
            "length 32\n",
            "ptm: 0.255 plddt: 54.518\n",
            "CPU times: user 1.47 s, sys: 689 µs, total: 1.47 s\n",
            "Wall time: 1.48 s\n"
          ]
        }
      ]
    },
    {
      "cell_type": "markdown",
      "source": [
        "Now that we have predicted the fold of the mutated protein sequence, we will align it to a reference, and calculate their differences in atom positions, or root mean swuared difference (RMSD). This will then be used to penalize proteins with a high RMSD to the reference structure, which will affect your total score. That is, if you destroyed the fold, your score will be lowered.\n",
        "\n",
        "**NOTE**: This will be based on the last calculated mutation score and predicted model, i.e. assuming that you have run all blocks in order (you dont have to run the install blocks again though, unless you have restarted the whole session).\n"
      ],
      "metadata": {
        "id": "vyDfdy2TRyo2"
      }
    },
    {
      "cell_type": "code",
      "source": [
        "#@title Calculate RMSD-based final score\n",
        "import os, re, requests\n",
        "import torch\n",
        "from jax.tree_util import tree_map\n",
        "from Bio.Seq import Seq\n",
        "from Bio.PDB import PDBParser, Superimposer\n",
        "import numpy as np\n",
        "\n",
        "# --- Superpose prediction onto reference ---\n",
        "def align_pred_to_ref(pred_pdb_str, ref_pdb_file, out_file=\"pred_aligned.pdb\"):\n",
        "    parser = PDBParser(QUIET=True)\n",
        "\n",
        "    # Save predicted PDB string to temp file\n",
        "    with tempfile.NamedTemporaryFile(delete=False, suffix=\".pdb\") as tmp_pred:\n",
        "        tmp_pred.write(pred_pdb_str.encode())\n",
        "        pred_file = tmp_pred.name\n",
        "\n",
        "    pred = parser.get_structure(\"pred\", pred_file)\n",
        "    ref  = parser.get_structure(\"ref\", ref_pdb_file)\n",
        "\n",
        "    # Use CA atoms for alignment\n",
        "    pred_atoms = [a for a in pred.get_atoms() if a.get_id() == \"CA\"]\n",
        "    ref_atoms  = [a for a in ref.get_atoms()  if a.get_id() == \"CA\"]\n",
        "\n",
        "    n = min(len(pred_atoms), len(ref_atoms))\n",
        "    si = Superimposer()\n",
        "    si.set_atoms(ref_atoms[:n], pred_atoms[:n])  # align prediction to reference\n",
        "    si.apply(pred.get_atoms())                   # apply transform to prediction\n",
        "\n",
        "    # Write aligned prediction\n",
        "    io = PDBIO()\n",
        "    io.set_structure(pred)\n",
        "    io.save(out_file)\n",
        "\n",
        "    return out_file, si.rms\n",
        "\n",
        "# --- Function for RMSD ---\n",
        "def structure_rmsd(pdb1: str, pdb2: str) -> float:\n",
        "    parser = PDBParser(QUIET=True)\n",
        "    s1 = parser.get_structure(\"ref\", pdb1)\n",
        "    s2 = parser.get_structure(\"pred\", pdb2)\n",
        "\n",
        "    atoms1, atoms2 = [], []\n",
        "    for a1, a2 in zip(s1.get_atoms(), s2.get_atoms()):\n",
        "        if a1.get_id() in [\"N\", \"CA\", \"C\"]:  # backbone only\n",
        "            atoms1.append(a1)\n",
        "            atoms2.append(a2)\n",
        "\n",
        "    if len(atoms1) != len(atoms2):\n",
        "        raise ValueError(\"Structures must have same number of backbone atoms\")\n",
        "\n",
        "    sup = Superimposer()\n",
        "    sup.set_atoms(atoms1, atoms2)\n",
        "    return sup.rms\n",
        "\n",
        "def rmsd_to_similarity(rmsd, sigma=2.0):\n",
        "    \"\"\"\n",
        "    Convert RMSD (Å) to a similarity score in [0,1].\n",
        "    Smaller RMSD -> score close to 1, larger RMSD -> score close to 0.\n",
        "\n",
        "    Parameters\n",
        "    ----------\n",
        "    rmsd : float or np.array\n",
        "        Root-mean-square deviation in angstroms.\n",
        "    sigma : float\n",
        "        Scaling factor controlling decay. Typical RMSDs of 1-2 Å → high similarity.\n",
        "\n",
        "    Returns\n",
        "    -------\n",
        "    similarity : float or np.array\n",
        "        Score in [0,1].\n",
        "    \"\"\"\n",
        "    return np.exp(-rmsd / sigma)\n",
        "\n",
        "# --- Download reference PDB ---\n",
        "ref_file=\"reference.pdb\"\n",
        "!wget -q -O reference.pdb https://raw.githubusercontent.com/bforsbe/cryonet25/main/ptm0.638_r3_default.pdb\n",
        "\n",
        "aligned_file, rmsd = align_pred_to_ref(pdb_str, ref_file)\n",
        "\n",
        "#for rmsd in [0.5, 1.0, 2.0, 5.0]:\n",
        "#    print(rmsd, rmsd_to_similarity(rmsd))\n",
        "\n",
        "# --- Compare ---\n",
        "#o_pdb_file=\"test_71f75/ptm0.645_r3_default.pdb\"\n",
        "print(f\"input file is {o_pdb_file}\")\n",
        "#protein_seq = \"MKVIFLKKGEIKNVADGYANNFLFKQGLAIEA\n",
        "rmsd_val = rmsd #structure_rmsd(ref_file, o_pdb_file)\n",
        "#print(f\"Protein sequence: {protein_seq}\")\n",
        "print(f\"RMSD vs reference: {rmsd_val:.3f} Å (score: {rmsd_to_similarity(rmsd_val):.2f})\")\n",
        "print(\"\\n\\n\")\n",
        "print(f\"Total score: {mutation_score(original_seq,mutated_seq)*rmsd_to_similarity(rmsd_val):.3f}\")\n"
      ],
      "metadata": {
        "colab": {
          "base_uri": "https://localhost:8080/"
        },
        "cellView": "form",
        "id": "jm92UpWp5JbI",
        "outputId": "c04ecfdb-4c7a-494f-d098-d325644aae56"
      },
      "execution_count": 24,
      "outputs": [
        {
          "output_type": "stream",
          "name": "stdout",
          "text": [
            "input file is mutation_1_dc2cf/ptm0.255_r3_default.pdb\n",
            "RMSD vs reference: 7.921 Å (score: 0.02)\n",
            "\n",
            "\n",
            "\n",
            "Total score: 0.169\n"
          ]
        }
      ]
    },
    {
      "cell_type": "markdown",
      "source": [
        "To understand what the RMSD value means, you can choose to look at the reference and prediction aligned in 3D. For RMSD values below 2, they might superpose very closely, whereas you might see two completely different folds for higher values."
      ],
      "metadata": {
        "id": "mYOfnbbRTHM_"
      }
    },
    {
      "cell_type": "code",
      "source": [
        "#@title Display predicted (superposed) + reference {run: \"auto\"}\n",
        "import py3Dmol\n",
        "from Bio.PDB import PDBParser, Superimposer, PDBIO\n",
        "import tempfile, os\n",
        "\n",
        "# --- Visualize both ---\n",
        "def show_pred_and_ref_aligned(pred_pdb_str, ref_pdb_file,\n",
        "                              color=\"pLDDT\", show_sidechains=False, show_mainchains=False,\n",
        "                              chains=None, vmin=50, vmax=90, size=(800,480), Ls=None):\n",
        "\n",
        "    aligned_file, rmsd = align_pred_to_ref(pred_pdb_str, ref_pdb_file)\n",
        "\n",
        "    view = py3Dmol.view(js='https://3dmol.org/build/3Dmol.js',\n",
        "                        width=size[0], height=size[1])\n",
        "\n",
        "    # Reference (fixed, green)\n",
        "    with open(ref_pdb_file) as f:\n",
        "        ref_pdb_str = f.read()\n",
        "    view.addModel(ref_pdb_str,'pdb')\n",
        "    view.setStyle({'model':0},{'cartoon':{'color':'green','opacity':0.7}})\n",
        "\n",
        "    # Prediction (aligned, colored)\n",
        "    with open(aligned_file) as f:\n",
        "        pred_aligned_str = f.read()\n",
        "    view.addModel(pred_aligned_str,'pdb')\n",
        "    if color == \"pLDDT\":\n",
        "        view.setStyle({'model':1,'cartoon': {'colorscheme': {'prop':'b','gradient': 'roygb','min':vmin,'max':vmax}}})\n",
        "    elif color == \"rainbow\":\n",
        "        view.setStyle({'model':1,'cartoon': {'color':'spectrum'}})\n",
        "    elif color == \"chain\":\n",
        "        from string import ascii_uppercase\n",
        "        alphabet_list = list(ascii_uppercase)\n",
        "        for n,chain,c in zip(range(chains),alphabet_list,pymol_color_list):\n",
        "            view.setStyle({'model':1,'chain':chain},{'cartoon': {'color':c}})\n",
        "\n",
        "    view.zoomTo()\n",
        "    print(f\"Structural alignment RMSD: {rmsd:.3f} Å\")\n",
        "    return view\n",
        "\n",
        "\n",
        "# --- Params ---\n",
        "color = \"confidence\" #@param [\"confidence\", \"rainbow\", \"chain\"]\n",
        "if color == \"confidence\": color = \"pLDDT\"\n",
        "show_sidechains = True #@param {type:\"boolean\"}\n",
        "show_mainchains = False #@param {type:\"boolean\"}\n",
        "\n",
        "show_pred_and_ref_aligned(pdb_str, \"reference.pdb\",\n",
        "                          color=color,\n",
        "                          show_sidechains=show_sidechains,\n",
        "                          show_mainchains=show_mainchains,\n",
        "                          Ls=lengths).show()\n"
      ],
      "metadata": {
        "cellView": "form",
        "id": "JM5ciSmeTZKO",
        "colab": {
          "base_uri": "https://localhost:8080/",
          "height": 394
        },
        "outputId": "46d452a1-61ad-4dab-d789-b873f829b824"
      },
      "execution_count": 1,
      "outputs": [
        {
          "output_type": "error",
          "ename": "ModuleNotFoundError",
          "evalue": "No module named 'py3Dmol'",
          "traceback": [
            "\u001b[0;31m---------------------------------------------------------------------------\u001b[0m",
            "\u001b[0;31mModuleNotFoundError\u001b[0m                       Traceback (most recent call last)",
            "\u001b[0;32m/tmp/ipython-input-3882816723.py\u001b[0m in \u001b[0;36m<cell line: 0>\u001b[0;34m()\u001b[0m\n\u001b[1;32m      1\u001b[0m \u001b[0;31m#@title Display predicted (superposed) + reference {run: \"auto\"}\u001b[0m\u001b[0;34m\u001b[0m\u001b[0;34m\u001b[0m\u001b[0m\n\u001b[0;32m----> 2\u001b[0;31m \u001b[0;32mimport\u001b[0m \u001b[0mpy3Dmol\u001b[0m\u001b[0;34m\u001b[0m\u001b[0;34m\u001b[0m\u001b[0m\n\u001b[0m\u001b[1;32m      3\u001b[0m \u001b[0;32mfrom\u001b[0m \u001b[0mBio\u001b[0m\u001b[0;34m.\u001b[0m\u001b[0mPDB\u001b[0m \u001b[0;32mimport\u001b[0m \u001b[0mPDBParser\u001b[0m\u001b[0;34m,\u001b[0m \u001b[0mSuperimposer\u001b[0m\u001b[0;34m,\u001b[0m \u001b[0mPDBIO\u001b[0m\u001b[0;34m\u001b[0m\u001b[0;34m\u001b[0m\u001b[0m\n\u001b[1;32m      4\u001b[0m \u001b[0;32mimport\u001b[0m \u001b[0mtempfile\u001b[0m\u001b[0;34m,\u001b[0m \u001b[0mos\u001b[0m\u001b[0;34m\u001b[0m\u001b[0;34m\u001b[0m\u001b[0m\n\u001b[1;32m      5\u001b[0m \u001b[0;34m\u001b[0m\u001b[0m\n",
            "\u001b[0;31mModuleNotFoundError\u001b[0m: No module named 'py3Dmol'",
            "",
            "\u001b[0;31m---------------------------------------------------------------------------\u001b[0;32m\nNOTE: If your import is failing due to a missing package, you can\nmanually install dependencies using either !pip or !apt.\n\nTo view examples of installing some common dependencies, click the\n\"Open Examples\" button below.\n\u001b[0;31m---------------------------------------------------------------------------\u001b[0m\n"
          ],
          "errorDetails": {
            "actions": [
              {
                "action": "open_url",
                "actionText": "Open Examples",
                "url": "/notebooks/snippets/importing_libraries.ipynb"
              }
            ]
          }
        }
      ]
    },
    {
      "cell_type": "markdown",
      "source": [
        "The following is only useful if you want to assess the prediction, which is not the topic here, but something you can do and discuss with the instructor if you want."
      ],
      "metadata": {
        "id": "HytMeBIdTkZ1"
      }
    },
    {
      "cell_type": "markdown",
      "source": [],
      "metadata": {
        "id": "hJo-o8X_TkFz"
      }
    },
    {
      "cell_type": "code",
      "source": [
        "#@title plot confidence (optional)\n",
        "\n",
        "dpi = 100 #@param {type:\"integer\"}\n",
        "\n",
        "def plot_ticks(Ls):\n",
        "  Ln = sum(Ls)\n",
        "  L_prev = 0\n",
        "  for L_i in Ls[:-1]:\n",
        "    L = L_prev + L_i\n",
        "    L_prev += L_i\n",
        "    plt.plot([0,Ln],[L,L],color=\"black\")\n",
        "    plt.plot([L,L],[0,Ln],color=\"black\")\n",
        "  ticks = np.cumsum([0]+Ls)\n",
        "  ticks = (ticks[1:] + ticks[:-1])/2\n",
        "  plt.yticks(ticks,alphabet_list[:len(ticks)])\n",
        "\n",
        "def plot_confidence(O, Ls=None, dpi=100):\n",
        "  if \"lm_contacts\" in O:\n",
        "    plt.figure(figsize=(20,4), dpi=dpi)\n",
        "    plt.subplot(1,4,1)\n",
        "  else:\n",
        "    plt.figure(figsize=(15,4), dpi=dpi)\n",
        "    plt.subplot(1,3,1)\n",
        "\n",
        "  plt.title('Predicted lDDT')\n",
        "  plt.plot(O[\"plddt\"])\n",
        "  if Ls is not None:\n",
        "    L_prev = 0\n",
        "    for L_i in Ls[:-1]:\n",
        "      L = L_prev + L_i\n",
        "      L_prev += L_i\n",
        "      plt.plot([L,L],[0,100],color=\"black\")\n",
        "  plt.xlim(0,O[\"plddt\"].shape[0])\n",
        "  plt.ylim(0,100)\n",
        "  plt.ylabel('plDDT')\n",
        "  plt.xlabel('position')\n",
        "  plt.subplot(1,4 if \"lm_contacts\" in O else 3,2)\n",
        "\n",
        "  plt.title('Predicted Aligned Error')\n",
        "  Ln = O[\"pae\"].shape[0]\n",
        "  plt.imshow(O[\"pae\"],cmap=\"bwr\",vmin=0,vmax=30,extent=(0, Ln, Ln, 0))\n",
        "  if Ls is not None and len(Ls) > 1: plot_ticks(Ls)\n",
        "  plt.colorbar()\n",
        "  plt.xlabel('Scored residue')\n",
        "  plt.ylabel('Aligned residue')\n",
        "\n",
        "  if \"lm_contacts\" in O:\n",
        "    plt.subplot(1,4,3)\n",
        "    plt.title(\"contacts from LM\")\n",
        "    plt.imshow(O[\"lm_contacts\"],cmap=\"Greys\",vmin=0,vmax=1,extent=(0, Ln, Ln, 0))\n",
        "    if Ls is not None and len(Ls) > 1: plot_ticks(Ls)\n",
        "    plt.subplot(1,4,4)\n",
        "  else:\n",
        "    plt.subplot(1,3,3)\n",
        "  plt.title(\"contacts from Structure Module\")\n",
        "  plt.imshow(O[\"sm_contacts\"],cmap=\"Greys\",vmin=0,vmax=1,extent=(0, Ln, Ln, 0))\n",
        "  if Ls is not None and len(Ls) > 1: plot_ticks(Ls)\n",
        "  return plt\n",
        "\n",
        "plot_confidence(O, Ls=lengths, dpi=dpi)\n",
        "plt.savefig(f'{prefix}.png',bbox_inches='tight')\n",
        "plt.show()"
      ],
      "metadata": {
        "cellView": "form",
        "id": "HGFBl0QYYQpR",
        "colab": {
          "base_uri": "https://localhost:8080/",
          "height": 216
        },
        "outputId": "5e91166e-6db6-4f76-d57b-659c990ad8bc"
      },
      "execution_count": 2,
      "outputs": [
        {
          "output_type": "error",
          "ename": "NameError",
          "evalue": "name 'O' is not defined",
          "traceback": [
            "\u001b[0;31m---------------------------------------------------------------------------\u001b[0m",
            "\u001b[0;31mNameError\u001b[0m                                 Traceback (most recent call last)",
            "\u001b[0;32m/tmp/ipython-input-3478134382.py\u001b[0m in \u001b[0;36m<cell line: 0>\u001b[0;34m()\u001b[0m\n\u001b[1;32m     58\u001b[0m   \u001b[0;32mreturn\u001b[0m \u001b[0mplt\u001b[0m\u001b[0;34m\u001b[0m\u001b[0;34m\u001b[0m\u001b[0m\n\u001b[1;32m     59\u001b[0m \u001b[0;34m\u001b[0m\u001b[0m\n\u001b[0;32m---> 60\u001b[0;31m \u001b[0mplot_confidence\u001b[0m\u001b[0;34m(\u001b[0m\u001b[0mO\u001b[0m\u001b[0;34m,\u001b[0m \u001b[0mLs\u001b[0m\u001b[0;34m=\u001b[0m\u001b[0mlengths\u001b[0m\u001b[0;34m,\u001b[0m \u001b[0mdpi\u001b[0m\u001b[0;34m=\u001b[0m\u001b[0mdpi\u001b[0m\u001b[0;34m)\u001b[0m\u001b[0;34m\u001b[0m\u001b[0;34m\u001b[0m\u001b[0m\n\u001b[0m\u001b[1;32m     61\u001b[0m \u001b[0mplt\u001b[0m\u001b[0;34m.\u001b[0m\u001b[0msavefig\u001b[0m\u001b[0;34m(\u001b[0m\u001b[0;34mf'{prefix}.png'\u001b[0m\u001b[0;34m,\u001b[0m\u001b[0mbbox_inches\u001b[0m\u001b[0;34m=\u001b[0m\u001b[0;34m'tight'\u001b[0m\u001b[0;34m)\u001b[0m\u001b[0;34m\u001b[0m\u001b[0;34m\u001b[0m\u001b[0m\n\u001b[1;32m     62\u001b[0m \u001b[0mplt\u001b[0m\u001b[0;34m.\u001b[0m\u001b[0mshow\u001b[0m\u001b[0;34m(\u001b[0m\u001b[0;34m)\u001b[0m\u001b[0;34m\u001b[0m\u001b[0;34m\u001b[0m\u001b[0m\n",
            "\u001b[0;31mNameError\u001b[0m: name 'O' is not defined"
          ]
        }
      ]
    },
    {
      "cell_type": "markdown",
      "source": [
        "If you also want to download the prediction to look at in pymol or any other viewer on your local computer, you can do that as well."
      ],
      "metadata": {
        "id": "zYoonGWjTy1p"
      }
    },
    {
      "cell_type": "code",
      "source": [
        "#@title download predictions\n",
        "from google.colab import files\n",
        "os.system(f\"zip {ID}.zip {ID}/*\")\n",
        "files.download(f'{ID}.zip')"
      ],
      "metadata": {
        "cellView": "form",
        "id": "hkMp_ZwRYfAQ",
        "colab": {
          "base_uri": "https://localhost:8080/",
          "height": 17
        },
        "outputId": "acf554f3-9884-40d1-8fe7-d0e8a9bceb55"
      },
      "execution_count": null,
      "outputs": [
        {
          "output_type": "display_data",
          "data": {
            "text/plain": [
              "<IPython.core.display.Javascript object>"
            ],
            "application/javascript": [
              "\n",
              "    async function download(id, filename, size) {\n",
              "      if (!google.colab.kernel.accessAllowed) {\n",
              "        return;\n",
              "      }\n",
              "      const div = document.createElement('div');\n",
              "      const label = document.createElement('label');\n",
              "      label.textContent = `Downloading \"${filename}\": `;\n",
              "      div.appendChild(label);\n",
              "      const progress = document.createElement('progress');\n",
              "      progress.max = size;\n",
              "      div.appendChild(progress);\n",
              "      document.body.appendChild(div);\n",
              "\n",
              "      const buffers = [];\n",
              "      let downloaded = 0;\n",
              "\n",
              "      const channel = await google.colab.kernel.comms.open(id);\n",
              "      // Send a message to notify the kernel that we're ready.\n",
              "      channel.send({})\n",
              "\n",
              "      for await (const message of channel.messages) {\n",
              "        // Send a message to notify the kernel that we're ready.\n",
              "        channel.send({})\n",
              "        if (message.buffers) {\n",
              "          for (const buffer of message.buffers) {\n",
              "            buffers.push(buffer);\n",
              "            downloaded += buffer.byteLength;\n",
              "            progress.value = downloaded;\n",
              "          }\n",
              "        }\n",
              "      }\n",
              "      const blob = new Blob(buffers, {type: 'application/binary'});\n",
              "      const a = document.createElement('a');\n",
              "      a.href = window.URL.createObjectURL(blob);\n",
              "      a.download = filename;\n",
              "      div.appendChild(a);\n",
              "      a.click();\n",
              "      div.remove();\n",
              "    }\n",
              "  "
            ]
          },
          "metadata": {}
        },
        {
          "output_type": "display_data",
          "data": {
            "text/plain": [
              "<IPython.core.display.Javascript object>"
            ],
            "application/javascript": [
              "download(\"download_960fe1e8-e8a4-422f-a0ca-ae996b4ef84c\", \"test_a2395.zip\", 45398)"
            ]
          },
          "metadata": {}
        }
      ]
    }
  ]
}